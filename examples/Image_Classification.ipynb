{
  "nbformat": 4,
  "nbformat_minor": 0,
  "metadata": {
    "colab": {
      "name": "Single Trial EEG Classification using STM.ipynb",
      "provenance": [],
      "collapsed_sections": []
    },
    "kernelspec": {
      "name": "python3",
      "display_name": "Python 3"
    },
    "language_info": {
      "name": "python"
    }
  },
  "cells": [
    {
      "cell_type": "markdown",
      "metadata": {
        "id": "RZWwlt-jzir4"
      },
      "source": [
        "## Support Tensor machine\n",
        "\n",
        "Given a set of training samples $\\{X_i, y_i\\}$, $i= 1,···, m$, where $X_i$ is the data point in order-2 tensor space, $X_i \\in R^{n_1} \\times  R^{n_2}$ and $y_i \\in \\{−1,1\\}$ is the label associated with $X_i$. Find a tensor classifier $f(X) =u^TXv+b$ such that the two classes can be separated with maximum margin.\n",
        "\n",
        "\n",
        "**Algorithm**: Train Support Tensor Machine\n",
        "\n",
        "**Input**: $\\{X_i, y_i\\}$, $i= 1,···, m$. $X_i \\in R^{n_1} \\times  R^{n_2}$ and $y_i \\in \\{−1,1\\}$ is the label associated with $X_i$. $maxIter$ is an integer greater than 0. $C_1$, and $C_2$ are regularization paramaters, real values greater than 0. And $tol$, is a tolerance for convergence.\n",
        "\n",
        "**Output**: $u_{opt} \\in R^{n_1}$, $v_{opt} \\in R^{n_2}$ and $b_{opt} \\in R$ are parameters for decision function $f(X) =u^T_{opt}Xv_{opt}+b_{opt}$.\n",
        "\n",
        "1. **Initialize** $u_{opt} = (1,...,1)^T \\in R^{n_1}$ and $v_{opt} = (1,...,1)^T \\in R^{n_2}$\n",
        "2. **for** $k=1$ **to** $maxIter$ **do**:\n",
        "3. ---- $x^{u}_{i} = X^{T}_{i}u_{opt}$\n",
        "4. ---- $v^{k}_{opt}, b^{k}_{opt} = $ **LinearSVM**$(\\{x^{u}_{i},y_i\\}, C_1)$\n",
        "5. ---- $x^{v}_{i} = X_{i}v_{opt}$\n",
        "6. ---- $u^{k}_{opt}, b^{k}_{opt} = $ **LinearSVM**$(\\{x^{v}_{i},y_i\\}, C_2)$\n",
        "7. ---- **if** $|u^{k}_{opt} - u_{opt}| < tol$ **and** $|v^{k}_{opt} - v_{opt}| < tol$: \n",
        "8. -------- **break**\n",
        "9. ---- **end if**\n",
        "10. ---- $u_{opt} = u^{k}_{opt}$\n",
        "11. ---- $v_{opt} = v^{k}_{opt}$\n",
        "12. **end for**\n",
        "13. **return** $u_{opt}$, $v_{opt}$, $b_{opt}$"
      ]
    },
    {
      "cell_type": "code",
      "metadata": {
        "id": "NaoUd5DozOWB",
        "colab": {
          "base_uri": "https://localhost:8080/"
        },
        "outputId": "edbe6488-2c69-4e15-9bbd-2ae72a73632f"
      },
      "source": [
        "!pip3 install mne\n",
        "!pip3 install wget"
      ],
      "execution_count": 1,
      "outputs": [
        {
          "output_type": "stream",
          "text": [
            "Collecting mne\n",
            "\u001b[?25l  Downloading https://files.pythonhosted.org/packages/60/f7/2bf5de3fad42b66d00ee27539bc3be0260b4e66fdecc12f740cdf2daf2e7/mne-0.23.0-py3-none-any.whl (6.9MB)\n",
            "\u001b[K     |████████████████████████████████| 7.0MB 4.3MB/s \n",
            "\u001b[?25hRequirement already satisfied: scipy>=1.1.0 in /usr/local/lib/python3.7/dist-packages (from mne) (1.4.1)\n",
            "Requirement already satisfied: numpy>=1.15.4 in /usr/local/lib/python3.7/dist-packages (from mne) (1.19.5)\n",
            "Installing collected packages: mne\n",
            "Successfully installed mne-0.23.0\n",
            "Collecting wget\n",
            "  Downloading https://files.pythonhosted.org/packages/47/6a/62e288da7bcda82b935ff0c6cfe542970f04e29c756b0e147251b2fb251f/wget-3.2.zip\n",
            "Building wheels for collected packages: wget\n",
            "  Building wheel for wget (setup.py) ... \u001b[?25l\u001b[?25hdone\n",
            "  Created wheel for wget: filename=wget-3.2-cp37-none-any.whl size=9675 sha256=2cf3feaab5906ec925aa3368e06546a8c274b34842b92c98ffebd4d959f7acb6\n",
            "  Stored in directory: /root/.cache/pip/wheels/40/15/30/7d8f7cea2902b4db79e3fea550d7d7b85ecb27ef992b618f3f\n",
            "Successfully built wget\n",
            "Installing collected packages: wget\n",
            "Successfully installed wget-3.2\n"
          ],
          "name": "stdout"
        }
      ]
    },
    {
      "cell_type": "code",
      "metadata": {
        "id": "xRR-Opzm3cHF"
      },
      "source": [
        "import mne\n",
        "from scipy import stats\n",
        "from mne.stats import bonferroni_correction, fdr_correction\n",
        "from mne import Epochs, pick_types, events_from_annotations\n",
        "from mne.channels import make_standard_montage\n",
        "import pickle\n",
        "import wget\n",
        "import pandas as pd\n",
        "import zipfile\n",
        "import os\n",
        "import shutil\n",
        "import numpy as np\n",
        "import time\n",
        "from numpy.fft import rfft\n",
        "from scipy import signal\n",
        "import plotly.graph_objects as go\n",
        "from plotly.subplots import make_subplots\n",
        "from itertools import combinations\n",
        "from sklearn.model_selection import ShuffleSplit, cross_val_score"
      ],
      "execution_count": 2,
      "outputs": []
    },
    {
      "cell_type": "code",
      "metadata": {
        "id": "knxF8LqMmqJB"
      },
      "source": [
        "\"\"\"Module for classification function.\"\"\"\n",
        "import numpy as np\n",
        "\n",
        "from scipy import stats\n",
        "\n",
        "from sklearn.base import BaseEstimator, ClassifierMixin, TransformerMixin\n",
        "from sklearn.multiclass import OneVsRestClassifier\n",
        "from sklearn.utils.extmath import softmax\n",
        "from sklearn.linear_model import LogisticRegression\n",
        "from sklearn.svm import LinearSVC\n",
        "from sklearn.pipeline import make_pipeline\n",
        "from joblib import Parallel, delayed\n",
        "\n",
        "#PARAMETERS Linear SVM\n",
        "#C: float, default=1.0\n",
        "#Regularization parameter. The strength of the regularization \n",
        "#is inversely proportional to C. Must be strictly positive.\n",
        "\n",
        "#penalty: {‘l1’, ‘l2’}, default=’l2’\n",
        "#Specifies the norm used in the penalization. \n",
        "#The ‘l2’ penalty is the standard used in SVC. \n",
        "#The ‘l1’ leads to coef_ vectors that are sparse.\n",
        "\n",
        "#loss: {‘hinge’, ‘squared_hinge’}, default=’squared_hinge’\n",
        "#Specifies the loss function. ‘hinge’ is the standard SVM \n",
        "#loss (used e.g. by the SVC class) while ‘squared_hinge’ is \n",
        "#the square of the hinge loss. The combination of penalty='l1' \n",
        "#and loss='hinge' is not supported.\n",
        "\n",
        "#tol: float, default=1e-4\n",
        "#Tolerance for stopping criteria.\n",
        "\n",
        "#dual: bool, default=True\n",
        "#Select the algorithm to either solve the dual or primal optimization problem. \n",
        "#Prefer dual=False when n_samples > n_features.\n",
        "\n",
        "\n",
        "class STM(BaseEstimator, ClassifierMixin, TransformerMixin):\n",
        "\n",
        "    \"\"\"Classification by Support Tensor Machine.\n",
        "    \"\"\"\n",
        "\n",
        "    def __init__(self, C1=1.0, C2=1.0, maxIter=30, tolSTM=1e-4, penalty = 'l2', dual = True, tol=1e-4,loss = 'squared_hinge', maxIterSVM=100000, n_jobs=1):\n",
        "        \"\"\"Init.\"\"\"\n",
        "        # store params for cloning purpose\n",
        "        self.C1 = C1\n",
        "        self.C2 = C2\n",
        "        self.dual = dual\n",
        "        self.penalty = penalty\n",
        "        self.tolSTM = tolSTM\n",
        "        self.tol = tol\n",
        "        self.loss = loss\n",
        "        self.maxIter = maxIter\n",
        "        self.maxIterSVM = maxIterSVM\n",
        "        self.n_jobs = n_jobs\n",
        "\n",
        "    def fit(self, X, y, sample_weight=None):\n",
        "        \"\"\"Fit (estimates) the u and v.\n",
        "        Parameters\n",
        "        ----------\n",
        "        X : ndarray, shape (n_trials, n_channels, n_samples)\n",
        "            ndarray of matrices.\n",
        "        y : ndarray shape (n_trials, 1)\n",
        "            labels corresponding to each trial.\n",
        "        sample_weight : None | ndarray shape (n_trials, 1)\n",
        "            the weights of each sample. if None, each sample is treated with\n",
        "            equal weights.\n",
        "        Returns\n",
        "        -------\n",
        "        self : STM instance\n",
        "            The STM instance.\n",
        "        \"\"\"\n",
        "        self.classes_ = sorted([round(val) for val in np.unique(y)])\n",
        "        self.dictclassestoval = dict(zip(self.classes_,[-1,+1]))\n",
        "        self.dictvaltoclasses = dict(zip([-1,+1],self.classes_))\n",
        "        y = np.array([self.dictclassestoval[round(val)] for val in y])\n",
        "\n",
        "        if sample_weight is None:\n",
        "            sample_weight = np.ones(X.shape[0])\n",
        "\n",
        "        #if self.n_jobs == 1:\n",
        "        #STM: Support Tensor Machine\n",
        "        n_channels = X.shape[1]\n",
        "        n_trials = X.shape[0]\n",
        "        n_samples = X.shape[2]\n",
        "        u = np.ones(n_channels)\n",
        "        v = np.ones(n_samples)\n",
        "        #print(u.shape)\n",
        "\n",
        "        totaliterations = self.maxIter\n",
        "        for i in range(totaliterations):\n",
        "          print('%d / %d'%(i+1,totaliterations))\n",
        "          # First SVM on time\n",
        "          X_t = []\n",
        "          for i in range(n_trials):\n",
        "            x = X[i,:,:].T.dot(u)\n",
        "            X_t.append(x)\n",
        "          X_t = np.stack(X_t,axis=0)\n",
        "          #print('X_t.shape, y.shape', X_t.shape, y.shape)\n",
        "\n",
        "          clf1 = LinearSVC(C=self.C1, dual=self.dual, penalty=self.penalty, loss=self.loss, tol=self.tol, max_iter=self.maxIterSVM)\n",
        "          clf1.fit(X_t, y)\n",
        "          coef_ = clf1.coef_\n",
        "          intercept_ = clf1.intercept_\n",
        "          n_iter_ = clf1.n_iter_\n",
        "          #print('n_iter', n_iter_)\n",
        "\n",
        "          v_next = coef_.copy()\n",
        "          v_intercept = intercept_\n",
        "          deltav = np.linalg.norm(v - v_next)\n",
        "          v = v_next.copy()\n",
        "          v_iter = n_iter_\n",
        "          #print('v.shape',v.shape)\n",
        "\n",
        "          # Second SVM on channel\n",
        "          X_c = []\n",
        "          for i in range(n_trials):\n",
        "            x = X[i,:,:].dot(v.T)[:,0]\n",
        "            X_c.append(x)\n",
        "          X_c = np.stack(X_c,axis=0)\n",
        "          #print('X_c.shape, y.shape', X_c.shape, y.shape)\n",
        "\n",
        "          clf2 = LinearSVC(C=self.C2, dual=self.dual, penalty=self.penalty, loss=self.loss, tol=self.tol, max_iter=self.maxIterSVM)\n",
        "          clf2.fit(X_c, y)\n",
        "          coef_ = clf2.coef_\n",
        "          intercept_ = clf2.intercept_\n",
        "          n_iter_ = clf2.n_iter_\n",
        "          #print('n_iter', n_iter_)\n",
        "\n",
        "          u_next = coef_.copy()\n",
        "          u_intercept = intercept_\n",
        "          deltau = np.linalg.norm(u - u_next)\n",
        "          u = u_next.copy()\n",
        "          u_iter = n_iter_\n",
        "          #print('u.shape',u.shape)\n",
        "          u = np.squeeze(u)\n",
        "          \n",
        "          self.deltau_ = deltau\n",
        "          self.deltav_ = deltav\n",
        "          print(\"deltau, deltav\", deltau, deltav)\n",
        "          if self.deltau_ < self.tolSTM and self.deltav_ < self.tolSTM:\n",
        "            break\n",
        "        self.u_opt_ = u_next.copy()\n",
        "        self.v_opt_ = v_next.copy()\n",
        "        self.intercept_ = u_intercept[0]\n",
        "\n",
        "        X_pred = []\n",
        "        for i in range(X.shape[0]):\n",
        "          x = X[i,:,:]\n",
        "          x_v = x.dot(self.v_opt_.T)\n",
        "          x_u = float(self.u_opt_.dot(x_v))\n",
        "          f = x_u + self.intercept_\n",
        "          X_pred.append(f)\n",
        "        X_pred = np.array(X_pred).reshape(X.shape[0],1)\n",
        "        clf_log = LogisticRegression(random_state=0).fit(X_pred, y)\n",
        "        self.LogisticRegression = clf_log\n",
        "        \n",
        "        return self\n",
        "\n",
        "    def predict(self, X):\n",
        "        \"\"\"get the predictions.\n",
        "        Parameters\n",
        "        ----------\n",
        "        X : ndarray, shape (n_trials, n_channels, n_channels)\n",
        "            ndarray of SPD matrices.\n",
        "        Returns\n",
        "        -------\n",
        "        pred : ndarray of int, shape (n_trials, 1)\n",
        "            the prediction for each trials according to the closest centroid.\n",
        "        \"\"\"\n",
        "        pred = []\n",
        "        for i in range(X.shape[0]):\n",
        "          x = X[i,:,:]\n",
        "          x_v = x.dot(self.v_opt_.T)\n",
        "          x_u = float(self.u_opt_.dot(x_v))\n",
        "          f = round(np.sign(x_u + self.intercept_))\n",
        "          pred.append(self.dictvaltoclasses[f])      \n",
        "        return np.array(pred)\n",
        "\n",
        "    def decision_function(self, X):\n",
        "        \"\"\"get the predictions.\n",
        "        Parameters\n",
        "        ----------\n",
        "        X : ndarray, shape (n_trials, n_channels, n_channels)\n",
        "            ndarray of SPD matrices.\n",
        "        Returns\n",
        "        -------\n",
        "        pred : ndarray of int, shape (n_trials, 1)\n",
        "            the prediction for each trials according to the closest centroid.\n",
        "        \"\"\"\n",
        "        pred = []\n",
        "        for i in range(X.shape[0]):\n",
        "          x = X[i,:,:]\n",
        "          x_v = x.dot(self.v_opt_.T)\n",
        "          x_u = float(self.u_opt_.dot(x_v))\n",
        "          f = x_u + self.intercept_\n",
        "          pred.append(f)      \n",
        "        return np.array(pred)\n",
        "\n",
        "    def fit_predict(self, X, y):\n",
        "        \"\"\"Fit and predict in one function.\"\"\"\n",
        "        self.fit(X, y)\n",
        "        return self.predict(X)\n",
        "\n",
        "    def predict_proba(self, X):\n",
        "        X_pred = []\n",
        "        for i in range(X.shape[0]):\n",
        "          x = X[i,:,:]\n",
        "          x_v = x.dot(self.v_opt_.T)\n",
        "          x_u = float(self.u_opt_.dot(x_v))\n",
        "          f = x_u + self.intercept_\n",
        "          X_pred.append(f)\n",
        "        X_pred = np.array(X_pred).reshape(X.shape[0],1)\n",
        "        y_proba = self.LogisticRegression.predict_proba(X_pred)\n",
        "        return y_proba"
      ],
      "execution_count": 3,
      "outputs": []
    },
    {
      "cell_type": "code",
      "metadata": {
        "id": "e4czDqxo3eD3"
      },
      "source": [
        "from scipy.signal import butter, lfilter, filtfilt\n",
        "\n",
        "def butter_bandpass(lowcut, highcut, fs, order=5):\n",
        "    nyq = 0.5 * fs\n",
        "    low = lowcut / nyq\n",
        "    high = highcut / nyq\n",
        "    b, a = butter(order, [low, high], btype='band')\n",
        "    return b, a\n",
        "\n",
        "\n",
        "def butter_bandpass_filter(data, lowcut, highcut, fs, order=5):\n",
        "    b, a = butter_bandpass(lowcut, highcut, fs, order=order)\n",
        "    y = filtfilt(b, a, data)\n",
        "    return y"
      ],
      "execution_count": 4,
      "outputs": []
    },
    {
      "cell_type": "code",
      "metadata": {
        "id": "4-znvoXH3gav"
      },
      "source": [
        "#Retrived from: http://www.jtrive.com/the-empirical-bootstrap-for-confidence-intervals-in-python.html\n",
        "def bootstrap(data, n=1000, func=np.mean):\n",
        "    \"\"\"\n",
        "    Generate `n` bootstrap samples, evaluating `func`\n",
        "    at each resampling. `bootstrap` returns a function,\n",
        "    which can be called to obtain confidence intervals\n",
        "    of interest.\n",
        "    \"\"\"\n",
        "    simulations = list()\n",
        "    sample_size = len(data)\n",
        "    xbar_init = np.mean(data)\n",
        "    for c in range(n):\n",
        "        itersample = np.random.choice(data, size=sample_size, replace=True)\n",
        "        simulations.append(func(itersample))\n",
        "    simulations.sort()\n",
        "    def ci(p):\n",
        "        \"\"\"\n",
        "        Return 2-sided symmetric confidence interval specified\n",
        "        by p.\n",
        "        \"\"\"\n",
        "        u_pval = (1+p)/2.\n",
        "        l_pval = (1-u_pval)\n",
        "        l_indx = int(np.floor(n*l_pval))\n",
        "        u_indx = int(np.floor(n*u_pval))\n",
        "        return(simulations[l_indx],simulations[u_indx])\n",
        "    return(ci)"
      ],
      "execution_count": 5,
      "outputs": []
    },
    {
      "cell_type": "code",
      "metadata": {
        "id": "PtQ1tKV73iUM"
      },
      "source": [
        "def CARFiltering(df, channels_interest):\n",
        "  dictData = df.to_dict(orient='list')\n",
        "  for i in range(len(df)):\n",
        "    meanVal = float(np.mean([float(dictData[col][i]) for col in channels_interest]))\n",
        "    for col in channels_interest:\n",
        "      dictData[col][i] = dictData[col][i] - meanVal\n",
        "  df = pd.DataFrame(dictData)\n",
        "  return df.copy()"
      ],
      "execution_count": 6,
      "outputs": []
    },
    {
      "cell_type": "code",
      "metadata": {
        "id": "NdTbqK5Q3lMM"
      },
      "source": [
        "def getDFData(URL, User):\n",
        "  #Data Description: https://lampx.tugraz.at/~bci/database/001-2019/dataset_description_v1-1.pdf\n",
        "  #Offline: Type run and event codes\n",
        "  dictTypeRun =  {'Run 1':'EyeMovements',\n",
        "                  'Run 2':'Rest',\n",
        "                  'Run 3':'AttemptedMovement',\n",
        "                  'Run 4':'AttemptedMovement',\n",
        "                  'Run 5':'AttemptedMovement',\n",
        "                  'Run 6':'AttemptedMovement',\n",
        "                  'Run 7':'AttemptedMovement',\n",
        "                  'Run 8':'EyeMovements',\n",
        "                  'Run 9':'Rest',\n",
        "                  'Run 10':'AttemptedMovement',\n",
        "                  'Run 11':'AttemptedMovement',\n",
        "                  'Run 12':'AttemptedMovement',\n",
        "                  'Run 13':'AttemptedMovement',\n",
        "                  'Run 14':'EyeMovements',\n",
        "                  'Run 15':'Rest'\n",
        "                 }\n",
        "  dictEvents = dict(TrialStart = 0x300,\n",
        "                    Beep = 0x311,\n",
        "                    FixationCross = 0x312,\n",
        "                    SupinationClassCue = 0x308,\n",
        "                    PronationClassCue = 0x309,\n",
        "                    HandOpenClassCue = 0x30B,\n",
        "                    PalmarGraspClassCue = 0x39D,\n",
        "                    LateralGraspClassCue = 0x39E)\n",
        "  dictEvents = dict(zip([str(val) for val in list(dictEvents.values())],list(dictEvents.keys())))\n",
        "  dictColNames = dict(zip(list(dictEvents.keys()), list(range(len(list(dictEvents.keys()))))))\n",
        "  \n",
        "  #Unzip on User folder\n",
        "  try:\n",
        "    shutil.rmtree(User)\n",
        "    os.mkdir(User)\n",
        "  except:\n",
        "    os.mkdir(User)  \n",
        "  \n",
        "  \n",
        "  if not os.path.exists(User+'.zip'):\n",
        "    # Download file\n",
        "    print('Downloading: ',User,' from ',URL+User+'.zip')\n",
        "    filename = wget.download(URL+User+'.zip')\n",
        "  else:\n",
        "    filename = User+'.zip'\n",
        "\n",
        "\n",
        "  \n",
        "  with zipfile.ZipFile(filename, 'r') as zip_ref:\n",
        "    zip_ref.extractall(User)\n",
        "  RunFiles = [os.path.join(User,f) for f in os.listdir(User) if os.path.isfile(os.path.join(User, f)) and f.lower().endswith('.gdf')]\n",
        "  \n",
        "  #Prepare DataFrame\n",
        "  listDFRaw = []\n",
        "  typeRun = []\n",
        "  numRun = []\n",
        "  samplingFrequencyList = []\n",
        "\n",
        "\n",
        "  \n",
        "  raw_all = mne.concatenate_raws([mne.io.read_raw_gdf(f, preload=True) for f in RunFiles])\n",
        "  for run in dictTypeRun:\n",
        "    rfile = None\n",
        "    for runfile in RunFiles:\n",
        "      if run in runfile:\n",
        "        rfile = runfile\n",
        "        break\n",
        "    if rfile is None:\n",
        "      continue\n",
        "    \n",
        "    raw = mne.io.read_raw_gdf(rfile)\n",
        "    \n",
        "    samplingFrequencyList.append(raw.info['sfreq'])\n",
        "    ch_names = raw.info['ch_names']\n",
        "    dfData = pd.DataFrame(data=raw.get_data().T,columns=ch_names)\n",
        "    dfData = dfData.dropna(how='all')\n",
        "    dfData.fillna(method='bfill',inplace=True)\n",
        "    dfData = dfData.reset_index()\n",
        "    dfData = dfData[ch_names]\n",
        "\n",
        "    events, dictEventsRun = mne.events_from_annotations(raw)\n",
        "    dictEventsRun = dict(zip([val for val in list(dictEventsRun.values())],list(dictEventsRun.keys())))\n",
        "    sampleTime, eventNum = list(events[:,0]), list(events[:,2])\n",
        "    listEventsPerColumn = [[0]*len(dfData)]*len(dictColNames)\n",
        "    listEventsPerColumn = np.array(listEventsPerColumn)\n",
        "    for s, e in zip(sampleTime, eventNum):\n",
        "      if dictEventsRun[e] in dictColNames:\n",
        "        listEventsPerColumn[dictColNames[dictEventsRun[e]],s] = 1\n",
        "    dfEvents = pd.DataFrame(data=listEventsPerColumn.T,columns=[dictEvents[val] for val in list(dictColNames.keys())])\n",
        "    dfRaw = pd.concat([dfEvents.copy(),dfData.copy()],axis=1,ignore_index=True)\n",
        "    dfRaw.columns = [dictEvents[val] for val in list(dictColNames.keys())] + ch_names\n",
        "    \n",
        "\n",
        "    listDFRaw.append(dfRaw.copy())\n",
        "    typeRun += [dictTypeRun[run]]*len(dfData)\n",
        "    numRun += [run]*len(dfData)\n",
        "\n",
        "  shutil.rmtree(User) \n",
        "\n",
        "  #Build DataFrame and return\n",
        "  df = pd.concat(listDFRaw, ignore_index=True)\n",
        "  df['TypeRun'] = typeRun\n",
        "  df['Run'] = numRun\n",
        "  df = df[['Run','TypeRun']+[dictEvents[val] for val in list(dictColNames.keys())]+ch_names]\n",
        "  return df, list(set(samplingFrequencyList)), raw_all"
      ],
      "execution_count": 7,
      "outputs": []
    },
    {
      "cell_type": "markdown",
      "metadata": {
        "id": "2wnSCFVt3_mo"
      },
      "source": [
        "## 1. Setting"
      ]
    },
    {
      "cell_type": "code",
      "metadata": {
        "colab": {
          "base_uri": "https://localhost:8080/"
        },
        "id": "DSK_dvab6oIi",
        "outputId": "c78a19a3-d335-4727-ec48-e59e6ed02522"
      },
      "source": [
        "dictEvents = dict(TrialStart = 0x300,\n",
        "                  Beep = 0x311,\n",
        "                  FixationCross = 0x312,\n",
        "                  SupinationClassCue = 0x308,\n",
        "                  PronationClassCue = 0x309,\n",
        "                  HandOpenClassCue = 0x30B,\n",
        "                  PalmarGraspClassCue = 0x39D,\n",
        "                  LateralGraspClassCue = 0x39E)\n",
        "dictEvents"
      ],
      "execution_count": 8,
      "outputs": [
        {
          "output_type": "execute_result",
          "data": {
            "text/plain": [
              "{'Beep': 785,\n",
              " 'FixationCross': 786,\n",
              " 'HandOpenClassCue': 779,\n",
              " 'LateralGraspClassCue': 926,\n",
              " 'PalmarGraspClassCue': 925,\n",
              " 'PronationClassCue': 777,\n",
              " 'SupinationClassCue': 776,\n",
              " 'TrialStart': 768}"
            ]
          },
          "metadata": {
            "tags": []
          },
          "execution_count": 8
        }
      ]
    },
    {
      "cell_type": "code",
      "metadata": {
        "id": "u92Vpst_4Bgp"
      },
      "source": [
        "typeRun = 'AttemptedMovement'\n",
        "typeRest = 'Rest'\n",
        "eeg_channels = ['AFz', 'F3', 'F1', 'Fz', 'F2', 'F4', 'FFC5h', 'FFC3h', 'FFC1h', 'FFC2h', \n",
        "                'FFC4h', 'FFC6h', 'FC5', 'FC3', 'FC1', 'FCz', 'FC2', 'FC4', 'FC6', 'FCC5h', \n",
        "                'FCC3h', 'FCC1h', 'FCC2h', 'FCC4h', 'FCC6h', 'C5', 'C3', 'C1', 'Cz', 'C2', \n",
        "                'C4', 'C6', 'CCP5h', 'CCP3h', 'CCP1h', 'CCP2h', 'CCP4h', 'CCP6h', 'CP5', \n",
        "                'CP3', 'CP1', 'CPz', 'CP2', 'CP4', 'CP6', 'CPP5h', 'CPP3h', 'CPP1h', 'CPP2h', \n",
        "                'CPP4h', 'CPP6h', 'P5', 'P3', 'P1', 'Pz', 'P2', 'P4', 'P6', 'PPO1h', 'PPO2h', 'POz']\n",
        "\n",
        "movementTypes = ['SupinationClassCue','PronationClassCue','HandOpenClassCue', 'PalmarGraspClassCue','LateralGraspClassCue']\n",
        "colors = ['red','green', 'blue', 'indigo','yellow','gray']\n",
        "lowcut = 0.3\n",
        "highcut = 3\n",
        "butter_order = 4\n",
        "tmin = -2.0\n",
        "tmax = 3.0\n",
        "bootstrapiterations = 100\n",
        "confidenceinterval = .95\n",
        "channel = 'C2'\n",
        "Users = ['P01','P02','P03','P04','P05','P06','P07','P08','P09','P10']"
      ],
      "execution_count": 9,
      "outputs": []
    },
    {
      "cell_type": "code",
      "metadata": {
        "id": "n3CO0XD54xZ5",
        "colab": {
          "base_uri": "https://localhost:8080/"
        },
        "outputId": "80b0344f-2d8e-4a56-c5cc-112b937462e0"
      },
      "source": [
        "df, sfreq, raw_mne = getDFData(URL='http://bnci-horizon-2020.eu/database/data-sets/001-2019/', User=Users[0])\n",
        "ch_types = {}\n",
        "for ch in raw_mne.ch_names:\n",
        "  if not ch in ['eog-l','eog-m','eog-r']:\n",
        "    ch_types[ch] = 'eeg'\n",
        "  else:\n",
        "    ch_types[ch] = 'eog'\n",
        "raw_mne.set_channel_types(ch_types)\n",
        "montage = make_standard_montage('standard_1005')\n",
        "raw_mne.set_montage(montage)\n",
        "\n",
        "raw_mne, _ = mne.set_eeg_reference(raw_mne, 'average',copy=True)"
      ],
      "execution_count": 10,
      "outputs": [
        {
          "output_type": "stream",
          "text": [
            "Downloading:  P01  from  http://bnci-horizon-2020.eu/database/data-sets/001-2019/P01.zip\n",
            "Extracting EDF parameters from /content/P01/P01 Run 4.gdf...\n",
            "GDF file detected\n",
            "Setting channel info structure...\n",
            "Creating raw.info structure...\n"
          ],
          "name": "stdout"
        },
        {
          "output_type": "stream",
          "text": [
            "/usr/local/lib/python3.7/dist-packages/mne/io/edf/edf.py:1047: DeprecationWarning:\n",
            "\n",
            "The binary mode of fromstring is deprecated, as it behaves surprisingly on unicode inputs. Use frombuffer instead\n",
            "\n"
          ],
          "name": "stderr"
        },
        {
          "output_type": "stream",
          "text": [
            "Reading 0 ... 76543  =      0.000 ...   298.996 secs...\n",
            "Extracting EDF parameters from /content/P01/P01 Run 13.gdf...\n",
            "GDF file detected\n",
            "Setting channel info structure...\n",
            "Creating raw.info structure...\n",
            "Reading 0 ... 77311  =      0.000 ...   301.996 secs...\n",
            "Extracting EDF parameters from /content/P01/P01 Run 15.gdf...\n",
            "GDF file detected\n",
            "Setting channel info structure...\n",
            "Creating raw.info structure...\n",
            "Reading 0 ... 23295  =      0.000 ...    90.996 secs...\n",
            "Extracting EDF parameters from /content/P01/P01 Run 11.gdf...\n",
            "GDF file detected\n",
            "Setting channel info structure...\n",
            "Creating raw.info structure...\n",
            "Reading 0 ... 77055  =      0.000 ...   300.996 secs...\n"
          ],
          "name": "stdout"
        },
        {
          "output_type": "stream",
          "text": [
            "/usr/local/lib/python3.7/dist-packages/mne/io/edf/edf.py:1047: DeprecationWarning:\n",
            "\n",
            "The binary mode of fromstring is deprecated, as it behaves surprisingly on unicode inputs. Use frombuffer instead\n",
            "\n",
            "/usr/local/lib/python3.7/dist-packages/mne/io/edf/edf.py:1047: DeprecationWarning:\n",
            "\n",
            "The binary mode of fromstring is deprecated, as it behaves surprisingly on unicode inputs. Use frombuffer instead\n",
            "\n",
            "/usr/local/lib/python3.7/dist-packages/mne/io/edf/edf.py:1047: DeprecationWarning:\n",
            "\n",
            "The binary mode of fromstring is deprecated, as it behaves surprisingly on unicode inputs. Use frombuffer instead\n",
            "\n"
          ],
          "name": "stderr"
        },
        {
          "output_type": "stream",
          "text": [
            "Extracting EDF parameters from /content/P01/P01 Run 12.gdf...\n",
            "GDF file detected\n",
            "Setting channel info structure...\n",
            "Creating raw.info structure...\n",
            "Reading 0 ... 77823  =      0.000 ...   303.996 secs...\n",
            "Extracting EDF parameters from /content/P01/P01 Run 10.gdf...\n",
            "GDF file detected\n",
            "Setting channel info structure...\n",
            "Creating raw.info structure...\n",
            "Reading 0 ... 77823  =      0.000 ...   303.996 secs...\n"
          ],
          "name": "stdout"
        },
        {
          "output_type": "stream",
          "text": [
            "/usr/local/lib/python3.7/dist-packages/mne/io/edf/edf.py:1047: DeprecationWarning:\n",
            "\n",
            "The binary mode of fromstring is deprecated, as it behaves surprisingly on unicode inputs. Use frombuffer instead\n",
            "\n",
            "/usr/local/lib/python3.7/dist-packages/mne/io/edf/edf.py:1047: DeprecationWarning:\n",
            "\n",
            "The binary mode of fromstring is deprecated, as it behaves surprisingly on unicode inputs. Use frombuffer instead\n",
            "\n"
          ],
          "name": "stderr"
        },
        {
          "output_type": "stream",
          "text": [
            "Extracting EDF parameters from /content/P01/P01 Run 6.gdf...\n",
            "GDF file detected\n",
            "Setting channel info structure...\n",
            "Creating raw.info structure...\n",
            "Reading 0 ... 76031  =      0.000 ...   296.996 secs...\n",
            "Extracting EDF parameters from /content/P01/P01 Run 9.gdf...\n",
            "GDF file detected\n",
            "Setting channel info structure...\n",
            "Creating raw.info structure...\n",
            "Reading 0 ... 23295  =      0.000 ...    90.996 secs...\n",
            "Extracting EDF parameters from /content/P01/P01 Run 5.gdf...\n",
            "GDF file detected\n",
            "Setting channel info structure...\n",
            "Creating raw.info structure...\n",
            "Reading 0 ... 76799  =      0.000 ...   299.996 secs...\n"
          ],
          "name": "stdout"
        },
        {
          "output_type": "stream",
          "text": [
            "/usr/local/lib/python3.7/dist-packages/mne/io/edf/edf.py:1047: DeprecationWarning:\n",
            "\n",
            "The binary mode of fromstring is deprecated, as it behaves surprisingly on unicode inputs. Use frombuffer instead\n",
            "\n",
            "/usr/local/lib/python3.7/dist-packages/mne/io/edf/edf.py:1047: DeprecationWarning:\n",
            "\n",
            "The binary mode of fromstring is deprecated, as it behaves surprisingly on unicode inputs. Use frombuffer instead\n",
            "\n",
            "/usr/local/lib/python3.7/dist-packages/mne/io/edf/edf.py:1047: DeprecationWarning:\n",
            "\n",
            "The binary mode of fromstring is deprecated, as it behaves surprisingly on unicode inputs. Use frombuffer instead\n",
            "\n"
          ],
          "name": "stderr"
        },
        {
          "output_type": "stream",
          "text": [
            "Extracting EDF parameters from /content/P01/P01 Run 7.gdf...\n",
            "GDF file detected\n",
            "Setting channel info structure...\n",
            "Creating raw.info structure...\n",
            "Reading 0 ... 77055  =      0.000 ...   300.996 secs...\n",
            "Extracting EDF parameters from /content/P01/P01 Run 1.gdf...\n",
            "GDF file detected\n",
            "Setting channel info structure...\n",
            "Creating raw.info structure...\n",
            "Reading 0 ... 22015  =      0.000 ...    85.996 secs...\n",
            "Extracting EDF parameters from /content/P01/P01 Run 8.gdf...\n",
            "GDF file detected\n",
            "Setting channel info structure...\n",
            "Creating raw.info structure...\n",
            "Reading 0 ... 22015  =      0.000 ...    85.996 secs...\n",
            "Extracting EDF parameters from /content/P01/P01 Run 2.gdf...\n",
            "GDF file detected\n"
          ],
          "name": "stdout"
        },
        {
          "output_type": "stream",
          "text": [
            "/usr/local/lib/python3.7/dist-packages/mne/io/edf/edf.py:1047: DeprecationWarning:\n",
            "\n",
            "The binary mode of fromstring is deprecated, as it behaves surprisingly on unicode inputs. Use frombuffer instead\n",
            "\n",
            "/usr/local/lib/python3.7/dist-packages/mne/io/edf/edf.py:1047: DeprecationWarning:\n",
            "\n",
            "The binary mode of fromstring is deprecated, as it behaves surprisingly on unicode inputs. Use frombuffer instead\n",
            "\n",
            "/usr/local/lib/python3.7/dist-packages/mne/io/edf/edf.py:1047: DeprecationWarning:\n",
            "\n",
            "The binary mode of fromstring is deprecated, as it behaves surprisingly on unicode inputs. Use frombuffer instead\n",
            "\n",
            "/usr/local/lib/python3.7/dist-packages/mne/io/edf/edf.py:1047: DeprecationWarning:\n",
            "\n",
            "The binary mode of fromstring is deprecated, as it behaves surprisingly on unicode inputs. Use frombuffer instead\n",
            "\n"
          ],
          "name": "stderr"
        },
        {
          "output_type": "stream",
          "text": [
            "Setting channel info structure...\n",
            "Creating raw.info structure...\n",
            "Reading 0 ... 23295  =      0.000 ...    90.996 secs...\n",
            "Extracting EDF parameters from /content/P01/P01 Run 14.gdf...\n",
            "GDF file detected\n",
            "Setting channel info structure...\n",
            "Creating raw.info structure...\n",
            "Reading 0 ... 22015  =      0.000 ...    85.996 secs...\n",
            "Extracting EDF parameters from /content/P01/P01 Run 3.gdf...\n",
            "GDF file detected\n",
            "Setting channel info structure...\n",
            "Creating raw.info structure...\n",
            "Reading 0 ... 75519  =      0.000 ...   294.996 secs...\n"
          ],
          "name": "stdout"
        },
        {
          "output_type": "stream",
          "text": [
            "/usr/local/lib/python3.7/dist-packages/mne/io/edf/edf.py:1047: DeprecationWarning:\n",
            "\n",
            "The binary mode of fromstring is deprecated, as it behaves surprisingly on unicode inputs. Use frombuffer instead\n",
            "\n",
            "/usr/local/lib/python3.7/dist-packages/mne/io/edf/edf.py:1047: DeprecationWarning:\n",
            "\n",
            "The binary mode of fromstring is deprecated, as it behaves surprisingly on unicode inputs. Use frombuffer instead\n",
            "\n"
          ],
          "name": "stderr"
        },
        {
          "output_type": "stream",
          "text": [
            "Extracting EDF parameters from /content/P01/P01 Run 13.gdf...\n",
            "GDF file detected\n",
            "Setting channel info structure...\n",
            "Creating raw.info structure...\n",
            "Used Annotations descriptions: ['33536', '33544', '33545', '33547', '33554', '33693', '33694', '768', '776', '777', '779', '785', '786', '925', '926']\n"
          ],
          "name": "stdout"
        },
        {
          "output_type": "stream",
          "text": [
            "/usr/local/lib/python3.7/dist-packages/mne/io/edf/edf.py:1047: DeprecationWarning:\n",
            "\n",
            "The binary mode of fromstring is deprecated, as it behaves surprisingly on unicode inputs. Use frombuffer instead\n",
            "\n"
          ],
          "name": "stderr"
        },
        {
          "output_type": "stream",
          "text": [
            "Extracting EDF parameters from /content/P01/P01 Run 2.gdf...\n",
            "GDF file detected\n",
            "Setting channel info structure...\n",
            "Creating raw.info structure...\n",
            "Used Annotations descriptions: ['33536', '33554', '768', '785', '786']\n",
            "Extracting EDF parameters from /content/P01/P01 Run 3.gdf...\n",
            "GDF file detected\n",
            "Setting channel info structure...\n",
            "Creating raw.info structure...\n"
          ],
          "name": "stdout"
        },
        {
          "output_type": "stream",
          "text": [
            "/usr/local/lib/python3.7/dist-packages/mne/io/edf/edf.py:1047: DeprecationWarning:\n",
            "\n",
            "The binary mode of fromstring is deprecated, as it behaves surprisingly on unicode inputs. Use frombuffer instead\n",
            "\n",
            "/usr/local/lib/python3.7/dist-packages/mne/io/edf/edf.py:1047: DeprecationWarning:\n",
            "\n",
            "The binary mode of fromstring is deprecated, as it behaves surprisingly on unicode inputs. Use frombuffer instead\n",
            "\n"
          ],
          "name": "stderr"
        },
        {
          "output_type": "stream",
          "text": [
            "Used Annotations descriptions: ['33536', '33544', '33545', '33547', '33554', '33693', '33694', '768', '776', '777', '779', '785', '786', '925', '926']\n",
            "Extracting EDF parameters from /content/P01/P01 Run 4.gdf...\n",
            "GDF file detected\n",
            "Setting channel info structure...\n",
            "Creating raw.info structure...\n",
            "Used Annotations descriptions: ['33536', '33544', '33545', '33547', '33554', '33693', '33694', '768', '776', '777', '779', '785', '786', '925', '926']\n"
          ],
          "name": "stdout"
        },
        {
          "output_type": "stream",
          "text": [
            "/usr/local/lib/python3.7/dist-packages/mne/io/edf/edf.py:1047: DeprecationWarning:\n",
            "\n",
            "The binary mode of fromstring is deprecated, as it behaves surprisingly on unicode inputs. Use frombuffer instead\n",
            "\n"
          ],
          "name": "stderr"
        },
        {
          "output_type": "stream",
          "text": [
            "Extracting EDF parameters from /content/P01/P01 Run 5.gdf...\n",
            "GDF file detected\n",
            "Setting channel info structure...\n",
            "Creating raw.info structure...\n",
            "Used Annotations descriptions: ['33536', '33544', '33545', '33547', '33554', '33693', '33694', '768', '776', '777', '779', '785', '786', '925', '926']\n"
          ],
          "name": "stdout"
        },
        {
          "output_type": "stream",
          "text": [
            "/usr/local/lib/python3.7/dist-packages/mne/io/edf/edf.py:1047: DeprecationWarning:\n",
            "\n",
            "The binary mode of fromstring is deprecated, as it behaves surprisingly on unicode inputs. Use frombuffer instead\n",
            "\n"
          ],
          "name": "stderr"
        },
        {
          "output_type": "stream",
          "text": [
            "Extracting EDF parameters from /content/P01/P01 Run 6.gdf...\n",
            "GDF file detected\n",
            "Setting channel info structure...\n",
            "Creating raw.info structure...\n",
            "Used Annotations descriptions: ['33536', '33544', '33545', '33547', '33554', '33693', '33694', '768', '776', '777', '779', '785', '786', '925', '926']\n"
          ],
          "name": "stdout"
        },
        {
          "output_type": "stream",
          "text": [
            "/usr/local/lib/python3.7/dist-packages/mne/io/edf/edf.py:1047: DeprecationWarning:\n",
            "\n",
            "The binary mode of fromstring is deprecated, as it behaves surprisingly on unicode inputs. Use frombuffer instead\n",
            "\n"
          ],
          "name": "stderr"
        },
        {
          "output_type": "stream",
          "text": [
            "Extracting EDF parameters from /content/P01/P01 Run 7.gdf...\n",
            "GDF file detected\n",
            "Setting channel info structure...\n",
            "Creating raw.info structure...\n",
            "Used Annotations descriptions: ['33536', '33544', '33545', '33547', '33554', '33693', '33694', '768', '776', '777', '779', '785', '786', '925', '926']\n"
          ],
          "name": "stdout"
        },
        {
          "output_type": "stream",
          "text": [
            "/usr/local/lib/python3.7/dist-packages/mne/io/edf/edf.py:1047: DeprecationWarning:\n",
            "\n",
            "The binary mode of fromstring is deprecated, as it behaves surprisingly on unicode inputs. Use frombuffer instead\n",
            "\n"
          ],
          "name": "stderr"
        },
        {
          "output_type": "stream",
          "text": [
            "Extracting EDF parameters from /content/P01/P01 Run 8.gdf...\n",
            "GDF file detected\n",
            "Setting channel info structure...\n",
            "Creating raw.info structure...\n",
            "Used Annotations descriptions: ['33536', '768', '785']\n",
            "Extracting EDF parameters from /content/P01/P01 Run 9.gdf...\n",
            "GDF file detected\n",
            "Setting channel info structure...\n",
            "Creating raw.info structure...\n",
            "Used Annotations descriptions: ['33536', '33554', '768', '785', '786']\n",
            "Extracting EDF parameters from /content/P01/P01 Run 10.gdf...\n",
            "GDF file detected\n",
            "Setting channel info structure...\n",
            "Creating raw.info structure...\n"
          ],
          "name": "stdout"
        },
        {
          "output_type": "stream",
          "text": [
            "/usr/local/lib/python3.7/dist-packages/mne/io/edf/edf.py:1047: DeprecationWarning:\n",
            "\n",
            "The binary mode of fromstring is deprecated, as it behaves surprisingly on unicode inputs. Use frombuffer instead\n",
            "\n",
            "/usr/local/lib/python3.7/dist-packages/mne/io/edf/edf.py:1047: DeprecationWarning:\n",
            "\n",
            "The binary mode of fromstring is deprecated, as it behaves surprisingly on unicode inputs. Use frombuffer instead\n",
            "\n",
            "/usr/local/lib/python3.7/dist-packages/mne/io/edf/edf.py:1047: DeprecationWarning:\n",
            "\n",
            "The binary mode of fromstring is deprecated, as it behaves surprisingly on unicode inputs. Use frombuffer instead\n",
            "\n"
          ],
          "name": "stderr"
        },
        {
          "output_type": "stream",
          "text": [
            "Used Annotations descriptions: ['33536', '33544', '33545', '33547', '33554', '33693', '33694', '768', '776', '777', '779', '785', '786', '925', '926']\n",
            "Extracting EDF parameters from /content/P01/P01 Run 11.gdf...\n",
            "GDF file detected\n",
            "Setting channel info structure...\n",
            "Creating raw.info structure...\n",
            "Used Annotations descriptions: ['33536', '33544', '33545', '33547', '33554', '33693', '33694', '768', '776', '777', '779', '785', '786', '925', '926']\n"
          ],
          "name": "stdout"
        },
        {
          "output_type": "stream",
          "text": [
            "/usr/local/lib/python3.7/dist-packages/mne/io/edf/edf.py:1047: DeprecationWarning:\n",
            "\n",
            "The binary mode of fromstring is deprecated, as it behaves surprisingly on unicode inputs. Use frombuffer instead\n",
            "\n"
          ],
          "name": "stderr"
        },
        {
          "output_type": "stream",
          "text": [
            "Extracting EDF parameters from /content/P01/P01 Run 12.gdf...\n",
            "GDF file detected\n",
            "Setting channel info structure...\n",
            "Creating raw.info structure...\n",
            "Used Annotations descriptions: ['33536', '33544', '33545', '33547', '33554', '33693', '33694', '768', '776', '777', '779', '785', '786', '925', '926']\n"
          ],
          "name": "stdout"
        },
        {
          "output_type": "stream",
          "text": [
            "/usr/local/lib/python3.7/dist-packages/mne/io/edf/edf.py:1047: DeprecationWarning:\n",
            "\n",
            "The binary mode of fromstring is deprecated, as it behaves surprisingly on unicode inputs. Use frombuffer instead\n",
            "\n"
          ],
          "name": "stderr"
        },
        {
          "output_type": "stream",
          "text": [
            "Extracting EDF parameters from /content/P01/P01 Run 13.gdf...\n",
            "GDF file detected\n",
            "Setting channel info structure...\n",
            "Creating raw.info structure...\n",
            "Used Annotations descriptions: ['33536', '33544', '33545', '33547', '33554', '33693', '33694', '768', '776', '777', '779', '785', '786', '925', '926']\n"
          ],
          "name": "stdout"
        },
        {
          "output_type": "stream",
          "text": [
            "/usr/local/lib/python3.7/dist-packages/mne/io/edf/edf.py:1047: DeprecationWarning:\n",
            "\n",
            "The binary mode of fromstring is deprecated, as it behaves surprisingly on unicode inputs. Use frombuffer instead\n",
            "\n"
          ],
          "name": "stderr"
        },
        {
          "output_type": "stream",
          "text": [
            "Extracting EDF parameters from /content/P01/P01 Run 14.gdf...\n",
            "GDF file detected\n",
            "Setting channel info structure...\n",
            "Creating raw.info structure...\n",
            "Used Annotations descriptions: ['33536', '768', '785']\n",
            "Extracting EDF parameters from /content/P01/P01 Run 15.gdf...\n",
            "GDF file detected\n",
            "Setting channel info structure...\n",
            "Creating raw.info structure...\n",
            "Used Annotations descriptions: ['33536', '33554', '768', '785', '786']\n"
          ],
          "name": "stdout"
        },
        {
          "output_type": "stream",
          "text": [
            "/usr/local/lib/python3.7/dist-packages/mne/io/edf/edf.py:1047: DeprecationWarning:\n",
            "\n",
            "The binary mode of fromstring is deprecated, as it behaves surprisingly on unicode inputs. Use frombuffer instead\n",
            "\n",
            "/usr/local/lib/python3.7/dist-packages/mne/io/edf/edf.py:1047: DeprecationWarning:\n",
            "\n",
            "The binary mode of fromstring is deprecated, as it behaves surprisingly on unicode inputs. Use frombuffer instead\n",
            "\n"
          ],
          "name": "stderr"
        },
        {
          "output_type": "stream",
          "text": [
            "EEG channel type selected for re-referencing\n",
            "Applying average reference.\n",
            "Applying a custom EEG reference.\n"
          ],
          "name": "stdout"
        }
      ]
    },
    {
      "cell_type": "code",
      "metadata": {
        "colab": {
          "base_uri": "https://localhost:8080/"
        },
        "id": "eHtHg21G4_a3",
        "outputId": "602883d7-38a2-4fcd-8b5e-33d70e2eb9f3"
      },
      "source": [
        "# Transforming events\n",
        "picks = pick_types(raw_mne.info, meg=False, eeg=True, stim=False, eog=False, exclude='bads')\n",
        "events_before, dictEventsRun = mne.events_from_annotations(raw_mne)\n",
        "dictEventsRun = dict(zip( list(dictEventsRun.values()) , [int(val) for val in list(dictEventsRun.keys())] ))\n",
        "events = events_before.copy()\n",
        "for i in range(events_before.shape[0]):\n",
        "  events[i,2]=dictEventsRun[events[i,2]]"
      ],
      "execution_count": 11,
      "outputs": [
        {
          "output_type": "stream",
          "text": [
            "Used Annotations descriptions: ['33536', '33544', '33545', '33547', '33554', '33693', '33694', '768', '776', '777', '779', '785', '786', '925', '926']\n"
          ],
          "name": "stdout"
        }
      ]
    },
    {
      "cell_type": "code",
      "metadata": {
        "colab": {
          "base_uri": "https://localhost:8080/"
        },
        "id": "eXkKdzHtDnjv",
        "outputId": "857e67e6-0e95-4e2a-9b8f-2a17e1200f39"
      },
      "source": [
        "event_id = dictEvents\n",
        "tmin=-2.0\n",
        "tmax = 3.0\n",
        "epochs = Epochs(raw_mne, events, event_id, tmin, tmax, proj=True, picks=picks,\n",
        "                baseline=None, preload=True, event_repeated='merge')"
      ],
      "execution_count": 12,
      "outputs": [
        {
          "output_type": "stream",
          "text": [
            "Not setting metadata\n",
            "Multiple event values for single event times found. Creating new event value to reflect simultaneous events.\n",
            "Not setting metadata\n",
            "729 matching events found\n",
            "No baseline correction applied\n",
            "0 projection items activated\n",
            "Loading data for 729 events and 1281 original time points ...\n",
            "0 bad epochs dropped\n"
          ],
          "name": "stdout"
        }
      ]
    },
    {
      "cell_type": "code",
      "metadata": {
        "colab": {
          "base_uri": "https://localhost:8080/",
          "height": 226
        },
        "id": "Wm1r-1fnP_SB",
        "outputId": "47b9e1aa-b2ed-4b0e-ac06-1e75f52cb4f3"
      },
      "source": [
        "epochs"
      ],
      "execution_count": 13,
      "outputs": [
        {
          "output_type": "execute_result",
          "data": {
            "text/html": [
              "\n",
              "<table class=\"table table-hover\">\n",
              "    <tr>\n",
              "        <th>Number of events</th>\n",
              "        <td>729</td>\n",
              "    </tr>\n",
              "    <tr>\n",
              "        <th>Events</th>\n",
              "        <td>Beep: 3<br>Beep/FixationCross/TrialStart: 363<br>Beep/TrialStart: 3<br>HandOpenClassCue: 72<br>LateralGraspClassCue: 72<br>PalmarGraspClassCue: 72<br>PronationClassCue: 72<br>SupinationClassCue: 72<br></td>\n",
              "    </tr>\n",
              "    <tr>\n",
              "        <th>Time range</th>\n",
              "        <td>-2.000 – 3.000 sec</td>\n",
              "    </tr>\n",
              "    <tr>\n",
              "        <th>Baseline</th>\n",
              "        <td>off</td>\n",
              "    </tr>\n",
              "</table>\n"
            ],
            "text/plain": [
              "<Epochs |  729 events (all good), -2 - 3 sec, baseline off, ~434.7 MB, data loaded,\n",
              " 'Beep': 3\n",
              " 'Beep/FixationCross/TrialStart': 363\n",
              " 'Beep/TrialStart': 3\n",
              " 'HandOpenClassCue': 72\n",
              " 'LateralGraspClassCue': 72\n",
              " 'PalmarGraspClassCue': 72\n",
              " 'PronationClassCue': 72\n",
              " 'SupinationClassCue': 72>"
            ]
          },
          "metadata": {
            "tags": []
          },
          "execution_count": 13
        }
      ]
    },
    {
      "cell_type": "code",
      "metadata": {
        "id": "F7AZSVKLyYme"
      },
      "source": [
        "sfreq = sfreq[0]"
      ],
      "execution_count": 14,
      "outputs": []
    },
    {
      "cell_type": "code",
      "metadata": {
        "colab": {
          "base_uri": "https://localhost:8080/",
          "height": 617
        },
        "id": "XEAaiHWf3NMt",
        "outputId": "55b65ab4-b8ef-404d-da19-918c9c490420"
      },
      "source": [
        "df"
      ],
      "execution_count": 15,
      "outputs": [
        {
          "output_type": "execute_result",
          "data": {
            "text/html": [
              "<div>\n",
              "<style scoped>\n",
              "    .dataframe tbody tr th:only-of-type {\n",
              "        vertical-align: middle;\n",
              "    }\n",
              "\n",
              "    .dataframe tbody tr th {\n",
              "        vertical-align: top;\n",
              "    }\n",
              "\n",
              "    .dataframe thead th {\n",
              "        text-align: right;\n",
              "    }\n",
              "</style>\n",
              "<table border=\"1\" class=\"dataframe\">\n",
              "  <thead>\n",
              "    <tr style=\"text-align: right;\">\n",
              "      <th></th>\n",
              "      <th>Run</th>\n",
              "      <th>TypeRun</th>\n",
              "      <th>TrialStart</th>\n",
              "      <th>Beep</th>\n",
              "      <th>FixationCross</th>\n",
              "      <th>SupinationClassCue</th>\n",
              "      <th>PronationClassCue</th>\n",
              "      <th>HandOpenClassCue</th>\n",
              "      <th>PalmarGraspClassCue</th>\n",
              "      <th>LateralGraspClassCue</th>\n",
              "      <th>AFz</th>\n",
              "      <th>F3</th>\n",
              "      <th>F1</th>\n",
              "      <th>Fz</th>\n",
              "      <th>F2</th>\n",
              "      <th>F4</th>\n",
              "      <th>FFC5h</th>\n",
              "      <th>FFC3h</th>\n",
              "      <th>FFC1h</th>\n",
              "      <th>FFC2h</th>\n",
              "      <th>FFC4h</th>\n",
              "      <th>FFC6h</th>\n",
              "      <th>FC5</th>\n",
              "      <th>FC3</th>\n",
              "      <th>FC1</th>\n",
              "      <th>FCz</th>\n",
              "      <th>FC2</th>\n",
              "      <th>FC4</th>\n",
              "      <th>FC6</th>\n",
              "      <th>FCC5h</th>\n",
              "      <th>FCC3h</th>\n",
              "      <th>FCC1h</th>\n",
              "      <th>FCC2h</th>\n",
              "      <th>FCC4h</th>\n",
              "      <th>FCC6h</th>\n",
              "      <th>C5</th>\n",
              "      <th>C3</th>\n",
              "      <th>C1</th>\n",
              "      <th>Cz</th>\n",
              "      <th>C2</th>\n",
              "      <th>C4</th>\n",
              "      <th>C6</th>\n",
              "      <th>CCP5h</th>\n",
              "      <th>CCP3h</th>\n",
              "      <th>CCP1h</th>\n",
              "      <th>CCP2h</th>\n",
              "      <th>CCP4h</th>\n",
              "      <th>CCP6h</th>\n",
              "      <th>CP5</th>\n",
              "      <th>CP3</th>\n",
              "      <th>CP1</th>\n",
              "      <th>CPz</th>\n",
              "      <th>CP2</th>\n",
              "      <th>CP4</th>\n",
              "      <th>CP6</th>\n",
              "      <th>CPP5h</th>\n",
              "      <th>CPP3h</th>\n",
              "      <th>CPP1h</th>\n",
              "      <th>CPP2h</th>\n",
              "      <th>CPP4h</th>\n",
              "      <th>CPP6h</th>\n",
              "      <th>P5</th>\n",
              "      <th>P3</th>\n",
              "      <th>P1</th>\n",
              "      <th>Pz</th>\n",
              "      <th>P2</th>\n",
              "      <th>P4</th>\n",
              "      <th>P6</th>\n",
              "      <th>PPO1h</th>\n",
              "      <th>PPO2h</th>\n",
              "      <th>POz</th>\n",
              "      <th>eog-l</th>\n",
              "      <th>eog-m</th>\n",
              "      <th>eog-r</th>\n",
              "    </tr>\n",
              "  </thead>\n",
              "  <tbody>\n",
              "    <tr>\n",
              "      <th>0</th>\n",
              "      <td>Run 1</td>\n",
              "      <td>EyeMovements</td>\n",
              "      <td>0</td>\n",
              "      <td>0</td>\n",
              "      <td>0</td>\n",
              "      <td>0</td>\n",
              "      <td>0</td>\n",
              "      <td>0</td>\n",
              "      <td>0</td>\n",
              "      <td>0</td>\n",
              "      <td>0.000000</td>\n",
              "      <td>0.000000</td>\n",
              "      <td>0.000000</td>\n",
              "      <td>0.000000</td>\n",
              "      <td>0.000000</td>\n",
              "      <td>0.000000</td>\n",
              "      <td>0.000000</td>\n",
              "      <td>0.000000</td>\n",
              "      <td>0.000000</td>\n",
              "      <td>0.000000</td>\n",
              "      <td>0.000000</td>\n",
              "      <td>0.000000</td>\n",
              "      <td>0.000000</td>\n",
              "      <td>0.000000</td>\n",
              "      <td>0.000000</td>\n",
              "      <td>0.000000</td>\n",
              "      <td>0.000000</td>\n",
              "      <td>0.000000</td>\n",
              "      <td>0.000000</td>\n",
              "      <td>0.000000</td>\n",
              "      <td>0.000000</td>\n",
              "      <td>0.000000</td>\n",
              "      <td>0.000000</td>\n",
              "      <td>0.000000</td>\n",
              "      <td>0.000000</td>\n",
              "      <td>0.000000</td>\n",
              "      <td>0.000000</td>\n",
              "      <td>0.000000</td>\n",
              "      <td>0.000000</td>\n",
              "      <td>0.000000</td>\n",
              "      <td>0.000000</td>\n",
              "      <td>0.000000</td>\n",
              "      <td>0.000000</td>\n",
              "      <td>0.000000</td>\n",
              "      <td>0.000000</td>\n",
              "      <td>0.000000</td>\n",
              "      <td>0.000000</td>\n",
              "      <td>0.000000</td>\n",
              "      <td>0.000000</td>\n",
              "      <td>0.000000</td>\n",
              "      <td>0.000000</td>\n",
              "      <td>0.000000</td>\n",
              "      <td>0.000000</td>\n",
              "      <td>0.000000</td>\n",
              "      <td>0.000000</td>\n",
              "      <td>0.000000</td>\n",
              "      <td>0.000000</td>\n",
              "      <td>0.000000</td>\n",
              "      <td>0.000000</td>\n",
              "      <td>0.000000</td>\n",
              "      <td>0.000000</td>\n",
              "      <td>0.000000</td>\n",
              "      <td>0.000000</td>\n",
              "      <td>0.000000</td>\n",
              "      <td>0.000000</td>\n",
              "      <td>0.000000</td>\n",
              "      <td>0.000000</td>\n",
              "      <td>0.000000</td>\n",
              "      <td>0.000000</td>\n",
              "      <td>0.000000</td>\n",
              "      <td>0.000000</td>\n",
              "      <td>0.000000</td>\n",
              "      <td>0.000000</td>\n",
              "      <td>0.000000</td>\n",
              "    </tr>\n",
              "    <tr>\n",
              "      <th>1</th>\n",
              "      <td>Run 1</td>\n",
              "      <td>EyeMovements</td>\n",
              "      <td>0</td>\n",
              "      <td>0</td>\n",
              "      <td>0</td>\n",
              "      <td>0</td>\n",
              "      <td>0</td>\n",
              "      <td>0</td>\n",
              "      <td>0</td>\n",
              "      <td>0</td>\n",
              "      <td>0.000000</td>\n",
              "      <td>0.000000</td>\n",
              "      <td>0.000000</td>\n",
              "      <td>0.000000</td>\n",
              "      <td>0.000000</td>\n",
              "      <td>0.000000</td>\n",
              "      <td>0.000000</td>\n",
              "      <td>0.000000</td>\n",
              "      <td>0.000000</td>\n",
              "      <td>0.000000</td>\n",
              "      <td>0.000000</td>\n",
              "      <td>0.000000</td>\n",
              "      <td>0.000000</td>\n",
              "      <td>0.000000</td>\n",
              "      <td>0.000000</td>\n",
              "      <td>0.000000</td>\n",
              "      <td>0.000000</td>\n",
              "      <td>0.000000</td>\n",
              "      <td>0.000000</td>\n",
              "      <td>0.000000</td>\n",
              "      <td>0.000000</td>\n",
              "      <td>0.000000</td>\n",
              "      <td>0.000000</td>\n",
              "      <td>0.000000</td>\n",
              "      <td>0.000000</td>\n",
              "      <td>0.000000</td>\n",
              "      <td>0.000000</td>\n",
              "      <td>0.000000</td>\n",
              "      <td>0.000000</td>\n",
              "      <td>0.000000</td>\n",
              "      <td>0.000000</td>\n",
              "      <td>0.000000</td>\n",
              "      <td>0.000000</td>\n",
              "      <td>0.000000</td>\n",
              "      <td>0.000000</td>\n",
              "      <td>0.000000</td>\n",
              "      <td>0.000000</td>\n",
              "      <td>0.000000</td>\n",
              "      <td>0.000000</td>\n",
              "      <td>0.000000</td>\n",
              "      <td>0.000000</td>\n",
              "      <td>0.000000</td>\n",
              "      <td>0.000000</td>\n",
              "      <td>0.000000</td>\n",
              "      <td>0.000000</td>\n",
              "      <td>0.000000</td>\n",
              "      <td>0.000000</td>\n",
              "      <td>0.000000</td>\n",
              "      <td>0.000000</td>\n",
              "      <td>0.000000</td>\n",
              "      <td>0.000000</td>\n",
              "      <td>0.000000</td>\n",
              "      <td>0.000000</td>\n",
              "      <td>0.000000</td>\n",
              "      <td>0.000000</td>\n",
              "      <td>0.000000</td>\n",
              "      <td>0.000000</td>\n",
              "      <td>0.000000</td>\n",
              "      <td>0.000000</td>\n",
              "      <td>0.000000</td>\n",
              "      <td>0.000000</td>\n",
              "      <td>0.000000</td>\n",
              "      <td>0.000000</td>\n",
              "      <td>0.000000</td>\n",
              "    </tr>\n",
              "    <tr>\n",
              "      <th>2</th>\n",
              "      <td>Run 1</td>\n",
              "      <td>EyeMovements</td>\n",
              "      <td>0</td>\n",
              "      <td>0</td>\n",
              "      <td>0</td>\n",
              "      <td>0</td>\n",
              "      <td>0</td>\n",
              "      <td>0</td>\n",
              "      <td>0</td>\n",
              "      <td>0</td>\n",
              "      <td>0.000000</td>\n",
              "      <td>0.000000</td>\n",
              "      <td>0.000000</td>\n",
              "      <td>0.000000</td>\n",
              "      <td>0.000000</td>\n",
              "      <td>0.000000</td>\n",
              "      <td>0.000000</td>\n",
              "      <td>0.000000</td>\n",
              "      <td>0.000000</td>\n",
              "      <td>0.000000</td>\n",
              "      <td>0.000000</td>\n",
              "      <td>0.000000</td>\n",
              "      <td>0.000000</td>\n",
              "      <td>0.000000</td>\n",
              "      <td>0.000000</td>\n",
              "      <td>0.000000</td>\n",
              "      <td>0.000000</td>\n",
              "      <td>0.000000</td>\n",
              "      <td>0.000000</td>\n",
              "      <td>0.000000</td>\n",
              "      <td>0.000000</td>\n",
              "      <td>0.000000</td>\n",
              "      <td>0.000000</td>\n",
              "      <td>0.000000</td>\n",
              "      <td>0.000000</td>\n",
              "      <td>0.000000</td>\n",
              "      <td>0.000000</td>\n",
              "      <td>0.000000</td>\n",
              "      <td>0.000000</td>\n",
              "      <td>0.000000</td>\n",
              "      <td>0.000000</td>\n",
              "      <td>0.000000</td>\n",
              "      <td>0.000000</td>\n",
              "      <td>0.000000</td>\n",
              "      <td>0.000000</td>\n",
              "      <td>0.000000</td>\n",
              "      <td>0.000000</td>\n",
              "      <td>0.000000</td>\n",
              "      <td>0.000000</td>\n",
              "      <td>0.000000</td>\n",
              "      <td>0.000000</td>\n",
              "      <td>0.000000</td>\n",
              "      <td>0.000000</td>\n",
              "      <td>0.000000</td>\n",
              "      <td>0.000000</td>\n",
              "      <td>0.000000</td>\n",
              "      <td>0.000000</td>\n",
              "      <td>0.000000</td>\n",
              "      <td>0.000000</td>\n",
              "      <td>0.000000</td>\n",
              "      <td>0.000000</td>\n",
              "      <td>0.000000</td>\n",
              "      <td>0.000000</td>\n",
              "      <td>0.000000</td>\n",
              "      <td>0.000000</td>\n",
              "      <td>0.000000</td>\n",
              "      <td>0.000000</td>\n",
              "      <td>0.000000</td>\n",
              "      <td>0.000000</td>\n",
              "      <td>0.000000</td>\n",
              "      <td>0.000000</td>\n",
              "      <td>0.000000</td>\n",
              "      <td>0.000000</td>\n",
              "      <td>0.000000</td>\n",
              "    </tr>\n",
              "    <tr>\n",
              "      <th>3</th>\n",
              "      <td>Run 1</td>\n",
              "      <td>EyeMovements</td>\n",
              "      <td>0</td>\n",
              "      <td>0</td>\n",
              "      <td>0</td>\n",
              "      <td>0</td>\n",
              "      <td>0</td>\n",
              "      <td>0</td>\n",
              "      <td>0</td>\n",
              "      <td>0</td>\n",
              "      <td>0.000000</td>\n",
              "      <td>0.000000</td>\n",
              "      <td>0.000000</td>\n",
              "      <td>0.000000</td>\n",
              "      <td>0.000000</td>\n",
              "      <td>0.000000</td>\n",
              "      <td>0.000000</td>\n",
              "      <td>0.000000</td>\n",
              "      <td>0.000000</td>\n",
              "      <td>0.000000</td>\n",
              "      <td>0.000000</td>\n",
              "      <td>0.000000</td>\n",
              "      <td>0.000000</td>\n",
              "      <td>0.000000</td>\n",
              "      <td>0.000000</td>\n",
              "      <td>0.000000</td>\n",
              "      <td>0.000000</td>\n",
              "      <td>0.000000</td>\n",
              "      <td>0.000000</td>\n",
              "      <td>0.000000</td>\n",
              "      <td>0.000000</td>\n",
              "      <td>0.000000</td>\n",
              "      <td>0.000000</td>\n",
              "      <td>0.000000</td>\n",
              "      <td>0.000000</td>\n",
              "      <td>0.000000</td>\n",
              "      <td>0.000000</td>\n",
              "      <td>0.000000</td>\n",
              "      <td>0.000000</td>\n",
              "      <td>0.000000</td>\n",
              "      <td>0.000000</td>\n",
              "      <td>0.000000</td>\n",
              "      <td>0.000000</td>\n",
              "      <td>0.000000</td>\n",
              "      <td>0.000000</td>\n",
              "      <td>0.000000</td>\n",
              "      <td>0.000000</td>\n",
              "      <td>0.000000</td>\n",
              "      <td>0.000000</td>\n",
              "      <td>0.000000</td>\n",
              "      <td>0.000000</td>\n",
              "      <td>0.000000</td>\n",
              "      <td>0.000000</td>\n",
              "      <td>0.000000</td>\n",
              "      <td>0.000000</td>\n",
              "      <td>0.000000</td>\n",
              "      <td>0.000000</td>\n",
              "      <td>0.000000</td>\n",
              "      <td>0.000000</td>\n",
              "      <td>0.000000</td>\n",
              "      <td>0.000000</td>\n",
              "      <td>0.000000</td>\n",
              "      <td>0.000000</td>\n",
              "      <td>0.000000</td>\n",
              "      <td>0.000000</td>\n",
              "      <td>0.000000</td>\n",
              "      <td>0.000000</td>\n",
              "      <td>0.000000</td>\n",
              "      <td>0.000000</td>\n",
              "      <td>0.000000</td>\n",
              "      <td>0.000000</td>\n",
              "      <td>0.000000</td>\n",
              "      <td>0.000000</td>\n",
              "      <td>0.000000</td>\n",
              "    </tr>\n",
              "    <tr>\n",
              "      <th>4</th>\n",
              "      <td>Run 1</td>\n",
              "      <td>EyeMovements</td>\n",
              "      <td>0</td>\n",
              "      <td>0</td>\n",
              "      <td>0</td>\n",
              "      <td>0</td>\n",
              "      <td>0</td>\n",
              "      <td>0</td>\n",
              "      <td>0</td>\n",
              "      <td>0</td>\n",
              "      <td>0.000000</td>\n",
              "      <td>0.000000</td>\n",
              "      <td>0.000000</td>\n",
              "      <td>0.000000</td>\n",
              "      <td>0.000000</td>\n",
              "      <td>0.000000</td>\n",
              "      <td>0.000000</td>\n",
              "      <td>0.000000</td>\n",
              "      <td>0.000000</td>\n",
              "      <td>0.000000</td>\n",
              "      <td>0.000000</td>\n",
              "      <td>0.000000</td>\n",
              "      <td>0.000000</td>\n",
              "      <td>0.000000</td>\n",
              "      <td>0.000000</td>\n",
              "      <td>0.000000</td>\n",
              "      <td>0.000000</td>\n",
              "      <td>0.000000</td>\n",
              "      <td>0.000000</td>\n",
              "      <td>0.000000</td>\n",
              "      <td>0.000000</td>\n",
              "      <td>0.000000</td>\n",
              "      <td>0.000000</td>\n",
              "      <td>0.000000</td>\n",
              "      <td>0.000000</td>\n",
              "      <td>0.000000</td>\n",
              "      <td>0.000000</td>\n",
              "      <td>0.000000</td>\n",
              "      <td>0.000000</td>\n",
              "      <td>0.000000</td>\n",
              "      <td>0.000000</td>\n",
              "      <td>0.000000</td>\n",
              "      <td>0.000000</td>\n",
              "      <td>0.000000</td>\n",
              "      <td>0.000000</td>\n",
              "      <td>0.000000</td>\n",
              "      <td>0.000000</td>\n",
              "      <td>0.000000</td>\n",
              "      <td>0.000000</td>\n",
              "      <td>0.000000</td>\n",
              "      <td>0.000000</td>\n",
              "      <td>0.000000</td>\n",
              "      <td>0.000000</td>\n",
              "      <td>0.000000</td>\n",
              "      <td>0.000000</td>\n",
              "      <td>0.000000</td>\n",
              "      <td>0.000000</td>\n",
              "      <td>0.000000</td>\n",
              "      <td>0.000000</td>\n",
              "      <td>0.000000</td>\n",
              "      <td>0.000000</td>\n",
              "      <td>0.000000</td>\n",
              "      <td>0.000000</td>\n",
              "      <td>0.000000</td>\n",
              "      <td>0.000000</td>\n",
              "      <td>0.000000</td>\n",
              "      <td>0.000000</td>\n",
              "      <td>0.000000</td>\n",
              "      <td>0.000000</td>\n",
              "      <td>0.000000</td>\n",
              "      <td>0.000000</td>\n",
              "      <td>0.000000</td>\n",
              "      <td>0.000000</td>\n",
              "      <td>0.000000</td>\n",
              "    </tr>\n",
              "    <tr>\n",
              "      <th>...</th>\n",
              "      <td>...</td>\n",
              "      <td>...</td>\n",
              "      <td>...</td>\n",
              "      <td>...</td>\n",
              "      <td>...</td>\n",
              "      <td>...</td>\n",
              "      <td>...</td>\n",
              "      <td>...</td>\n",
              "      <td>...</td>\n",
              "      <td>...</td>\n",
              "      <td>...</td>\n",
              "      <td>...</td>\n",
              "      <td>...</td>\n",
              "      <td>...</td>\n",
              "      <td>...</td>\n",
              "      <td>...</td>\n",
              "      <td>...</td>\n",
              "      <td>...</td>\n",
              "      <td>...</td>\n",
              "      <td>...</td>\n",
              "      <td>...</td>\n",
              "      <td>...</td>\n",
              "      <td>...</td>\n",
              "      <td>...</td>\n",
              "      <td>...</td>\n",
              "      <td>...</td>\n",
              "      <td>...</td>\n",
              "      <td>...</td>\n",
              "      <td>...</td>\n",
              "      <td>...</td>\n",
              "      <td>...</td>\n",
              "      <td>...</td>\n",
              "      <td>...</td>\n",
              "      <td>...</td>\n",
              "      <td>...</td>\n",
              "      <td>...</td>\n",
              "      <td>...</td>\n",
              "      <td>...</td>\n",
              "      <td>...</td>\n",
              "      <td>...</td>\n",
              "      <td>...</td>\n",
              "      <td>...</td>\n",
              "      <td>...</td>\n",
              "      <td>...</td>\n",
              "      <td>...</td>\n",
              "      <td>...</td>\n",
              "      <td>...</td>\n",
              "      <td>...</td>\n",
              "      <td>...</td>\n",
              "      <td>...</td>\n",
              "      <td>...</td>\n",
              "      <td>...</td>\n",
              "      <td>...</td>\n",
              "      <td>...</td>\n",
              "      <td>...</td>\n",
              "      <td>...</td>\n",
              "      <td>...</td>\n",
              "      <td>...</td>\n",
              "      <td>...</td>\n",
              "      <td>...</td>\n",
              "      <td>...</td>\n",
              "      <td>...</td>\n",
              "      <td>...</td>\n",
              "      <td>...</td>\n",
              "      <td>...</td>\n",
              "      <td>...</td>\n",
              "      <td>...</td>\n",
              "      <td>...</td>\n",
              "      <td>...</td>\n",
              "      <td>...</td>\n",
              "      <td>...</td>\n",
              "      <td>...</td>\n",
              "      <td>...</td>\n",
              "      <td>...</td>\n",
              "    </tr>\n",
              "    <tr>\n",
              "      <th>880820</th>\n",
              "      <td>Run 15</td>\n",
              "      <td>Rest</td>\n",
              "      <td>0</td>\n",
              "      <td>0</td>\n",
              "      <td>0</td>\n",
              "      <td>0</td>\n",
              "      <td>0</td>\n",
              "      <td>0</td>\n",
              "      <td>0</td>\n",
              "      <td>0</td>\n",
              "      <td>174.301636</td>\n",
              "      <td>1500.522217</td>\n",
              "      <td>22.518784</td>\n",
              "      <td>-81.201134</td>\n",
              "      <td>128.299026</td>\n",
              "      <td>-77.132866</td>\n",
              "      <td>1154.862427</td>\n",
              "      <td>-85.674629</td>\n",
              "      <td>79.631111</td>\n",
              "      <td>-12.415437</td>\n",
              "      <td>295.127686</td>\n",
              "      <td>170.730377</td>\n",
              "      <td>359.860626</td>\n",
              "      <td>169.677612</td>\n",
              "      <td>175.660080</td>\n",
              "      <td>-61.500034</td>\n",
              "      <td>17.149490</td>\n",
              "      <td>186.992249</td>\n",
              "      <td>196.602905</td>\n",
              "      <td>-99.075699</td>\n",
              "      <td>41.000813</td>\n",
              "      <td>249.585999</td>\n",
              "      <td>22.364769</td>\n",
              "      <td>2377.735107</td>\n",
              "      <td>113.151581</td>\n",
              "      <td>283.895813</td>\n",
              "      <td>-164.729187</td>\n",
              "      <td>71.803535</td>\n",
              "      <td>-127.522224</td>\n",
              "      <td>-3004.423340</td>\n",
              "      <td>-85.182648</td>\n",
              "      <td>235.165649</td>\n",
              "      <td>1.289152</td>\n",
              "      <td>-1.478901</td>\n",
              "      <td>120.830872</td>\n",
              "      <td>93.961548</td>\n",
              "      <td>20.458494</td>\n",
              "      <td>32.775928</td>\n",
              "      <td>-7.670488</td>\n",
              "      <td>-124.440819</td>\n",
              "      <td>38.248779</td>\n",
              "      <td>72.113007</td>\n",
              "      <td>505.913879</td>\n",
              "      <td>18.452744</td>\n",
              "      <td>20.452324</td>\n",
              "      <td>-108.239723</td>\n",
              "      <td>-84.963692</td>\n",
              "      <td>21.370964</td>\n",
              "      <td>76.967110</td>\n",
              "      <td>-37.315308</td>\n",
              "      <td>-20.354204</td>\n",
              "      <td>-29.966070</td>\n",
              "      <td>-17.470367</td>\n",
              "      <td>2.516971</td>\n",
              "      <td>246.204025</td>\n",
              "      <td>-85.778038</td>\n",
              "      <td>52.868378</td>\n",
              "      <td>227.765839</td>\n",
              "      <td>16.364775</td>\n",
              "      <td>120.490631</td>\n",
              "      <td>-10.344620</td>\n",
              "      <td>206.598831</td>\n",
              "      <td>133.239761</td>\n",
              "      <td>121.533577</td>\n",
              "    </tr>\n",
              "    <tr>\n",
              "      <th>880821</th>\n",
              "      <td>Run 15</td>\n",
              "      <td>Rest</td>\n",
              "      <td>0</td>\n",
              "      <td>0</td>\n",
              "      <td>0</td>\n",
              "      <td>0</td>\n",
              "      <td>0</td>\n",
              "      <td>0</td>\n",
              "      <td>0</td>\n",
              "      <td>0</td>\n",
              "      <td>173.587723</td>\n",
              "      <td>1501.043823</td>\n",
              "      <td>23.935513</td>\n",
              "      <td>-80.489143</td>\n",
              "      <td>128.481079</td>\n",
              "      <td>-82.297401</td>\n",
              "      <td>1157.424927</td>\n",
              "      <td>-83.158051</td>\n",
              "      <td>81.788406</td>\n",
              "      <td>-12.973226</td>\n",
              "      <td>291.884735</td>\n",
              "      <td>164.856964</td>\n",
              "      <td>363.354279</td>\n",
              "      <td>172.050766</td>\n",
              "      <td>178.368332</td>\n",
              "      <td>-58.364876</td>\n",
              "      <td>12.494549</td>\n",
              "      <td>184.503708</td>\n",
              "      <td>173.006500</td>\n",
              "      <td>-90.781586</td>\n",
              "      <td>44.884529</td>\n",
              "      <td>249.664413</td>\n",
              "      <td>24.430517</td>\n",
              "      <td>2373.615723</td>\n",
              "      <td>107.799225</td>\n",
              "      <td>279.416840</td>\n",
              "      <td>-162.589264</td>\n",
              "      <td>73.749481</td>\n",
              "      <td>-130.320602</td>\n",
              "      <td>-3005.928711</td>\n",
              "      <td>-83.746170</td>\n",
              "      <td>241.867340</td>\n",
              "      <td>4.172603</td>\n",
              "      <td>0.826875</td>\n",
              "      <td>122.971649</td>\n",
              "      <td>94.889526</td>\n",
              "      <td>21.731554</td>\n",
              "      <td>36.642033</td>\n",
              "      <td>-4.965744</td>\n",
              "      <td>-123.633110</td>\n",
              "      <td>29.085564</td>\n",
              "      <td>73.585899</td>\n",
              "      <td>492.846771</td>\n",
              "      <td>21.081295</td>\n",
              "      <td>24.153320</td>\n",
              "      <td>-111.965500</td>\n",
              "      <td>-90.391449</td>\n",
              "      <td>23.125633</td>\n",
              "      <td>77.815948</td>\n",
              "      <td>-34.994194</td>\n",
              "      <td>-16.692007</td>\n",
              "      <td>-38.569496</td>\n",
              "      <td>-17.750626</td>\n",
              "      <td>1.405810</td>\n",
              "      <td>247.676437</td>\n",
              "      <td>-83.594765</td>\n",
              "      <td>55.566181</td>\n",
              "      <td>230.387131</td>\n",
              "      <td>13.589742</td>\n",
              "      <td>122.498627</td>\n",
              "      <td>-12.317351</td>\n",
              "      <td>205.477188</td>\n",
              "      <td>127.036034</td>\n",
              "      <td>130.723816</td>\n",
              "    </tr>\n",
              "    <tr>\n",
              "      <th>880822</th>\n",
              "      <td>Run 15</td>\n",
              "      <td>Rest</td>\n",
              "      <td>0</td>\n",
              "      <td>0</td>\n",
              "      <td>0</td>\n",
              "      <td>0</td>\n",
              "      <td>0</td>\n",
              "      <td>0</td>\n",
              "      <td>0</td>\n",
              "      <td>0</td>\n",
              "      <td>180.472046</td>\n",
              "      <td>1503.246582</td>\n",
              "      <td>33.355717</td>\n",
              "      <td>-72.583847</td>\n",
              "      <td>132.147476</td>\n",
              "      <td>-75.305016</td>\n",
              "      <td>1162.351440</td>\n",
              "      <td>-80.431686</td>\n",
              "      <td>86.454041</td>\n",
              "      <td>-6.678888</td>\n",
              "      <td>301.026917</td>\n",
              "      <td>169.063156</td>\n",
              "      <td>371.684509</td>\n",
              "      <td>175.608231</td>\n",
              "      <td>185.624619</td>\n",
              "      <td>-53.513168</td>\n",
              "      <td>20.818666</td>\n",
              "      <td>188.999649</td>\n",
              "      <td>189.337860</td>\n",
              "      <td>-84.730019</td>\n",
              "      <td>49.183414</td>\n",
              "      <td>259.365021</td>\n",
              "      <td>29.871120</td>\n",
              "      <td>2374.991943</td>\n",
              "      <td>113.488983</td>\n",
              "      <td>287.024139</td>\n",
              "      <td>-157.797592</td>\n",
              "      <td>79.833168</td>\n",
              "      <td>-120.433014</td>\n",
              "      <td>-3003.421631</td>\n",
              "      <td>-79.494217</td>\n",
              "      <td>249.577377</td>\n",
              "      <td>13.019935</td>\n",
              "      <td>8.853991</td>\n",
              "      <td>129.439606</td>\n",
              "      <td>100.710243</td>\n",
              "      <td>23.018009</td>\n",
              "      <td>40.951839</td>\n",
              "      <td>5.828292</td>\n",
              "      <td>-114.660522</td>\n",
              "      <td>43.669525</td>\n",
              "      <td>80.590477</td>\n",
              "      <td>506.772675</td>\n",
              "      <td>25.699228</td>\n",
              "      <td>26.973759</td>\n",
              "      <td>-93.173172</td>\n",
              "      <td>-72.188911</td>\n",
              "      <td>30.616665</td>\n",
              "      <td>83.927429</td>\n",
              "      <td>-31.513977</td>\n",
              "      <td>-9.859453</td>\n",
              "      <td>-13.763706</td>\n",
              "      <td>-7.701918</td>\n",
              "      <td>10.069806</td>\n",
              "      <td>254.758224</td>\n",
              "      <td>-78.117180</td>\n",
              "      <td>60.776100</td>\n",
              "      <td>234.809143</td>\n",
              "      <td>24.378588</td>\n",
              "      <td>128.832916</td>\n",
              "      <td>-3.641040</td>\n",
              "      <td>211.308929</td>\n",
              "      <td>136.794952</td>\n",
              "      <td>144.096100</td>\n",
              "    </tr>\n",
              "    <tr>\n",
              "      <th>880823</th>\n",
              "      <td>Run 15</td>\n",
              "      <td>Rest</td>\n",
              "      <td>0</td>\n",
              "      <td>0</td>\n",
              "      <td>0</td>\n",
              "      <td>0</td>\n",
              "      <td>0</td>\n",
              "      <td>0</td>\n",
              "      <td>0</td>\n",
              "      <td>0</td>\n",
              "      <td>172.245193</td>\n",
              "      <td>1490.568604</td>\n",
              "      <td>20.019138</td>\n",
              "      <td>-80.022621</td>\n",
              "      <td>125.005264</td>\n",
              "      <td>-80.951805</td>\n",
              "      <td>1157.392212</td>\n",
              "      <td>-86.835602</td>\n",
              "      <td>79.143036</td>\n",
              "      <td>-14.248031</td>\n",
              "      <td>292.259338</td>\n",
              "      <td>164.345581</td>\n",
              "      <td>357.360046</td>\n",
              "      <td>167.556076</td>\n",
              "      <td>177.482468</td>\n",
              "      <td>-59.384457</td>\n",
              "      <td>14.734038</td>\n",
              "      <td>183.144379</td>\n",
              "      <td>194.700760</td>\n",
              "      <td>-95.148018</td>\n",
              "      <td>41.863766</td>\n",
              "      <td>247.842575</td>\n",
              "      <td>22.977919</td>\n",
              "      <td>2357.836182</td>\n",
              "      <td>111.397270</td>\n",
              "      <td>273.435364</td>\n",
              "      <td>-163.047333</td>\n",
              "      <td>72.867027</td>\n",
              "      <td>-133.768356</td>\n",
              "      <td>-3014.259277</td>\n",
              "      <td>-85.698822</td>\n",
              "      <td>242.854965</td>\n",
              "      <td>2.718081</td>\n",
              "      <td>2.721551</td>\n",
              "      <td>119.495422</td>\n",
              "      <td>93.655426</td>\n",
              "      <td>15.598955</td>\n",
              "      <td>34.395573</td>\n",
              "      <td>-8.264327</td>\n",
              "      <td>-125.163239</td>\n",
              "      <td>26.256891</td>\n",
              "      <td>72.290306</td>\n",
              "      <td>490.560608</td>\n",
              "      <td>14.792325</td>\n",
              "      <td>17.810778</td>\n",
              "      <td>-106.665184</td>\n",
              "      <td>-87.911880</td>\n",
              "      <td>20.977674</td>\n",
              "      <td>77.183823</td>\n",
              "      <td>-39.366158</td>\n",
              "      <td>-18.357330</td>\n",
              "      <td>-39.354912</td>\n",
              "      <td>-17.508270</td>\n",
              "      <td>2.344411</td>\n",
              "      <td>246.911957</td>\n",
              "      <td>-85.132523</td>\n",
              "      <td>53.239170</td>\n",
              "      <td>225.796234</td>\n",
              "      <td>15.378569</td>\n",
              "      <td>120.152214</td>\n",
              "      <td>-11.697984</td>\n",
              "      <td>207.435608</td>\n",
              "      <td>132.239380</td>\n",
              "      <td>130.547943</td>\n",
              "    </tr>\n",
              "    <tr>\n",
              "      <th>880824</th>\n",
              "      <td>Run 15</td>\n",
              "      <td>Rest</td>\n",
              "      <td>0</td>\n",
              "      <td>0</td>\n",
              "      <td>0</td>\n",
              "      <td>0</td>\n",
              "      <td>0</td>\n",
              "      <td>0</td>\n",
              "      <td>0</td>\n",
              "      <td>0</td>\n",
              "      <td>166.162704</td>\n",
              "      <td>1484.439209</td>\n",
              "      <td>15.186709</td>\n",
              "      <td>-83.666626</td>\n",
              "      <td>123.218636</td>\n",
              "      <td>-83.892204</td>\n",
              "      <td>1150.197998</td>\n",
              "      <td>-85.563744</td>\n",
              "      <td>78.374908</td>\n",
              "      <td>-14.884726</td>\n",
              "      <td>290.761475</td>\n",
              "      <td>166.298843</td>\n",
              "      <td>354.939575</td>\n",
              "      <td>177.486557</td>\n",
              "      <td>181.723465</td>\n",
              "      <td>-57.086998</td>\n",
              "      <td>10.470728</td>\n",
              "      <td>180.708664</td>\n",
              "      <td>180.980331</td>\n",
              "      <td>-87.324974</td>\n",
              "      <td>47.921932</td>\n",
              "      <td>249.710312</td>\n",
              "      <td>24.511087</td>\n",
              "      <td>2356.362061</td>\n",
              "      <td>107.741020</td>\n",
              "      <td>271.279816</td>\n",
              "      <td>-156.730957</td>\n",
              "      <td>75.584564</td>\n",
              "      <td>-137.224670</td>\n",
              "      <td>-3015.724121</td>\n",
              "      <td>-85.664627</td>\n",
              "      <td>243.513733</td>\n",
              "      <td>4.847516</td>\n",
              "      <td>2.780509</td>\n",
              "      <td>121.372780</td>\n",
              "      <td>95.572189</td>\n",
              "      <td>17.504808</td>\n",
              "      <td>35.153023</td>\n",
              "      <td>-6.893220</td>\n",
              "      <td>-122.218193</td>\n",
              "      <td>30.011354</td>\n",
              "      <td>73.562386</td>\n",
              "      <td>493.187927</td>\n",
              "      <td>18.113922</td>\n",
              "      <td>19.016205</td>\n",
              "      <td>-103.913719</td>\n",
              "      <td>-88.733704</td>\n",
              "      <td>22.663719</td>\n",
              "      <td>79.027763</td>\n",
              "      <td>-37.044487</td>\n",
              "      <td>-13.174282</td>\n",
              "      <td>-40.008469</td>\n",
              "      <td>-15.309706</td>\n",
              "      <td>2.600604</td>\n",
              "      <td>247.439590</td>\n",
              "      <td>-82.039993</td>\n",
              "      <td>55.331123</td>\n",
              "      <td>230.634201</td>\n",
              "      <td>17.029791</td>\n",
              "      <td>122.545006</td>\n",
              "      <td>-10.831767</td>\n",
              "      <td>203.343933</td>\n",
              "      <td>122.820679</td>\n",
              "      <td>126.417854</td>\n",
              "    </tr>\n",
              "  </tbody>\n",
              "</table>\n",
              "<p>880825 rows × 74 columns</p>\n",
              "</div>"
            ],
            "text/plain": [
              "           Run       TypeRun  TrialStart  ...       eog-l       eog-m       eog-r\n",
              "0        Run 1  EyeMovements           0  ...    0.000000    0.000000    0.000000\n",
              "1        Run 1  EyeMovements           0  ...    0.000000    0.000000    0.000000\n",
              "2        Run 1  EyeMovements           0  ...    0.000000    0.000000    0.000000\n",
              "3        Run 1  EyeMovements           0  ...    0.000000    0.000000    0.000000\n",
              "4        Run 1  EyeMovements           0  ...    0.000000    0.000000    0.000000\n",
              "...        ...           ...         ...  ...         ...         ...         ...\n",
              "880820  Run 15          Rest           0  ...  206.598831  133.239761  121.533577\n",
              "880821  Run 15          Rest           0  ...  205.477188  127.036034  130.723816\n",
              "880822  Run 15          Rest           0  ...  211.308929  136.794952  144.096100\n",
              "880823  Run 15          Rest           0  ...  207.435608  132.239380  130.547943\n",
              "880824  Run 15          Rest           0  ...  203.343933  122.820679  126.417854\n",
              "\n",
              "[880825 rows x 74 columns]"
            ]
          },
          "metadata": {
            "tags": []
          },
          "execution_count": 15
        }
      ]
    },
    {
      "cell_type": "markdown",
      "metadata": {
        "id": "Y9R5vO3D2ttQ"
      },
      "source": [
        "###0. Which is a filtered version of Data?"
      ]
    },
    {
      "cell_type": "code",
      "metadata": {
        "id": "sOQaX2cd2_ds"
      },
      "source": [
        "maincols = ['Run','TypeRun','TrialStart','Beep','FixationCross']\n",
        "\n",
        "eeg_channels_of_interest = ['AFz', 'F3', 'F1', 'Fz', 'F2', 'F4', 'FFC5h', 'FFC3h', 'FFC1h', 'FFC2h', \n",
        "                'FFC4h', 'FFC6h', 'FC5', 'FC3', 'FC1', 'FCz', 'FC2', 'FC4', 'FC6', 'FCC5h', \n",
        "                'FCC3h', 'FCC1h', 'FCC2h', 'FCC4h', 'FCC6h', 'C5', 'C3', 'C1', 'Cz', 'C2', \n",
        "                'C4', 'C6', 'CCP5h', 'CCP3h', 'CCP1h', 'CCP2h', 'CCP4h', 'CCP6h', 'CP5', \n",
        "                'CP3', 'CP1', 'CPz', 'CP2', 'CP4', 'CP6', 'CPP5h', 'CPP3h', 'CPP1h', 'CPP2h', \n",
        "                'CPP4h', 'CPP6h', 'P5', 'P3', 'P1', 'Pz', 'P2', 'P4', 'P6', 'PPO1h', 'PPO2h', 'POz']\n",
        "\n",
        "movementTypes_of_interest = ['SupinationClassCue','PronationClassCue','HandOpenClassCue', 'PalmarGraspClassCue','LateralGraspClassCue']"
      ],
      "execution_count": 16,
      "outputs": []
    },
    {
      "cell_type": "code",
      "metadata": {
        "id": "5gd4_wVlYrGk"
      },
      "source": [
        ""
      ],
      "execution_count": 16,
      "outputs": []
    },
    {
      "cell_type": "code",
      "metadata": {
        "colab": {
          "base_uri": "https://localhost:8080/",
          "height": 313
        },
        "id": "7NDaH5342z2K",
        "outputId": "e5f040bf-ca8f-464f-a0e6-e04b5f18d498"
      },
      "source": [
        "dfFiltered = df[maincols+movementTypes_of_interest+eeg_channels_of_interest]\n",
        "dfFiltered = CARFiltering(dfFiltered, eeg_channels_of_interest)\n",
        "dfFiltered.head(5)"
      ],
      "execution_count": 17,
      "outputs": [
        {
          "output_type": "execute_result",
          "data": {
            "text/html": [
              "<div>\n",
              "<style scoped>\n",
              "    .dataframe tbody tr th:only-of-type {\n",
              "        vertical-align: middle;\n",
              "    }\n",
              "\n",
              "    .dataframe tbody tr th {\n",
              "        vertical-align: top;\n",
              "    }\n",
              "\n",
              "    .dataframe thead th {\n",
              "        text-align: right;\n",
              "    }\n",
              "</style>\n",
              "<table border=\"1\" class=\"dataframe\">\n",
              "  <thead>\n",
              "    <tr style=\"text-align: right;\">\n",
              "      <th></th>\n",
              "      <th>Run</th>\n",
              "      <th>TypeRun</th>\n",
              "      <th>TrialStart</th>\n",
              "      <th>Beep</th>\n",
              "      <th>FixationCross</th>\n",
              "      <th>SupinationClassCue</th>\n",
              "      <th>PronationClassCue</th>\n",
              "      <th>HandOpenClassCue</th>\n",
              "      <th>PalmarGraspClassCue</th>\n",
              "      <th>LateralGraspClassCue</th>\n",
              "      <th>AFz</th>\n",
              "      <th>F3</th>\n",
              "      <th>F1</th>\n",
              "      <th>Fz</th>\n",
              "      <th>F2</th>\n",
              "      <th>F4</th>\n",
              "      <th>FFC5h</th>\n",
              "      <th>FFC3h</th>\n",
              "      <th>FFC1h</th>\n",
              "      <th>FFC2h</th>\n",
              "      <th>FFC4h</th>\n",
              "      <th>FFC6h</th>\n",
              "      <th>FC5</th>\n",
              "      <th>FC3</th>\n",
              "      <th>FC1</th>\n",
              "      <th>FCz</th>\n",
              "      <th>FC2</th>\n",
              "      <th>FC4</th>\n",
              "      <th>FC6</th>\n",
              "      <th>FCC5h</th>\n",
              "      <th>FCC3h</th>\n",
              "      <th>FCC1h</th>\n",
              "      <th>FCC2h</th>\n",
              "      <th>FCC4h</th>\n",
              "      <th>FCC6h</th>\n",
              "      <th>C5</th>\n",
              "      <th>C3</th>\n",
              "      <th>C1</th>\n",
              "      <th>Cz</th>\n",
              "      <th>C2</th>\n",
              "      <th>C4</th>\n",
              "      <th>C6</th>\n",
              "      <th>CCP5h</th>\n",
              "      <th>CCP3h</th>\n",
              "      <th>CCP1h</th>\n",
              "      <th>CCP2h</th>\n",
              "      <th>CCP4h</th>\n",
              "      <th>CCP6h</th>\n",
              "      <th>CP5</th>\n",
              "      <th>CP3</th>\n",
              "      <th>CP1</th>\n",
              "      <th>CPz</th>\n",
              "      <th>CP2</th>\n",
              "      <th>CP4</th>\n",
              "      <th>CP6</th>\n",
              "      <th>CPP5h</th>\n",
              "      <th>CPP3h</th>\n",
              "      <th>CPP1h</th>\n",
              "      <th>CPP2h</th>\n",
              "      <th>CPP4h</th>\n",
              "      <th>CPP6h</th>\n",
              "      <th>P5</th>\n",
              "      <th>P3</th>\n",
              "      <th>P1</th>\n",
              "      <th>Pz</th>\n",
              "      <th>P2</th>\n",
              "      <th>P4</th>\n",
              "      <th>P6</th>\n",
              "      <th>PPO1h</th>\n",
              "      <th>PPO2h</th>\n",
              "      <th>POz</th>\n",
              "    </tr>\n",
              "  </thead>\n",
              "  <tbody>\n",
              "    <tr>\n",
              "      <th>0</th>\n",
              "      <td>Run 1</td>\n",
              "      <td>EyeMovements</td>\n",
              "      <td>0</td>\n",
              "      <td>0</td>\n",
              "      <td>0</td>\n",
              "      <td>0</td>\n",
              "      <td>0</td>\n",
              "      <td>0</td>\n",
              "      <td>0</td>\n",
              "      <td>0</td>\n",
              "      <td>0.0</td>\n",
              "      <td>0.0</td>\n",
              "      <td>0.0</td>\n",
              "      <td>0.0</td>\n",
              "      <td>0.0</td>\n",
              "      <td>0.0</td>\n",
              "      <td>0.0</td>\n",
              "      <td>0.0</td>\n",
              "      <td>0.0</td>\n",
              "      <td>0.0</td>\n",
              "      <td>0.0</td>\n",
              "      <td>0.0</td>\n",
              "      <td>0.0</td>\n",
              "      <td>0.0</td>\n",
              "      <td>0.0</td>\n",
              "      <td>0.0</td>\n",
              "      <td>0.0</td>\n",
              "      <td>0.0</td>\n",
              "      <td>0.0</td>\n",
              "      <td>0.0</td>\n",
              "      <td>0.0</td>\n",
              "      <td>0.0</td>\n",
              "      <td>0.0</td>\n",
              "      <td>0.0</td>\n",
              "      <td>0.0</td>\n",
              "      <td>0.0</td>\n",
              "      <td>0.0</td>\n",
              "      <td>0.0</td>\n",
              "      <td>0.0</td>\n",
              "      <td>0.0</td>\n",
              "      <td>0.0</td>\n",
              "      <td>0.0</td>\n",
              "      <td>0.0</td>\n",
              "      <td>0.0</td>\n",
              "      <td>0.0</td>\n",
              "      <td>0.0</td>\n",
              "      <td>0.0</td>\n",
              "      <td>0.0</td>\n",
              "      <td>0.0</td>\n",
              "      <td>0.0</td>\n",
              "      <td>0.0</td>\n",
              "      <td>0.0</td>\n",
              "      <td>0.0</td>\n",
              "      <td>0.0</td>\n",
              "      <td>0.0</td>\n",
              "      <td>0.0</td>\n",
              "      <td>0.0</td>\n",
              "      <td>0.0</td>\n",
              "      <td>0.0</td>\n",
              "      <td>0.0</td>\n",
              "      <td>0.0</td>\n",
              "      <td>0.0</td>\n",
              "      <td>0.0</td>\n",
              "      <td>0.0</td>\n",
              "      <td>0.0</td>\n",
              "      <td>0.0</td>\n",
              "      <td>0.0</td>\n",
              "      <td>0.0</td>\n",
              "      <td>0.0</td>\n",
              "      <td>0.0</td>\n",
              "      <td>0.0</td>\n",
              "    </tr>\n",
              "    <tr>\n",
              "      <th>1</th>\n",
              "      <td>Run 1</td>\n",
              "      <td>EyeMovements</td>\n",
              "      <td>0</td>\n",
              "      <td>0</td>\n",
              "      <td>0</td>\n",
              "      <td>0</td>\n",
              "      <td>0</td>\n",
              "      <td>0</td>\n",
              "      <td>0</td>\n",
              "      <td>0</td>\n",
              "      <td>0.0</td>\n",
              "      <td>0.0</td>\n",
              "      <td>0.0</td>\n",
              "      <td>0.0</td>\n",
              "      <td>0.0</td>\n",
              "      <td>0.0</td>\n",
              "      <td>0.0</td>\n",
              "      <td>0.0</td>\n",
              "      <td>0.0</td>\n",
              "      <td>0.0</td>\n",
              "      <td>0.0</td>\n",
              "      <td>0.0</td>\n",
              "      <td>0.0</td>\n",
              "      <td>0.0</td>\n",
              "      <td>0.0</td>\n",
              "      <td>0.0</td>\n",
              "      <td>0.0</td>\n",
              "      <td>0.0</td>\n",
              "      <td>0.0</td>\n",
              "      <td>0.0</td>\n",
              "      <td>0.0</td>\n",
              "      <td>0.0</td>\n",
              "      <td>0.0</td>\n",
              "      <td>0.0</td>\n",
              "      <td>0.0</td>\n",
              "      <td>0.0</td>\n",
              "      <td>0.0</td>\n",
              "      <td>0.0</td>\n",
              "      <td>0.0</td>\n",
              "      <td>0.0</td>\n",
              "      <td>0.0</td>\n",
              "      <td>0.0</td>\n",
              "      <td>0.0</td>\n",
              "      <td>0.0</td>\n",
              "      <td>0.0</td>\n",
              "      <td>0.0</td>\n",
              "      <td>0.0</td>\n",
              "      <td>0.0</td>\n",
              "      <td>0.0</td>\n",
              "      <td>0.0</td>\n",
              "      <td>0.0</td>\n",
              "      <td>0.0</td>\n",
              "      <td>0.0</td>\n",
              "      <td>0.0</td>\n",
              "      <td>0.0</td>\n",
              "      <td>0.0</td>\n",
              "      <td>0.0</td>\n",
              "      <td>0.0</td>\n",
              "      <td>0.0</td>\n",
              "      <td>0.0</td>\n",
              "      <td>0.0</td>\n",
              "      <td>0.0</td>\n",
              "      <td>0.0</td>\n",
              "      <td>0.0</td>\n",
              "      <td>0.0</td>\n",
              "      <td>0.0</td>\n",
              "      <td>0.0</td>\n",
              "      <td>0.0</td>\n",
              "      <td>0.0</td>\n",
              "      <td>0.0</td>\n",
              "      <td>0.0</td>\n",
              "    </tr>\n",
              "    <tr>\n",
              "      <th>2</th>\n",
              "      <td>Run 1</td>\n",
              "      <td>EyeMovements</td>\n",
              "      <td>0</td>\n",
              "      <td>0</td>\n",
              "      <td>0</td>\n",
              "      <td>0</td>\n",
              "      <td>0</td>\n",
              "      <td>0</td>\n",
              "      <td>0</td>\n",
              "      <td>0</td>\n",
              "      <td>0.0</td>\n",
              "      <td>0.0</td>\n",
              "      <td>0.0</td>\n",
              "      <td>0.0</td>\n",
              "      <td>0.0</td>\n",
              "      <td>0.0</td>\n",
              "      <td>0.0</td>\n",
              "      <td>0.0</td>\n",
              "      <td>0.0</td>\n",
              "      <td>0.0</td>\n",
              "      <td>0.0</td>\n",
              "      <td>0.0</td>\n",
              "      <td>0.0</td>\n",
              "      <td>0.0</td>\n",
              "      <td>0.0</td>\n",
              "      <td>0.0</td>\n",
              "      <td>0.0</td>\n",
              "      <td>0.0</td>\n",
              "      <td>0.0</td>\n",
              "      <td>0.0</td>\n",
              "      <td>0.0</td>\n",
              "      <td>0.0</td>\n",
              "      <td>0.0</td>\n",
              "      <td>0.0</td>\n",
              "      <td>0.0</td>\n",
              "      <td>0.0</td>\n",
              "      <td>0.0</td>\n",
              "      <td>0.0</td>\n",
              "      <td>0.0</td>\n",
              "      <td>0.0</td>\n",
              "      <td>0.0</td>\n",
              "      <td>0.0</td>\n",
              "      <td>0.0</td>\n",
              "      <td>0.0</td>\n",
              "      <td>0.0</td>\n",
              "      <td>0.0</td>\n",
              "      <td>0.0</td>\n",
              "      <td>0.0</td>\n",
              "      <td>0.0</td>\n",
              "      <td>0.0</td>\n",
              "      <td>0.0</td>\n",
              "      <td>0.0</td>\n",
              "      <td>0.0</td>\n",
              "      <td>0.0</td>\n",
              "      <td>0.0</td>\n",
              "      <td>0.0</td>\n",
              "      <td>0.0</td>\n",
              "      <td>0.0</td>\n",
              "      <td>0.0</td>\n",
              "      <td>0.0</td>\n",
              "      <td>0.0</td>\n",
              "      <td>0.0</td>\n",
              "      <td>0.0</td>\n",
              "      <td>0.0</td>\n",
              "      <td>0.0</td>\n",
              "      <td>0.0</td>\n",
              "      <td>0.0</td>\n",
              "      <td>0.0</td>\n",
              "      <td>0.0</td>\n",
              "      <td>0.0</td>\n",
              "      <td>0.0</td>\n",
              "    </tr>\n",
              "    <tr>\n",
              "      <th>3</th>\n",
              "      <td>Run 1</td>\n",
              "      <td>EyeMovements</td>\n",
              "      <td>0</td>\n",
              "      <td>0</td>\n",
              "      <td>0</td>\n",
              "      <td>0</td>\n",
              "      <td>0</td>\n",
              "      <td>0</td>\n",
              "      <td>0</td>\n",
              "      <td>0</td>\n",
              "      <td>0.0</td>\n",
              "      <td>0.0</td>\n",
              "      <td>0.0</td>\n",
              "      <td>0.0</td>\n",
              "      <td>0.0</td>\n",
              "      <td>0.0</td>\n",
              "      <td>0.0</td>\n",
              "      <td>0.0</td>\n",
              "      <td>0.0</td>\n",
              "      <td>0.0</td>\n",
              "      <td>0.0</td>\n",
              "      <td>0.0</td>\n",
              "      <td>0.0</td>\n",
              "      <td>0.0</td>\n",
              "      <td>0.0</td>\n",
              "      <td>0.0</td>\n",
              "      <td>0.0</td>\n",
              "      <td>0.0</td>\n",
              "      <td>0.0</td>\n",
              "      <td>0.0</td>\n",
              "      <td>0.0</td>\n",
              "      <td>0.0</td>\n",
              "      <td>0.0</td>\n",
              "      <td>0.0</td>\n",
              "      <td>0.0</td>\n",
              "      <td>0.0</td>\n",
              "      <td>0.0</td>\n",
              "      <td>0.0</td>\n",
              "      <td>0.0</td>\n",
              "      <td>0.0</td>\n",
              "      <td>0.0</td>\n",
              "      <td>0.0</td>\n",
              "      <td>0.0</td>\n",
              "      <td>0.0</td>\n",
              "      <td>0.0</td>\n",
              "      <td>0.0</td>\n",
              "      <td>0.0</td>\n",
              "      <td>0.0</td>\n",
              "      <td>0.0</td>\n",
              "      <td>0.0</td>\n",
              "      <td>0.0</td>\n",
              "      <td>0.0</td>\n",
              "      <td>0.0</td>\n",
              "      <td>0.0</td>\n",
              "      <td>0.0</td>\n",
              "      <td>0.0</td>\n",
              "      <td>0.0</td>\n",
              "      <td>0.0</td>\n",
              "      <td>0.0</td>\n",
              "      <td>0.0</td>\n",
              "      <td>0.0</td>\n",
              "      <td>0.0</td>\n",
              "      <td>0.0</td>\n",
              "      <td>0.0</td>\n",
              "      <td>0.0</td>\n",
              "      <td>0.0</td>\n",
              "      <td>0.0</td>\n",
              "      <td>0.0</td>\n",
              "      <td>0.0</td>\n",
              "      <td>0.0</td>\n",
              "      <td>0.0</td>\n",
              "    </tr>\n",
              "    <tr>\n",
              "      <th>4</th>\n",
              "      <td>Run 1</td>\n",
              "      <td>EyeMovements</td>\n",
              "      <td>0</td>\n",
              "      <td>0</td>\n",
              "      <td>0</td>\n",
              "      <td>0</td>\n",
              "      <td>0</td>\n",
              "      <td>0</td>\n",
              "      <td>0</td>\n",
              "      <td>0</td>\n",
              "      <td>0.0</td>\n",
              "      <td>0.0</td>\n",
              "      <td>0.0</td>\n",
              "      <td>0.0</td>\n",
              "      <td>0.0</td>\n",
              "      <td>0.0</td>\n",
              "      <td>0.0</td>\n",
              "      <td>0.0</td>\n",
              "      <td>0.0</td>\n",
              "      <td>0.0</td>\n",
              "      <td>0.0</td>\n",
              "      <td>0.0</td>\n",
              "      <td>0.0</td>\n",
              "      <td>0.0</td>\n",
              "      <td>0.0</td>\n",
              "      <td>0.0</td>\n",
              "      <td>0.0</td>\n",
              "      <td>0.0</td>\n",
              "      <td>0.0</td>\n",
              "      <td>0.0</td>\n",
              "      <td>0.0</td>\n",
              "      <td>0.0</td>\n",
              "      <td>0.0</td>\n",
              "      <td>0.0</td>\n",
              "      <td>0.0</td>\n",
              "      <td>0.0</td>\n",
              "      <td>0.0</td>\n",
              "      <td>0.0</td>\n",
              "      <td>0.0</td>\n",
              "      <td>0.0</td>\n",
              "      <td>0.0</td>\n",
              "      <td>0.0</td>\n",
              "      <td>0.0</td>\n",
              "      <td>0.0</td>\n",
              "      <td>0.0</td>\n",
              "      <td>0.0</td>\n",
              "      <td>0.0</td>\n",
              "      <td>0.0</td>\n",
              "      <td>0.0</td>\n",
              "      <td>0.0</td>\n",
              "      <td>0.0</td>\n",
              "      <td>0.0</td>\n",
              "      <td>0.0</td>\n",
              "      <td>0.0</td>\n",
              "      <td>0.0</td>\n",
              "      <td>0.0</td>\n",
              "      <td>0.0</td>\n",
              "      <td>0.0</td>\n",
              "      <td>0.0</td>\n",
              "      <td>0.0</td>\n",
              "      <td>0.0</td>\n",
              "      <td>0.0</td>\n",
              "      <td>0.0</td>\n",
              "      <td>0.0</td>\n",
              "      <td>0.0</td>\n",
              "      <td>0.0</td>\n",
              "      <td>0.0</td>\n",
              "      <td>0.0</td>\n",
              "      <td>0.0</td>\n",
              "      <td>0.0</td>\n",
              "      <td>0.0</td>\n",
              "    </tr>\n",
              "  </tbody>\n",
              "</table>\n",
              "</div>"
            ],
            "text/plain": [
              "     Run       TypeRun  TrialStart  Beep  ...   P6  PPO1h  PPO2h  POz\n",
              "0  Run 1  EyeMovements           0     0  ...  0.0    0.0    0.0  0.0\n",
              "1  Run 1  EyeMovements           0     0  ...  0.0    0.0    0.0  0.0\n",
              "2  Run 1  EyeMovements           0     0  ...  0.0    0.0    0.0  0.0\n",
              "3  Run 1  EyeMovements           0     0  ...  0.0    0.0    0.0  0.0\n",
              "4  Run 1  EyeMovements           0     0  ...  0.0    0.0    0.0  0.0\n",
              "\n",
              "[5 rows x 71 columns]"
            ]
          },
          "metadata": {
            "tags": []
          },
          "execution_count": 17
        }
      ]
    },
    {
      "cell_type": "markdown",
      "metadata": {
        "id": "G88KchZNwWlI"
      },
      "source": [
        "#### **1. ¿How many \"Trial Start\" events do Runs of type Rest are in the data and what is the temporal distance between cosecutive \"Trial Start\" events?**"
      ]
    },
    {
      "cell_type": "code",
      "metadata": {
        "colab": {
          "base_uri": "https://localhost:8080/"
        },
        "id": "8baSpVVgn-02",
        "outputId": "b97ec418-a9fe-4523-8ef6-57028f1af681"
      },
      "source": [
        "### Analysis\n",
        "# Filter by TypeRun equal to Rest\n",
        "dfRest = dfFiltered[dfFiltered['TypeRun']=='Rest']\n",
        "dfRest.reset_index(inplace=True)\n",
        "#Signal rest\n",
        "signalRest = dfRest['TrialStart'].values.tolist()\n",
        "#Retrieve indexes where signal equals 1\n",
        "indexesOnes = [i for i,val in enumerate(signalRest) if val == 1]\n",
        "timesOnes = [val/(sfreq) for val in indexesOnes]\n",
        "consecutiveOnes = [timesOnes[i+1]-timesOnes[i] for i,val in enumerate(timesOnes) if i+1 < len(timesOnes)]\n",
        "\n",
        "### Report\n",
        "print('Report on REST:')\n",
        "print('Total samples = %d'%(len(signalRest)))\n",
        "print('Sampling frequency (Hz) = %d'%(sfreq))\n",
        "print('Signal duration (s) = %.2f'%(len(signalRest)/sfreq))\n",
        "print('Signal duration (min) = %.2f'%(len(signalRest)/(60.0*sfreq)))\n",
        "print('Total trial start events = '+str(len(indexesOnes)))\n",
        "print('Indexes (sample) = '+str(indexesOnes))\n",
        "print('Times (s) = '+str(timesOnes))\n",
        "print('Duration between consecutive ones (s) = '+str(consecutiveOnes))"
      ],
      "execution_count": 18,
      "outputs": [
        {
          "output_type": "stream",
          "text": [
            "Report on REST:\n",
            "Total samples = 69129\n",
            "Sampling frequency (Hz) = 256\n",
            "Signal duration (s) = 270.04\n",
            "Signal duration (min) = 4.50\n",
            "Total trial start events = 3\n",
            "Indexes (sample) = [2560, 25603, 48646]\n",
            "Times (s) = [10.0, 100.01171875, 190.0234375]\n",
            "Duration between consecutive ones (s) = [90.01171875, 90.01171875]\n"
          ],
          "name": "stdout"
        }
      ]
    },
    {
      "cell_type": "markdown",
      "metadata": {
        "id": "LBsDJkjw2ZVQ"
      },
      "source": [
        "#### **2. What are 72 epochs associated with REST?**\n",
        "\n",
        "R:/ From every \"Trial Start\" event we can slide window of duration: tmax - tmin."
      ]
    },
    {
      "cell_type": "code",
      "metadata": {
        "colab": {
          "base_uri": "https://localhost:8080/"
        },
        "id": "JCtA7gxm4mP0",
        "outputId": "1e8dc3d8-a04c-433e-c104-c185b1dd4048"
      },
      "source": [
        "#Estimating start and end for every epoch\n",
        "totalEpochs = 72\n",
        "epochsPerOnes = round(totalEpochs/len(indexesOnes))\n",
        "starts = []\n",
        "ends = []\n",
        "startstimes = []\n",
        "endstimes = []\n",
        "offset = 0.5*sfreq # One half second\n",
        "totalSamples = round(1 + ((tmax - tmin)*sfreq))\n",
        "steps = round(0.5*totalSamples) #10% of advancing (90% traslaping)\n",
        "\n",
        "for starIndexOnes in indexesOnes:\n",
        "  for i in range(epochsPerOnes):\n",
        "    start = round(starIndexOnes+offset+(i*steps))\n",
        "    starts.append(start)\n",
        "    ends.append(start+totalSamples)\n",
        "\n",
        "#Transforming from sample to time\n",
        "startstimes = [val/(sfreq) for val in starts]\n",
        "endstimes = [val/(sfreq) for val in ends]\n",
        "\n",
        "#Print and check\n",
        "print(startstimes)\n",
        "print(endstimes)"
      ],
      "execution_count": 19,
      "outputs": [
        {
          "output_type": "stream",
          "text": [
            "[10.5, 13.0, 15.5, 18.0, 20.5, 23.0, 25.5, 28.0, 30.5, 33.0, 35.5, 38.0, 40.5, 43.0, 45.5, 48.0, 50.5, 53.0, 55.5, 58.0, 60.5, 63.0, 65.5, 68.0, 100.51171875, 103.01171875, 105.51171875, 108.01171875, 110.51171875, 113.01171875, 115.51171875, 118.01171875, 120.51171875, 123.01171875, 125.51171875, 128.01171875, 130.51171875, 133.01171875, 135.51171875, 138.01171875, 140.51171875, 143.01171875, 145.51171875, 148.01171875, 150.51171875, 153.01171875, 155.51171875, 158.01171875, 190.5234375, 193.0234375, 195.5234375, 198.0234375, 200.5234375, 203.0234375, 205.5234375, 208.0234375, 210.5234375, 213.0234375, 215.5234375, 218.0234375, 220.5234375, 223.0234375, 225.5234375, 228.0234375, 230.5234375, 233.0234375, 235.5234375, 238.0234375, 240.5234375, 243.0234375, 245.5234375, 248.0234375]\n",
            "[15.50390625, 18.00390625, 20.50390625, 23.00390625, 25.50390625, 28.00390625, 30.50390625, 33.00390625, 35.50390625, 38.00390625, 40.50390625, 43.00390625, 45.50390625, 48.00390625, 50.50390625, 53.00390625, 55.50390625, 58.00390625, 60.50390625, 63.00390625, 65.50390625, 68.00390625, 70.50390625, 73.00390625, 105.515625, 108.015625, 110.515625, 113.015625, 115.515625, 118.015625, 120.515625, 123.015625, 125.515625, 128.015625, 130.515625, 133.015625, 135.515625, 138.015625, 140.515625, 143.015625, 145.515625, 148.015625, 150.515625, 153.015625, 155.515625, 158.015625, 160.515625, 163.015625, 195.52734375, 198.02734375, 200.52734375, 203.02734375, 205.52734375, 208.02734375, 210.52734375, 213.02734375, 215.52734375, 218.02734375, 220.52734375, 223.02734375, 225.52734375, 228.02734375, 230.52734375, 233.02734375, 235.52734375, 238.02734375, 240.52734375, 243.02734375, 245.52734375, 248.02734375, 250.52734375, 253.02734375]\n"
          ],
          "name": "stdout"
        }
      ]
    },
    {
      "cell_type": "code",
      "metadata": {
        "colab": {
          "base_uri": "https://localhost:8080/"
        },
        "id": "P2uSuOWH9K_a",
        "outputId": "d47ec67c-f9b1-4390-e144-3ed725c645c2"
      },
      "source": [
        "epochsRest = []\n",
        "labelsRest = []\n",
        "for start,end in zip(starts,ends):\n",
        "  epoch = dfRest.loc[start:end,eeg_channels_of_interest].values.T\n",
        "  epochsRest.append(epoch.copy())\n",
        "  labelsRest.append(0)\n",
        "epochsRest = np.stack(epochsRest,axis=0)\n",
        "labelsRest = np.array(labelsRest)\n",
        "\n",
        "epochsRest.shape, labelsRest.shape"
      ],
      "execution_count": 20,
      "outputs": [
        {
          "output_type": "execute_result",
          "data": {
            "text/plain": [
              "((72, 61, 1282), (72,))"
            ]
          },
          "metadata": {
            "tags": []
          },
          "execution_count": 20
        }
      ]
    },
    {
      "cell_type": "markdown",
      "metadata": {
        "id": "CaL6oWARB3e_"
      },
      "source": [
        "#### **3. ¿How many epochs for -Lateral Grasp- are in the data and which are those epochs?**"
      ]
    },
    {
      "cell_type": "code",
      "metadata": {
        "colab": {
          "base_uri": "https://localhost:8080/"
        },
        "id": "K-a0k4zACG2T",
        "outputId": "4465a803-c5a5-4729-d0f9-b5e970d455b8"
      },
      "source": [
        "### Analysis\n",
        "# Filter by TypeRun equal to Rest\n",
        "dfLG = dfFiltered[dfFiltered['TypeRun']=='AttemptedMovement']\n",
        "dfLG.reset_index(inplace=True)\n",
        "#Signal rest\n",
        "signalLG = dfLG['LateralGraspClassCue'].values.tolist()\n",
        "#Retrieve indexes where signal equals 1\n",
        "indexesOnes = [i for i,val in enumerate(signalLG) if val == 1]\n",
        "timesOnes = [val/(sfreq) for val in indexesOnes]\n",
        "consecutiveOnes = [timesOnes[i+1]-timesOnes[i] for i,val in enumerate(timesOnes) if i+1 < len(timesOnes)]\n",
        "\n",
        "### Report\n",
        "print('Report on Lateral Grasp:')\n",
        "print('Total samples = %d'%(len(signalLG)))\n",
        "print('Sampling frequency (Hz) = %d'%(sfreq))\n",
        "print('Signal duration (s) = %.2f'%(len(signalLG)/sfreq))\n",
        "print('Signal duration (min) = %.2f'%(len(signalLG)/(60.0*sfreq)))\n",
        "print('Total lateral grasp events = '+str(len(indexesOnes)))\n",
        "print('Indexes (sample) = '+str(indexesOnes))\n",
        "print('Times (s) = '+str(timesOnes))\n",
        "print('Duration between consecutive ones (s) = '+str(consecutiveOnes))"
      ],
      "execution_count": 21,
      "outputs": [
        {
          "output_type": "stream",
          "text": [
            "Report on Lateral Grasp:\n",
            "Total samples = 691044\n",
            "Sampling frequency (Hz) = 256\n",
            "Signal duration (s) = 2699.39\n",
            "Signal duration (min) = 44.99\n",
            "Total lateral grasp events = 72\n",
            "Indexes (sample) = [8943, 17585, 24019, 29582, 32903, 46994, 61145, 64521, 80600, 82341, 87409, 93206, 110498, 126312, 128047, 142325, 166138, 167711, 171424, 183488, 186837, 217073, 219069, 222632, 231771, 244712, 248117, 258926, 264198, 278187, 283528, 287238, 316986, 320389, 335009, 338405, 345414, 347188, 349056, 356141, 401282, 408593, 413920, 415691, 428386, 433336, 450390, 453549, 467353, 475933, 477591, 501281, 503030, 511851, 523015, 530436, 539303, 555876, 566717, 574106, 577448, 581319, 589753, 602789, 620220, 623896, 631110, 635028, 640479, 652734, 680444, 682293]\n",
            "Times (s) = [34.93359375, 68.69140625, 93.82421875, 115.5546875, 128.52734375, 183.5703125, 238.84765625, 252.03515625, 314.84375, 321.64453125, 341.44140625, 364.0859375, 431.6328125, 493.40625, 500.18359375, 555.95703125, 648.9765625, 655.12109375, 669.625, 716.75, 729.83203125, 847.94140625, 855.73828125, 869.65625, 905.35546875, 955.90625, 969.20703125, 1011.4296875, 1032.0234375, 1086.66796875, 1107.53125, 1122.0234375, 1238.2265625, 1251.51953125, 1308.62890625, 1321.89453125, 1349.2734375, 1356.203125, 1363.5, 1391.17578125, 1567.5078125, 1596.06640625, 1616.875, 1623.79296875, 1673.3828125, 1692.71875, 1759.3359375, 1771.67578125, 1825.59765625, 1859.11328125, 1865.58984375, 1958.12890625, 1964.9609375, 1999.41796875, 2043.02734375, 2072.015625, 2106.65234375, 2171.390625, 2213.73828125, 2242.6015625, 2255.65625, 2270.77734375, 2303.72265625, 2354.64453125, 2422.734375, 2437.09375, 2465.2734375, 2480.578125, 2501.87109375, 2549.7421875, 2657.984375, 2665.20703125]\n",
            "Duration between consecutive ones (s) = [33.7578125, 25.1328125, 21.73046875, 12.97265625, 55.04296875, 55.27734375, 13.1875, 62.80859375, 6.80078125, 19.796875, 22.64453125, 67.546875, 61.7734375, 6.77734375, 55.7734375, 93.01953125, 6.14453125, 14.50390625, 47.125, 13.08203125, 118.109375, 7.796875, 13.91796875, 35.69921875, 50.55078125, 13.30078125, 42.22265625, 20.59375, 54.64453125, 20.86328125, 14.4921875, 116.203125, 13.29296875, 57.109375, 13.265625, 27.37890625, 6.9296875, 7.296875, 27.67578125, 176.33203125, 28.55859375, 20.80859375, 6.91796875, 49.58984375, 19.3359375, 66.6171875, 12.33984375, 53.921875, 33.515625, 6.4765625, 92.5390625, 6.83203125, 34.45703125, 43.609375, 28.98828125, 34.63671875, 64.73828125, 42.34765625, 28.86328125, 13.0546875, 15.12109375, 32.9453125, 50.921875, 68.08984375, 14.359375, 28.1796875, 15.3046875, 21.29296875, 47.87109375, 108.2421875, 7.22265625]\n"
          ],
          "name": "stdout"
        }
      ]
    },
    {
      "cell_type": "code",
      "metadata": {
        "colab": {
          "base_uri": "https://localhost:8080/"
        },
        "id": "sErv9jkpDkZG",
        "outputId": "2e26cdf9-9918-4e8e-b212-5f8be2003dd5"
      },
      "source": [
        "#Estimating start and end for every epoch\n",
        "totalSamples = round(1 + ((tmax - tmin)*sfreq))\n",
        "starts = []\n",
        "ends = []\n",
        "startstimes = []\n",
        "endstimes = []\n",
        "\n",
        "for starIndexOnes in indexesOnes:\n",
        "  start = starIndexOnes + sfreq*tmin\n",
        "  starts.append(start)\n",
        "  ends.append(start+totalSamples)\n",
        "\n",
        "#Transforming from sample to time\n",
        "startstimes = [val/(sfreq) for val in starts]\n",
        "endstimes = [val/(sfreq) for val in ends]\n",
        "\n",
        "#Print and check\n",
        "print(startstimes)\n",
        "print(endstimes)"
      ],
      "execution_count": 22,
      "outputs": [
        {
          "output_type": "stream",
          "text": [
            "[32.93359375, 66.69140625, 91.82421875, 113.5546875, 126.52734375, 181.5703125, 236.84765625, 250.03515625, 312.84375, 319.64453125, 339.44140625, 362.0859375, 429.6328125, 491.40625, 498.18359375, 553.95703125, 646.9765625, 653.12109375, 667.625, 714.75, 727.83203125, 845.94140625, 853.73828125, 867.65625, 903.35546875, 953.90625, 967.20703125, 1009.4296875, 1030.0234375, 1084.66796875, 1105.53125, 1120.0234375, 1236.2265625, 1249.51953125, 1306.62890625, 1319.89453125, 1347.2734375, 1354.203125, 1361.5, 1389.17578125, 1565.5078125, 1594.06640625, 1614.875, 1621.79296875, 1671.3828125, 1690.71875, 1757.3359375, 1769.67578125, 1823.59765625, 1857.11328125, 1863.58984375, 1956.12890625, 1962.9609375, 1997.41796875, 2041.02734375, 2070.015625, 2104.65234375, 2169.390625, 2211.73828125, 2240.6015625, 2253.65625, 2268.77734375, 2301.72265625, 2352.64453125, 2420.734375, 2435.09375, 2463.2734375, 2478.578125, 2499.87109375, 2547.7421875, 2655.984375, 2663.20703125]\n",
            "[37.9375, 71.6953125, 96.828125, 118.55859375, 131.53125, 186.57421875, 241.8515625, 255.0390625, 317.84765625, 324.6484375, 344.4453125, 367.08984375, 434.63671875, 496.41015625, 503.1875, 558.9609375, 651.98046875, 658.125, 672.62890625, 719.75390625, 732.8359375, 850.9453125, 858.7421875, 872.66015625, 908.359375, 958.91015625, 972.2109375, 1014.43359375, 1035.02734375, 1089.671875, 1110.53515625, 1125.02734375, 1241.23046875, 1254.5234375, 1311.6328125, 1324.8984375, 1352.27734375, 1359.20703125, 1366.50390625, 1394.1796875, 1570.51171875, 1599.0703125, 1619.87890625, 1626.796875, 1676.38671875, 1695.72265625, 1762.33984375, 1774.6796875, 1828.6015625, 1862.1171875, 1868.59375, 1961.1328125, 1967.96484375, 2002.421875, 2046.03125, 2075.01953125, 2109.65625, 2174.39453125, 2216.7421875, 2245.60546875, 2258.66015625, 2273.78125, 2306.7265625, 2357.6484375, 2425.73828125, 2440.09765625, 2468.27734375, 2483.58203125, 2504.875, 2552.74609375, 2660.98828125, 2668.2109375]\n"
          ],
          "name": "stdout"
        }
      ]
    },
    {
      "cell_type": "code",
      "metadata": {
        "colab": {
          "base_uri": "https://localhost:8080/"
        },
        "id": "QAOwVFhrEVzT",
        "outputId": "6e377cf4-b81c-4139-91cb-6c113e224bf6"
      },
      "source": [
        "epochsLG = []\n",
        "labelsLG = []\n",
        "for start,end in zip(starts,ends):\n",
        "  epoch = dfLG.loc[start:end,eeg_channels_of_interest].values.T\n",
        "  epochsLG.append(epoch.copy())\n",
        "  labelsLG.append(1)\n",
        "epochsLG = np.stack(epochsLG,axis=0)\n",
        "labelsLG = np.array(labelsLG)\n",
        "\n",
        "epochsLG.shape, labelsLG.shape"
      ],
      "execution_count": 23,
      "outputs": [
        {
          "output_type": "execute_result",
          "data": {
            "text/plain": [
              "((72, 61, 1282), (72,))"
            ]
          },
          "metadata": {
            "tags": []
          },
          "execution_count": 23
        }
      ]
    },
    {
      "cell_type": "markdown",
      "metadata": {
        "id": "Is7QcNv1EzWl"
      },
      "source": [
        "#### **4. ¿How many epochs for -Palmar Grasp- are in the data and which are those epochs?**"
      ]
    },
    {
      "cell_type": "code",
      "metadata": {
        "colab": {
          "base_uri": "https://localhost:8080/"
        },
        "id": "U-j-_pEBE-xz",
        "outputId": "eec97aea-cd2f-4a41-e332-1066a63a5e30"
      },
      "source": [
        "### Analysis\n",
        "# Filter by TypeRun equal to Rest\n",
        "dfPG = dfFiltered[dfFiltered['TypeRun']=='AttemptedMovement']\n",
        "dfPG.reset_index(inplace=True)\n",
        "#Signal rest\n",
        "signalPG = dfPG['PalmarGraspClassCue'].values.tolist()\n",
        "#Retrieve indexes where signal equals 1\n",
        "indexesOnes = [i for i,val in enumerate(signalPG) if val == 1]\n",
        "timesOnes = [val/(sfreq) for val in indexesOnes]\n",
        "consecutiveOnes = [timesOnes[i+1]-timesOnes[i] for i,val in enumerate(timesOnes) if i+1 < len(timesOnes)]\n",
        "\n",
        "### Report\n",
        "print('Report on Palmar Grasp:')\n",
        "print('Total samples = %d'%(len(signalPG)))\n",
        "print('Sampling frequency (Hz) = %d'%(sfreq))\n",
        "print('Signal duration (s) = %.2f'%(len(signalPG)/sfreq))\n",
        "print('Signal duration (min) = %.2f'%(len(signalPG)/(60.0*sfreq)))\n",
        "print('Total palmar grasp events = '+str(len(indexesOnes)))\n",
        "print('Indexes (sample) = '+str(indexesOnes))\n",
        "print('Times (s) = '+str(timesOnes))\n",
        "print('Duration between consecutive ones (s) = '+str(consecutiveOnes))"
      ],
      "execution_count": 24,
      "outputs": [
        {
          "output_type": "stream",
          "text": [
            "Report on Palmar Grasp:\n",
            "Total samples = 691044\n",
            "Sampling frequency (Hz) = 256\n",
            "Signal duration (s) = 2699.39\n",
            "Signal duration (min) = 44.99\n",
            "Total palmar grasp events = 72\n",
            "Indexes (sample) = [12348, 14235, 27539, 34798, 38215, 57730, 59516, 67881, 78581, 84314, 89274, 94755, 99695, 103158, 131762, 148100, 157071, 169570, 176737, 180043, 188644, 201256, 202986, 215257, 235335, 241319, 250064, 253413, 262245, 267448, 288830, 293662, 309221, 314984, 325424, 336807, 341870, 363078, 364909, 366953, 384610, 386392, 392179, 397461, 399408, 417314, 430162, 439103, 470766, 482849, 486695, 494129, 497341, 499340, 506444, 508236, 541263, 552146, 557493, 572224, 586069, 587947, 596857, 608283, 616990, 622069, 633053, 654408, 656011, 665559, 673363, 687156]\n",
            "Times (s) = [48.234375, 55.60546875, 107.57421875, 135.9296875, 149.27734375, 225.5078125, 232.484375, 265.16015625, 306.95703125, 329.3515625, 348.7265625, 370.13671875, 389.43359375, 402.9609375, 514.6953125, 578.515625, 613.55859375, 662.3828125, 690.37890625, 703.29296875, 736.890625, 786.15625, 792.9140625, 840.84765625, 919.27734375, 942.65234375, 976.8125, 989.89453125, 1024.39453125, 1044.71875, 1128.2421875, 1147.1171875, 1207.89453125, 1230.40625, 1271.1875, 1315.65234375, 1335.4296875, 1418.2734375, 1425.42578125, 1433.41015625, 1502.3828125, 1509.34375, 1531.94921875, 1552.58203125, 1560.1875, 1630.1328125, 1680.3203125, 1715.24609375, 1838.9296875, 1886.12890625, 1901.15234375, 1930.19140625, 1942.73828125, 1950.546875, 1978.296875, 1985.296875, 2114.30859375, 2156.8203125, 2177.70703125, 2235.25, 2289.33203125, 2296.66796875, 2331.47265625, 2376.10546875, 2410.1171875, 2429.95703125, 2472.86328125, 2556.28125, 2562.54296875, 2599.83984375, 2630.32421875, 2684.203125]\n",
            "Duration between consecutive ones (s) = [7.37109375, 51.96875, 28.35546875, 13.34765625, 76.23046875, 6.9765625, 32.67578125, 41.796875, 22.39453125, 19.375, 21.41015625, 19.296875, 13.52734375, 111.734375, 63.8203125, 35.04296875, 48.82421875, 27.99609375, 12.9140625, 33.59765625, 49.265625, 6.7578125, 47.93359375, 78.4296875, 23.375, 34.16015625, 13.08203125, 34.5, 20.32421875, 83.5234375, 18.875, 60.77734375, 22.51171875, 40.78125, 44.46484375, 19.77734375, 82.84375, 7.15234375, 7.984375, 68.97265625, 6.9609375, 22.60546875, 20.6328125, 7.60546875, 69.9453125, 50.1875, 34.92578125, 123.68359375, 47.19921875, 15.0234375, 29.0390625, 12.546875, 7.80859375, 27.75, 7.0, 129.01171875, 42.51171875, 20.88671875, 57.54296875, 54.08203125, 7.3359375, 34.8046875, 44.6328125, 34.01171875, 19.83984375, 42.90625, 83.41796875, 6.26171875, 37.296875, 30.484375, 53.87890625]\n"
          ],
          "name": "stdout"
        }
      ]
    },
    {
      "cell_type": "code",
      "metadata": {
        "colab": {
          "base_uri": "https://localhost:8080/"
        },
        "id": "yRF4SmtZFqTF",
        "outputId": "55abd0dc-0042-4bae-e572-ce7c4c285c6b"
      },
      "source": [
        "#Estimating start and end for every epoch\n",
        "totalSamples = round(1 + ((tmax - tmin)*sfreq))\n",
        "starts = []\n",
        "ends = []\n",
        "startstimes = []\n",
        "endstimes = []\n",
        "\n",
        "for starIndexOnes in indexesOnes:\n",
        "  start = starIndexOnes + sfreq*tmin\n",
        "  starts.append(start)\n",
        "  ends.append(start+totalSamples)\n",
        "\n",
        "#Transforming from sample to time\n",
        "startstimes = [val/(sfreq) for val in starts]\n",
        "endstimes = [val/(sfreq) for val in ends]\n",
        "\n",
        "#Print and check\n",
        "print(startstimes)\n",
        "print(endstimes)"
      ],
      "execution_count": 25,
      "outputs": [
        {
          "output_type": "stream",
          "text": [
            "[46.234375, 53.60546875, 105.57421875, 133.9296875, 147.27734375, 223.5078125, 230.484375, 263.16015625, 304.95703125, 327.3515625, 346.7265625, 368.13671875, 387.43359375, 400.9609375, 512.6953125, 576.515625, 611.55859375, 660.3828125, 688.37890625, 701.29296875, 734.890625, 784.15625, 790.9140625, 838.84765625, 917.27734375, 940.65234375, 974.8125, 987.89453125, 1022.39453125, 1042.71875, 1126.2421875, 1145.1171875, 1205.89453125, 1228.40625, 1269.1875, 1313.65234375, 1333.4296875, 1416.2734375, 1423.42578125, 1431.41015625, 1500.3828125, 1507.34375, 1529.94921875, 1550.58203125, 1558.1875, 1628.1328125, 1678.3203125, 1713.24609375, 1836.9296875, 1884.12890625, 1899.15234375, 1928.19140625, 1940.73828125, 1948.546875, 1976.296875, 1983.296875, 2112.30859375, 2154.8203125, 2175.70703125, 2233.25, 2287.33203125, 2294.66796875, 2329.47265625, 2374.10546875, 2408.1171875, 2427.95703125, 2470.86328125, 2554.28125, 2560.54296875, 2597.83984375, 2628.32421875, 2682.203125]\n",
            "[51.23828125, 58.609375, 110.578125, 138.93359375, 152.28125, 228.51171875, 235.48828125, 268.1640625, 309.9609375, 332.35546875, 351.73046875, 373.140625, 392.4375, 405.96484375, 517.69921875, 581.51953125, 616.5625, 665.38671875, 693.3828125, 706.296875, 739.89453125, 789.16015625, 795.91796875, 843.8515625, 922.28125, 945.65625, 979.81640625, 992.8984375, 1027.3984375, 1047.72265625, 1131.24609375, 1150.12109375, 1210.8984375, 1233.41015625, 1274.19140625, 1318.65625, 1338.43359375, 1421.27734375, 1428.4296875, 1436.4140625, 1505.38671875, 1512.34765625, 1534.953125, 1555.5859375, 1563.19140625, 1633.13671875, 1683.32421875, 1718.25, 1841.93359375, 1889.1328125, 1904.15625, 1933.1953125, 1945.7421875, 1953.55078125, 1981.30078125, 1988.30078125, 2117.3125, 2159.82421875, 2180.7109375, 2238.25390625, 2292.3359375, 2299.671875, 2334.4765625, 2379.109375, 2413.12109375, 2432.9609375, 2475.8671875, 2559.28515625, 2565.546875, 2602.84375, 2633.328125, 2687.20703125]\n"
          ],
          "name": "stdout"
        }
      ]
    },
    {
      "cell_type": "code",
      "metadata": {
        "colab": {
          "base_uri": "https://localhost:8080/"
        },
        "id": "2qTnlsEGF2q1",
        "outputId": "356fbeb5-42cf-4d47-ac7c-fae123749065"
      },
      "source": [
        "epochsPG = []\n",
        "labelsPG = []\n",
        "for start,end in zip(starts,ends):\n",
        "  epoch = dfPG.loc[start:end,eeg_channels_of_interest].values.T\n",
        "  epochsPG.append(epoch.copy())\n",
        "  labelsPG.append(2)\n",
        "epochsPG = np.stack(epochsPG,axis=0)\n",
        "labelsPG = np.array(labelsPG)\n",
        "\n",
        "epochsPG.shape, labelsPG.shape"
      ],
      "execution_count": 26,
      "outputs": [
        {
          "output_type": "execute_result",
          "data": {
            "text/plain": [
              "((72, 61, 1282), (72,))"
            ]
          },
          "metadata": {
            "tags": []
          },
          "execution_count": 26
        }
      ]
    },
    {
      "cell_type": "markdown",
      "metadata": {
        "id": "G2TC2WzcKPbY"
      },
      "source": [
        "#### 5. ¿How discriminable, on the basis of STM, are rest epochs from lateral grasp?"
      ]
    },
    {
      "cell_type": "code",
      "metadata": {
        "colab": {
          "base_uri": "https://localhost:8080/"
        },
        "id": "ierlz2kOK2iP",
        "outputId": "594becec-0699-4371-f1f5-3d80eae900c9"
      },
      "source": [
        "X = np.concatenate([epochsRest,epochsLG,epochsPG], axis=0)\n",
        "y = np.concatenate([labelsRest,labelsLG,labelsPG])\n",
        "X.shape, y.shape, y"
      ],
      "execution_count": 27,
      "outputs": [
        {
          "output_type": "execute_result",
          "data": {
            "text/plain": [
              "((216, 61, 1282),\n",
              " (216,),\n",
              " array([0, 0, 0, 0, 0, 0, 0, 0, 0, 0, 0, 0, 0, 0, 0, 0, 0, 0, 0, 0, 0, 0,\n",
              "        0, 0, 0, 0, 0, 0, 0, 0, 0, 0, 0, 0, 0, 0, 0, 0, 0, 0, 0, 0, 0, 0,\n",
              "        0, 0, 0, 0, 0, 0, 0, 0, 0, 0, 0, 0, 0, 0, 0, 0, 0, 0, 0, 0, 0, 0,\n",
              "        0, 0, 0, 0, 0, 0, 1, 1, 1, 1, 1, 1, 1, 1, 1, 1, 1, 1, 1, 1, 1, 1,\n",
              "        1, 1, 1, 1, 1, 1, 1, 1, 1, 1, 1, 1, 1, 1, 1, 1, 1, 1, 1, 1, 1, 1,\n",
              "        1, 1, 1, 1, 1, 1, 1, 1, 1, 1, 1, 1, 1, 1, 1, 1, 1, 1, 1, 1, 1, 1,\n",
              "        1, 1, 1, 1, 1, 1, 1, 1, 1, 1, 1, 1, 2, 2, 2, 2, 2, 2, 2, 2, 2, 2,\n",
              "        2, 2, 2, 2, 2, 2, 2, 2, 2, 2, 2, 2, 2, 2, 2, 2, 2, 2, 2, 2, 2, 2,\n",
              "        2, 2, 2, 2, 2, 2, 2, 2, 2, 2, 2, 2, 2, 2, 2, 2, 2, 2, 2, 2, 2, 2,\n",
              "        2, 2, 2, 2, 2, 2, 2, 2, 2, 2, 2, 2, 2, 2, 2, 2, 2, 2]))"
            ]
          },
          "metadata": {
            "tags": []
          },
          "execution_count": 27
        }
      ]
    },
    {
      "cell_type": "code",
      "metadata": {
        "id": "iTr6zibaQfmo"
      },
      "source": [
        "clf_multi = OneVsRestClassifier(STM(C1=1.0, C2=1.0, maxIter=30, tolSTM=1e-4, penalty = 'l2', dual = True, tol=1e-4,loss = 'squared_hinge', maxIterSVM=100000, n_jobs=1))"
      ],
      "execution_count": 28,
      "outputs": []
    },
    {
      "cell_type": "code",
      "metadata": {
        "id": "kgxAQJS49l9p"
      },
      "source": [
        "cv = ShuffleSplit(10, test_size=0.2, random_state=42)\n",
        "cv_split = cv.split(X)"
      ],
      "execution_count": 29,
      "outputs": []
    },
    {
      "cell_type": "code",
      "metadata": {
        "colab": {
          "base_uri": "https://localhost:8080/"
        },
        "id": "9XKuW8_E9szP",
        "outputId": "309da67d-ec51-4f10-b43f-229c528173c9"
      },
      "source": [
        "scores = cross_val_score(clf_multi, X, y, cv=cv, n_jobs=1)\n",
        "print(scores)"
      ],
      "execution_count": 30,
      "outputs": [
        {
          "output_type": "stream",
          "text": [
            "1 / 30\n",
            "deltau, deltav 7.810249675906773 35.805027579934894\n",
            "2 / 30\n",
            "deltau, deltav 0.01297833133861887 0.6360316107257434\n",
            "3 / 30\n",
            "deltau, deltav 0.00021012861667320788 0.11294142713023664\n",
            "4 / 30\n"
          ],
          "name": "stdout"
        },
        {
          "output_type": "stream",
          "text": [
            "/usr/local/lib/python3.7/dist-packages/sklearn/svm/_base.py:947: ConvergenceWarning:\n",
            "\n",
            "Liblinear failed to converge, increase the number of iterations.\n",
            "\n"
          ],
          "name": "stderr"
        },
        {
          "output_type": "stream",
          "text": [
            "deltau, deltav 5.648041754445429e-05 0.00865049395499\n",
            "5 / 30\n"
          ],
          "name": "stdout"
        },
        {
          "output_type": "stream",
          "text": [
            "/usr/local/lib/python3.7/dist-packages/sklearn/svm/_base.py:947: ConvergenceWarning:\n",
            "\n",
            "Liblinear failed to converge, increase the number of iterations.\n",
            "\n"
          ],
          "name": "stderr"
        },
        {
          "output_type": "stream",
          "text": [
            "deltau, deltav 5.723923082406016e-05 0.006226312543296199\n",
            "6 / 30\n"
          ],
          "name": "stdout"
        },
        {
          "output_type": "stream",
          "text": [
            "/usr/local/lib/python3.7/dist-packages/sklearn/svm/_base.py:947: ConvergenceWarning:\n",
            "\n",
            "Liblinear failed to converge, increase the number of iterations.\n",
            "\n"
          ],
          "name": "stderr"
        },
        {
          "output_type": "stream",
          "text": [
            "deltau, deltav 5.845148442764265e-05 0.0056959883910718346\n",
            "7 / 30\n",
            "deltau, deltav 5.570363445257753e-05 0.006306763027807676\n",
            "8 / 30\n",
            "deltau, deltav 5.569526433313613e-05 0.005309906432890583\n",
            "9 / 30\n",
            "deltau, deltav 5.5497852865304307e-05 0.004911741174822696\n",
            "10 / 30\n"
          ],
          "name": "stdout"
        },
        {
          "output_type": "stream",
          "text": [
            "/usr/local/lib/python3.7/dist-packages/sklearn/svm/_base.py:947: ConvergenceWarning:\n",
            "\n",
            "Liblinear failed to converge, increase the number of iterations.\n",
            "\n"
          ],
          "name": "stderr"
        },
        {
          "output_type": "stream",
          "text": [
            "deltau, deltav 5.5229607087354355e-05 0.004652288349916531\n",
            "11 / 30\n",
            "deltau, deltav 5.489758040309273e-05 0.004420313506494822\n",
            "12 / 30\n",
            "deltau, deltav 5.4698104189771e-05 0.004222151053860042\n",
            "13 / 30\n",
            "deltau, deltav 5.438111300758023e-05 0.004048957108038398\n",
            "14 / 30\n"
          ],
          "name": "stdout"
        },
        {
          "output_type": "stream",
          "text": [
            "/usr/local/lib/python3.7/dist-packages/sklearn/svm/_base.py:947: ConvergenceWarning:\n",
            "\n",
            "Liblinear failed to converge, increase the number of iterations.\n",
            "\n"
          ],
          "name": "stderr"
        },
        {
          "output_type": "stream",
          "text": [
            "deltau, deltav 5.409757830286496e-05 0.0038922078184239267\n",
            "15 / 30\n"
          ],
          "name": "stdout"
        },
        {
          "output_type": "stream",
          "text": [
            "/usr/local/lib/python3.7/dist-packages/sklearn/svm/_base.py:947: ConvergenceWarning:\n",
            "\n",
            "Liblinear failed to converge, increase the number of iterations.\n",
            "\n"
          ],
          "name": "stderr"
        },
        {
          "output_type": "stream",
          "text": [
            "deltau, deltav 5.521899214949783e-05 0.004101451743053772\n",
            "16 / 30\n"
          ],
          "name": "stdout"
        },
        {
          "output_type": "stream",
          "text": [
            "/usr/local/lib/python3.7/dist-packages/sklearn/svm/_base.py:947: ConvergenceWarning:\n",
            "\n",
            "Liblinear failed to converge, increase the number of iterations.\n",
            "\n"
          ],
          "name": "stderr"
        },
        {
          "output_type": "stream",
          "text": [
            "deltau, deltav 8.037578966739754e-05 0.004137706754830378\n",
            "17 / 30\n"
          ],
          "name": "stdout"
        },
        {
          "output_type": "stream",
          "text": [
            "/usr/local/lib/python3.7/dist-packages/sklearn/svm/_base.py:947: ConvergenceWarning:\n",
            "\n",
            "Liblinear failed to converge, increase the number of iterations.\n",
            "\n"
          ],
          "name": "stderr"
        },
        {
          "output_type": "stream",
          "text": [
            "deltau, deltav 6.824951855046154e-05 0.006450445293510498\n",
            "18 / 30\n"
          ],
          "name": "stdout"
        },
        {
          "output_type": "stream",
          "text": [
            "/usr/local/lib/python3.7/dist-packages/sklearn/svm/_base.py:947: ConvergenceWarning:\n",
            "\n",
            "Liblinear failed to converge, increase the number of iterations.\n",
            "\n"
          ],
          "name": "stderr"
        },
        {
          "output_type": "stream",
          "text": [
            "deltau, deltav 5.265565931390542e-05 0.004951075222464802\n",
            "19 / 30\n"
          ],
          "name": "stdout"
        },
        {
          "output_type": "stream",
          "text": [
            "/usr/local/lib/python3.7/dist-packages/sklearn/svm/_base.py:947: ConvergenceWarning:\n",
            "\n",
            "Liblinear failed to converge, increase the number of iterations.\n",
            "\n"
          ],
          "name": "stderr"
        },
        {
          "output_type": "stream",
          "text": [
            "deltau, deltav 5.489687045366472e-05 0.0033281230987355155\n",
            "20 / 30\n",
            "deltau, deltav 5.1731428213334674e-05 0.003201583911722766\n",
            "21 / 30\n",
            "deltau, deltav 4.952522206003486e-05 0.003115685978631255\n",
            "22 / 30\n",
            "deltau, deltav 4.942134846039594e-05 0.0047931153518114555\n",
            "23 / 30\n",
            "deltau, deltav 4.9115870726529005e-05 0.0028198219532325065\n",
            "24 / 30\n",
            "deltau, deltav 4.840826877497167e-05 0.002727047364933322\n",
            "25 / 30\n",
            "deltau, deltav 4.835725406331205e-05 0.003856440851229857\n",
            "26 / 30\n",
            "deltau, deltav 4.8083079805402e-05 0.004766951891193113\n",
            "27 / 30\n",
            "deltau, deltav 4.811392972237175e-05 0.004187117617917744\n",
            "28 / 30\n",
            "deltau, deltav 4.792842238009526e-05 0.004193500781342205\n",
            "29 / 30\n",
            "deltau, deltav 4.7714349688875266e-05 0.004015202688824903\n",
            "30 / 30\n",
            "deltau, deltav 4.759401504928037e-05 0.0030882082218032137\n",
            "1 / 30\n",
            "deltau, deltav 7.81024967590687 35.805027579931995\n",
            "2 / 30\n"
          ],
          "name": "stdout"
        },
        {
          "output_type": "stream",
          "text": [
            "/usr/local/lib/python3.7/dist-packages/sklearn/svm/_base.py:947: ConvergenceWarning:\n",
            "\n",
            "Liblinear failed to converge, increase the number of iterations.\n",
            "\n"
          ],
          "name": "stderr"
        },
        {
          "output_type": "stream",
          "text": [
            "deltau, deltav 0.002887199979317888 0.6689356835177196\n",
            "3 / 30\n",
            "deltau, deltav 0.020740001260324537 5.412848151130018\n",
            "4 / 30\n",
            "deltau, deltav 0.005959218622171272 3.980657349188047\n",
            "5 / 30\n",
            "deltau, deltav 0.0019626846444373578 0.7246663703634759\n",
            "6 / 30\n",
            "deltau, deltav 0.0011690845351970528 0.1836970344220589\n",
            "7 / 30\n",
            "deltau, deltav 0.0010683984469694373 0.11853432340268273\n",
            "8 / 30\n",
            "deltau, deltav 0.0010556197571959737 0.1092061690456262\n",
            "9 / 30\n",
            "deltau, deltav 0.0010244233152694102 0.10242201770799657\n",
            "10 / 30\n",
            "deltau, deltav 0.000890069574072181 0.0917944754114797\n",
            "11 / 30\n",
            "deltau, deltav 0.0007891009023728777 0.07355699234493789\n",
            "12 / 30\n",
            "deltau, deltav 0.0007327935547331713 0.06218270444905229\n",
            "13 / 30\n"
          ],
          "name": "stdout"
        },
        {
          "output_type": "stream",
          "text": [
            "/usr/local/lib/python3.7/dist-packages/sklearn/svm/_base.py:947: ConvergenceWarning:\n",
            "\n",
            "Liblinear failed to converge, increase the number of iterations.\n",
            "\n"
          ],
          "name": "stderr"
        },
        {
          "output_type": "stream",
          "text": [
            "deltau, deltav 0.0006887123884485472 0.055410231762606406\n",
            "14 / 30\n"
          ],
          "name": "stdout"
        },
        {
          "output_type": "stream",
          "text": [
            "/usr/local/lib/python3.7/dist-packages/sklearn/svm/_base.py:947: ConvergenceWarning:\n",
            "\n",
            "Liblinear failed to converge, increase the number of iterations.\n",
            "\n"
          ],
          "name": "stderr"
        },
        {
          "output_type": "stream",
          "text": [
            "deltau, deltav 0.0006540286408115802 0.05018419117452307\n",
            "15 / 30\n"
          ],
          "name": "stdout"
        },
        {
          "output_type": "stream",
          "text": [
            "/usr/local/lib/python3.7/dist-packages/sklearn/svm/_base.py:947: ConvergenceWarning:\n",
            "\n",
            "Liblinear failed to converge, increase the number of iterations.\n",
            "\n"
          ],
          "name": "stderr"
        },
        {
          "output_type": "stream",
          "text": [
            "deltau, deltav 0.0006077785048567626 0.045469117115051486\n",
            "16 / 30\n"
          ],
          "name": "stdout"
        },
        {
          "output_type": "stream",
          "text": [
            "/usr/local/lib/python3.7/dist-packages/sklearn/svm/_base.py:947: ConvergenceWarning:\n",
            "\n",
            "Liblinear failed to converge, increase the number of iterations.\n",
            "\n"
          ],
          "name": "stderr"
        },
        {
          "output_type": "stream",
          "text": [
            "deltau, deltav 0.000605362393923378 0.03881153049179917\n",
            "17 / 30\n"
          ],
          "name": "stdout"
        },
        {
          "output_type": "stream",
          "text": [
            "/usr/local/lib/python3.7/dist-packages/sklearn/svm/_base.py:947: ConvergenceWarning:\n",
            "\n",
            "Liblinear failed to converge, increase the number of iterations.\n",
            "\n"
          ],
          "name": "stderr"
        },
        {
          "output_type": "stream",
          "text": [
            "deltau, deltav 0.0005922251915783954 0.04026634465598988\n",
            "18 / 30\n"
          ],
          "name": "stdout"
        },
        {
          "output_type": "stream",
          "text": [
            "/usr/local/lib/python3.7/dist-packages/sklearn/svm/_base.py:947: ConvergenceWarning:\n",
            "\n",
            "Liblinear failed to converge, increase the number of iterations.\n",
            "\n"
          ],
          "name": "stderr"
        },
        {
          "output_type": "stream",
          "text": [
            "deltau, deltav 0.0005680315142165654 0.03658098314888337\n",
            "19 / 30\n"
          ],
          "name": "stdout"
        },
        {
          "output_type": "stream",
          "text": [
            "/usr/local/lib/python3.7/dist-packages/sklearn/svm/_base.py:947: ConvergenceWarning:\n",
            "\n",
            "Liblinear failed to converge, increase the number of iterations.\n",
            "\n"
          ],
          "name": "stderr"
        },
        {
          "output_type": "stream",
          "text": [
            "deltau, deltav 0.0005513428944782696 0.03342684927241296\n",
            "20 / 30\n"
          ],
          "name": "stdout"
        },
        {
          "output_type": "stream",
          "text": [
            "/usr/local/lib/python3.7/dist-packages/sklearn/svm/_base.py:947: ConvergenceWarning:\n",
            "\n",
            "Liblinear failed to converge, increase the number of iterations.\n",
            "\n"
          ],
          "name": "stderr"
        },
        {
          "output_type": "stream",
          "text": [
            "deltau, deltav 0.0005422937083084993 0.03076196693759491\n",
            "21 / 30\n"
          ],
          "name": "stdout"
        },
        {
          "output_type": "stream",
          "text": [
            "/usr/local/lib/python3.7/dist-packages/sklearn/svm/_base.py:947: ConvergenceWarning:\n",
            "\n",
            "Liblinear failed to converge, increase the number of iterations.\n",
            "\n"
          ],
          "name": "stderr"
        },
        {
          "output_type": "stream",
          "text": [
            "deltau, deltav 0.0005259267369167662 0.0291006623058957\n",
            "22 / 30\n"
          ],
          "name": "stdout"
        },
        {
          "output_type": "stream",
          "text": [
            "/usr/local/lib/python3.7/dist-packages/sklearn/svm/_base.py:947: ConvergenceWarning:\n",
            "\n",
            "Liblinear failed to converge, increase the number of iterations.\n",
            "\n"
          ],
          "name": "stderr"
        },
        {
          "output_type": "stream",
          "text": [
            "deltau, deltav 0.0005099259846501266 0.026987841905041974\n",
            "23 / 30\n",
            "deltau, deltav 0.0004991837190124762 0.024977597620027547\n",
            "24 / 30\n",
            "deltau, deltav 0.0004918083304460456 0.023558464596735166\n",
            "25 / 30\n",
            "deltau, deltav 0.0004839113733695004 0.022625264692364443\n",
            "26 / 30\n",
            "deltau, deltav 0.0004758970201321615 0.021818895247196223\n",
            "27 / 30\n",
            "deltau, deltav 0.0004660685925133251 0.020885397353538313\n",
            "28 / 30\n",
            "deltau, deltav 0.00046011205853429995 0.01983802813231127\n",
            "29 / 30\n"
          ],
          "name": "stdout"
        },
        {
          "output_type": "stream",
          "text": [
            "/usr/local/lib/python3.7/dist-packages/sklearn/svm/_base.py:947: ConvergenceWarning:\n",
            "\n",
            "Liblinear failed to converge, increase the number of iterations.\n",
            "\n"
          ],
          "name": "stderr"
        },
        {
          "output_type": "stream",
          "text": [
            "deltau, deltav 0.00046672648621680146 0.019114769862668086\n",
            "30 / 30\n",
            "deltau, deltav 0.0004562571755747048 0.0193573936447811\n",
            "1 / 30\n",
            "deltau, deltav 7.810249675907095 35.80502757994202\n",
            "2 / 30\n"
          ],
          "name": "stdout"
        },
        {
          "output_type": "stream",
          "text": [
            "/usr/local/lib/python3.7/dist-packages/sklearn/svm/_base.py:947: ConvergenceWarning:\n",
            "\n",
            "Liblinear failed to converge, increase the number of iterations.\n",
            "\n"
          ],
          "name": "stderr"
        },
        {
          "output_type": "stream",
          "text": [
            "deltau, deltav 0.003653409690331822 0.9760334660912815\n",
            "3 / 30\n",
            "deltau, deltav 0.010882674663239333 5.61090340583004\n",
            "4 / 30\n",
            "deltau, deltav 0.002072730272807944 3.462242488256979\n",
            "5 / 30\n",
            "deltau, deltav 0.0015459544434017673 0.5638702974984342\n",
            "6 / 30\n"
          ],
          "name": "stdout"
        },
        {
          "output_type": "stream",
          "text": [
            "/usr/local/lib/python3.7/dist-packages/sklearn/svm/_base.py:947: ConvergenceWarning:\n",
            "\n",
            "Liblinear failed to converge, increase the number of iterations.\n",
            "\n"
          ],
          "name": "stderr"
        },
        {
          "output_type": "stream",
          "text": [
            "deltau, deltav 0.0013446950572692663 0.2985929750222147\n",
            "7 / 30\n"
          ],
          "name": "stdout"
        },
        {
          "output_type": "stream",
          "text": [
            "/usr/local/lib/python3.7/dist-packages/sklearn/svm/_base.py:947: ConvergenceWarning:\n",
            "\n",
            "Liblinear failed to converge, increase the number of iterations.\n",
            "\n"
          ],
          "name": "stderr"
        },
        {
          "output_type": "stream",
          "text": [
            "deltau, deltav 0.0012127289914098428 0.217223509537492\n",
            "8 / 30\n"
          ],
          "name": "stdout"
        },
        {
          "output_type": "stream",
          "text": [
            "/usr/local/lib/python3.7/dist-packages/sklearn/svm/_base.py:947: ConvergenceWarning:\n",
            "\n",
            "Liblinear failed to converge, increase the number of iterations.\n",
            "\n"
          ],
          "name": "stderr"
        },
        {
          "output_type": "stream",
          "text": [
            "deltau, deltav 0.0011224102351904755 0.1728767692873346\n",
            "9 / 30\n"
          ],
          "name": "stdout"
        },
        {
          "output_type": "stream",
          "text": [
            "/usr/local/lib/python3.7/dist-packages/sklearn/svm/_base.py:947: ConvergenceWarning:\n",
            "\n",
            "Liblinear failed to converge, increase the number of iterations.\n",
            "\n"
          ],
          "name": "stderr"
        },
        {
          "output_type": "stream",
          "text": [
            "deltau, deltav 0.0010532577167528287 0.14971791624390351\n",
            "10 / 30\n"
          ],
          "name": "stdout"
        },
        {
          "output_type": "stream",
          "text": [
            "/usr/local/lib/python3.7/dist-packages/sklearn/svm/_base.py:947: ConvergenceWarning:\n",
            "\n",
            "Liblinear failed to converge, increase the number of iterations.\n",
            "\n"
          ],
          "name": "stderr"
        },
        {
          "output_type": "stream",
          "text": [
            "deltau, deltav 0.001761446798037185 0.12348828366302532\n",
            "11 / 30\n"
          ],
          "name": "stdout"
        },
        {
          "output_type": "stream",
          "text": [
            "/usr/local/lib/python3.7/dist-packages/sklearn/svm/_base.py:947: ConvergenceWarning:\n",
            "\n",
            "Liblinear failed to converge, increase the number of iterations.\n",
            "\n"
          ],
          "name": "stderr"
        },
        {
          "output_type": "stream",
          "text": [
            "deltau, deltav 0.0010214610743759299 0.30825155795394116\n",
            "12 / 30\n"
          ],
          "name": "stdout"
        },
        {
          "output_type": "stream",
          "text": [
            "/usr/local/lib/python3.7/dist-packages/sklearn/svm/_base.py:947: ConvergenceWarning:\n",
            "\n",
            "Liblinear failed to converge, increase the number of iterations.\n",
            "\n"
          ],
          "name": "stderr"
        },
        {
          "output_type": "stream",
          "text": [
            "deltau, deltav 0.0009635195142222492 0.15013346153419066\n",
            "13 / 30\n"
          ],
          "name": "stdout"
        },
        {
          "output_type": "stream",
          "text": [
            "/usr/local/lib/python3.7/dist-packages/sklearn/svm/_base.py:947: ConvergenceWarning:\n",
            "\n",
            "Liblinear failed to converge, increase the number of iterations.\n",
            "\n"
          ],
          "name": "stderr"
        },
        {
          "output_type": "stream",
          "text": [
            "deltau, deltav 0.0009802538737394108 0.12318074072706485\n",
            "14 / 30\n"
          ],
          "name": "stdout"
        },
        {
          "output_type": "stream",
          "text": [
            "/usr/local/lib/python3.7/dist-packages/sklearn/svm/_base.py:947: ConvergenceWarning:\n",
            "\n",
            "Liblinear failed to converge, increase the number of iterations.\n",
            "\n"
          ],
          "name": "stderr"
        },
        {
          "output_type": "stream",
          "text": [
            "deltau, deltav 0.0008121520938414363 0.1023535406491463\n",
            "15 / 30\n"
          ],
          "name": "stdout"
        },
        {
          "output_type": "stream",
          "text": [
            "/usr/local/lib/python3.7/dist-packages/sklearn/svm/_base.py:947: ConvergenceWarning:\n",
            "\n",
            "Liblinear failed to converge, increase the number of iterations.\n",
            "\n"
          ],
          "name": "stderr"
        },
        {
          "output_type": "stream",
          "text": [
            "deltau, deltav 0.0008315194144663125 0.0789957173831141\n",
            "16 / 30\n"
          ],
          "name": "stdout"
        },
        {
          "output_type": "stream",
          "text": [
            "/usr/local/lib/python3.7/dist-packages/sklearn/svm/_base.py:947: ConvergenceWarning:\n",
            "\n",
            "Liblinear failed to converge, increase the number of iterations.\n",
            "\n"
          ],
          "name": "stderr"
        },
        {
          "output_type": "stream",
          "text": [
            "deltau, deltav 0.0007784431680255197 0.07795117159625263\n",
            "17 / 30\n"
          ],
          "name": "stdout"
        },
        {
          "output_type": "stream",
          "text": [
            "/usr/local/lib/python3.7/dist-packages/sklearn/svm/_base.py:947: ConvergenceWarning:\n",
            "\n",
            "Liblinear failed to converge, increase the number of iterations.\n",
            "\n"
          ],
          "name": "stderr"
        },
        {
          "output_type": "stream",
          "text": [
            "deltau, deltav 0.0007422962863064783 0.06674576981171468\n",
            "18 / 30\n"
          ],
          "name": "stdout"
        },
        {
          "output_type": "stream",
          "text": [
            "/usr/local/lib/python3.7/dist-packages/sklearn/svm/_base.py:947: ConvergenceWarning:\n",
            "\n",
            "Liblinear failed to converge, increase the number of iterations.\n",
            "\n"
          ],
          "name": "stderr"
        },
        {
          "output_type": "stream",
          "text": [
            "deltau, deltav 0.000778050527733796 0.060643302520122955\n",
            "19 / 30\n"
          ],
          "name": "stdout"
        },
        {
          "output_type": "stream",
          "text": [
            "/usr/local/lib/python3.7/dist-packages/sklearn/svm/_base.py:947: ConvergenceWarning:\n",
            "\n",
            "Liblinear failed to converge, increase the number of iterations.\n",
            "\n"
          ],
          "name": "stderr"
        },
        {
          "output_type": "stream",
          "text": [
            "deltau, deltav 0.000734345362798061 0.06853620356851611\n",
            "20 / 30\n"
          ],
          "name": "stdout"
        },
        {
          "output_type": "stream",
          "text": [
            "/usr/local/lib/python3.7/dist-packages/sklearn/svm/_base.py:947: ConvergenceWarning:\n",
            "\n",
            "Liblinear failed to converge, increase the number of iterations.\n",
            "\n"
          ],
          "name": "stderr"
        },
        {
          "output_type": "stream",
          "text": [
            "deltau, deltav 0.0006808780074539038 0.05710375952571598\n",
            "21 / 30\n"
          ],
          "name": "stdout"
        },
        {
          "output_type": "stream",
          "text": [
            "/usr/local/lib/python3.7/dist-packages/sklearn/svm/_base.py:947: ConvergenceWarning:\n",
            "\n",
            "Liblinear failed to converge, increase the number of iterations.\n",
            "\n"
          ],
          "name": "stderr"
        },
        {
          "output_type": "stream",
          "text": [
            "deltau, deltav 0.0011412926055679585 0.044825316626027824\n",
            "22 / 30\n"
          ],
          "name": "stdout"
        },
        {
          "output_type": "stream",
          "text": [
            "/usr/local/lib/python3.7/dist-packages/sklearn/svm/_base.py:947: ConvergenceWarning:\n",
            "\n",
            "Liblinear failed to converge, increase the number of iterations.\n",
            "\n"
          ],
          "name": "stderr"
        },
        {
          "output_type": "stream",
          "text": [
            "deltau, deltav 0.0006819771975492149 0.11155324122225371\n",
            "23 / 30\n"
          ],
          "name": "stdout"
        },
        {
          "output_type": "stream",
          "text": [
            "/usr/local/lib/python3.7/dist-packages/sklearn/svm/_base.py:947: ConvergenceWarning:\n",
            "\n",
            "Liblinear failed to converge, increase the number of iterations.\n",
            "\n"
          ],
          "name": "stderr"
        },
        {
          "output_type": "stream",
          "text": [
            "deltau, deltav 0.0007299768409086931 0.05167050676215092\n",
            "24 / 30\n"
          ],
          "name": "stdout"
        },
        {
          "output_type": "stream",
          "text": [
            "/usr/local/lib/python3.7/dist-packages/sklearn/svm/_base.py:947: ConvergenceWarning:\n",
            "\n",
            "Liblinear failed to converge, increase the number of iterations.\n",
            "\n"
          ],
          "name": "stderr"
        },
        {
          "output_type": "stream",
          "text": [
            "deltau, deltav 0.0007111115989936909 0.04983295571802985\n",
            "25 / 30\n"
          ],
          "name": "stdout"
        },
        {
          "output_type": "stream",
          "text": [
            "/usr/local/lib/python3.7/dist-packages/sklearn/svm/_base.py:947: ConvergenceWarning:\n",
            "\n",
            "Liblinear failed to converge, increase the number of iterations.\n",
            "\n"
          ],
          "name": "stderr"
        },
        {
          "output_type": "stream",
          "text": [
            "deltau, deltav 0.0006122655243795786 0.049620511397078244\n",
            "26 / 30\n"
          ],
          "name": "stdout"
        },
        {
          "output_type": "stream",
          "text": [
            "/usr/local/lib/python3.7/dist-packages/sklearn/svm/_base.py:947: ConvergenceWarning:\n",
            "\n",
            "Liblinear failed to converge, increase the number of iterations.\n",
            "\n"
          ],
          "name": "stderr"
        },
        {
          "output_type": "stream",
          "text": [
            "deltau, deltav 0.0006410001845038007 0.03531372203259206\n",
            "27 / 30\n"
          ],
          "name": "stdout"
        },
        {
          "output_type": "stream",
          "text": [
            "/usr/local/lib/python3.7/dist-packages/sklearn/svm/_base.py:947: ConvergenceWarning:\n",
            "\n",
            "Liblinear failed to converge, increase the number of iterations.\n",
            "\n"
          ],
          "name": "stderr"
        },
        {
          "output_type": "stream",
          "text": [
            "deltau, deltav 0.0011921507754631365 0.03793708651755935\n",
            "28 / 30\n"
          ],
          "name": "stdout"
        },
        {
          "output_type": "stream",
          "text": [
            "/usr/local/lib/python3.7/dist-packages/sklearn/svm/_base.py:947: ConvergenceWarning:\n",
            "\n",
            "Liblinear failed to converge, increase the number of iterations.\n",
            "\n"
          ],
          "name": "stderr"
        },
        {
          "output_type": "stream",
          "text": [
            "deltau, deltav 0.0007184017003652731 0.11904246341668336\n",
            "29 / 30\n"
          ],
          "name": "stdout"
        },
        {
          "output_type": "stream",
          "text": [
            "/usr/local/lib/python3.7/dist-packages/sklearn/svm/_base.py:947: ConvergenceWarning:\n",
            "\n",
            "Liblinear failed to converge, increase the number of iterations.\n",
            "\n"
          ],
          "name": "stderr"
        },
        {
          "output_type": "stream",
          "text": [
            "deltau, deltav 0.0007211240171268003 0.05165960786388194\n",
            "30 / 30\n"
          ],
          "name": "stdout"
        },
        {
          "output_type": "stream",
          "text": [
            "/usr/local/lib/python3.7/dist-packages/sklearn/svm/_base.py:947: ConvergenceWarning:\n",
            "\n",
            "Liblinear failed to converge, increase the number of iterations.\n",
            "\n"
          ],
          "name": "stderr"
        },
        {
          "output_type": "stream",
          "text": [
            "deltau, deltav 0.0005747401974435369 0.05467553427115974\n",
            "1 / 30\n",
            "deltau, deltav 7.810249675906819 35.80502757993939\n",
            "2 / 30\n"
          ],
          "name": "stdout"
        },
        {
          "output_type": "stream",
          "text": [
            "/usr/local/lib/python3.7/dist-packages/sklearn/svm/_base.py:947: ConvergenceWarning:\n",
            "\n",
            "Liblinear failed to converge, increase the number of iterations.\n",
            "\n"
          ],
          "name": "stderr"
        },
        {
          "output_type": "stream",
          "text": [
            "deltau, deltav 0.017692950108530982 0.6817637045132108\n",
            "3 / 30\n"
          ],
          "name": "stdout"
        },
        {
          "output_type": "stream",
          "text": [
            "/usr/local/lib/python3.7/dist-packages/sklearn/svm/_base.py:947: ConvergenceWarning:\n",
            "\n",
            "Liblinear failed to converge, increase the number of iterations.\n",
            "\n"
          ],
          "name": "stderr"
        },
        {
          "output_type": "stream",
          "text": [
            "deltau, deltav 0.0011974007844886897 0.11632399762347893\n",
            "4 / 30\n"
          ],
          "name": "stdout"
        },
        {
          "output_type": "stream",
          "text": [
            "/usr/local/lib/python3.7/dist-packages/sklearn/svm/_base.py:947: ConvergenceWarning:\n",
            "\n",
            "Liblinear failed to converge, increase the number of iterations.\n",
            "\n"
          ],
          "name": "stderr"
        },
        {
          "output_type": "stream",
          "text": [
            "deltau, deltav 0.0028931779419734734 0.6053365053818798\n",
            "5 / 30\n",
            "deltau, deltav 0.0005793991456405674 0.19914896715706057\n",
            "6 / 30\n",
            "deltau, deltav 0.00014377316754101468 0.10610568965442439\n",
            "7 / 30\n"
          ],
          "name": "stdout"
        },
        {
          "output_type": "stream",
          "text": [
            "/usr/local/lib/python3.7/dist-packages/sklearn/svm/_base.py:947: ConvergenceWarning:\n",
            "\n",
            "Liblinear failed to converge, increase the number of iterations.\n",
            "\n"
          ],
          "name": "stderr"
        },
        {
          "output_type": "stream",
          "text": [
            "deltau, deltav 0.0011884503320206993 0.052570365950821096\n",
            "8 / 30\n",
            "deltau, deltav 0.002810095891023579 1.0821883631926503\n",
            "9 / 30\n",
            "deltau, deltav 0.0010297836588706395 0.6589634367336019\n",
            "10 / 30\n",
            "deltau, deltav 0.00031119268640020914 0.18226746141984035\n",
            "11 / 30\n",
            "deltau, deltav 0.00032643241023648474 0.11829420180337662\n",
            "12 / 30\n",
            "deltau, deltav 0.0002962448195459587 0.09122549831853108\n",
            "13 / 30\n",
            "deltau, deltav 0.0002483663628408824 0.07142850803394685\n",
            "14 / 30\n"
          ],
          "name": "stdout"
        },
        {
          "output_type": "stream",
          "text": [
            "/usr/local/lib/python3.7/dist-packages/sklearn/svm/_base.py:947: ConvergenceWarning:\n",
            "\n",
            "Liblinear failed to converge, increase the number of iterations.\n",
            "\n"
          ],
          "name": "stderr"
        },
        {
          "output_type": "stream",
          "text": [
            "deltau, deltav 0.000723565730794103 0.055589134056292844\n",
            "15 / 30\n"
          ],
          "name": "stdout"
        },
        {
          "output_type": "stream",
          "text": [
            "/usr/local/lib/python3.7/dist-packages/sklearn/svm/_base.py:947: ConvergenceWarning:\n",
            "\n",
            "Liblinear failed to converge, increase the number of iterations.\n",
            "\n"
          ],
          "name": "stderr"
        },
        {
          "output_type": "stream",
          "text": [
            "deltau, deltav 0.0014413169159695127 0.7385204286353072\n",
            "16 / 30\n"
          ],
          "name": "stdout"
        },
        {
          "output_type": "stream",
          "text": [
            "/usr/local/lib/python3.7/dist-packages/sklearn/svm/_base.py:947: ConvergenceWarning:\n",
            "\n",
            "Liblinear failed to converge, increase the number of iterations.\n",
            "\n"
          ],
          "name": "stderr"
        },
        {
          "output_type": "stream",
          "text": [
            "deltau, deltav 0.00044030743472493554 0.49690326974844673\n",
            "17 / 30\n"
          ],
          "name": "stdout"
        },
        {
          "output_type": "stream",
          "text": [
            "/usr/local/lib/python3.7/dist-packages/sklearn/svm/_base.py:947: ConvergenceWarning:\n",
            "\n",
            "Liblinear failed to converge, increase the number of iterations.\n",
            "\n"
          ],
          "name": "stderr"
        },
        {
          "output_type": "stream",
          "text": [
            "deltau, deltav 0.00046014683378833106 0.29638297164988503\n",
            "18 / 30\n"
          ],
          "name": "stdout"
        },
        {
          "output_type": "stream",
          "text": [
            "/usr/local/lib/python3.7/dist-packages/sklearn/svm/_base.py:947: ConvergenceWarning:\n",
            "\n",
            "Liblinear failed to converge, increase the number of iterations.\n",
            "\n"
          ],
          "name": "stderr"
        },
        {
          "output_type": "stream",
          "text": [
            "deltau, deltav 0.00020887359197819443 0.18282892543585194\n",
            "19 / 30\n"
          ],
          "name": "stdout"
        },
        {
          "output_type": "stream",
          "text": [
            "/usr/local/lib/python3.7/dist-packages/sklearn/svm/_base.py:947: ConvergenceWarning:\n",
            "\n",
            "Liblinear failed to converge, increase the number of iterations.\n",
            "\n"
          ],
          "name": "stderr"
        },
        {
          "output_type": "stream",
          "text": [
            "deltau, deltav 0.00034491930015884207 0.20741242603463103\n",
            "20 / 30\n"
          ],
          "name": "stdout"
        },
        {
          "output_type": "stream",
          "text": [
            "/usr/local/lib/python3.7/dist-packages/sklearn/svm/_base.py:947: ConvergenceWarning:\n",
            "\n",
            "Liblinear failed to converge, increase the number of iterations.\n",
            "\n"
          ],
          "name": "stderr"
        },
        {
          "output_type": "stream",
          "text": [
            "deltau, deltav 0.0005704494418538262 0.2344174764730413\n",
            "21 / 30\n"
          ],
          "name": "stdout"
        },
        {
          "output_type": "stream",
          "text": [
            "/usr/local/lib/python3.7/dist-packages/sklearn/svm/_base.py:947: ConvergenceWarning:\n",
            "\n",
            "Liblinear failed to converge, increase the number of iterations.\n",
            "\n"
          ],
          "name": "stderr"
        },
        {
          "output_type": "stream",
          "text": [
            "deltau, deltav 0.00018398422206886955 0.16039145123627674\n",
            "22 / 30\n"
          ],
          "name": "stdout"
        },
        {
          "output_type": "stream",
          "text": [
            "/usr/local/lib/python3.7/dist-packages/sklearn/svm/_base.py:947: ConvergenceWarning:\n",
            "\n",
            "Liblinear failed to converge, increase the number of iterations.\n",
            "\n"
          ],
          "name": "stderr"
        },
        {
          "output_type": "stream",
          "text": [
            "deltau, deltav 0.00017993339261162413 0.15184765615716714\n",
            "23 / 30\n"
          ],
          "name": "stdout"
        },
        {
          "output_type": "stream",
          "text": [
            "/usr/local/lib/python3.7/dist-packages/sklearn/svm/_base.py:947: ConvergenceWarning:\n",
            "\n",
            "Liblinear failed to converge, increase the number of iterations.\n",
            "\n"
          ],
          "name": "stderr"
        },
        {
          "output_type": "stream",
          "text": [
            "deltau, deltav 0.00015949796303700649 0.16794103048407302\n",
            "24 / 30\n"
          ],
          "name": "stdout"
        },
        {
          "output_type": "stream",
          "text": [
            "/usr/local/lib/python3.7/dist-packages/sklearn/svm/_base.py:947: ConvergenceWarning:\n",
            "\n",
            "Liblinear failed to converge, increase the number of iterations.\n",
            "\n"
          ],
          "name": "stderr"
        },
        {
          "output_type": "stream",
          "text": [
            "deltau, deltav 0.00016651910556046627 0.05773782661293486\n",
            "25 / 30\n"
          ],
          "name": "stdout"
        },
        {
          "output_type": "stream",
          "text": [
            "/usr/local/lib/python3.7/dist-packages/sklearn/svm/_base.py:947: ConvergenceWarning:\n",
            "\n",
            "Liblinear failed to converge, increase the number of iterations.\n",
            "\n"
          ],
          "name": "stderr"
        },
        {
          "output_type": "stream",
          "text": [
            "deltau, deltav 0.00026190530049010046 0.1536855246410944\n",
            "26 / 30\n"
          ],
          "name": "stdout"
        },
        {
          "output_type": "stream",
          "text": [
            "/usr/local/lib/python3.7/dist-packages/sklearn/svm/_base.py:947: ConvergenceWarning:\n",
            "\n",
            "Liblinear failed to converge, increase the number of iterations.\n",
            "\n"
          ],
          "name": "stderr"
        },
        {
          "output_type": "stream",
          "text": [
            "deltau, deltav 0.00026942829947809325 0.12178788625261373\n",
            "27 / 30\n"
          ],
          "name": "stdout"
        },
        {
          "output_type": "stream",
          "text": [
            "/usr/local/lib/python3.7/dist-packages/sklearn/svm/_base.py:947: ConvergenceWarning:\n",
            "\n",
            "Liblinear failed to converge, increase the number of iterations.\n",
            "\n"
          ],
          "name": "stderr"
        },
        {
          "output_type": "stream",
          "text": [
            "deltau, deltav 0.00012611612513463574 0.15853918628846622\n",
            "28 / 30\n"
          ],
          "name": "stdout"
        },
        {
          "output_type": "stream",
          "text": [
            "/usr/local/lib/python3.7/dist-packages/sklearn/svm/_base.py:947: ConvergenceWarning:\n",
            "\n",
            "Liblinear failed to converge, increase the number of iterations.\n",
            "\n"
          ],
          "name": "stderr"
        },
        {
          "output_type": "stream",
          "text": [
            "deltau, deltav 0.0007164335169245985 0.06039112900331085\n",
            "29 / 30\n"
          ],
          "name": "stdout"
        },
        {
          "output_type": "stream",
          "text": [
            "/usr/local/lib/python3.7/dist-packages/sklearn/svm/_base.py:947: ConvergenceWarning:\n",
            "\n",
            "Liblinear failed to converge, increase the number of iterations.\n",
            "\n"
          ],
          "name": "stderr"
        },
        {
          "output_type": "stream",
          "text": [
            "deltau, deltav 0.0004025491882177403 0.40363400054603066\n",
            "30 / 30\n"
          ],
          "name": "stdout"
        },
        {
          "output_type": "stream",
          "text": [
            "/usr/local/lib/python3.7/dist-packages/sklearn/svm/_base.py:947: ConvergenceWarning:\n",
            "\n",
            "Liblinear failed to converge, increase the number of iterations.\n",
            "\n"
          ],
          "name": "stderr"
        },
        {
          "output_type": "stream",
          "text": [
            "deltau, deltav 0.0002610712333888001 0.3466014008591292\n",
            "1 / 30\n",
            "deltau, deltav 7.810249675907228 35.80502757993291\n",
            "2 / 30\n"
          ],
          "name": "stdout"
        },
        {
          "output_type": "stream",
          "text": [
            "/usr/local/lib/python3.7/dist-packages/sklearn/svm/_base.py:947: ConvergenceWarning:\n",
            "\n",
            "Liblinear failed to converge, increase the number of iterations.\n",
            "\n"
          ],
          "name": "stderr"
        },
        {
          "output_type": "stream",
          "text": [
            "deltau, deltav 0.004624335123936211 1.0801676434261465\n",
            "3 / 30\n",
            "deltau, deltav 0.0074773602719979005 5.798618950214814\n",
            "4 / 30\n"
          ],
          "name": "stdout"
        },
        {
          "output_type": "stream",
          "text": [
            "/usr/local/lib/python3.7/dist-packages/sklearn/svm/_base.py:947: ConvergenceWarning:\n",
            "\n",
            "Liblinear failed to converge, increase the number of iterations.\n",
            "\n"
          ],
          "name": "stderr"
        },
        {
          "output_type": "stream",
          "text": [
            "deltau, deltav 0.0023915458929503627 3.227790906463542\n",
            "5 / 30\n"
          ],
          "name": "stdout"
        },
        {
          "output_type": "stream",
          "text": [
            "/usr/local/lib/python3.7/dist-packages/sklearn/svm/_base.py:947: ConvergenceWarning:\n",
            "\n",
            "Liblinear failed to converge, increase the number of iterations.\n",
            "\n"
          ],
          "name": "stderr"
        },
        {
          "output_type": "stream",
          "text": [
            "deltau, deltav 0.0018029005331363641 0.7128388547277416\n",
            "6 / 30\n"
          ],
          "name": "stdout"
        },
        {
          "output_type": "stream",
          "text": [
            "/usr/local/lib/python3.7/dist-packages/sklearn/svm/_base.py:947: ConvergenceWarning:\n",
            "\n",
            "Liblinear failed to converge, increase the number of iterations.\n",
            "\n"
          ],
          "name": "stderr"
        },
        {
          "output_type": "stream",
          "text": [
            "deltau, deltav 0.0014718313806838623 0.43627787788144956\n",
            "7 / 30\n"
          ],
          "name": "stdout"
        },
        {
          "output_type": "stream",
          "text": [
            "/usr/local/lib/python3.7/dist-packages/sklearn/svm/_base.py:947: ConvergenceWarning:\n",
            "\n",
            "Liblinear failed to converge, increase the number of iterations.\n",
            "\n"
          ],
          "name": "stderr"
        },
        {
          "output_type": "stream",
          "text": [
            "deltau, deltav 0.0013767826203753132 0.314854617181877\n",
            "8 / 30\n"
          ],
          "name": "stdout"
        },
        {
          "output_type": "stream",
          "text": [
            "/usr/local/lib/python3.7/dist-packages/sklearn/svm/_base.py:947: ConvergenceWarning:\n",
            "\n",
            "Liblinear failed to converge, increase the number of iterations.\n",
            "\n"
          ],
          "name": "stderr"
        },
        {
          "output_type": "stream",
          "text": [
            "deltau, deltav 0.0011921890159843828 0.26069925623611107\n",
            "9 / 30\n"
          ],
          "name": "stdout"
        },
        {
          "output_type": "stream",
          "text": [
            "/usr/local/lib/python3.7/dist-packages/sklearn/svm/_base.py:947: ConvergenceWarning:\n",
            "\n",
            "Liblinear failed to converge, increase the number of iterations.\n",
            "\n"
          ],
          "name": "stderr"
        },
        {
          "output_type": "stream",
          "text": [
            "deltau, deltav 0.0012540878658853197 0.18052936551261603\n",
            "10 / 30\n"
          ],
          "name": "stdout"
        },
        {
          "output_type": "stream",
          "text": [
            "/usr/local/lib/python3.7/dist-packages/sklearn/svm/_base.py:947: ConvergenceWarning:\n",
            "\n",
            "Liblinear failed to converge, increase the number of iterations.\n",
            "\n"
          ],
          "name": "stderr"
        },
        {
          "output_type": "stream",
          "text": [
            "deltau, deltav 0.0010293427101751948 0.21208702986588024\n",
            "11 / 30\n"
          ],
          "name": "stdout"
        },
        {
          "output_type": "stream",
          "text": [
            "/usr/local/lib/python3.7/dist-packages/sklearn/svm/_base.py:947: ConvergenceWarning:\n",
            "\n",
            "Liblinear failed to converge, increase the number of iterations.\n",
            "\n"
          ],
          "name": "stderr"
        },
        {
          "output_type": "stream",
          "text": [
            "deltau, deltav 0.0010270249898555182 0.16247456033852326\n",
            "12 / 30\n"
          ],
          "name": "stdout"
        },
        {
          "output_type": "stream",
          "text": [
            "/usr/local/lib/python3.7/dist-packages/sklearn/svm/_base.py:947: ConvergenceWarning:\n",
            "\n",
            "Liblinear failed to converge, increase the number of iterations.\n",
            "\n"
          ],
          "name": "stderr"
        },
        {
          "output_type": "stream",
          "text": [
            "deltau, deltav 0.0009270974802307216 0.12372435905498529\n",
            "13 / 30\n"
          ],
          "name": "stdout"
        },
        {
          "output_type": "stream",
          "text": [
            "/usr/local/lib/python3.7/dist-packages/sklearn/svm/_base.py:947: ConvergenceWarning:\n",
            "\n",
            "Liblinear failed to converge, increase the number of iterations.\n",
            "\n"
          ],
          "name": "stderr"
        },
        {
          "output_type": "stream",
          "text": [
            "deltau, deltav 0.0009020375863471222 0.10489346598187287\n",
            "14 / 30\n"
          ],
          "name": "stdout"
        },
        {
          "output_type": "stream",
          "text": [
            "/usr/local/lib/python3.7/dist-packages/sklearn/svm/_base.py:947: ConvergenceWarning:\n",
            "\n",
            "Liblinear failed to converge, increase the number of iterations.\n",
            "\n"
          ],
          "name": "stderr"
        },
        {
          "output_type": "stream",
          "text": [
            "deltau, deltav 0.0011193470692296298 0.08897132547870812\n",
            "15 / 30\n"
          ],
          "name": "stdout"
        },
        {
          "output_type": "stream",
          "text": [
            "/usr/local/lib/python3.7/dist-packages/sklearn/svm/_base.py:947: ConvergenceWarning:\n",
            "\n",
            "Liblinear failed to converge, increase the number of iterations.\n",
            "\n"
          ],
          "name": "stderr"
        },
        {
          "output_type": "stream",
          "text": [
            "deltau, deltav 0.0008233290452065886 0.1763845319567736\n",
            "16 / 30\n"
          ],
          "name": "stdout"
        },
        {
          "output_type": "stream",
          "text": [
            "/usr/local/lib/python3.7/dist-packages/sklearn/svm/_base.py:947: ConvergenceWarning:\n",
            "\n",
            "Liblinear failed to converge, increase the number of iterations.\n",
            "\n"
          ],
          "name": "stderr"
        },
        {
          "output_type": "stream",
          "text": [
            "deltau, deltav 0.0008049176096896431 0.07046954064982625\n",
            "17 / 30\n"
          ],
          "name": "stdout"
        },
        {
          "output_type": "stream",
          "text": [
            "/usr/local/lib/python3.7/dist-packages/sklearn/svm/_base.py:947: ConvergenceWarning:\n",
            "\n",
            "Liblinear failed to converge, increase the number of iterations.\n",
            "\n"
          ],
          "name": "stderr"
        },
        {
          "output_type": "stream",
          "text": [
            "deltau, deltav 0.0007314116967539579 0.06955574295470691\n",
            "18 / 30\n"
          ],
          "name": "stdout"
        },
        {
          "output_type": "stream",
          "text": [
            "/usr/local/lib/python3.7/dist-packages/sklearn/svm/_base.py:947: ConvergenceWarning:\n",
            "\n",
            "Liblinear failed to converge, increase the number of iterations.\n",
            "\n"
          ],
          "name": "stderr"
        },
        {
          "output_type": "stream",
          "text": [
            "deltau, deltav 0.0009743808402477578 0.06468173963363252\n",
            "19 / 30\n"
          ],
          "name": "stdout"
        },
        {
          "output_type": "stream",
          "text": [
            "/usr/local/lib/python3.7/dist-packages/sklearn/svm/_base.py:947: ConvergenceWarning:\n",
            "\n",
            "Liblinear failed to converge, increase the number of iterations.\n",
            "\n"
          ],
          "name": "stderr"
        },
        {
          "output_type": "stream",
          "text": [
            "deltau, deltav 0.0007391883391349125 0.11957384932375797\n",
            "20 / 30\n"
          ],
          "name": "stdout"
        },
        {
          "output_type": "stream",
          "text": [
            "/usr/local/lib/python3.7/dist-packages/sklearn/svm/_base.py:947: ConvergenceWarning:\n",
            "\n",
            "Liblinear failed to converge, increase the number of iterations.\n",
            "\n"
          ],
          "name": "stderr"
        },
        {
          "output_type": "stream",
          "text": [
            "deltau, deltav 0.0007644935471619206 0.06338097228426615\n",
            "21 / 30\n"
          ],
          "name": "stdout"
        },
        {
          "output_type": "stream",
          "text": [
            "/usr/local/lib/python3.7/dist-packages/sklearn/svm/_base.py:947: ConvergenceWarning:\n",
            "\n",
            "Liblinear failed to converge, increase the number of iterations.\n",
            "\n"
          ],
          "name": "stderr"
        },
        {
          "output_type": "stream",
          "text": [
            "deltau, deltav 0.0006663460671512498 0.08605812005266601\n",
            "22 / 30\n"
          ],
          "name": "stdout"
        },
        {
          "output_type": "stream",
          "text": [
            "/usr/local/lib/python3.7/dist-packages/sklearn/svm/_base.py:947: ConvergenceWarning:\n",
            "\n",
            "Liblinear failed to converge, increase the number of iterations.\n",
            "\n"
          ],
          "name": "stderr"
        },
        {
          "output_type": "stream",
          "text": [
            "deltau, deltav 0.001227893165304291 0.055637742037492256\n",
            "23 / 30\n"
          ],
          "name": "stdout"
        },
        {
          "output_type": "stream",
          "text": [
            "/usr/local/lib/python3.7/dist-packages/sklearn/svm/_base.py:947: ConvergenceWarning:\n",
            "\n",
            "Liblinear failed to converge, increase the number of iterations.\n",
            "\n"
          ],
          "name": "stderr"
        },
        {
          "output_type": "stream",
          "text": [
            "deltau, deltav 0.00089766284131587 0.10944071910438376\n",
            "24 / 30\n"
          ],
          "name": "stdout"
        },
        {
          "output_type": "stream",
          "text": [
            "/usr/local/lib/python3.7/dist-packages/sklearn/svm/_base.py:947: ConvergenceWarning:\n",
            "\n",
            "Liblinear failed to converge, increase the number of iterations.\n",
            "\n"
          ],
          "name": "stderr"
        },
        {
          "output_type": "stream",
          "text": [
            "deltau, deltav 0.0007043318157045069 0.05917135733035201\n",
            "25 / 30\n"
          ],
          "name": "stdout"
        },
        {
          "output_type": "stream",
          "text": [
            "/usr/local/lib/python3.7/dist-packages/sklearn/svm/_base.py:947: ConvergenceWarning:\n",
            "\n",
            "Liblinear failed to converge, increase the number of iterations.\n",
            "\n"
          ],
          "name": "stderr"
        },
        {
          "output_type": "stream",
          "text": [
            "deltau, deltav 0.0007199287215071185 0.04795785424800746\n",
            "26 / 30\n"
          ],
          "name": "stdout"
        },
        {
          "output_type": "stream",
          "text": [
            "/usr/local/lib/python3.7/dist-packages/sklearn/svm/_base.py:947: ConvergenceWarning:\n",
            "\n",
            "Liblinear failed to converge, increase the number of iterations.\n",
            "\n"
          ],
          "name": "stderr"
        },
        {
          "output_type": "stream",
          "text": [
            "deltau, deltav 0.0006655574523846257 0.05315943451938063\n",
            "27 / 30\n"
          ],
          "name": "stdout"
        },
        {
          "output_type": "stream",
          "text": [
            "/usr/local/lib/python3.7/dist-packages/sklearn/svm/_base.py:947: ConvergenceWarning:\n",
            "\n",
            "Liblinear failed to converge, increase the number of iterations.\n",
            "\n"
          ],
          "name": "stderr"
        },
        {
          "output_type": "stream",
          "text": [
            "deltau, deltav 0.000683989141670064 0.042672037168528534\n",
            "28 / 30\n"
          ],
          "name": "stdout"
        },
        {
          "output_type": "stream",
          "text": [
            "/usr/local/lib/python3.7/dist-packages/sklearn/svm/_base.py:947: ConvergenceWarning:\n",
            "\n",
            "Liblinear failed to converge, increase the number of iterations.\n",
            "\n"
          ],
          "name": "stderr"
        },
        {
          "output_type": "stream",
          "text": [
            "deltau, deltav 0.0014719903266773365 0.04943603903656532\n",
            "29 / 30\n"
          ],
          "name": "stdout"
        },
        {
          "output_type": "stream",
          "text": [
            "/usr/local/lib/python3.7/dist-packages/sklearn/svm/_base.py:947: ConvergenceWarning:\n",
            "\n",
            "Liblinear failed to converge, increase the number of iterations.\n",
            "\n"
          ],
          "name": "stderr"
        },
        {
          "output_type": "stream",
          "text": [
            "deltau, deltav 0.0007682305596634902 0.135604128568426\n",
            "30 / 30\n"
          ],
          "name": "stdout"
        },
        {
          "output_type": "stream",
          "text": [
            "/usr/local/lib/python3.7/dist-packages/sklearn/svm/_base.py:947: ConvergenceWarning:\n",
            "\n",
            "Liblinear failed to converge, increase the number of iterations.\n",
            "\n"
          ],
          "name": "stderr"
        },
        {
          "output_type": "stream",
          "text": [
            "deltau, deltav 0.0005541189111141979 0.06877142286945068\n",
            "1 / 30\n",
            "deltau, deltav 7.810249675906679 35.80502757993661\n",
            "2 / 30\n"
          ],
          "name": "stdout"
        },
        {
          "output_type": "stream",
          "text": [
            "/usr/local/lib/python3.7/dist-packages/sklearn/svm/_base.py:947: ConvergenceWarning:\n",
            "\n",
            "Liblinear failed to converge, increase the number of iterations.\n",
            "\n"
          ],
          "name": "stderr"
        },
        {
          "output_type": "stream",
          "text": [
            "deltau, deltav 0.04942219341883413 0.1947153045422496\n",
            "3 / 30\n",
            "deltau, deltav 0.015152675194381451 2.488512340995793\n",
            "4 / 30\n",
            "deltau, deltav 0.010778932882823073 1.0308978467425078\n",
            "5 / 30\n",
            "deltau, deltav 0.0051282319728481705 0.5313174339051276\n",
            "6 / 30\n",
            "deltau, deltav 0.003619069685813043 0.269493610373029\n",
            "7 / 30\n",
            "deltau, deltav 0.0033668960327540463 0.15839291657902213\n",
            "8 / 30\n",
            "deltau, deltav 0.002919834999526438 0.13242312738232095\n",
            "9 / 30\n",
            "deltau, deltav 0.002159141042463869 0.09816894566604568\n",
            "10 / 30\n",
            "deltau, deltav 0.0017115074869861109 0.07709286971657629\n",
            "11 / 30\n",
            "deltau, deltav 0.001275998938554379 0.05849665262031811\n",
            "12 / 30\n",
            "deltau, deltav 0.0009823418865253775 0.04155976189877957\n",
            "13 / 30\n",
            "deltau, deltav 0.000832112459445256 0.03186972002796658\n",
            "14 / 30\n",
            "deltau, deltav 0.0007268810379681912 0.026632767738346375\n",
            "15 / 30\n",
            "deltau, deltav 0.0006773142677281915 0.02368947925778479\n",
            "16 / 30\n",
            "deltau, deltav 0.0006513784241083797 0.021764141125845907\n",
            "17 / 30\n",
            "deltau, deltav 0.000640269389428016 0.020405956545751756\n",
            "18 / 30\n",
            "deltau, deltav 0.0006154759901973841 0.019409884940533414\n",
            "19 / 30\n",
            "deltau, deltav 0.0005762424976936554 0.01812148716921485\n",
            "20 / 30\n",
            "deltau, deltav 0.0005498500215915792 0.01658391563920201\n",
            "21 / 30\n",
            "deltau, deltav 0.0004993031712693189 0.01558517240243787\n",
            "22 / 30\n",
            "deltau, deltav 0.0004716768054596303 0.014615370661505466\n",
            "23 / 30\n",
            "deltau, deltav 0.0005187522610413385 0.013893865664660495\n",
            "24 / 30\n",
            "deltau, deltav 0.0005301972659830095 0.013624049669927335\n",
            "25 / 30\n",
            "deltau, deltav 0.000517687898311354 0.012945804625396476\n",
            "26 / 30\n",
            "deltau, deltav 0.0005520079265464548 0.012749387670950485\n",
            "27 / 30\n",
            "deltau, deltav 0.0005970854073895706 0.012988660226977887\n",
            "28 / 30\n",
            "deltau, deltav 0.0005937681958065711 0.013109740905793851\n",
            "29 / 30\n",
            "deltau, deltav 0.0006051271106550907 0.012805577801475563\n",
            "30 / 30\n",
            "deltau, deltav 0.0006113461807103236 0.01256681693082716\n",
            "1 / 30\n",
            "deltau, deltav 7.8102496759069 35.80502757993838\n",
            "2 / 30\n",
            "deltau, deltav 0.010067977161124229 0.9590611781992507\n",
            "3 / 30\n",
            "deltau, deltav 0.00041940853273118677 0.16270152543077046\n",
            "4 / 30\n",
            "deltau, deltav 0.0001452167620128569 0.03195229423141136\n",
            "5 / 30\n",
            "deltau, deltav 0.00011861683138272326 0.02713285034020689\n",
            "6 / 30\n",
            "deltau, deltav 0.00011261026834321461 0.021491220823425385\n",
            "7 / 30\n",
            "deltau, deltav 0.00010689694290574777 0.013162774437432571\n",
            "8 / 30\n",
            "deltau, deltav 0.00010415301396940799 0.01208888866270641\n",
            "9 / 30\n",
            "deltau, deltav 0.00010175759543178737 0.011261672096938189\n",
            "10 / 30\n",
            "deltau, deltav 9.957385150443518e-05 0.010601225625910118\n",
            "11 / 30\n",
            "deltau, deltav 9.756906663882643e-05 0.010040387995681917\n",
            "12 / 30\n",
            "deltau, deltav 9.577684344531324e-05 0.009556016798700415\n",
            "13 / 30\n",
            "deltau, deltav 9.41000078790282e-05 0.009137248044587251\n",
            "14 / 30\n",
            "deltau, deltav 9.214802761419289e-05 0.008883852481807458\n",
            "15 / 30\n",
            "deltau, deltav 8.782425062051634e-05 0.00887211311421941\n",
            "16 / 30\n",
            "deltau, deltav 8.620063542111196e-05 0.00821301210403873\n",
            "17 / 30\n",
            "deltau, deltav 8.487517283320191e-05 0.007884768418418205\n",
            "18 / 30\n",
            "deltau, deltav 8.365132373723776e-05 0.007593779489644223\n",
            "19 / 30\n",
            "deltau, deltav 8.248773486389151e-05 0.0073296113476367655\n",
            "20 / 30\n",
            "deltau, deltav 8.135249962626387e-05 0.0070904545837553404\n",
            "21 / 30\n"
          ],
          "name": "stdout"
        },
        {
          "output_type": "stream",
          "text": [
            "/usr/local/lib/python3.7/dist-packages/sklearn/svm/_base.py:947: ConvergenceWarning:\n",
            "\n",
            "Liblinear failed to converge, increase the number of iterations.\n",
            "\n"
          ],
          "name": "stderr"
        },
        {
          "output_type": "stream",
          "text": [
            "deltau, deltav 8.063419939930101e-05 0.006861298004506181\n",
            "22 / 30\n"
          ],
          "name": "stdout"
        },
        {
          "output_type": "stream",
          "text": [
            "/usr/local/lib/python3.7/dist-packages/sklearn/svm/_base.py:947: ConvergenceWarning:\n",
            "\n",
            "Liblinear failed to converge, increase the number of iterations.\n",
            "\n"
          ],
          "name": "stderr"
        },
        {
          "output_type": "stream",
          "text": [
            "deltau, deltav 7.894246510487309e-05 0.0068011249246250575\n",
            "23 / 30\n",
            "deltau, deltav 7.801009953533074e-05 0.006451596399506148\n",
            "24 / 30\n",
            "deltau, deltav 7.714603096855627e-05 0.006258339507127374\n",
            "25 / 30\n"
          ],
          "name": "stdout"
        },
        {
          "output_type": "stream",
          "text": [
            "/usr/local/lib/python3.7/dist-packages/sklearn/svm/_base.py:947: ConvergenceWarning:\n",
            "\n",
            "Liblinear failed to converge, increase the number of iterations.\n",
            "\n"
          ],
          "name": "stderr"
        },
        {
          "output_type": "stream",
          "text": [
            "deltau, deltav 7.351864532001511e-05 0.006642407366314686\n",
            "26 / 30\n"
          ],
          "name": "stdout"
        },
        {
          "output_type": "stream",
          "text": [
            "/usr/local/lib/python3.7/dist-packages/sklearn/svm/_base.py:947: ConvergenceWarning:\n",
            "\n",
            "Liblinear failed to converge, increase the number of iterations.\n",
            "\n"
          ],
          "name": "stderr"
        },
        {
          "output_type": "stream",
          "text": [
            "deltau, deltav 7.247622534681604e-05 0.007022557042332492\n",
            "27 / 30\n",
            "deltau, deltav 7.170102671902083e-05 0.006322901623364198\n",
            "28 / 30\n"
          ],
          "name": "stdout"
        },
        {
          "output_type": "stream",
          "text": [
            "/usr/local/lib/python3.7/dist-packages/sklearn/svm/_base.py:947: ConvergenceWarning:\n",
            "\n",
            "Liblinear failed to converge, increase the number of iterations.\n",
            "\n"
          ],
          "name": "stderr"
        },
        {
          "output_type": "stream",
          "text": [
            "deltau, deltav 7.107315024923213e-05 0.005883560792497617\n",
            "29 / 30\n"
          ],
          "name": "stdout"
        },
        {
          "output_type": "stream",
          "text": [
            "/usr/local/lib/python3.7/dist-packages/sklearn/svm/_base.py:947: ConvergenceWarning:\n",
            "\n",
            "Liblinear failed to converge, increase the number of iterations.\n",
            "\n"
          ],
          "name": "stderr"
        },
        {
          "output_type": "stream",
          "text": [
            "deltau, deltav 7.83956536812716e-05 0.005562621626799642\n",
            "30 / 30\n",
            "deltau, deltav 6.951498134945306e-05 0.008056198804838962\n",
            "1 / 30\n",
            "deltau, deltav 7.810249675907454 35.80502757993144\n",
            "2 / 30\n"
          ],
          "name": "stdout"
        },
        {
          "output_type": "stream",
          "text": [
            "/usr/local/lib/python3.7/dist-packages/sklearn/svm/_base.py:947: ConvergenceWarning:\n",
            "\n",
            "Liblinear failed to converge, increase the number of iterations.\n",
            "\n"
          ],
          "name": "stderr"
        },
        {
          "output_type": "stream",
          "text": [
            "deltau, deltav 0.0016139793920526254 1.2228737459199948\n",
            "3 / 30\n"
          ],
          "name": "stdout"
        },
        {
          "output_type": "stream",
          "text": [
            "/usr/local/lib/python3.7/dist-packages/sklearn/svm/_base.py:947: ConvergenceWarning:\n",
            "\n",
            "Liblinear failed to converge, increase the number of iterations.\n",
            "\n"
          ],
          "name": "stderr"
        },
        {
          "output_type": "stream",
          "text": [
            "deltau, deltav 0.11101451043740622 3.9221403626400733\n",
            "4 / 30\n",
            "deltau, deltav 0.034328824581765637 3.451646781469592\n",
            "5 / 30\n",
            "deltau, deltav 0.02559275958120806 0.6065656003126356\n",
            "6 / 30\n",
            "deltau, deltav 0.012624408458166215 0.27139484828914606\n",
            "7 / 30\n",
            "deltau, deltav 0.005393324250835004 0.09481105850796624\n",
            "8 / 30\n",
            "deltau, deltav 0.003863975833186786 0.04589518297737599\n",
            "9 / 30\n",
            "deltau, deltav 0.0029251172561229784 0.03134932881303392\n",
            "10 / 30\n",
            "deltau, deltav 0.002007978158931263 0.02230862337742387\n",
            "11 / 30\n"
          ],
          "name": "stdout"
        },
        {
          "output_type": "stream",
          "text": [
            "/usr/local/lib/python3.7/dist-packages/sklearn/svm/_base.py:947: ConvergenceWarning:\n",
            "\n",
            "Liblinear failed to converge, increase the number of iterations.\n",
            "\n"
          ],
          "name": "stderr"
        },
        {
          "output_type": "stream",
          "text": [
            "deltau, deltav 0.0012321103830455105 0.013326951401787766\n",
            "12 / 30\n"
          ],
          "name": "stdout"
        },
        {
          "output_type": "stream",
          "text": [
            "/usr/local/lib/python3.7/dist-packages/sklearn/svm/_base.py:947: ConvergenceWarning:\n",
            "\n",
            "Liblinear failed to converge, increase the number of iterations.\n",
            "\n"
          ],
          "name": "stderr"
        },
        {
          "output_type": "stream",
          "text": [
            "deltau, deltav 0.0008845601476585602 0.007922378078550426\n",
            "13 / 30\n"
          ],
          "name": "stdout"
        },
        {
          "output_type": "stream",
          "text": [
            "/usr/local/lib/python3.7/dist-packages/sklearn/svm/_base.py:947: ConvergenceWarning:\n",
            "\n",
            "Liblinear failed to converge, increase the number of iterations.\n",
            "\n"
          ],
          "name": "stderr"
        },
        {
          "output_type": "stream",
          "text": [
            "deltau, deltav 0.0008113106083256947 0.006164715806242323\n",
            "14 / 30\n"
          ],
          "name": "stdout"
        },
        {
          "output_type": "stream",
          "text": [
            "/usr/local/lib/python3.7/dist-packages/sklearn/svm/_base.py:947: ConvergenceWarning:\n",
            "\n",
            "Liblinear failed to converge, increase the number of iterations.\n",
            "\n"
          ],
          "name": "stderr"
        },
        {
          "output_type": "stream",
          "text": [
            "deltau, deltav 0.000750373674829572 0.004935005943101424\n",
            "15 / 30\n"
          ],
          "name": "stdout"
        },
        {
          "output_type": "stream",
          "text": [
            "/usr/local/lib/python3.7/dist-packages/sklearn/svm/_base.py:947: ConvergenceWarning:\n",
            "\n",
            "Liblinear failed to converge, increase the number of iterations.\n",
            "\n"
          ],
          "name": "stderr"
        },
        {
          "output_type": "stream",
          "text": [
            "deltau, deltav 0.0007917352397814229 0.005012549445536928\n",
            "16 / 30\n"
          ],
          "name": "stdout"
        },
        {
          "output_type": "stream",
          "text": [
            "/usr/local/lib/python3.7/dist-packages/sklearn/svm/_base.py:947: ConvergenceWarning:\n",
            "\n",
            "Liblinear failed to converge, increase the number of iterations.\n",
            "\n"
          ],
          "name": "stderr"
        },
        {
          "output_type": "stream",
          "text": [
            "deltau, deltav 0.001229507654902558 0.005119917214531606\n",
            "17 / 30\n"
          ],
          "name": "stdout"
        },
        {
          "output_type": "stream",
          "text": [
            "/usr/local/lib/python3.7/dist-packages/sklearn/svm/_base.py:947: ConvergenceWarning:\n",
            "\n",
            "Liblinear failed to converge, increase the number of iterations.\n",
            "\n"
          ],
          "name": "stderr"
        },
        {
          "output_type": "stream",
          "text": [
            "deltau, deltav 0.0009439986803005181 0.007459608570196315\n",
            "18 / 30\n"
          ],
          "name": "stdout"
        },
        {
          "output_type": "stream",
          "text": [
            "/usr/local/lib/python3.7/dist-packages/sklearn/svm/_base.py:947: ConvergenceWarning:\n",
            "\n",
            "Liblinear failed to converge, increase the number of iterations.\n",
            "\n"
          ],
          "name": "stderr"
        },
        {
          "output_type": "stream",
          "text": [
            "deltau, deltav 0.0006047125176316207 0.005107773780720233\n",
            "19 / 30\n"
          ],
          "name": "stdout"
        },
        {
          "output_type": "stream",
          "text": [
            "/usr/local/lib/python3.7/dist-packages/sklearn/svm/_base.py:947: ConvergenceWarning:\n",
            "\n",
            "Liblinear failed to converge, increase the number of iterations.\n",
            "\n"
          ],
          "name": "stderr"
        },
        {
          "output_type": "stream",
          "text": [
            "deltau, deltav 0.000664181757463034 0.003817374016220964\n",
            "20 / 30\n"
          ],
          "name": "stdout"
        },
        {
          "output_type": "stream",
          "text": [
            "/usr/local/lib/python3.7/dist-packages/sklearn/svm/_base.py:947: ConvergenceWarning:\n",
            "\n",
            "Liblinear failed to converge, increase the number of iterations.\n",
            "\n"
          ],
          "name": "stderr"
        },
        {
          "output_type": "stream",
          "text": [
            "deltau, deltav 0.0006673358753509 0.004014188734331422\n",
            "21 / 30\n"
          ],
          "name": "stdout"
        },
        {
          "output_type": "stream",
          "text": [
            "/usr/local/lib/python3.7/dist-packages/sklearn/svm/_base.py:947: ConvergenceWarning:\n",
            "\n",
            "Liblinear failed to converge, increase the number of iterations.\n",
            "\n"
          ],
          "name": "stderr"
        },
        {
          "output_type": "stream",
          "text": [
            "deltau, deltav 0.0007572602451166374 0.003935447715973672\n",
            "22 / 30\n"
          ],
          "name": "stdout"
        },
        {
          "output_type": "stream",
          "text": [
            "/usr/local/lib/python3.7/dist-packages/sklearn/svm/_base.py:947: ConvergenceWarning:\n",
            "\n",
            "Liblinear failed to converge, increase the number of iterations.\n",
            "\n"
          ],
          "name": "stderr"
        },
        {
          "output_type": "stream",
          "text": [
            "deltau, deltav 0.0009436305637753479 0.004004106776098601\n",
            "23 / 30\n"
          ],
          "name": "stdout"
        },
        {
          "output_type": "stream",
          "text": [
            "/usr/local/lib/python3.7/dist-packages/sklearn/svm/_base.py:947: ConvergenceWarning:\n",
            "\n",
            "Liblinear failed to converge, increase the number of iterations.\n",
            "\n"
          ],
          "name": "stderr"
        },
        {
          "output_type": "stream",
          "text": [
            "deltau, deltav 0.0005624761755290908 0.00464725395040193\n",
            "24 / 30\n"
          ],
          "name": "stdout"
        },
        {
          "output_type": "stream",
          "text": [
            "/usr/local/lib/python3.7/dist-packages/sklearn/svm/_base.py:947: ConvergenceWarning:\n",
            "\n",
            "Liblinear failed to converge, increase the number of iterations.\n",
            "\n"
          ],
          "name": "stderr"
        },
        {
          "output_type": "stream",
          "text": [
            "deltau, deltav 0.0005712802130271763 0.003326769399426724\n",
            "25 / 30\n"
          ],
          "name": "stdout"
        },
        {
          "output_type": "stream",
          "text": [
            "/usr/local/lib/python3.7/dist-packages/sklearn/svm/_base.py:947: ConvergenceWarning:\n",
            "\n",
            "Liblinear failed to converge, increase the number of iterations.\n",
            "\n"
          ],
          "name": "stderr"
        },
        {
          "output_type": "stream",
          "text": [
            "deltau, deltav 0.0006128733173690781 0.003317625734105338\n",
            "26 / 30\n"
          ],
          "name": "stdout"
        },
        {
          "output_type": "stream",
          "text": [
            "/usr/local/lib/python3.7/dist-packages/sklearn/svm/_base.py:947: ConvergenceWarning:\n",
            "\n",
            "Liblinear failed to converge, increase the number of iterations.\n",
            "\n"
          ],
          "name": "stderr"
        },
        {
          "output_type": "stream",
          "text": [
            "deltau, deltav 0.0005124888921118758 0.0033956730189580323\n",
            "27 / 30\n"
          ],
          "name": "stdout"
        },
        {
          "output_type": "stream",
          "text": [
            "/usr/local/lib/python3.7/dist-packages/sklearn/svm/_base.py:947: ConvergenceWarning:\n",
            "\n",
            "Liblinear failed to converge, increase the number of iterations.\n",
            "\n"
          ],
          "name": "stderr"
        },
        {
          "output_type": "stream",
          "text": [
            "deltau, deltav 0.0005041277864471229 0.0031511699798262567\n",
            "28 / 30\n"
          ],
          "name": "stdout"
        },
        {
          "output_type": "stream",
          "text": [
            "/usr/local/lib/python3.7/dist-packages/sklearn/svm/_base.py:947: ConvergenceWarning:\n",
            "\n",
            "Liblinear failed to converge, increase the number of iterations.\n",
            "\n"
          ],
          "name": "stderr"
        },
        {
          "output_type": "stream",
          "text": [
            "deltau, deltav 0.0004895499536673548 0.003219646133826164\n",
            "29 / 30\n"
          ],
          "name": "stdout"
        },
        {
          "output_type": "stream",
          "text": [
            "/usr/local/lib/python3.7/dist-packages/sklearn/svm/_base.py:947: ConvergenceWarning:\n",
            "\n",
            "Liblinear failed to converge, increase the number of iterations.\n",
            "\n"
          ],
          "name": "stderr"
        },
        {
          "output_type": "stream",
          "text": [
            "deltau, deltav 0.00047929331985989204 0.002940553986880522\n",
            "30 / 30\n"
          ],
          "name": "stdout"
        },
        {
          "output_type": "stream",
          "text": [
            "/usr/local/lib/python3.7/dist-packages/sklearn/svm/_base.py:947: ConvergenceWarning:\n",
            "\n",
            "Liblinear failed to converge, increase the number of iterations.\n",
            "\n"
          ],
          "name": "stderr"
        },
        {
          "output_type": "stream",
          "text": [
            "deltau, deltav 0.00047704670293557917 0.0030338644477780593\n",
            "1 / 30\n",
            "deltau, deltav 7.810249675906775 35.80502757993908\n",
            "2 / 30\n"
          ],
          "name": "stdout"
        },
        {
          "output_type": "stream",
          "text": [
            "/usr/local/lib/python3.7/dist-packages/sklearn/svm/_base.py:947: ConvergenceWarning:\n",
            "\n",
            "Liblinear failed to converge, increase the number of iterations.\n",
            "\n"
          ],
          "name": "stderr"
        },
        {
          "output_type": "stream",
          "text": [
            "deltau, deltav 0.005198605279543154 0.5987425493530528\n",
            "3 / 30\n",
            "deltau, deltav 0.012059283166043284 6.429701114122552\n",
            "4 / 30\n",
            "deltau, deltav 0.0034289355596501263 3.6943866867469266\n",
            "5 / 30\n",
            "deltau, deltav 0.002774437730628364 0.7762837780153281\n",
            "6 / 30\n",
            "deltau, deltav 0.002329622239911262 0.503051429302182\n",
            "7 / 30\n",
            "deltau, deltav 0.002034871360455157 0.3360834605673866\n",
            "8 / 30\n",
            "deltau, deltav 0.0018082330569698533 0.25194954899268746\n",
            "9 / 30\n",
            "deltau, deltav 0.00164984445125447 0.19468475835245608\n",
            "10 / 30\n"
          ],
          "name": "stdout"
        },
        {
          "output_type": "stream",
          "text": [
            "/usr/local/lib/python3.7/dist-packages/sklearn/svm/_base.py:947: ConvergenceWarning:\n",
            "\n",
            "Liblinear failed to converge, increase the number of iterations.\n",
            "\n"
          ],
          "name": "stderr"
        },
        {
          "output_type": "stream",
          "text": [
            "deltau, deltav 0.0015585204056610684 0.15580948593011745\n",
            "11 / 30\n"
          ],
          "name": "stdout"
        },
        {
          "output_type": "stream",
          "text": [
            "/usr/local/lib/python3.7/dist-packages/sklearn/svm/_base.py:947: ConvergenceWarning:\n",
            "\n",
            "Liblinear failed to converge, increase the number of iterations.\n",
            "\n"
          ],
          "name": "stderr"
        },
        {
          "output_type": "stream",
          "text": [
            "deltau, deltav 0.0014483280727734733 0.1294921215553546\n",
            "12 / 30\n"
          ],
          "name": "stdout"
        },
        {
          "output_type": "stream",
          "text": [
            "/usr/local/lib/python3.7/dist-packages/sklearn/svm/_base.py:947: ConvergenceWarning:\n",
            "\n",
            "Liblinear failed to converge, increase the number of iterations.\n",
            "\n"
          ],
          "name": "stderr"
        },
        {
          "output_type": "stream",
          "text": [
            "deltau, deltav 0.0013712662501019703 0.11184892728683585\n",
            "13 / 30\n",
            "deltau, deltav 0.001299531795811438 0.09732628154935989\n",
            "14 / 30\n",
            "deltau, deltav 0.001231531748015258 0.08728209752834704\n",
            "15 / 30\n"
          ],
          "name": "stdout"
        },
        {
          "output_type": "stream",
          "text": [
            "/usr/local/lib/python3.7/dist-packages/sklearn/svm/_base.py:947: ConvergenceWarning:\n",
            "\n",
            "Liblinear failed to converge, increase the number of iterations.\n",
            "\n"
          ],
          "name": "stderr"
        },
        {
          "output_type": "stream",
          "text": [
            "deltau, deltav 0.0011772078602619242 0.07601066714006587\n",
            "16 / 30\n"
          ],
          "name": "stdout"
        },
        {
          "output_type": "stream",
          "text": [
            "/usr/local/lib/python3.7/dist-packages/sklearn/svm/_base.py:947: ConvergenceWarning:\n",
            "\n",
            "Liblinear failed to converge, increase the number of iterations.\n",
            "\n"
          ],
          "name": "stderr"
        },
        {
          "output_type": "stream",
          "text": [
            "deltau, deltav 0.0011751698102269695 0.06720777359535425\n",
            "17 / 30\n"
          ],
          "name": "stdout"
        },
        {
          "output_type": "stream",
          "text": [
            "/usr/local/lib/python3.7/dist-packages/sklearn/svm/_base.py:947: ConvergenceWarning:\n",
            "\n",
            "Liblinear failed to converge, increase the number of iterations.\n",
            "\n"
          ],
          "name": "stderr"
        },
        {
          "output_type": "stream",
          "text": [
            "deltau, deltav 0.0011303685637244758 0.06497494757782282\n",
            "18 / 30\n"
          ],
          "name": "stdout"
        },
        {
          "output_type": "stream",
          "text": [
            "/usr/local/lib/python3.7/dist-packages/sklearn/svm/_base.py:947: ConvergenceWarning:\n",
            "\n",
            "Liblinear failed to converge, increase the number of iterations.\n",
            "\n"
          ],
          "name": "stderr"
        },
        {
          "output_type": "stream",
          "text": [
            "deltau, deltav 0.001095575634920783 0.05815643873996697\n",
            "19 / 30\n"
          ],
          "name": "stdout"
        },
        {
          "output_type": "stream",
          "text": [
            "/usr/local/lib/python3.7/dist-packages/sklearn/svm/_base.py:947: ConvergenceWarning:\n",
            "\n",
            "Liblinear failed to converge, increase the number of iterations.\n",
            "\n"
          ],
          "name": "stderr"
        },
        {
          "output_type": "stream",
          "text": [
            "deltau, deltav 0.0010361138900069472 0.05137395210730073\n",
            "20 / 30\n"
          ],
          "name": "stdout"
        },
        {
          "output_type": "stream",
          "text": [
            "/usr/local/lib/python3.7/dist-packages/sklearn/svm/_base.py:947: ConvergenceWarning:\n",
            "\n",
            "Liblinear failed to converge, increase the number of iterations.\n",
            "\n"
          ],
          "name": "stderr"
        },
        {
          "output_type": "stream",
          "text": [
            "deltau, deltav 0.0009945798637461855 0.05025527558989608\n",
            "21 / 30\n"
          ],
          "name": "stdout"
        },
        {
          "output_type": "stream",
          "text": [
            "/usr/local/lib/python3.7/dist-packages/sklearn/svm/_base.py:947: ConvergenceWarning:\n",
            "\n",
            "Liblinear failed to converge, increase the number of iterations.\n",
            "\n"
          ],
          "name": "stderr"
        },
        {
          "output_type": "stream",
          "text": [
            "deltau, deltav 0.001046463169715242 0.04656766435445938\n",
            "22 / 30\n"
          ],
          "name": "stdout"
        },
        {
          "output_type": "stream",
          "text": [
            "/usr/local/lib/python3.7/dist-packages/sklearn/svm/_base.py:947: ConvergenceWarning:\n",
            "\n",
            "Liblinear failed to converge, increase the number of iterations.\n",
            "\n"
          ],
          "name": "stderr"
        },
        {
          "output_type": "stream",
          "text": [
            "deltau, deltav 0.0009231140190033997 0.046671534164539084\n",
            "23 / 30\n"
          ],
          "name": "stdout"
        },
        {
          "output_type": "stream",
          "text": [
            "/usr/local/lib/python3.7/dist-packages/sklearn/svm/_base.py:947: ConvergenceWarning:\n",
            "\n",
            "Liblinear failed to converge, increase the number of iterations.\n",
            "\n"
          ],
          "name": "stderr"
        },
        {
          "output_type": "stream",
          "text": [
            "deltau, deltav 0.0009315935345542561 0.03921864096246543\n",
            "24 / 30\n"
          ],
          "name": "stdout"
        },
        {
          "output_type": "stream",
          "text": [
            "/usr/local/lib/python3.7/dist-packages/sklearn/svm/_base.py:947: ConvergenceWarning:\n",
            "\n",
            "Liblinear failed to converge, increase the number of iterations.\n",
            "\n"
          ],
          "name": "stderr"
        },
        {
          "output_type": "stream",
          "text": [
            "deltau, deltav 0.0008722075181563595 0.03731894770429361\n",
            "25 / 30\n"
          ],
          "name": "stdout"
        },
        {
          "output_type": "stream",
          "text": [
            "/usr/local/lib/python3.7/dist-packages/sklearn/svm/_base.py:947: ConvergenceWarning:\n",
            "\n",
            "Liblinear failed to converge, increase the number of iterations.\n",
            "\n"
          ],
          "name": "stderr"
        },
        {
          "output_type": "stream",
          "text": [
            "deltau, deltav 0.0008421363539392147 0.032392860726098954\n",
            "26 / 30\n"
          ],
          "name": "stdout"
        },
        {
          "output_type": "stream",
          "text": [
            "/usr/local/lib/python3.7/dist-packages/sklearn/svm/_base.py:947: ConvergenceWarning:\n",
            "\n",
            "Liblinear failed to converge, increase the number of iterations.\n",
            "\n"
          ],
          "name": "stderr"
        },
        {
          "output_type": "stream",
          "text": [
            "deltau, deltav 0.0008245617385200142 0.030403667548911086\n",
            "27 / 30\n"
          ],
          "name": "stdout"
        },
        {
          "output_type": "stream",
          "text": [
            "/usr/local/lib/python3.7/dist-packages/sklearn/svm/_base.py:947: ConvergenceWarning:\n",
            "\n",
            "Liblinear failed to converge, increase the number of iterations.\n",
            "\n"
          ],
          "name": "stderr"
        },
        {
          "output_type": "stream",
          "text": [
            "deltau, deltav 0.000810728356764706 0.028719531960742437\n",
            "28 / 30\n"
          ],
          "name": "stdout"
        },
        {
          "output_type": "stream",
          "text": [
            "/usr/local/lib/python3.7/dist-packages/sklearn/svm/_base.py:947: ConvergenceWarning:\n",
            "\n",
            "Liblinear failed to converge, increase the number of iterations.\n",
            "\n"
          ],
          "name": "stderr"
        },
        {
          "output_type": "stream",
          "text": [
            "deltau, deltav 0.0007958095125915315 0.027140042178293685\n",
            "29 / 30\n"
          ],
          "name": "stdout"
        },
        {
          "output_type": "stream",
          "text": [
            "/usr/local/lib/python3.7/dist-packages/sklearn/svm/_base.py:947: ConvergenceWarning:\n",
            "\n",
            "Liblinear failed to converge, increase the number of iterations.\n",
            "\n"
          ],
          "name": "stderr"
        },
        {
          "output_type": "stream",
          "text": [
            "deltau, deltav 0.0007900208915131351 0.025594357106515395\n",
            "30 / 30\n"
          ],
          "name": "stdout"
        },
        {
          "output_type": "stream",
          "text": [
            "/usr/local/lib/python3.7/dist-packages/sklearn/svm/_base.py:947: ConvergenceWarning:\n",
            "\n",
            "Liblinear failed to converge, increase the number of iterations.\n",
            "\n"
          ],
          "name": "stderr"
        },
        {
          "output_type": "stream",
          "text": [
            "deltau, deltav 0.0007685397601375245 0.024825126847484474\n",
            "1 / 30\n",
            "deltau, deltav 7.810249675907162 35.8050275799408\n",
            "2 / 30\n"
          ],
          "name": "stdout"
        },
        {
          "output_type": "stream",
          "text": [
            "/usr/local/lib/python3.7/dist-packages/sklearn/svm/_base.py:947: ConvergenceWarning:\n",
            "\n",
            "Liblinear failed to converge, increase the number of iterations.\n",
            "\n"
          ],
          "name": "stderr"
        },
        {
          "output_type": "stream",
          "text": [
            "deltau, deltav 0.00928791248096034 1.062527184080869\n",
            "3 / 30\n"
          ],
          "name": "stdout"
        },
        {
          "output_type": "stream",
          "text": [
            "/usr/local/lib/python3.7/dist-packages/sklearn/svm/_base.py:947: ConvergenceWarning:\n",
            "\n",
            "Liblinear failed to converge, increase the number of iterations.\n",
            "\n"
          ],
          "name": "stderr"
        },
        {
          "output_type": "stream",
          "text": [
            "deltau, deltav 0.0003892803950740638 0.20630627900232704\n",
            "4 / 30\n"
          ],
          "name": "stdout"
        },
        {
          "output_type": "stream",
          "text": [
            "/usr/local/lib/python3.7/dist-packages/sklearn/svm/_base.py:947: ConvergenceWarning:\n",
            "\n",
            "Liblinear failed to converge, increase the number of iterations.\n",
            "\n"
          ],
          "name": "stderr"
        },
        {
          "output_type": "stream",
          "text": [
            "deltau, deltav 0.0006661083571074079 0.590431533775238\n",
            "5 / 30\n",
            "deltau, deltav 0.00019783595072403608 0.24967201834576552\n",
            "6 / 30\n"
          ],
          "name": "stdout"
        },
        {
          "output_type": "stream",
          "text": [
            "/usr/local/lib/python3.7/dist-packages/sklearn/svm/_base.py:947: ConvergenceWarning:\n",
            "\n",
            "Liblinear failed to converge, increase the number of iterations.\n",
            "\n"
          ],
          "name": "stderr"
        },
        {
          "output_type": "stream",
          "text": [
            "deltau, deltav 0.0001373920619604333 0.11931664054493718\n",
            "7 / 30\n"
          ],
          "name": "stdout"
        },
        {
          "output_type": "stream",
          "text": [
            "/usr/local/lib/python3.7/dist-packages/sklearn/svm/_base.py:947: ConvergenceWarning:\n",
            "\n",
            "Liblinear failed to converge, increase the number of iterations.\n",
            "\n"
          ],
          "name": "stderr"
        },
        {
          "output_type": "stream",
          "text": [
            "deltau, deltav 0.0003173781104125631 0.07468568321057349\n",
            "8 / 30\n",
            "deltau, deltav 0.00030643684809187314 0.4395731152514783\n",
            "9 / 30\n"
          ],
          "name": "stdout"
        },
        {
          "output_type": "stream",
          "text": [
            "/usr/local/lib/python3.7/dist-packages/sklearn/svm/_base.py:947: ConvergenceWarning:\n",
            "\n",
            "Liblinear failed to converge, increase the number of iterations.\n",
            "\n"
          ],
          "name": "stderr"
        },
        {
          "output_type": "stream",
          "text": [
            "deltau, deltav 0.00015507997844328903 0.26801009366074746\n",
            "10 / 30\n"
          ],
          "name": "stdout"
        },
        {
          "output_type": "stream",
          "text": [
            "/usr/local/lib/python3.7/dist-packages/sklearn/svm/_base.py:947: ConvergenceWarning:\n",
            "\n",
            "Liblinear failed to converge, increase the number of iterations.\n",
            "\n"
          ],
          "name": "stderr"
        },
        {
          "output_type": "stream",
          "text": [
            "deltau, deltav 0.00013822455436212863 0.10981718539691479\n",
            "11 / 30\n"
          ],
          "name": "stdout"
        },
        {
          "output_type": "stream",
          "text": [
            "/usr/local/lib/python3.7/dist-packages/sklearn/svm/_base.py:947: ConvergenceWarning:\n",
            "\n",
            "Liblinear failed to converge, increase the number of iterations.\n",
            "\n"
          ],
          "name": "stderr"
        },
        {
          "output_type": "stream",
          "text": [
            "deltau, deltav 0.00012106178456878243 0.06645942210903952\n",
            "12 / 30\n"
          ],
          "name": "stdout"
        },
        {
          "output_type": "stream",
          "text": [
            "/usr/local/lib/python3.7/dist-packages/sklearn/svm/_base.py:947: ConvergenceWarning:\n",
            "\n",
            "Liblinear failed to converge, increase the number of iterations.\n",
            "\n"
          ],
          "name": "stderr"
        },
        {
          "output_type": "stream",
          "text": [
            "deltau, deltav 0.00029623591366351035 0.046461321831053164\n",
            "13 / 30\n",
            "deltau, deltav 0.0004048234100687363 0.4114098653913411\n",
            "14 / 30\n"
          ],
          "name": "stdout"
        },
        {
          "output_type": "stream",
          "text": [
            "/usr/local/lib/python3.7/dist-packages/sklearn/svm/_base.py:947: ConvergenceWarning:\n",
            "\n",
            "Liblinear failed to converge, increase the number of iterations.\n",
            "\n"
          ],
          "name": "stderr"
        },
        {
          "output_type": "stream",
          "text": [
            "deltau, deltav 0.00023057613573199812 0.38736069176489957\n",
            "15 / 30\n"
          ],
          "name": "stdout"
        },
        {
          "output_type": "stream",
          "text": [
            "/usr/local/lib/python3.7/dist-packages/sklearn/svm/_base.py:947: ConvergenceWarning:\n",
            "\n",
            "Liblinear failed to converge, increase the number of iterations.\n",
            "\n"
          ],
          "name": "stderr"
        },
        {
          "output_type": "stream",
          "text": [
            "deltau, deltav 0.000170882673420565 0.0440373695900676\n",
            "16 / 30\n"
          ],
          "name": "stdout"
        },
        {
          "output_type": "stream",
          "text": [
            "/usr/local/lib/python3.7/dist-packages/sklearn/svm/_base.py:947: ConvergenceWarning:\n",
            "\n",
            "Liblinear failed to converge, increase the number of iterations.\n",
            "\n"
          ],
          "name": "stderr"
        },
        {
          "output_type": "stream",
          "text": [
            "deltau, deltav 0.0001343843517657446 0.23096712189002247\n",
            "17 / 30\n"
          ],
          "name": "stdout"
        },
        {
          "output_type": "stream",
          "text": [
            "/usr/local/lib/python3.7/dist-packages/sklearn/svm/_base.py:947: ConvergenceWarning:\n",
            "\n",
            "Liblinear failed to converge, increase the number of iterations.\n",
            "\n"
          ],
          "name": "stderr"
        },
        {
          "output_type": "stream",
          "text": [
            "deltau, deltav 0.0001093909980187198 0.1938079558665462\n",
            "18 / 30\n"
          ],
          "name": "stdout"
        },
        {
          "output_type": "stream",
          "text": [
            "/usr/local/lib/python3.7/dist-packages/sklearn/svm/_base.py:947: ConvergenceWarning:\n",
            "\n",
            "Liblinear failed to converge, increase the number of iterations.\n",
            "\n"
          ],
          "name": "stderr"
        },
        {
          "output_type": "stream",
          "text": [
            "deltau, deltav 9.130405124848636e-05 0.07463009449469031\n",
            "19 / 30\n"
          ],
          "name": "stdout"
        },
        {
          "output_type": "stream",
          "text": [
            "/usr/local/lib/python3.7/dist-packages/sklearn/svm/_base.py:947: ConvergenceWarning:\n",
            "\n",
            "Liblinear failed to converge, increase the number of iterations.\n",
            "\n"
          ],
          "name": "stderr"
        },
        {
          "output_type": "stream",
          "text": [
            "deltau, deltav 8.979825476093851e-05 0.03811018661813198\n",
            "20 / 30\n"
          ],
          "name": "stdout"
        },
        {
          "output_type": "stream",
          "text": [
            "/usr/local/lib/python3.7/dist-packages/sklearn/svm/_base.py:947: ConvergenceWarning:\n",
            "\n",
            "Liblinear failed to converge, increase the number of iterations.\n",
            "\n"
          ],
          "name": "stderr"
        },
        {
          "output_type": "stream",
          "text": [
            "deltau, deltav 8.539074554850043e-05 0.013987347767982055\n",
            "21 / 30\n"
          ],
          "name": "stdout"
        },
        {
          "output_type": "stream",
          "text": [
            "/usr/local/lib/python3.7/dist-packages/sklearn/svm/_base.py:947: ConvergenceWarning:\n",
            "\n",
            "Liblinear failed to converge, increase the number of iterations.\n",
            "\n"
          ],
          "name": "stderr"
        },
        {
          "output_type": "stream",
          "text": [
            "deltau, deltav 0.0009737938034098966 0.015272621569746108\n",
            "22 / 30\n"
          ],
          "name": "stdout"
        },
        {
          "output_type": "stream",
          "text": [
            "/usr/local/lib/python3.7/dist-packages/sklearn/svm/_base.py:947: ConvergenceWarning:\n",
            "\n",
            "Liblinear failed to converge, increase the number of iterations.\n",
            "\n"
          ],
          "name": "stderr"
        },
        {
          "output_type": "stream",
          "text": [
            "deltau, deltav 0.001973516258032157 0.8894449421839079\n",
            "23 / 30\n",
            "deltau, deltav 0.0009466474461479139 0.6234342857943966\n",
            "24 / 30\n",
            "deltau, deltav 0.00014999524713639838 0.2345178032025954\n",
            "25 / 30\n"
          ],
          "name": "stdout"
        },
        {
          "output_type": "stream",
          "text": [
            "/usr/local/lib/python3.7/dist-packages/sklearn/svm/_base.py:947: ConvergenceWarning:\n",
            "\n",
            "Liblinear failed to converge, increase the number of iterations.\n",
            "\n"
          ],
          "name": "stderr"
        },
        {
          "output_type": "stream",
          "text": [
            "deltau, deltav 0.00012809481521463048 0.13174517022157461\n",
            "26 / 30\n",
            "deltau, deltav 0.00011748358280634865 0.07330394675583689\n",
            "27 / 30\n"
          ],
          "name": "stdout"
        },
        {
          "output_type": "stream",
          "text": [
            "/usr/local/lib/python3.7/dist-packages/sklearn/svm/_base.py:947: ConvergenceWarning:\n",
            "\n",
            "Liblinear failed to converge, increase the number of iterations.\n",
            "\n"
          ],
          "name": "stderr"
        },
        {
          "output_type": "stream",
          "text": [
            "deltau, deltav 0.0006433839506450173 0.05190139870565658\n",
            "28 / 30\n"
          ],
          "name": "stdout"
        },
        {
          "output_type": "stream",
          "text": [
            "/usr/local/lib/python3.7/dist-packages/sklearn/svm/_base.py:947: ConvergenceWarning:\n",
            "\n",
            "Liblinear failed to converge, increase the number of iterations.\n",
            "\n"
          ],
          "name": "stderr"
        },
        {
          "output_type": "stream",
          "text": [
            "deltau, deltav 0.000772027895180145 0.5605535561539109\n",
            "29 / 30\n"
          ],
          "name": "stdout"
        },
        {
          "output_type": "stream",
          "text": [
            "/usr/local/lib/python3.7/dist-packages/sklearn/svm/_base.py:947: ConvergenceWarning:\n",
            "\n",
            "Liblinear failed to converge, increase the number of iterations.\n",
            "\n"
          ],
          "name": "stderr"
        },
        {
          "output_type": "stream",
          "text": [
            "deltau, deltav 0.0005060274961955977 0.2722481331880448\n",
            "30 / 30\n"
          ],
          "name": "stdout"
        },
        {
          "output_type": "stream",
          "text": [
            "/usr/local/lib/python3.7/dist-packages/sklearn/svm/_base.py:947: ConvergenceWarning:\n",
            "\n",
            "Liblinear failed to converge, increase the number of iterations.\n",
            "\n"
          ],
          "name": "stderr"
        },
        {
          "output_type": "stream",
          "text": [
            "deltau, deltav 0.000680514817787237 0.44550301854274404\n",
            "1 / 30\n",
            "deltau, deltav 7.810249675907013 35.80502757993327\n",
            "2 / 30\n"
          ],
          "name": "stdout"
        },
        {
          "output_type": "stream",
          "text": [
            "/usr/local/lib/python3.7/dist-packages/sklearn/svm/_base.py:947: ConvergenceWarning:\n",
            "\n",
            "Liblinear failed to converge, increase the number of iterations.\n",
            "\n"
          ],
          "name": "stderr"
        },
        {
          "output_type": "stream",
          "text": [
            "deltau, deltav 0.0038387156190493685 1.0528323983833434\n",
            "3 / 30\n",
            "deltau, deltav 0.021350300990829747 6.402537825953553\n",
            "4 / 30\n",
            "deltau, deltav 0.005366607780052879 4.591509714623279\n",
            "5 / 30\n",
            "deltau, deltav 0.0038110563105813555 0.8793723036406599\n",
            "6 / 30\n",
            "deltau, deltav 0.0027778648968786227 0.4505317761715054\n",
            "7 / 30\n",
            "deltau, deltav 0.0020050241932370962 0.28323033672653436\n",
            "8 / 30\n",
            "deltau, deltav 0.0015222711748471166 0.17376912076269532\n",
            "9 / 30\n",
            "deltau, deltav 0.0013493057323233958 0.12436363686032309\n",
            "10 / 30\n",
            "deltau, deltav 0.0012135439611608864 0.10315409582070678\n",
            "11 / 30\n",
            "deltau, deltav 0.001120904639240229 0.08790517885617503\n",
            "12 / 30\n",
            "deltau, deltav 0.0010413967105833072 0.07731952276140168\n",
            "13 / 30\n",
            "deltau, deltav 0.000967514064330322 0.06750862245410763\n",
            "14 / 30\n",
            "deltau, deltav 0.0009233516973102974 0.059847605276535994\n",
            "15 / 30\n",
            "deltau, deltav 0.0008977335925211568 0.054477913122514786\n",
            "16 / 30\n",
            "deltau, deltav 0.0008707683768299718 0.04948995324847905\n",
            "17 / 30\n",
            "deltau, deltav 0.0008422995387377053 0.04529264403744934\n",
            "18 / 30\n",
            "deltau, deltav 0.0008117940373819085 0.041863068299128475\n",
            "19 / 30\n",
            "deltau, deltav 0.0007860406086020028 0.03874745176994568\n",
            "20 / 30\n",
            "deltau, deltav 0.0007644864945904458 0.03601992831696258\n",
            "21 / 30\n",
            "deltau, deltav 0.0007512134731661458 0.033710320945463126\n",
            "22 / 30\n",
            "deltau, deltav 0.0007409623838057877 0.032543821834445\n",
            "23 / 30\n",
            "deltau, deltav 0.0007282576279480357 0.03147759232698969\n",
            "24 / 30\n",
            "deltau, deltav 0.0007099309364274335 0.030205797079574555\n",
            "25 / 30\n",
            "deltau, deltav 0.0006842875174405246 0.028394338974137855\n",
            "26 / 30\n",
            "deltau, deltav 0.0006583314461194747 0.0262135428676357\n",
            "27 / 30\n",
            "deltau, deltav 0.0006349673920591563 0.024580503962412584\n",
            "28 / 30\n",
            "deltau, deltav 0.0006196016743073584 0.02316650581625696\n",
            "29 / 30\n",
            "deltau, deltav 0.0006092965267568015 0.021762749422204273\n",
            "30 / 30\n",
            "deltau, deltav 0.0005986691995776809 0.020822019740948713\n",
            "1 / 30\n",
            "deltau, deltav 7.810249675906756 35.80502757993486\n",
            "2 / 30\n"
          ],
          "name": "stdout"
        },
        {
          "output_type": "stream",
          "text": [
            "/usr/local/lib/python3.7/dist-packages/sklearn/svm/_base.py:947: ConvergenceWarning:\n",
            "\n",
            "Liblinear failed to converge, increase the number of iterations.\n",
            "\n"
          ],
          "name": "stderr"
        },
        {
          "output_type": "stream",
          "text": [
            "deltau, deltav 0.009570715792314635 0.4316596345727918\n",
            "3 / 30\n",
            "deltau, deltav 0.006934271602213677 6.214147037767201\n",
            "4 / 30\n",
            "deltau, deltav 0.003133052496397638 2.467025048908363\n",
            "5 / 30\n",
            "deltau, deltav 0.002405790111646516 1.0692111124236006\n",
            "6 / 30\n",
            "deltau, deltav 0.002101237449329363 0.6246437087531839\n",
            "7 / 30\n",
            "deltau, deltav 0.0018217390971266613 0.42597086371334275\n",
            "8 / 30\n"
          ],
          "name": "stdout"
        },
        {
          "output_type": "stream",
          "text": [
            "/usr/local/lib/python3.7/dist-packages/sklearn/svm/_base.py:947: ConvergenceWarning:\n",
            "\n",
            "Liblinear failed to converge, increase the number of iterations.\n",
            "\n"
          ],
          "name": "stderr"
        },
        {
          "output_type": "stream",
          "text": [
            "deltau, deltav 0.0015229556845578467 0.2998635903895356\n",
            "9 / 30\n",
            "deltau, deltav 0.0014232598714034733 0.22263580287153853\n",
            "10 / 30\n",
            "deltau, deltav 0.0014319186360775415 0.18870490364977374\n",
            "11 / 30\n",
            "deltau, deltav 0.001633602930095543 0.18148195866752437\n",
            "12 / 30\n",
            "deltau, deltav 0.0020907089503502028 0.1953467943175155\n",
            "13 / 30\n",
            "deltau, deltav 0.0028246118251632826 0.2495382055533972\n",
            "14 / 30\n",
            "deltau, deltav 0.00312306811108635 0.26978871952917666\n",
            "15 / 30\n",
            "deltau, deltav 0.002394668658180158 0.24246853678729155\n",
            "16 / 30\n",
            "deltau, deltav 0.0022940603377901913 0.1650929194340917\n",
            "17 / 30\n",
            "deltau, deltav 0.0022803907295844005 0.15200704419077818\n",
            "18 / 30\n",
            "deltau, deltav 0.0020176085587715687 0.1364636658153051\n",
            "19 / 30\n",
            "deltau, deltav 0.0018102227608679322 0.10538536753858281\n",
            "20 / 30\n",
            "deltau, deltav 0.001820540270976378 0.0877060320495273\n",
            "21 / 30\n",
            "deltau, deltav 0.0013110390972206165 0.07323238128018765\n",
            "22 / 30\n",
            "deltau, deltav 0.001013135851067944 0.053281420211680995\n",
            "23 / 30\n",
            "deltau, deltav 0.0008083874675785327 0.04237017038016361\n",
            "24 / 30\n",
            "deltau, deltav 0.0006610144497873409 0.03445099928599272\n",
            "25 / 30\n",
            "deltau, deltav 0.0005848494441201462 0.028405713967665523\n",
            "26 / 30\n",
            "deltau, deltav 0.0005503573388459804 0.025226607431368002\n",
            "27 / 30\n",
            "deltau, deltav 0.0005256084160968637 0.023231888403415835\n",
            "28 / 30\n",
            "deltau, deltav 0.0005130610990807088 0.02156058835465218\n",
            "29 / 30\n",
            "deltau, deltav 0.000502862582399491 0.02129503809611801\n",
            "30 / 30\n",
            "deltau, deltav 0.00048631140619785336 0.020880196997392013\n",
            "1 / 30\n",
            "deltau, deltav 7.810249675906825 35.80502757993889\n",
            "2 / 30\n",
            "deltau, deltav 0.02828664326245189 0.5150692135930786\n",
            "3 / 30\n"
          ],
          "name": "stdout"
        },
        {
          "output_type": "stream",
          "text": [
            "/usr/local/lib/python3.7/dist-packages/sklearn/svm/_base.py:947: ConvergenceWarning:\n",
            "\n",
            "Liblinear failed to converge, increase the number of iterations.\n",
            "\n"
          ],
          "name": "stderr"
        },
        {
          "output_type": "stream",
          "text": [
            "deltau, deltav 0.001259822259106836 0.13844011884177657\n",
            "4 / 30\n"
          ],
          "name": "stdout"
        },
        {
          "output_type": "stream",
          "text": [
            "/usr/local/lib/python3.7/dist-packages/sklearn/svm/_base.py:947: ConvergenceWarning:\n",
            "\n",
            "Liblinear failed to converge, increase the number of iterations.\n",
            "\n"
          ],
          "name": "stderr"
        },
        {
          "output_type": "stream",
          "text": [
            "deltau, deltav 0.00015447677690751 0.009804050044490585\n",
            "5 / 30\n"
          ],
          "name": "stdout"
        },
        {
          "output_type": "stream",
          "text": [
            "/usr/local/lib/python3.7/dist-packages/sklearn/svm/_base.py:947: ConvergenceWarning:\n",
            "\n",
            "Liblinear failed to converge, increase the number of iterations.\n",
            "\n"
          ],
          "name": "stderr"
        },
        {
          "output_type": "stream",
          "text": [
            "deltau, deltav 0.0001259570549058691 0.003774443738100815\n",
            "6 / 30\n"
          ],
          "name": "stdout"
        },
        {
          "output_type": "stream",
          "text": [
            "/usr/local/lib/python3.7/dist-packages/sklearn/svm/_base.py:947: ConvergenceWarning:\n",
            "\n",
            "Liblinear failed to converge, increase the number of iterations.\n",
            "\n"
          ],
          "name": "stderr"
        },
        {
          "output_type": "stream",
          "text": [
            "deltau, deltav 7.147188142695425e-05 0.004282438368716697\n",
            "7 / 30\n"
          ],
          "name": "stdout"
        },
        {
          "output_type": "stream",
          "text": [
            "/usr/local/lib/python3.7/dist-packages/sklearn/svm/_base.py:947: ConvergenceWarning:\n",
            "\n",
            "Liblinear failed to converge, increase the number of iterations.\n",
            "\n"
          ],
          "name": "stderr"
        },
        {
          "output_type": "stream",
          "text": [
            "deltau, deltav 8.398961477177271e-05 0.003369610141525323\n",
            "8 / 30\n"
          ],
          "name": "stdout"
        },
        {
          "output_type": "stream",
          "text": [
            "/usr/local/lib/python3.7/dist-packages/sklearn/svm/_base.py:947: ConvergenceWarning:\n",
            "\n",
            "Liblinear failed to converge, increase the number of iterations.\n",
            "\n"
          ],
          "name": "stderr"
        },
        {
          "output_type": "stream",
          "text": [
            "deltau, deltav 7.214310769353884e-05 0.0031652824626278255\n",
            "9 / 30\n"
          ],
          "name": "stdout"
        },
        {
          "output_type": "stream",
          "text": [
            "/usr/local/lib/python3.7/dist-packages/sklearn/svm/_base.py:947: ConvergenceWarning:\n",
            "\n",
            "Liblinear failed to converge, increase the number of iterations.\n",
            "\n"
          ],
          "name": "stderr"
        },
        {
          "output_type": "stream",
          "text": [
            "deltau, deltav 7.24113101936713e-05 0.00312575050202475\n",
            "10 / 30\n"
          ],
          "name": "stdout"
        },
        {
          "output_type": "stream",
          "text": [
            "/usr/local/lib/python3.7/dist-packages/sklearn/svm/_base.py:947: ConvergenceWarning:\n",
            "\n",
            "Liblinear failed to converge, increase the number of iterations.\n",
            "\n"
          ],
          "name": "stderr"
        },
        {
          "output_type": "stream",
          "text": [
            "deltau, deltav 7.142984356111519e-05 0.0027916566798598243\n",
            "11 / 30\n"
          ],
          "name": "stdout"
        },
        {
          "output_type": "stream",
          "text": [
            "/usr/local/lib/python3.7/dist-packages/sklearn/svm/_base.py:947: ConvergenceWarning:\n",
            "\n",
            "Liblinear failed to converge, increase the number of iterations.\n",
            "\n"
          ],
          "name": "stderr"
        },
        {
          "output_type": "stream",
          "text": [
            "deltau, deltav 6.935553910911536e-05 0.0029395140588360314\n",
            "12 / 30\n"
          ],
          "name": "stdout"
        },
        {
          "output_type": "stream",
          "text": [
            "/usr/local/lib/python3.7/dist-packages/sklearn/svm/_base.py:947: ConvergenceWarning:\n",
            "\n",
            "Liblinear failed to converge, increase the number of iterations.\n",
            "\n"
          ],
          "name": "stderr"
        },
        {
          "output_type": "stream",
          "text": [
            "deltau, deltav 0.0008308399964022551 0.0027412686132465155\n",
            "13 / 30\n"
          ],
          "name": "stdout"
        },
        {
          "output_type": "stream",
          "text": [
            "/usr/local/lib/python3.7/dist-packages/sklearn/svm/_base.py:947: ConvergenceWarning:\n",
            "\n",
            "Liblinear failed to converge, increase the number of iterations.\n",
            "\n"
          ],
          "name": "stderr"
        },
        {
          "output_type": "stream",
          "text": [
            "deltau, deltav 0.004282229087965615 0.2625103966735062\n",
            "14 / 30\n"
          ],
          "name": "stdout"
        },
        {
          "output_type": "stream",
          "text": [
            "/usr/local/lib/python3.7/dist-packages/sklearn/svm/_base.py:947: ConvergenceWarning:\n",
            "\n",
            "Liblinear failed to converge, increase the number of iterations.\n",
            "\n"
          ],
          "name": "stderr"
        },
        {
          "output_type": "stream",
          "text": [
            "deltau, deltav 0.0004454787825088198 0.05767299002392883\n",
            "15 / 30\n"
          ],
          "name": "stdout"
        },
        {
          "output_type": "stream",
          "text": [
            "/usr/local/lib/python3.7/dist-packages/sklearn/svm/_base.py:947: ConvergenceWarning:\n",
            "\n",
            "Liblinear failed to converge, increase the number of iterations.\n",
            "\n"
          ],
          "name": "stderr"
        },
        {
          "output_type": "stream",
          "text": [
            "deltau, deltav 8.282344404993318e-05 0.015660879321780844\n",
            "16 / 30\n"
          ],
          "name": "stdout"
        },
        {
          "output_type": "stream",
          "text": [
            "/usr/local/lib/python3.7/dist-packages/sklearn/svm/_base.py:947: ConvergenceWarning:\n",
            "\n",
            "Liblinear failed to converge, increase the number of iterations.\n",
            "\n"
          ],
          "name": "stderr"
        },
        {
          "output_type": "stream",
          "text": [
            "deltau, deltav 8.2353193485982e-05 0.01288791638020522\n",
            "17 / 30\n"
          ],
          "name": "stdout"
        },
        {
          "output_type": "stream",
          "text": [
            "/usr/local/lib/python3.7/dist-packages/sklearn/svm/_base.py:947: ConvergenceWarning:\n",
            "\n",
            "Liblinear failed to converge, increase the number of iterations.\n",
            "\n"
          ],
          "name": "stderr"
        },
        {
          "output_type": "stream",
          "text": [
            "deltau, deltav 8.627814234050545e-05 0.011613432997531972\n",
            "18 / 30\n"
          ],
          "name": "stdout"
        },
        {
          "output_type": "stream",
          "text": [
            "/usr/local/lib/python3.7/dist-packages/sklearn/svm/_base.py:947: ConvergenceWarning:\n",
            "\n",
            "Liblinear failed to converge, increase the number of iterations.\n",
            "\n"
          ],
          "name": "stderr"
        },
        {
          "output_type": "stream",
          "text": [
            "deltau, deltav 8.937494866969525e-05 0.010684432378959791\n",
            "19 / 30\n"
          ],
          "name": "stdout"
        },
        {
          "output_type": "stream",
          "text": [
            "/usr/local/lib/python3.7/dist-packages/sklearn/svm/_base.py:947: ConvergenceWarning:\n",
            "\n",
            "Liblinear failed to converge, increase the number of iterations.\n",
            "\n"
          ],
          "name": "stderr"
        },
        {
          "output_type": "stream",
          "text": [
            "deltau, deltav 0.0001474154972945888 0.009784305537789506\n",
            "20 / 30\n"
          ],
          "name": "stdout"
        },
        {
          "output_type": "stream",
          "text": [
            "/usr/local/lib/python3.7/dist-packages/sklearn/svm/_base.py:947: ConvergenceWarning:\n",
            "\n",
            "Liblinear failed to converge, increase the number of iterations.\n",
            "\n"
          ],
          "name": "stderr"
        },
        {
          "output_type": "stream",
          "text": [
            "deltau, deltav 6.829085895394788e-05 0.01677272226277705\n",
            "21 / 30\n"
          ],
          "name": "stdout"
        },
        {
          "output_type": "stream",
          "text": [
            "/usr/local/lib/python3.7/dist-packages/sklearn/svm/_base.py:947: ConvergenceWarning:\n",
            "\n",
            "Liblinear failed to converge, increase the number of iterations.\n",
            "\n"
          ],
          "name": "stderr"
        },
        {
          "output_type": "stream",
          "text": [
            "deltau, deltav 8.922817094069089e-05 0.009489437567617451\n",
            "22 / 30\n"
          ],
          "name": "stdout"
        },
        {
          "output_type": "stream",
          "text": [
            "/usr/local/lib/python3.7/dist-packages/sklearn/svm/_base.py:947: ConvergenceWarning:\n",
            "\n",
            "Liblinear failed to converge, increase the number of iterations.\n",
            "\n"
          ],
          "name": "stderr"
        },
        {
          "output_type": "stream",
          "text": [
            "deltau, deltav 8.906447005973101e-05 0.010521522374728934\n",
            "23 / 30\n"
          ],
          "name": "stdout"
        },
        {
          "output_type": "stream",
          "text": [
            "/usr/local/lib/python3.7/dist-packages/sklearn/svm/_base.py:947: ConvergenceWarning:\n",
            "\n",
            "Liblinear failed to converge, increase the number of iterations.\n",
            "\n"
          ],
          "name": "stderr"
        },
        {
          "output_type": "stream",
          "text": [
            "deltau, deltav 7.841696361362317e-05 0.007709916277729741\n",
            "24 / 30\n"
          ],
          "name": "stdout"
        },
        {
          "output_type": "stream",
          "text": [
            "/usr/local/lib/python3.7/dist-packages/sklearn/svm/_base.py:947: ConvergenceWarning:\n",
            "\n",
            "Liblinear failed to converge, increase the number of iterations.\n",
            "\n"
          ],
          "name": "stderr"
        },
        {
          "output_type": "stream",
          "text": [
            "deltau, deltav 7.788372108990602e-05 0.006674006757255372\n",
            "25 / 30\n"
          ],
          "name": "stdout"
        },
        {
          "output_type": "stream",
          "text": [
            "/usr/local/lib/python3.7/dist-packages/sklearn/svm/_base.py:947: ConvergenceWarning:\n",
            "\n",
            "Liblinear failed to converge, increase the number of iterations.\n",
            "\n"
          ],
          "name": "stderr"
        },
        {
          "output_type": "stream",
          "text": [
            "deltau, deltav 9.429606546275065e-05 0.006286336780855446\n",
            "26 / 30\n"
          ],
          "name": "stdout"
        },
        {
          "output_type": "stream",
          "text": [
            "/usr/local/lib/python3.7/dist-packages/sklearn/svm/_base.py:947: ConvergenceWarning:\n",
            "\n",
            "Liblinear failed to converge, increase the number of iterations.\n",
            "\n"
          ],
          "name": "stderr"
        },
        {
          "output_type": "stream",
          "text": [
            "deltau, deltav 7.021229701773878e-05 0.005763932020007846\n",
            "27 / 30\n"
          ],
          "name": "stdout"
        },
        {
          "output_type": "stream",
          "text": [
            "/usr/local/lib/python3.7/dist-packages/sklearn/svm/_base.py:947: ConvergenceWarning:\n",
            "\n",
            "Liblinear failed to converge, increase the number of iterations.\n",
            "\n"
          ],
          "name": "stderr"
        },
        {
          "output_type": "stream",
          "text": [
            "deltau, deltav 7.507874320130248e-05 0.005674490515702272\n",
            "28 / 30\n"
          ],
          "name": "stdout"
        },
        {
          "output_type": "stream",
          "text": [
            "/usr/local/lib/python3.7/dist-packages/sklearn/svm/_base.py:947: ConvergenceWarning:\n",
            "\n",
            "Liblinear failed to converge, increase the number of iterations.\n",
            "\n"
          ],
          "name": "stderr"
        },
        {
          "output_type": "stream",
          "text": [
            "deltau, deltav 7.422514889888427e-05 0.005220867249604308\n",
            "29 / 30\n"
          ],
          "name": "stdout"
        },
        {
          "output_type": "stream",
          "text": [
            "/usr/local/lib/python3.7/dist-packages/sklearn/svm/_base.py:947: ConvergenceWarning:\n",
            "\n",
            "Liblinear failed to converge, increase the number of iterations.\n",
            "\n"
          ],
          "name": "stderr"
        },
        {
          "output_type": "stream",
          "text": [
            "deltau, deltav 7.349349803509172e-05 0.004935458656885264\n",
            "30 / 30\n"
          ],
          "name": "stdout"
        },
        {
          "output_type": "stream",
          "text": [
            "/usr/local/lib/python3.7/dist-packages/sklearn/svm/_base.py:947: ConvergenceWarning:\n",
            "\n",
            "Liblinear failed to converge, increase the number of iterations.\n",
            "\n"
          ],
          "name": "stderr"
        },
        {
          "output_type": "stream",
          "text": [
            "deltau, deltav 0.0002191984373059887 0.00463395428175524\n",
            "1 / 30\n",
            "deltau, deltav 7.810249675906714 35.80502757993744\n",
            "2 / 30\n"
          ],
          "name": "stdout"
        },
        {
          "output_type": "stream",
          "text": [
            "/usr/local/lib/python3.7/dist-packages/sklearn/svm/_base.py:947: ConvergenceWarning:\n",
            "\n",
            "Liblinear failed to converge, increase the number of iterations.\n",
            "\n"
          ],
          "name": "stderr"
        },
        {
          "output_type": "stream",
          "text": [
            "deltau, deltav 0.002188295312931806 0.6399180529967174\n",
            "3 / 30\n",
            "deltau, deltav 0.029025131765729014 5.093329670440055\n",
            "4 / 30\n",
            "deltau, deltav 0.010320315099572786 4.092163440621009\n",
            "5 / 30\n",
            "deltau, deltav 0.00559244977707006 0.7267912202817374\n",
            "6 / 30\n",
            "deltau, deltav 0.0027153309293658843 0.27180282544085904\n",
            "7 / 30\n",
            "deltau, deltav 0.0021319382322525283 0.1489601235184895\n",
            "8 / 30\n",
            "deltau, deltav 0.0015762305732864475 0.10662983038399816\n",
            "9 / 30\n",
            "deltau, deltav 0.001180445240634498 0.06820672837766018\n",
            "10 / 30\n",
            "deltau, deltav 0.001022042224265194 0.05248096291708487\n",
            "11 / 30\n",
            "deltau, deltav 0.0011432659491877283 0.04747975671050562\n",
            "12 / 30\n",
            "deltau, deltav 0.001204577183511966 0.04979352493910444\n",
            "13 / 30\n",
            "deltau, deltav 0.0010242655279054632 0.046572297537801205\n",
            "14 / 30\n",
            "deltau, deltav 0.0008636383687570794 0.0377627479403464\n",
            "15 / 30\n",
            "deltau, deltav 0.000738785940393034 0.029930602111465567\n",
            "16 / 30\n",
            "deltau, deltav 0.0006764459515121237 0.025139607839949705\n",
            "17 / 30\n",
            "deltau, deltav 0.0006359308586586041 0.022023534726325966\n",
            "18 / 30\n",
            "deltau, deltav 0.0005971889665873655 0.02075081281125532\n",
            "19 / 30\n",
            "deltau, deltav 0.0005750362999471442 0.0197568610019706\n",
            "20 / 30\n",
            "deltau, deltav 0.0005523251845882561 0.018419083960886307\n",
            "21 / 30\n",
            "deltau, deltav 0.0005075171497336168 0.01709837934361506\n",
            "22 / 30\n",
            "deltau, deltav 0.0004849777311190454 0.01573015682935286\n",
            "23 / 30\n",
            "deltau, deltav 0.00046401822911635194 0.014873462288154336\n",
            "24 / 30\n",
            "deltau, deltav 0.0004473643133508941 0.01364356816994689\n",
            "25 / 30\n",
            "deltau, deltav 0.00044784309297423656 0.013519071612638107\n",
            "26 / 30\n",
            "deltau, deltav 0.0004550935401292319 0.013884361827906994\n",
            "27 / 30\n",
            "deltau, deltav 0.00045560146910333634 0.013830850669358637\n",
            "28 / 30\n",
            "deltau, deltav 0.0004486635268166562 0.013489118644851967\n",
            "29 / 30\n",
            "deltau, deltav 0.00043486680582606354 0.012921045376957294\n",
            "30 / 30\n",
            "deltau, deltav 0.00041408705325511754 0.012182136592706165\n",
            "1 / 30\n",
            "deltau, deltav 7.810249675907007 35.805027579932585\n",
            "2 / 30\n"
          ],
          "name": "stdout"
        },
        {
          "output_type": "stream",
          "text": [
            "/usr/local/lib/python3.7/dist-packages/sklearn/svm/_base.py:947: ConvergenceWarning:\n",
            "\n",
            "Liblinear failed to converge, increase the number of iterations.\n",
            "\n"
          ],
          "name": "stderr"
        },
        {
          "output_type": "stream",
          "text": [
            "deltau, deltav 0.003781339665334584 0.8388896086171632\n",
            "3 / 30\n",
            "deltau, deltav 0.012795846495454321 6.083932900460168\n",
            "4 / 30\n",
            "deltau, deltav 0.003672819529536837 3.974580487619198\n",
            "5 / 30\n",
            "deltau, deltav 0.002079305670260111 0.7622434234585784\n",
            "6 / 30\n",
            "deltau, deltav 0.0015629074219309623 0.3844302166144163\n",
            "7 / 30\n",
            "deltau, deltav 0.0012059080260059165 0.2561082743664694\n",
            "8 / 30\n",
            "deltau, deltav 0.0010644943591706564 0.18453008984465555\n",
            "9 / 30\n",
            "deltau, deltav 0.0009699018635916781 0.15138475363557122\n",
            "10 / 30\n",
            "deltau, deltav 0.0008823182577500556 0.12354675891949587\n",
            "11 / 30\n",
            "deltau, deltav 0.0008019121278392571 0.10518246691473172\n",
            "12 / 30\n",
            "deltau, deltav 0.0007052177253008082 0.08689523069730448\n",
            "13 / 30\n",
            "deltau, deltav 0.0006354572737737212 0.07104207846507064\n",
            "14 / 30\n",
            "deltau, deltav 0.0005930869472511505 0.059488893822139746\n",
            "15 / 30\n",
            "deltau, deltav 0.0005637435686667476 0.051997089286947545\n",
            "16 / 30\n",
            "deltau, deltav 0.0005414591136469436 0.04692450718909421\n",
            "17 / 30\n",
            "deltau, deltav 0.0005190351381837554 0.04278042543689791\n",
            "18 / 30\n",
            "deltau, deltav 0.0004998093692485513 0.039173385093436486\n",
            "19 / 30\n",
            "deltau, deltav 0.0004808154624965522 0.036027164328770726\n",
            "20 / 30\n",
            "deltau, deltav 0.00046206146438775524 0.03323686574402179\n",
            "21 / 30\n",
            "deltau, deltav 0.00044674440605060493 0.030437250522282265\n",
            "22 / 30\n",
            "deltau, deltav 0.00043656962434191756 0.028003399331900464\n",
            "23 / 30\n",
            "deltau, deltav 0.00042804389445041377 0.026314857300246013\n",
            "24 / 30\n",
            "deltau, deltav 0.0004201103643196032 0.024891668332657862\n",
            "25 / 30\n",
            "deltau, deltav 0.00041221332012676416 0.023685669268868333\n",
            "26 / 30\n",
            "deltau, deltav 0.0004045270687489324 0.02257530529101846\n",
            "27 / 30\n",
            "deltau, deltav 0.0003982929780986132 0.0217005860397866\n",
            "28 / 30\n",
            "deltau, deltav 0.0003922075059845169 0.020730776632280342\n",
            "29 / 30\n",
            "deltau, deltav 0.0003863878559951922 0.019795379072418715\n",
            "30 / 30\n",
            "deltau, deltav 0.0003805867939765065 0.018932970169738137\n",
            "1 / 30\n",
            "deltau, deltav 7.8102496759078655 35.80502757994368\n",
            "2 / 30\n",
            "deltau, deltav 0.006197977689404177 1.5237990351383048\n",
            "3 / 30\n",
            "deltau, deltav 0.0002356995902186346 0.2986909356469558\n",
            "4 / 30\n",
            "deltau, deltav 0.00015969749671642102 0.08431702863503797\n",
            "5 / 30\n",
            "deltau, deltav 0.0001509196208918542 0.06279005823940838\n",
            "6 / 30\n",
            "deltau, deltav 0.00013867049484391777 0.04715078364535873\n",
            "7 / 30\n",
            "deltau, deltav 0.00012983684920198833 0.03759709527544172\n",
            "8 / 30\n",
            "deltau, deltav 0.00012407094426465472 0.03336270751170737\n",
            "9 / 30\n",
            "deltau, deltav 0.00011948102778596418 0.030168447989002756\n",
            "10 / 30\n",
            "deltau, deltav 0.0001156206863352397 0.027610631746564578\n",
            "11 / 30\n",
            "deltau, deltav 0.00011182220773439937 0.025488011967615066\n",
            "12 / 30\n",
            "deltau, deltav 0.00011484741870032209 0.03575712801181245\n",
            "13 / 30\n",
            "deltau, deltav 0.00010815582011615947 0.022705396789262366\n",
            "14 / 30\n",
            "deltau, deltav 0.00010403214311812679 0.021494290635341376\n",
            "15 / 30\n",
            "deltau, deltav 0.00010095772789772456 0.021109550165595473\n",
            "16 / 30\n",
            "deltau, deltav 9.973575064892277e-05 0.019068121931356326\n",
            "17 / 30\n",
            "deltau, deltav 9.855466908308107e-05 0.018234688570997505\n",
            "18 / 30\n",
            "deltau, deltav 9.707199890593489e-05 0.01757228812780915\n",
            "19 / 30\n",
            "deltau, deltav 9.562622480468636e-05 0.01675800110629389\n",
            "20 / 30\n",
            "deltau, deltav 9.426985662263711e-05 0.01602517511598536\n",
            "21 / 30\n",
            "deltau, deltav 9.297227726342515e-05 0.015355447224216745\n",
            "22 / 30\n"
          ],
          "name": "stdout"
        },
        {
          "output_type": "stream",
          "text": [
            "/usr/local/lib/python3.7/dist-packages/sklearn/svm/_base.py:947: ConvergenceWarning:\n",
            "\n",
            "Liblinear failed to converge, increase the number of iterations.\n",
            "\n"
          ],
          "name": "stderr"
        },
        {
          "output_type": "stream",
          "text": [
            "deltau, deltav 9.166033287060228e-05 0.014759010171924025\n",
            "23 / 30\n",
            "deltau, deltav 9.018124638026279e-05 0.014313472799138834\n",
            "24 / 30\n",
            "deltau, deltav 8.881593423971364e-05 0.013753174239449202\n",
            "25 / 30\n",
            "deltau, deltav 8.760129843557693e-05 0.013209013240414322\n",
            "26 / 30\n",
            "deltau, deltav 8.638777053542224e-05 0.012751886395842514\n",
            "27 / 30\n",
            "deltau, deltav 8.49167107798556e-05 0.01200326123727939\n",
            "28 / 30\n",
            "deltau, deltav 8.193207796723595e-05 0.011489226240139707\n",
            "29 / 30\n"
          ],
          "name": "stdout"
        },
        {
          "output_type": "stream",
          "text": [
            "/usr/local/lib/python3.7/dist-packages/sklearn/svm/_base.py:947: ConvergenceWarning:\n",
            "\n",
            "Liblinear failed to converge, increase the number of iterations.\n",
            "\n"
          ],
          "name": "stderr"
        },
        {
          "output_type": "stream",
          "text": [
            "deltau, deltav 0.00013551409094769018 0.015212274265641722\n",
            "30 / 30\n",
            "deltau, deltav 8.02184407312183e-05 0.06356311703618289\n",
            "1 / 30\n",
            "deltau, deltav 7.810249675911972 35.805027579927604\n",
            "2 / 30\n"
          ],
          "name": "stdout"
        },
        {
          "output_type": "stream",
          "text": [
            "/usr/local/lib/python3.7/dist-packages/sklearn/svm/_base.py:947: ConvergenceWarning:\n",
            "\n",
            "Liblinear failed to converge, increase the number of iterations.\n",
            "\n"
          ],
          "name": "stderr"
        },
        {
          "output_type": "stream",
          "text": [
            "deltau, deltav 0.05164465043701375 0.9515455395742373\n",
            "3 / 30\n",
            "deltau, deltav 0.01164569125654215 2.295879836166061\n",
            "4 / 30\n",
            "deltau, deltav 0.006121520798999343 0.6970876157912176\n",
            "5 / 30\n",
            "deltau, deltav 0.007033317803552178 0.46497078709239587\n",
            "6 / 30\n",
            "deltau, deltav 0.0030423595279793643 0.30308429368222717\n",
            "7 / 30\n"
          ],
          "name": "stdout"
        },
        {
          "output_type": "stream",
          "text": [
            "/usr/local/lib/python3.7/dist-packages/sklearn/svm/_base.py:947: ConvergenceWarning:\n",
            "\n",
            "Liblinear failed to converge, increase the number of iterations.\n",
            "\n"
          ],
          "name": "stderr"
        },
        {
          "output_type": "stream",
          "text": [
            "deltau, deltav 0.00103939356834718 0.1219938304508413\n",
            "8 / 30\n"
          ],
          "name": "stdout"
        },
        {
          "output_type": "stream",
          "text": [
            "/usr/local/lib/python3.7/dist-packages/sklearn/svm/_base.py:947: ConvergenceWarning:\n",
            "\n",
            "Liblinear failed to converge, increase the number of iterations.\n",
            "\n"
          ],
          "name": "stderr"
        },
        {
          "output_type": "stream",
          "text": [
            "deltau, deltav 0.0010631177967444162 0.044821045115564964\n",
            "9 / 30\n"
          ],
          "name": "stdout"
        },
        {
          "output_type": "stream",
          "text": [
            "/usr/local/lib/python3.7/dist-packages/sklearn/svm/_base.py:947: ConvergenceWarning:\n",
            "\n",
            "Liblinear failed to converge, increase the number of iterations.\n",
            "\n"
          ],
          "name": "stderr"
        },
        {
          "output_type": "stream",
          "text": [
            "deltau, deltav 0.0008521288360097478 0.04315938194387184\n",
            "10 / 30\n"
          ],
          "name": "stdout"
        },
        {
          "output_type": "stream",
          "text": [
            "/usr/local/lib/python3.7/dist-packages/sklearn/svm/_base.py:947: ConvergenceWarning:\n",
            "\n",
            "Liblinear failed to converge, increase the number of iterations.\n",
            "\n"
          ],
          "name": "stderr"
        },
        {
          "output_type": "stream",
          "text": [
            "deltau, deltav 0.0008259726529250858 0.035426403882336775\n",
            "11 / 30\n"
          ],
          "name": "stdout"
        },
        {
          "output_type": "stream",
          "text": [
            "/usr/local/lib/python3.7/dist-packages/sklearn/svm/_base.py:947: ConvergenceWarning:\n",
            "\n",
            "Liblinear failed to converge, increase the number of iterations.\n",
            "\n"
          ],
          "name": "stderr"
        },
        {
          "output_type": "stream",
          "text": [
            "deltau, deltav 0.0008433687360821246 0.03333984829073887\n",
            "12 / 30\n"
          ],
          "name": "stdout"
        },
        {
          "output_type": "stream",
          "text": [
            "/usr/local/lib/python3.7/dist-packages/sklearn/svm/_base.py:947: ConvergenceWarning:\n",
            "\n",
            "Liblinear failed to converge, increase the number of iterations.\n",
            "\n"
          ],
          "name": "stderr"
        },
        {
          "output_type": "stream",
          "text": [
            "deltau, deltav 0.0007588207782640181 0.030192743350471004\n",
            "13 / 30\n"
          ],
          "name": "stdout"
        },
        {
          "output_type": "stream",
          "text": [
            "/usr/local/lib/python3.7/dist-packages/sklearn/svm/_base.py:947: ConvergenceWarning:\n",
            "\n",
            "Liblinear failed to converge, increase the number of iterations.\n",
            "\n"
          ],
          "name": "stderr"
        },
        {
          "output_type": "stream",
          "text": [
            "deltau, deltav 0.0007655518113418641 0.026962825211504414\n",
            "14 / 30\n"
          ],
          "name": "stdout"
        },
        {
          "output_type": "stream",
          "text": [
            "/usr/local/lib/python3.7/dist-packages/sklearn/svm/_base.py:947: ConvergenceWarning:\n",
            "\n",
            "Liblinear failed to converge, increase the number of iterations.\n",
            "\n"
          ],
          "name": "stderr"
        },
        {
          "output_type": "stream",
          "text": [
            "deltau, deltav 0.0006649133519060048 0.027806812899815247\n",
            "15 / 30\n"
          ],
          "name": "stdout"
        },
        {
          "output_type": "stream",
          "text": [
            "/usr/local/lib/python3.7/dist-packages/sklearn/svm/_base.py:947: ConvergenceWarning:\n",
            "\n",
            "Liblinear failed to converge, increase the number of iterations.\n",
            "\n"
          ],
          "name": "stderr"
        },
        {
          "output_type": "stream",
          "text": [
            "deltau, deltav 0.0006128407156428433 0.023087716431016352\n",
            "16 / 30\n"
          ],
          "name": "stdout"
        },
        {
          "output_type": "stream",
          "text": [
            "/usr/local/lib/python3.7/dist-packages/sklearn/svm/_base.py:947: ConvergenceWarning:\n",
            "\n",
            "Liblinear failed to converge, increase the number of iterations.\n",
            "\n"
          ],
          "name": "stderr"
        },
        {
          "output_type": "stream",
          "text": [
            "deltau, deltav 0.000656876434794382 0.02111082457140711\n",
            "17 / 30\n"
          ],
          "name": "stdout"
        },
        {
          "output_type": "stream",
          "text": [
            "/usr/local/lib/python3.7/dist-packages/sklearn/svm/_base.py:947: ConvergenceWarning:\n",
            "\n",
            "Liblinear failed to converge, increase the number of iterations.\n",
            "\n"
          ],
          "name": "stderr"
        },
        {
          "output_type": "stream",
          "text": [
            "deltau, deltav 0.000681158168246596 0.0171558528049377\n",
            "18 / 30\n"
          ],
          "name": "stdout"
        },
        {
          "output_type": "stream",
          "text": [
            "/usr/local/lib/python3.7/dist-packages/sklearn/svm/_base.py:947: ConvergenceWarning:\n",
            "\n",
            "Liblinear failed to converge, increase the number of iterations.\n",
            "\n"
          ],
          "name": "stderr"
        },
        {
          "output_type": "stream",
          "text": [
            "deltau, deltav 0.0006934009646849811 0.019491787941133685\n",
            "19 / 30\n"
          ],
          "name": "stdout"
        },
        {
          "output_type": "stream",
          "text": [
            "/usr/local/lib/python3.7/dist-packages/sklearn/svm/_base.py:947: ConvergenceWarning:\n",
            "\n",
            "Liblinear failed to converge, increase the number of iterations.\n",
            "\n"
          ],
          "name": "stderr"
        },
        {
          "output_type": "stream",
          "text": [
            "deltau, deltav 0.000670468268329433 0.01983043744545837\n",
            "20 / 30\n"
          ],
          "name": "stdout"
        },
        {
          "output_type": "stream",
          "text": [
            "/usr/local/lib/python3.7/dist-packages/sklearn/svm/_base.py:947: ConvergenceWarning:\n",
            "\n",
            "Liblinear failed to converge, increase the number of iterations.\n",
            "\n"
          ],
          "name": "stderr"
        },
        {
          "output_type": "stream",
          "text": [
            "deltau, deltav 0.0007112938370764156 0.016772257899533703\n",
            "21 / 30\n"
          ],
          "name": "stdout"
        },
        {
          "output_type": "stream",
          "text": [
            "/usr/local/lib/python3.7/dist-packages/sklearn/svm/_base.py:947: ConvergenceWarning:\n",
            "\n",
            "Liblinear failed to converge, increase the number of iterations.\n",
            "\n"
          ],
          "name": "stderr"
        },
        {
          "output_type": "stream",
          "text": [
            "deltau, deltav 0.0006113581010511994 0.016786753061840184\n",
            "22 / 30\n"
          ],
          "name": "stdout"
        },
        {
          "output_type": "stream",
          "text": [
            "/usr/local/lib/python3.7/dist-packages/sklearn/svm/_base.py:947: ConvergenceWarning:\n",
            "\n",
            "Liblinear failed to converge, increase the number of iterations.\n",
            "\n"
          ],
          "name": "stderr"
        },
        {
          "output_type": "stream",
          "text": [
            "deltau, deltav 0.0005938588771300904 0.01629255560239988\n",
            "23 / 30\n"
          ],
          "name": "stdout"
        },
        {
          "output_type": "stream",
          "text": [
            "/usr/local/lib/python3.7/dist-packages/sklearn/svm/_base.py:947: ConvergenceWarning:\n",
            "\n",
            "Liblinear failed to converge, increase the number of iterations.\n",
            "\n"
          ],
          "name": "stderr"
        },
        {
          "output_type": "stream",
          "text": [
            "deltau, deltav 0.0006749055576806999 0.016247228865794158\n",
            "24 / 30\n"
          ],
          "name": "stdout"
        },
        {
          "output_type": "stream",
          "text": [
            "/usr/local/lib/python3.7/dist-packages/sklearn/svm/_base.py:947: ConvergenceWarning:\n",
            "\n",
            "Liblinear failed to converge, increase the number of iterations.\n",
            "\n"
          ],
          "name": "stderr"
        },
        {
          "output_type": "stream",
          "text": [
            "deltau, deltav 0.0005834276984533626 0.014170067186582832\n",
            "25 / 30\n"
          ],
          "name": "stdout"
        },
        {
          "output_type": "stream",
          "text": [
            "/usr/local/lib/python3.7/dist-packages/sklearn/svm/_base.py:947: ConvergenceWarning:\n",
            "\n",
            "Liblinear failed to converge, increase the number of iterations.\n",
            "\n"
          ],
          "name": "stderr"
        },
        {
          "output_type": "stream",
          "text": [
            "deltau, deltav 0.0005792012302847203 0.013100255514588698\n",
            "26 / 30\n"
          ],
          "name": "stdout"
        },
        {
          "output_type": "stream",
          "text": [
            "/usr/local/lib/python3.7/dist-packages/sklearn/svm/_base.py:947: ConvergenceWarning:\n",
            "\n",
            "Liblinear failed to converge, increase the number of iterations.\n",
            "\n"
          ],
          "name": "stderr"
        },
        {
          "output_type": "stream",
          "text": [
            "deltau, deltav 0.0005585383785959314 0.015047676945048863\n",
            "27 / 30\n"
          ],
          "name": "stdout"
        },
        {
          "output_type": "stream",
          "text": [
            "/usr/local/lib/python3.7/dist-packages/sklearn/svm/_base.py:947: ConvergenceWarning:\n",
            "\n",
            "Liblinear failed to converge, increase the number of iterations.\n",
            "\n"
          ],
          "name": "stderr"
        },
        {
          "output_type": "stream",
          "text": [
            "deltau, deltav 0.0007109173873113662 0.014728223749545567\n",
            "28 / 30\n"
          ],
          "name": "stdout"
        },
        {
          "output_type": "stream",
          "text": [
            "/usr/local/lib/python3.7/dist-packages/sklearn/svm/_base.py:947: ConvergenceWarning:\n",
            "\n",
            "Liblinear failed to converge, increase the number of iterations.\n",
            "\n"
          ],
          "name": "stderr"
        },
        {
          "output_type": "stream",
          "text": [
            "deltau, deltav 0.0008065985662054233 0.016459004060291705\n",
            "29 / 30\n"
          ],
          "name": "stdout"
        },
        {
          "output_type": "stream",
          "text": [
            "/usr/local/lib/python3.7/dist-packages/sklearn/svm/_base.py:947: ConvergenceWarning:\n",
            "\n",
            "Liblinear failed to converge, increase the number of iterations.\n",
            "\n"
          ],
          "name": "stderr"
        },
        {
          "output_type": "stream",
          "text": [
            "deltau, deltav 0.0005049694130328108 0.01490443216379106\n",
            "30 / 30\n"
          ],
          "name": "stdout"
        },
        {
          "output_type": "stream",
          "text": [
            "/usr/local/lib/python3.7/dist-packages/sklearn/svm/_base.py:947: ConvergenceWarning:\n",
            "\n",
            "Liblinear failed to converge, increase the number of iterations.\n",
            "\n"
          ],
          "name": "stderr"
        },
        {
          "output_type": "stream",
          "text": [
            "deltau, deltav 0.0005323505619596789 0.012309131877671027\n",
            "1 / 30\n",
            "deltau, deltav 7.810249675906787 35.80502757993761\n",
            "2 / 30\n"
          ],
          "name": "stdout"
        },
        {
          "output_type": "stream",
          "text": [
            "/usr/local/lib/python3.7/dist-packages/sklearn/svm/_base.py:947: ConvergenceWarning:\n",
            "\n",
            "Liblinear failed to converge, increase the number of iterations.\n",
            "\n"
          ],
          "name": "stderr"
        },
        {
          "output_type": "stream",
          "text": [
            "deltau, deltav 0.07964109067224638 0.7655341825333885\n",
            "3 / 30\n"
          ],
          "name": "stdout"
        },
        {
          "output_type": "stream",
          "text": [
            "/usr/local/lib/python3.7/dist-packages/sklearn/svm/_base.py:947: ConvergenceWarning:\n",
            "\n",
            "Liblinear failed to converge, increase the number of iterations.\n",
            "\n"
          ],
          "name": "stderr"
        },
        {
          "output_type": "stream",
          "text": [
            "deltau, deltav 0.011354723741791303 1.2172549175469531\n",
            "4 / 30\n"
          ],
          "name": "stdout"
        },
        {
          "output_type": "stream",
          "text": [
            "/usr/local/lib/python3.7/dist-packages/sklearn/svm/_base.py:947: ConvergenceWarning:\n",
            "\n",
            "Liblinear failed to converge, increase the number of iterations.\n",
            "\n"
          ],
          "name": "stderr"
        },
        {
          "output_type": "stream",
          "text": [
            "deltau, deltav 0.004419855225468566 0.2825404605842779\n",
            "5 / 30\n"
          ],
          "name": "stdout"
        },
        {
          "output_type": "stream",
          "text": [
            "/usr/local/lib/python3.7/dist-packages/sklearn/svm/_base.py:947: ConvergenceWarning:\n",
            "\n",
            "Liblinear failed to converge, increase the number of iterations.\n",
            "\n"
          ],
          "name": "stderr"
        },
        {
          "output_type": "stream",
          "text": [
            "deltau, deltav 0.003623410711667895 0.1890724901348018\n",
            "6 / 30\n"
          ],
          "name": "stdout"
        },
        {
          "output_type": "stream",
          "text": [
            "/usr/local/lib/python3.7/dist-packages/sklearn/svm/_base.py:947: ConvergenceWarning:\n",
            "\n",
            "Liblinear failed to converge, increase the number of iterations.\n",
            "\n"
          ],
          "name": "stderr"
        },
        {
          "output_type": "stream",
          "text": [
            "deltau, deltav 0.0019917032134520837 0.11063690895236537\n",
            "7 / 30\n"
          ],
          "name": "stdout"
        },
        {
          "output_type": "stream",
          "text": [
            "/usr/local/lib/python3.7/dist-packages/sklearn/svm/_base.py:947: ConvergenceWarning:\n",
            "\n",
            "Liblinear failed to converge, increase the number of iterations.\n",
            "\n"
          ],
          "name": "stderr"
        },
        {
          "output_type": "stream",
          "text": [
            "deltau, deltav 0.002949517066444393 0.12316552633995688\n",
            "8 / 30\n"
          ],
          "name": "stdout"
        },
        {
          "output_type": "stream",
          "text": [
            "/usr/local/lib/python3.7/dist-packages/sklearn/svm/_base.py:947: ConvergenceWarning:\n",
            "\n",
            "Liblinear failed to converge, increase the number of iterations.\n",
            "\n"
          ],
          "name": "stderr"
        },
        {
          "output_type": "stream",
          "text": [
            "deltau, deltav 0.004204252506001017 0.18242723942180666\n",
            "9 / 30\n"
          ],
          "name": "stdout"
        },
        {
          "output_type": "stream",
          "text": [
            "/usr/local/lib/python3.7/dist-packages/sklearn/svm/_base.py:947: ConvergenceWarning:\n",
            "\n",
            "Liblinear failed to converge, increase the number of iterations.\n",
            "\n"
          ],
          "name": "stderr"
        },
        {
          "output_type": "stream",
          "text": [
            "deltau, deltav 0.0008840461016355856 0.15364338193791224\n",
            "10 / 30\n"
          ],
          "name": "stdout"
        },
        {
          "output_type": "stream",
          "text": [
            "/usr/local/lib/python3.7/dist-packages/sklearn/svm/_base.py:947: ConvergenceWarning:\n",
            "\n",
            "Liblinear failed to converge, increase the number of iterations.\n",
            "\n"
          ],
          "name": "stderr"
        },
        {
          "output_type": "stream",
          "text": [
            "deltau, deltav 0.0005727573114134561 0.028657440394915332\n",
            "11 / 30\n"
          ],
          "name": "stdout"
        },
        {
          "output_type": "stream",
          "text": [
            "/usr/local/lib/python3.7/dist-packages/sklearn/svm/_base.py:947: ConvergenceWarning:\n",
            "\n",
            "Liblinear failed to converge, increase the number of iterations.\n",
            "\n"
          ],
          "name": "stderr"
        },
        {
          "output_type": "stream",
          "text": [
            "deltau, deltav 0.000687083341372669 0.018321537482053705\n",
            "12 / 30\n"
          ],
          "name": "stdout"
        },
        {
          "output_type": "stream",
          "text": [
            "/usr/local/lib/python3.7/dist-packages/sklearn/svm/_base.py:947: ConvergenceWarning:\n",
            "\n",
            "Liblinear failed to converge, increase the number of iterations.\n",
            "\n"
          ],
          "name": "stderr"
        },
        {
          "output_type": "stream",
          "text": [
            "deltau, deltav 0.0008039477626313262 0.017946797287963535\n",
            "13 / 30\n"
          ],
          "name": "stdout"
        },
        {
          "output_type": "stream",
          "text": [
            "/usr/local/lib/python3.7/dist-packages/sklearn/svm/_base.py:947: ConvergenceWarning:\n",
            "\n",
            "Liblinear failed to converge, increase the number of iterations.\n",
            "\n"
          ],
          "name": "stderr"
        },
        {
          "output_type": "stream",
          "text": [
            "deltau, deltav 0.0021393332334012903 0.020329017515753355\n",
            "14 / 30\n"
          ],
          "name": "stdout"
        },
        {
          "output_type": "stream",
          "text": [
            "/usr/local/lib/python3.7/dist-packages/sklearn/svm/_base.py:947: ConvergenceWarning:\n",
            "\n",
            "Liblinear failed to converge, increase the number of iterations.\n",
            "\n"
          ],
          "name": "stderr"
        },
        {
          "output_type": "stream",
          "text": [
            "deltau, deltav 0.0009532305965259161 0.06906552303623827\n",
            "15 / 30\n"
          ],
          "name": "stdout"
        },
        {
          "output_type": "stream",
          "text": [
            "/usr/local/lib/python3.7/dist-packages/sklearn/svm/_base.py:947: ConvergenceWarning:\n",
            "\n",
            "Liblinear failed to converge, increase the number of iterations.\n",
            "\n"
          ],
          "name": "stderr"
        },
        {
          "output_type": "stream",
          "text": [
            "deltau, deltav 0.0022089108908341804 0.03283627938567924\n",
            "16 / 30\n"
          ],
          "name": "stdout"
        },
        {
          "output_type": "stream",
          "text": [
            "/usr/local/lib/python3.7/dist-packages/sklearn/svm/_base.py:947: ConvergenceWarning:\n",
            "\n",
            "Liblinear failed to converge, increase the number of iterations.\n",
            "\n"
          ],
          "name": "stderr"
        },
        {
          "output_type": "stream",
          "text": [
            "deltau, deltav 0.004988995391265045 0.05280376016748013\n",
            "17 / 30\n"
          ],
          "name": "stdout"
        },
        {
          "output_type": "stream",
          "text": [
            "/usr/local/lib/python3.7/dist-packages/sklearn/svm/_base.py:947: ConvergenceWarning:\n",
            "\n",
            "Liblinear failed to converge, increase the number of iterations.\n",
            "\n"
          ],
          "name": "stderr"
        },
        {
          "output_type": "stream",
          "text": [
            "deltau, deltav 0.0023458451156961203 0.1567591073365435\n",
            "18 / 30\n"
          ],
          "name": "stdout"
        },
        {
          "output_type": "stream",
          "text": [
            "/usr/local/lib/python3.7/dist-packages/sklearn/svm/_base.py:947: ConvergenceWarning:\n",
            "\n",
            "Liblinear failed to converge, increase the number of iterations.\n",
            "\n"
          ],
          "name": "stderr"
        },
        {
          "output_type": "stream",
          "text": [
            "deltau, deltav 0.003748932478583492 0.09784671996676962\n",
            "19 / 30\n"
          ],
          "name": "stdout"
        },
        {
          "output_type": "stream",
          "text": [
            "/usr/local/lib/python3.7/dist-packages/sklearn/svm/_base.py:947: ConvergenceWarning:\n",
            "\n",
            "Liblinear failed to converge, increase the number of iterations.\n",
            "\n"
          ],
          "name": "stderr"
        },
        {
          "output_type": "stream",
          "text": [
            "deltau, deltav 0.004792896293955856 0.16698853595402874\n",
            "20 / 30\n"
          ],
          "name": "stdout"
        },
        {
          "output_type": "stream",
          "text": [
            "/usr/local/lib/python3.7/dist-packages/sklearn/svm/_base.py:947: ConvergenceWarning:\n",
            "\n",
            "Liblinear failed to converge, increase the number of iterations.\n",
            "\n"
          ],
          "name": "stderr"
        },
        {
          "output_type": "stream",
          "text": [
            "deltau, deltav 0.0017592235619028464 0.16967248572426388\n",
            "21 / 30\n"
          ],
          "name": "stdout"
        },
        {
          "output_type": "stream",
          "text": [
            "/usr/local/lib/python3.7/dist-packages/sklearn/svm/_base.py:947: ConvergenceWarning:\n",
            "\n",
            "Liblinear failed to converge, increase the number of iterations.\n",
            "\n"
          ],
          "name": "stderr"
        },
        {
          "output_type": "stream",
          "text": [
            "deltau, deltav 0.007229381982214839 0.054262146988443546\n",
            "22 / 30\n"
          ],
          "name": "stdout"
        },
        {
          "output_type": "stream",
          "text": [
            "/usr/local/lib/python3.7/dist-packages/sklearn/svm/_base.py:947: ConvergenceWarning:\n",
            "\n",
            "Liblinear failed to converge, increase the number of iterations.\n",
            "\n"
          ],
          "name": "stderr"
        },
        {
          "output_type": "stream",
          "text": [
            "deltau, deltav 0.005623113851355812 0.29303697253386735\n",
            "23 / 30\n"
          ],
          "name": "stdout"
        },
        {
          "output_type": "stream",
          "text": [
            "/usr/local/lib/python3.7/dist-packages/sklearn/svm/_base.py:947: ConvergenceWarning:\n",
            "\n",
            "Liblinear failed to converge, increase the number of iterations.\n",
            "\n"
          ],
          "name": "stderr"
        },
        {
          "output_type": "stream",
          "text": [
            "deltau, deltav 0.00324418052553289 0.15503369208005982\n",
            "24 / 30\n"
          ],
          "name": "stdout"
        },
        {
          "output_type": "stream",
          "text": [
            "/usr/local/lib/python3.7/dist-packages/sklearn/svm/_base.py:947: ConvergenceWarning:\n",
            "\n",
            "Liblinear failed to converge, increase the number of iterations.\n",
            "\n"
          ],
          "name": "stderr"
        },
        {
          "output_type": "stream",
          "text": [
            "deltau, deltav 0.002525655177817781 0.09139226560546912\n",
            "25 / 30\n"
          ],
          "name": "stdout"
        },
        {
          "output_type": "stream",
          "text": [
            "/usr/local/lib/python3.7/dist-packages/sklearn/svm/_base.py:947: ConvergenceWarning:\n",
            "\n",
            "Liblinear failed to converge, increase the number of iterations.\n",
            "\n"
          ],
          "name": "stderr"
        },
        {
          "output_type": "stream",
          "text": [
            "deltau, deltav 0.003268646418717112 0.0981317092494904\n",
            "26 / 30\n"
          ],
          "name": "stdout"
        },
        {
          "output_type": "stream",
          "text": [
            "/usr/local/lib/python3.7/dist-packages/sklearn/svm/_base.py:947: ConvergenceWarning:\n",
            "\n",
            "Liblinear failed to converge, increase the number of iterations.\n",
            "\n"
          ],
          "name": "stderr"
        },
        {
          "output_type": "stream",
          "text": [
            "deltau, deltav 0.0013672798921783816 0.14988797823797406\n",
            "27 / 30\n"
          ],
          "name": "stdout"
        },
        {
          "output_type": "stream",
          "text": [
            "/usr/local/lib/python3.7/dist-packages/sklearn/svm/_base.py:947: ConvergenceWarning:\n",
            "\n",
            "Liblinear failed to converge, increase the number of iterations.\n",
            "\n"
          ],
          "name": "stderr"
        },
        {
          "output_type": "stream",
          "text": [
            "deltau, deltav 0.0014957487776824992 0.04770301542708601\n",
            "28 / 30\n"
          ],
          "name": "stdout"
        },
        {
          "output_type": "stream",
          "text": [
            "/usr/local/lib/python3.7/dist-packages/sklearn/svm/_base.py:947: ConvergenceWarning:\n",
            "\n",
            "Liblinear failed to converge, increase the number of iterations.\n",
            "\n"
          ],
          "name": "stderr"
        },
        {
          "output_type": "stream",
          "text": [
            "deltau, deltav 0.00036862112768581436 0.06342344598839265\n",
            "29 / 30\n"
          ],
          "name": "stdout"
        },
        {
          "output_type": "stream",
          "text": [
            "/usr/local/lib/python3.7/dist-packages/sklearn/svm/_base.py:947: ConvergenceWarning:\n",
            "\n",
            "Liblinear failed to converge, increase the number of iterations.\n",
            "\n"
          ],
          "name": "stderr"
        },
        {
          "output_type": "stream",
          "text": [
            "deltau, deltav 0.000454450897090707 0.010206731880016548\n",
            "30 / 30\n"
          ],
          "name": "stdout"
        },
        {
          "output_type": "stream",
          "text": [
            "/usr/local/lib/python3.7/dist-packages/sklearn/svm/_base.py:947: ConvergenceWarning:\n",
            "\n",
            "Liblinear failed to converge, increase the number of iterations.\n",
            "\n"
          ],
          "name": "stderr"
        },
        {
          "output_type": "stream",
          "text": [
            "deltau, deltav 0.00042501033996179686 0.010496645482414359\n",
            "1 / 30\n",
            "deltau, deltav 7.810249675907226 35.80502757994161\n",
            "2 / 30\n"
          ],
          "name": "stdout"
        },
        {
          "output_type": "stream",
          "text": [
            "/usr/local/lib/python3.7/dist-packages/sklearn/svm/_base.py:947: ConvergenceWarning:\n",
            "\n",
            "Liblinear failed to converge, increase the number of iterations.\n",
            "\n"
          ],
          "name": "stderr"
        },
        {
          "output_type": "stream",
          "text": [
            "deltau, deltav 0.0066584071274806405 1.385341914699478\n",
            "3 / 30\n",
            "deltau, deltav 0.0002954618770546101 0.3053167948015243\n",
            "4 / 30\n",
            "deltau, deltav 0.00013720219609426393 0.05569325284094959\n",
            "5 / 30\n"
          ],
          "name": "stdout"
        },
        {
          "output_type": "stream",
          "text": [
            "/usr/local/lib/python3.7/dist-packages/sklearn/svm/_base.py:947: ConvergenceWarning:\n",
            "\n",
            "Liblinear failed to converge, increase the number of iterations.\n",
            "\n"
          ],
          "name": "stderr"
        },
        {
          "output_type": "stream",
          "text": [
            "deltau, deltav 0.00013716445815319987 0.06167835409375795\n",
            "6 / 30\n"
          ],
          "name": "stdout"
        },
        {
          "output_type": "stream",
          "text": [
            "/usr/local/lib/python3.7/dist-packages/sklearn/svm/_base.py:947: ConvergenceWarning:\n",
            "\n",
            "Liblinear failed to converge, increase the number of iterations.\n",
            "\n"
          ],
          "name": "stderr"
        },
        {
          "output_type": "stream",
          "text": [
            "deltau, deltav 0.0001268480016174964 0.034862057322541336\n",
            "7 / 30\n"
          ],
          "name": "stdout"
        },
        {
          "output_type": "stream",
          "text": [
            "/usr/local/lib/python3.7/dist-packages/sklearn/svm/_base.py:947: ConvergenceWarning:\n",
            "\n",
            "Liblinear failed to converge, increase the number of iterations.\n",
            "\n"
          ],
          "name": "stderr"
        },
        {
          "output_type": "stream",
          "text": [
            "deltau, deltav 0.00011600054023607689 0.030452018142003778\n",
            "8 / 30\n"
          ],
          "name": "stdout"
        },
        {
          "output_type": "stream",
          "text": [
            "/usr/local/lib/python3.7/dist-packages/sklearn/svm/_base.py:947: ConvergenceWarning:\n",
            "\n",
            "Liblinear failed to converge, increase the number of iterations.\n",
            "\n"
          ],
          "name": "stderr"
        },
        {
          "output_type": "stream",
          "text": [
            "deltau, deltav 0.00011221386731277885 0.028025565949125225\n",
            "9 / 30\n",
            "deltau, deltav 0.00010355481010107843 0.030329775040641188\n",
            "10 / 30\n",
            "deltau, deltav 0.00010076713828361226 0.02350413553569354\n",
            "11 / 30\n",
            "deltau, deltav 9.897047674051719e-05 0.020527812638918428\n",
            "12 / 30\n",
            "deltau, deltav 9.701748704400492e-05 0.019227300320049663\n",
            "13 / 30\n",
            "deltau, deltav 9.514610182266963e-05 0.018101062065393032\n",
            "14 / 30\n",
            "deltau, deltav 9.336779292685187e-05 0.017097249478247027\n",
            "15 / 30\n",
            "deltau, deltav 9.173995627442547e-05 0.016201836071133048\n",
            "16 / 30\n"
          ],
          "name": "stdout"
        },
        {
          "output_type": "stream",
          "text": [
            "/usr/local/lib/python3.7/dist-packages/sklearn/svm/_base.py:947: ConvergenceWarning:\n",
            "\n",
            "Liblinear failed to converge, increase the number of iterations.\n",
            "\n"
          ],
          "name": "stderr"
        },
        {
          "output_type": "stream",
          "text": [
            "deltau, deltav 9.012659475511403e-05 0.015383111676125953\n",
            "17 / 30\n",
            "deltau, deltav 8.820200094836355e-05 0.014642701395320245\n",
            "18 / 30\n",
            "deltau, deltav 8.748398726068668e-05 0.0165429615611442\n",
            "19 / 30\n",
            "deltau, deltav 8.658469566744354e-05 0.018640578040917167\n",
            "20 / 30\n",
            "deltau, deltav 8.565064081357134e-05 0.012929536857431763\n",
            "21 / 30\n",
            "deltau, deltav 8.441456424511207e-05 0.012321072416821266\n",
            "22 / 30\n",
            "deltau, deltav 8.324083584267698e-05 0.011800246262085305\n",
            "23 / 30\n",
            "deltau, deltav 8.215862314092724e-05 0.011341602080383043\n",
            "24 / 30\n",
            "deltau, deltav 8.096810874154503e-05 0.010904703437248909\n",
            "25 / 30\n",
            "deltau, deltav 7.98982618611684e-05 0.01120978926013106\n",
            "26 / 30\n",
            "deltau, deltav 7.879075835358309e-05 0.010434864920286998\n",
            "27 / 30\n",
            "deltau, deltav 7.7840133502734e-05 0.00991164392622503\n",
            "28 / 30\n",
            "deltau, deltav 7.69414841254786e-05 0.009506060210358378\n",
            "29 / 30\n",
            "deltau, deltav 7.604722400265825e-05 0.009158873562796318\n",
            "30 / 30\n",
            "deltau, deltav 7.518843285649513e-05 0.0088469237048861\n",
            "1 / 30\n",
            "deltau, deltav 7.810249675906921 35.80502757993239\n",
            "2 / 30\n"
          ],
          "name": "stdout"
        },
        {
          "output_type": "stream",
          "text": [
            "/usr/local/lib/python3.7/dist-packages/sklearn/svm/_base.py:947: ConvergenceWarning:\n",
            "\n",
            "Liblinear failed to converge, increase the number of iterations.\n",
            "\n"
          ],
          "name": "stderr"
        },
        {
          "output_type": "stream",
          "text": [
            "deltau, deltav 0.0032013765024846395 0.710990374747801\n",
            "3 / 30\n"
          ],
          "name": "stdout"
        },
        {
          "output_type": "stream",
          "text": [
            "/usr/local/lib/python3.7/dist-packages/sklearn/svm/_base.py:947: ConvergenceWarning:\n",
            "\n",
            "Liblinear failed to converge, increase the number of iterations.\n",
            "\n"
          ],
          "name": "stderr"
        },
        {
          "output_type": "stream",
          "text": [
            "deltau, deltav 0.012527701382138049 5.801651513494981\n",
            "4 / 30\n"
          ],
          "name": "stdout"
        },
        {
          "output_type": "stream",
          "text": [
            "/usr/local/lib/python3.7/dist-packages/sklearn/svm/_base.py:947: ConvergenceWarning:\n",
            "\n",
            "Liblinear failed to converge, increase the number of iterations.\n",
            "\n"
          ],
          "name": "stderr"
        },
        {
          "output_type": "stream",
          "text": [
            "deltau, deltav 0.002482930126347575 3.6204889847673694\n",
            "5 / 30\n"
          ],
          "name": "stdout"
        },
        {
          "output_type": "stream",
          "text": [
            "/usr/local/lib/python3.7/dist-packages/sklearn/svm/_base.py:947: ConvergenceWarning:\n",
            "\n",
            "Liblinear failed to converge, increase the number of iterations.\n",
            "\n"
          ],
          "name": "stderr"
        },
        {
          "output_type": "stream",
          "text": [
            "deltau, deltav 0.0019368824229665557 0.6634084366455466\n",
            "6 / 30\n"
          ],
          "name": "stdout"
        },
        {
          "output_type": "stream",
          "text": [
            "/usr/local/lib/python3.7/dist-packages/sklearn/svm/_base.py:947: ConvergenceWarning:\n",
            "\n",
            "Liblinear failed to converge, increase the number of iterations.\n",
            "\n"
          ],
          "name": "stderr"
        },
        {
          "output_type": "stream",
          "text": [
            "deltau, deltav 0.0016925307320865334 0.41054412486822256\n",
            "7 / 30\n"
          ],
          "name": "stdout"
        },
        {
          "output_type": "stream",
          "text": [
            "/usr/local/lib/python3.7/dist-packages/sklearn/svm/_base.py:947: ConvergenceWarning:\n",
            "\n",
            "Liblinear failed to converge, increase the number of iterations.\n",
            "\n"
          ],
          "name": "stderr"
        },
        {
          "output_type": "stream",
          "text": [
            "deltau, deltav 0.0013399521433746725 0.2920954794608736\n",
            "8 / 30\n"
          ],
          "name": "stdout"
        },
        {
          "output_type": "stream",
          "text": [
            "/usr/local/lib/python3.7/dist-packages/sklearn/svm/_base.py:947: ConvergenceWarning:\n",
            "\n",
            "Liblinear failed to converge, increase the number of iterations.\n",
            "\n"
          ],
          "name": "stderr"
        },
        {
          "output_type": "stream",
          "text": [
            "deltau, deltav 0.0012293794507937789 0.19749294870233353\n",
            "9 / 30\n"
          ],
          "name": "stdout"
        },
        {
          "output_type": "stream",
          "text": [
            "/usr/local/lib/python3.7/dist-packages/sklearn/svm/_base.py:947: ConvergenceWarning:\n",
            "\n",
            "Liblinear failed to converge, increase the number of iterations.\n",
            "\n"
          ],
          "name": "stderr"
        },
        {
          "output_type": "stream",
          "text": [
            "deltau, deltav 0.0011015173045816164 0.15358399206668596\n",
            "10 / 30\n"
          ],
          "name": "stdout"
        },
        {
          "output_type": "stream",
          "text": [
            "/usr/local/lib/python3.7/dist-packages/sklearn/svm/_base.py:947: ConvergenceWarning:\n",
            "\n",
            "Liblinear failed to converge, increase the number of iterations.\n",
            "\n"
          ],
          "name": "stderr"
        },
        {
          "output_type": "stream",
          "text": [
            "deltau, deltav 0.001402554954008753 0.12623737531768486\n",
            "11 / 30\n"
          ],
          "name": "stdout"
        },
        {
          "output_type": "stream",
          "text": [
            "/usr/local/lib/python3.7/dist-packages/sklearn/svm/_base.py:947: ConvergenceWarning:\n",
            "\n",
            "Liblinear failed to converge, increase the number of iterations.\n",
            "\n"
          ],
          "name": "stderr"
        },
        {
          "output_type": "stream",
          "text": [
            "deltau, deltav 0.0009988931027545382 0.15781297138933123\n",
            "12 / 30\n"
          ],
          "name": "stdout"
        },
        {
          "output_type": "stream",
          "text": [
            "/usr/local/lib/python3.7/dist-packages/sklearn/svm/_base.py:947: ConvergenceWarning:\n",
            "\n",
            "Liblinear failed to converge, increase the number of iterations.\n",
            "\n"
          ],
          "name": "stderr"
        },
        {
          "output_type": "stream",
          "text": [
            "deltau, deltav 0.0009358012269198434 0.10162014685727726\n",
            "13 / 30\n"
          ],
          "name": "stdout"
        },
        {
          "output_type": "stream",
          "text": [
            "/usr/local/lib/python3.7/dist-packages/sklearn/svm/_base.py:947: ConvergenceWarning:\n",
            "\n",
            "Liblinear failed to converge, increase the number of iterations.\n",
            "\n"
          ],
          "name": "stderr"
        },
        {
          "output_type": "stream",
          "text": [
            "deltau, deltav 0.0008669347996836009 0.09456364081902367\n",
            "14 / 30\n"
          ],
          "name": "stdout"
        },
        {
          "output_type": "stream",
          "text": [
            "/usr/local/lib/python3.7/dist-packages/sklearn/svm/_base.py:947: ConvergenceWarning:\n",
            "\n",
            "Liblinear failed to converge, increase the number of iterations.\n",
            "\n"
          ],
          "name": "stderr"
        },
        {
          "output_type": "stream",
          "text": [
            "deltau, deltav 0.000879372719613738 0.08623094380808694\n",
            "15 / 30\n"
          ],
          "name": "stdout"
        },
        {
          "output_type": "stream",
          "text": [
            "/usr/local/lib/python3.7/dist-packages/sklearn/svm/_base.py:947: ConvergenceWarning:\n",
            "\n",
            "Liblinear failed to converge, increase the number of iterations.\n",
            "\n"
          ],
          "name": "stderr"
        },
        {
          "output_type": "stream",
          "text": [
            "deltau, deltav 0.0009111466002759205 0.08088737708679139\n",
            "16 / 30\n"
          ],
          "name": "stdout"
        },
        {
          "output_type": "stream",
          "text": [
            "/usr/local/lib/python3.7/dist-packages/sklearn/svm/_base.py:947: ConvergenceWarning:\n",
            "\n",
            "Liblinear failed to converge, increase the number of iterations.\n",
            "\n"
          ],
          "name": "stderr"
        },
        {
          "output_type": "stream",
          "text": [
            "deltau, deltav 0.0008417272010687022 0.07854266672849675\n",
            "17 / 30\n"
          ],
          "name": "stdout"
        },
        {
          "output_type": "stream",
          "text": [
            "/usr/local/lib/python3.7/dist-packages/sklearn/svm/_base.py:947: ConvergenceWarning:\n",
            "\n",
            "Liblinear failed to converge, increase the number of iterations.\n",
            "\n"
          ],
          "name": "stderr"
        },
        {
          "output_type": "stream",
          "text": [
            "deltau, deltav 0.0008026317347896025 0.06437891708246357\n",
            "18 / 30\n"
          ],
          "name": "stdout"
        },
        {
          "output_type": "stream",
          "text": [
            "/usr/local/lib/python3.7/dist-packages/sklearn/svm/_base.py:947: ConvergenceWarning:\n",
            "\n",
            "Liblinear failed to converge, increase the number of iterations.\n",
            "\n"
          ],
          "name": "stderr"
        },
        {
          "output_type": "stream",
          "text": [
            "deltau, deltav 0.0007270822922547266 0.06063059577856587\n",
            "19 / 30\n"
          ],
          "name": "stdout"
        },
        {
          "output_type": "stream",
          "text": [
            "/usr/local/lib/python3.7/dist-packages/sklearn/svm/_base.py:947: ConvergenceWarning:\n",
            "\n",
            "Liblinear failed to converge, increase the number of iterations.\n",
            "\n"
          ],
          "name": "stderr"
        },
        {
          "output_type": "stream",
          "text": [
            "deltau, deltav 0.0007143913691264061 0.049457075443788405\n",
            "20 / 30\n"
          ],
          "name": "stdout"
        },
        {
          "output_type": "stream",
          "text": [
            "/usr/local/lib/python3.7/dist-packages/sklearn/svm/_base.py:947: ConvergenceWarning:\n",
            "\n",
            "Liblinear failed to converge, increase the number of iterations.\n",
            "\n"
          ],
          "name": "stderr"
        },
        {
          "output_type": "stream",
          "text": [
            "deltau, deltav 0.0006869448685760056 0.04619134365736636\n",
            "21 / 30\n"
          ],
          "name": "stdout"
        },
        {
          "output_type": "stream",
          "text": [
            "/usr/local/lib/python3.7/dist-packages/sklearn/svm/_base.py:947: ConvergenceWarning:\n",
            "\n",
            "Liblinear failed to converge, increase the number of iterations.\n",
            "\n"
          ],
          "name": "stderr"
        },
        {
          "output_type": "stream",
          "text": [
            "deltau, deltav 0.00067054487875409 0.046772418036822645\n",
            "22 / 30\n"
          ],
          "name": "stdout"
        },
        {
          "output_type": "stream",
          "text": [
            "/usr/local/lib/python3.7/dist-packages/sklearn/svm/_base.py:947: ConvergenceWarning:\n",
            "\n",
            "Liblinear failed to converge, increase the number of iterations.\n",
            "\n"
          ],
          "name": "stderr"
        },
        {
          "output_type": "stream",
          "text": [
            "deltau, deltav 0.0006441484090550252 0.042613931219278534\n",
            "23 / 30\n"
          ],
          "name": "stdout"
        },
        {
          "output_type": "stream",
          "text": [
            "/usr/local/lib/python3.7/dist-packages/sklearn/svm/_base.py:947: ConvergenceWarning:\n",
            "\n",
            "Liblinear failed to converge, increase the number of iterations.\n",
            "\n"
          ],
          "name": "stderr"
        },
        {
          "output_type": "stream",
          "text": [
            "deltau, deltav 0.0007169186325318268 0.03682171221261137\n",
            "24 / 30\n"
          ],
          "name": "stdout"
        },
        {
          "output_type": "stream",
          "text": [
            "/usr/local/lib/python3.7/dist-packages/sklearn/svm/_base.py:947: ConvergenceWarning:\n",
            "\n",
            "Liblinear failed to converge, increase the number of iterations.\n",
            "\n"
          ],
          "name": "stderr"
        },
        {
          "output_type": "stream",
          "text": [
            "deltau, deltav 0.0006302357804392006 0.041687348901821526\n",
            "25 / 30\n"
          ],
          "name": "stdout"
        },
        {
          "output_type": "stream",
          "text": [
            "/usr/local/lib/python3.7/dist-packages/sklearn/svm/_base.py:947: ConvergenceWarning:\n",
            "\n",
            "Liblinear failed to converge, increase the number of iterations.\n",
            "\n"
          ],
          "name": "stderr"
        },
        {
          "output_type": "stream",
          "text": [
            "deltau, deltav 0.0006048656302598243 0.03454123957878391\n",
            "26 / 30\n"
          ],
          "name": "stdout"
        },
        {
          "output_type": "stream",
          "text": [
            "/usr/local/lib/python3.7/dist-packages/sklearn/svm/_base.py:947: ConvergenceWarning:\n",
            "\n",
            "Liblinear failed to converge, increase the number of iterations.\n",
            "\n"
          ],
          "name": "stderr"
        },
        {
          "output_type": "stream",
          "text": [
            "deltau, deltav 0.0005977328252706439 0.03016388820104024\n",
            "27 / 30\n"
          ],
          "name": "stdout"
        },
        {
          "output_type": "stream",
          "text": [
            "/usr/local/lib/python3.7/dist-packages/sklearn/svm/_base.py:947: ConvergenceWarning:\n",
            "\n",
            "Liblinear failed to converge, increase the number of iterations.\n",
            "\n"
          ],
          "name": "stderr"
        },
        {
          "output_type": "stream",
          "text": [
            "deltau, deltav 0.0006181975335163033 0.029173550023524952\n",
            "28 / 30\n"
          ],
          "name": "stdout"
        },
        {
          "output_type": "stream",
          "text": [
            "/usr/local/lib/python3.7/dist-packages/sklearn/svm/_base.py:947: ConvergenceWarning:\n",
            "\n",
            "Liblinear failed to converge, increase the number of iterations.\n",
            "\n"
          ],
          "name": "stderr"
        },
        {
          "output_type": "stream",
          "text": [
            "deltau, deltav 0.0006581777213424712 0.03277392696396071\n",
            "29 / 30\n"
          ],
          "name": "stdout"
        },
        {
          "output_type": "stream",
          "text": [
            "/usr/local/lib/python3.7/dist-packages/sklearn/svm/_base.py:947: ConvergenceWarning:\n",
            "\n",
            "Liblinear failed to converge, increase the number of iterations.\n",
            "\n"
          ],
          "name": "stderr"
        },
        {
          "output_type": "stream",
          "text": [
            "deltau, deltav 0.0005780884042854892 0.03313781079399563\n",
            "30 / 30\n"
          ],
          "name": "stdout"
        },
        {
          "output_type": "stream",
          "text": [
            "/usr/local/lib/python3.7/dist-packages/sklearn/svm/_base.py:947: ConvergenceWarning:\n",
            "\n",
            "Liblinear failed to converge, increase the number of iterations.\n",
            "\n"
          ],
          "name": "stderr"
        },
        {
          "output_type": "stream",
          "text": [
            "deltau, deltav 0.000614732814997199 0.02958328323360618\n",
            "1 / 30\n",
            "deltau, deltav 7.810249675906722 35.80502757993492\n",
            "2 / 30\n"
          ],
          "name": "stdout"
        },
        {
          "output_type": "stream",
          "text": [
            "/usr/local/lib/python3.7/dist-packages/sklearn/svm/_base.py:947: ConvergenceWarning:\n",
            "\n",
            "Liblinear failed to converge, increase the number of iterations.\n",
            "\n"
          ],
          "name": "stderr"
        },
        {
          "output_type": "stream",
          "text": [
            "deltau, deltav 0.12079558648895437 0.5236608400795372\n",
            "3 / 30\n"
          ],
          "name": "stdout"
        },
        {
          "output_type": "stream",
          "text": [
            "/usr/local/lib/python3.7/dist-packages/sklearn/svm/_base.py:947: ConvergenceWarning:\n",
            "\n",
            "Liblinear failed to converge, increase the number of iterations.\n",
            "\n"
          ],
          "name": "stderr"
        },
        {
          "output_type": "stream",
          "text": [
            "deltau, deltav 0.012968078112653282 0.6553363248984699\n",
            "4 / 30\n"
          ],
          "name": "stdout"
        },
        {
          "output_type": "stream",
          "text": [
            "/usr/local/lib/python3.7/dist-packages/sklearn/svm/_base.py:947: ConvergenceWarning:\n",
            "\n",
            "Liblinear failed to converge, increase the number of iterations.\n",
            "\n"
          ],
          "name": "stderr"
        },
        {
          "output_type": "stream",
          "text": [
            "deltau, deltav 0.004163798240693341 0.15082101734566628\n",
            "5 / 30\n"
          ],
          "name": "stdout"
        },
        {
          "output_type": "stream",
          "text": [
            "/usr/local/lib/python3.7/dist-packages/sklearn/svm/_base.py:947: ConvergenceWarning:\n",
            "\n",
            "Liblinear failed to converge, increase the number of iterations.\n",
            "\n"
          ],
          "name": "stderr"
        },
        {
          "output_type": "stream",
          "text": [
            "deltau, deltav 0.0019593951307946807 0.02896110539165358\n",
            "6 / 30\n"
          ],
          "name": "stdout"
        },
        {
          "output_type": "stream",
          "text": [
            "/usr/local/lib/python3.7/dist-packages/sklearn/svm/_base.py:947: ConvergenceWarning:\n",
            "\n",
            "Liblinear failed to converge, increase the number of iterations.\n",
            "\n"
          ],
          "name": "stderr"
        },
        {
          "output_type": "stream",
          "text": [
            "deltau, deltav 0.00195823056369029 0.01872391679046536\n",
            "7 / 30\n"
          ],
          "name": "stdout"
        },
        {
          "output_type": "stream",
          "text": [
            "/usr/local/lib/python3.7/dist-packages/sklearn/svm/_base.py:947: ConvergenceWarning:\n",
            "\n",
            "Liblinear failed to converge, increase the number of iterations.\n",
            "\n"
          ],
          "name": "stderr"
        },
        {
          "output_type": "stream",
          "text": [
            "deltau, deltav 0.005152185534473783 0.017251006309387057\n",
            "8 / 30\n"
          ],
          "name": "stdout"
        },
        {
          "output_type": "stream",
          "text": [
            "/usr/local/lib/python3.7/dist-packages/sklearn/svm/_base.py:947: ConvergenceWarning:\n",
            "\n",
            "Liblinear failed to converge, increase the number of iterations.\n",
            "\n"
          ],
          "name": "stderr"
        },
        {
          "output_type": "stream",
          "text": [
            "deltau, deltav 0.002779315275361926 0.051724342121300365\n",
            "9 / 30\n"
          ],
          "name": "stdout"
        },
        {
          "output_type": "stream",
          "text": [
            "/usr/local/lib/python3.7/dist-packages/sklearn/svm/_base.py:947: ConvergenceWarning:\n",
            "\n",
            "Liblinear failed to converge, increase the number of iterations.\n",
            "\n"
          ],
          "name": "stderr"
        },
        {
          "output_type": "stream",
          "text": [
            "deltau, deltav 0.004724727630573098 0.022082913787156298\n",
            "10 / 30\n"
          ],
          "name": "stdout"
        },
        {
          "output_type": "stream",
          "text": [
            "/usr/local/lib/python3.7/dist-packages/sklearn/svm/_base.py:947: ConvergenceWarning:\n",
            "\n",
            "Liblinear failed to converge, increase the number of iterations.\n",
            "\n"
          ],
          "name": "stderr"
        },
        {
          "output_type": "stream",
          "text": [
            "deltau, deltav 0.0026421985947883086 0.0671488692730656\n",
            "11 / 30\n"
          ],
          "name": "stdout"
        },
        {
          "output_type": "stream",
          "text": [
            "/usr/local/lib/python3.7/dist-packages/sklearn/svm/_base.py:947: ConvergenceWarning:\n",
            "\n",
            "Liblinear failed to converge, increase the number of iterations.\n",
            "\n"
          ],
          "name": "stderr"
        },
        {
          "output_type": "stream",
          "text": [
            "deltau, deltav 0.0034354685971917823 0.028501048454276593\n",
            "12 / 30\n"
          ],
          "name": "stdout"
        },
        {
          "output_type": "stream",
          "text": [
            "/usr/local/lib/python3.7/dist-packages/sklearn/svm/_base.py:947: ConvergenceWarning:\n",
            "\n",
            "Liblinear failed to converge, increase the number of iterations.\n",
            "\n"
          ],
          "name": "stderr"
        },
        {
          "output_type": "stream",
          "text": [
            "deltau, deltav 0.000962936461326261 0.04587180476836745\n",
            "13 / 30\n"
          ],
          "name": "stdout"
        },
        {
          "output_type": "stream",
          "text": [
            "/usr/local/lib/python3.7/dist-packages/sklearn/svm/_base.py:947: ConvergenceWarning:\n",
            "\n",
            "Liblinear failed to converge, increase the number of iterations.\n",
            "\n"
          ],
          "name": "stderr"
        },
        {
          "output_type": "stream",
          "text": [
            "deltau, deltav 0.0009701082031608674 0.02217665390586515\n",
            "14 / 30\n"
          ],
          "name": "stdout"
        },
        {
          "output_type": "stream",
          "text": [
            "/usr/local/lib/python3.7/dist-packages/sklearn/svm/_base.py:947: ConvergenceWarning:\n",
            "\n",
            "Liblinear failed to converge, increase the number of iterations.\n",
            "\n"
          ],
          "name": "stderr"
        },
        {
          "output_type": "stream",
          "text": [
            "deltau, deltav 0.00036411883148573386 0.010942188673004494\n",
            "15 / 30\n"
          ],
          "name": "stdout"
        },
        {
          "output_type": "stream",
          "text": [
            "/usr/local/lib/python3.7/dist-packages/sklearn/svm/_base.py:947: ConvergenceWarning:\n",
            "\n",
            "Liblinear failed to converge, increase the number of iterations.\n",
            "\n"
          ],
          "name": "stderr"
        },
        {
          "output_type": "stream",
          "text": [
            "deltau, deltav 0.0003264924400315008 0.005864797754894987\n",
            "16 / 30\n"
          ],
          "name": "stdout"
        },
        {
          "output_type": "stream",
          "text": [
            "/usr/local/lib/python3.7/dist-packages/sklearn/svm/_base.py:947: ConvergenceWarning:\n",
            "\n",
            "Liblinear failed to converge, increase the number of iterations.\n",
            "\n"
          ],
          "name": "stderr"
        },
        {
          "output_type": "stream",
          "text": [
            "deltau, deltav 0.00024167230428069397 0.005763313671286214\n",
            "17 / 30\n"
          ],
          "name": "stdout"
        },
        {
          "output_type": "stream",
          "text": [
            "/usr/local/lib/python3.7/dist-packages/sklearn/svm/_base.py:947: ConvergenceWarning:\n",
            "\n",
            "Liblinear failed to converge, increase the number of iterations.\n",
            "\n"
          ],
          "name": "stderr"
        },
        {
          "output_type": "stream",
          "text": [
            "deltau, deltav 0.0002100049200234189 0.004326057989453422\n",
            "18 / 30\n"
          ],
          "name": "stdout"
        },
        {
          "output_type": "stream",
          "text": [
            "/usr/local/lib/python3.7/dist-packages/sklearn/svm/_base.py:947: ConvergenceWarning:\n",
            "\n",
            "Liblinear failed to converge, increase the number of iterations.\n",
            "\n"
          ],
          "name": "stderr"
        },
        {
          "output_type": "stream",
          "text": [
            "deltau, deltav 0.00020020334231668946 0.003768704256158089\n",
            "19 / 30\n"
          ],
          "name": "stdout"
        },
        {
          "output_type": "stream",
          "text": [
            "/usr/local/lib/python3.7/dist-packages/sklearn/svm/_base.py:947: ConvergenceWarning:\n",
            "\n",
            "Liblinear failed to converge, increase the number of iterations.\n",
            "\n"
          ],
          "name": "stderr"
        },
        {
          "output_type": "stream",
          "text": [
            "deltau, deltav 0.00019061493729509405 0.0035018867365941278\n",
            "20 / 30\n"
          ],
          "name": "stdout"
        },
        {
          "output_type": "stream",
          "text": [
            "/usr/local/lib/python3.7/dist-packages/sklearn/svm/_base.py:947: ConvergenceWarning:\n",
            "\n",
            "Liblinear failed to converge, increase the number of iterations.\n",
            "\n"
          ],
          "name": "stderr"
        },
        {
          "output_type": "stream",
          "text": [
            "deltau, deltav 0.00015797308800706043 0.002833748275704102\n",
            "21 / 30\n"
          ],
          "name": "stdout"
        },
        {
          "output_type": "stream",
          "text": [
            "/usr/local/lib/python3.7/dist-packages/sklearn/svm/_base.py:947: ConvergenceWarning:\n",
            "\n",
            "Liblinear failed to converge, increase the number of iterations.\n",
            "\n"
          ],
          "name": "stderr"
        },
        {
          "output_type": "stream",
          "text": [
            "deltau, deltav 0.00015620537751219593 0.0026553781765416614\n",
            "22 / 30\n"
          ],
          "name": "stdout"
        },
        {
          "output_type": "stream",
          "text": [
            "/usr/local/lib/python3.7/dist-packages/sklearn/svm/_base.py:947: ConvergenceWarning:\n",
            "\n",
            "Liblinear failed to converge, increase the number of iterations.\n",
            "\n"
          ],
          "name": "stderr"
        },
        {
          "output_type": "stream",
          "text": [
            "deltau, deltav 0.00015410895296929066 0.002217989365205765\n",
            "23 / 30\n"
          ],
          "name": "stdout"
        },
        {
          "output_type": "stream",
          "text": [
            "/usr/local/lib/python3.7/dist-packages/sklearn/svm/_base.py:947: ConvergenceWarning:\n",
            "\n",
            "Liblinear failed to converge, increase the number of iterations.\n",
            "\n"
          ],
          "name": "stderr"
        },
        {
          "output_type": "stream",
          "text": [
            "deltau, deltav 0.00016226520745814615 0.0019668332891539624\n",
            "24 / 30\n"
          ],
          "name": "stdout"
        },
        {
          "output_type": "stream",
          "text": [
            "/usr/local/lib/python3.7/dist-packages/sklearn/svm/_base.py:947: ConvergenceWarning:\n",
            "\n",
            "Liblinear failed to converge, increase the number of iterations.\n",
            "\n"
          ],
          "name": "stderr"
        },
        {
          "output_type": "stream",
          "text": [
            "deltau, deltav 0.00018339191924889392 0.0017555577272020853\n",
            "25 / 30\n"
          ],
          "name": "stdout"
        },
        {
          "output_type": "stream",
          "text": [
            "/usr/local/lib/python3.7/dist-packages/sklearn/svm/_base.py:947: ConvergenceWarning:\n",
            "\n",
            "Liblinear failed to converge, increase the number of iterations.\n",
            "\n"
          ],
          "name": "stderr"
        },
        {
          "output_type": "stream",
          "text": [
            "deltau, deltav 0.00018543997565745213 0.0017698401682337752\n",
            "26 / 30\n"
          ],
          "name": "stdout"
        },
        {
          "output_type": "stream",
          "text": [
            "/usr/local/lib/python3.7/dist-packages/sklearn/svm/_base.py:947: ConvergenceWarning:\n",
            "\n",
            "Liblinear failed to converge, increase the number of iterations.\n",
            "\n"
          ],
          "name": "stderr"
        },
        {
          "output_type": "stream",
          "text": [
            "deltau, deltav 0.00018604233357965671 0.0016609415774639581\n",
            "27 / 30\n"
          ],
          "name": "stdout"
        },
        {
          "output_type": "stream",
          "text": [
            "/usr/local/lib/python3.7/dist-packages/sklearn/svm/_base.py:947: ConvergenceWarning:\n",
            "\n",
            "Liblinear failed to converge, increase the number of iterations.\n",
            "\n"
          ],
          "name": "stderr"
        },
        {
          "output_type": "stream",
          "text": [
            "deltau, deltav 0.00018717271684493965 0.0016281136494990917\n",
            "28 / 30\n"
          ],
          "name": "stdout"
        },
        {
          "output_type": "stream",
          "text": [
            "/usr/local/lib/python3.7/dist-packages/sklearn/svm/_base.py:947: ConvergenceWarning:\n",
            "\n",
            "Liblinear failed to converge, increase the number of iterations.\n",
            "\n"
          ],
          "name": "stderr"
        },
        {
          "output_type": "stream",
          "text": [
            "deltau, deltav 0.00017933806343355807 0.0015491700010538234\n",
            "29 / 30\n"
          ],
          "name": "stdout"
        },
        {
          "output_type": "stream",
          "text": [
            "/usr/local/lib/python3.7/dist-packages/sklearn/svm/_base.py:947: ConvergenceWarning:\n",
            "\n",
            "Liblinear failed to converge, increase the number of iterations.\n",
            "\n"
          ],
          "name": "stderr"
        },
        {
          "output_type": "stream",
          "text": [
            "deltau, deltav 0.00018361912018408858 0.0015041999282876554\n",
            "30 / 30\n"
          ],
          "name": "stdout"
        },
        {
          "output_type": "stream",
          "text": [
            "/usr/local/lib/python3.7/dist-packages/sklearn/svm/_base.py:947: ConvergenceWarning:\n",
            "\n",
            "Liblinear failed to converge, increase the number of iterations.\n",
            "\n"
          ],
          "name": "stderr"
        },
        {
          "output_type": "stream",
          "text": [
            "deltau, deltav 0.0001769967052235377 0.0014297529367077115\n",
            "1 / 30\n",
            "deltau, deltav 7.810249675906964 35.805027579939456\n",
            "2 / 30\n",
            "deltau, deltav 0.01229635791345628 1.1243747777482576\n",
            "3 / 30\n"
          ],
          "name": "stdout"
        },
        {
          "output_type": "stream",
          "text": [
            "/usr/local/lib/python3.7/dist-packages/sklearn/svm/_base.py:947: ConvergenceWarning:\n",
            "\n",
            "Liblinear failed to converge, increase the number of iterations.\n",
            "\n"
          ],
          "name": "stderr"
        },
        {
          "output_type": "stream",
          "text": [
            "deltau, deltav 0.000755664170827609 0.3128384580309965\n",
            "4 / 30\n"
          ],
          "name": "stdout"
        },
        {
          "output_type": "stream",
          "text": [
            "/usr/local/lib/python3.7/dist-packages/sklearn/svm/_base.py:947: ConvergenceWarning:\n",
            "\n",
            "Liblinear failed to converge, increase the number of iterations.\n",
            "\n"
          ],
          "name": "stderr"
        },
        {
          "output_type": "stream",
          "text": [
            "deltau, deltav 0.0008227327687759153 0.16259852808326386\n",
            "5 / 30\n",
            "deltau, deltav 0.0007780701849873047 0.42834415833958644\n",
            "6 / 30\n"
          ],
          "name": "stdout"
        },
        {
          "output_type": "stream",
          "text": [
            "/usr/local/lib/python3.7/dist-packages/sklearn/svm/_base.py:947: ConvergenceWarning:\n",
            "\n",
            "Liblinear failed to converge, increase the number of iterations.\n",
            "\n"
          ],
          "name": "stderr"
        },
        {
          "output_type": "stream",
          "text": [
            "deltau, deltav 0.0001992505868796418 0.07350535677794229\n",
            "7 / 30\n"
          ],
          "name": "stdout"
        },
        {
          "output_type": "stream",
          "text": [
            "/usr/local/lib/python3.7/dist-packages/sklearn/svm/_base.py:947: ConvergenceWarning:\n",
            "\n",
            "Liblinear failed to converge, increase the number of iterations.\n",
            "\n"
          ],
          "name": "stderr"
        },
        {
          "output_type": "stream",
          "text": [
            "deltau, deltav 0.0001908255266030982 0.05151317321565059\n",
            "8 / 30\n"
          ],
          "name": "stdout"
        },
        {
          "output_type": "stream",
          "text": [
            "/usr/local/lib/python3.7/dist-packages/sklearn/svm/_base.py:947: ConvergenceWarning:\n",
            "\n",
            "Liblinear failed to converge, increase the number of iterations.\n",
            "\n"
          ],
          "name": "stderr"
        },
        {
          "output_type": "stream",
          "text": [
            "deltau, deltav 0.004477135447089643 0.04019725019957811\n",
            "9 / 30\n",
            "deltau, deltav 0.005496676559173319 4.800996065418631\n",
            "10 / 30\n",
            "deltau, deltav 0.0020010802634493354 2.7509537219599114\n",
            "11 / 30\n",
            "deltau, deltav 0.0014188765389483709 0.8938798026234196\n",
            "12 / 30\n",
            "deltau, deltav 0.0009216919604802238 0.4709932438044159\n",
            "13 / 30\n",
            "deltau, deltav 0.000656130843780536 0.2561443679955685\n",
            "14 / 30\n",
            "deltau, deltav 0.0006184215949940252 0.1705360438347213\n",
            "15 / 30\n",
            "deltau, deltav 0.000672471131739637 0.14940805621418213\n",
            "16 / 30\n",
            "deltau, deltav 0.0006490193042137388 0.13337458130624438\n",
            "17 / 30\n",
            "deltau, deltav 0.0006169365743212377 0.13294764177846663\n",
            "18 / 30\n",
            "deltau, deltav 0.0006892018450781629 0.12540787045723417\n",
            "19 / 30\n",
            "deltau, deltav 0.0005536093353914768 0.10910518300726262\n",
            "20 / 30\n",
            "deltau, deltav 0.0005105791446767111 0.08911904186406854\n",
            "21 / 30\n",
            "deltau, deltav 0.00043682463299781924 0.0752592383566818\n",
            "22 / 30\n",
            "deltau, deltav 0.00038302884839211724 0.06287973445054913\n",
            "23 / 30\n",
            "deltau, deltav 0.00035388423685491866 0.054768546131257506\n",
            "24 / 30\n",
            "deltau, deltav 0.000347725885801367 0.05005264507037382\n",
            "25 / 30\n",
            "deltau, deltav 0.000303473950641097 0.04550294787934928\n",
            "26 / 30\n",
            "deltau, deltav 0.00028528757914693224 0.04106903777310798\n",
            "27 / 30\n",
            "deltau, deltav 0.00027019659718957275 0.037962055445996325\n",
            "28 / 30\n",
            "deltau, deltav 0.0002564103058958452 0.03535136478665096\n",
            "29 / 30\n",
            "deltau, deltav 0.00024352008448059486 0.033012749673006145\n",
            "30 / 30\n",
            "deltau, deltav 0.00023191756718477752 0.030918327169319887\n",
            "1 / 30\n",
            "deltau, deltav 7.810249675914794 35.80502757992448\n",
            "2 / 30\n"
          ],
          "name": "stdout"
        },
        {
          "output_type": "stream",
          "text": [
            "/usr/local/lib/python3.7/dist-packages/sklearn/svm/_base.py:947: ConvergenceWarning:\n",
            "\n",
            "Liblinear failed to converge, increase the number of iterations.\n",
            "\n"
          ],
          "name": "stderr"
        },
        {
          "output_type": "stream",
          "text": [
            "deltau, deltav 0.005658192923826836 0.63427224548465\n",
            "3 / 30\n",
            "deltau, deltav 0.00965677200892009 6.307593467288506\n",
            "4 / 30\n",
            "deltau, deltav 0.004528831906529003 3.7058390506516763\n",
            "5 / 30\n",
            "deltau, deltav 0.001710103208785836 1.316703534623564\n",
            "6 / 30\n",
            "deltau, deltav 0.0013458346478963678 0.45474044081089043\n",
            "7 / 30\n",
            "deltau, deltav 0.001112897694899516 0.27842481310254696\n",
            "8 / 30\n",
            "deltau, deltav 0.0009999719693737528 0.19487407181315497\n",
            "9 / 30\n",
            "deltau, deltav 0.0009043093878901466 0.17037960945142017\n",
            "10 / 30\n"
          ],
          "name": "stdout"
        },
        {
          "output_type": "stream",
          "text": [
            "/usr/local/lib/python3.7/dist-packages/sklearn/svm/_base.py:947: ConvergenceWarning:\n",
            "\n",
            "Liblinear failed to converge, increase the number of iterations.\n",
            "\n"
          ],
          "name": "stderr"
        },
        {
          "output_type": "stream",
          "text": [
            "deltau, deltav 0.0009163278457522874 0.12506874517238048\n",
            "11 / 30\n"
          ],
          "name": "stdout"
        },
        {
          "output_type": "stream",
          "text": [
            "/usr/local/lib/python3.7/dist-packages/sklearn/svm/_base.py:947: ConvergenceWarning:\n",
            "\n",
            "Liblinear failed to converge, increase the number of iterations.\n",
            "\n"
          ],
          "name": "stderr"
        },
        {
          "output_type": "stream",
          "text": [
            "deltau, deltav 0.0008167884306058169 0.11309217680374145\n",
            "12 / 30\n"
          ],
          "name": "stdout"
        },
        {
          "output_type": "stream",
          "text": [
            "/usr/local/lib/python3.7/dist-packages/sklearn/svm/_base.py:947: ConvergenceWarning:\n",
            "\n",
            "Liblinear failed to converge, increase the number of iterations.\n",
            "\n"
          ],
          "name": "stderr"
        },
        {
          "output_type": "stream",
          "text": [
            "deltau, deltav 0.0007770030205614733 0.0939350395979625\n",
            "13 / 30\n"
          ],
          "name": "stdout"
        },
        {
          "output_type": "stream",
          "text": [
            "/usr/local/lib/python3.7/dist-packages/sklearn/svm/_base.py:947: ConvergenceWarning:\n",
            "\n",
            "Liblinear failed to converge, increase the number of iterations.\n",
            "\n"
          ],
          "name": "stderr"
        },
        {
          "output_type": "stream",
          "text": [
            "deltau, deltav 0.0007586938857390592 0.08412323196735572\n",
            "14 / 30\n"
          ],
          "name": "stdout"
        },
        {
          "output_type": "stream",
          "text": [
            "/usr/local/lib/python3.7/dist-packages/sklearn/svm/_base.py:947: ConvergenceWarning:\n",
            "\n",
            "Liblinear failed to converge, increase the number of iterations.\n",
            "\n"
          ],
          "name": "stderr"
        },
        {
          "output_type": "stream",
          "text": [
            "deltau, deltav 0.0007217345996046402 0.07963719959638066\n",
            "15 / 30\n"
          ],
          "name": "stdout"
        },
        {
          "output_type": "stream",
          "text": [
            "/usr/local/lib/python3.7/dist-packages/sklearn/svm/_base.py:947: ConvergenceWarning:\n",
            "\n",
            "Liblinear failed to converge, increase the number of iterations.\n",
            "\n"
          ],
          "name": "stderr"
        },
        {
          "output_type": "stream",
          "text": [
            "deltau, deltav 0.0008305557926989481 0.06754497342779779\n",
            "16 / 30\n"
          ],
          "name": "stdout"
        },
        {
          "output_type": "stream",
          "text": [
            "/usr/local/lib/python3.7/dist-packages/sklearn/svm/_base.py:947: ConvergenceWarning:\n",
            "\n",
            "Liblinear failed to converge, increase the number of iterations.\n",
            "\n"
          ],
          "name": "stderr"
        },
        {
          "output_type": "stream",
          "text": [
            "deltau, deltav 0.0006402426826342926 0.07709120220229077\n",
            "17 / 30\n"
          ],
          "name": "stdout"
        },
        {
          "output_type": "stream",
          "text": [
            "/usr/local/lib/python3.7/dist-packages/sklearn/svm/_base.py:947: ConvergenceWarning:\n",
            "\n",
            "Liblinear failed to converge, increase the number of iterations.\n",
            "\n"
          ],
          "name": "stderr"
        },
        {
          "output_type": "stream",
          "text": [
            "deltau, deltav 0.0006545026892337013 0.053624253071843354\n",
            "18 / 30\n"
          ],
          "name": "stdout"
        },
        {
          "output_type": "stream",
          "text": [
            "/usr/local/lib/python3.7/dist-packages/sklearn/svm/_base.py:947: ConvergenceWarning:\n",
            "\n",
            "Liblinear failed to converge, increase the number of iterations.\n",
            "\n"
          ],
          "name": "stderr"
        },
        {
          "output_type": "stream",
          "text": [
            "deltau, deltav 0.0006104517623782831 0.05241675362346034\n",
            "19 / 30\n"
          ],
          "name": "stdout"
        },
        {
          "output_type": "stream",
          "text": [
            "/usr/local/lib/python3.7/dist-packages/sklearn/svm/_base.py:947: ConvergenceWarning:\n",
            "\n",
            "Liblinear failed to converge, increase the number of iterations.\n",
            "\n"
          ],
          "name": "stderr"
        },
        {
          "output_type": "stream",
          "text": [
            "deltau, deltav 0.0006181186349744583 0.0474348400915631\n",
            "20 / 30\n"
          ],
          "name": "stdout"
        },
        {
          "output_type": "stream",
          "text": [
            "/usr/local/lib/python3.7/dist-packages/sklearn/svm/_base.py:947: ConvergenceWarning:\n",
            "\n",
            "Liblinear failed to converge, increase the number of iterations.\n",
            "\n"
          ],
          "name": "stderr"
        },
        {
          "output_type": "stream",
          "text": [
            "deltau, deltav 0.0005657897174176502 0.04622146666736039\n",
            "21 / 30\n"
          ],
          "name": "stdout"
        },
        {
          "output_type": "stream",
          "text": [
            "/usr/local/lib/python3.7/dist-packages/sklearn/svm/_base.py:947: ConvergenceWarning:\n",
            "\n",
            "Liblinear failed to converge, increase the number of iterations.\n",
            "\n"
          ],
          "name": "stderr"
        },
        {
          "output_type": "stream",
          "text": [
            "deltau, deltav 0.0005879882360371432 0.03980812888064592\n",
            "22 / 30\n"
          ],
          "name": "stdout"
        },
        {
          "output_type": "stream",
          "text": [
            "/usr/local/lib/python3.7/dist-packages/sklearn/svm/_base.py:947: ConvergenceWarning:\n",
            "\n",
            "Liblinear failed to converge, increase the number of iterations.\n",
            "\n"
          ],
          "name": "stderr"
        },
        {
          "output_type": "stream",
          "text": [
            "deltau, deltav 0.0006552009625209553 0.040094167683243226\n",
            "23 / 30\n"
          ],
          "name": "stdout"
        },
        {
          "output_type": "stream",
          "text": [
            "/usr/local/lib/python3.7/dist-packages/sklearn/svm/_base.py:947: ConvergenceWarning:\n",
            "\n",
            "Liblinear failed to converge, increase the number of iterations.\n",
            "\n"
          ],
          "name": "stderr"
        },
        {
          "output_type": "stream",
          "text": [
            "deltau, deltav 0.000522410677489352 0.04092135706083546\n",
            "24 / 30\n"
          ],
          "name": "stdout"
        },
        {
          "output_type": "stream",
          "text": [
            "/usr/local/lib/python3.7/dist-packages/sklearn/svm/_base.py:947: ConvergenceWarning:\n",
            "\n",
            "Liblinear failed to converge, increase the number of iterations.\n",
            "\n"
          ],
          "name": "stderr"
        },
        {
          "output_type": "stream",
          "text": [
            "deltau, deltav 0.0005780412220892895 0.0325379093884012\n",
            "25 / 30\n"
          ],
          "name": "stdout"
        },
        {
          "output_type": "stream",
          "text": [
            "/usr/local/lib/python3.7/dist-packages/sklearn/svm/_base.py:947: ConvergenceWarning:\n",
            "\n",
            "Liblinear failed to converge, increase the number of iterations.\n",
            "\n"
          ],
          "name": "stderr"
        },
        {
          "output_type": "stream",
          "text": [
            "deltau, deltav 0.0005258496023795439 0.03592718596182243\n",
            "26 / 30\n"
          ],
          "name": "stdout"
        },
        {
          "output_type": "stream",
          "text": [
            "/usr/local/lib/python3.7/dist-packages/sklearn/svm/_base.py:947: ConvergenceWarning:\n",
            "\n",
            "Liblinear failed to converge, increase the number of iterations.\n",
            "\n"
          ],
          "name": "stderr"
        },
        {
          "output_type": "stream",
          "text": [
            "deltau, deltav 0.0004948538567294531 0.029593769853455746\n",
            "27 / 30\n"
          ],
          "name": "stdout"
        },
        {
          "output_type": "stream",
          "text": [
            "/usr/local/lib/python3.7/dist-packages/sklearn/svm/_base.py:947: ConvergenceWarning:\n",
            "\n",
            "Liblinear failed to converge, increase the number of iterations.\n",
            "\n"
          ],
          "name": "stderr"
        },
        {
          "output_type": "stream",
          "text": [
            "deltau, deltav 0.000490534207644467 0.028169396083996937\n",
            "28 / 30\n"
          ],
          "name": "stdout"
        },
        {
          "output_type": "stream",
          "text": [
            "/usr/local/lib/python3.7/dist-packages/sklearn/svm/_base.py:947: ConvergenceWarning:\n",
            "\n",
            "Liblinear failed to converge, increase the number of iterations.\n",
            "\n"
          ],
          "name": "stderr"
        },
        {
          "output_type": "stream",
          "text": [
            "deltau, deltav 0.0004860267676547422 0.025114810901960553\n",
            "29 / 30\n"
          ],
          "name": "stdout"
        },
        {
          "output_type": "stream",
          "text": [
            "/usr/local/lib/python3.7/dist-packages/sklearn/svm/_base.py:947: ConvergenceWarning:\n",
            "\n",
            "Liblinear failed to converge, increase the number of iterations.\n",
            "\n"
          ],
          "name": "stderr"
        },
        {
          "output_type": "stream",
          "text": [
            "deltau, deltav 0.00047179806792553385 0.024924128402822994\n",
            "30 / 30\n"
          ],
          "name": "stdout"
        },
        {
          "output_type": "stream",
          "text": [
            "/usr/local/lib/python3.7/dist-packages/sklearn/svm/_base.py:947: ConvergenceWarning:\n",
            "\n",
            "Liblinear failed to converge, increase the number of iterations.\n",
            "\n"
          ],
          "name": "stderr"
        },
        {
          "output_type": "stream",
          "text": [
            "deltau, deltav 0.0004772980086971765 0.02374387085003087\n",
            "1 / 30\n",
            "deltau, deltav 7.810249675909962 35.80502757994499\n",
            "2 / 30\n"
          ],
          "name": "stdout"
        },
        {
          "output_type": "stream",
          "text": [
            "/usr/local/lib/python3.7/dist-packages/sklearn/svm/_base.py:947: ConvergenceWarning:\n",
            "\n",
            "Liblinear failed to converge, increase the number of iterations.\n",
            "\n"
          ],
          "name": "stderr"
        },
        {
          "output_type": "stream",
          "text": [
            "deltau, deltav 0.0034172927441778814 1.078248975446737\n",
            "3 / 30\n",
            "deltau, deltav 0.013449581538699618 5.0699587623120665\n",
            "4 / 30\n",
            "deltau, deltav 0.0033857816603630893 2.8878657579034366\n",
            "5 / 30\n",
            "deltau, deltav 0.0024433121012612125 0.8530655054189759\n",
            "6 / 30\n"
          ],
          "name": "stdout"
        },
        {
          "output_type": "stream",
          "text": [
            "/usr/local/lib/python3.7/dist-packages/sklearn/svm/_base.py:947: ConvergenceWarning:\n",
            "\n",
            "Liblinear failed to converge, increase the number of iterations.\n",
            "\n"
          ],
          "name": "stderr"
        },
        {
          "output_type": "stream",
          "text": [
            "deltau, deltav 0.0015566151565454135 0.4524123143858929\n",
            "7 / 30\n",
            "deltau, deltav 0.0013559062270820433 0.21566025836794628\n",
            "8 / 30\n"
          ],
          "name": "stdout"
        },
        {
          "output_type": "stream",
          "text": [
            "/usr/local/lib/python3.7/dist-packages/sklearn/svm/_base.py:947: ConvergenceWarning:\n",
            "\n",
            "Liblinear failed to converge, increase the number of iterations.\n",
            "\n"
          ],
          "name": "stderr"
        },
        {
          "output_type": "stream",
          "text": [
            "deltau, deltav 0.0011703094310062153 0.16859354793247908\n",
            "9 / 30\n",
            "deltau, deltav 0.0010553896326766243 0.14628703098267617\n",
            "10 / 30\n"
          ],
          "name": "stdout"
        },
        {
          "output_type": "stream",
          "text": [
            "/usr/local/lib/python3.7/dist-packages/sklearn/svm/_base.py:947: ConvergenceWarning:\n",
            "\n",
            "Liblinear failed to converge, increase the number of iterations.\n",
            "\n"
          ],
          "name": "stderr"
        },
        {
          "output_type": "stream",
          "text": [
            "deltau, deltav 0.0009840568354824255 0.11502728389172767\n",
            "11 / 30\n"
          ],
          "name": "stdout"
        },
        {
          "output_type": "stream",
          "text": [
            "/usr/local/lib/python3.7/dist-packages/sklearn/svm/_base.py:947: ConvergenceWarning:\n",
            "\n",
            "Liblinear failed to converge, increase the number of iterations.\n",
            "\n"
          ],
          "name": "stderr"
        },
        {
          "output_type": "stream",
          "text": [
            "deltau, deltav 0.0009673037513234724 0.0932484820996055\n",
            "12 / 30\n"
          ],
          "name": "stdout"
        },
        {
          "output_type": "stream",
          "text": [
            "/usr/local/lib/python3.7/dist-packages/sklearn/svm/_base.py:947: ConvergenceWarning:\n",
            "\n",
            "Liblinear failed to converge, increase the number of iterations.\n",
            "\n"
          ],
          "name": "stderr"
        },
        {
          "output_type": "stream",
          "text": [
            "deltau, deltav 0.000888976658366283 0.09183908887200087\n",
            "13 / 30\n"
          ],
          "name": "stdout"
        },
        {
          "output_type": "stream",
          "text": [
            "/usr/local/lib/python3.7/dist-packages/sklearn/svm/_base.py:947: ConvergenceWarning:\n",
            "\n",
            "Liblinear failed to converge, increase the number of iterations.\n",
            "\n"
          ],
          "name": "stderr"
        },
        {
          "output_type": "stream",
          "text": [
            "deltau, deltav 0.0008501521153112658 0.07484142500576291\n",
            "14 / 30\n"
          ],
          "name": "stdout"
        },
        {
          "output_type": "stream",
          "text": [
            "/usr/local/lib/python3.7/dist-packages/sklearn/svm/_base.py:947: ConvergenceWarning:\n",
            "\n",
            "Liblinear failed to converge, increase the number of iterations.\n",
            "\n"
          ],
          "name": "stderr"
        },
        {
          "output_type": "stream",
          "text": [
            "deltau, deltav 0.0008286961884570936 0.06781799428883122\n",
            "15 / 30\n"
          ],
          "name": "stdout"
        },
        {
          "output_type": "stream",
          "text": [
            "/usr/local/lib/python3.7/dist-packages/sklearn/svm/_base.py:947: ConvergenceWarning:\n",
            "\n",
            "Liblinear failed to converge, increase the number of iterations.\n",
            "\n"
          ],
          "name": "stderr"
        },
        {
          "output_type": "stream",
          "text": [
            "deltau, deltav 0.0007970930984542124 0.06294009503352037\n",
            "16 / 30\n"
          ],
          "name": "stdout"
        },
        {
          "output_type": "stream",
          "text": [
            "/usr/local/lib/python3.7/dist-packages/sklearn/svm/_base.py:947: ConvergenceWarning:\n",
            "\n",
            "Liblinear failed to converge, increase the number of iterations.\n",
            "\n"
          ],
          "name": "stderr"
        },
        {
          "output_type": "stream",
          "text": [
            "deltau, deltav 0.00127731627458382 0.05991418442360066\n",
            "17 / 30\n"
          ],
          "name": "stdout"
        },
        {
          "output_type": "stream",
          "text": [
            "/usr/local/lib/python3.7/dist-packages/sklearn/svm/_base.py:947: ConvergenceWarning:\n",
            "\n",
            "Liblinear failed to converge, increase the number of iterations.\n",
            "\n"
          ],
          "name": "stderr"
        },
        {
          "output_type": "stream",
          "text": [
            "deltau, deltav 0.0007591952453643435 0.10140253667907279\n",
            "18 / 30\n"
          ],
          "name": "stdout"
        },
        {
          "output_type": "stream",
          "text": [
            "/usr/local/lib/python3.7/dist-packages/sklearn/svm/_base.py:947: ConvergenceWarning:\n",
            "\n",
            "Liblinear failed to converge, increase the number of iterations.\n",
            "\n"
          ],
          "name": "stderr"
        },
        {
          "output_type": "stream",
          "text": [
            "deltau, deltav 0.0007310807103419879 0.0535427878974655\n",
            "19 / 30\n"
          ],
          "name": "stdout"
        },
        {
          "output_type": "stream",
          "text": [
            "/usr/local/lib/python3.7/dist-packages/sklearn/svm/_base.py:947: ConvergenceWarning:\n",
            "\n",
            "Liblinear failed to converge, increase the number of iterations.\n",
            "\n"
          ],
          "name": "stderr"
        },
        {
          "output_type": "stream",
          "text": [
            "deltau, deltav 0.00075416728887929 0.04679529282458748\n",
            "20 / 30\n"
          ],
          "name": "stdout"
        },
        {
          "output_type": "stream",
          "text": [
            "/usr/local/lib/python3.7/dist-packages/sklearn/svm/_base.py:947: ConvergenceWarning:\n",
            "\n",
            "Liblinear failed to converge, increase the number of iterations.\n",
            "\n"
          ],
          "name": "stderr"
        },
        {
          "output_type": "stream",
          "text": [
            "deltau, deltav 0.0006558355073381252 0.04325824948055647\n",
            "21 / 30\n"
          ],
          "name": "stdout"
        },
        {
          "output_type": "stream",
          "text": [
            "/usr/local/lib/python3.7/dist-packages/sklearn/svm/_base.py:947: ConvergenceWarning:\n",
            "\n",
            "Liblinear failed to converge, increase the number of iterations.\n",
            "\n"
          ],
          "name": "stderr"
        },
        {
          "output_type": "stream",
          "text": [
            "deltau, deltav 0.0006612971746750525 0.04016336740206212\n",
            "22 / 30\n"
          ],
          "name": "stdout"
        },
        {
          "output_type": "stream",
          "text": [
            "/usr/local/lib/python3.7/dist-packages/sklearn/svm/_base.py:947: ConvergenceWarning:\n",
            "\n",
            "Liblinear failed to converge, increase the number of iterations.\n",
            "\n"
          ],
          "name": "stderr"
        },
        {
          "output_type": "stream",
          "text": [
            "deltau, deltav 0.0006302470060342404 0.0318630828143813\n",
            "23 / 30\n"
          ],
          "name": "stdout"
        },
        {
          "output_type": "stream",
          "text": [
            "/usr/local/lib/python3.7/dist-packages/sklearn/svm/_base.py:947: ConvergenceWarning:\n",
            "\n",
            "Liblinear failed to converge, increase the number of iterations.\n",
            "\n"
          ],
          "name": "stderr"
        },
        {
          "output_type": "stream",
          "text": [
            "deltau, deltav 0.0006049199830069097 0.02917385862391027\n",
            "24 / 30\n"
          ],
          "name": "stdout"
        },
        {
          "output_type": "stream",
          "text": [
            "/usr/local/lib/python3.7/dist-packages/sklearn/svm/_base.py:947: ConvergenceWarning:\n",
            "\n",
            "Liblinear failed to converge, increase the number of iterations.\n",
            "\n"
          ],
          "name": "stderr"
        },
        {
          "output_type": "stream",
          "text": [
            "deltau, deltav 0.0006398949060341175 0.028412713111829198\n",
            "25 / 30\n"
          ],
          "name": "stdout"
        },
        {
          "output_type": "stream",
          "text": [
            "/usr/local/lib/python3.7/dist-packages/sklearn/svm/_base.py:947: ConvergenceWarning:\n",
            "\n",
            "Liblinear failed to converge, increase the number of iterations.\n",
            "\n"
          ],
          "name": "stderr"
        },
        {
          "output_type": "stream",
          "text": [
            "deltau, deltav 0.0006663157760441707 0.02904171060596978\n",
            "26 / 30\n"
          ],
          "name": "stdout"
        },
        {
          "output_type": "stream",
          "text": [
            "/usr/local/lib/python3.7/dist-packages/sklearn/svm/_base.py:947: ConvergenceWarning:\n",
            "\n",
            "Liblinear failed to converge, increase the number of iterations.\n",
            "\n"
          ],
          "name": "stderr"
        },
        {
          "output_type": "stream",
          "text": [
            "deltau, deltav 0.000572090058137595 0.03820746001574376\n",
            "27 / 30\n"
          ],
          "name": "stdout"
        },
        {
          "output_type": "stream",
          "text": [
            "/usr/local/lib/python3.7/dist-packages/sklearn/svm/_base.py:947: ConvergenceWarning:\n",
            "\n",
            "Liblinear failed to converge, increase the number of iterations.\n",
            "\n"
          ],
          "name": "stderr"
        },
        {
          "output_type": "stream",
          "text": [
            "deltau, deltav 0.0005747903422087479 0.023951065992800075\n",
            "28 / 30\n"
          ],
          "name": "stdout"
        },
        {
          "output_type": "stream",
          "text": [
            "/usr/local/lib/python3.7/dist-packages/sklearn/svm/_base.py:947: ConvergenceWarning:\n",
            "\n",
            "Liblinear failed to converge, increase the number of iterations.\n",
            "\n"
          ],
          "name": "stderr"
        },
        {
          "output_type": "stream",
          "text": [
            "deltau, deltav 0.0005961258797952773 0.02266073620153752\n",
            "29 / 30\n"
          ],
          "name": "stdout"
        },
        {
          "output_type": "stream",
          "text": [
            "/usr/local/lib/python3.7/dist-packages/sklearn/svm/_base.py:947: ConvergenceWarning:\n",
            "\n",
            "Liblinear failed to converge, increase the number of iterations.\n",
            "\n"
          ],
          "name": "stderr"
        },
        {
          "output_type": "stream",
          "text": [
            "deltau, deltav 0.0005697561706159354 0.025499054273522906\n",
            "30 / 30\n"
          ],
          "name": "stdout"
        },
        {
          "output_type": "stream",
          "text": [
            "/usr/local/lib/python3.7/dist-packages/sklearn/svm/_base.py:947: ConvergenceWarning:\n",
            "\n",
            "Liblinear failed to converge, increase the number of iterations.\n",
            "\n"
          ],
          "name": "stderr"
        },
        {
          "output_type": "stream",
          "text": [
            "deltau, deltav 0.0005755008390261994 0.021642002695800026\n",
            "1 / 30\n",
            "deltau, deltav 7.8102496759069675 35.80502757993387\n",
            "2 / 30\n",
            "deltau, deltav 0.009601046382466021 0.9686002049281099\n",
            "3 / 30\n",
            "deltau, deltav 0.00022627022553816433 0.15339489662090205\n",
            "4 / 30\n",
            "deltau, deltav 0.00012038525462305649 0.02574073986199396\n",
            "5 / 30\n",
            "deltau, deltav 0.00011178601168695867 0.020986872056513093\n",
            "6 / 30\n",
            "deltau, deltav 0.00010645771050047405 0.02135092228474015\n",
            "7 / 30\n",
            "deltau, deltav 0.00010001390633728343 0.01790468374115122\n",
            "8 / 30\n",
            "deltau, deltav 9.588305562373292e-05 0.016513726495664554\n",
            "9 / 30\n",
            "deltau, deltav 9.387491359867237e-05 0.01310664258214622\n",
            "10 / 30\n",
            "deltau, deltav 9.248896280022363e-05 0.013228888135489142\n",
            "11 / 30\n",
            "deltau, deltav 9.016472395751183e-05 0.010055893044567952\n",
            "12 / 30\n",
            "deltau, deltav 8.857487433216195e-05 0.009401366218879322\n",
            "13 / 30\n",
            "deltau, deltav 8.720368730457127e-05 0.008888539517783059\n",
            "14 / 30\n",
            "deltau, deltav 8.596149584458438e-05 0.00845708133124569\n",
            "15 / 30\n",
            "deltau, deltav 8.484099954239119e-05 0.008084388601494375\n",
            "16 / 30\n",
            "deltau, deltav 8.38273103365558e-05 0.007757742267108396\n",
            "17 / 30\n",
            "deltau, deltav 8.286229464229616e-05 0.007462890325085533\n",
            "18 / 30\n",
            "deltau, deltav 8.185223180441701e-05 0.007203243721781959\n",
            "19 / 30\n",
            "deltau, deltav 8.050690306180207e-05 0.007129055291390284\n",
            "20 / 30\n",
            "deltau, deltav 7.958256523782907e-05 0.0068271647548810805\n",
            "21 / 30\n",
            "deltau, deltav 7.87642085082271e-05 0.006589464093835594\n",
            "22 / 30\n",
            "deltau, deltav 7.798163619503415e-05 0.006384752315967487\n",
            "23 / 30\n",
            "deltau, deltav 7.725201826642101e-05 0.0061989734213521875\n",
            "24 / 30\n",
            "deltau, deltav 7.65349614725204e-05 0.00602510236154091\n",
            "25 / 30\n",
            "deltau, deltav 7.581501376727137e-05 0.005867094527986851\n",
            "26 / 30\n",
            "deltau, deltav 7.518388100760337e-05 0.005721838470569139\n",
            "27 / 30\n",
            "deltau, deltav 7.442447027360808e-05 0.006014012007303848\n",
            "28 / 30\n",
            "deltau, deltav 7.382806993120545e-05 0.005612928445998732\n",
            "29 / 30\n",
            "deltau, deltav 7.325204580054009e-05 0.005379456061430605\n",
            "30 / 30\n",
            "deltau, deltav 7.268075168677233e-05 0.0052220524093090645\n",
            "1 / 30\n",
            "deltau, deltav 7.810249675908306 35.805027579941566\n",
            "2 / 30\n"
          ],
          "name": "stdout"
        },
        {
          "output_type": "stream",
          "text": [
            "/usr/local/lib/python3.7/dist-packages/sklearn/svm/_base.py:947: ConvergenceWarning:\n",
            "\n",
            "Liblinear failed to converge, increase the number of iterations.\n",
            "\n"
          ],
          "name": "stderr"
        },
        {
          "output_type": "stream",
          "text": [
            "deltau, deltav 0.003694812264761384 1.0182514923883728\n",
            "3 / 30\n"
          ],
          "name": "stdout"
        },
        {
          "output_type": "stream",
          "text": [
            "/usr/local/lib/python3.7/dist-packages/sklearn/svm/_base.py:947: ConvergenceWarning:\n",
            "\n",
            "Liblinear failed to converge, increase the number of iterations.\n",
            "\n"
          ],
          "name": "stderr"
        },
        {
          "output_type": "stream",
          "text": [
            "deltau, deltav 0.013533427993127307 5.4120383753029655\n",
            "4 / 30\n"
          ],
          "name": "stdout"
        },
        {
          "output_type": "stream",
          "text": [
            "/usr/local/lib/python3.7/dist-packages/sklearn/svm/_base.py:947: ConvergenceWarning:\n",
            "\n",
            "Liblinear failed to converge, increase the number of iterations.\n",
            "\n"
          ],
          "name": "stderr"
        },
        {
          "output_type": "stream",
          "text": [
            "deltau, deltav 0.0028587830635707534 3.3087649790969595\n",
            "5 / 30\n"
          ],
          "name": "stdout"
        },
        {
          "output_type": "stream",
          "text": [
            "/usr/local/lib/python3.7/dist-packages/sklearn/svm/_base.py:947: ConvergenceWarning:\n",
            "\n",
            "Liblinear failed to converge, increase the number of iterations.\n",
            "\n"
          ],
          "name": "stderr"
        },
        {
          "output_type": "stream",
          "text": [
            "deltau, deltav 0.002096349089827917 0.9928032273061314\n",
            "6 / 30\n"
          ],
          "name": "stdout"
        },
        {
          "output_type": "stream",
          "text": [
            "/usr/local/lib/python3.7/dist-packages/sklearn/svm/_base.py:947: ConvergenceWarning:\n",
            "\n",
            "Liblinear failed to converge, increase the number of iterations.\n",
            "\n"
          ],
          "name": "stderr"
        },
        {
          "output_type": "stream",
          "text": [
            "deltau, deltav 0.0014195105574186765 0.5036388228621353\n",
            "7 / 30\n"
          ],
          "name": "stdout"
        },
        {
          "output_type": "stream",
          "text": [
            "/usr/local/lib/python3.7/dist-packages/sklearn/svm/_base.py:947: ConvergenceWarning:\n",
            "\n",
            "Liblinear failed to converge, increase the number of iterations.\n",
            "\n"
          ],
          "name": "stderr"
        },
        {
          "output_type": "stream",
          "text": [
            "deltau, deltav 0.0012723580511771152 0.25547420630896517\n",
            "8 / 30\n"
          ],
          "name": "stdout"
        },
        {
          "output_type": "stream",
          "text": [
            "/usr/local/lib/python3.7/dist-packages/sklearn/svm/_base.py:947: ConvergenceWarning:\n",
            "\n",
            "Liblinear failed to converge, increase the number of iterations.\n",
            "\n"
          ],
          "name": "stderr"
        },
        {
          "output_type": "stream",
          "text": [
            "deltau, deltav 0.0011574930741033737 0.18553400969279182\n",
            "9 / 30\n"
          ],
          "name": "stdout"
        },
        {
          "output_type": "stream",
          "text": [
            "/usr/local/lib/python3.7/dist-packages/sklearn/svm/_base.py:947: ConvergenceWarning:\n",
            "\n",
            "Liblinear failed to converge, increase the number of iterations.\n",
            "\n"
          ],
          "name": "stderr"
        },
        {
          "output_type": "stream",
          "text": [
            "deltau, deltav 0.0012690789693441957 0.1972311667519337\n",
            "10 / 30\n"
          ],
          "name": "stdout"
        },
        {
          "output_type": "stream",
          "text": [
            "/usr/local/lib/python3.7/dist-packages/sklearn/svm/_base.py:947: ConvergenceWarning:\n",
            "\n",
            "Liblinear failed to converge, increase the number of iterations.\n",
            "\n"
          ],
          "name": "stderr"
        },
        {
          "output_type": "stream",
          "text": [
            "deltau, deltav 0.0010803118527595353 0.2022313728146764\n",
            "11 / 30\n"
          ],
          "name": "stdout"
        },
        {
          "output_type": "stream",
          "text": [
            "/usr/local/lib/python3.7/dist-packages/sklearn/svm/_base.py:947: ConvergenceWarning:\n",
            "\n",
            "Liblinear failed to converge, increase the number of iterations.\n",
            "\n"
          ],
          "name": "stderr"
        },
        {
          "output_type": "stream",
          "text": [
            "deltau, deltav 0.001117281430641885 0.15870539864275574\n",
            "12 / 30\n"
          ],
          "name": "stdout"
        },
        {
          "output_type": "stream",
          "text": [
            "/usr/local/lib/python3.7/dist-packages/sklearn/svm/_base.py:947: ConvergenceWarning:\n",
            "\n",
            "Liblinear failed to converge, increase the number of iterations.\n",
            "\n"
          ],
          "name": "stderr"
        },
        {
          "output_type": "stream",
          "text": [
            "deltau, deltav 0.0010150795575887257 0.11111994037077076\n",
            "13 / 30\n"
          ],
          "name": "stdout"
        },
        {
          "output_type": "stream",
          "text": [
            "/usr/local/lib/python3.7/dist-packages/sklearn/svm/_base.py:947: ConvergenceWarning:\n",
            "\n",
            "Liblinear failed to converge, increase the number of iterations.\n",
            "\n"
          ],
          "name": "stderr"
        },
        {
          "output_type": "stream",
          "text": [
            "deltau, deltav 0.000963044720572095 0.09853754413144777\n",
            "14 / 30\n"
          ],
          "name": "stdout"
        },
        {
          "output_type": "stream",
          "text": [
            "/usr/local/lib/python3.7/dist-packages/sklearn/svm/_base.py:947: ConvergenceWarning:\n",
            "\n",
            "Liblinear failed to converge, increase the number of iterations.\n",
            "\n"
          ],
          "name": "stderr"
        },
        {
          "output_type": "stream",
          "text": [
            "deltau, deltav 0.0009527352785716226 0.108842007956646\n",
            "15 / 30\n"
          ],
          "name": "stdout"
        },
        {
          "output_type": "stream",
          "text": [
            "/usr/local/lib/python3.7/dist-packages/sklearn/svm/_base.py:947: ConvergenceWarning:\n",
            "\n",
            "Liblinear failed to converge, increase the number of iterations.\n",
            "\n"
          ],
          "name": "stderr"
        },
        {
          "output_type": "stream",
          "text": [
            "deltau, deltav 0.000896077894259306 0.08813664045446093\n",
            "16 / 30\n"
          ],
          "name": "stdout"
        },
        {
          "output_type": "stream",
          "text": [
            "/usr/local/lib/python3.7/dist-packages/sklearn/svm/_base.py:947: ConvergenceWarning:\n",
            "\n",
            "Liblinear failed to converge, increase the number of iterations.\n",
            "\n"
          ],
          "name": "stderr"
        },
        {
          "output_type": "stream",
          "text": [
            "deltau, deltav 0.000835547936804558 0.06924464039132869\n",
            "17 / 30\n"
          ],
          "name": "stdout"
        },
        {
          "output_type": "stream",
          "text": [
            "/usr/local/lib/python3.7/dist-packages/sklearn/svm/_base.py:947: ConvergenceWarning:\n",
            "\n",
            "Liblinear failed to converge, increase the number of iterations.\n",
            "\n"
          ],
          "name": "stderr"
        },
        {
          "output_type": "stream",
          "text": [
            "deltau, deltav 0.0007543373067428315 0.060413462203197356\n",
            "18 / 30\n"
          ],
          "name": "stdout"
        },
        {
          "output_type": "stream",
          "text": [
            "/usr/local/lib/python3.7/dist-packages/sklearn/svm/_base.py:947: ConvergenceWarning:\n",
            "\n",
            "Liblinear failed to converge, increase the number of iterations.\n",
            "\n"
          ],
          "name": "stderr"
        },
        {
          "output_type": "stream",
          "text": [
            "deltau, deltav 0.0007696984549582996 0.04574620441014125\n",
            "19 / 30\n"
          ],
          "name": "stdout"
        },
        {
          "output_type": "stream",
          "text": [
            "/usr/local/lib/python3.7/dist-packages/sklearn/svm/_base.py:947: ConvergenceWarning:\n",
            "\n",
            "Liblinear failed to converge, increase the number of iterations.\n",
            "\n"
          ],
          "name": "stderr"
        },
        {
          "output_type": "stream",
          "text": [
            "deltau, deltav 0.0008716683031986278 0.052382904685428375\n",
            "20 / 30\n"
          ],
          "name": "stdout"
        },
        {
          "output_type": "stream",
          "text": [
            "/usr/local/lib/python3.7/dist-packages/sklearn/svm/_base.py:947: ConvergenceWarning:\n",
            "\n",
            "Liblinear failed to converge, increase the number of iterations.\n",
            "\n"
          ],
          "name": "stderr"
        },
        {
          "output_type": "stream",
          "text": [
            "deltau, deltav 0.0007649493655396561 0.056803074344471155\n",
            "21 / 30\n"
          ],
          "name": "stdout"
        },
        {
          "output_type": "stream",
          "text": [
            "/usr/local/lib/python3.7/dist-packages/sklearn/svm/_base.py:947: ConvergenceWarning:\n",
            "\n",
            "Liblinear failed to converge, increase the number of iterations.\n",
            "\n"
          ],
          "name": "stderr"
        },
        {
          "output_type": "stream",
          "text": [
            "deltau, deltav 0.00079179124929232 0.05527316324124936\n",
            "22 / 30\n"
          ],
          "name": "stdout"
        },
        {
          "output_type": "stream",
          "text": [
            "/usr/local/lib/python3.7/dist-packages/sklearn/svm/_base.py:947: ConvergenceWarning:\n",
            "\n",
            "Liblinear failed to converge, increase the number of iterations.\n",
            "\n"
          ],
          "name": "stderr"
        },
        {
          "output_type": "stream",
          "text": [
            "deltau, deltav 0.0010704550729971458 0.05529647540234062\n",
            "23 / 30\n"
          ],
          "name": "stdout"
        },
        {
          "output_type": "stream",
          "text": [
            "/usr/local/lib/python3.7/dist-packages/sklearn/svm/_base.py:947: ConvergenceWarning:\n",
            "\n",
            "Liblinear failed to converge, increase the number of iterations.\n",
            "\n"
          ],
          "name": "stderr"
        },
        {
          "output_type": "stream",
          "text": [
            "deltau, deltav 0.0007498749590589454 0.10184163181669377\n",
            "24 / 30\n"
          ],
          "name": "stdout"
        },
        {
          "output_type": "stream",
          "text": [
            "/usr/local/lib/python3.7/dist-packages/sklearn/svm/_base.py:947: ConvergenceWarning:\n",
            "\n",
            "Liblinear failed to converge, increase the number of iterations.\n",
            "\n"
          ],
          "name": "stderr"
        },
        {
          "output_type": "stream",
          "text": [
            "deltau, deltav 0.0007199703111719307 0.05009861339320402\n",
            "25 / 30\n"
          ],
          "name": "stdout"
        },
        {
          "output_type": "stream",
          "text": [
            "/usr/local/lib/python3.7/dist-packages/sklearn/svm/_base.py:947: ConvergenceWarning:\n",
            "\n",
            "Liblinear failed to converge, increase the number of iterations.\n",
            "\n"
          ],
          "name": "stderr"
        },
        {
          "output_type": "stream",
          "text": [
            "deltau, deltav 0.0006398325295254911 0.04512720274167507\n",
            "26 / 30\n"
          ],
          "name": "stdout"
        },
        {
          "output_type": "stream",
          "text": [
            "/usr/local/lib/python3.7/dist-packages/sklearn/svm/_base.py:947: ConvergenceWarning:\n",
            "\n",
            "Liblinear failed to converge, increase the number of iterations.\n",
            "\n"
          ],
          "name": "stderr"
        },
        {
          "output_type": "stream",
          "text": [
            "deltau, deltav 0.000677571086973088 0.042011287866234655\n",
            "27 / 30\n"
          ],
          "name": "stdout"
        },
        {
          "output_type": "stream",
          "text": [
            "/usr/local/lib/python3.7/dist-packages/sklearn/svm/_base.py:947: ConvergenceWarning:\n",
            "\n",
            "Liblinear failed to converge, increase the number of iterations.\n",
            "\n"
          ],
          "name": "stderr"
        },
        {
          "output_type": "stream",
          "text": [
            "deltau, deltav 0.0009078589657117372 0.040272263589790705\n",
            "28 / 30\n"
          ],
          "name": "stdout"
        },
        {
          "output_type": "stream",
          "text": [
            "/usr/local/lib/python3.7/dist-packages/sklearn/svm/_base.py:947: ConvergenceWarning:\n",
            "\n",
            "Liblinear failed to converge, increase the number of iterations.\n",
            "\n"
          ],
          "name": "stderr"
        },
        {
          "output_type": "stream",
          "text": [
            "deltau, deltav 0.0008557827783709588 0.06682114637099164\n",
            "29 / 30\n"
          ],
          "name": "stdout"
        },
        {
          "output_type": "stream",
          "text": [
            "/usr/local/lib/python3.7/dist-packages/sklearn/svm/_base.py:947: ConvergenceWarning:\n",
            "\n",
            "Liblinear failed to converge, increase the number of iterations.\n",
            "\n"
          ],
          "name": "stderr"
        },
        {
          "output_type": "stream",
          "text": [
            "deltau, deltav 0.0009083154242984054 0.05933228563645805\n",
            "30 / 30\n"
          ],
          "name": "stdout"
        },
        {
          "output_type": "stream",
          "text": [
            "/usr/local/lib/python3.7/dist-packages/sklearn/svm/_base.py:947: ConvergenceWarning:\n",
            "\n",
            "Liblinear failed to converge, increase the number of iterations.\n",
            "\n"
          ],
          "name": "stderr"
        },
        {
          "output_type": "stream",
          "text": [
            "deltau, deltav 0.0007122234415801301 0.05534837637325902\n",
            "1 / 30\n",
            "deltau, deltav 7.810249675906926 35.80502757993347\n",
            "2 / 30\n"
          ],
          "name": "stdout"
        },
        {
          "output_type": "stream",
          "text": [
            "/usr/local/lib/python3.7/dist-packages/sklearn/svm/_base.py:947: ConvergenceWarning:\n",
            "\n",
            "Liblinear failed to converge, increase the number of iterations.\n",
            "\n"
          ],
          "name": "stderr"
        },
        {
          "output_type": "stream",
          "text": [
            "deltau, deltav 0.05350243385543663 0.9350311902288354\n",
            "3 / 30\n",
            "deltau, deltav 0.006313395643119626 1.7130879905172864\n",
            "4 / 30\n",
            "deltau, deltav 0.003566042768126801 0.3287985210233033\n",
            "5 / 30\n",
            "deltau, deltav 0.0019697777284158843 0.13347219765520071\n",
            "6 / 30\n",
            "deltau, deltav 0.0019153296978675618 0.0740143785031576\n",
            "7 / 30\n",
            "deltau, deltav 0.0018612149837445478 0.07244420603381964\n",
            "8 / 30\n",
            "deltau, deltav 0.0013449335983626346 0.07324410670050728\n",
            "9 / 30\n"
          ],
          "name": "stdout"
        },
        {
          "output_type": "stream",
          "text": [
            "/usr/local/lib/python3.7/dist-packages/sklearn/svm/_base.py:947: ConvergenceWarning:\n",
            "\n",
            "Liblinear failed to converge, increase the number of iterations.\n",
            "\n"
          ],
          "name": "stderr"
        },
        {
          "output_type": "stream",
          "text": [
            "deltau, deltav 0.0011247146694441917 0.0524206343845443\n",
            "10 / 30\n"
          ],
          "name": "stdout"
        },
        {
          "output_type": "stream",
          "text": [
            "/usr/local/lib/python3.7/dist-packages/sklearn/svm/_base.py:947: ConvergenceWarning:\n",
            "\n",
            "Liblinear failed to converge, increase the number of iterations.\n",
            "\n"
          ],
          "name": "stderr"
        },
        {
          "output_type": "stream",
          "text": [
            "deltau, deltav 0.0009943978399515304 0.045894409243922844\n",
            "11 / 30\n"
          ],
          "name": "stdout"
        },
        {
          "output_type": "stream",
          "text": [
            "/usr/local/lib/python3.7/dist-packages/sklearn/svm/_base.py:947: ConvergenceWarning:\n",
            "\n",
            "Liblinear failed to converge, increase the number of iterations.\n",
            "\n"
          ],
          "name": "stderr"
        },
        {
          "output_type": "stream",
          "text": [
            "deltau, deltav 0.0007516651610566155 0.03780450426033786\n",
            "12 / 30\n"
          ],
          "name": "stdout"
        },
        {
          "output_type": "stream",
          "text": [
            "/usr/local/lib/python3.7/dist-packages/sklearn/svm/_base.py:947: ConvergenceWarning:\n",
            "\n",
            "Liblinear failed to converge, increase the number of iterations.\n",
            "\n"
          ],
          "name": "stderr"
        },
        {
          "output_type": "stream",
          "text": [
            "deltau, deltav 0.0007722813504813914 0.028706090940419617\n",
            "13 / 30\n",
            "deltau, deltav 0.0007497939912078116 0.02704712097624478\n",
            "14 / 30\n"
          ],
          "name": "stdout"
        },
        {
          "output_type": "stream",
          "text": [
            "/usr/local/lib/python3.7/dist-packages/sklearn/svm/_base.py:947: ConvergenceWarning:\n",
            "\n",
            "Liblinear failed to converge, increase the number of iterations.\n",
            "\n"
          ],
          "name": "stderr"
        },
        {
          "output_type": "stream",
          "text": [
            "deltau, deltav 0.0006401463023028998 0.025265507822235734\n",
            "15 / 30\n"
          ],
          "name": "stdout"
        },
        {
          "output_type": "stream",
          "text": [
            "/usr/local/lib/python3.7/dist-packages/sklearn/svm/_base.py:947: ConvergenceWarning:\n",
            "\n",
            "Liblinear failed to converge, increase the number of iterations.\n",
            "\n"
          ],
          "name": "stderr"
        },
        {
          "output_type": "stream",
          "text": [
            "deltau, deltav 0.000988693874024813 0.018993353266603855\n",
            "16 / 30\n"
          ],
          "name": "stdout"
        },
        {
          "output_type": "stream",
          "text": [
            "/usr/local/lib/python3.7/dist-packages/sklearn/svm/_base.py:947: ConvergenceWarning:\n",
            "\n",
            "Liblinear failed to converge, increase the number of iterations.\n",
            "\n"
          ],
          "name": "stderr"
        },
        {
          "output_type": "stream",
          "text": [
            "deltau, deltav 0.0007766877597734338 0.02533338287068605\n",
            "17 / 30\n"
          ],
          "name": "stdout"
        },
        {
          "output_type": "stream",
          "text": [
            "/usr/local/lib/python3.7/dist-packages/sklearn/svm/_base.py:947: ConvergenceWarning:\n",
            "\n",
            "Liblinear failed to converge, increase the number of iterations.\n",
            "\n"
          ],
          "name": "stderr"
        },
        {
          "output_type": "stream",
          "text": [
            "deltau, deltav 0.0019804143776729214 0.02268824306978746\n",
            "18 / 30\n"
          ],
          "name": "stdout"
        },
        {
          "output_type": "stream",
          "text": [
            "/usr/local/lib/python3.7/dist-packages/sklearn/svm/_base.py:947: ConvergenceWarning:\n",
            "\n",
            "Liblinear failed to converge, increase the number of iterations.\n",
            "\n"
          ],
          "name": "stderr"
        },
        {
          "output_type": "stream",
          "text": [
            "deltau, deltav 0.0009985402188438053 0.05989837744216829\n",
            "19 / 30\n"
          ],
          "name": "stdout"
        },
        {
          "output_type": "stream",
          "text": [
            "/usr/local/lib/python3.7/dist-packages/sklearn/svm/_base.py:947: ConvergenceWarning:\n",
            "\n",
            "Liblinear failed to converge, increase the number of iterations.\n",
            "\n"
          ],
          "name": "stderr"
        },
        {
          "output_type": "stream",
          "text": [
            "deltau, deltav 0.0006274906634443682 0.02435072715929777\n",
            "20 / 30\n"
          ],
          "name": "stdout"
        },
        {
          "output_type": "stream",
          "text": [
            "/usr/local/lib/python3.7/dist-packages/sklearn/svm/_base.py:947: ConvergenceWarning:\n",
            "\n",
            "Liblinear failed to converge, increase the number of iterations.\n",
            "\n"
          ],
          "name": "stderr"
        },
        {
          "output_type": "stream",
          "text": [
            "deltau, deltav 0.0008323559106653223 0.013918671490882526\n",
            "21 / 30\n"
          ],
          "name": "stdout"
        },
        {
          "output_type": "stream",
          "text": [
            "/usr/local/lib/python3.7/dist-packages/sklearn/svm/_base.py:947: ConvergenceWarning:\n",
            "\n",
            "Liblinear failed to converge, increase the number of iterations.\n",
            "\n"
          ],
          "name": "stderr"
        },
        {
          "output_type": "stream",
          "text": [
            "deltau, deltav 0.000723750820057699 0.01926846657314222\n",
            "22 / 30\n"
          ],
          "name": "stdout"
        },
        {
          "output_type": "stream",
          "text": [
            "/usr/local/lib/python3.7/dist-packages/sklearn/svm/_base.py:947: ConvergenceWarning:\n",
            "\n",
            "Liblinear failed to converge, increase the number of iterations.\n",
            "\n"
          ],
          "name": "stderr"
        },
        {
          "output_type": "stream",
          "text": [
            "deltau, deltav 0.00060086322903548 0.01634719214179872\n",
            "23 / 30\n"
          ],
          "name": "stdout"
        },
        {
          "output_type": "stream",
          "text": [
            "/usr/local/lib/python3.7/dist-packages/sklearn/svm/_base.py:947: ConvergenceWarning:\n",
            "\n",
            "Liblinear failed to converge, increase the number of iterations.\n",
            "\n"
          ],
          "name": "stderr"
        },
        {
          "output_type": "stream",
          "text": [
            "deltau, deltav 0.0007169081244110204 0.0108206854366439\n",
            "24 / 30\n"
          ],
          "name": "stdout"
        },
        {
          "output_type": "stream",
          "text": [
            "/usr/local/lib/python3.7/dist-packages/sklearn/svm/_base.py:947: ConvergenceWarning:\n",
            "\n",
            "Liblinear failed to converge, increase the number of iterations.\n",
            "\n"
          ],
          "name": "stderr"
        },
        {
          "output_type": "stream",
          "text": [
            "deltau, deltav 0.0010258230268104303 0.0163817522270131\n",
            "25 / 30\n"
          ],
          "name": "stdout"
        },
        {
          "output_type": "stream",
          "text": [
            "/usr/local/lib/python3.7/dist-packages/sklearn/svm/_base.py:947: ConvergenceWarning:\n",
            "\n",
            "Liblinear failed to converge, increase the number of iterations.\n",
            "\n"
          ],
          "name": "stderr"
        },
        {
          "output_type": "stream",
          "text": [
            "deltau, deltav 0.0016552876210610649 0.02340868515899154\n",
            "26 / 30\n"
          ],
          "name": "stdout"
        },
        {
          "output_type": "stream",
          "text": [
            "/usr/local/lib/python3.7/dist-packages/sklearn/svm/_base.py:947: ConvergenceWarning:\n",
            "\n",
            "Liblinear failed to converge, increase the number of iterations.\n",
            "\n"
          ],
          "name": "stderr"
        },
        {
          "output_type": "stream",
          "text": [
            "deltau, deltav 0.0005458143798546402 0.03630837296522476\n",
            "27 / 30\n"
          ],
          "name": "stdout"
        },
        {
          "output_type": "stream",
          "text": [
            "/usr/local/lib/python3.7/dist-packages/sklearn/svm/_base.py:947: ConvergenceWarning:\n",
            "\n",
            "Liblinear failed to converge, increase the number of iterations.\n",
            "\n"
          ],
          "name": "stderr"
        },
        {
          "output_type": "stream",
          "text": [
            "deltau, deltav 0.000494950044408896 0.00921173005584786\n",
            "28 / 30\n"
          ],
          "name": "stdout"
        },
        {
          "output_type": "stream",
          "text": [
            "/usr/local/lib/python3.7/dist-packages/sklearn/svm/_base.py:947: ConvergenceWarning:\n",
            "\n",
            "Liblinear failed to converge, increase the number of iterations.\n",
            "\n"
          ],
          "name": "stderr"
        },
        {
          "output_type": "stream",
          "text": [
            "deltau, deltav 0.0005271941843851507 0.008493464264858044\n",
            "29 / 30\n"
          ],
          "name": "stdout"
        },
        {
          "output_type": "stream",
          "text": [
            "/usr/local/lib/python3.7/dist-packages/sklearn/svm/_base.py:947: ConvergenceWarning:\n",
            "\n",
            "Liblinear failed to converge, increase the number of iterations.\n",
            "\n"
          ],
          "name": "stderr"
        },
        {
          "output_type": "stream",
          "text": [
            "deltau, deltav 0.0005335972268776125 0.010725004099278462\n",
            "30 / 30\n"
          ],
          "name": "stdout"
        },
        {
          "output_type": "stream",
          "text": [
            "/usr/local/lib/python3.7/dist-packages/sklearn/svm/_base.py:947: ConvergenceWarning:\n",
            "\n",
            "Liblinear failed to converge, increase the number of iterations.\n",
            "\n"
          ],
          "name": "stderr"
        },
        {
          "output_type": "stream",
          "text": [
            "deltau, deltav 0.0005254451855861458 0.00887149892713376\n",
            "1 / 30\n",
            "deltau, deltav 7.810249675906982 35.80502757993342\n",
            "2 / 30\n",
            "deltau, deltav 0.011068661284631832 0.7308294323533392\n",
            "3 / 30\n",
            "deltau, deltav 0.00013559754156208136 0.0922899692685735\n",
            "4 / 30\n"
          ],
          "name": "stdout"
        },
        {
          "output_type": "stream",
          "text": [
            "/usr/local/lib/python3.7/dist-packages/sklearn/svm/_base.py:947: ConvergenceWarning:\n",
            "\n",
            "Liblinear failed to converge, increase the number of iterations.\n",
            "\n"
          ],
          "name": "stderr"
        },
        {
          "output_type": "stream",
          "text": [
            "deltau, deltav 0.00023089708965292564 0.010155986343499273\n",
            "5 / 30\n"
          ],
          "name": "stdout"
        },
        {
          "output_type": "stream",
          "text": [
            "/usr/local/lib/python3.7/dist-packages/sklearn/svm/_base.py:947: ConvergenceWarning:\n",
            "\n",
            "Liblinear failed to converge, increase the number of iterations.\n",
            "\n"
          ],
          "name": "stderr"
        },
        {
          "output_type": "stream",
          "text": [
            "deltau, deltav 0.0003101416106425361 0.15279206286856895\n",
            "6 / 30\n"
          ],
          "name": "stdout"
        },
        {
          "output_type": "stream",
          "text": [
            "/usr/local/lib/python3.7/dist-packages/sklearn/svm/_base.py:947: ConvergenceWarning:\n",
            "\n",
            "Liblinear failed to converge, increase the number of iterations.\n",
            "\n"
          ],
          "name": "stderr"
        },
        {
          "output_type": "stream",
          "text": [
            "deltau, deltav 6.195548309100365e-05 0.03823335888101895\n",
            "7 / 30\n"
          ],
          "name": "stdout"
        },
        {
          "output_type": "stream",
          "text": [
            "/usr/local/lib/python3.7/dist-packages/sklearn/svm/_base.py:947: ConvergenceWarning:\n",
            "\n",
            "Liblinear failed to converge, increase the number of iterations.\n",
            "\n"
          ],
          "name": "stderr"
        },
        {
          "output_type": "stream",
          "text": [
            "deltau, deltav 6.021901725741471e-05 0.025735769910383264\n",
            "8 / 30\n"
          ],
          "name": "stdout"
        },
        {
          "output_type": "stream",
          "text": [
            "/usr/local/lib/python3.7/dist-packages/sklearn/svm/_base.py:947: ConvergenceWarning:\n",
            "\n",
            "Liblinear failed to converge, increase the number of iterations.\n",
            "\n"
          ],
          "name": "stderr"
        },
        {
          "output_type": "stream",
          "text": [
            "deltau, deltav 5.862479812344383e-05 0.017504259438207225\n",
            "9 / 30\n"
          ],
          "name": "stdout"
        },
        {
          "output_type": "stream",
          "text": [
            "/usr/local/lib/python3.7/dist-packages/sklearn/svm/_base.py:947: ConvergenceWarning:\n",
            "\n",
            "Liblinear failed to converge, increase the number of iterations.\n",
            "\n"
          ],
          "name": "stderr"
        },
        {
          "output_type": "stream",
          "text": [
            "deltau, deltav 5.8859858396697656e-05 0.012910823001032658\n",
            "10 / 30\n"
          ],
          "name": "stdout"
        },
        {
          "output_type": "stream",
          "text": [
            "/usr/local/lib/python3.7/dist-packages/sklearn/svm/_base.py:947: ConvergenceWarning:\n",
            "\n",
            "Liblinear failed to converge, increase the number of iterations.\n",
            "\n"
          ],
          "name": "stderr"
        },
        {
          "output_type": "stream",
          "text": [
            "deltau, deltav 9.559028157128227e-05 0.012400086648517331\n",
            "11 / 30\n",
            "deltau, deltav 7.983423553819634e-05 0.06021641649111391\n",
            "12 / 30\n"
          ],
          "name": "stdout"
        },
        {
          "output_type": "stream",
          "text": [
            "/usr/local/lib/python3.7/dist-packages/sklearn/svm/_base.py:947: ConvergenceWarning:\n",
            "\n",
            "Liblinear failed to converge, increase the number of iterations.\n",
            "\n"
          ],
          "name": "stderr"
        },
        {
          "output_type": "stream",
          "text": [
            "deltau, deltav 6.073382792378767e-05 0.02558325833717173\n",
            "13 / 30\n"
          ],
          "name": "stdout"
        },
        {
          "output_type": "stream",
          "text": [
            "/usr/local/lib/python3.7/dist-packages/sklearn/svm/_base.py:947: ConvergenceWarning:\n",
            "\n",
            "Liblinear failed to converge, increase the number of iterations.\n",
            "\n"
          ],
          "name": "stderr"
        },
        {
          "output_type": "stream",
          "text": [
            "deltau, deltav 5.313058600139329e-05 0.0146084400104606\n",
            "14 / 30\n"
          ],
          "name": "stdout"
        },
        {
          "output_type": "stream",
          "text": [
            "/usr/local/lib/python3.7/dist-packages/sklearn/svm/_base.py:947: ConvergenceWarning:\n",
            "\n",
            "Liblinear failed to converge, increase the number of iterations.\n",
            "\n"
          ],
          "name": "stderr"
        },
        {
          "output_type": "stream",
          "text": [
            "deltau, deltav 5.30994673959966e-05 0.01020643296167412\n",
            "15 / 30\n"
          ],
          "name": "stdout"
        },
        {
          "output_type": "stream",
          "text": [
            "/usr/local/lib/python3.7/dist-packages/sklearn/svm/_base.py:947: ConvergenceWarning:\n",
            "\n",
            "Liblinear failed to converge, increase the number of iterations.\n",
            "\n"
          ],
          "name": "stderr"
        },
        {
          "output_type": "stream",
          "text": [
            "deltau, deltav 8.363937111450927e-05 0.007754694432843685\n",
            "16 / 30\n"
          ],
          "name": "stdout"
        },
        {
          "output_type": "stream",
          "text": [
            "/usr/local/lib/python3.7/dist-packages/sklearn/svm/_base.py:947: ConvergenceWarning:\n",
            "\n",
            "Liblinear failed to converge, increase the number of iterations.\n",
            "\n"
          ],
          "name": "stderr"
        },
        {
          "output_type": "stream",
          "text": [
            "deltau, deltav 6.270283295730634e-05 0.04947384273232799\n",
            "17 / 30\n"
          ],
          "name": "stdout"
        },
        {
          "output_type": "stream",
          "text": [
            "/usr/local/lib/python3.7/dist-packages/sklearn/svm/_base.py:947: ConvergenceWarning:\n",
            "\n",
            "Liblinear failed to converge, increase the number of iterations.\n",
            "\n"
          ],
          "name": "stderr"
        },
        {
          "output_type": "stream",
          "text": [
            "deltau, deltav 5.2193523601351146e-05 0.019916155808388607\n",
            "18 / 30\n"
          ],
          "name": "stdout"
        },
        {
          "output_type": "stream",
          "text": [
            "/usr/local/lib/python3.7/dist-packages/sklearn/svm/_base.py:947: ConvergenceWarning:\n",
            "\n",
            "Liblinear failed to converge, increase the number of iterations.\n",
            "\n"
          ],
          "name": "stderr"
        },
        {
          "output_type": "stream",
          "text": [
            "deltau, deltav 5.1274584535271854e-05 0.013211429059420148\n",
            "19 / 30\n"
          ],
          "name": "stdout"
        },
        {
          "output_type": "stream",
          "text": [
            "/usr/local/lib/python3.7/dist-packages/sklearn/svm/_base.py:947: ConvergenceWarning:\n",
            "\n",
            "Liblinear failed to converge, increase the number of iterations.\n",
            "\n"
          ],
          "name": "stderr"
        },
        {
          "output_type": "stream",
          "text": [
            "deltau, deltav 0.0006143364705651873 0.009881426259527685\n",
            "20 / 30\n"
          ],
          "name": "stdout"
        },
        {
          "output_type": "stream",
          "text": [
            "/usr/local/lib/python3.7/dist-packages/sklearn/svm/_base.py:947: ConvergenceWarning:\n",
            "\n",
            "Liblinear failed to converge, increase the number of iterations.\n",
            "\n"
          ],
          "name": "stderr"
        },
        {
          "output_type": "stream",
          "text": [
            "deltau, deltav 0.0008268894846173327 0.3439096798762359\n",
            "21 / 30\n"
          ],
          "name": "stdout"
        },
        {
          "output_type": "stream",
          "text": [
            "/usr/local/lib/python3.7/dist-packages/sklearn/svm/_base.py:947: ConvergenceWarning:\n",
            "\n",
            "Liblinear failed to converge, increase the number of iterations.\n",
            "\n"
          ],
          "name": "stderr"
        },
        {
          "output_type": "stream",
          "text": [
            "deltau, deltav 0.00034743807256201574 0.14776168567185527\n",
            "22 / 30\n"
          ],
          "name": "stdout"
        },
        {
          "output_type": "stream",
          "text": [
            "/usr/local/lib/python3.7/dist-packages/sklearn/svm/_base.py:947: ConvergenceWarning:\n",
            "\n",
            "Liblinear failed to converge, increase the number of iterations.\n",
            "\n"
          ],
          "name": "stderr"
        },
        {
          "output_type": "stream",
          "text": [
            "deltau, deltav 0.0005297120012896131 0.1787733041342057\n",
            "23 / 30\n"
          ],
          "name": "stdout"
        },
        {
          "output_type": "stream",
          "text": [
            "/usr/local/lib/python3.7/dist-packages/sklearn/svm/_base.py:947: ConvergenceWarning:\n",
            "\n",
            "Liblinear failed to converge, increase the number of iterations.\n",
            "\n"
          ],
          "name": "stderr"
        },
        {
          "output_type": "stream",
          "text": [
            "deltau, deltav 9.158558784587713e-05 0.09998629952042325\n",
            "24 / 30\n"
          ],
          "name": "stdout"
        },
        {
          "output_type": "stream",
          "text": [
            "/usr/local/lib/python3.7/dist-packages/sklearn/svm/_base.py:947: ConvergenceWarning:\n",
            "\n",
            "Liblinear failed to converge, increase the number of iterations.\n",
            "\n"
          ],
          "name": "stderr"
        },
        {
          "output_type": "stream",
          "text": [
            "deltau, deltav 5.841119337490514e-05 0.02791802327335119\n",
            "25 / 30\n"
          ],
          "name": "stdout"
        },
        {
          "output_type": "stream",
          "text": [
            "/usr/local/lib/python3.7/dist-packages/sklearn/svm/_base.py:947: ConvergenceWarning:\n",
            "\n",
            "Liblinear failed to converge, increase the number of iterations.\n",
            "\n"
          ],
          "name": "stderr"
        },
        {
          "output_type": "stream",
          "text": [
            "deltau, deltav 5.759168742790345e-05 0.019528844939934554\n",
            "26 / 30\n"
          ],
          "name": "stdout"
        },
        {
          "output_type": "stream",
          "text": [
            "/usr/local/lib/python3.7/dist-packages/sklearn/svm/_base.py:947: ConvergenceWarning:\n",
            "\n",
            "Liblinear failed to converge, increase the number of iterations.\n",
            "\n"
          ],
          "name": "stderr"
        },
        {
          "output_type": "stream",
          "text": [
            "deltau, deltav 9.807980039262637e-05 0.014881618452781766\n",
            "27 / 30\n"
          ],
          "name": "stdout"
        },
        {
          "output_type": "stream",
          "text": [
            "/usr/local/lib/python3.7/dist-packages/sklearn/svm/_base.py:947: ConvergenceWarning:\n",
            "\n",
            "Liblinear failed to converge, increase the number of iterations.\n",
            "\n"
          ],
          "name": "stderr"
        },
        {
          "output_type": "stream",
          "text": [
            "deltau, deltav 7.622181125598383e-05 0.07036825978251154\n",
            "28 / 30\n"
          ],
          "name": "stdout"
        },
        {
          "output_type": "stream",
          "text": [
            "/usr/local/lib/python3.7/dist-packages/sklearn/svm/_base.py:947: ConvergenceWarning:\n",
            "\n",
            "Liblinear failed to converge, increase the number of iterations.\n",
            "\n"
          ],
          "name": "stderr"
        },
        {
          "output_type": "stream",
          "text": [
            "deltau, deltav 0.00030137190320304126 0.012928388744427286\n",
            "29 / 30\n"
          ],
          "name": "stdout"
        },
        {
          "output_type": "stream",
          "text": [
            "/usr/local/lib/python3.7/dist-packages/sklearn/svm/_base.py:947: ConvergenceWarning:\n",
            "\n",
            "Liblinear failed to converge, increase the number of iterations.\n",
            "\n"
          ],
          "name": "stderr"
        },
        {
          "output_type": "stream",
          "text": [
            "deltau, deltav 0.0002312284737016211 0.13898481107276284\n",
            "30 / 30\n"
          ],
          "name": "stdout"
        },
        {
          "output_type": "stream",
          "text": [
            "/usr/local/lib/python3.7/dist-packages/sklearn/svm/_base.py:947: ConvergenceWarning:\n",
            "\n",
            "Liblinear failed to converge, increase the number of iterations.\n",
            "\n"
          ],
          "name": "stderr"
        },
        {
          "output_type": "stream",
          "text": [
            "deltau, deltav 8.135059589936335e-05 0.0627624786244418\n",
            "1 / 30\n",
            "deltau, deltav 7.810249675906687 35.805027579935484\n",
            "2 / 30\n"
          ],
          "name": "stdout"
        },
        {
          "output_type": "stream",
          "text": [
            "/usr/local/lib/python3.7/dist-packages/sklearn/svm/_base.py:947: ConvergenceWarning:\n",
            "\n",
            "Liblinear failed to converge, increase the number of iterations.\n",
            "\n"
          ],
          "name": "stderr"
        },
        {
          "output_type": "stream",
          "text": [
            "deltau, deltav 0.011845298586803206 0.14397515552098242\n",
            "3 / 30\n",
            "deltau, deltav 0.006679261975916425 5.825723997509014\n",
            "4 / 30\n",
            "deltau, deltav 0.0024133024856639682 2.5455757989577896\n",
            "5 / 30\n",
            "deltau, deltav 0.0019185034694197691 0.7643644278987688\n",
            "6 / 30\n",
            "deltau, deltav 0.0015825096047606343 0.4477592954387387\n",
            "7 / 30\n",
            "deltau, deltav 0.0013839298708642664 0.32366472670471325\n",
            "8 / 30\n",
            "deltau, deltav 0.0012395227010958405 0.23940568407115562\n",
            "9 / 30\n",
            "deltau, deltav 0.0011153007834495583 0.18987342806653534\n",
            "10 / 30\n",
            "deltau, deltav 0.0010448916558973753 0.1531426612331475\n",
            "11 / 30\n",
            "deltau, deltav 0.0009712191780509713 0.12915413093159575\n",
            "12 / 30\n",
            "deltau, deltav 0.0009209331717913457 0.11153996663093578\n",
            "13 / 30\n",
            "deltau, deltav 0.0008827193192346094 0.09741531886217324\n",
            "14 / 30\n",
            "deltau, deltav 0.0008379074429078289 0.08613978891223648\n",
            "15 / 30\n",
            "deltau, deltav 0.0008052324294897608 0.07750887117390336\n",
            "16 / 30\n",
            "deltau, deltav 0.0007748514976464075 0.06957377465184446\n",
            "17 / 30\n",
            "deltau, deltav 0.0007466160489550667 0.06308510898550881\n",
            "18 / 30\n",
            "deltau, deltav 0.0007220194203351212 0.057468277085602565\n",
            "19 / 30\n",
            "deltau, deltav 0.0007006128349801742 0.052551910712878715\n",
            "20 / 30\n",
            "deltau, deltav 0.0006794033339387204 0.0482418933670006\n",
            "21 / 30\n",
            "deltau, deltav 0.0006602525132808076 0.04462666970016267\n",
            "22 / 30\n",
            "deltau, deltav 0.0006429872767545167 0.04157572802447017\n",
            "23 / 30\n",
            "deltau, deltav 0.0006283231797702532 0.038885027621071454\n",
            "24 / 30\n",
            "deltau, deltav 0.0006147604791624312 0.03634651523329375\n",
            "25 / 30\n",
            "deltau, deltav 0.0006036652752212544 0.03406846241377962\n",
            "26 / 30\n",
            "deltau, deltav 0.0005926394114213104 0.031588378601700426\n",
            "27 / 30\n",
            "deltau, deltav 0.0005814585888404051 0.030010482931985896\n",
            "28 / 30\n",
            "deltau, deltav 0.0005674904388891185 0.02808573818341522\n",
            "29 / 30\n",
            "deltau, deltav 0.0005581848178456393 0.02669324546711948\n",
            "30 / 30\n",
            "deltau, deltav 0.0005488326027396705 0.025249295695733514\n",
            "1 / 30\n",
            "deltau, deltav 7.810249675906978 35.805027579939996\n",
            "2 / 30\n"
          ],
          "name": "stdout"
        },
        {
          "output_type": "stream",
          "text": [
            "/usr/local/lib/python3.7/dist-packages/sklearn/svm/_base.py:947: ConvergenceWarning:\n",
            "\n",
            "Liblinear failed to converge, increase the number of iterations.\n",
            "\n"
          ],
          "name": "stderr"
        },
        {
          "output_type": "stream",
          "text": [
            "deltau, deltav 0.0029365594319619775 0.9301812144571519\n",
            "3 / 30\n"
          ],
          "name": "stdout"
        },
        {
          "output_type": "stream",
          "text": [
            "/usr/local/lib/python3.7/dist-packages/sklearn/svm/_base.py:947: ConvergenceWarning:\n",
            "\n",
            "Liblinear failed to converge, increase the number of iterations.\n",
            "\n"
          ],
          "name": "stderr"
        },
        {
          "output_type": "stream",
          "text": [
            "deltau, deltav 0.01688541399571545 5.196436765092578\n",
            "4 / 30\n",
            "deltau, deltav 0.0035687153875175815 3.292851496728154\n",
            "5 / 30\n"
          ],
          "name": "stdout"
        },
        {
          "output_type": "stream",
          "text": [
            "/usr/local/lib/python3.7/dist-packages/sklearn/svm/_base.py:947: ConvergenceWarning:\n",
            "\n",
            "Liblinear failed to converge, increase the number of iterations.\n",
            "\n"
          ],
          "name": "stderr"
        },
        {
          "output_type": "stream",
          "text": [
            "deltau, deltav 0.0017661321924392563 0.7437746023012043\n",
            "6 / 30\n"
          ],
          "name": "stdout"
        },
        {
          "output_type": "stream",
          "text": [
            "/usr/local/lib/python3.7/dist-packages/sklearn/svm/_base.py:947: ConvergenceWarning:\n",
            "\n",
            "Liblinear failed to converge, increase the number of iterations.\n",
            "\n"
          ],
          "name": "stderr"
        },
        {
          "output_type": "stream",
          "text": [
            "deltau, deltav 0.0014343995927266393 0.2678867819150386\n",
            "7 / 30\n"
          ],
          "name": "stdout"
        },
        {
          "output_type": "stream",
          "text": [
            "/usr/local/lib/python3.7/dist-packages/sklearn/svm/_base.py:947: ConvergenceWarning:\n",
            "\n",
            "Liblinear failed to converge, increase the number of iterations.\n",
            "\n"
          ],
          "name": "stderr"
        },
        {
          "output_type": "stream",
          "text": [
            "deltau, deltav 0.0012897980938611725 0.1849883147771573\n",
            "8 / 30\n"
          ],
          "name": "stdout"
        },
        {
          "output_type": "stream",
          "text": [
            "/usr/local/lib/python3.7/dist-packages/sklearn/svm/_base.py:947: ConvergenceWarning:\n",
            "\n",
            "Liblinear failed to converge, increase the number of iterations.\n",
            "\n"
          ],
          "name": "stderr"
        },
        {
          "output_type": "stream",
          "text": [
            "deltau, deltav 0.0011926942156471724 0.14479501256171656\n",
            "9 / 30\n"
          ],
          "name": "stdout"
        },
        {
          "output_type": "stream",
          "text": [
            "/usr/local/lib/python3.7/dist-packages/sklearn/svm/_base.py:947: ConvergenceWarning:\n",
            "\n",
            "Liblinear failed to converge, increase the number of iterations.\n",
            "\n"
          ],
          "name": "stderr"
        },
        {
          "output_type": "stream",
          "text": [
            "deltau, deltav 0.0011760590960465931 0.11153558277952992\n",
            "10 / 30\n"
          ],
          "name": "stdout"
        },
        {
          "output_type": "stream",
          "text": [
            "/usr/local/lib/python3.7/dist-packages/sklearn/svm/_base.py:947: ConvergenceWarning:\n",
            "\n",
            "Liblinear failed to converge, increase the number of iterations.\n",
            "\n"
          ],
          "name": "stderr"
        },
        {
          "output_type": "stream",
          "text": [
            "deltau, deltav 0.001134170971197012 0.11702733395675892\n",
            "11 / 30\n"
          ],
          "name": "stdout"
        },
        {
          "output_type": "stream",
          "text": [
            "/usr/local/lib/python3.7/dist-packages/sklearn/svm/_base.py:947: ConvergenceWarning:\n",
            "\n",
            "Liblinear failed to converge, increase the number of iterations.\n",
            "\n"
          ],
          "name": "stderr"
        },
        {
          "output_type": "stream",
          "text": [
            "deltau, deltav 0.0010429022619368239 0.10534902987259714\n",
            "12 / 30\n"
          ],
          "name": "stdout"
        },
        {
          "output_type": "stream",
          "text": [
            "/usr/local/lib/python3.7/dist-packages/sklearn/svm/_base.py:947: ConvergenceWarning:\n",
            "\n",
            "Liblinear failed to converge, increase the number of iterations.\n",
            "\n"
          ],
          "name": "stderr"
        },
        {
          "output_type": "stream",
          "text": [
            "deltau, deltav 0.0009868236510996915 0.08522087067218914\n",
            "13 / 30\n"
          ],
          "name": "stdout"
        },
        {
          "output_type": "stream",
          "text": [
            "/usr/local/lib/python3.7/dist-packages/sklearn/svm/_base.py:947: ConvergenceWarning:\n",
            "\n",
            "Liblinear failed to converge, increase the number of iterations.\n",
            "\n"
          ],
          "name": "stderr"
        },
        {
          "output_type": "stream",
          "text": [
            "deltau, deltav 0.0009460804397966334 0.0798481483591336\n",
            "14 / 30\n"
          ],
          "name": "stdout"
        },
        {
          "output_type": "stream",
          "text": [
            "/usr/local/lib/python3.7/dist-packages/sklearn/svm/_base.py:947: ConvergenceWarning:\n",
            "\n",
            "Liblinear failed to converge, increase the number of iterations.\n",
            "\n"
          ],
          "name": "stderr"
        },
        {
          "output_type": "stream",
          "text": [
            "deltau, deltav 0.000922604155568716 0.0702624608463533\n",
            "15 / 30\n"
          ],
          "name": "stdout"
        },
        {
          "output_type": "stream",
          "text": [
            "/usr/local/lib/python3.7/dist-packages/sklearn/svm/_base.py:947: ConvergenceWarning:\n",
            "\n",
            "Liblinear failed to converge, increase the number of iterations.\n",
            "\n"
          ],
          "name": "stderr"
        },
        {
          "output_type": "stream",
          "text": [
            "deltau, deltav 0.0009279929326527456 0.06673810527449696\n",
            "16 / 30\n"
          ],
          "name": "stdout"
        },
        {
          "output_type": "stream",
          "text": [
            "/usr/local/lib/python3.7/dist-packages/sklearn/svm/_base.py:947: ConvergenceWarning:\n",
            "\n",
            "Liblinear failed to converge, increase the number of iterations.\n",
            "\n"
          ],
          "name": "stderr"
        },
        {
          "output_type": "stream",
          "text": [
            "deltau, deltav 0.0008460422458743281 0.06487827910422977\n",
            "17 / 30\n"
          ],
          "name": "stdout"
        },
        {
          "output_type": "stream",
          "text": [
            "/usr/local/lib/python3.7/dist-packages/sklearn/svm/_base.py:947: ConvergenceWarning:\n",
            "\n",
            "Liblinear failed to converge, increase the number of iterations.\n",
            "\n"
          ],
          "name": "stderr"
        },
        {
          "output_type": "stream",
          "text": [
            "deltau, deltav 0.0008354499324587116 0.05100933667073827\n",
            "18 / 30\n"
          ],
          "name": "stdout"
        },
        {
          "output_type": "stream",
          "text": [
            "/usr/local/lib/python3.7/dist-packages/sklearn/svm/_base.py:947: ConvergenceWarning:\n",
            "\n",
            "Liblinear failed to converge, increase the number of iterations.\n",
            "\n"
          ],
          "name": "stderr"
        },
        {
          "output_type": "stream",
          "text": [
            "deltau, deltav 0.0008525123875422371 0.04813022470905597\n",
            "19 / 30\n"
          ],
          "name": "stdout"
        },
        {
          "output_type": "stream",
          "text": [
            "/usr/local/lib/python3.7/dist-packages/sklearn/svm/_base.py:947: ConvergenceWarning:\n",
            "\n",
            "Liblinear failed to converge, increase the number of iterations.\n",
            "\n"
          ],
          "name": "stderr"
        },
        {
          "output_type": "stream",
          "text": [
            "deltau, deltav 0.0007867451861800415 0.058156166280046634\n",
            "20 / 30\n"
          ],
          "name": "stdout"
        },
        {
          "output_type": "stream",
          "text": [
            "/usr/local/lib/python3.7/dist-packages/sklearn/svm/_base.py:947: ConvergenceWarning:\n",
            "\n",
            "Liblinear failed to converge, increase the number of iterations.\n",
            "\n"
          ],
          "name": "stderr"
        },
        {
          "output_type": "stream",
          "text": [
            "deltau, deltav 0.0007754407021055165 0.04202138426849132\n",
            "21 / 30\n"
          ],
          "name": "stdout"
        },
        {
          "output_type": "stream",
          "text": [
            "/usr/local/lib/python3.7/dist-packages/sklearn/svm/_base.py:947: ConvergenceWarning:\n",
            "\n",
            "Liblinear failed to converge, increase the number of iterations.\n",
            "\n"
          ],
          "name": "stderr"
        },
        {
          "output_type": "stream",
          "text": [
            "deltau, deltav 0.0007612701273711552 0.041314872065517164\n",
            "22 / 30\n"
          ],
          "name": "stdout"
        },
        {
          "output_type": "stream",
          "text": [
            "/usr/local/lib/python3.7/dist-packages/sklearn/svm/_base.py:947: ConvergenceWarning:\n",
            "\n",
            "Liblinear failed to converge, increase the number of iterations.\n",
            "\n"
          ],
          "name": "stderr"
        },
        {
          "output_type": "stream",
          "text": [
            "deltau, deltav 0.000745018729551017 0.038045419872805145\n",
            "23 / 30\n"
          ],
          "name": "stdout"
        },
        {
          "output_type": "stream",
          "text": [
            "/usr/local/lib/python3.7/dist-packages/sklearn/svm/_base.py:947: ConvergenceWarning:\n",
            "\n",
            "Liblinear failed to converge, increase the number of iterations.\n",
            "\n"
          ],
          "name": "stderr"
        },
        {
          "output_type": "stream",
          "text": [
            "deltau, deltav 0.0007278056980096038 0.032821252804812844\n",
            "24 / 30\n"
          ],
          "name": "stdout"
        },
        {
          "output_type": "stream",
          "text": [
            "/usr/local/lib/python3.7/dist-packages/sklearn/svm/_base.py:947: ConvergenceWarning:\n",
            "\n",
            "Liblinear failed to converge, increase the number of iterations.\n",
            "\n"
          ],
          "name": "stderr"
        },
        {
          "output_type": "stream",
          "text": [
            "deltau, deltav 0.00077462769485478 0.030194991306133345\n",
            "25 / 30\n"
          ],
          "name": "stdout"
        },
        {
          "output_type": "stream",
          "text": [
            "/usr/local/lib/python3.7/dist-packages/sklearn/svm/_base.py:947: ConvergenceWarning:\n",
            "\n",
            "Liblinear failed to converge, increase the number of iterations.\n",
            "\n"
          ],
          "name": "stderr"
        },
        {
          "output_type": "stream",
          "text": [
            "deltau, deltav 0.0007012509041386461 0.04216953461202533\n",
            "26 / 30\n"
          ],
          "name": "stdout"
        },
        {
          "output_type": "stream",
          "text": [
            "/usr/local/lib/python3.7/dist-packages/sklearn/svm/_base.py:947: ConvergenceWarning:\n",
            "\n",
            "Liblinear failed to converge, increase the number of iterations.\n",
            "\n"
          ],
          "name": "stderr"
        },
        {
          "output_type": "stream",
          "text": [
            "deltau, deltav 0.0006905974604647719 0.026900026131478603\n",
            "27 / 30\n"
          ],
          "name": "stdout"
        },
        {
          "output_type": "stream",
          "text": [
            "/usr/local/lib/python3.7/dist-packages/sklearn/svm/_base.py:947: ConvergenceWarning:\n",
            "\n",
            "Liblinear failed to converge, increase the number of iterations.\n",
            "\n"
          ],
          "name": "stderr"
        },
        {
          "output_type": "stream",
          "text": [
            "deltau, deltav 0.0006810675904907466 0.026069625226448935\n",
            "28 / 30\n"
          ],
          "name": "stdout"
        },
        {
          "output_type": "stream",
          "text": [
            "/usr/local/lib/python3.7/dist-packages/sklearn/svm/_base.py:947: ConvergenceWarning:\n",
            "\n",
            "Liblinear failed to converge, increase the number of iterations.\n",
            "\n"
          ],
          "name": "stderr"
        },
        {
          "output_type": "stream",
          "text": [
            "deltau, deltav 0.0006917398678343957 0.025997362838397042\n",
            "29 / 30\n"
          ],
          "name": "stdout"
        },
        {
          "output_type": "stream",
          "text": [
            "/usr/local/lib/python3.7/dist-packages/sklearn/svm/_base.py:947: ConvergenceWarning:\n",
            "\n",
            "Liblinear failed to converge, increase the number of iterations.\n",
            "\n"
          ],
          "name": "stderr"
        },
        {
          "output_type": "stream",
          "text": [
            "deltau, deltav 0.0006717823056297902 0.025136202343933236\n",
            "30 / 30\n",
            "deltau, deltav 0.000672263380125143 0.025190899401268525\n",
            "[0.52272727 0.5        0.65909091 0.56818182 0.56818182 0.56818182\n",
            " 0.40909091 0.52272727 0.59090909 0.45454545]\n"
          ],
          "name": "stdout"
        },
        {
          "output_type": "stream",
          "text": [
            "/usr/local/lib/python3.7/dist-packages/sklearn/svm/_base.py:947: ConvergenceWarning:\n",
            "\n",
            "Liblinear failed to converge, increase the number of iterations.\n",
            "\n"
          ],
          "name": "stderr"
        }
      ]
    },
    {
      "cell_type": "code",
      "metadata": {
        "colab": {
          "base_uri": "https://localhost:8080/"
        },
        "id": "C8orgy_RwM8Y",
        "outputId": "6b89618a-abf4-46b7-f2b3-b6f56810f16d"
      },
      "source": [
        "for i,j in cv_split:\n",
        "  print(len(i),len(j))"
      ],
      "execution_count": 31,
      "outputs": [
        {
          "output_type": "stream",
          "text": [
            "172 44\n",
            "172 44\n",
            "172 44\n",
            "172 44\n",
            "172 44\n",
            "172 44\n",
            "172 44\n",
            "172 44\n",
            "172 44\n",
            "172 44\n"
          ],
          "name": "stdout"
        }
      ]
    },
    {
      "cell_type": "code",
      "metadata": {
        "id": "fGLnnfNnvhZm"
      },
      "source": [
        "from scipy.stats import binom"
      ],
      "execution_count": 32,
      "outputs": []
    },
    {
      "cell_type": "code",
      "metadata": {
        "colab": {
          "base_uri": "https://localhost:8080/"
        },
        "id": "QrKtTxGkvw6-",
        "outputId": "2fe4a860-2260-4fb2-c312-732f5fc6bf62"
      },
      "source": [
        "alpha = 0.05\n",
        "c = 3\n",
        "n = 44\n",
        "x = (100/n)*binom.ppf(1-alpha, n, 1/c)\n",
        "print(x)"
      ],
      "execution_count": 33,
      "outputs": [
        {
          "output_type": "stream",
          "text": [
            "45.45454545454546\n"
          ],
          "name": "stdout"
        }
      ]
    }
  ]
}