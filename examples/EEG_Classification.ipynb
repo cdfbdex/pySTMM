{
 "cells": [
  {
   "cell_type": "markdown",
   "metadata": {
    "id": "xRR-Opzm3cHF"
   },
   "source": [
    "# Description"
   ]
  },
  {
   "cell_type": "markdown",
   "metadata": {},
   "source": [
    "This notebook implement and assesses EEG single trial classification of motor attempt on ten SCI patients using Linear, Multiclass, Probabilistic Support Tensor Machine, STM."
   ]
  },
  {
   "cell_type": "markdown",
   "metadata": {},
   "source": [
    "## Libs"
   ]
  },
  {
   "cell_type": "code",
   "execution_count": 1,
   "metadata": {},
   "outputs": [],
   "source": [
    "import mne\n",
    "from scipy import stats\n",
    "from mne.stats import bonferroni_correction, fdr_correction\n",
    "from mne import Epochs, pick_types, events_from_annotations\n",
    "from mne.channels import make_standard_montage\n",
    "import pickle\n",
    "import wget\n",
    "import pandas as pd\n",
    "import zipfile\n",
    "import os\n",
    "import shutil\n",
    "import numpy as np\n",
    "import time\n",
    "from numpy.fft import rfft\n",
    "\n",
    "import plotly.graph_objects as go\n",
    "from plotly.subplots import make_subplots\n",
    "from itertools import combinations\n",
    "from sklearn.model_selection import ShuffleSplit, cross_val_score\n",
    "from sklearn.model_selection import train_test_split\n",
    "from sklearn.metrics import classification_report\n",
    "from sklearn.metrics import precision_score, recall_score, accuracy_score, f1_score\n",
    "from spectrum import *\n",
    "from scipy import fft\n",
    "from scipy import signal\n",
    "from scipy.stats import binom\n",
    "from scipy.signal import butter, lfilter, filtfilt\n",
    "import pystmm\n",
    "import warnings\n",
    "\n",
    "warnings.filterwarnings('ignore')\n",
    "%matplotlib inline"
   ]
  },
  {
   "cell_type": "markdown",
   "metadata": {},
   "source": [
    "## Functions"
   ]
  },
  {
   "cell_type": "markdown",
   "metadata": {},
   "source": [
    "### 0. Get EEG Data as a Dataframe and as a MNE raw from BNCI Horizon"
   ]
  },
  {
   "cell_type": "code",
   "execution_count": 10,
   "metadata": {},
   "outputs": [],
   "source": [
    "def getEEGData(URL, User):\n",
    "    # Data Description: https://lampx.tugraz.at/~bci/database/001-2019/dataset_description_v1-1.pdf\n",
    "    # Offline: Type run and event codes\n",
    "    dictTypeRun =  {'Run 1':'EyeMovements',\n",
    "                  'Run 2':'Rest',\n",
    "                  'Run 3':'AttemptedMovement',\n",
    "                  'Run 4':'AttemptedMovement',\n",
    "                  'Run 5':'AttemptedMovement',\n",
    "                  'Run 6':'AttemptedMovement',\n",
    "                  'Run 7':'AttemptedMovement',\n",
    "                  'Run 8':'EyeMovements',\n",
    "                  'Run 9':'Rest',\n",
    "                  'Run 10':'AttemptedMovement',\n",
    "                  'Run 11':'AttemptedMovement',\n",
    "                  'Run 12':'AttemptedMovement',\n",
    "                  'Run 13':'AttemptedMovement',\n",
    "                  'Run 14':'EyeMovements',\n",
    "                  'Run 15':'Rest'\n",
    "                 }\n",
    "    dictEvents = dict(TrialStart = 0x300,\n",
    "                    Beep = 0x311,\n",
    "                    FixationCross = 0x312,\n",
    "                    SupinationClassCue = 0x308,\n",
    "                    PronationClassCue = 0x309,\n",
    "                    HandOpenClassCue = 0x30B,\n",
    "                    PalmarGraspClassCue = 0x39D,\n",
    "                    LateralGraspClassCue = 0x39E)\n",
    "    dictEvents = dict(zip([str(val) for val in list(dictEvents.values())],list(dictEvents.keys())))\n",
    "    dictColNames = dict(zip(list(dictEvents.keys()), list(range(len(list(dictEvents.keys()))))))\n",
    "  \n",
    "    # Unzip on User folder\n",
    "    try:\n",
    "        shutil.rmtree(User)\n",
    "        os.mkdir(User)\n",
    "    except:\n",
    "        os.mkdir(User)  \n",
    "  \n",
    "  \n",
    "    if not os.path.exists(User+'.zip'):\n",
    "        # Download file if not exist\n",
    "        print('Downloading: ',User,' from ',URL+User+'.zip')\n",
    "        filename = wget.download(URL+User+'.zip')\n",
    "    else:\n",
    "        filename = User+'.zip'\n",
    "\n",
    "\n",
    "  \n",
    "    with zipfile.ZipFile(filename, 'r') as zip_ref:\n",
    "        zip_ref.extractall(User)\n",
    "    RunFiles = [os.path.join(User,f) for f in os.listdir(User) if os.path.isfile(os.path.join(User, f)) and f.lower().endswith('.gdf')]\n",
    "\n",
    "    # Prepare DataFrame\n",
    "    listDFRaw = []\n",
    "    typeRun = []\n",
    "    numRun = []\n",
    "    samplingFrequencyList = []\n",
    "\n",
    "\n",
    "  \n",
    "    raw_all = mne.concatenate_raws([mne.io.read_raw_gdf(f, preload=True) for f in RunFiles])\n",
    "    for run in dictTypeRun:\n",
    "        rfile = None\n",
    "        for runfile in RunFiles:\n",
    "            if run in runfile:\n",
    "                rfile = runfile\n",
    "                break\n",
    "        if rfile is None:\n",
    "            continue\n",
    "    \n",
    "        raw = mne.io.read_raw_gdf(rfile)\n",
    "    \n",
    "        samplingFrequencyList.append(raw.info['sfreq'])\n",
    "        ch_names = raw.info['ch_names']\n",
    "        dfData = pd.DataFrame(data=raw.get_data().T,columns=ch_names)\n",
    "        dfData = dfData.dropna(how='all')\n",
    "        dfData.fillna(method='bfill',inplace=True)\n",
    "        dfData = dfData.reset_index()\n",
    "        dfData = dfData[ch_names]\n",
    "\n",
    "        events, dictEventsRun = mne.events_from_annotations(raw)\n",
    "        dictEventsRun = dict(zip([val for val in list(dictEventsRun.values())],list(dictEventsRun.keys())))\n",
    "        sampleTime, eventNum = list(events[:,0]), list(events[:,2])\n",
    "        listEventsPerColumn = [[0]*len(dfData)]*len(dictColNames)\n",
    "        listEventsPerColumn = np.array(listEventsPerColumn)\n",
    "        for s, e in zip(sampleTime, eventNum):\n",
    "            if dictEventsRun[e] in dictColNames:\n",
    "                listEventsPerColumn[dictColNames[dictEventsRun[e]],s] = 1\n",
    "        dfEvents = pd.DataFrame(data=listEventsPerColumn.T,columns=[dictEvents[val] for val in list(dictColNames.keys())])\n",
    "        dfRaw = pd.concat([dfEvents.copy(),dfData.copy()],axis=1,ignore_index=True)\n",
    "        dfRaw.columns = [dictEvents[val] for val in list(dictColNames.keys())] + ch_names\n",
    "    \n",
    "\n",
    "        listDFRaw.append(dfRaw.copy())\n",
    "        typeRun += [dictTypeRun[run]]*len(dfData)\n",
    "        numRun += [run]*len(dfData)\n",
    "\n",
    "    shutil.rmtree(User) \n",
    "\n",
    "    # Build DataFrame, MNE raw and return\n",
    "    df = pd.concat(listDFRaw, ignore_index=True)\n",
    "    df['TypeRun'] = typeRun\n",
    "    df['Run'] = numRun\n",
    "    df = df[['Run','TypeRun']+[dictEvents[val] for val in list(dictColNames.keys())]+ch_names]\n",
    "    return df, raw_all, list(set(samplingFrequencyList))[0]"
   ]
  },
  {
   "cell_type": "markdown",
   "metadata": {},
   "source": [
    "### 1. Multitaper spectral estimation"
   ]
  },
  {
   "cell_type": "code",
   "execution_count": 3,
   "metadata": {},
   "outputs": [],
   "source": [
    "def multitaperSpectral(y, fs, NW=2.5,k=4):\n",
    "    N=len(y)\n",
    "    dt = 1.0/fs\n",
    "    # The multitapered method\n",
    "    [tapers, eigen] = dpss(N, NW, k)\n",
    "    Sk_complex, weights, eigenvalues=pmtm(y, e=eigen, v=tapers, NFFT=N, show=False)\n",
    "    Sk = abs(Sk_complex)**2\n",
    "    Sk = np.mean(Sk * np.transpose(weights), axis=0) * dt\n",
    "    return Sk"
   ]
  },
  {
   "cell_type": "markdown",
   "metadata": {},
   "source": [
    "### 2. Band-pass filtering"
   ]
  },
  {
   "cell_type": "code",
   "execution_count": 4,
   "metadata": {
    "id": "e4czDqxo3eD3"
   },
   "outputs": [],
   "source": [
    "def butterBandpass(lowcut, highcut, fs, order=5):\n",
    "    nyq = 0.5 * fs\n",
    "    low = lowcut / nyq\n",
    "    high = highcut / nyq\n",
    "    b, a = butter(order, [low, high], btype='band')\n",
    "    return b, a\n",
    "\n",
    "def butterBandpassFilter(data, lowcut, highcut, fs, order=5):\n",
    "    b, a = butter_bandpass(lowcut, highcut, fs, order=order)\n",
    "    y = filtfilt(b, a, data)\n",
    "    return y\n",
    "\n",
    "def dfBandpassFiltering(df,eeg_channels_of_interest,lowcut,highcut, fs, order):\n",
    "    for col in eeg_channels_of_interest:\n",
    "        df[col] = butter_bandpass_filter(df[col].values, lowcut, highcut, fs, order=5)\n",
    "    return df"
   ]
  },
  {
   "cell_type": "markdown",
   "metadata": {},
   "source": [
    "### 3. CAR filtering on Dataframe"
   ]
  },
  {
   "cell_type": "code",
   "execution_count": 5,
   "metadata": {},
   "outputs": [],
   "source": [
    "def dfCARFiltering(df, channels_interest):\n",
    "    dictData = df.to_dict(orient='list')\n",
    "    for i in range(len(df)):\n",
    "        meanVal = float(np.mean([float(dictData[col][i]) for col in channels_interest]))\n",
    "        for col in channels_interest:\n",
    "            dictData[col][i] = dictData[col][i] - meanVal\n",
    "    df = pd.DataFrame(dictData)\n",
    "    return df.copy()"
   ]
  },
  {
   "cell_type": "markdown",
   "metadata": {},
   "source": [
    "### 4. Get Chance Level"
   ]
  },
  {
   "cell_type": "code",
   "execution_count": 6,
   "metadata": {},
   "outputs": [],
   "source": [
    "def getChanceLevel(c,n,alpha):\n",
    "    '''\n",
    "    c: Number of classes\n",
    "    n: total samples\n",
    "    alpha: statistical significance level\n",
    "    '''\n",
    "    return (1/n)*binom.ppf(1-alpha, n, 1/c)"
   ]
  },
  {
   "cell_type": "markdown",
   "metadata": {},
   "source": [
    "### 5. Confidence Intervals by Bootstrapping"
   ]
  },
  {
   "cell_type": "code",
   "execution_count": 7,
   "metadata": {
    "id": "4-znvoXH3gav"
   },
   "outputs": [],
   "source": [
    "# Retrived from: http://www.jtrive.com/the-empirical-bootstrap-for-confidence-intervals-in-python.html\n",
    "def bootstrap(data, n=1000, func=np.mean):\n",
    "    \"\"\"\n",
    "    Generate `n` bootstrap samples, evaluating `func`\n",
    "    at each resampling. `bootstrap` returns a function,\n",
    "    which can be called to obtain confidence intervals\n",
    "    of interest.\n",
    "    \"\"\"\n",
    "    simulations = list()\n",
    "    sample_size = len(data)\n",
    "    xbar_init = np.mean(data)\n",
    "    for c in range(n):\n",
    "        itersample = np.random.choice(data, size=sample_size, replace=True)\n",
    "        simulations.append(func(itersample))\n",
    "    simulations.sort()\n",
    "    def ci(p):\n",
    "        \"\"\"\n",
    "        Return 2-sided symmetric confidence interval specified\n",
    "        by p.\n",
    "        \"\"\"\n",
    "        u_pval = (1+p)/2.\n",
    "        l_pval = (1-u_pval)\n",
    "        l_indx = int(np.floor(n*l_pval))\n",
    "        u_indx = int(np.floor(n*u_pval))\n",
    "        return(simulations[l_indx],simulations[u_indx])\n",
    "    return(ci)"
   ]
  },
  {
   "cell_type": "markdown",
   "metadata": {
    "id": "PtQ1tKV73iUM"
   },
   "source": [
    "## Main"
   ]
  },
  {
   "cell_type": "markdown",
   "metadata": {
    "id": "NdTbqK5Q3lMM"
   },
   "source": [
    "### 0. Prepare Representations of Epochs per patients"
   ]
  },
  {
   "cell_type": "code",
   "execution_count": 13,
   "metadata": {},
   "outputs": [
    {
     "name": "stdout",
     "output_type": "stream",
     "text": [
      "Preparing data for user:  P01\n",
      "Getting data ...\n",
      "Extracting EDF parameters from D:\\DESARROLLO_PROYECTO_DOCTORADO\\pySTMM\\examples\\P01\\P01 Run 1.gdf...\n",
      "GDF file detected\n",
      "Setting channel info structure...\n",
      "Creating raw.info structure...\n",
      "Reading 0 ... 22015  =      0.000 ...    85.996 secs...\n",
      "Extracting EDF parameters from D:\\DESARROLLO_PROYECTO_DOCTORADO\\pySTMM\\examples\\P01\\P01 Run 10.gdf...\n",
      "GDF file detected\n",
      "Setting channel info structure...\n",
      "Creating raw.info structure...\n",
      "Reading 0 ... 77823  =      0.000 ...   303.996 secs...\n",
      "Extracting EDF parameters from D:\\DESARROLLO_PROYECTO_DOCTORADO\\pySTMM\\examples\\P01\\P01 Run 11.gdf...\n",
      "GDF file detected\n",
      "Setting channel info structure...\n",
      "Creating raw.info structure...\n",
      "Reading 0 ... 77055  =      0.000 ...   300.996 secs...\n",
      "Extracting EDF parameters from D:\\DESARROLLO_PROYECTO_DOCTORADO\\pySTMM\\examples\\P01\\P01 Run 12.gdf...\n",
      "GDF file detected\n",
      "Setting channel info structure...\n",
      "Creating raw.info structure...\n",
      "Reading 0 ... 77823  =      0.000 ...   303.996 secs...\n",
      "Extracting EDF parameters from D:\\DESARROLLO_PROYECTO_DOCTORADO\\pySTMM\\examples\\P01\\P01 Run 13.gdf...\n",
      "GDF file detected\n",
      "Setting channel info structure...\n",
      "Creating raw.info structure...\n",
      "Reading 0 ... 77311  =      0.000 ...   301.996 secs...\n",
      "Extracting EDF parameters from D:\\DESARROLLO_PROYECTO_DOCTORADO\\pySTMM\\examples\\P01\\P01 Run 14.gdf...\n",
      "GDF file detected\n",
      "Setting channel info structure...\n",
      "Creating raw.info structure...\n",
      "Reading 0 ... 22015  =      0.000 ...    85.996 secs...\n",
      "Extracting EDF parameters from D:\\DESARROLLO_PROYECTO_DOCTORADO\\pySTMM\\examples\\P01\\P01 Run 15.gdf...\n",
      "GDF file detected\n",
      "Setting channel info structure...\n",
      "Creating raw.info structure...\n",
      "Reading 0 ... 23295  =      0.000 ...    90.996 secs...\n",
      "Extracting EDF parameters from D:\\DESARROLLO_PROYECTO_DOCTORADO\\pySTMM\\examples\\P01\\P01 Run 2.gdf...\n",
      "GDF file detected\n",
      "Setting channel info structure...\n",
      "Creating raw.info structure...\n",
      "Reading 0 ... 23295  =      0.000 ...    90.996 secs...\n",
      "Extracting EDF parameters from D:\\DESARROLLO_PROYECTO_DOCTORADO\\pySTMM\\examples\\P01\\P01 Run 3.gdf...\n",
      "GDF file detected\n",
      "Setting channel info structure...\n",
      "Creating raw.info structure...\n",
      "Reading 0 ... 75519  =      0.000 ...   294.996 secs...\n",
      "Extracting EDF parameters from D:\\DESARROLLO_PROYECTO_DOCTORADO\\pySTMM\\examples\\P01\\P01 Run 4.gdf...\n",
      "GDF file detected\n",
      "Setting channel info structure...\n",
      "Creating raw.info structure...\n",
      "Reading 0 ... 76543  =      0.000 ...   298.996 secs...\n",
      "Extracting EDF parameters from D:\\DESARROLLO_PROYECTO_DOCTORADO\\pySTMM\\examples\\P01\\P01 Run 5.gdf...\n",
      "GDF file detected\n",
      "Setting channel info structure...\n",
      "Creating raw.info structure...\n",
      "Reading 0 ... 76799  =      0.000 ...   299.996 secs...\n",
      "Extracting EDF parameters from D:\\DESARROLLO_PROYECTO_DOCTORADO\\pySTMM\\examples\\P01\\P01 Run 6.gdf...\n",
      "GDF file detected\n",
      "Setting channel info structure...\n",
      "Creating raw.info structure...\n",
      "Reading 0 ... 76031  =      0.000 ...   296.996 secs...\n",
      "Extracting EDF parameters from D:\\DESARROLLO_PROYECTO_DOCTORADO\\pySTMM\\examples\\P01\\P01 Run 7.gdf...\n",
      "GDF file detected\n",
      "Setting channel info structure...\n",
      "Creating raw.info structure...\n",
      "Reading 0 ... 77055  =      0.000 ...   300.996 secs...\n",
      "Extracting EDF parameters from D:\\DESARROLLO_PROYECTO_DOCTORADO\\pySTMM\\examples\\P01\\P01 Run 8.gdf...\n",
      "GDF file detected\n",
      "Setting channel info structure...\n",
      "Creating raw.info structure...\n",
      "Reading 0 ... 22015  =      0.000 ...    85.996 secs...\n",
      "Extracting EDF parameters from D:\\DESARROLLO_PROYECTO_DOCTORADO\\pySTMM\\examples\\P01\\P01 Run 9.gdf...\n",
      "GDF file detected\n",
      "Setting channel info structure...\n",
      "Creating raw.info structure...\n",
      "Reading 0 ... 23295  =      0.000 ...    90.996 secs...\n",
      "Extracting EDF parameters from D:\\DESARROLLO_PROYECTO_DOCTORADO\\pySTMM\\examples\\P01\\P01 Run 1.gdf...\n",
      "GDF file detected\n",
      "Setting channel info structure...\n",
      "Creating raw.info structure...\n",
      "Used Annotations descriptions: ['33536', '768', '785']\n",
      "Extracting EDF parameters from D:\\DESARROLLO_PROYECTO_DOCTORADO\\pySTMM\\examples\\P01\\P01 Run 2.gdf...\n",
      "GDF file detected\n",
      "Setting channel info structure...\n",
      "Creating raw.info structure...\n",
      "Used Annotations descriptions: ['33536', '33554', '768', '785', '786']\n",
      "Extracting EDF parameters from D:\\DESARROLLO_PROYECTO_DOCTORADO\\pySTMM\\examples\\P01\\P01 Run 3.gdf...\n",
      "GDF file detected\n",
      "Setting channel info structure...\n",
      "Creating raw.info structure...\n",
      "Used Annotations descriptions: ['33536', '33544', '33545', '33547', '33554', '33693', '33694', '768', '776', '777', '779', '785', '786', '925', '926']\n",
      "Extracting EDF parameters from D:\\DESARROLLO_PROYECTO_DOCTORADO\\pySTMM\\examples\\P01\\P01 Run 4.gdf...\n",
      "GDF file detected\n",
      "Setting channel info structure...\n",
      "Creating raw.info structure...\n",
      "Used Annotations descriptions: ['33536', '33544', '33545', '33547', '33554', '33693', '33694', '768', '776', '777', '779', '785', '786', '925', '926']\n",
      "Extracting EDF parameters from D:\\DESARROLLO_PROYECTO_DOCTORADO\\pySTMM\\examples\\P01\\P01 Run 5.gdf...\n",
      "GDF file detected\n",
      "Setting channel info structure...\n",
      "Creating raw.info structure...\n",
      "Used Annotations descriptions: ['33536', '33544', '33545', '33547', '33554', '33693', '33694', '768', '776', '777', '779', '785', '786', '925', '926']\n",
      "Extracting EDF parameters from D:\\DESARROLLO_PROYECTO_DOCTORADO\\pySTMM\\examples\\P01\\P01 Run 6.gdf...\n",
      "GDF file detected\n",
      "Setting channel info structure...\n",
      "Creating raw.info structure...\n",
      "Used Annotations descriptions: ['33536', '33544', '33545', '33547', '33554', '33693', '33694', '768', '776', '777', '779', '785', '786', '925', '926']\n",
      "Extracting EDF parameters from D:\\DESARROLLO_PROYECTO_DOCTORADO\\pySTMM\\examples\\P01\\P01 Run 7.gdf...\n",
      "GDF file detected\n",
      "Setting channel info structure...\n",
      "Creating raw.info structure...\n",
      "Used Annotations descriptions: ['33536', '33544', '33545', '33547', '33554', '33693', '33694', '768', '776', '777', '779', '785', '786', '925', '926']\n",
      "Extracting EDF parameters from D:\\DESARROLLO_PROYECTO_DOCTORADO\\pySTMM\\examples\\P01\\P01 Run 8.gdf...\n",
      "GDF file detected\n",
      "Setting channel info structure...\n",
      "Creating raw.info structure...\n",
      "Used Annotations descriptions: ['33536', '768', '785']\n",
      "Extracting EDF parameters from D:\\DESARROLLO_PROYECTO_DOCTORADO\\pySTMM\\examples\\P01\\P01 Run 9.gdf...\n",
      "GDF file detected\n",
      "Setting channel info structure...\n",
      "Creating raw.info structure...\n",
      "Used Annotations descriptions: ['33536', '33554', '768', '785', '786']\n",
      "Extracting EDF parameters from D:\\DESARROLLO_PROYECTO_DOCTORADO\\pySTMM\\examples\\P01\\P01 Run 10.gdf...\n",
      "GDF file detected\n",
      "Setting channel info structure...\n",
      "Creating raw.info structure...\n",
      "Used Annotations descriptions: ['33536', '33544', '33545', '33547', '33554', '33693', '33694', '768', '776', '777', '779', '785', '786', '925', '926']\n",
      "Extracting EDF parameters from D:\\DESARROLLO_PROYECTO_DOCTORADO\\pySTMM\\examples\\P01\\P01 Run 11.gdf...\n",
      "GDF file detected\n",
      "Setting channel info structure...\n",
      "Creating raw.info structure...\n",
      "Used Annotations descriptions: ['33536', '33544', '33545', '33547', '33554', '33693', '33694', '768', '776', '777', '779', '785', '786', '925', '926']\n",
      "Extracting EDF parameters from D:\\DESARROLLO_PROYECTO_DOCTORADO\\pySTMM\\examples\\P01\\P01 Run 12.gdf...\n",
      "GDF file detected\n",
      "Setting channel info structure...\n",
      "Creating raw.info structure...\n",
      "Used Annotations descriptions: ['33536', '33544', '33545', '33547', '33554', '33693', '33694', '768', '776', '777', '779', '785', '786', '925', '926']\n",
      "Extracting EDF parameters from D:\\DESARROLLO_PROYECTO_DOCTORADO\\pySTMM\\examples\\P01\\P01 Run 13.gdf...\n",
      "GDF file detected\n",
      "Setting channel info structure...\n",
      "Creating raw.info structure...\n",
      "Used Annotations descriptions: ['33536', '33544', '33545', '33547', '33554', '33693', '33694', '768', '776', '777', '779', '785', '786', '925', '926']\n",
      "Extracting EDF parameters from D:\\DESARROLLO_PROYECTO_DOCTORADO\\pySTMM\\examples\\P01\\P01 Run 14.gdf...\n",
      "GDF file detected\n",
      "Setting channel info structure...\n",
      "Creating raw.info structure...\n",
      "Used Annotations descriptions: ['33536', '768', '785']\n",
      "Extracting EDF parameters from D:\\DESARROLLO_PROYECTO_DOCTORADO\\pySTMM\\examples\\P01\\P01 Run 15.gdf...\n",
      "GDF file detected\n",
      "Setting channel info structure...\n",
      "Creating raw.info structure...\n",
      "Used Annotations descriptions: ['33536', '33554', '768', '785', '786']\n",
      "Creating representations for REST...\n"
     ]
    },
    {
     "name": "stdout",
     "output_type": "stream",
     "text": [
      "Creating representations for , HandOpenClassCue ...\n",
      "Creating representations for , PalmarGraspClassCue ...\n",
      "Creating representations for , LateralGraspClassCue ...\n",
      "Time elapsed:  6.977716732025146  min.\n",
      "Preparing data for user:  P02\n",
      "Getting data ...\n",
      "Extracting EDF parameters from D:\\DESARROLLO_PROYECTO_DOCTORADO\\pySTMM\\examples\\P02\\P02 Run 1.gdf...\n",
      "GDF file detected\n",
      "Setting channel info structure...\n",
      "Creating raw.info structure...\n",
      "Reading 0 ... 22015  =      0.000 ...    85.996 secs...\n",
      "Extracting EDF parameters from D:\\DESARROLLO_PROYECTO_DOCTORADO\\pySTMM\\examples\\P02\\P02 Run 10.gdf...\n",
      "GDF file detected\n",
      "Setting channel info structure...\n",
      "Creating raw.info structure...\n",
      "Reading 0 ... 78847  =      0.000 ...   307.996 secs...\n",
      "Extracting EDF parameters from D:\\DESARROLLO_PROYECTO_DOCTORADO\\pySTMM\\examples\\P02\\P02 Run 11.gdf...\n",
      "GDF file detected\n",
      "Setting channel info structure...\n",
      "Creating raw.info structure...\n",
      "Reading 0 ... 77055  =      0.000 ...   300.996 secs...\n",
      "Extracting EDF parameters from D:\\DESARROLLO_PROYECTO_DOCTORADO\\pySTMM\\examples\\P02\\P02 Run 12.gdf...\n",
      "GDF file detected\n",
      "Setting channel info structure...\n",
      "Creating raw.info structure...\n",
      "Reading 0 ... 77311  =      0.000 ...   301.996 secs...\n",
      "Extracting EDF parameters from D:\\DESARROLLO_PROYECTO_DOCTORADO\\pySTMM\\examples\\P02\\P02 Run 13.gdf...\n",
      "GDF file detected\n",
      "Setting channel info structure...\n",
      "Creating raw.info structure...\n",
      "Reading 0 ... 77055  =      0.000 ...   300.996 secs...\n",
      "Extracting EDF parameters from D:\\DESARROLLO_PROYECTO_DOCTORADO\\pySTMM\\examples\\P02\\P02 Run 14.gdf...\n",
      "GDF file detected\n",
      "Setting channel info structure...\n",
      "Creating raw.info structure...\n",
      "Reading 0 ... 22015  =      0.000 ...    85.996 secs...\n",
      "Extracting EDF parameters from D:\\DESARROLLO_PROYECTO_DOCTORADO\\pySTMM\\examples\\P02\\P02 Run 15.gdf...\n",
      "GDF file detected\n",
      "Setting channel info structure...\n",
      "Creating raw.info structure...\n",
      "Reading 0 ... 23295  =      0.000 ...    90.996 secs...\n",
      "Extracting EDF parameters from D:\\DESARROLLO_PROYECTO_DOCTORADO\\pySTMM\\examples\\P02\\P02 Run 2.gdf...\n",
      "GDF file detected\n",
      "Setting channel info structure...\n",
      "Creating raw.info structure...\n",
      "Reading 0 ... 23295  =      0.000 ...    90.996 secs...\n",
      "Extracting EDF parameters from D:\\DESARROLLO_PROYECTO_DOCTORADO\\pySTMM\\examples\\P02\\P02 Run 3.gdf...\n",
      "GDF file detected\n",
      "Setting channel info structure...\n",
      "Creating raw.info structure...\n",
      "Reading 0 ... 77055  =      0.000 ...   300.996 secs...\n",
      "Extracting EDF parameters from D:\\DESARROLLO_PROYECTO_DOCTORADO\\pySTMM\\examples\\P02\\P02 Run 4.gdf...\n",
      "GDF file detected\n",
      "Setting channel info structure...\n",
      "Creating raw.info structure...\n",
      "Reading 0 ... 77823  =      0.000 ...   303.996 secs...\n",
      "Extracting EDF parameters from D:\\DESARROLLO_PROYECTO_DOCTORADO\\pySTMM\\examples\\P02\\P02 Run 5.gdf...\n",
      "GDF file detected\n",
      "Setting channel info structure...\n",
      "Creating raw.info structure...\n",
      "Reading 0 ... 77055  =      0.000 ...   300.996 secs...\n",
      "Extracting EDF parameters from D:\\DESARROLLO_PROYECTO_DOCTORADO\\pySTMM\\examples\\P02\\P02 Run 6.gdf...\n",
      "GDF file detected\n",
      "Setting channel info structure...\n",
      "Creating raw.info structure...\n",
      "Reading 0 ... 77823  =      0.000 ...   303.996 secs...\n",
      "Extracting EDF parameters from D:\\DESARROLLO_PROYECTO_DOCTORADO\\pySTMM\\examples\\P02\\P02 Run 7.gdf...\n",
      "GDF file detected\n",
      "Setting channel info structure...\n",
      "Creating raw.info structure...\n",
      "Reading 0 ... 77311  =      0.000 ...   301.996 secs...\n",
      "Extracting EDF parameters from D:\\DESARROLLO_PROYECTO_DOCTORADO\\pySTMM\\examples\\P02\\P02 Run 8.gdf...\n",
      "GDF file detected\n",
      "Setting channel info structure...\n",
      "Creating raw.info structure...\n",
      "Reading 0 ... 22015  =      0.000 ...    85.996 secs...\n",
      "Extracting EDF parameters from D:\\DESARROLLO_PROYECTO_DOCTORADO\\pySTMM\\examples\\P02\\P02 Run 9.gdf...\n",
      "GDF file detected\n",
      "Setting channel info structure...\n",
      "Creating raw.info structure...\n",
      "Reading 0 ... 23295  =      0.000 ...    90.996 secs...\n",
      "Extracting EDF parameters from D:\\DESARROLLO_PROYECTO_DOCTORADO\\pySTMM\\examples\\P02\\P02 Run 1.gdf...\n",
      "GDF file detected\n",
      "Setting channel info structure...\n",
      "Creating raw.info structure...\n",
      "Used Annotations descriptions: ['33536', '768', '785']\n",
      "Extracting EDF parameters from D:\\DESARROLLO_PROYECTO_DOCTORADO\\pySTMM\\examples\\P02\\P02 Run 2.gdf...\n",
      "GDF file detected\n",
      "Setting channel info structure...\n",
      "Creating raw.info structure...\n",
      "Used Annotations descriptions: ['33536', '33554', '768', '785', '786']\n",
      "Extracting EDF parameters from D:\\DESARROLLO_PROYECTO_DOCTORADO\\pySTMM\\examples\\P02\\P02 Run 3.gdf...\n",
      "GDF file detected\n",
      "Setting channel info structure...\n",
      "Creating raw.info structure...\n",
      "Used Annotations descriptions: ['33536', '33544', '33545', '33547', '33554', '33693', '33694', '768', '776', '777', '779', '785', '786', '925', '926']\n",
      "Extracting EDF parameters from D:\\DESARROLLO_PROYECTO_DOCTORADO\\pySTMM\\examples\\P02\\P02 Run 4.gdf...\n",
      "GDF file detected\n",
      "Setting channel info structure...\n",
      "Creating raw.info structure...\n",
      "Used Annotations descriptions: ['33536', '33544', '33545', '33547', '33554', '33693', '33694', '768', '776', '777', '779', '785', '786', '925', '926']\n",
      "Extracting EDF parameters from D:\\DESARROLLO_PROYECTO_DOCTORADO\\pySTMM\\examples\\P02\\P02 Run 5.gdf...\n",
      "GDF file detected\n",
      "Setting channel info structure...\n",
      "Creating raw.info structure...\n",
      "Used Annotations descriptions: ['33536', '33544', '33545', '33547', '33554', '33693', '33694', '768', '776', '777', '779', '785', '786', '925', '926']\n",
      "Extracting EDF parameters from D:\\DESARROLLO_PROYECTO_DOCTORADO\\pySTMM\\examples\\P02\\P02 Run 6.gdf...\n",
      "GDF file detected\n",
      "Setting channel info structure...\n",
      "Creating raw.info structure...\n",
      "Used Annotations descriptions: ['33536', '33544', '33545', '33547', '33554', '33693', '33694', '768', '776', '777', '779', '785', '786', '925', '926']\n",
      "Extracting EDF parameters from D:\\DESARROLLO_PROYECTO_DOCTORADO\\pySTMM\\examples\\P02\\P02 Run 7.gdf...\n",
      "GDF file detected\n",
      "Setting channel info structure...\n",
      "Creating raw.info structure...\n",
      "Used Annotations descriptions: ['33536', '33544', '33545', '33547', '33554', '33693', '33694', '768', '776', '777', '779', '785', '786', '925', '926']\n",
      "Extracting EDF parameters from D:\\DESARROLLO_PROYECTO_DOCTORADO\\pySTMM\\examples\\P02\\P02 Run 8.gdf...\n",
      "GDF file detected\n",
      "Setting channel info structure...\n",
      "Creating raw.info structure...\n",
      "Used Annotations descriptions: ['33536', '768', '785']\n",
      "Extracting EDF parameters from D:\\DESARROLLO_PROYECTO_DOCTORADO\\pySTMM\\examples\\P02\\P02 Run 9.gdf...\n",
      "GDF file detected\n",
      "Setting channel info structure...\n",
      "Creating raw.info structure...\n",
      "Used Annotations descriptions: ['33536', '33554', '768', '785', '786']\n",
      "Extracting EDF parameters from D:\\DESARROLLO_PROYECTO_DOCTORADO\\pySTMM\\examples\\P02\\P02 Run 10.gdf...\n",
      "GDF file detected\n",
      "Setting channel info structure...\n",
      "Creating raw.info structure...\n",
      "Used Annotations descriptions: ['33536', '33544', '33545', '33547', '33554', '33693', '33694', '768', '776', '777', '779', '785', '786', '925', '926']\n",
      "Extracting EDF parameters from D:\\DESARROLLO_PROYECTO_DOCTORADO\\pySTMM\\examples\\P02\\P02 Run 11.gdf...\n",
      "GDF file detected\n",
      "Setting channel info structure...\n",
      "Creating raw.info structure...\n",
      "Used Annotations descriptions: ['33536', '33544', '33545', '33547', '33554', '33693', '33694', '768', '776', '777', '779', '785', '786', '925', '926']\n",
      "Extracting EDF parameters from D:\\DESARROLLO_PROYECTO_DOCTORADO\\pySTMM\\examples\\P02\\P02 Run 12.gdf...\n",
      "GDF file detected\n",
      "Setting channel info structure...\n",
      "Creating raw.info structure...\n",
      "Used Annotations descriptions: ['33536', '33544', '33545', '33547', '33554', '33693', '33694', '768', '776', '777', '779', '785', '786', '925', '926']\n",
      "Extracting EDF parameters from D:\\DESARROLLO_PROYECTO_DOCTORADO\\pySTMM\\examples\\P02\\P02 Run 13.gdf...\n",
      "GDF file detected\n",
      "Setting channel info structure...\n",
      "Creating raw.info structure...\n",
      "Used Annotations descriptions: ['33536', '33544', '33545', '33547', '33554', '33693', '33694', '768', '776', '777', '779', '785', '786', '925', '926']\n",
      "Extracting EDF parameters from D:\\DESARROLLO_PROYECTO_DOCTORADO\\pySTMM\\examples\\P02\\P02 Run 14.gdf...\n",
      "GDF file detected\n",
      "Setting channel info structure...\n",
      "Creating raw.info structure...\n",
      "Used Annotations descriptions: ['33536', '768', '785']\n",
      "Extracting EDF parameters from D:\\DESARROLLO_PROYECTO_DOCTORADO\\pySTMM\\examples\\P02\\P02 Run 15.gdf...\n"
     ]
    },
    {
     "name": "stdout",
     "output_type": "stream",
     "text": [
      "GDF file detected\n",
      "Setting channel info structure...\n",
      "Creating raw.info structure...\n",
      "Used Annotations descriptions: ['33536', '33554', '768', '785', '786']\n"
     ]
    },
    {
     "ename": "KeyboardInterrupt",
     "evalue": "",
     "output_type": "error",
     "traceback": [
      "\u001b[1;31m---------------------------------------------------------------------------\u001b[0m",
      "\u001b[1;31mKeyboardInterrupt\u001b[0m                         Traceback (most recent call last)",
      "\u001b[1;32m<ipython-input-13-b09a53a0997c>\u001b[0m in \u001b[0;36m<module>\u001b[1;34m()\u001b[0m\n\u001b[0;32m     45\u001b[0m \u001b[1;33m\u001b[0m\u001b[0m\n\u001b[0;32m     46\u001b[0m     \u001b[0mdfFiltered\u001b[0m \u001b[1;33m=\u001b[0m \u001b[0mdf\u001b[0m\u001b[1;33m[\u001b[0m\u001b[0madditionalCols\u001b[0m\u001b[1;33m+\u001b[0m\u001b[0mmovementTypes\u001b[0m\u001b[1;33m+\u001b[0m\u001b[0meegChannels\u001b[0m\u001b[1;33m]\u001b[0m\u001b[1;33m\u001b[0m\u001b[0m\n\u001b[1;32m---> 47\u001b[1;33m     \u001b[0mdfFiltered\u001b[0m \u001b[1;33m=\u001b[0m \u001b[0mdfCARFiltering\u001b[0m\u001b[1;33m(\u001b[0m\u001b[0mdfFiltered\u001b[0m\u001b[1;33m,\u001b[0m \u001b[0meegChannels\u001b[0m\u001b[1;33m)\u001b[0m\u001b[1;33m\u001b[0m\u001b[0m\n\u001b[0m\u001b[0;32m     48\u001b[0m \u001b[1;33m\u001b[0m\u001b[0m\n\u001b[0;32m     49\u001b[0m     \u001b[1;31m### 1. Getting REST EEG Epochs\u001b[0m\u001b[1;33m\u001b[0m\u001b[1;33m\u001b[0m\u001b[0m\n",
      "\u001b[1;32m<ipython-input-5-0523dccc8423>\u001b[0m in \u001b[0;36mdfCARFiltering\u001b[1;34m(df, channels_interest)\u001b[0m\n\u001b[0;32m      2\u001b[0m     \u001b[0mdictData\u001b[0m \u001b[1;33m=\u001b[0m \u001b[0mdf\u001b[0m\u001b[1;33m.\u001b[0m\u001b[0mto_dict\u001b[0m\u001b[1;33m(\u001b[0m\u001b[0morient\u001b[0m\u001b[1;33m=\u001b[0m\u001b[1;34m'list'\u001b[0m\u001b[1;33m)\u001b[0m\u001b[1;33m\u001b[0m\u001b[0m\n\u001b[0;32m      3\u001b[0m     \u001b[1;32mfor\u001b[0m \u001b[0mi\u001b[0m \u001b[1;32min\u001b[0m \u001b[0mrange\u001b[0m\u001b[1;33m(\u001b[0m\u001b[0mlen\u001b[0m\u001b[1;33m(\u001b[0m\u001b[0mdf\u001b[0m\u001b[1;33m)\u001b[0m\u001b[1;33m)\u001b[0m\u001b[1;33m:\u001b[0m\u001b[1;33m\u001b[0m\u001b[0m\n\u001b[1;32m----> 4\u001b[1;33m         \u001b[0mmeanVal\u001b[0m \u001b[1;33m=\u001b[0m \u001b[0mfloat\u001b[0m\u001b[1;33m(\u001b[0m\u001b[0mnp\u001b[0m\u001b[1;33m.\u001b[0m\u001b[0mmean\u001b[0m\u001b[1;33m(\u001b[0m\u001b[1;33m[\u001b[0m\u001b[0mfloat\u001b[0m\u001b[1;33m(\u001b[0m\u001b[0mdictData\u001b[0m\u001b[1;33m[\u001b[0m\u001b[0mcol\u001b[0m\u001b[1;33m]\u001b[0m\u001b[1;33m[\u001b[0m\u001b[0mi\u001b[0m\u001b[1;33m]\u001b[0m\u001b[1;33m)\u001b[0m \u001b[1;32mfor\u001b[0m \u001b[0mcol\u001b[0m \u001b[1;32min\u001b[0m \u001b[0mchannels_interest\u001b[0m\u001b[1;33m]\u001b[0m\u001b[1;33m)\u001b[0m\u001b[1;33m)\u001b[0m\u001b[1;33m\u001b[0m\u001b[0m\n\u001b[0m\u001b[0;32m      5\u001b[0m         \u001b[1;32mfor\u001b[0m \u001b[0mcol\u001b[0m \u001b[1;32min\u001b[0m \u001b[0mchannels_interest\u001b[0m\u001b[1;33m:\u001b[0m\u001b[1;33m\u001b[0m\u001b[0m\n\u001b[0;32m      6\u001b[0m             \u001b[0mdictData\u001b[0m\u001b[1;33m[\u001b[0m\u001b[0mcol\u001b[0m\u001b[1;33m]\u001b[0m\u001b[1;33m[\u001b[0m\u001b[0mi\u001b[0m\u001b[1;33m]\u001b[0m \u001b[1;33m=\u001b[0m \u001b[0mdictData\u001b[0m\u001b[1;33m[\u001b[0m\u001b[0mcol\u001b[0m\u001b[1;33m]\u001b[0m\u001b[1;33m[\u001b[0m\u001b[0mi\u001b[0m\u001b[1;33m]\u001b[0m \u001b[1;33m-\u001b[0m \u001b[0mmeanVal\u001b[0m\u001b[1;33m\u001b[0m\u001b[0m\n",
      "\u001b[1;32m<__array_function__ internals>\u001b[0m in \u001b[0;36mmean\u001b[1;34m(*args, **kwargs)\u001b[0m\n",
      "\u001b[1;32mc:\\python36\\lib\\site-packages\\numpy\\core\\fromnumeric.py\u001b[0m in \u001b[0;36mmean\u001b[1;34m(a, axis, dtype, out, keepdims)\u001b[0m\n\u001b[0;32m   3255\u001b[0m \u001b[1;33m\u001b[0m\u001b[0m\n\u001b[0;32m   3256\u001b[0m     return _methods._mean(a, axis=axis, dtype=dtype,\n\u001b[1;32m-> 3257\u001b[1;33m                           out=out, **kwargs)\n\u001b[0m\u001b[0;32m   3258\u001b[0m \u001b[1;33m\u001b[0m\u001b[0m\n\u001b[0;32m   3259\u001b[0m \u001b[1;33m\u001b[0m\u001b[0m\n",
      "\u001b[1;32mc:\\python36\\lib\\site-packages\\numpy\\core\\_methods.py\u001b[0m in \u001b[0;36m_mean\u001b[1;34m(a, axis, dtype, out, keepdims)\u001b[0m\n\u001b[0;32m    159\u001b[0m             \u001b[0mret\u001b[0m \u001b[1;33m=\u001b[0m \u001b[0marr\u001b[0m\u001b[1;33m.\u001b[0m\u001b[0mdtype\u001b[0m\u001b[1;33m.\u001b[0m\u001b[0mtype\u001b[0m\u001b[1;33m(\u001b[0m\u001b[0mret\u001b[0m \u001b[1;33m/\u001b[0m \u001b[0mrcount\u001b[0m\u001b[1;33m)\u001b[0m\u001b[1;33m\u001b[0m\u001b[0m\n\u001b[0;32m    160\u001b[0m         \u001b[1;32melse\u001b[0m\u001b[1;33m:\u001b[0m\u001b[1;33m\u001b[0m\u001b[0m\n\u001b[1;32m--> 161\u001b[1;33m             \u001b[0mret\u001b[0m \u001b[1;33m=\u001b[0m \u001b[0mret\u001b[0m\u001b[1;33m.\u001b[0m\u001b[0mdtype\u001b[0m\u001b[1;33m.\u001b[0m\u001b[0mtype\u001b[0m\u001b[1;33m(\u001b[0m\u001b[0mret\u001b[0m \u001b[1;33m/\u001b[0m \u001b[0mrcount\u001b[0m\u001b[1;33m)\u001b[0m\u001b[1;33m\u001b[0m\u001b[0m\n\u001b[0m\u001b[0;32m    162\u001b[0m     \u001b[1;32melse\u001b[0m\u001b[1;33m:\u001b[0m\u001b[1;33m\u001b[0m\u001b[0m\n\u001b[0;32m    163\u001b[0m         \u001b[0mret\u001b[0m \u001b[1;33m=\u001b[0m \u001b[0mret\u001b[0m \u001b[1;33m/\u001b[0m \u001b[0mrcount\u001b[0m\u001b[1;33m\u001b[0m\u001b[0m\n",
      "\u001b[1;31mKeyboardInterrupt\u001b[0m: "
     ]
    }
   ],
   "source": [
    "users = ['P01','P02','P03','P04','P05','P06','P07','P08','P09','P10']\n",
    "totalUsers = len(users)\n",
    "\n",
    "eegChannels = ['AFz', 'F3', 'F1', 'Fz', 'F2', 'F4', 'FFC5h', 'FFC3h', 'FFC1h', 'FFC2h', \n",
    "                'FFC4h', 'FFC6h', 'FC5', 'FC3', 'FC1', 'FCz', 'FC2', 'FC4', 'FC6', 'FCC5h', \n",
    "                'FCC3h', 'FCC1h', 'FCC2h', 'FCC4h', 'FCC6h', 'C5', 'C3', 'C1', 'Cz', 'C2', \n",
    "                'C4', 'C6', 'CCP5h', 'CCP3h', 'CCP1h', 'CCP2h', 'CCP4h', 'CCP6h', 'CP5', \n",
    "                'CP3', 'CP1', 'CPz', 'CP2', 'CP4', 'CP6', 'CPP5h', 'CPP3h', 'CPP1h', 'CPP2h', \n",
    "                'CPP4h', 'CPP6h', 'P5', 'P3', 'P1', 'Pz', 'P2', 'P4', 'P6', 'PPO1h', 'PPO2h', 'POz']\n",
    "\n",
    "movementTypes = ['HandOpenClassCue', 'PalmarGraspClassCue','LateralGraspClassCue']\n",
    "classNames  = ['Rest'] +[val.replace('ClassCue','') for val in movementTypes]\n",
    "additionalCols = ['Run','TypeRun','TrialStart','Beep','FixationCross']\n",
    "\n",
    "tmin = -2.0\n",
    "tmax = 3.0\n",
    "NW = 2.5\n",
    "totalTapers = 4\n",
    "\n",
    "representationChannelTimeEpochs = []\n",
    "representationChannelChanelTimeEpochs = []\n",
    "representationChannelFrequencyEpochs = []\n",
    "representationChannelChannelFrequencyEpochs = []\n",
    "\n",
    "representationChannelTimeLabels = []\n",
    "representationChannelChanelTimeLabels = []\n",
    "representationChannelFrequencyLabels = []\n",
    "representationChannelChannelFrequencyLabels = []\n",
    "\n",
    "for indexUser in range(totalUsers):\n",
    "    startProcessing = time.time()\n",
    "    print('Preparing data for user: ', users[indexUser])\n",
    "    print('Getting data ...')\n",
    "    df, rawMNE, sfreq  = getEEGData(URL='http://bnci-horizon-2020.eu/database/data-sets/001-2019/', User=users[indexUser])\n",
    "    \n",
    "    listChannelTimeEpochs = []\n",
    "    listChannelChanelTimeEpochs = []\n",
    "    listChannelFrequencyEpochs = []\n",
    "    listChannelChannelFrequencyEpochs = []\n",
    "    \n",
    "    listChannelTimeLabels = []\n",
    "    listChannelChanelTimeLabels = []\n",
    "    listChannelFrequencyLabels = []\n",
    "    listChannelChannelFrequencyLabels = []\n",
    "    \n",
    "    dfFiltered = df[additionalCols+movementTypes+eegChannels]\n",
    "    dfFiltered = dfCARFiltering(dfFiltered, eegChannels)\n",
    "\n",
    "    ### 1. Getting REST EEG Epochs\n",
    "    # Filter by TypeRun equal to Rest\n",
    "    dfRest = dfFiltered[dfFiltered['TypeRun']=='Rest']\n",
    "    dfRest.reset_index(inplace=True)\n",
    "    #Signal rest\n",
    "    signalRest = dfRest['TrialStart'].values.tolist()\n",
    "    #Retrieve indexes where signal equals 1\n",
    "    indexesOnes = [i for i,val in enumerate(signalRest) if val == 1]\n",
    "    timesOnes = [val/(sfreq) for val in indexesOnes]\n",
    "    consecutiveOnes = [timesOnes[i+1]-timesOnes[i] for i,val in enumerate(timesOnes) if i+1 < len(timesOnes)]\n",
    "\n",
    "    #Estimating start and end for every rest epoch\n",
    "    totalEpochs = 72\n",
    "    epochsPerOnes = round(totalEpochs/len(indexesOnes))\n",
    "    starts = []\n",
    "    ends = []\n",
    "    startstimes = []\n",
    "    endstimes = []\n",
    "    offset = 0.5*sfreq # One half second\n",
    "    totalSamples = round(1 + ((tmax - tmin)*sfreq))\n",
    "    steps = round(0.5*totalSamples)\n",
    "\n",
    "    for starIndexOnes in indexesOnes:\n",
    "        for i in range(epochsPerOnes):\n",
    "            start = round(starIndexOnes+offset+(i*steps))\n",
    "            starts.append(start)\n",
    "            ends.append(start+totalSamples)\n",
    "\n",
    "    #Transforming from sample to time\n",
    "    startstimes = [val/(sfreq) for val in starts]\n",
    "    endstimes = [val/(sfreq) for val in ends]\n",
    "\n",
    "    epochsChannelTimeRest = []\n",
    "    epochsChannelChannelRest = []\n",
    "    epochsChannelFrequencyRest = []\n",
    "    epochsChannelChannelFrequencyRest = []\n",
    "    labelsRestEpochs = []\n",
    "    print('Creating representations for REST...')\n",
    "    for start,end in zip(starts,ends):\n",
    "        epoch = dfRest.loc[start:end,eegChannels].values.T #Ch-Time Representation\n",
    "        epochCov = np.cov(epoch)                                        #Ch-Ch (time) Representation\n",
    "        epochMultitaper = np.zeros(epoch.shape)                         #Ch-Freq Representation\n",
    "        for chann in range(epoch.shape[0]):\n",
    "            r = multitaperSpectral(y=epoch[chann,:], fs=sfreq, NW=NW,k=totalTapers)\n",
    "            epochMultitaper[chann,:] = r\n",
    "        epochMultitaperCov = np.cov(epochMultitaper)                    #Ch-Ch (Freq.) Representation\n",
    "        \n",
    "        epochsChannelTimeRest.append(epoch.copy())\n",
    "        epochsChannelChannelRest.append(epochCov.copy())\n",
    "        epochsChannelFrequencyRest.append(epochMultitaper.copy())\n",
    "        epochsChannelChannelFrequencyRest.append(epochMultitaperCov.copy())\n",
    "        labelsRestEpochs.append(0)\n",
    "\n",
    "    epochsChannelTimeRest = np.stack(epochsChannelTimeRest,axis=0)\n",
    "    epochsChannelChannelRest = np.stack(epochsChannelChannelRest,axis=0)\n",
    "    epochsChannelFrequencyRest = np.stack(epochsChannelFrequencyRest,axis=0)\n",
    "    epochsChannelChannelFrequencyRest = np.stack(epochsChannelChannelFrequencyRest,axis=0)\n",
    "    labelsRestEpochs = np.array(labelsRestEpochs)\n",
    "\n",
    "    listChannelTimeEpochs.append(epochsChannelTimeRest.copy())\n",
    "    listChannelChanelTimeEpochs.append(epochsChannelChannelRest.copy())\n",
    "    listChannelFrequencyEpochs.append(epochsChannelFrequencyRest.copy())\n",
    "    listChannelChannelFrequencyEpochs.append(epochsChannelChannelFrequencyRest.copy())\n",
    "    listChannelTimeLabels.append(labelsRestEpochs.copy())\n",
    "    listChannelChanelTimeLabels.append(labelsRestEpochs.copy())\n",
    "    listChannelFrequencyLabels.append(labelsRestEpochs.copy())\n",
    "    listChannelChannelFrequencyLabels.append(labelsRestEpochs.copy())\n",
    "    \n",
    "\n",
    "    ### 2. Getting MOTOR ATTEMPT EEG Epochs\n",
    "    for it, mov in enumerate(movementTypes):\n",
    "        print('Creating representations for ,',mov,'...')\n",
    "        dfMA = dfFiltered[dfFiltered['TypeRun']=='AttemptedMovement']\n",
    "        dfMA.reset_index(inplace=True)\n",
    "        #Signal MA\n",
    "        signalMA = dfMA[mov].values.tolist()\n",
    "        #Retrieve indexes where signal equals 1\n",
    "        indexesOnes = [i for i,val in enumerate(signalMA) if val == 1]\n",
    "        timesOnes = [val/(sfreq) for val in indexesOnes]\n",
    "        consecutiveOnes = [timesOnes[i+1]-timesOnes[i] for i,val in enumerate(timesOnes) if i+1 < len(timesOnes)]\n",
    "\n",
    "        #Estimating start and end for every epoch\n",
    "        totalSamples = round(1 + ((tmax - tmin)*sfreq))\n",
    "        starts = []\n",
    "        ends = []\n",
    "        startstimes = []\n",
    "        endstimes = []\n",
    "\n",
    "        for starIndexOnes in indexesOnes:\n",
    "            start = starIndexOnes + sfreq*tmin\n",
    "            starts.append(start)\n",
    "            ends.append(start+totalSamples)\n",
    "\n",
    "        #Transforming from sample to time\n",
    "        startstimes = [val/(sfreq) for val in starts]\n",
    "        endstimes = [val/(sfreq) for val in ends]\n",
    "\n",
    "        epochsChannelTimeMA = []\n",
    "        epochsChannelChannelMA = []\n",
    "        epochsChannelFrequencyMA = []\n",
    "        epochsChannelChannelFrequencyMA = []\n",
    "        labelsMAEpochs = []\n",
    "\n",
    "        for start,end in zip(starts,ends):\n",
    "            epoch = dfMA.loc[start:end,eegChannels].values.T #Ch-Time Representation\n",
    "            epochCov = np.cov(epoch)                                        #Ch-Ch (time) Representation\n",
    "            epochMultitaper = np.zeros(epoch.shape)                         #Ch-Freq Representation\n",
    "            for chann in range(epoch.shape[0]):\n",
    "                r = multitaperSpectral(y=epoch[chann,:], fs=sfreq, NW=NW,k=totalTapers)\n",
    "                epochMultitaper[chann,:] = r\n",
    "            epochMultitaperCov = np.cov(epochMultitaper)                    #Ch-Ch (Freq.) Representation\n",
    "\n",
    "            epochsChannelTimeMA.append(epoch.copy())\n",
    "            epochsChannelChannelMA.append(epochCov.copy())\n",
    "            epochsChannelFrequencyMA.append(epochMultitaper.copy())\n",
    "            epochsChannelChannelFrequencyMA.append(epochMultitaperCov.copy())\n",
    "            labelsMAEpochs.append(it+1)\n",
    "\n",
    "        epochsChannelTimeMA = np.stack(epochsChannelTimeMA,axis=0)\n",
    "        epochsChannelChannelMA = np.stack(epochsChannelChannelMA,axis=0)\n",
    "        epochsChannelFrequencyMA = np.stack(epochsChannelFrequencyMA,axis=0)\n",
    "        epochsChannelChannelFrequencyMA = np.stack(epochsChannelChannelFrequencyMA,axis=0)\n",
    "        labelsMAEpochs = np.array(labelsMAEpochs)\n",
    "\n",
    "        listChannelTimeEpochs.append(epochsChannelTimeMA.copy())\n",
    "        listChannelChanelTimeEpochs.append(epochsChannelChannelMA.copy())\n",
    "        listChannelFrequencyEpochs.append(epochsChannelFrequencyMA.copy())\n",
    "        listChannelChannelFrequencyEpochs.append(epochsChannelChannelFrequencyMA.copy())\n",
    "        listChannelTimeLabels.append(labelsMAEpochs.copy())\n",
    "        listChannelChanelTimeLabels.append(labelsMAEpochs.copy())\n",
    "        listChannelFrequencyLabels.append(labelsMAEpochs.copy())\n",
    "        listChannelChannelFrequencyLabels.append(labelsMAEpochs.copy())\n",
    "\n",
    "    X = np.concatenate(listChannelTimeEpochs, axis=0)\n",
    "    y = np.concatenate(listChannelTimeLabels)\n",
    "    representationChannelTimeEpochs.append(X.copy())\n",
    "    representationChannelTimeLabels.append(y.copy())\n",
    "    X = np.concatenate(listChannelChanelTimeEpochs, axis=0)\n",
    "    y = np.concatenate(listChannelChanelTimeLabels)\n",
    "    representationChannelChanelTimeEpochs.append(X.copy())\n",
    "    representationChannelChanelTimeLabels.append(y.copy())\n",
    "    X = np.concatenate(listChannelFrequencyEpochs, axis=0)\n",
    "    y = np.concatenate(listChannelFrequencyLabels)\n",
    "    representationChannelFrequencyEpochs.append(X.copy())\n",
    "    representationChannelFrequencyLabels.append(y.copy())\n",
    "    X = np.concatenate(listChannelChannelFrequencyEpochs, axis=0)\n",
    "    y = np.concatenate(listChannelChannelFrequencyLabels)\n",
    "    representationChannelChannelFrequencyEpochs.append(X.copy())\n",
    "    representationChannelChannelFrequencyLabels.append(y.copy())\n",
    "    endProcessing = time.time()\n",
    "    print('Time elapsed: ', str((endProcessing-startProcessing)/60.0),' min.')"
   ]
  },
  {
   "cell_type": "markdown",
   "metadata": {
    "id": "2wnSCFVt3_mo"
   },
   "source": [
    "## 1. Setting"
   ]
  },
  {
   "cell_type": "code",
   "execution_count": 9,
   "metadata": {
    "colab": {
     "base_uri": "https://localhost:8080/"
    },
    "id": "DSK_dvab6oIi",
    "outputId": "c78a19a3-d335-4727-ec48-e59e6ed02522"
   },
   "outputs": [
    {
     "data": {
      "text/plain": [
       "{'Beep': 785,\n",
       " 'FixationCross': 786,\n",
       " 'HandOpenClassCue': 779,\n",
       " 'LateralGraspClassCue': 926,\n",
       " 'PalmarGraspClassCue': 925,\n",
       " 'PronationClassCue': 777,\n",
       " 'SupinationClassCue': 776,\n",
       " 'TrialStart': 768}"
      ]
     },
     "execution_count": 9,
     "metadata": {},
     "output_type": "execute_result"
    }
   ],
   "source": [
    "dictEvents = dict(TrialStart = 0x300,\n",
    "                  Beep = 0x311,\n",
    "                  FixationCross = 0x312,\n",
    "                  SupinationClassCue = 0x308,\n",
    "                  PronationClassCue = 0x309,\n",
    "                  HandOpenClassCue = 0x30B,\n",
    "                  PalmarGraspClassCue = 0x39D,\n",
    "                  LateralGraspClassCue = 0x39E)\n",
    "dictEvents"
   ]
  },
  {
   "cell_type": "code",
   "execution_count": 103,
   "metadata": {
    "id": "u92Vpst_4Bgp"
   },
   "outputs": [
    {
     "name": "stdout",
     "output_type": "stream",
     "text": [
      "Extracting EDF parameters from D:\\DESARROLLO_PROYECTO_DOCTORADO\\pySTMM\\examples\\P01\\P01 Run 1.gdf...\n",
      "GDF file detected\n",
      "Setting channel info structure...\n",
      "Creating raw.info structure...\n",
      "Reading 0 ... 22015  =      0.000 ...    85.996 secs...\n",
      "Extracting EDF parameters from D:\\DESARROLLO_PROYECTO_DOCTORADO\\pySTMM\\examples\\P01\\P01 Run 10.gdf...\n",
      "GDF file detected\n",
      "Setting channel info structure...\n",
      "Creating raw.info structure...\n",
      "Reading 0 ... 77823  =      0.000 ...   303.996 secs...\n",
      "Extracting EDF parameters from D:\\DESARROLLO_PROYECTO_DOCTORADO\\pySTMM\\examples\\P01\\P01 Run 11.gdf...\n",
      "GDF file detected\n",
      "Setting channel info structure...\n",
      "Creating raw.info structure...\n",
      "Reading 0 ... 77055  =      0.000 ...   300.996 secs...\n"
     ]
    },
    {
     "name": "stderr",
     "output_type": "stream",
     "text": [
      "c:\\python36\\lib\\site-packages\\mne\\io\\edf\\edf.py:1047: DeprecationWarning:\n",
      "\n",
      "The binary mode of fromstring is deprecated, as it behaves surprisingly on unicode inputs. Use frombuffer instead\n",
      "\n",
      "c:\\python36\\lib\\site-packages\\mne\\io\\edf\\edf.py:1047: DeprecationWarning:\n",
      "\n",
      "The binary mode of fromstring is deprecated, as it behaves surprisingly on unicode inputs. Use frombuffer instead\n",
      "\n",
      "c:\\python36\\lib\\site-packages\\mne\\io\\edf\\edf.py:1047: DeprecationWarning:\n",
      "\n",
      "The binary mode of fromstring is deprecated, as it behaves surprisingly on unicode inputs. Use frombuffer instead\n",
      "\n"
     ]
    },
    {
     "name": "stdout",
     "output_type": "stream",
     "text": [
      "Extracting EDF parameters from D:\\DESARROLLO_PROYECTO_DOCTORADO\\pySTMM\\examples\\P01\\P01 Run 12.gdf...\n",
      "GDF file detected\n",
      "Setting channel info structure...\n",
      "Creating raw.info structure...\n",
      "Reading 0 ... 77823  =      0.000 ...   303.996 secs...\n",
      "Extracting EDF parameters from D:\\DESARROLLO_PROYECTO_DOCTORADO\\pySTMM\\examples\\P01\\P01 Run 13.gdf...\n",
      "GDF file detected\n",
      "Setting channel info structure...\n",
      "Creating raw.info structure...\n",
      "Reading 0 ... 77311  =      0.000 ...   301.996 secs...\n"
     ]
    },
    {
     "name": "stderr",
     "output_type": "stream",
     "text": [
      "c:\\python36\\lib\\site-packages\\mne\\io\\edf\\edf.py:1047: DeprecationWarning:\n",
      "\n",
      "The binary mode of fromstring is deprecated, as it behaves surprisingly on unicode inputs. Use frombuffer instead\n",
      "\n",
      "c:\\python36\\lib\\site-packages\\mne\\io\\edf\\edf.py:1047: DeprecationWarning:\n",
      "\n",
      "The binary mode of fromstring is deprecated, as it behaves surprisingly on unicode inputs. Use frombuffer instead\n",
      "\n"
     ]
    },
    {
     "name": "stdout",
     "output_type": "stream",
     "text": [
      "Extracting EDF parameters from D:\\DESARROLLO_PROYECTO_DOCTORADO\\pySTMM\\examples\\P01\\P01 Run 14.gdf...\n",
      "GDF file detected\n",
      "Setting channel info structure...\n",
      "Creating raw.info structure...\n",
      "Reading 0 ... 22015  =      0.000 ...    85.996 secs...\n",
      "Extracting EDF parameters from D:\\DESARROLLO_PROYECTO_DOCTORADO\\pySTMM\\examples\\P01\\P01 Run 15.gdf...\n",
      "GDF file detected\n",
      "Setting channel info structure...\n",
      "Creating raw.info structure...\n",
      "Reading 0 ... 23295  =      0.000 ...    90.996 secs...\n",
      "Extracting EDF parameters from D:\\DESARROLLO_PROYECTO_DOCTORADO\\pySTMM\\examples\\P01\\P01 Run 2.gdf...\n",
      "GDF file detected\n",
      "Setting channel info structure...\n",
      "Creating raw.info structure...\n",
      "Reading 0 ... 23295  =      0.000 ...    90.996 secs...\n",
      "Extracting EDF parameters from D:\\DESARROLLO_PROYECTO_DOCTORADO\\pySTMM\\examples\\P01\\P01 Run 3.gdf...\n",
      "GDF file detected\n"
     ]
    },
    {
     "name": "stderr",
     "output_type": "stream",
     "text": [
      "c:\\python36\\lib\\site-packages\\mne\\io\\edf\\edf.py:1047: DeprecationWarning:\n",
      "\n",
      "The binary mode of fromstring is deprecated, as it behaves surprisingly on unicode inputs. Use frombuffer instead\n",
      "\n",
      "c:\\python36\\lib\\site-packages\\mne\\io\\edf\\edf.py:1047: DeprecationWarning:\n",
      "\n",
      "The binary mode of fromstring is deprecated, as it behaves surprisingly on unicode inputs. Use frombuffer instead\n",
      "\n",
      "c:\\python36\\lib\\site-packages\\mne\\io\\edf\\edf.py:1047: DeprecationWarning:\n",
      "\n",
      "The binary mode of fromstring is deprecated, as it behaves surprisingly on unicode inputs. Use frombuffer instead\n",
      "\n",
      "c:\\python36\\lib\\site-packages\\mne\\io\\edf\\edf.py:1047: DeprecationWarning:\n",
      "\n",
      "The binary mode of fromstring is deprecated, as it behaves surprisingly on unicode inputs. Use frombuffer instead\n",
      "\n"
     ]
    },
    {
     "name": "stdout",
     "output_type": "stream",
     "text": [
      "Setting channel info structure...\n",
      "Creating raw.info structure...\n",
      "Reading 0 ... 75519  =      0.000 ...   294.996 secs...\n",
      "Extracting EDF parameters from D:\\DESARROLLO_PROYECTO_DOCTORADO\\pySTMM\\examples\\P01\\P01 Run 4.gdf...\n",
      "GDF file detected\n",
      "Setting channel info structure...\n",
      "Creating raw.info structure...\n",
      "Reading 0 ... 76543  =      0.000 ...   298.996 secs...\n"
     ]
    },
    {
     "name": "stderr",
     "output_type": "stream",
     "text": [
      "c:\\python36\\lib\\site-packages\\mne\\io\\edf\\edf.py:1047: DeprecationWarning:\n",
      "\n",
      "The binary mode of fromstring is deprecated, as it behaves surprisingly on unicode inputs. Use frombuffer instead\n",
      "\n"
     ]
    },
    {
     "name": "stdout",
     "output_type": "stream",
     "text": [
      "Extracting EDF parameters from D:\\DESARROLLO_PROYECTO_DOCTORADO\\pySTMM\\examples\\P01\\P01 Run 5.gdf...\n",
      "GDF file detected\n",
      "Setting channel info structure...\n",
      "Creating raw.info structure...\n",
      "Reading 0 ... 76799  =      0.000 ...   299.996 secs...\n",
      "Extracting EDF parameters from D:\\DESARROLLO_PROYECTO_DOCTORADO\\pySTMM\\examples\\P01\\P01 Run 6.gdf...\n",
      "GDF file detected\n",
      "Setting channel info structure...\n",
      "Creating raw.info structure...\n",
      "Reading 0 ... 76031  =      0.000 ...   296.996 secs...\n"
     ]
    },
    {
     "name": "stderr",
     "output_type": "stream",
     "text": [
      "c:\\python36\\lib\\site-packages\\mne\\io\\edf\\edf.py:1047: DeprecationWarning:\n",
      "\n",
      "The binary mode of fromstring is deprecated, as it behaves surprisingly on unicode inputs. Use frombuffer instead\n",
      "\n",
      "c:\\python36\\lib\\site-packages\\mne\\io\\edf\\edf.py:1047: DeprecationWarning:\n",
      "\n",
      "The binary mode of fromstring is deprecated, as it behaves surprisingly on unicode inputs. Use frombuffer instead\n",
      "\n"
     ]
    },
    {
     "name": "stdout",
     "output_type": "stream",
     "text": [
      "Extracting EDF parameters from D:\\DESARROLLO_PROYECTO_DOCTORADO\\pySTMM\\examples\\P01\\P01 Run 7.gdf...\n",
      "GDF file detected\n",
      "Setting channel info structure...\n",
      "Creating raw.info structure...\n",
      "Reading 0 ... 77055  =      0.000 ...   300.996 secs...\n",
      "Extracting EDF parameters from D:\\DESARROLLO_PROYECTO_DOCTORADO\\pySTMM\\examples\\P01\\P01 Run 8.gdf...\n",
      "GDF file detected\n"
     ]
    },
    {
     "name": "stderr",
     "output_type": "stream",
     "text": [
      "c:\\python36\\lib\\site-packages\\mne\\io\\edf\\edf.py:1047: DeprecationWarning:\n",
      "\n",
      "The binary mode of fromstring is deprecated, as it behaves surprisingly on unicode inputs. Use frombuffer instead\n",
      "\n"
     ]
    },
    {
     "name": "stdout",
     "output_type": "stream",
     "text": [
      "Setting channel info structure...\n",
      "Creating raw.info structure...\n",
      "Reading 0 ... 22015  =      0.000 ...    85.996 secs...\n"
     ]
    },
    {
     "name": "stderr",
     "output_type": "stream",
     "text": [
      "c:\\python36\\lib\\site-packages\\mne\\io\\edf\\edf.py:1047: DeprecationWarning:\n",
      "\n",
      "The binary mode of fromstring is deprecated, as it behaves surprisingly on unicode inputs. Use frombuffer instead\n",
      "\n"
     ]
    },
    {
     "name": "stdout",
     "output_type": "stream",
     "text": [
      "Extracting EDF parameters from D:\\DESARROLLO_PROYECTO_DOCTORADO\\pySTMM\\examples\\P01\\P01 Run 9.gdf...\n",
      "GDF file detected\n",
      "Setting channel info structure...\n",
      "Creating raw.info structure...\n",
      "Reading 0 ... 23295  =      0.000 ...    90.996 secs...\n"
     ]
    },
    {
     "name": "stderr",
     "output_type": "stream",
     "text": [
      "c:\\python36\\lib\\site-packages\\mne\\io\\edf\\edf.py:1047: DeprecationWarning:\n",
      "\n",
      "The binary mode of fromstring is deprecated, as it behaves surprisingly on unicode inputs. Use frombuffer instead\n",
      "\n"
     ]
    },
    {
     "name": "stdout",
     "output_type": "stream",
     "text": [
      "Extracting EDF parameters from D:\\DESARROLLO_PROYECTO_DOCTORADO\\pySTMM\\examples\\P01\\P01 Run 1.gdf...\n",
      "GDF file detected\n",
      "Setting channel info structure...\n",
      "Creating raw.info structure...\n",
      "Used Annotations descriptions: ['33536', '768', '785']\n",
      "Extracting EDF parameters from D:\\DESARROLLO_PROYECTO_DOCTORADO\\pySTMM\\examples\\P01\\P01 Run 2.gdf...\n",
      "GDF file detected\n",
      "Setting channel info structure...\n",
      "Creating raw.info structure...\n",
      "Used Annotations descriptions: ['33536', '33554', '768', '785', '786']\n"
     ]
    },
    {
     "name": "stderr",
     "output_type": "stream",
     "text": [
      "c:\\python36\\lib\\site-packages\\mne\\io\\edf\\edf.py:1047: DeprecationWarning:\n",
      "\n",
      "The binary mode of fromstring is deprecated, as it behaves surprisingly on unicode inputs. Use frombuffer instead\n",
      "\n",
      "c:\\python36\\lib\\site-packages\\mne\\io\\edf\\edf.py:1047: DeprecationWarning:\n",
      "\n",
      "The binary mode of fromstring is deprecated, as it behaves surprisingly on unicode inputs. Use frombuffer instead\n",
      "\n"
     ]
    },
    {
     "name": "stdout",
     "output_type": "stream",
     "text": [
      "Extracting EDF parameters from D:\\DESARROLLO_PROYECTO_DOCTORADO\\pySTMM\\examples\\P01\\P01 Run 3.gdf...\n",
      "GDF file detected\n",
      "Setting channel info structure...\n",
      "Creating raw.info structure...\n",
      "Used Annotations descriptions: ['33536', '33544', '33545', '33547', '33554', '33693', '33694', '768', '776', '777', '779', '785', '786', '925', '926']\n"
     ]
    },
    {
     "name": "stderr",
     "output_type": "stream",
     "text": [
      "c:\\python36\\lib\\site-packages\\mne\\io\\edf\\edf.py:1047: DeprecationWarning:\n",
      "\n",
      "The binary mode of fromstring is deprecated, as it behaves surprisingly on unicode inputs. Use frombuffer instead\n",
      "\n"
     ]
    },
    {
     "name": "stdout",
     "output_type": "stream",
     "text": [
      "Extracting EDF parameters from D:\\DESARROLLO_PROYECTO_DOCTORADO\\pySTMM\\examples\\P01\\P01 Run 4.gdf...\n",
      "GDF file detected\n",
      "Setting channel info structure...\n",
      "Creating raw.info structure...\n"
     ]
    },
    {
     "name": "stderr",
     "output_type": "stream",
     "text": [
      "c:\\python36\\lib\\site-packages\\mne\\io\\edf\\edf.py:1047: DeprecationWarning:\n",
      "\n",
      "The binary mode of fromstring is deprecated, as it behaves surprisingly on unicode inputs. Use frombuffer instead\n",
      "\n"
     ]
    },
    {
     "name": "stdout",
     "output_type": "stream",
     "text": [
      "Used Annotations descriptions: ['33536', '33544', '33545', '33547', '33554', '33693', '33694', '768', '776', '777', '779', '785', '786', '925', '926']\n",
      "Extracting EDF parameters from D:\\DESARROLLO_PROYECTO_DOCTORADO\\pySTMM\\examples\\P01\\P01 Run 5.gdf...\n",
      "GDF file detected\n",
      "Setting channel info structure...\n",
      "Creating raw.info structure...\n"
     ]
    },
    {
     "name": "stderr",
     "output_type": "stream",
     "text": [
      "c:\\python36\\lib\\site-packages\\mne\\io\\edf\\edf.py:1047: DeprecationWarning:\n",
      "\n",
      "The binary mode of fromstring is deprecated, as it behaves surprisingly on unicode inputs. Use frombuffer instead\n",
      "\n"
     ]
    },
    {
     "name": "stdout",
     "output_type": "stream",
     "text": [
      "Used Annotations descriptions: ['33536', '33544', '33545', '33547', '33554', '33693', '33694', '768', '776', '777', '779', '785', '786', '925', '926']\n",
      "Extracting EDF parameters from D:\\DESARROLLO_PROYECTO_DOCTORADO\\pySTMM\\examples\\P01\\P01 Run 6.gdf...\n",
      "GDF file detected\n",
      "Setting channel info structure...\n",
      "Creating raw.info structure...\n",
      "Used Annotations descriptions: ['33536', '33544', '33545', '33547', '33554', '33693', '33694', '768', '776', '777', '779', '785', '786', '925', '926']\n"
     ]
    },
    {
     "name": "stderr",
     "output_type": "stream",
     "text": [
      "c:\\python36\\lib\\site-packages\\mne\\io\\edf\\edf.py:1047: DeprecationWarning:\n",
      "\n",
      "The binary mode of fromstring is deprecated, as it behaves surprisingly on unicode inputs. Use frombuffer instead\n",
      "\n"
     ]
    },
    {
     "name": "stdout",
     "output_type": "stream",
     "text": [
      "Extracting EDF parameters from D:\\DESARROLLO_PROYECTO_DOCTORADO\\pySTMM\\examples\\P01\\P01 Run 7.gdf...\n",
      "GDF file detected\n",
      "Setting channel info structure...\n",
      "Creating raw.info structure...\n"
     ]
    },
    {
     "name": "stderr",
     "output_type": "stream",
     "text": [
      "c:\\python36\\lib\\site-packages\\mne\\io\\edf\\edf.py:1047: DeprecationWarning:\n",
      "\n",
      "The binary mode of fromstring is deprecated, as it behaves surprisingly on unicode inputs. Use frombuffer instead\n",
      "\n"
     ]
    },
    {
     "name": "stdout",
     "output_type": "stream",
     "text": [
      "Used Annotations descriptions: ['33536', '33544', '33545', '33547', '33554', '33693', '33694', '768', '776', '777', '779', '785', '786', '925', '926']\n",
      "Extracting EDF parameters from D:\\DESARROLLO_PROYECTO_DOCTORADO\\pySTMM\\examples\\P01\\P01 Run 8.gdf...\n",
      "GDF file detected\n",
      "Setting channel info structure...\n",
      "Creating raw.info structure...\n",
      "Used Annotations descriptions: ['33536', '768', '785']\n",
      "Extracting EDF parameters from D:\\DESARROLLO_PROYECTO_DOCTORADO\\pySTMM\\examples\\P01\\P01 Run 9.gdf...\n",
      "GDF file detected\n",
      "Setting channel info structure...\n",
      "Creating raw.info structure...\n"
     ]
    },
    {
     "name": "stderr",
     "output_type": "stream",
     "text": [
      "c:\\python36\\lib\\site-packages\\mne\\io\\edf\\edf.py:1047: DeprecationWarning:\n",
      "\n",
      "The binary mode of fromstring is deprecated, as it behaves surprisingly on unicode inputs. Use frombuffer instead\n",
      "\n",
      "c:\\python36\\lib\\site-packages\\mne\\io\\edf\\edf.py:1047: DeprecationWarning:\n",
      "\n",
      "The binary mode of fromstring is deprecated, as it behaves surprisingly on unicode inputs. Use frombuffer instead\n",
      "\n"
     ]
    },
    {
     "name": "stdout",
     "output_type": "stream",
     "text": [
      "Used Annotations descriptions: ['33536', '33554', '768', '785', '786']\n",
      "Extracting EDF parameters from D:\\DESARROLLO_PROYECTO_DOCTORADO\\pySTMM\\examples\\P01\\P01 Run 10.gdf...\n",
      "GDF file detected\n",
      "Setting channel info structure...\n",
      "Creating raw.info structure...\n",
      "Used Annotations descriptions: ['33536', '33544', '33545', '33547', '33554', '33693', '33694', '768', '776', '777', '779', '785', '786', '925', '926']\n"
     ]
    },
    {
     "name": "stderr",
     "output_type": "stream",
     "text": [
      "c:\\python36\\lib\\site-packages\\mne\\io\\edf\\edf.py:1047: DeprecationWarning:\n",
      "\n",
      "The binary mode of fromstring is deprecated, as it behaves surprisingly on unicode inputs. Use frombuffer instead\n",
      "\n"
     ]
    },
    {
     "name": "stdout",
     "output_type": "stream",
     "text": [
      "Extracting EDF parameters from D:\\DESARROLLO_PROYECTO_DOCTORADO\\pySTMM\\examples\\P01\\P01 Run 11.gdf...\n",
      "GDF file detected\n",
      "Setting channel info structure...\n",
      "Creating raw.info structure...\n",
      "Used Annotations descriptions: ['33536', '33544', '33545', '33547', '33554', '33693', '33694', '768', '776', '777', '779', '785', '786', '925', '926']\n"
     ]
    },
    {
     "name": "stderr",
     "output_type": "stream",
     "text": [
      "c:\\python36\\lib\\site-packages\\mne\\io\\edf\\edf.py:1047: DeprecationWarning:\n",
      "\n",
      "The binary mode of fromstring is deprecated, as it behaves surprisingly on unicode inputs. Use frombuffer instead\n",
      "\n"
     ]
    },
    {
     "name": "stdout",
     "output_type": "stream",
     "text": [
      "Extracting EDF parameters from D:\\DESARROLLO_PROYECTO_DOCTORADO\\pySTMM\\examples\\P01\\P01 Run 12.gdf...\n",
      "GDF file detected\n",
      "Setting channel info structure...\n",
      "Creating raw.info structure...\n"
     ]
    },
    {
     "name": "stderr",
     "output_type": "stream",
     "text": [
      "c:\\python36\\lib\\site-packages\\mne\\io\\edf\\edf.py:1047: DeprecationWarning:\n",
      "\n",
      "The binary mode of fromstring is deprecated, as it behaves surprisingly on unicode inputs. Use frombuffer instead\n",
      "\n"
     ]
    },
    {
     "name": "stdout",
     "output_type": "stream",
     "text": [
      "Used Annotations descriptions: ['33536', '33544', '33545', '33547', '33554', '33693', '33694', '768', '776', '777', '779', '785', '786', '925', '926']\n",
      "Extracting EDF parameters from D:\\DESARROLLO_PROYECTO_DOCTORADO\\pySTMM\\examples\\P01\\P01 Run 13.gdf...\n",
      "GDF file detected\n",
      "Setting channel info structure...\n",
      "Creating raw.info structure...\n"
     ]
    },
    {
     "name": "stderr",
     "output_type": "stream",
     "text": [
      "c:\\python36\\lib\\site-packages\\mne\\io\\edf\\edf.py:1047: DeprecationWarning:\n",
      "\n",
      "The binary mode of fromstring is deprecated, as it behaves surprisingly on unicode inputs. Use frombuffer instead\n",
      "\n"
     ]
    },
    {
     "name": "stdout",
     "output_type": "stream",
     "text": [
      "Used Annotations descriptions: ['33536', '33544', '33545', '33547', '33554', '33693', '33694', '768', '776', '777', '779', '785', '786', '925', '926']\n",
      "Extracting EDF parameters from D:\\DESARROLLO_PROYECTO_DOCTORADO\\pySTMM\\examples\\P01\\P01 Run 14.gdf...\n",
      "GDF file detected\n",
      "Setting channel info structure...\n",
      "Creating raw.info structure...\n",
      "Used Annotations descriptions: ['33536', '768', '785']\n",
      "Extracting EDF parameters from D:\\DESARROLLO_PROYECTO_DOCTORADO\\pySTMM\\examples\\P01\\P01 Run 15.gdf...\n",
      "GDF file detected\n",
      "Setting channel info structure...\n",
      "Creating raw.info structure...\n",
      "Used Annotations descriptions: ['33536', '33554', '768', '785', '786']\n"
     ]
    },
    {
     "name": "stderr",
     "output_type": "stream",
     "text": [
      "c:\\python36\\lib\\site-packages\\mne\\io\\edf\\edf.py:1047: DeprecationWarning:\n",
      "\n",
      "The binary mode of fromstring is deprecated, as it behaves surprisingly on unicode inputs. Use frombuffer instead\n",
      "\n",
      "c:\\python36\\lib\\site-packages\\mne\\io\\edf\\edf.py:1047: DeprecationWarning:\n",
      "\n",
      "The binary mode of fromstring is deprecated, as it behaves surprisingly on unicode inputs. Use frombuffer instead\n",
      "\n"
     ]
    },
    {
     "name": "stdout",
     "output_type": "stream",
     "text": [
      "Report on REST:\n",
      "Total samples = 69129\n",
      "Sampling frequency (Hz) = 256\n",
      "Signal duration (s) = 270.04\n",
      "Signal duration (min) = 4.50\n",
      "Total trial start events = 3\n",
      "Indexes (sample) = [2560, 25603, 48646]\n",
      "Times (s) = [10.0, 100.01171875, 190.0234375]\n",
      "Duration between consecutive ones (s) = [90.01171875, 90.01171875]\n",
      "[10.5, 13.0, 15.5, 18.0, 20.5, 23.0, 25.5, 28.0, 30.5, 33.0, 35.5, 38.0, 40.5, 43.0, 45.5, 48.0, 50.5, 53.0, 55.5, 58.0, 60.5, 63.0, 65.5, 68.0, 100.51171875, 103.01171875, 105.51171875, 108.01171875, 110.51171875, 113.01171875, 115.51171875, 118.01171875, 120.51171875, 123.01171875, 125.51171875, 128.01171875, 130.51171875, 133.01171875, 135.51171875, 138.01171875, 140.51171875, 143.01171875, 145.51171875, 148.01171875, 150.51171875, 153.01171875, 155.51171875, 158.01171875, 190.5234375, 193.0234375, 195.5234375, 198.0234375, 200.5234375, 203.0234375, 205.5234375, 208.0234375, 210.5234375, 213.0234375, 215.5234375, 218.0234375, 220.5234375, 223.0234375, 225.5234375, 228.0234375, 230.5234375, 233.0234375, 235.5234375, 238.0234375, 240.5234375, 243.0234375, 245.5234375, 248.0234375]\n",
      "[15.50390625, 18.00390625, 20.50390625, 23.00390625, 25.50390625, 28.00390625, 30.50390625, 33.00390625, 35.50390625, 38.00390625, 40.50390625, 43.00390625, 45.50390625, 48.00390625, 50.50390625, 53.00390625, 55.50390625, 58.00390625, 60.50390625, 63.00390625, 65.50390625, 68.00390625, 70.50390625, 73.00390625, 105.515625, 108.015625, 110.515625, 113.015625, 115.515625, 118.015625, 120.515625, 123.015625, 125.515625, 128.015625, 130.515625, 133.015625, 135.515625, 138.015625, 140.515625, 143.015625, 145.515625, 148.015625, 150.515625, 153.015625, 155.515625, 158.015625, 160.515625, 163.015625, 195.52734375, 198.02734375, 200.52734375, 203.02734375, 205.52734375, 208.02734375, 210.52734375, 213.02734375, 215.52734375, 218.02734375, 220.52734375, 223.02734375, 225.52734375, 228.02734375, 230.52734375, 233.02734375, 235.52734375, 238.02734375, 240.52734375, 243.02734375, 245.52734375, 248.02734375, 250.52734375, 253.02734375]\n",
      "Report on: HandOpenClassCue\n",
      "Total samples = 691044\n",
      "Sampling frequency (Hz) = 256\n",
      "Signal duration (s) = 2699.39\n",
      "Signal duration (min) = 44.99\n",
      "Total HandOpenClassCue events = 72\n",
      "Indexes (sample) = [4921, 22479, 43603, 48658, 50450, 54233, 56175, 71533, 96532, 98101, 101373, 115732, 117387, 120976, 124543, 129757, 185100, 197455, 199383, 204586, 209713, 213529, 221059, 224628, 246360, 251673, 257245, 265759, 271131, 276603, 280124, 285491, 311095, 323862, 343658, 352598, 361398, 370473, 373907, 375799, 393904, 395599, 402930, 412077, 424656, 440924, 442966, 444759, 474124, 484752, 495685, 509807, 513882, 515918, 521004, 528500, 542898, 544853, 568310, 591663, 595255, 598893, 600916, 606322, 625546, 629207, 644078, 647459, 661655, 667438, 671328, 683965]\n",
      "Times (s) = [19.22265625, 87.80859375, 170.32421875, 190.0703125, 197.0703125, 211.84765625, 219.43359375, 279.42578125, 377.078125, 383.20703125, 395.98828125, 452.078125, 458.54296875, 472.5625, 486.49609375, 506.86328125, 723.046875, 771.30859375, 778.83984375, 799.1640625, 819.19140625, 834.09765625, 863.51171875, 877.453125, 962.34375, 983.09765625, 1004.86328125, 1038.12109375, 1059.10546875, 1080.48046875, 1094.234375, 1115.19921875, 1215.21484375, 1265.0859375, 1342.4140625, 1377.3359375, 1411.7109375, 1447.16015625, 1460.57421875, 1467.96484375, 1538.6875, 1545.30859375, 1573.9453125, 1609.67578125, 1658.8125, 1722.359375, 1730.3359375, 1737.33984375, 1852.046875, 1893.5625, 1936.26953125, 1991.43359375, 2007.3515625, 2015.3046875, 2035.171875, 2064.453125, 2120.6953125, 2128.33203125, 2219.9609375, 2311.18359375, 2325.21484375, 2339.42578125, 2347.328125, 2368.4453125, 2443.5390625, 2457.83984375, 2515.9296875, 2529.13671875, 2584.58984375, 2607.1796875, 2622.375, 2671.73828125]\n",
      "Duration between consecutive ones (s) = [68.5859375, 82.515625, 19.74609375, 7.0, 14.77734375, 7.5859375, 59.9921875, 97.65234375, 6.12890625, 12.78125, 56.08984375, 6.46484375, 14.01953125, 13.93359375, 20.3671875, 216.18359375, 48.26171875, 7.53125, 20.32421875, 20.02734375, 14.90625, 29.4140625, 13.94140625, 84.890625, 20.75390625, 21.765625, 33.2578125, 20.984375, 21.375, 13.75390625, 20.96484375, 100.015625, 49.87109375, 77.328125, 34.921875, 34.375, 35.44921875, 13.4140625, 7.390625, 70.72265625, 6.62109375, 28.63671875, 35.73046875, 49.13671875, 63.546875, 7.9765625, 7.00390625, 114.70703125, 41.515625, 42.70703125, 55.1640625, 15.91796875, 7.953125, 19.8671875, 29.28125, 56.2421875, 7.63671875, 91.62890625, 91.22265625, 14.03125, 14.2109375, 7.90234375, 21.1171875, 75.09375, 14.30078125, 58.08984375, 13.20703125, 55.453125, 22.58984375, 15.1953125, 49.36328125]\n",
      "[17.22265625, 85.80859375, 168.32421875, 188.0703125, 195.0703125, 209.84765625, 217.43359375, 277.42578125, 375.078125, 381.20703125, 393.98828125, 450.078125, 456.54296875, 470.5625, 484.49609375, 504.86328125, 721.046875, 769.30859375, 776.83984375, 797.1640625, 817.19140625, 832.09765625, 861.51171875, 875.453125, 960.34375, 981.09765625, 1002.86328125, 1036.12109375, 1057.10546875, 1078.48046875, 1092.234375, 1113.19921875, 1213.21484375, 1263.0859375, 1340.4140625, 1375.3359375, 1409.7109375, 1445.16015625, 1458.57421875, 1465.96484375, 1536.6875, 1543.30859375, 1571.9453125, 1607.67578125, 1656.8125, 1720.359375, 1728.3359375, 1735.33984375, 1850.046875, 1891.5625, 1934.26953125, 1989.43359375, 2005.3515625, 2013.3046875, 2033.171875, 2062.453125, 2118.6953125, 2126.33203125, 2217.9609375, 2309.18359375, 2323.21484375, 2337.42578125, 2345.328125, 2366.4453125, 2441.5390625, 2455.83984375, 2513.9296875, 2527.13671875, 2582.58984375, 2605.1796875, 2620.375, 2669.73828125]\n",
      "[22.2265625, 90.8125, 173.328125, 193.07421875, 200.07421875, 214.8515625, 222.4375, 282.4296875, 380.08203125, 386.2109375, 398.9921875, 455.08203125, 461.546875, 475.56640625, 489.5, 509.8671875, 726.05078125, 774.3125, 781.84375, 802.16796875, 822.1953125, 837.1015625, 866.515625, 880.45703125, 965.34765625, 986.1015625, 1007.8671875, 1041.125, 1062.109375, 1083.484375, 1097.23828125, 1118.203125, 1218.21875, 1268.08984375, 1345.41796875, 1380.33984375, 1414.71484375, 1450.1640625, 1463.578125, 1470.96875, 1541.69140625, 1548.3125, 1576.94921875, 1612.6796875, 1661.81640625, 1725.36328125, 1733.33984375, 1740.34375, 1855.05078125, 1896.56640625, 1939.2734375, 1994.4375, 2010.35546875, 2018.30859375, 2038.17578125, 2067.45703125, 2123.69921875, 2131.3359375, 2222.96484375, 2314.1875, 2328.21875, 2342.4296875, 2350.33203125, 2371.44921875, 2446.54296875, 2460.84375, 2518.93359375, 2532.140625, 2587.59375, 2610.18359375, 2625.37890625, 2674.7421875]\n",
      "Report on: PalmarGraspClassCue\n",
      "Total samples = 691044\n",
      "Sampling frequency (Hz) = 256\n",
      "Signal duration (s) = 2699.39\n",
      "Signal duration (min) = 44.99\n",
      "Total PalmarGraspClassCue events = 72\n",
      "Indexes (sample) = [12348, 14235, 27539, 34798, 38215, 57730, 59516, 67881, 78581, 84314, 89274, 94755, 99695, 103158, 131762, 148100, 157071, 169570, 176737, 180043, 188644, 201256, 202986, 215257, 235335, 241319, 250064, 253413, 262245, 267448, 288830, 293662, 309221, 314984, 325424, 336807, 341870, 363078, 364909, 366953, 384610, 386392, 392179, 397461, 399408, 417314, 430162, 439103, 470766, 482849, 486695, 494129, 497341, 499340, 506444, 508236, 541263, 552146, 557493, 572224, 586069, 587947, 596857, 608283, 616990, 622069, 633053, 654408, 656011, 665559, 673363, 687156]\n",
      "Times (s) = [48.234375, 55.60546875, 107.57421875, 135.9296875, 149.27734375, 225.5078125, 232.484375, 265.16015625, 306.95703125, 329.3515625, 348.7265625, 370.13671875, 389.43359375, 402.9609375, 514.6953125, 578.515625, 613.55859375, 662.3828125, 690.37890625, 703.29296875, 736.890625, 786.15625, 792.9140625, 840.84765625, 919.27734375, 942.65234375, 976.8125, 989.89453125, 1024.39453125, 1044.71875, 1128.2421875, 1147.1171875, 1207.89453125, 1230.40625, 1271.1875, 1315.65234375, 1335.4296875, 1418.2734375, 1425.42578125, 1433.41015625, 1502.3828125, 1509.34375, 1531.94921875, 1552.58203125, 1560.1875, 1630.1328125, 1680.3203125, 1715.24609375, 1838.9296875, 1886.12890625, 1901.15234375, 1930.19140625, 1942.73828125, 1950.546875, 1978.296875, 1985.296875, 2114.30859375, 2156.8203125, 2177.70703125, 2235.25, 2289.33203125, 2296.66796875, 2331.47265625, 2376.10546875, 2410.1171875, 2429.95703125, 2472.86328125, 2556.28125, 2562.54296875, 2599.83984375, 2630.32421875, 2684.203125]\n",
      "Duration between consecutive ones (s) = [7.37109375, 51.96875, 28.35546875, 13.34765625, 76.23046875, 6.9765625, 32.67578125, 41.796875, 22.39453125, 19.375, 21.41015625, 19.296875, 13.52734375, 111.734375, 63.8203125, 35.04296875, 48.82421875, 27.99609375, 12.9140625, 33.59765625, 49.265625, 6.7578125, 47.93359375, 78.4296875, 23.375, 34.16015625, 13.08203125, 34.5, 20.32421875, 83.5234375, 18.875, 60.77734375, 22.51171875, 40.78125, 44.46484375, 19.77734375, 82.84375, 7.15234375, 7.984375, 68.97265625, 6.9609375, 22.60546875, 20.6328125, 7.60546875, 69.9453125, 50.1875, 34.92578125, 123.68359375, 47.19921875, 15.0234375, 29.0390625, 12.546875, 7.80859375, 27.75, 7.0, 129.01171875, 42.51171875, 20.88671875, 57.54296875, 54.08203125, 7.3359375, 34.8046875, 44.6328125, 34.01171875, 19.83984375, 42.90625, 83.41796875, 6.26171875, 37.296875, 30.484375, 53.87890625]\n",
      "[46.234375, 53.60546875, 105.57421875, 133.9296875, 147.27734375, 223.5078125, 230.484375, 263.16015625, 304.95703125, 327.3515625, 346.7265625, 368.13671875, 387.43359375, 400.9609375, 512.6953125, 576.515625, 611.55859375, 660.3828125, 688.37890625, 701.29296875, 734.890625, 784.15625, 790.9140625, 838.84765625, 917.27734375, 940.65234375, 974.8125, 987.89453125, 1022.39453125, 1042.71875, 1126.2421875, 1145.1171875, 1205.89453125, 1228.40625, 1269.1875, 1313.65234375, 1333.4296875, 1416.2734375, 1423.42578125, 1431.41015625, 1500.3828125, 1507.34375, 1529.94921875, 1550.58203125, 1558.1875, 1628.1328125, 1678.3203125, 1713.24609375, 1836.9296875, 1884.12890625, 1899.15234375, 1928.19140625, 1940.73828125, 1948.546875, 1976.296875, 1983.296875, 2112.30859375, 2154.8203125, 2175.70703125, 2233.25, 2287.33203125, 2294.66796875, 2329.47265625, 2374.10546875, 2408.1171875, 2427.95703125, 2470.86328125, 2554.28125, 2560.54296875, 2597.83984375, 2628.32421875, 2682.203125]\n",
      "[51.23828125, 58.609375, 110.578125, 138.93359375, 152.28125, 228.51171875, 235.48828125, 268.1640625, 309.9609375, 332.35546875, 351.73046875, 373.140625, 392.4375, 405.96484375, 517.69921875, 581.51953125, 616.5625, 665.38671875, 693.3828125, 706.296875, 739.89453125, 789.16015625, 795.91796875, 843.8515625, 922.28125, 945.65625, 979.81640625, 992.8984375, 1027.3984375, 1047.72265625, 1131.24609375, 1150.12109375, 1210.8984375, 1233.41015625, 1274.19140625, 1318.65625, 1338.43359375, 1421.27734375, 1428.4296875, 1436.4140625, 1505.38671875, 1512.34765625, 1534.953125, 1555.5859375, 1563.19140625, 1633.13671875, 1683.32421875, 1718.25, 1841.93359375, 1889.1328125, 1904.15625, 1933.1953125, 1945.7421875, 1953.55078125, 1981.30078125, 1988.30078125, 2117.3125, 2159.82421875, 2180.7109375, 2238.25390625, 2292.3359375, 2299.671875, 2334.4765625, 2379.109375, 2413.12109375, 2432.9609375, 2475.8671875, 2559.28515625, 2565.546875, 2602.84375, 2633.328125, 2687.20703125]\n"
     ]
    },
    {
     "name": "stdout",
     "output_type": "stream",
     "text": [
      "Report on: LateralGraspClassCue\n",
      "Total samples = 691044\n",
      "Sampling frequency (Hz) = 256\n",
      "Signal duration (s) = 2699.39\n",
      "Signal duration (min) = 44.99\n",
      "Total LateralGraspClassCue events = 72\n",
      "Indexes (sample) = [8943, 17585, 24019, 29582, 32903, 46994, 61145, 64521, 80600, 82341, 87409, 93206, 110498, 126312, 128047, 142325, 166138, 167711, 171424, 183488, 186837, 217073, 219069, 222632, 231771, 244712, 248117, 258926, 264198, 278187, 283528, 287238, 316986, 320389, 335009, 338405, 345414, 347188, 349056, 356141, 401282, 408593, 413920, 415691, 428386, 433336, 450390, 453549, 467353, 475933, 477591, 501281, 503030, 511851, 523015, 530436, 539303, 555876, 566717, 574106, 577448, 581319, 589753, 602789, 620220, 623896, 631110, 635028, 640479, 652734, 680444, 682293]\n",
      "Times (s) = [34.93359375, 68.69140625, 93.82421875, 115.5546875, 128.52734375, 183.5703125, 238.84765625, 252.03515625, 314.84375, 321.64453125, 341.44140625, 364.0859375, 431.6328125, 493.40625, 500.18359375, 555.95703125, 648.9765625, 655.12109375, 669.625, 716.75, 729.83203125, 847.94140625, 855.73828125, 869.65625, 905.35546875, 955.90625, 969.20703125, 1011.4296875, 1032.0234375, 1086.66796875, 1107.53125, 1122.0234375, 1238.2265625, 1251.51953125, 1308.62890625, 1321.89453125, 1349.2734375, 1356.203125, 1363.5, 1391.17578125, 1567.5078125, 1596.06640625, 1616.875, 1623.79296875, 1673.3828125, 1692.71875, 1759.3359375, 1771.67578125, 1825.59765625, 1859.11328125, 1865.58984375, 1958.12890625, 1964.9609375, 1999.41796875, 2043.02734375, 2072.015625, 2106.65234375, 2171.390625, 2213.73828125, 2242.6015625, 2255.65625, 2270.77734375, 2303.72265625, 2354.64453125, 2422.734375, 2437.09375, 2465.2734375, 2480.578125, 2501.87109375, 2549.7421875, 2657.984375, 2665.20703125]\n",
      "Duration between consecutive ones (s) = [33.7578125, 25.1328125, 21.73046875, 12.97265625, 55.04296875, 55.27734375, 13.1875, 62.80859375, 6.80078125, 19.796875, 22.64453125, 67.546875, 61.7734375, 6.77734375, 55.7734375, 93.01953125, 6.14453125, 14.50390625, 47.125, 13.08203125, 118.109375, 7.796875, 13.91796875, 35.69921875, 50.55078125, 13.30078125, 42.22265625, 20.59375, 54.64453125, 20.86328125, 14.4921875, 116.203125, 13.29296875, 57.109375, 13.265625, 27.37890625, 6.9296875, 7.296875, 27.67578125, 176.33203125, 28.55859375, 20.80859375, 6.91796875, 49.58984375, 19.3359375, 66.6171875, 12.33984375, 53.921875, 33.515625, 6.4765625, 92.5390625, 6.83203125, 34.45703125, 43.609375, 28.98828125, 34.63671875, 64.73828125, 42.34765625, 28.86328125, 13.0546875, 15.12109375, 32.9453125, 50.921875, 68.08984375, 14.359375, 28.1796875, 15.3046875, 21.29296875, 47.87109375, 108.2421875, 7.22265625]\n",
      "[32.93359375, 66.69140625, 91.82421875, 113.5546875, 126.52734375, 181.5703125, 236.84765625, 250.03515625, 312.84375, 319.64453125, 339.44140625, 362.0859375, 429.6328125, 491.40625, 498.18359375, 553.95703125, 646.9765625, 653.12109375, 667.625, 714.75, 727.83203125, 845.94140625, 853.73828125, 867.65625, 903.35546875, 953.90625, 967.20703125, 1009.4296875, 1030.0234375, 1084.66796875, 1105.53125, 1120.0234375, 1236.2265625, 1249.51953125, 1306.62890625, 1319.89453125, 1347.2734375, 1354.203125, 1361.5, 1389.17578125, 1565.5078125, 1594.06640625, 1614.875, 1621.79296875, 1671.3828125, 1690.71875, 1757.3359375, 1769.67578125, 1823.59765625, 1857.11328125, 1863.58984375, 1956.12890625, 1962.9609375, 1997.41796875, 2041.02734375, 2070.015625, 2104.65234375, 2169.390625, 2211.73828125, 2240.6015625, 2253.65625, 2268.77734375, 2301.72265625, 2352.64453125, 2420.734375, 2435.09375, 2463.2734375, 2478.578125, 2499.87109375, 2547.7421875, 2655.984375, 2663.20703125]\n",
      "[37.9375, 71.6953125, 96.828125, 118.55859375, 131.53125, 186.57421875, 241.8515625, 255.0390625, 317.84765625, 324.6484375, 344.4453125, 367.08984375, 434.63671875, 496.41015625, 503.1875, 558.9609375, 651.98046875, 658.125, 672.62890625, 719.75390625, 732.8359375, 850.9453125, 858.7421875, 872.66015625, 908.359375, 958.91015625, 972.2109375, 1014.43359375, 1035.02734375, 1089.671875, 1110.53515625, 1125.02734375, 1241.23046875, 1254.5234375, 1311.6328125, 1324.8984375, 1352.27734375, 1359.20703125, 1366.50390625, 1394.1796875, 1570.51171875, 1599.0703125, 1619.87890625, 1626.796875, 1676.38671875, 1695.72265625, 1762.33984375, 1774.6796875, 1828.6015625, 1862.1171875, 1868.59375, 1961.1328125, 1967.96484375, 2002.421875, 2046.03125, 2075.01953125, 2109.65625, 2174.39453125, 2216.7421875, 2245.60546875, 2258.66015625, 2273.78125, 2306.7265625, 2357.6484375, 2425.73828125, 2440.09765625, 2468.27734375, 2483.58203125, 2504.875, 2552.74609375, 2660.98828125, 2668.2109375]\n",
      "maxIter  5\n",
      "ovr 10.0 10.0 5 0.0001 l2 True 0.0001 squared_hinge 100000\n",
      "1 / 5\n",
      "2 / 5\n",
      "3 / 5\n",
      "4 / 5\n",
      "5 / 5\n"
     ]
    },
    {
     "name": "stderr",
     "output_type": "stream",
     "text": [
      "c:\\python36\\lib\\site-packages\\sklearn\\linear_model\\logistic.py:432: FutureWarning:\n",
      "\n",
      "Default solver will be changed to 'lbfgs' in 0.22. Specify a solver to silence this warning.\n",
      "\n"
     ]
    },
    {
     "name": "stdout",
     "output_type": "stream",
     "text": [
      "1 / 5\n"
     ]
    },
    {
     "name": "stderr",
     "output_type": "stream",
     "text": [
      "c:\\python36\\lib\\site-packages\\sklearn\\svm\\base.py:929: ConvergenceWarning:\n",
      "\n",
      "Liblinear failed to converge, increase the number of iterations.\n",
      "\n",
      "c:\\python36\\lib\\site-packages\\sklearn\\svm\\base.py:929: ConvergenceWarning:\n",
      "\n",
      "Liblinear failed to converge, increase the number of iterations.\n",
      "\n"
     ]
    },
    {
     "name": "stdout",
     "output_type": "stream",
     "text": [
      "2 / 5\n"
     ]
    },
    {
     "name": "stderr",
     "output_type": "stream",
     "text": [
      "c:\\python36\\lib\\site-packages\\sklearn\\svm\\base.py:929: ConvergenceWarning:\n",
      "\n",
      "Liblinear failed to converge, increase the number of iterations.\n",
      "\n",
      "c:\\python36\\lib\\site-packages\\sklearn\\svm\\base.py:929: ConvergenceWarning:\n",
      "\n",
      "Liblinear failed to converge, increase the number of iterations.\n",
      "\n"
     ]
    },
    {
     "name": "stdout",
     "output_type": "stream",
     "text": [
      "3 / 5\n"
     ]
    },
    {
     "name": "stderr",
     "output_type": "stream",
     "text": [
      "c:\\python36\\lib\\site-packages\\sklearn\\svm\\base.py:929: ConvergenceWarning:\n",
      "\n",
      "Liblinear failed to converge, increase the number of iterations.\n",
      "\n",
      "c:\\python36\\lib\\site-packages\\sklearn\\svm\\base.py:929: ConvergenceWarning:\n",
      "\n",
      "Liblinear failed to converge, increase the number of iterations.\n",
      "\n"
     ]
    },
    {
     "name": "stdout",
     "output_type": "stream",
     "text": [
      "4 / 5\n"
     ]
    },
    {
     "name": "stderr",
     "output_type": "stream",
     "text": [
      "c:\\python36\\lib\\site-packages\\sklearn\\svm\\base.py:929: ConvergenceWarning:\n",
      "\n",
      "Liblinear failed to converge, increase the number of iterations.\n",
      "\n",
      "c:\\python36\\lib\\site-packages\\sklearn\\svm\\base.py:929: ConvergenceWarning:\n",
      "\n",
      "Liblinear failed to converge, increase the number of iterations.\n",
      "\n"
     ]
    },
    {
     "name": "stdout",
     "output_type": "stream",
     "text": [
      "5 / 5\n"
     ]
    },
    {
     "name": "stderr",
     "output_type": "stream",
     "text": [
      "c:\\python36\\lib\\site-packages\\sklearn\\svm\\base.py:929: ConvergenceWarning:\n",
      "\n",
      "Liblinear failed to converge, increase the number of iterations.\n",
      "\n",
      "c:\\python36\\lib\\site-packages\\sklearn\\svm\\base.py:929: ConvergenceWarning:\n",
      "\n",
      "Liblinear failed to converge, increase the number of iterations.\n",
      "\n",
      "c:\\python36\\lib\\site-packages\\sklearn\\linear_model\\logistic.py:432: FutureWarning:\n",
      "\n",
      "Default solver will be changed to 'lbfgs' in 0.22. Specify a solver to silence this warning.\n",
      "\n"
     ]
    },
    {
     "name": "stdout",
     "output_type": "stream",
     "text": [
      "1 / 5\n"
     ]
    },
    {
     "name": "stderr",
     "output_type": "stream",
     "text": [
      "c:\\python36\\lib\\site-packages\\sklearn\\svm\\base.py:929: ConvergenceWarning:\n",
      "\n",
      "Liblinear failed to converge, increase the number of iterations.\n",
      "\n",
      "c:\\python36\\lib\\site-packages\\sklearn\\svm\\base.py:929: ConvergenceWarning:\n",
      "\n",
      "Liblinear failed to converge, increase the number of iterations.\n",
      "\n"
     ]
    },
    {
     "name": "stdout",
     "output_type": "stream",
     "text": [
      "2 / 5\n"
     ]
    },
    {
     "name": "stderr",
     "output_type": "stream",
     "text": [
      "c:\\python36\\lib\\site-packages\\sklearn\\svm\\base.py:929: ConvergenceWarning:\n",
      "\n",
      "Liblinear failed to converge, increase the number of iterations.\n",
      "\n",
      "c:\\python36\\lib\\site-packages\\sklearn\\svm\\base.py:929: ConvergenceWarning:\n",
      "\n",
      "Liblinear failed to converge, increase the number of iterations.\n",
      "\n"
     ]
    },
    {
     "name": "stdout",
     "output_type": "stream",
     "text": [
      "3 / 5\n"
     ]
    },
    {
     "name": "stderr",
     "output_type": "stream",
     "text": [
      "c:\\python36\\lib\\site-packages\\sklearn\\svm\\base.py:929: ConvergenceWarning:\n",
      "\n",
      "Liblinear failed to converge, increase the number of iterations.\n",
      "\n",
      "c:\\python36\\lib\\site-packages\\sklearn\\svm\\base.py:929: ConvergenceWarning:\n",
      "\n",
      "Liblinear failed to converge, increase the number of iterations.\n",
      "\n"
     ]
    },
    {
     "name": "stdout",
     "output_type": "stream",
     "text": [
      "4 / 5\n"
     ]
    },
    {
     "name": "stderr",
     "output_type": "stream",
     "text": [
      "c:\\python36\\lib\\site-packages\\sklearn\\svm\\base.py:929: ConvergenceWarning:\n",
      "\n",
      "Liblinear failed to converge, increase the number of iterations.\n",
      "\n",
      "c:\\python36\\lib\\site-packages\\sklearn\\svm\\base.py:929: ConvergenceWarning:\n",
      "\n",
      "Liblinear failed to converge, increase the number of iterations.\n",
      "\n"
     ]
    },
    {
     "name": "stdout",
     "output_type": "stream",
     "text": [
      "5 / 5\n"
     ]
    },
    {
     "name": "stderr",
     "output_type": "stream",
     "text": [
      "c:\\python36\\lib\\site-packages\\sklearn\\svm\\base.py:929: ConvergenceWarning:\n",
      "\n",
      "Liblinear failed to converge, increase the number of iterations.\n",
      "\n",
      "c:\\python36\\lib\\site-packages\\sklearn\\svm\\base.py:929: ConvergenceWarning:\n",
      "\n",
      "Liblinear failed to converge, increase the number of iterations.\n",
      "\n",
      "c:\\python36\\lib\\site-packages\\sklearn\\linear_model\\logistic.py:432: FutureWarning:\n",
      "\n",
      "Default solver will be changed to 'lbfgs' in 0.22. Specify a solver to silence this warning.\n",
      "\n"
     ]
    },
    {
     "name": "stdout",
     "output_type": "stream",
     "text": [
      "1 / 5\n"
     ]
    },
    {
     "name": "stderr",
     "output_type": "stream",
     "text": [
      "c:\\python36\\lib\\site-packages\\sklearn\\svm\\base.py:929: ConvergenceWarning:\n",
      "\n",
      "Liblinear failed to converge, increase the number of iterations.\n",
      "\n",
      "c:\\python36\\lib\\site-packages\\sklearn\\svm\\base.py:929: ConvergenceWarning:\n",
      "\n",
      "Liblinear failed to converge, increase the number of iterations.\n",
      "\n"
     ]
    },
    {
     "name": "stdout",
     "output_type": "stream",
     "text": [
      "2 / 5\n"
     ]
    },
    {
     "name": "stderr",
     "output_type": "stream",
     "text": [
      "c:\\python36\\lib\\site-packages\\sklearn\\svm\\base.py:929: ConvergenceWarning:\n",
      "\n",
      "Liblinear failed to converge, increase the number of iterations.\n",
      "\n",
      "c:\\python36\\lib\\site-packages\\sklearn\\svm\\base.py:929: ConvergenceWarning:\n",
      "\n",
      "Liblinear failed to converge, increase the number of iterations.\n",
      "\n"
     ]
    },
    {
     "name": "stdout",
     "output_type": "stream",
     "text": [
      "3 / 5\n"
     ]
    },
    {
     "name": "stderr",
     "output_type": "stream",
     "text": [
      "c:\\python36\\lib\\site-packages\\sklearn\\svm\\base.py:929: ConvergenceWarning:\n",
      "\n",
      "Liblinear failed to converge, increase the number of iterations.\n",
      "\n",
      "c:\\python36\\lib\\site-packages\\sklearn\\svm\\base.py:929: ConvergenceWarning:\n",
      "\n",
      "Liblinear failed to converge, increase the number of iterations.\n",
      "\n"
     ]
    },
    {
     "name": "stdout",
     "output_type": "stream",
     "text": [
      "4 / 5\n"
     ]
    },
    {
     "name": "stderr",
     "output_type": "stream",
     "text": [
      "c:\\python36\\lib\\site-packages\\sklearn\\svm\\base.py:929: ConvergenceWarning:\n",
      "\n",
      "Liblinear failed to converge, increase the number of iterations.\n",
      "\n",
      "c:\\python36\\lib\\site-packages\\sklearn\\svm\\base.py:929: ConvergenceWarning:\n",
      "\n",
      "Liblinear failed to converge, increase the number of iterations.\n",
      "\n"
     ]
    },
    {
     "name": "stdout",
     "output_type": "stream",
     "text": [
      "5 / 5\n"
     ]
    },
    {
     "name": "stderr",
     "output_type": "stream",
     "text": [
      "c:\\python36\\lib\\site-packages\\sklearn\\svm\\base.py:929: ConvergenceWarning:\n",
      "\n",
      "Liblinear failed to converge, increase the number of iterations.\n",
      "\n",
      "c:\\python36\\lib\\site-packages\\sklearn\\svm\\base.py:929: ConvergenceWarning:\n",
      "\n",
      "Liblinear failed to converge, increase the number of iterations.\n",
      "\n",
      "c:\\python36\\lib\\site-packages\\sklearn\\linear_model\\logistic.py:432: FutureWarning:\n",
      "\n",
      "Default solver will be changed to 'lbfgs' in 0.22. Specify a solver to silence this warning.\n",
      "\n"
     ]
    },
    {
     "name": "stdout",
     "output_type": "stream",
     "text": [
      "------------------------------------------------------------------------------------------------\n",
      "REPORT\n",
      "P01\n",
      "              precision    recall  f1-score   support\n",
      "\n",
      "        Rest       0.56      0.41      0.47        22\n",
      "    HandOpen       0.25      0.29      0.27        21\n",
      " PalmarGrasp       0.32      0.27      0.29        22\n",
      "LateralGrasp       0.32      0.41      0.36        22\n",
      "\n",
      "    accuracy                           0.34        87\n",
      "   macro avg       0.36      0.34      0.35        87\n",
      "weighted avg       0.36      0.34      0.35        87\n",
      "\n",
      "              precision    recall  f1-score   support\n",
      "\n",
      "        Rest       0.89      0.64      0.74        50\n",
      "    HandOpen       0.50      0.51      0.50        51\n",
      " PalmarGrasp       0.51      0.54      0.52        50\n",
      "LateralGrasp       0.43      0.52      0.47        50\n",
      "\n",
      "    accuracy                           0.55       201\n",
      "   macro avg       0.58      0.55      0.56       201\n",
      "weighted avg       0.58      0.55      0.56       201\n",
      "\n",
      "------------------------------------------------------------------------------------------------\n",
      "Extracting EDF parameters from D:\\DESARROLLO_PROYECTO_DOCTORADO\\pySTMM\\examples\\P02\\P02 Run 1.gdf...\n",
      "GDF file detected\n",
      "Setting channel info structure...\n",
      "Creating raw.info structure...\n",
      "Reading 0 ... 22015  =      0.000 ...    85.996 secs...\n",
      "Extracting EDF parameters from D:\\DESARROLLO_PROYECTO_DOCTORADO\\pySTMM\\examples\\P02\\P02 Run 10.gdf...\n",
      "GDF file detected\n",
      "Setting channel info structure...\n",
      "Creating raw.info structure...\n",
      "Reading 0 ... 78847  =      0.000 ...   307.996 secs...\n"
     ]
    },
    {
     "name": "stderr",
     "output_type": "stream",
     "text": [
      "c:\\python36\\lib\\site-packages\\mne\\io\\edf\\edf.py:1047: DeprecationWarning:\n",
      "\n",
      "The binary mode of fromstring is deprecated, as it behaves surprisingly on unicode inputs. Use frombuffer instead\n",
      "\n",
      "c:\\python36\\lib\\site-packages\\mne\\io\\edf\\edf.py:1047: DeprecationWarning:\n",
      "\n",
      "The binary mode of fromstring is deprecated, as it behaves surprisingly on unicode inputs. Use frombuffer instead\n",
      "\n"
     ]
    },
    {
     "name": "stdout",
     "output_type": "stream",
     "text": [
      "Extracting EDF parameters from D:\\DESARROLLO_PROYECTO_DOCTORADO\\pySTMM\\examples\\P02\\P02 Run 11.gdf...\n",
      "GDF file detected\n",
      "Setting channel info structure...\n",
      "Creating raw.info structure...\n",
      "Reading 0 ... 77055  =      0.000 ...   300.996 secs...\n",
      "Extracting EDF parameters from D:\\DESARROLLO_PROYECTO_DOCTORADO\\pySTMM\\examples\\P02\\P02 Run 12.gdf...\n",
      "GDF file detected\n",
      "Setting channel info structure...\n",
      "Creating raw.info structure...\n",
      "Reading 0 ... 77311  =      0.000 ...   301.996 secs...\n"
     ]
    },
    {
     "name": "stderr",
     "output_type": "stream",
     "text": [
      "c:\\python36\\lib\\site-packages\\mne\\io\\edf\\edf.py:1047: DeprecationWarning:\n",
      "\n",
      "The binary mode of fromstring is deprecated, as it behaves surprisingly on unicode inputs. Use frombuffer instead\n",
      "\n",
      "c:\\python36\\lib\\site-packages\\mne\\io\\edf\\edf.py:1047: DeprecationWarning:\n",
      "\n",
      "The binary mode of fromstring is deprecated, as it behaves surprisingly on unicode inputs. Use frombuffer instead\n",
      "\n"
     ]
    },
    {
     "name": "stdout",
     "output_type": "stream",
     "text": [
      "Extracting EDF parameters from D:\\DESARROLLO_PROYECTO_DOCTORADO\\pySTMM\\examples\\P02\\P02 Run 13.gdf...\n",
      "GDF file detected\n",
      "Setting channel info structure...\n",
      "Creating raw.info structure...\n",
      "Reading 0 ... 77055  =      0.000 ...   300.996 secs...\n",
      "Extracting EDF parameters from D:\\DESARROLLO_PROYECTO_DOCTORADO\\pySTMM\\examples\\P02\\P02 Run 14.gdf...\n",
      "GDF file detected\n",
      "Setting channel info structure...\n",
      "Creating raw.info structure...\n",
      "Reading 0 ... 22015  =      0.000 ...    85.996 secs...\n",
      "Extracting EDF parameters from D:\\DESARROLLO_PROYECTO_DOCTORADO\\pySTMM\\examples\\P02\\P02 Run 15.gdf...\n",
      "GDF file detected\n",
      "Setting channel info structure...\n",
      "Creating raw.info structure...\n",
      "Reading 0 ... 23295  =      0.000 ...    90.996 secs...\n"
     ]
    },
    {
     "name": "stderr",
     "output_type": "stream",
     "text": [
      "c:\\python36\\lib\\site-packages\\mne\\io\\edf\\edf.py:1047: DeprecationWarning:\n",
      "\n",
      "The binary mode of fromstring is deprecated, as it behaves surprisingly on unicode inputs. Use frombuffer instead\n",
      "\n",
      "c:\\python36\\lib\\site-packages\\mne\\io\\edf\\edf.py:1047: DeprecationWarning:\n",
      "\n",
      "The binary mode of fromstring is deprecated, as it behaves surprisingly on unicode inputs. Use frombuffer instead\n",
      "\n",
      "c:\\python36\\lib\\site-packages\\mne\\io\\edf\\edf.py:1047: DeprecationWarning:\n",
      "\n",
      "The binary mode of fromstring is deprecated, as it behaves surprisingly on unicode inputs. Use frombuffer instead\n",
      "\n"
     ]
    },
    {
     "name": "stdout",
     "output_type": "stream",
     "text": [
      "Extracting EDF parameters from D:\\DESARROLLO_PROYECTO_DOCTORADO\\pySTMM\\examples\\P02\\P02 Run 2.gdf...\n",
      "GDF file detected\n",
      "Setting channel info structure...\n",
      "Creating raw.info structure...\n",
      "Reading 0 ... 23295  =      0.000 ...    90.996 secs...\n"
     ]
    },
    {
     "name": "stderr",
     "output_type": "stream",
     "text": [
      "c:\\python36\\lib\\site-packages\\mne\\io\\edf\\edf.py:1047: DeprecationWarning:\n",
      "\n",
      "The binary mode of fromstring is deprecated, as it behaves surprisingly on unicode inputs. Use frombuffer instead\n",
      "\n"
     ]
    },
    {
     "name": "stdout",
     "output_type": "stream",
     "text": [
      "Extracting EDF parameters from D:\\DESARROLLO_PROYECTO_DOCTORADO\\pySTMM\\examples\\P02\\P02 Run 3.gdf...\n",
      "GDF file detected\n",
      "Setting channel info structure...\n",
      "Creating raw.info structure...\n",
      "Reading 0 ... 77055  =      0.000 ...   300.996 secs...\n",
      "Extracting EDF parameters from D:\\DESARROLLO_PROYECTO_DOCTORADO\\pySTMM\\examples\\P02\\P02 Run 4.gdf...\n",
      "GDF file detected\n",
      "Setting channel info structure...\n",
      "Creating raw.info structure...\n",
      "Reading 0 ... 77823  =      0.000 ...   303.996 secs...\n"
     ]
    },
    {
     "name": "stderr",
     "output_type": "stream",
     "text": [
      "c:\\python36\\lib\\site-packages\\mne\\io\\edf\\edf.py:1047: DeprecationWarning:\n",
      "\n",
      "The binary mode of fromstring is deprecated, as it behaves surprisingly on unicode inputs. Use frombuffer instead\n",
      "\n",
      "c:\\python36\\lib\\site-packages\\mne\\io\\edf\\edf.py:1047: DeprecationWarning:\n",
      "\n",
      "The binary mode of fromstring is deprecated, as it behaves surprisingly on unicode inputs. Use frombuffer instead\n",
      "\n"
     ]
    },
    {
     "name": "stdout",
     "output_type": "stream",
     "text": [
      "Extracting EDF parameters from D:\\DESARROLLO_PROYECTO_DOCTORADO\\pySTMM\\examples\\P02\\P02 Run 5.gdf...\n",
      "GDF file detected\n",
      "Setting channel info structure...\n",
      "Creating raw.info structure...\n",
      "Reading 0 ... 77055  =      0.000 ...   300.996 secs...\n",
      "Extracting EDF parameters from D:\\DESARROLLO_PROYECTO_DOCTORADO\\pySTMM\\examples\\P02\\P02 Run 6.gdf...\n",
      "GDF file detected\n",
      "Setting channel info structure...\n",
      "Creating raw.info structure...\n",
      "Reading 0 ... 77823  =      0.000 ...   303.996 secs...\n"
     ]
    },
    {
     "name": "stderr",
     "output_type": "stream",
     "text": [
      "c:\\python36\\lib\\site-packages\\mne\\io\\edf\\edf.py:1047: DeprecationWarning:\n",
      "\n",
      "The binary mode of fromstring is deprecated, as it behaves surprisingly on unicode inputs. Use frombuffer instead\n",
      "\n",
      "c:\\python36\\lib\\site-packages\\mne\\io\\edf\\edf.py:1047: DeprecationWarning:\n",
      "\n",
      "The binary mode of fromstring is deprecated, as it behaves surprisingly on unicode inputs. Use frombuffer instead\n",
      "\n"
     ]
    },
    {
     "name": "stdout",
     "output_type": "stream",
     "text": [
      "Extracting EDF parameters from D:\\DESARROLLO_PROYECTO_DOCTORADO\\pySTMM\\examples\\P02\\P02 Run 7.gdf...\n",
      "GDF file detected\n",
      "Setting channel info structure...\n",
      "Creating raw.info structure...\n",
      "Reading 0 ... 77311  =      0.000 ...   301.996 secs...\n"
     ]
    },
    {
     "name": "stderr",
     "output_type": "stream",
     "text": [
      "c:\\python36\\lib\\site-packages\\mne\\io\\edf\\edf.py:1047: DeprecationWarning:\n",
      "\n",
      "The binary mode of fromstring is deprecated, as it behaves surprisingly on unicode inputs. Use frombuffer instead\n",
      "\n"
     ]
    },
    {
     "name": "stdout",
     "output_type": "stream",
     "text": [
      "Extracting EDF parameters from D:\\DESARROLLO_PROYECTO_DOCTORADO\\pySTMM\\examples\\P02\\P02 Run 8.gdf...\n",
      "GDF file detected\n",
      "Setting channel info structure...\n",
      "Creating raw.info structure...\n",
      "Reading 0 ... 22015  =      0.000 ...    85.996 secs...\n",
      "Extracting EDF parameters from D:\\DESARROLLO_PROYECTO_DOCTORADO\\pySTMM\\examples\\P02\\P02 Run 9.gdf...\n",
      "GDF file detected\n",
      "Setting channel info structure...\n",
      "Creating raw.info structure...\n",
      "Reading 0 ... 23295  =      0.000 ...    90.996 secs...\n"
     ]
    },
    {
     "name": "stderr",
     "output_type": "stream",
     "text": [
      "c:\\python36\\lib\\site-packages\\mne\\io\\edf\\edf.py:1047: DeprecationWarning:\n",
      "\n",
      "The binary mode of fromstring is deprecated, as it behaves surprisingly on unicode inputs. Use frombuffer instead\n",
      "\n",
      "c:\\python36\\lib\\site-packages\\mne\\io\\edf\\edf.py:1047: DeprecationWarning:\n",
      "\n",
      "The binary mode of fromstring is deprecated, as it behaves surprisingly on unicode inputs. Use frombuffer instead\n",
      "\n"
     ]
    },
    {
     "name": "stdout",
     "output_type": "stream",
     "text": [
      "Extracting EDF parameters from D:\\DESARROLLO_PROYECTO_DOCTORADO\\pySTMM\\examples\\P02\\P02 Run 1.gdf...\n",
      "GDF file detected\n",
      "Setting channel info structure...\n",
      "Creating raw.info structure...\n",
      "Used Annotations descriptions: ['33536', '768', '785']\n",
      "Extracting EDF parameters from D:\\DESARROLLO_PROYECTO_DOCTORADO\\pySTMM\\examples\\P02\\P02 Run 2.gdf...\n",
      "GDF file detected\n",
      "Setting channel info structure...\n",
      "Creating raw.info structure...\n",
      "Used Annotations descriptions: ['33536', '33554', '768', '785', '786']\n"
     ]
    },
    {
     "name": "stderr",
     "output_type": "stream",
     "text": [
      "c:\\python36\\lib\\site-packages\\mne\\io\\edf\\edf.py:1047: DeprecationWarning:\n",
      "\n",
      "The binary mode of fromstring is deprecated, as it behaves surprisingly on unicode inputs. Use frombuffer instead\n",
      "\n",
      "c:\\python36\\lib\\site-packages\\mne\\io\\edf\\edf.py:1047: DeprecationWarning:\n",
      "\n",
      "The binary mode of fromstring is deprecated, as it behaves surprisingly on unicode inputs. Use frombuffer instead\n",
      "\n"
     ]
    },
    {
     "name": "stdout",
     "output_type": "stream",
     "text": [
      "Extracting EDF parameters from D:\\DESARROLLO_PROYECTO_DOCTORADO\\pySTMM\\examples\\P02\\P02 Run 3.gdf...\n",
      "GDF file detected\n",
      "Setting channel info structure...\n",
      "Creating raw.info structure...\n",
      "Used Annotations descriptions: ['33536', '33544', '33545', '33547', '33554', '33693', '33694', '768', '776', '777', '779', '785', '786', '925', '926']\n"
     ]
    },
    {
     "name": "stderr",
     "output_type": "stream",
     "text": [
      "c:\\python36\\lib\\site-packages\\mne\\io\\edf\\edf.py:1047: DeprecationWarning:\n",
      "\n",
      "The binary mode of fromstring is deprecated, as it behaves surprisingly on unicode inputs. Use frombuffer instead\n",
      "\n"
     ]
    },
    {
     "name": "stdout",
     "output_type": "stream",
     "text": [
      "Extracting EDF parameters from D:\\DESARROLLO_PROYECTO_DOCTORADO\\pySTMM\\examples\\P02\\P02 Run 4.gdf...\n",
      "GDF file detected\n",
      "Setting channel info structure...\n",
      "Creating raw.info structure...\n"
     ]
    },
    {
     "name": "stderr",
     "output_type": "stream",
     "text": [
      "c:\\python36\\lib\\site-packages\\mne\\io\\edf\\edf.py:1047: DeprecationWarning:\n",
      "\n",
      "The binary mode of fromstring is deprecated, as it behaves surprisingly on unicode inputs. Use frombuffer instead\n",
      "\n"
     ]
    },
    {
     "name": "stdout",
     "output_type": "stream",
     "text": [
      "Used Annotations descriptions: ['33536', '33544', '33545', '33547', '33554', '33693', '33694', '768', '776', '777', '779', '785', '786', '925', '926']\n",
      "Extracting EDF parameters from D:\\DESARROLLO_PROYECTO_DOCTORADO\\pySTMM\\examples\\P02\\P02 Run 5.gdf...\n",
      "GDF file detected\n",
      "Setting channel info structure...\n",
      "Creating raw.info structure...\n",
      "Used Annotations descriptions: ['33536', '33544', '33545', '33547', '33554', '33693', '33694', '768', '776', '777', '779', '785', '786', '925', '926']\n"
     ]
    },
    {
     "name": "stderr",
     "output_type": "stream",
     "text": [
      "c:\\python36\\lib\\site-packages\\mne\\io\\edf\\edf.py:1047: DeprecationWarning:\n",
      "\n",
      "The binary mode of fromstring is deprecated, as it behaves surprisingly on unicode inputs. Use frombuffer instead\n",
      "\n"
     ]
    },
    {
     "name": "stdout",
     "output_type": "stream",
     "text": [
      "Extracting EDF parameters from D:\\DESARROLLO_PROYECTO_DOCTORADO\\pySTMM\\examples\\P02\\P02 Run 6.gdf...\n",
      "GDF file detected\n",
      "Setting channel info structure...\n",
      "Creating raw.info structure...\n",
      "Used Annotations descriptions: ['33536', '33544', '33545', '33547', '33554', '33693', '33694', '768', '776', '777', '779', '785', '786', '925', '926']\n"
     ]
    },
    {
     "name": "stderr",
     "output_type": "stream",
     "text": [
      "c:\\python36\\lib\\site-packages\\mne\\io\\edf\\edf.py:1047: DeprecationWarning:\n",
      "\n",
      "The binary mode of fromstring is deprecated, as it behaves surprisingly on unicode inputs. Use frombuffer instead\n",
      "\n"
     ]
    },
    {
     "name": "stdout",
     "output_type": "stream",
     "text": [
      "Extracting EDF parameters from D:\\DESARROLLO_PROYECTO_DOCTORADO\\pySTMM\\examples\\P02\\P02 Run 7.gdf...\n",
      "GDF file detected\n",
      "Setting channel info structure...\n",
      "Creating raw.info structure...\n"
     ]
    },
    {
     "name": "stderr",
     "output_type": "stream",
     "text": [
      "c:\\python36\\lib\\site-packages\\mne\\io\\edf\\edf.py:1047: DeprecationWarning:\n",
      "\n",
      "The binary mode of fromstring is deprecated, as it behaves surprisingly on unicode inputs. Use frombuffer instead\n",
      "\n"
     ]
    },
    {
     "name": "stdout",
     "output_type": "stream",
     "text": [
      "Used Annotations descriptions: ['33536', '33544', '33545', '33547', '33554', '33693', '33694', '768', '776', '777', '779', '785', '786', '925', '926']\n",
      "Extracting EDF parameters from D:\\DESARROLLO_PROYECTO_DOCTORADO\\pySTMM\\examples\\P02\\P02 Run 8.gdf...\n",
      "GDF file detected\n",
      "Setting channel info structure...\n",
      "Creating raw.info structure...\n",
      "Used Annotations descriptions: ['33536', '768', '785']\n",
      "Extracting EDF parameters from D:\\DESARROLLO_PROYECTO_DOCTORADO\\pySTMM\\examples\\P02\\P02 Run 9.gdf...\n",
      "GDF file detected\n",
      "Setting channel info structure...\n",
      "Creating raw.info structure...\n",
      "Used Annotations descriptions: ['33536', '33554', '768', '785', '786']\n"
     ]
    },
    {
     "name": "stderr",
     "output_type": "stream",
     "text": [
      "c:\\python36\\lib\\site-packages\\mne\\io\\edf\\edf.py:1047: DeprecationWarning:\n",
      "\n",
      "The binary mode of fromstring is deprecated, as it behaves surprisingly on unicode inputs. Use frombuffer instead\n",
      "\n",
      "c:\\python36\\lib\\site-packages\\mne\\io\\edf\\edf.py:1047: DeprecationWarning:\n",
      "\n",
      "The binary mode of fromstring is deprecated, as it behaves surprisingly on unicode inputs. Use frombuffer instead\n",
      "\n"
     ]
    },
    {
     "name": "stdout",
     "output_type": "stream",
     "text": [
      "Extracting EDF parameters from D:\\DESARROLLO_PROYECTO_DOCTORADO\\pySTMM\\examples\\P02\\P02 Run 10.gdf...\n",
      "GDF file detected\n",
      "Setting channel info structure...\n",
      "Creating raw.info structure...\n",
      "Used Annotations descriptions: ['33536', '33544', '33545', '33547', '33554', '33693', '33694', '768', '776', '777', '779', '785', '786', '925', '926']\n"
     ]
    },
    {
     "name": "stderr",
     "output_type": "stream",
     "text": [
      "c:\\python36\\lib\\site-packages\\mne\\io\\edf\\edf.py:1047: DeprecationWarning:\n",
      "\n",
      "The binary mode of fromstring is deprecated, as it behaves surprisingly on unicode inputs. Use frombuffer instead\n",
      "\n"
     ]
    },
    {
     "name": "stdout",
     "output_type": "stream",
     "text": [
      "Extracting EDF parameters from D:\\DESARROLLO_PROYECTO_DOCTORADO\\pySTMM\\examples\\P02\\P02 Run 11.gdf...\n",
      "GDF file detected\n",
      "Setting channel info structure...\n",
      "Creating raw.info structure...\n"
     ]
    },
    {
     "name": "stderr",
     "output_type": "stream",
     "text": [
      "c:\\python36\\lib\\site-packages\\mne\\io\\edf\\edf.py:1047: DeprecationWarning:\n",
      "\n",
      "The binary mode of fromstring is deprecated, as it behaves surprisingly on unicode inputs. Use frombuffer instead\n",
      "\n"
     ]
    },
    {
     "name": "stdout",
     "output_type": "stream",
     "text": [
      "Used Annotations descriptions: ['33536', '33544', '33545', '33547', '33554', '33693', '33694', '768', '776', '777', '779', '785', '786', '925', '926']\n",
      "Extracting EDF parameters from D:\\DESARROLLO_PROYECTO_DOCTORADO\\pySTMM\\examples\\P02\\P02 Run 12.gdf...\n",
      "GDF file detected\n",
      "Setting channel info structure...\n",
      "Creating raw.info structure...\n",
      "Used Annotations descriptions: ['33536', '33544', '33545', '33547', '33554', '33693', '33694', '768', '776', '777', '779', '785', '786', '925', '926']\n"
     ]
    },
    {
     "name": "stderr",
     "output_type": "stream",
     "text": [
      "c:\\python36\\lib\\site-packages\\mne\\io\\edf\\edf.py:1047: DeprecationWarning:\n",
      "\n",
      "The binary mode of fromstring is deprecated, as it behaves surprisingly on unicode inputs. Use frombuffer instead\n",
      "\n"
     ]
    },
    {
     "name": "stdout",
     "output_type": "stream",
     "text": [
      "Extracting EDF parameters from D:\\DESARROLLO_PROYECTO_DOCTORADO\\pySTMM\\examples\\P02\\P02 Run 13.gdf...\n",
      "GDF file detected\n",
      "Setting channel info structure...\n",
      "Creating raw.info structure...\n"
     ]
    },
    {
     "name": "stderr",
     "output_type": "stream",
     "text": [
      "c:\\python36\\lib\\site-packages\\mne\\io\\edf\\edf.py:1047: DeprecationWarning:\n",
      "\n",
      "The binary mode of fromstring is deprecated, as it behaves surprisingly on unicode inputs. Use frombuffer instead\n",
      "\n"
     ]
    },
    {
     "name": "stdout",
     "output_type": "stream",
     "text": [
      "Used Annotations descriptions: ['33536', '33544', '33545', '33547', '33554', '33693', '33694', '768', '776', '777', '779', '785', '786', '925', '926']\n",
      "Extracting EDF parameters from D:\\DESARROLLO_PROYECTO_DOCTORADO\\pySTMM\\examples\\P02\\P02 Run 14.gdf...\n",
      "GDF file detected\n",
      "Setting channel info structure...\n",
      "Creating raw.info structure...\n",
      "Used Annotations descriptions: ['33536', '768', '785']\n",
      "Extracting EDF parameters from D:\\DESARROLLO_PROYECTO_DOCTORADO\\pySTMM\\examples\\P02\\P02 Run 15.gdf...\n",
      "GDF file detected\n",
      "Setting channel info structure...\n",
      "Creating raw.info structure...\n"
     ]
    },
    {
     "name": "stderr",
     "output_type": "stream",
     "text": [
      "c:\\python36\\lib\\site-packages\\mne\\io\\edf\\edf.py:1047: DeprecationWarning:\n",
      "\n",
      "The binary mode of fromstring is deprecated, as it behaves surprisingly on unicode inputs. Use frombuffer instead\n",
      "\n",
      "c:\\python36\\lib\\site-packages\\mne\\io\\edf\\edf.py:1047: DeprecationWarning:\n",
      "\n",
      "The binary mode of fromstring is deprecated, as it behaves surprisingly on unicode inputs. Use frombuffer instead\n",
      "\n"
     ]
    },
    {
     "name": "stdout",
     "output_type": "stream",
     "text": [
      "Used Annotations descriptions: ['33536', '33554', '768', '785', '786']\n",
      "Report on REST:\n",
      "Total samples = 69129\n",
      "Sampling frequency (Hz) = 256\n",
      "Signal duration (s) = 270.04\n",
      "Signal duration (min) = 4.50\n",
      "Total trial start events = 3\n",
      "Indexes (sample) = [2560, 25603, 48646]\n",
      "Times (s) = [10.0, 100.01171875, 190.0234375]\n",
      "Duration between consecutive ones (s) = [90.01171875, 90.01171875]\n",
      "[10.5, 13.0, 15.5, 18.0, 20.5, 23.0, 25.5, 28.0, 30.5, 33.0, 35.5, 38.0, 40.5, 43.0, 45.5, 48.0, 50.5, 53.0, 55.5, 58.0, 60.5, 63.0, 65.5, 68.0, 100.51171875, 103.01171875, 105.51171875, 108.01171875, 110.51171875, 113.01171875, 115.51171875, 118.01171875, 120.51171875, 123.01171875, 125.51171875, 128.01171875, 130.51171875, 133.01171875, 135.51171875, 138.01171875, 140.51171875, 143.01171875, 145.51171875, 148.01171875, 150.51171875, 153.01171875, 155.51171875, 158.01171875, 190.5234375, 193.0234375, 195.5234375, 198.0234375, 200.5234375, 203.0234375, 205.5234375, 208.0234375, 210.5234375, 213.0234375, 215.5234375, 218.0234375, 220.5234375, 223.0234375, 225.5234375, 228.0234375, 230.5234375, 233.0234375, 235.5234375, 238.0234375, 240.5234375, 243.0234375, 245.5234375, 248.0234375]\n",
      "[15.50390625, 18.00390625, 20.50390625, 23.00390625, 25.50390625, 28.00390625, 30.50390625, 33.00390625, 35.50390625, 38.00390625, 40.50390625, 43.00390625, 45.50390625, 48.00390625, 50.50390625, 53.00390625, 55.50390625, 58.00390625, 60.50390625, 63.00390625, 65.50390625, 68.00390625, 70.50390625, 73.00390625, 105.515625, 108.015625, 110.515625, 113.015625, 115.515625, 118.015625, 120.515625, 123.015625, 125.515625, 128.015625, 130.515625, 133.015625, 135.515625, 138.015625, 140.515625, 143.015625, 145.515625, 148.015625, 150.515625, 153.015625, 155.515625, 158.015625, 160.515625, 163.015625, 195.52734375, 198.02734375, 200.52734375, 203.02734375, 205.52734375, 208.02734375, 210.52734375, 213.02734375, 215.52734375, 218.02734375, 220.52734375, 223.02734375, 225.52734375, 228.02734375, 230.52734375, 233.02734375, 235.52734375, 238.02734375, 240.52734375, 243.02734375, 245.52734375, 248.02734375, 250.52734375, 253.02734375]\n",
      "Report on: HandOpenClassCue\n",
      "Total samples = 696411\n",
      "Sampling frequency (Hz) = 256\n",
      "Signal duration (s) = 2720.36\n",
      "Signal duration (min) = 45.34\n",
      "Total HandOpenClassCue events = 72\n",
      "Indexes (sample) = [6566, 19333, 39129, 48069, 56869, 65944, 69378, 71270, 89375, 91070, 98401, 107548, 120127, 136395, 138437, 140230, 169595, 180223, 191156, 205278, 209353, 211389, 216475, 223971, 238369, 240324, 263781, 287134, 290726, 294364, 296387, 301793, 321017, 324678, 339549, 342930, 357126, 362909, 366799, 379436, 389587, 394927, 406111, 424767, 426586, 453800, 459522, 461299, 471722, 490994, 492965, 498528, 502331, 512699, 525462, 536346, 545219, 556137, 557847, 561285, 572128, 581325, 592307, 607716, 622437, 624317, 639027, 644214, 645885, 660806, 664474, 680533]\n",
      "Times (s) = [25.6484375, 75.51953125, 152.84765625, 187.76953125, 222.14453125, 257.59375, 271.0078125, 278.3984375, 349.12109375, 355.7421875, 384.37890625, 420.109375, 469.24609375, 532.79296875, 540.76953125, 547.7734375, 662.48046875, 703.99609375, 746.703125, 801.8671875, 817.78515625, 825.73828125, 845.60546875, 874.88671875, 931.12890625, 938.765625, 1030.39453125, 1121.6171875, 1135.6484375, 1149.859375, 1157.76171875, 1178.87890625, 1253.97265625, 1268.2734375, 1326.36328125, 1339.5703125, 1395.0234375, 1417.61328125, 1432.80859375, 1482.171875, 1521.82421875, 1542.68359375, 1586.37109375, 1659.24609375, 1666.3515625, 1772.65625, 1795.0078125, 1801.94921875, 1842.6640625, 1917.9453125, 1925.64453125, 1947.375, 1962.23046875, 2002.73046875, 2052.5859375, 2095.1015625, 2129.76171875, 2172.41015625, 2179.08984375, 2192.51953125, 2234.875, 2270.80078125, 2313.69921875, 2373.890625, 2431.39453125, 2438.73828125, 2496.19921875, 2516.4609375, 2522.98828125, 2581.2734375, 2595.6015625, 2658.33203125]\n",
      "Duration between consecutive ones (s) = [49.87109375, 77.328125, 34.921875, 34.375, 35.44921875, 13.4140625, 7.390625, 70.72265625, 6.62109375, 28.63671875, 35.73046875, 49.13671875, 63.546875, 7.9765625, 7.00390625, 114.70703125, 41.515625, 42.70703125, 55.1640625, 15.91796875, 7.953125, 19.8671875, 29.28125, 56.2421875, 7.63671875, 91.62890625, 91.22265625, 14.03125, 14.2109375, 7.90234375, 21.1171875, 75.09375, 14.30078125, 58.08984375, 13.20703125, 55.453125, 22.58984375, 15.1953125, 49.36328125, 39.65234375, 20.859375, 43.6875, 72.875, 7.10546875, 106.3046875, 22.3515625, 6.94140625, 40.71484375, 75.28125, 7.69921875, 21.73046875, 14.85546875, 40.5, 49.85546875, 42.515625, 34.66015625, 42.6484375, 6.6796875, 13.4296875, 42.35546875, 35.92578125, 42.8984375, 60.19140625, 57.50390625, 7.34375, 57.4609375, 20.26171875, 6.52734375, 58.28515625, 14.328125, 62.73046875]\n",
      "[23.6484375, 73.51953125, 150.84765625, 185.76953125, 220.14453125, 255.59375, 269.0078125, 276.3984375, 347.12109375, 353.7421875, 382.37890625, 418.109375, 467.24609375, 530.79296875, 538.76953125, 545.7734375, 660.48046875, 701.99609375, 744.703125, 799.8671875, 815.78515625, 823.73828125, 843.60546875, 872.88671875, 929.12890625, 936.765625, 1028.39453125, 1119.6171875, 1133.6484375, 1147.859375, 1155.76171875, 1176.87890625, 1251.97265625, 1266.2734375, 1324.36328125, 1337.5703125, 1393.0234375, 1415.61328125, 1430.80859375, 1480.171875, 1519.82421875, 1540.68359375, 1584.37109375, 1657.24609375, 1664.3515625, 1770.65625, 1793.0078125, 1799.94921875, 1840.6640625, 1915.9453125, 1923.64453125, 1945.375, 1960.23046875, 2000.73046875, 2050.5859375, 2093.1015625, 2127.76171875, 2170.41015625, 2177.08984375, 2190.51953125, 2232.875, 2268.80078125, 2311.69921875, 2371.890625, 2429.39453125, 2436.73828125, 2494.19921875, 2514.4609375, 2520.98828125, 2579.2734375, 2593.6015625, 2656.33203125]\n",
      "[28.65234375, 78.5234375, 155.8515625, 190.7734375, 225.1484375, 260.59765625, 274.01171875, 281.40234375, 352.125, 358.74609375, 387.3828125, 423.11328125, 472.25, 535.796875, 543.7734375, 550.77734375, 665.484375, 707.0, 749.70703125, 804.87109375, 820.7890625, 828.7421875, 848.609375, 877.890625, 934.1328125, 941.76953125, 1033.3984375, 1124.62109375, 1138.65234375, 1152.86328125, 1160.765625, 1181.8828125, 1256.9765625, 1271.27734375, 1329.3671875, 1342.57421875, 1398.02734375, 1420.6171875, 1435.8125, 1485.17578125, 1524.828125, 1545.6875, 1589.375, 1662.25, 1669.35546875, 1775.66015625, 1798.01171875, 1804.953125, 1845.66796875, 1920.94921875, 1928.6484375, 1950.37890625, 1965.234375, 2005.734375, 2055.58984375, 2098.10546875, 2132.765625, 2175.4140625, 2182.09375, 2195.5234375, 2237.87890625, 2273.8046875, 2316.703125, 2376.89453125, 2434.3984375, 2441.7421875, 2499.203125, 2519.46484375, 2525.9921875, 2584.27734375, 2598.60546875, 2661.3359375]\n",
      "Report on: PalmarGraspClassCue\n",
      "Total samples = 696411\n",
      "Sampling frequency (Hz) = 256\n",
      "Signal duration (s) = 2720.36\n",
      "Signal duration (min) = 45.34\n",
      "Total PalmarGraspClassCue events = 72\n",
      "Indexes (sample) = [4692, 10455, 20895, 32278, 37341, 58549, 60380, 62424, 80081, 81863, 87650, 92932, 94879, 112785, 125633, 134574, 166237, 178320, 182166, 189600, 192812, 194811, 201915, 203707, 236734, 247617, 252964, 267695, 281540, 283418, 292328, 303754, 312461, 317540, 328524, 349879, 351482, 361030, 368834, 382627, 393135, 400439, 402212, 416885, 433736, 439264, 443193, 452253, 468375, 470027, 496943, 505903, 509434, 511076, 519994, 532776, 547137, 552538, 570089, 579313, 590439, 597150, 602582, 613572, 629673, 642673, 651954, 657494, 659060, 675032, 683767, 685602]\n",
      "Times (s) = [18.328125, 40.83984375, 81.62109375, 126.0859375, 145.86328125, 228.70703125, 235.859375, 243.84375, 312.81640625, 319.77734375, 342.3828125, 363.015625, 370.62109375, 440.56640625, 490.75390625, 525.6796875, 649.36328125, 696.5625, 711.5859375, 740.625, 753.171875, 760.98046875, 788.73046875, 795.73046875, 924.7421875, 967.25390625, 988.140625, 1045.68359375, 1099.765625, 1107.1015625, 1141.90625, 1186.5390625, 1220.55078125, 1240.390625, 1283.296875, 1366.71484375, 1372.9765625, 1410.2734375, 1440.7578125, 1494.63671875, 1535.68359375, 1564.21484375, 1571.140625, 1628.45703125, 1694.28125, 1715.875, 1731.22265625, 1766.61328125, 1829.58984375, 1836.04296875, 1941.18359375, 1976.18359375, 1989.9765625, 1996.390625, 2031.2265625, 2081.15625, 2137.25390625, 2158.3515625, 2226.91015625, 2262.94140625, 2306.40234375, 2332.6171875, 2353.8359375, 2396.765625, 2459.66015625, 2510.44140625, 2546.6953125, 2568.3359375, 2574.453125, 2636.84375, 2670.96484375, 2678.1328125]\n",
      "Duration between consecutive ones (s) = [22.51171875, 40.78125, 44.46484375, 19.77734375, 82.84375, 7.15234375, 7.984375, 68.97265625, 6.9609375, 22.60546875, 20.6328125, 7.60546875, 69.9453125, 50.1875, 34.92578125, 123.68359375, 47.19921875, 15.0234375, 29.0390625, 12.546875, 7.80859375, 27.75, 7.0, 129.01171875, 42.51171875, 20.88671875, 57.54296875, 54.08203125, 7.3359375, 34.8046875, 44.6328125, 34.01171875, 19.83984375, 42.90625, 83.41796875, 6.26171875, 37.296875, 30.484375, 53.87890625, 41.046875, 28.53125, 6.92578125, 57.31640625, 65.82421875, 21.59375, 15.34765625, 35.390625, 62.9765625, 6.453125, 105.140625, 35.0, 13.79296875, 6.4140625, 34.8359375, 49.9296875, 56.09765625, 21.09765625, 68.55859375, 36.03125, 43.4609375, 26.21484375, 21.21875, 42.9296875, 62.89453125, 50.78125, 36.25390625, 21.640625, 6.1171875, 62.390625, 34.12109375, 7.16796875]\n",
      "[16.328125, 38.83984375, 79.62109375, 124.0859375, 143.86328125, 226.70703125, 233.859375, 241.84375, 310.81640625, 317.77734375, 340.3828125, 361.015625, 368.62109375, 438.56640625, 488.75390625, 523.6796875, 647.36328125, 694.5625, 709.5859375, 738.625, 751.171875, 758.98046875, 786.73046875, 793.73046875, 922.7421875, 965.25390625, 986.140625, 1043.68359375, 1097.765625, 1105.1015625, 1139.90625, 1184.5390625, 1218.55078125, 1238.390625, 1281.296875, 1364.71484375, 1370.9765625, 1408.2734375, 1438.7578125, 1492.63671875, 1533.68359375, 1562.21484375, 1569.140625, 1626.45703125, 1692.28125, 1713.875, 1729.22265625, 1764.61328125, 1827.58984375, 1834.04296875, 1939.18359375, 1974.18359375, 1987.9765625, 1994.390625, 2029.2265625, 2079.15625, 2135.25390625, 2156.3515625, 2224.91015625, 2260.94140625, 2304.40234375, 2330.6171875, 2351.8359375, 2394.765625, 2457.66015625, 2508.44140625, 2544.6953125, 2566.3359375, 2572.453125, 2634.84375, 2668.96484375, 2676.1328125]\n",
      "[21.33203125, 43.84375, 84.625, 129.08984375, 148.8671875, 231.7109375, 238.86328125, 246.84765625, 315.8203125, 322.78125, 345.38671875, 366.01953125, 373.625, 443.5703125, 493.7578125, 528.68359375, 652.3671875, 699.56640625, 714.58984375, 743.62890625, 756.17578125, 763.984375, 791.734375, 798.734375, 927.74609375, 970.2578125, 991.14453125, 1048.6875, 1102.76953125, 1110.10546875, 1144.91015625, 1189.54296875, 1223.5546875, 1243.39453125, 1286.30078125, 1369.71875, 1375.98046875, 1413.27734375, 1443.76171875, 1497.640625, 1538.6875, 1567.21875, 1574.14453125, 1631.4609375, 1697.28515625, 1718.87890625, 1734.2265625, 1769.6171875, 1832.59375, 1839.046875, 1944.1875, 1979.1875, 1992.98046875, 1999.39453125, 2034.23046875, 2084.16015625, 2140.2578125, 2161.35546875, 2229.9140625, 2265.9453125, 2309.40625, 2335.62109375, 2356.83984375, 2399.76953125, 2462.6640625, 2513.4453125, 2549.69921875, 2571.33984375, 2577.45703125, 2639.84765625, 2673.96875, 2681.13671875]\n"
     ]
    },
    {
     "name": "stdout",
     "output_type": "stream",
     "text": [
      "Report on: LateralGraspClassCue\n",
      "Total samples = 696411\n",
      "Sampling frequency (Hz) = 256\n",
      "Signal duration (s) = 2720.36\n",
      "Signal duration (min) = 45.34\n",
      "Total LateralGraspClassCue events = 72\n",
      "Indexes (sample) = [12457, 15860, 30480, 33876, 40885, 42659, 44527, 51612, 96753, 104064, 109391, 111162, 123857, 128807, 145861, 149020, 162824, 171404, 173062, 196752, 198501, 207322, 218486, 225907, 234774, 251347, 262188, 269577, 272919, 276790, 285224, 298260, 315691, 319367, 326581, 330499, 335950, 348205, 375915, 377764, 396483, 398418, 407912, 418915, 422800, 435507, 437452, 441307, 473340, 482286, 494933, 504321, 514639, 523668, 530966, 534568, 549090, 573941, 577573, 583326, 586779, 588717, 593873, 606131, 626044, 628051, 631683, 635056, 666321, 671670, 673231, 682097]\n",
      "Times (s) = [48.66015625, 61.953125, 119.0625, 132.328125, 159.70703125, 166.63671875, 173.93359375, 201.609375, 377.94140625, 406.5, 427.30859375, 434.2265625, 483.81640625, 503.15234375, 569.76953125, 582.109375, 636.03125, 669.546875, 676.0234375, 768.5625, 775.39453125, 809.8515625, 853.4609375, 882.44921875, 917.0859375, 981.82421875, 1024.171875, 1053.03515625, 1066.08984375, 1081.2109375, 1114.15625, 1165.078125, 1233.16796875, 1247.52734375, 1275.70703125, 1291.01171875, 1312.3046875, 1360.17578125, 1468.41796875, 1475.640625, 1548.76171875, 1556.3203125, 1593.40625, 1636.38671875, 1651.5625, 1701.19921875, 1708.796875, 1723.85546875, 1848.984375, 1883.9296875, 1933.33203125, 1970.00390625, 2010.30859375, 2045.578125, 2074.0859375, 2088.15625, 2144.8828125, 2241.95703125, 2256.14453125, 2278.6171875, 2292.10546875, 2299.67578125, 2319.81640625, 2367.69921875, 2445.484375, 2453.32421875, 2467.51171875, 2480.6875, 2602.81640625, 2623.7109375, 2629.80859375, 2664.44140625]\n",
      "Duration between consecutive ones (s) = [13.29296875, 57.109375, 13.265625, 27.37890625, 6.9296875, 7.296875, 27.67578125, 176.33203125, 28.55859375, 20.80859375, 6.91796875, 49.58984375, 19.3359375, 66.6171875, 12.33984375, 53.921875, 33.515625, 6.4765625, 92.5390625, 6.83203125, 34.45703125, 43.609375, 28.98828125, 34.63671875, 64.73828125, 42.34765625, 28.86328125, 13.0546875, 15.12109375, 32.9453125, 50.921875, 68.08984375, 14.359375, 28.1796875, 15.3046875, 21.29296875, 47.87109375, 108.2421875, 7.22265625, 73.12109375, 7.55859375, 37.0859375, 42.98046875, 15.17578125, 49.63671875, 7.59765625, 15.05859375, 125.12890625, 34.9453125, 49.40234375, 36.671875, 40.3046875, 35.26953125, 28.5078125, 14.0703125, 56.7265625, 97.07421875, 14.1875, 22.47265625, 13.48828125, 7.5703125, 20.140625, 47.8828125, 77.78515625, 7.83984375, 14.1875, 13.17578125, 122.12890625, 20.89453125, 6.09765625, 34.6328125]\n",
      "[46.66015625, 59.953125, 117.0625, 130.328125, 157.70703125, 164.63671875, 171.93359375, 199.609375, 375.94140625, 404.5, 425.30859375, 432.2265625, 481.81640625, 501.15234375, 567.76953125, 580.109375, 634.03125, 667.546875, 674.0234375, 766.5625, 773.39453125, 807.8515625, 851.4609375, 880.44921875, 915.0859375, 979.82421875, 1022.171875, 1051.03515625, 1064.08984375, 1079.2109375, 1112.15625, 1163.078125, 1231.16796875, 1245.52734375, 1273.70703125, 1289.01171875, 1310.3046875, 1358.17578125, 1466.41796875, 1473.640625, 1546.76171875, 1554.3203125, 1591.40625, 1634.38671875, 1649.5625, 1699.19921875, 1706.796875, 1721.85546875, 1846.984375, 1881.9296875, 1931.33203125, 1968.00390625, 2008.30859375, 2043.578125, 2072.0859375, 2086.15625, 2142.8828125, 2239.95703125, 2254.14453125, 2276.6171875, 2290.10546875, 2297.67578125, 2317.81640625, 2365.69921875, 2443.484375, 2451.32421875, 2465.51171875, 2478.6875, 2600.81640625, 2621.7109375, 2627.80859375, 2662.44140625]\n",
      "[51.6640625, 64.95703125, 122.06640625, 135.33203125, 162.7109375, 169.640625, 176.9375, 204.61328125, 380.9453125, 409.50390625, 430.3125, 437.23046875, 486.8203125, 506.15625, 572.7734375, 585.11328125, 639.03515625, 672.55078125, 679.02734375, 771.56640625, 778.3984375, 812.85546875, 856.46484375, 885.453125, 920.08984375, 984.828125, 1027.17578125, 1056.0390625, 1069.09375, 1084.21484375, 1117.16015625, 1168.08203125, 1236.171875, 1250.53125, 1278.7109375, 1294.015625, 1315.30859375, 1363.1796875, 1471.421875, 1478.64453125, 1551.765625, 1559.32421875, 1596.41015625, 1639.390625, 1654.56640625, 1704.203125, 1711.80078125, 1726.859375, 1851.98828125, 1886.93359375, 1936.3359375, 1973.0078125, 2013.3125, 2048.58203125, 2077.08984375, 2091.16015625, 2147.88671875, 2244.9609375, 2259.1484375, 2281.62109375, 2295.109375, 2302.6796875, 2322.8203125, 2370.703125, 2448.48828125, 2456.328125, 2470.515625, 2483.69140625, 2605.8203125, 2626.71484375, 2632.8125, 2667.4453125]\n",
      "maxIter  5\n",
      "ovr 10.0 10.0 5 0.0001 l2 True 0.0001 squared_hinge 100000\n",
      "1 / 5\n",
      "2 / 5\n",
      "3 / 5\n",
      "4 / 5\n",
      "5 / 5\n",
      "1 / 5\n"
     ]
    },
    {
     "name": "stderr",
     "output_type": "stream",
     "text": [
      "c:\\python36\\lib\\site-packages\\sklearn\\linear_model\\logistic.py:432: FutureWarning:\n",
      "\n",
      "Default solver will be changed to 'lbfgs' in 0.22. Specify a solver to silence this warning.\n",
      "\n",
      "c:\\python36\\lib\\site-packages\\sklearn\\svm\\base.py:929: ConvergenceWarning:\n",
      "\n",
      "Liblinear failed to converge, increase the number of iterations.\n",
      "\n"
     ]
    },
    {
     "name": "stdout",
     "output_type": "stream",
     "text": [
      "2 / 5\n"
     ]
    },
    {
     "name": "stderr",
     "output_type": "stream",
     "text": [
      "c:\\python36\\lib\\site-packages\\sklearn\\svm\\base.py:929: ConvergenceWarning:\n",
      "\n",
      "Liblinear failed to converge, increase the number of iterations.\n",
      "\n",
      "c:\\python36\\lib\\site-packages\\sklearn\\svm\\base.py:929: ConvergenceWarning:\n",
      "\n",
      "Liblinear failed to converge, increase the number of iterations.\n",
      "\n"
     ]
    },
    {
     "name": "stdout",
     "output_type": "stream",
     "text": [
      "3 / 5\n"
     ]
    },
    {
     "name": "stderr",
     "output_type": "stream",
     "text": [
      "c:\\python36\\lib\\site-packages\\sklearn\\svm\\base.py:929: ConvergenceWarning:\n",
      "\n",
      "Liblinear failed to converge, increase the number of iterations.\n",
      "\n"
     ]
    },
    {
     "name": "stdout",
     "output_type": "stream",
     "text": [
      "4 / 5\n"
     ]
    },
    {
     "name": "stderr",
     "output_type": "stream",
     "text": [
      "c:\\python36\\lib\\site-packages\\sklearn\\svm\\base.py:929: ConvergenceWarning:\n",
      "\n",
      "Liblinear failed to converge, increase the number of iterations.\n",
      "\n"
     ]
    },
    {
     "name": "stdout",
     "output_type": "stream",
     "text": [
      "5 / 5\n"
     ]
    },
    {
     "name": "stderr",
     "output_type": "stream",
     "text": [
      "c:\\python36\\lib\\site-packages\\sklearn\\svm\\base.py:929: ConvergenceWarning:\n",
      "\n",
      "Liblinear failed to converge, increase the number of iterations.\n",
      "\n",
      "c:\\python36\\lib\\site-packages\\sklearn\\svm\\base.py:929: ConvergenceWarning:\n",
      "\n",
      "Liblinear failed to converge, increase the number of iterations.\n",
      "\n",
      "c:\\python36\\lib\\site-packages\\sklearn\\linear_model\\logistic.py:432: FutureWarning:\n",
      "\n",
      "Default solver will be changed to 'lbfgs' in 0.22. Specify a solver to silence this warning.\n",
      "\n"
     ]
    },
    {
     "name": "stdout",
     "output_type": "stream",
     "text": [
      "1 / 5\n"
     ]
    },
    {
     "name": "stderr",
     "output_type": "stream",
     "text": [
      "c:\\python36\\lib\\site-packages\\sklearn\\svm\\base.py:929: ConvergenceWarning:\n",
      "\n",
      "Liblinear failed to converge, increase the number of iterations.\n",
      "\n"
     ]
    },
    {
     "name": "stdout",
     "output_type": "stream",
     "text": [
      "2 / 5\n"
     ]
    },
    {
     "name": "stderr",
     "output_type": "stream",
     "text": [
      "c:\\python36\\lib\\site-packages\\sklearn\\svm\\base.py:929: ConvergenceWarning:\n",
      "\n",
      "Liblinear failed to converge, increase the number of iterations.\n",
      "\n",
      "c:\\python36\\lib\\site-packages\\sklearn\\svm\\base.py:929: ConvergenceWarning:\n",
      "\n",
      "Liblinear failed to converge, increase the number of iterations.\n",
      "\n"
     ]
    },
    {
     "name": "stdout",
     "output_type": "stream",
     "text": [
      "3 / 5\n"
     ]
    },
    {
     "name": "stderr",
     "output_type": "stream",
     "text": [
      "c:\\python36\\lib\\site-packages\\sklearn\\svm\\base.py:929: ConvergenceWarning:\n",
      "\n",
      "Liblinear failed to converge, increase the number of iterations.\n",
      "\n"
     ]
    },
    {
     "name": "stdout",
     "output_type": "stream",
     "text": [
      "4 / 5\n",
      "5 / 5\n"
     ]
    },
    {
     "name": "stderr",
     "output_type": "stream",
     "text": [
      "c:\\python36\\lib\\site-packages\\sklearn\\linear_model\\logistic.py:432: FutureWarning:\n",
      "\n",
      "Default solver will be changed to 'lbfgs' in 0.22. Specify a solver to silence this warning.\n",
      "\n"
     ]
    },
    {
     "name": "stdout",
     "output_type": "stream",
     "text": [
      "1 / 5\n"
     ]
    },
    {
     "name": "stderr",
     "output_type": "stream",
     "text": [
      "c:\\python36\\lib\\site-packages\\sklearn\\svm\\base.py:929: ConvergenceWarning:\n",
      "\n",
      "Liblinear failed to converge, increase the number of iterations.\n",
      "\n"
     ]
    },
    {
     "name": "stdout",
     "output_type": "stream",
     "text": [
      "2 / 5\n"
     ]
    },
    {
     "name": "stderr",
     "output_type": "stream",
     "text": [
      "c:\\python36\\lib\\site-packages\\sklearn\\svm\\base.py:929: ConvergenceWarning:\n",
      "\n",
      "Liblinear failed to converge, increase the number of iterations.\n",
      "\n"
     ]
    },
    {
     "name": "stdout",
     "output_type": "stream",
     "text": [
      "3 / 5\n",
      "4 / 5\n",
      "5 / 5\n"
     ]
    },
    {
     "name": "stderr",
     "output_type": "stream",
     "text": [
      "c:\\python36\\lib\\site-packages\\sklearn\\linear_model\\logistic.py:432: FutureWarning:\n",
      "\n",
      "Default solver will be changed to 'lbfgs' in 0.22. Specify a solver to silence this warning.\n",
      "\n"
     ]
    },
    {
     "name": "stdout",
     "output_type": "stream",
     "text": [
      "------------------------------------------------------------------------------------------------\n",
      "REPORT\n",
      "P02\n",
      "              precision    recall  f1-score   support\n",
      "\n",
      "        Rest       0.44      0.50      0.47        22\n",
      "    HandOpen       0.24      0.19      0.21        21\n",
      " PalmarGrasp       0.32      0.36      0.34        22\n",
      "LateralGrasp       0.40      0.36      0.38        22\n",
      "\n",
      "    accuracy                           0.36        87\n",
      "   macro avg       0.35      0.35      0.35        87\n",
      "weighted avg       0.35      0.36      0.35        87\n",
      "\n",
      "              precision    recall  f1-score   support\n",
      "\n",
      "        Rest       1.00      1.00      1.00        50\n",
      "    HandOpen       1.00      1.00      1.00        51\n",
      " PalmarGrasp       1.00      1.00      1.00        50\n",
      "LateralGrasp       1.00      1.00      1.00        50\n",
      "\n",
      "    accuracy                           1.00       201\n",
      "   macro avg       1.00      1.00      1.00       201\n",
      "weighted avg       1.00      1.00      1.00       201\n",
      "\n",
      "------------------------------------------------------------------------------------------------\n",
      "Extracting EDF parameters from D:\\DESARROLLO_PROYECTO_DOCTORADO\\pySTMM\\examples\\P03\\P03 Run 1.gdf...\n",
      "GDF file detected\n",
      "Setting channel info structure...\n",
      "Creating raw.info structure...\n",
      "Reading 0 ... 22015  =      0.000 ...    85.996 secs...\n",
      "Extracting EDF parameters from D:\\DESARROLLO_PROYECTO_DOCTORADO\\pySTMM\\examples\\P03\\P03 Run 10.gdf...\n",
      "GDF file detected\n",
      "Setting channel info structure...\n",
      "Creating raw.info structure...\n",
      "Reading 0 ... 77055  =      0.000 ...   300.996 secs...\n"
     ]
    },
    {
     "name": "stderr",
     "output_type": "stream",
     "text": [
      "c:\\python36\\lib\\site-packages\\mne\\io\\edf\\edf.py:1047: DeprecationWarning:\n",
      "\n",
      "The binary mode of fromstring is deprecated, as it behaves surprisingly on unicode inputs. Use frombuffer instead\n",
      "\n",
      "c:\\python36\\lib\\site-packages\\mne\\io\\edf\\edf.py:1047: DeprecationWarning:\n",
      "\n",
      "The binary mode of fromstring is deprecated, as it behaves surprisingly on unicode inputs. Use frombuffer instead\n",
      "\n"
     ]
    },
    {
     "name": "stdout",
     "output_type": "stream",
     "text": [
      "Extracting EDF parameters from D:\\DESARROLLO_PROYECTO_DOCTORADO\\pySTMM\\examples\\P03\\P03 Run 11.gdf...\n",
      "GDF file detected\n",
      "Setting channel info structure...\n",
      "Creating raw.info structure...\n",
      "Reading 0 ... 77823  =      0.000 ...   303.996 secs...\n",
      "Extracting EDF parameters from D:\\DESARROLLO_PROYECTO_DOCTORADO\\pySTMM\\examples\\P03\\P03 Run 12.gdf...\n",
      "GDF file detected\n"
     ]
    },
    {
     "name": "stderr",
     "output_type": "stream",
     "text": [
      "c:\\python36\\lib\\site-packages\\mne\\io\\edf\\edf.py:1047: DeprecationWarning:\n",
      "\n",
      "The binary mode of fromstring is deprecated, as it behaves surprisingly on unicode inputs. Use frombuffer instead\n",
      "\n",
      "c:\\python36\\lib\\site-packages\\mne\\io\\edf\\edf.py:1047: DeprecationWarning:\n",
      "\n",
      "The binary mode of fromstring is deprecated, as it behaves surprisingly on unicode inputs. Use frombuffer instead\n",
      "\n"
     ]
    },
    {
     "name": "stdout",
     "output_type": "stream",
     "text": [
      "Setting channel info structure...\n",
      "Creating raw.info structure...\n",
      "Reading 0 ... 77311  =      0.000 ...   301.996 secs...\n",
      "Extracting EDF parameters from D:\\DESARROLLO_PROYECTO_DOCTORADO\\pySTMM\\examples\\P03\\P03 Run 13.gdf...\n",
      "GDF file detected\n",
      "Setting channel info structure...\n",
      "Creating raw.info structure...\n",
      "Reading 0 ... 78847  =      0.000 ...   307.996 secs...\n"
     ]
    },
    {
     "name": "stderr",
     "output_type": "stream",
     "text": [
      "c:\\python36\\lib\\site-packages\\mne\\io\\edf\\edf.py:1047: DeprecationWarning:\n",
      "\n",
      "The binary mode of fromstring is deprecated, as it behaves surprisingly on unicode inputs. Use frombuffer instead\n",
      "\n"
     ]
    },
    {
     "name": "stdout",
     "output_type": "stream",
     "text": [
      "Extracting EDF parameters from D:\\DESARROLLO_PROYECTO_DOCTORADO\\pySTMM\\examples\\P03\\P03 Run 14.gdf...\n",
      "GDF file detected\n",
      "Setting channel info structure...\n",
      "Creating raw.info structure...\n",
      "Reading 0 ... 22015  =      0.000 ...    85.996 secs...\n",
      "Extracting EDF parameters from D:\\DESARROLLO_PROYECTO_DOCTORADO\\pySTMM\\examples\\P03\\P03 Run 15.gdf...\n",
      "GDF file detected\n",
      "Setting channel info structure...\n",
      "Creating raw.info structure...\n",
      "Reading 0 ... 23295  =      0.000 ...    90.996 secs...\n",
      "Extracting EDF parameters from D:\\DESARROLLO_PROYECTO_DOCTORADO\\pySTMM\\examples\\P03\\P03 Run 2.gdf...\n",
      "GDF file detected\n",
      "Setting channel info structure...\n",
      "Creating raw.info structure...\n",
      "Reading 0 ... 23295  =      0.000 ...    90.996 secs...\n",
      "Extracting EDF parameters from D:\\DESARROLLO_PROYECTO_DOCTORADO\\pySTMM\\examples\\P03\\P03 Run 3.gdf...\n",
      "GDF file detected\n",
      "Setting channel info structure...\n"
     ]
    },
    {
     "name": "stderr",
     "output_type": "stream",
     "text": [
      "c:\\python36\\lib\\site-packages\\mne\\io\\edf\\edf.py:1047: DeprecationWarning:\n",
      "\n",
      "The binary mode of fromstring is deprecated, as it behaves surprisingly on unicode inputs. Use frombuffer instead\n",
      "\n",
      "c:\\python36\\lib\\site-packages\\mne\\io\\edf\\edf.py:1047: DeprecationWarning:\n",
      "\n",
      "The binary mode of fromstring is deprecated, as it behaves surprisingly on unicode inputs. Use frombuffer instead\n",
      "\n",
      "c:\\python36\\lib\\site-packages\\mne\\io\\edf\\edf.py:1047: DeprecationWarning:\n",
      "\n",
      "The binary mode of fromstring is deprecated, as it behaves surprisingly on unicode inputs. Use frombuffer instead\n",
      "\n",
      "c:\\python36\\lib\\site-packages\\mne\\io\\edf\\edf.py:1047: DeprecationWarning:\n",
      "\n",
      "The binary mode of fromstring is deprecated, as it behaves surprisingly on unicode inputs. Use frombuffer instead\n",
      "\n"
     ]
    },
    {
     "name": "stdout",
     "output_type": "stream",
     "text": [
      "Creating raw.info structure...\n",
      "Reading 0 ... 76543  =      0.000 ...   298.996 secs...\n",
      "Extracting EDF parameters from D:\\DESARROLLO_PROYECTO_DOCTORADO\\pySTMM\\examples\\P03\\P03 Run 4.gdf...\n",
      "GDF file detected\n",
      "Setting channel info structure...\n",
      "Creating raw.info structure...\n",
      "Reading 0 ... 76799  =      0.000 ...   299.996 secs...\n",
      "Extracting EDF parameters from D:\\DESARROLLO_PROYECTO_DOCTORADO\\pySTMM\\examples\\P03\\P03 Run 5.gdf...\n",
      "GDF file detected\n",
      "Setting channel info structure...\n",
      "Creating raw.info structure...\n",
      "Reading 0 ... 76031  =      0.000 ...   296.996 secs...\n"
     ]
    },
    {
     "name": "stderr",
     "output_type": "stream",
     "text": [
      "c:\\python36\\lib\\site-packages\\mne\\io\\edf\\edf.py:1047: DeprecationWarning:\n",
      "\n",
      "The binary mode of fromstring is deprecated, as it behaves surprisingly on unicode inputs. Use frombuffer instead\n",
      "\n",
      "c:\\python36\\lib\\site-packages\\mne\\io\\edf\\edf.py:1047: DeprecationWarning:\n",
      "\n",
      "The binary mode of fromstring is deprecated, as it behaves surprisingly on unicode inputs. Use frombuffer instead\n",
      "\n"
     ]
    },
    {
     "name": "stdout",
     "output_type": "stream",
     "text": [
      "Extracting EDF parameters from D:\\DESARROLLO_PROYECTO_DOCTORADO\\pySTMM\\examples\\P03\\P03 Run 6.gdf...\n",
      "GDF file detected\n",
      "Setting channel info structure...\n",
      "Creating raw.info structure...\n",
      "Reading 0 ... 77055  =      0.000 ...   300.996 secs...\n",
      "Extracting EDF parameters from D:\\DESARROLLO_PROYECTO_DOCTORADO\\pySTMM\\examples\\P03\\P03 Run 7.gdf...\n",
      "GDF file detected\n",
      "Setting channel info structure...\n",
      "Creating raw.info structure...\n",
      "Reading 0 ... 77823  =      0.000 ...   303.996 secs...\n"
     ]
    },
    {
     "name": "stderr",
     "output_type": "stream",
     "text": [
      "c:\\python36\\lib\\site-packages\\mne\\io\\edf\\edf.py:1047: DeprecationWarning:\n",
      "\n",
      "The binary mode of fromstring is deprecated, as it behaves surprisingly on unicode inputs. Use frombuffer instead\n",
      "\n",
      "c:\\python36\\lib\\site-packages\\mne\\io\\edf\\edf.py:1047: DeprecationWarning:\n",
      "\n",
      "The binary mode of fromstring is deprecated, as it behaves surprisingly on unicode inputs. Use frombuffer instead\n",
      "\n"
     ]
    },
    {
     "name": "stdout",
     "output_type": "stream",
     "text": [
      "Extracting EDF parameters from D:\\DESARROLLO_PROYECTO_DOCTORADO\\pySTMM\\examples\\P03\\P03 Run 8.gdf...\n",
      "GDF file detected\n",
      "Setting channel info structure...\n",
      "Creating raw.info structure...\n",
      "Reading 0 ... 22015  =      0.000 ...    85.996 secs...\n",
      "Extracting EDF parameters from D:\\DESARROLLO_PROYECTO_DOCTORADO\\pySTMM\\examples\\P03\\P03 Run 9.gdf...\n",
      "GDF file detected\n",
      "Setting channel info structure...\n",
      "Creating raw.info structure...\n",
      "Reading 0 ... 23295  =      0.000 ...    90.996 secs...\n"
     ]
    },
    {
     "name": "stderr",
     "output_type": "stream",
     "text": [
      "c:\\python36\\lib\\site-packages\\mne\\io\\edf\\edf.py:1047: DeprecationWarning:\n",
      "\n",
      "The binary mode of fromstring is deprecated, as it behaves surprisingly on unicode inputs. Use frombuffer instead\n",
      "\n",
      "c:\\python36\\lib\\site-packages\\mne\\io\\edf\\edf.py:1047: DeprecationWarning:\n",
      "\n",
      "The binary mode of fromstring is deprecated, as it behaves surprisingly on unicode inputs. Use frombuffer instead\n",
      "\n"
     ]
    },
    {
     "name": "stdout",
     "output_type": "stream",
     "text": [
      "Extracting EDF parameters from D:\\DESARROLLO_PROYECTO_DOCTORADO\\pySTMM\\examples\\P03\\P03 Run 1.gdf...\n",
      "GDF file detected\n",
      "Setting channel info structure...\n",
      "Creating raw.info structure...\n",
      "Used Annotations descriptions: ['33536', '768', '785']\n",
      "Extracting EDF parameters from D:\\DESARROLLO_PROYECTO_DOCTORADO\\pySTMM\\examples\\P03\\P03 Run 2.gdf...\n",
      "GDF file detected\n",
      "Setting channel info structure...\n",
      "Creating raw.info structure...\n"
     ]
    },
    {
     "name": "stderr",
     "output_type": "stream",
     "text": [
      "c:\\python36\\lib\\site-packages\\mne\\io\\edf\\edf.py:1047: DeprecationWarning:\n",
      "\n",
      "The binary mode of fromstring is deprecated, as it behaves surprisingly on unicode inputs. Use frombuffer instead\n",
      "\n",
      "c:\\python36\\lib\\site-packages\\mne\\io\\edf\\edf.py:1047: DeprecationWarning:\n",
      "\n",
      "The binary mode of fromstring is deprecated, as it behaves surprisingly on unicode inputs. Use frombuffer instead\n",
      "\n"
     ]
    },
    {
     "name": "stdout",
     "output_type": "stream",
     "text": [
      "Used Annotations descriptions: ['33536', '33554', '768', '785', '786']\n",
      "Extracting EDF parameters from D:\\DESARROLLO_PROYECTO_DOCTORADO\\pySTMM\\examples\\P03\\P03 Run 3.gdf...\n",
      "GDF file detected\n",
      "Setting channel info structure...\n",
      "Creating raw.info structure...\n"
     ]
    },
    {
     "name": "stderr",
     "output_type": "stream",
     "text": [
      "c:\\python36\\lib\\site-packages\\mne\\io\\edf\\edf.py:1047: DeprecationWarning:\n",
      "\n",
      "The binary mode of fromstring is deprecated, as it behaves surprisingly on unicode inputs. Use frombuffer instead\n",
      "\n"
     ]
    },
    {
     "name": "stdout",
     "output_type": "stream",
     "text": [
      "Used Annotations descriptions: ['33536', '33544', '33545', '33547', '33554', '33693', '33694', '768', '776', '777', '779', '785', '786', '925', '926']\n",
      "Extracting EDF parameters from D:\\DESARROLLO_PROYECTO_DOCTORADO\\pySTMM\\examples\\P03\\P03 Run 4.gdf...\n",
      "GDF file detected\n",
      "Setting channel info structure...\n",
      "Creating raw.info structure...\n",
      "Used Annotations descriptions: ['33536', '33544', '33545', '33547', '33554', '33693', '33694', '768', '776', '777', '779', '785', '786', '925', '926']\n"
     ]
    },
    {
     "name": "stderr",
     "output_type": "stream",
     "text": [
      "c:\\python36\\lib\\site-packages\\mne\\io\\edf\\edf.py:1047: DeprecationWarning:\n",
      "\n",
      "The binary mode of fromstring is deprecated, as it behaves surprisingly on unicode inputs. Use frombuffer instead\n",
      "\n"
     ]
    },
    {
     "name": "stdout",
     "output_type": "stream",
     "text": [
      "Extracting EDF parameters from D:\\DESARROLLO_PROYECTO_DOCTORADO\\pySTMM\\examples\\P03\\P03 Run 5.gdf...\n",
      "GDF file detected\n",
      "Setting channel info structure...\n",
      "Creating raw.info structure...\n"
     ]
    },
    {
     "name": "stderr",
     "output_type": "stream",
     "text": [
      "c:\\python36\\lib\\site-packages\\mne\\io\\edf\\edf.py:1047: DeprecationWarning:\n",
      "\n",
      "The binary mode of fromstring is deprecated, as it behaves surprisingly on unicode inputs. Use frombuffer instead\n",
      "\n"
     ]
    },
    {
     "name": "stdout",
     "output_type": "stream",
     "text": [
      "Used Annotations descriptions: ['33536', '33544', '33545', '33547', '33554', '33693', '33694', '768', '776', '777', '779', '785', '786', '925', '926']\n",
      "Extracting EDF parameters from D:\\DESARROLLO_PROYECTO_DOCTORADO\\pySTMM\\examples\\P03\\P03 Run 6.gdf...\n",
      "GDF file detected\n",
      "Setting channel info structure...\n",
      "Creating raw.info structure...\n"
     ]
    },
    {
     "name": "stderr",
     "output_type": "stream",
     "text": [
      "c:\\python36\\lib\\site-packages\\mne\\io\\edf\\edf.py:1047: DeprecationWarning:\n",
      "\n",
      "The binary mode of fromstring is deprecated, as it behaves surprisingly on unicode inputs. Use frombuffer instead\n",
      "\n"
     ]
    },
    {
     "name": "stdout",
     "output_type": "stream",
     "text": [
      "Used Annotations descriptions: ['33536', '33544', '33545', '33547', '33554', '33693', '33694', '768', '776', '777', '779', '785', '786', '925', '926']\n",
      "Extracting EDF parameters from D:\\DESARROLLO_PROYECTO_DOCTORADO\\pySTMM\\examples\\P03\\P03 Run 7.gdf...\n",
      "GDF file detected\n",
      "Setting channel info structure...\n",
      "Creating raw.info structure...\n"
     ]
    },
    {
     "name": "stderr",
     "output_type": "stream",
     "text": [
      "c:\\python36\\lib\\site-packages\\mne\\io\\edf\\edf.py:1047: DeprecationWarning:\n",
      "\n",
      "The binary mode of fromstring is deprecated, as it behaves surprisingly on unicode inputs. Use frombuffer instead\n",
      "\n"
     ]
    },
    {
     "name": "stdout",
     "output_type": "stream",
     "text": [
      "Used Annotations descriptions: ['33536', '33544', '33545', '33547', '33554', '33693', '33694', '768', '776', '777', '779', '785', '786', '925', '926']\n",
      "Extracting EDF parameters from D:\\DESARROLLO_PROYECTO_DOCTORADO\\pySTMM\\examples\\P03\\P03 Run 8.gdf...\n",
      "GDF file detected\n",
      "Setting channel info structure...\n",
      "Creating raw.info structure...\n",
      "Used Annotations descriptions: ['33536', '768', '785']\n",
      "Extracting EDF parameters from D:\\DESARROLLO_PROYECTO_DOCTORADO\\pySTMM\\examples\\P03\\P03 Run 9.gdf...\n",
      "GDF file detected\n",
      "Setting channel info structure...\n",
      "Creating raw.info structure...\n"
     ]
    },
    {
     "name": "stderr",
     "output_type": "stream",
     "text": [
      "c:\\python36\\lib\\site-packages\\mne\\io\\edf\\edf.py:1047: DeprecationWarning:\n",
      "\n",
      "The binary mode of fromstring is deprecated, as it behaves surprisingly on unicode inputs. Use frombuffer instead\n",
      "\n",
      "c:\\python36\\lib\\site-packages\\mne\\io\\edf\\edf.py:1047: DeprecationWarning:\n",
      "\n",
      "The binary mode of fromstring is deprecated, as it behaves surprisingly on unicode inputs. Use frombuffer instead\n",
      "\n"
     ]
    },
    {
     "name": "stdout",
     "output_type": "stream",
     "text": [
      "Used Annotations descriptions: ['33536', '33554', '768', '785', '786']\n",
      "Extracting EDF parameters from D:\\DESARROLLO_PROYECTO_DOCTORADO\\pySTMM\\examples\\P03\\P03 Run 10.gdf...\n",
      "GDF file detected\n",
      "Setting channel info structure...\n",
      "Creating raw.info structure...\n"
     ]
    },
    {
     "name": "stderr",
     "output_type": "stream",
     "text": [
      "c:\\python36\\lib\\site-packages\\mne\\io\\edf\\edf.py:1047: DeprecationWarning:\n",
      "\n",
      "The binary mode of fromstring is deprecated, as it behaves surprisingly on unicode inputs. Use frombuffer instead\n",
      "\n"
     ]
    },
    {
     "name": "stdout",
     "output_type": "stream",
     "text": [
      "Used Annotations descriptions: ['33536', '33544', '33545', '33547', '33554', '33693', '33694', '768', '776', '777', '779', '785', '786', '925', '926']\n",
      "Extracting EDF parameters from D:\\DESARROLLO_PROYECTO_DOCTORADO\\pySTMM\\examples\\P03\\P03 Run 11.gdf...\n",
      "GDF file detected\n",
      "Setting channel info structure...\n",
      "Creating raw.info structure...\n"
     ]
    },
    {
     "name": "stderr",
     "output_type": "stream",
     "text": [
      "c:\\python36\\lib\\site-packages\\mne\\io\\edf\\edf.py:1047: DeprecationWarning:\n",
      "\n",
      "The binary mode of fromstring is deprecated, as it behaves surprisingly on unicode inputs. Use frombuffer instead\n",
      "\n"
     ]
    },
    {
     "name": "stdout",
     "output_type": "stream",
     "text": [
      "Used Annotations descriptions: ['33536', '33544', '33545', '33547', '33554', '33693', '33694', '768', '776', '777', '779', '785', '786', '925', '926']\n",
      "Extracting EDF parameters from D:\\DESARROLLO_PROYECTO_DOCTORADO\\pySTMM\\examples\\P03\\P03 Run 12.gdf...\n",
      "GDF file detected\n",
      "Setting channel info structure...\n",
      "Creating raw.info structure...\n"
     ]
    },
    {
     "name": "stderr",
     "output_type": "stream",
     "text": [
      "c:\\python36\\lib\\site-packages\\mne\\io\\edf\\edf.py:1047: DeprecationWarning:\n",
      "\n",
      "The binary mode of fromstring is deprecated, as it behaves surprisingly on unicode inputs. Use frombuffer instead\n",
      "\n"
     ]
    },
    {
     "name": "stdout",
     "output_type": "stream",
     "text": [
      "Used Annotations descriptions: ['33536', '33544', '33545', '33547', '33554', '33693', '33694', '768', '776', '777', '779', '785', '786', '925', '926']\n",
      "Extracting EDF parameters from D:\\DESARROLLO_PROYECTO_DOCTORADO\\pySTMM\\examples\\P03\\P03 Run 13.gdf...\n",
      "GDF file detected\n",
      "Setting channel info structure...\n",
      "Creating raw.info structure...\n",
      "Used Annotations descriptions: ['33536', '33544', '33545', '33547', '33554', '33693', '33694', '768', '776', '777', '779', '785', '786', '925', '926']"
     ]
    },
    {
     "name": "stderr",
     "output_type": "stream",
     "text": [
      "c:\\python36\\lib\\site-packages\\mne\\io\\edf\\edf.py:1047: DeprecationWarning:\n",
      "\n",
      "The binary mode of fromstring is deprecated, as it behaves surprisingly on unicode inputs. Use frombuffer instead\n",
      "\n"
     ]
    },
    {
     "name": "stdout",
     "output_type": "stream",
     "text": [
      "\n",
      "Extracting EDF parameters from D:\\DESARROLLO_PROYECTO_DOCTORADO\\pySTMM\\examples\\P03\\P03 Run 14.gdf...\n",
      "GDF file detected\n",
      "Setting channel info structure...\n",
      "Creating raw.info structure...\n",
      "Used Annotations descriptions: ['33536', '768', '785']\n"
     ]
    },
    {
     "name": "stderr",
     "output_type": "stream",
     "text": [
      "c:\\python36\\lib\\site-packages\\mne\\io\\edf\\edf.py:1047: DeprecationWarning:\n",
      "\n",
      "The binary mode of fromstring is deprecated, as it behaves surprisingly on unicode inputs. Use frombuffer instead\n",
      "\n"
     ]
    },
    {
     "name": "stdout",
     "output_type": "stream",
     "text": [
      "Extracting EDF parameters from D:\\DESARROLLO_PROYECTO_DOCTORADO\\pySTMM\\examples\\P03\\P03 Run 15.gdf...\n",
      "GDF file detected\n",
      "Setting channel info structure...\n",
      "Creating raw.info structure...\n",
      "Used Annotations descriptions: ['33536', '33554', '768', '785', '786']\n"
     ]
    },
    {
     "name": "stderr",
     "output_type": "stream",
     "text": [
      "c:\\python36\\lib\\site-packages\\mne\\io\\edf\\edf.py:1047: DeprecationWarning:\n",
      "\n",
      "The binary mode of fromstring is deprecated, as it behaves surprisingly on unicode inputs. Use frombuffer instead\n",
      "\n"
     ]
    },
    {
     "name": "stdout",
     "output_type": "stream",
     "text": [
      "Report on REST:\n",
      "Total samples = 69129\n",
      "Sampling frequency (Hz) = 256\n",
      "Signal duration (s) = 270.04\n",
      "Signal duration (min) = 4.50\n",
      "Total trial start events = 3\n",
      "Indexes (sample) = [2560, 25603, 48646]\n",
      "Times (s) = [10.0, 100.01171875, 190.0234375]\n",
      "Duration between consecutive ones (s) = [90.01171875, 90.01171875]\n",
      "[10.5, 13.0, 15.5, 18.0, 20.5, 23.0, 25.5, 28.0, 30.5, 33.0, 35.5, 38.0, 40.5, 43.0, 45.5, 48.0, 50.5, 53.0, 55.5, 58.0, 60.5, 63.0, 65.5, 68.0, 100.51171875, 103.01171875, 105.51171875, 108.01171875, 110.51171875, 113.01171875, 115.51171875, 118.01171875, 120.51171875, 123.01171875, 125.51171875, 128.01171875, 130.51171875, 133.01171875, 135.51171875, 138.01171875, 140.51171875, 143.01171875, 145.51171875, 148.01171875, 150.51171875, 153.01171875, 155.51171875, 158.01171875, 190.5234375, 193.0234375, 195.5234375, 198.0234375, 200.5234375, 203.0234375, 205.5234375, 208.0234375, 210.5234375, 213.0234375, 215.5234375, 218.0234375, 220.5234375, 223.0234375, 225.5234375, 228.0234375, 230.5234375, 233.0234375, 235.5234375, 238.0234375, 240.5234375, 243.0234375, 245.5234375, 248.0234375]\n",
      "[15.50390625, 18.00390625, 20.50390625, 23.00390625, 25.50390625, 28.00390625, 30.50390625, 33.00390625, 35.50390625, 38.00390625, 40.50390625, 43.00390625, 45.50390625, 48.00390625, 50.50390625, 53.00390625, 55.50390625, 58.00390625, 60.50390625, 63.00390625, 65.50390625, 68.00390625, 70.50390625, 73.00390625, 105.515625, 108.015625, 110.515625, 113.015625, 115.515625, 118.015625, 120.515625, 123.015625, 125.515625, 128.015625, 130.515625, 133.015625, 135.515625, 138.015625, 140.515625, 143.015625, 145.515625, 148.015625, 150.515625, 153.015625, 155.515625, 158.015625, 160.515625, 163.015625, 195.52734375, 198.02734375, 200.52734375, 203.02734375, 205.52734375, 208.02734375, 210.52734375, 213.02734375, 215.52734375, 218.02734375, 220.52734375, 223.02734375, 225.52734375, 228.02734375, 230.52734375, 233.02734375, 235.52734375, 238.02734375, 240.52734375, 243.02734375, 245.52734375, 248.02734375, 250.52734375, 253.02734375]\n",
      "Report on: HandOpenClassCue\n",
      "Total samples = 694323\n",
      "Sampling frequency (Hz) = 256\n",
      "Signal duration (s) = 2712.20\n",
      "Signal duration (min) = 45.20\n",
      "Total HandOpenClassCue events = 72\n",
      "Indexes (sample) = [21023, 22592, 25864, 40223, 41878, 45467, 49034, 54248, 109591, 121946, 123874, 129077, 134204, 138020, 145550, 149119, 170851, 176164, 181736, 190250, 195622, 201094, 204615, 209982, 235586, 248353, 268149, 277089, 285889, 294964, 298398, 300290, 318395, 320090, 327421, 336568, 349147, 365415, 367457, 369250, 398615, 409243, 420176, 434298, 438373, 440409, 445495, 452991, 467389, 469344, 492801, 516154, 519746, 523384, 525407, 530813, 550037, 553698, 568569, 571950, 586146, 591929, 595819, 608456, 618607, 623947, 635131, 653787, 655606, 682820, 688542, 690319]\n",
      "Times (s) = [82.12109375, 88.25, 101.03125, 157.12109375, 163.5859375, 177.60546875, 191.5390625, 211.90625, 428.08984375, 476.3515625, 483.8828125, 504.20703125, 524.234375, 539.140625, 568.5546875, 582.49609375, 667.38671875, 688.140625, 709.90625, 743.1640625, 764.1484375, 785.5234375, 799.27734375, 820.2421875, 920.2578125, 970.12890625, 1047.45703125, 1082.37890625, 1116.75390625, 1152.203125, 1165.6171875, 1173.0078125, 1243.73046875, 1250.3515625, 1278.98828125, 1314.71875, 1363.85546875, 1427.40234375, 1435.37890625, 1442.3828125, 1557.08984375, 1598.60546875, 1641.3125, 1696.4765625, 1712.39453125, 1720.34765625, 1740.21484375, 1769.49609375, 1825.73828125, 1833.375, 1925.00390625, 2016.2265625, 2030.2578125, 2044.46875, 2052.37109375, 2073.48828125, 2148.58203125, 2162.8828125, 2220.97265625, 2234.1796875, 2289.6328125, 2312.22265625, 2327.41796875, 2376.78125, 2416.43359375, 2437.29296875, 2480.98046875, 2553.85546875, 2560.9609375, 2667.265625, 2689.6171875, 2696.55859375]\n",
      "Duration between consecutive ones (s) = [6.12890625, 12.78125, 56.08984375, 6.46484375, 14.01953125, 13.93359375, 20.3671875, 216.18359375, 48.26171875, 7.53125, 20.32421875, 20.02734375, 14.90625, 29.4140625, 13.94140625, 84.890625, 20.75390625, 21.765625, 33.2578125, 20.984375, 21.375, 13.75390625, 20.96484375, 100.015625, 49.87109375, 77.328125, 34.921875, 34.375, 35.44921875, 13.4140625, 7.390625, 70.72265625, 6.62109375, 28.63671875, 35.73046875, 49.13671875, 63.546875, 7.9765625, 7.00390625, 114.70703125, 41.515625, 42.70703125, 55.1640625, 15.91796875, 7.953125, 19.8671875, 29.28125, 56.2421875, 7.63671875, 91.62890625, 91.22265625, 14.03125, 14.2109375, 7.90234375, 21.1171875, 75.09375, 14.30078125, 58.08984375, 13.20703125, 55.453125, 22.58984375, 15.1953125, 49.36328125, 39.65234375, 20.859375, 43.6875, 72.875, 7.10546875, 106.3046875, 22.3515625, 6.94140625]\n",
      "[80.12109375, 86.25, 99.03125, 155.12109375, 161.5859375, 175.60546875, 189.5390625, 209.90625, 426.08984375, 474.3515625, 481.8828125, 502.20703125, 522.234375, 537.140625, 566.5546875, 580.49609375, 665.38671875, 686.140625, 707.90625, 741.1640625, 762.1484375, 783.5234375, 797.27734375, 818.2421875, 918.2578125, 968.12890625, 1045.45703125, 1080.37890625, 1114.75390625, 1150.203125, 1163.6171875, 1171.0078125, 1241.73046875, 1248.3515625, 1276.98828125, 1312.71875, 1361.85546875, 1425.40234375, 1433.37890625, 1440.3828125, 1555.08984375, 1596.60546875, 1639.3125, 1694.4765625, 1710.39453125, 1718.34765625, 1738.21484375, 1767.49609375, 1823.73828125, 1831.375, 1923.00390625, 2014.2265625, 2028.2578125, 2042.46875, 2050.37109375, 2071.48828125, 2146.58203125, 2160.8828125, 2218.97265625, 2232.1796875, 2287.6328125, 2310.22265625, 2325.41796875, 2374.78125, 2414.43359375, 2435.29296875, 2478.98046875, 2551.85546875, 2558.9609375, 2665.265625, 2687.6171875, 2694.55859375]\n",
      "[85.125, 91.25390625, 104.03515625, 160.125, 166.58984375, 180.609375, 194.54296875, 214.91015625, 431.09375, 479.35546875, 486.88671875, 507.2109375, 527.23828125, 542.14453125, 571.55859375, 585.5, 670.390625, 691.14453125, 712.91015625, 746.16796875, 767.15234375, 788.52734375, 802.28125, 823.24609375, 923.26171875, 973.1328125, 1050.4609375, 1085.3828125, 1119.7578125, 1155.20703125, 1168.62109375, 1176.01171875, 1246.734375, 1253.35546875, 1281.9921875, 1317.72265625, 1366.859375, 1430.40625, 1438.3828125, 1445.38671875, 1560.09375, 1601.609375, 1644.31640625, 1699.48046875, 1715.3984375, 1723.3515625, 1743.21875, 1772.5, 1828.7421875, 1836.37890625, 1928.0078125, 2019.23046875, 2033.26171875, 2047.47265625, 2055.375, 2076.4921875, 2151.5859375, 2165.88671875, 2223.9765625, 2237.18359375, 2292.63671875, 2315.2265625, 2330.421875, 2379.78515625, 2419.4375, 2440.296875, 2483.984375, 2556.859375, 2563.96484375, 2670.26953125, 2692.62109375, 2699.5625]\n",
      "Report on: PalmarGraspClassCue\n",
      "Total samples = 694323\n",
      "Sampling frequency (Hz) = 256\n",
      "Signal duration (s) = 2712.20\n",
      "Signal duration (min) = 45.20\n",
      "Total PalmarGraspClassCue events = 72\n",
      "Indexes (sample) = [3072, 8805, 13765, 19246, 24186, 27649, 56253, 72591, 81562, 94061, 101228, 104534, 113135, 125747, 127477, 139748, 159826, 165810, 174555, 177904, 186736, 191939, 213321, 218153, 233712, 239475, 249915, 261298, 266361, 287569, 289400, 291444, 309101, 310883, 316670, 321952, 323899, 341805, 354653, 363594, 395257, 407340, 411186, 418620, 421832, 423831, 430935, 432727, 465754, 476637, 481984, 496715, 510560, 512438, 521348, 532774, 541481, 546560, 557544, 578899, 580502, 590050, 597854, 611647, 622155, 629459, 631232, 645905, 662756, 668284, 672213, 681273]\n",
      "Times (s) = [12.0, 34.39453125, 53.76953125, 75.1796875, 94.4765625, 108.00390625, 219.73828125, 283.55859375, 318.6015625, 367.42578125, 395.421875, 408.3359375, 441.93359375, 491.19921875, 497.95703125, 545.890625, 624.3203125, 647.6953125, 681.85546875, 694.9375, 729.4375, 749.76171875, 833.28515625, 852.16015625, 912.9375, 935.44921875, 976.23046875, 1020.6953125, 1040.47265625, 1123.31640625, 1130.46875, 1138.453125, 1207.42578125, 1214.38671875, 1236.9921875, 1257.625, 1265.23046875, 1335.17578125, 1385.36328125, 1420.2890625, 1543.97265625, 1591.171875, 1606.1953125, 1635.234375, 1647.78125, 1655.58984375, 1683.33984375, 1690.33984375, 1819.3515625, 1861.86328125, 1882.75, 1940.29296875, 1994.375, 2001.7109375, 2036.515625, 2081.1484375, 2115.16015625, 2135.0, 2177.90625, 2261.32421875, 2267.5859375, 2304.8828125, 2335.3671875, 2389.24609375, 2430.29296875, 2458.82421875, 2465.75, 2523.06640625, 2588.890625, 2610.484375, 2625.83203125, 2661.22265625]\n",
      "Duration between consecutive ones (s) = [22.39453125, 19.375, 21.41015625, 19.296875, 13.52734375, 111.734375, 63.8203125, 35.04296875, 48.82421875, 27.99609375, 12.9140625, 33.59765625, 49.265625, 6.7578125, 47.93359375, 78.4296875, 23.375, 34.16015625, 13.08203125, 34.5, 20.32421875, 83.5234375, 18.875, 60.77734375, 22.51171875, 40.78125, 44.46484375, 19.77734375, 82.84375, 7.15234375, 7.984375, 68.97265625, 6.9609375, 22.60546875, 20.6328125, 7.60546875, 69.9453125, 50.1875, 34.92578125, 123.68359375, 47.19921875, 15.0234375, 29.0390625, 12.546875, 7.80859375, 27.75, 7.0, 129.01171875, 42.51171875, 20.88671875, 57.54296875, 54.08203125, 7.3359375, 34.8046875, 44.6328125, 34.01171875, 19.83984375, 42.90625, 83.41796875, 6.26171875, 37.296875, 30.484375, 53.87890625, 41.046875, 28.53125, 6.92578125, 57.31640625, 65.82421875, 21.59375, 15.34765625, 35.390625]\n",
      "[10.0, 32.39453125, 51.76953125, 73.1796875, 92.4765625, 106.00390625, 217.73828125, 281.55859375, 316.6015625, 365.42578125, 393.421875, 406.3359375, 439.93359375, 489.19921875, 495.95703125, 543.890625, 622.3203125, 645.6953125, 679.85546875, 692.9375, 727.4375, 747.76171875, 831.28515625, 850.16015625, 910.9375, 933.44921875, 974.23046875, 1018.6953125, 1038.47265625, 1121.31640625, 1128.46875, 1136.453125, 1205.42578125, 1212.38671875, 1234.9921875, 1255.625, 1263.23046875, 1333.17578125, 1383.36328125, 1418.2890625, 1541.97265625, 1589.171875, 1604.1953125, 1633.234375, 1645.78125, 1653.58984375, 1681.33984375, 1688.33984375, 1817.3515625, 1859.86328125, 1880.75, 1938.29296875, 1992.375, 1999.7109375, 2034.515625, 2079.1484375, 2113.16015625, 2133.0, 2175.90625, 2259.32421875, 2265.5859375, 2302.8828125, 2333.3671875, 2387.24609375, 2428.29296875, 2456.82421875, 2463.75, 2521.06640625, 2586.890625, 2608.484375, 2623.83203125, 2659.22265625]\n",
      "[15.00390625, 37.3984375, 56.7734375, 78.18359375, 97.48046875, 111.0078125, 222.7421875, 286.5625, 321.60546875, 370.4296875, 398.42578125, 411.33984375, 444.9375, 494.203125, 500.9609375, 548.89453125, 627.32421875, 650.69921875, 684.859375, 697.94140625, 732.44140625, 752.765625, 836.2890625, 855.1640625, 915.94140625, 938.453125, 979.234375, 1023.69921875, 1043.4765625, 1126.3203125, 1133.47265625, 1141.45703125, 1210.4296875, 1217.390625, 1239.99609375, 1260.62890625, 1268.234375, 1338.1796875, 1388.3671875, 1423.29296875, 1546.9765625, 1594.17578125, 1609.19921875, 1638.23828125, 1650.78515625, 1658.59375, 1686.34375, 1693.34375, 1822.35546875, 1864.8671875, 1885.75390625, 1943.296875, 1997.37890625, 2004.71484375, 2039.51953125, 2084.15234375, 2118.1640625, 2138.00390625, 2180.91015625, 2264.328125, 2270.58984375, 2307.88671875, 2338.37109375, 2392.25, 2433.296875, 2461.828125, 2468.75390625, 2526.0703125, 2591.89453125, 2613.48828125, 2628.8359375, 2664.2265625]\n"
     ]
    },
    {
     "name": "stdout",
     "output_type": "stream",
     "text": [
      "Report on: LateralGraspClassCue\n",
      "Total samples = 694323\n",
      "Sampling frequency (Hz) = 256\n",
      "Signal duration (s) = 2712.20\n",
      "Signal duration (min) = 45.20\n",
      "Total LateralGraspClassCue events = 72\n",
      "Indexes (sample) = [5091, 6832, 11900, 17697, 34989, 50803, 52538, 66816, 90629, 92202, 95915, 107979, 111328, 141564, 143560, 147123, 156262, 169203, 172608, 183417, 188689, 202678, 208019, 211729, 241477, 244880, 259500, 262896, 269905, 271679, 273547, 280632, 325773, 333084, 338411, 340182, 352877, 357827, 374881, 378040, 391844, 400424, 402082, 425772, 427521, 436342, 447506, 454927, 463794, 480367, 491208, 498597, 501939, 505810, 514244, 527280, 544711, 548387, 555601, 559519, 564970, 577225, 604935, 606784, 625503, 627438, 636932, 647935, 651820, 664527, 666472, 670327]\n",
      "Times (s) = [19.88671875, 26.6875, 46.484375, 69.12890625, 136.67578125, 198.44921875, 205.2265625, 261.0, 354.01953125, 360.1640625, 374.66796875, 421.79296875, 434.875, 552.984375, 560.78125, 574.69921875, 610.3984375, 660.94921875, 674.25, 716.47265625, 737.06640625, 791.7109375, 812.57421875, 827.06640625, 943.26953125, 956.5625, 1013.671875, 1026.9375, 1054.31640625, 1061.24609375, 1068.54296875, 1096.21875, 1272.55078125, 1301.109375, 1321.91796875, 1328.8359375, 1378.42578125, 1397.76171875, 1464.37890625, 1476.71875, 1530.640625, 1564.15625, 1570.6328125, 1663.171875, 1670.00390625, 1704.4609375, 1748.0703125, 1777.05859375, 1811.6953125, 1876.43359375, 1918.78125, 1947.64453125, 1960.69921875, 1975.8203125, 2008.765625, 2059.6875, 2127.77734375, 2142.13671875, 2170.31640625, 2185.62109375, 2206.9140625, 2254.78515625, 2363.02734375, 2370.25, 2443.37109375, 2450.9296875, 2488.015625, 2530.99609375, 2546.171875, 2595.80859375, 2603.40625, 2618.46484375]\n",
      "Duration between consecutive ones (s) = [6.80078125, 19.796875, 22.64453125, 67.546875, 61.7734375, 6.77734375, 55.7734375, 93.01953125, 6.14453125, 14.50390625, 47.125, 13.08203125, 118.109375, 7.796875, 13.91796875, 35.69921875, 50.55078125, 13.30078125, 42.22265625, 20.59375, 54.64453125, 20.86328125, 14.4921875, 116.203125, 13.29296875, 57.109375, 13.265625, 27.37890625, 6.9296875, 7.296875, 27.67578125, 176.33203125, 28.55859375, 20.80859375, 6.91796875, 49.58984375, 19.3359375, 66.6171875, 12.33984375, 53.921875, 33.515625, 6.4765625, 92.5390625, 6.83203125, 34.45703125, 43.609375, 28.98828125, 34.63671875, 64.73828125, 42.34765625, 28.86328125, 13.0546875, 15.12109375, 32.9453125, 50.921875, 68.08984375, 14.359375, 28.1796875, 15.3046875, 21.29296875, 47.87109375, 108.2421875, 7.22265625, 73.12109375, 7.55859375, 37.0859375, 42.98046875, 15.17578125, 49.63671875, 7.59765625, 15.05859375]\n",
      "[17.88671875, 24.6875, 44.484375, 67.12890625, 134.67578125, 196.44921875, 203.2265625, 259.0, 352.01953125, 358.1640625, 372.66796875, 419.79296875, 432.875, 550.984375, 558.78125, 572.69921875, 608.3984375, 658.94921875, 672.25, 714.47265625, 735.06640625, 789.7109375, 810.57421875, 825.06640625, 941.26953125, 954.5625, 1011.671875, 1024.9375, 1052.31640625, 1059.24609375, 1066.54296875, 1094.21875, 1270.55078125, 1299.109375, 1319.91796875, 1326.8359375, 1376.42578125, 1395.76171875, 1462.37890625, 1474.71875, 1528.640625, 1562.15625, 1568.6328125, 1661.171875, 1668.00390625, 1702.4609375, 1746.0703125, 1775.05859375, 1809.6953125, 1874.43359375, 1916.78125, 1945.64453125, 1958.69921875, 1973.8203125, 2006.765625, 2057.6875, 2125.77734375, 2140.13671875, 2168.31640625, 2183.62109375, 2204.9140625, 2252.78515625, 2361.02734375, 2368.25, 2441.37109375, 2448.9296875, 2486.015625, 2528.99609375, 2544.171875, 2593.80859375, 2601.40625, 2616.46484375]\n",
      "[22.890625, 29.69140625, 49.48828125, 72.1328125, 139.6796875, 201.453125, 208.23046875, 264.00390625, 357.0234375, 363.16796875, 377.671875, 424.796875, 437.87890625, 555.98828125, 563.78515625, 577.703125, 613.40234375, 663.953125, 677.25390625, 719.4765625, 740.0703125, 794.71484375, 815.578125, 830.0703125, 946.2734375, 959.56640625, 1016.67578125, 1029.94140625, 1057.3203125, 1064.25, 1071.546875, 1099.22265625, 1275.5546875, 1304.11328125, 1324.921875, 1331.83984375, 1381.4296875, 1400.765625, 1467.3828125, 1479.72265625, 1533.64453125, 1567.16015625, 1573.63671875, 1666.17578125, 1673.0078125, 1707.46484375, 1751.07421875, 1780.0625, 1814.69921875, 1879.4375, 1921.78515625, 1950.6484375, 1963.703125, 1978.82421875, 2011.76953125, 2062.69140625, 2130.78125, 2145.140625, 2173.3203125, 2188.625, 2209.91796875, 2257.7890625, 2366.03125, 2373.25390625, 2446.375, 2453.93359375, 2491.01953125, 2534.0, 2549.17578125, 2598.8125, 2606.41015625, 2621.46875]\n",
      "maxIter  5\n",
      "ovr 10.0 10.0 5 0.0001 l2 True 0.0001 squared_hinge 100000\n",
      "1 / 5\n"
     ]
    },
    {
     "name": "stderr",
     "output_type": "stream",
     "text": [
      "c:\\python36\\lib\\site-packages\\sklearn\\svm\\base.py:929: ConvergenceWarning:\n",
      "\n",
      "Liblinear failed to converge, increase the number of iterations.\n",
      "\n"
     ]
    },
    {
     "name": "stdout",
     "output_type": "stream",
     "text": [
      "2 / 5\n"
     ]
    },
    {
     "name": "stderr",
     "output_type": "stream",
     "text": [
      "c:\\python36\\lib\\site-packages\\sklearn\\svm\\base.py:929: ConvergenceWarning:\n",
      "\n",
      "Liblinear failed to converge, increase the number of iterations.\n",
      "\n"
     ]
    },
    {
     "name": "stdout",
     "output_type": "stream",
     "text": [
      "3 / 5\n"
     ]
    },
    {
     "name": "stderr",
     "output_type": "stream",
     "text": [
      "c:\\python36\\lib\\site-packages\\sklearn\\svm\\base.py:929: ConvergenceWarning:\n",
      "\n",
      "Liblinear failed to converge, increase the number of iterations.\n",
      "\n"
     ]
    },
    {
     "name": "stdout",
     "output_type": "stream",
     "text": [
      "4 / 5\n"
     ]
    },
    {
     "name": "stderr",
     "output_type": "stream",
     "text": [
      "c:\\python36\\lib\\site-packages\\sklearn\\svm\\base.py:929: ConvergenceWarning:\n",
      "\n",
      "Liblinear failed to converge, increase the number of iterations.\n",
      "\n"
     ]
    },
    {
     "name": "stdout",
     "output_type": "stream",
     "text": [
      "5 / 5\n"
     ]
    },
    {
     "name": "stderr",
     "output_type": "stream",
     "text": [
      "c:\\python36\\lib\\site-packages\\sklearn\\svm\\base.py:929: ConvergenceWarning:\n",
      "\n",
      "Liblinear failed to converge, increase the number of iterations.\n",
      "\n",
      "c:\\python36\\lib\\site-packages\\sklearn\\linear_model\\logistic.py:432: FutureWarning:\n",
      "\n",
      "Default solver will be changed to 'lbfgs' in 0.22. Specify a solver to silence this warning.\n",
      "\n"
     ]
    },
    {
     "name": "stdout",
     "output_type": "stream",
     "text": [
      "1 / 5\n"
     ]
    },
    {
     "name": "stderr",
     "output_type": "stream",
     "text": [
      "c:\\python36\\lib\\site-packages\\sklearn\\svm\\base.py:929: ConvergenceWarning:\n",
      "\n",
      "Liblinear failed to converge, increase the number of iterations.\n",
      "\n"
     ]
    },
    {
     "name": "stdout",
     "output_type": "stream",
     "text": [
      "2 / 5\n"
     ]
    },
    {
     "name": "stderr",
     "output_type": "stream",
     "text": [
      "c:\\python36\\lib\\site-packages\\sklearn\\svm\\base.py:929: ConvergenceWarning:\n",
      "\n",
      "Liblinear failed to converge, increase the number of iterations.\n",
      "\n",
      "c:\\python36\\lib\\site-packages\\sklearn\\svm\\base.py:929: ConvergenceWarning:\n",
      "\n",
      "Liblinear failed to converge, increase the number of iterations.\n",
      "\n"
     ]
    },
    {
     "name": "stdout",
     "output_type": "stream",
     "text": [
      "3 / 5\n"
     ]
    },
    {
     "name": "stderr",
     "output_type": "stream",
     "text": [
      "c:\\python36\\lib\\site-packages\\sklearn\\svm\\base.py:929: ConvergenceWarning:\n",
      "\n",
      "Liblinear failed to converge, increase the number of iterations.\n",
      "\n",
      "c:\\python36\\lib\\site-packages\\sklearn\\svm\\base.py:929: ConvergenceWarning:\n",
      "\n",
      "Liblinear failed to converge, increase the number of iterations.\n",
      "\n"
     ]
    },
    {
     "name": "stdout",
     "output_type": "stream",
     "text": [
      "4 / 5\n"
     ]
    },
    {
     "name": "stderr",
     "output_type": "stream",
     "text": [
      "c:\\python36\\lib\\site-packages\\sklearn\\svm\\base.py:929: ConvergenceWarning:\n",
      "\n",
      "Liblinear failed to converge, increase the number of iterations.\n",
      "\n",
      "c:\\python36\\lib\\site-packages\\sklearn\\svm\\base.py:929: ConvergenceWarning:\n",
      "\n",
      "Liblinear failed to converge, increase the number of iterations.\n",
      "\n"
     ]
    },
    {
     "name": "stdout",
     "output_type": "stream",
     "text": [
      "5 / 5\n"
     ]
    },
    {
     "name": "stderr",
     "output_type": "stream",
     "text": [
      "c:\\python36\\lib\\site-packages\\sklearn\\svm\\base.py:929: ConvergenceWarning:\n",
      "\n",
      "Liblinear failed to converge, increase the number of iterations.\n",
      "\n",
      "c:\\python36\\lib\\site-packages\\sklearn\\svm\\base.py:929: ConvergenceWarning:\n",
      "\n",
      "Liblinear failed to converge, increase the number of iterations.\n",
      "\n",
      "c:\\python36\\lib\\site-packages\\sklearn\\linear_model\\logistic.py:432: FutureWarning:\n",
      "\n",
      "Default solver will be changed to 'lbfgs' in 0.22. Specify a solver to silence this warning.\n",
      "\n"
     ]
    },
    {
     "name": "stdout",
     "output_type": "stream",
     "text": [
      "1 / 5\n"
     ]
    },
    {
     "name": "stderr",
     "output_type": "stream",
     "text": [
      "c:\\python36\\lib\\site-packages\\sklearn\\svm\\base.py:929: ConvergenceWarning:\n",
      "\n",
      "Liblinear failed to converge, increase the number of iterations.\n",
      "\n"
     ]
    },
    {
     "name": "stdout",
     "output_type": "stream",
     "text": [
      "2 / 5\n"
     ]
    },
    {
     "name": "stderr",
     "output_type": "stream",
     "text": [
      "c:\\python36\\lib\\site-packages\\sklearn\\svm\\base.py:929: ConvergenceWarning:\n",
      "\n",
      "Liblinear failed to converge, increase the number of iterations.\n",
      "\n",
      "c:\\python36\\lib\\site-packages\\sklearn\\svm\\base.py:929: ConvergenceWarning:\n",
      "\n",
      "Liblinear failed to converge, increase the number of iterations.\n",
      "\n"
     ]
    },
    {
     "name": "stdout",
     "output_type": "stream",
     "text": [
      "3 / 5\n"
     ]
    },
    {
     "name": "stderr",
     "output_type": "stream",
     "text": [
      "c:\\python36\\lib\\site-packages\\sklearn\\svm\\base.py:929: ConvergenceWarning:\n",
      "\n",
      "Liblinear failed to converge, increase the number of iterations.\n",
      "\n",
      "c:\\python36\\lib\\site-packages\\sklearn\\svm\\base.py:929: ConvergenceWarning:\n",
      "\n",
      "Liblinear failed to converge, increase the number of iterations.\n",
      "\n"
     ]
    },
    {
     "name": "stdout",
     "output_type": "stream",
     "text": [
      "4 / 5\n"
     ]
    },
    {
     "name": "stderr",
     "output_type": "stream",
     "text": [
      "c:\\python36\\lib\\site-packages\\sklearn\\svm\\base.py:929: ConvergenceWarning:\n",
      "\n",
      "Liblinear failed to converge, increase the number of iterations.\n",
      "\n",
      "c:\\python36\\lib\\site-packages\\sklearn\\svm\\base.py:929: ConvergenceWarning:\n",
      "\n",
      "Liblinear failed to converge, increase the number of iterations.\n",
      "\n"
     ]
    },
    {
     "name": "stdout",
     "output_type": "stream",
     "text": [
      "5 / 5\n"
     ]
    },
    {
     "name": "stderr",
     "output_type": "stream",
     "text": [
      "c:\\python36\\lib\\site-packages\\sklearn\\svm\\base.py:929: ConvergenceWarning:\n",
      "\n",
      "Liblinear failed to converge, increase the number of iterations.\n",
      "\n",
      "c:\\python36\\lib\\site-packages\\sklearn\\svm\\base.py:929: ConvergenceWarning:\n",
      "\n",
      "Liblinear failed to converge, increase the number of iterations.\n",
      "\n",
      "c:\\python36\\lib\\site-packages\\sklearn\\linear_model\\logistic.py:432: FutureWarning:\n",
      "\n",
      "Default solver will be changed to 'lbfgs' in 0.22. Specify a solver to silence this warning.\n",
      "\n"
     ]
    },
    {
     "name": "stdout",
     "output_type": "stream",
     "text": [
      "1 / 5\n"
     ]
    },
    {
     "name": "stderr",
     "output_type": "stream",
     "text": [
      "c:\\python36\\lib\\site-packages\\sklearn\\svm\\base.py:929: ConvergenceWarning:\n",
      "\n",
      "Liblinear failed to converge, increase the number of iterations.\n",
      "\n"
     ]
    },
    {
     "name": "stdout",
     "output_type": "stream",
     "text": [
      "2 / 5\n"
     ]
    },
    {
     "name": "stderr",
     "output_type": "stream",
     "text": [
      "c:\\python36\\lib\\site-packages\\sklearn\\svm\\base.py:929: ConvergenceWarning:\n",
      "\n",
      "Liblinear failed to converge, increase the number of iterations.\n",
      "\n"
     ]
    },
    {
     "name": "stdout",
     "output_type": "stream",
     "text": [
      "3 / 5\n"
     ]
    },
    {
     "name": "stderr",
     "output_type": "stream",
     "text": [
      "c:\\python36\\lib\\site-packages\\sklearn\\svm\\base.py:929: ConvergenceWarning:\n",
      "\n",
      "Liblinear failed to converge, increase the number of iterations.\n",
      "\n"
     ]
    },
    {
     "name": "stdout",
     "output_type": "stream",
     "text": [
      "4 / 5\n"
     ]
    },
    {
     "name": "stderr",
     "output_type": "stream",
     "text": [
      "c:\\python36\\lib\\site-packages\\sklearn\\svm\\base.py:929: ConvergenceWarning:\n",
      "\n",
      "Liblinear failed to converge, increase the number of iterations.\n",
      "\n",
      "c:\\python36\\lib\\site-packages\\sklearn\\svm\\base.py:929: ConvergenceWarning:\n",
      "\n",
      "Liblinear failed to converge, increase the number of iterations.\n",
      "\n"
     ]
    },
    {
     "name": "stdout",
     "output_type": "stream",
     "text": [
      "5 / 5\n"
     ]
    },
    {
     "name": "stderr",
     "output_type": "stream",
     "text": [
      "c:\\python36\\lib\\site-packages\\sklearn\\svm\\base.py:929: ConvergenceWarning:\n",
      "\n",
      "Liblinear failed to converge, increase the number of iterations.\n",
      "\n",
      "c:\\python36\\lib\\site-packages\\sklearn\\svm\\base.py:929: ConvergenceWarning:\n",
      "\n",
      "Liblinear failed to converge, increase the number of iterations.\n",
      "\n",
      "c:\\python36\\lib\\site-packages\\sklearn\\linear_model\\logistic.py:432: FutureWarning:\n",
      "\n",
      "Default solver will be changed to 'lbfgs' in 0.22. Specify a solver to silence this warning.\n",
      "\n"
     ]
    },
    {
     "name": "stdout",
     "output_type": "stream",
     "text": [
      "------------------------------------------------------------------------------------------------\n",
      "REPORT\n",
      "P03\n",
      "              precision    recall  f1-score   support\n",
      "\n",
      "        Rest       0.62      0.45      0.53        22\n",
      "    HandOpen       0.13      0.19      0.16        21\n",
      " PalmarGrasp       0.18      0.14      0.15        22\n",
      "LateralGrasp       0.29      0.32      0.30        22\n",
      "\n",
      "    accuracy                           0.28        87\n",
      "   macro avg       0.31      0.27      0.29        87\n",
      "weighted avg       0.31      0.28      0.29        87\n",
      "\n",
      "              precision    recall  f1-score   support\n",
      "\n",
      "        Rest       0.79      0.68      0.73        50\n",
      "    HandOpen       0.59      0.59      0.59        51\n",
      " PalmarGrasp       0.47      0.56      0.51        50\n",
      "LateralGrasp       0.81      0.76      0.78        50\n",
      "\n",
      "    accuracy                           0.65       201\n",
      "   macro avg       0.66      0.65      0.65       201\n",
      "weighted avg       0.66      0.65      0.65       201\n",
      "\n",
      "------------------------------------------------------------------------------------------------\n",
      "Extracting EDF parameters from D:\\DESARROLLO_PROYECTO_DOCTORADO\\pySTMM\\examples\\P04\\P04 Run 1.gdf...\n",
      "GDF file detected\n",
      "Setting channel info structure...\n",
      "Creating raw.info structure...\n",
      "Reading 0 ... 22015  =      0.000 ...    85.996 secs...\n",
      "Extracting EDF parameters from D:\\DESARROLLO_PROYECTO_DOCTORADO\\pySTMM\\examples\\P04\\P04 Run 10.gdf...\n",
      "GDF file detected\n",
      "Setting channel info structure...\n",
      "Creating raw.info structure...\n",
      "Reading 0 ... 77823  =      0.000 ...   303.996 secs...\n",
      "Extracting EDF parameters from D:\\DESARROLLO_PROYECTO_DOCTORADO\\pySTMM\\examples\\P04\\P04 Run 11.gdf...\n",
      "GDF file detected\n",
      "Setting channel info structure...\n",
      "Creating raw.info structure...\n",
      "Reading 0 ... 77311  =      0.000 ...   301.996 secs...\n"
     ]
    },
    {
     "name": "stderr",
     "output_type": "stream",
     "text": [
      "c:\\python36\\lib\\site-packages\\mne\\io\\edf\\edf.py:1047: DeprecationWarning:\n",
      "\n",
      "The binary mode of fromstring is deprecated, as it behaves surprisingly on unicode inputs. Use frombuffer instead\n",
      "\n",
      "c:\\python36\\lib\\site-packages\\mne\\io\\edf\\edf.py:1047: DeprecationWarning:\n",
      "\n",
      "The binary mode of fromstring is deprecated, as it behaves surprisingly on unicode inputs. Use frombuffer instead\n",
      "\n",
      "c:\\python36\\lib\\site-packages\\mne\\io\\edf\\edf.py:1047: DeprecationWarning:\n",
      "\n",
      "The binary mode of fromstring is deprecated, as it behaves surprisingly on unicode inputs. Use frombuffer instead\n",
      "\n"
     ]
    },
    {
     "name": "stdout",
     "output_type": "stream",
     "text": [
      "Extracting EDF parameters from D:\\DESARROLLO_PROYECTO_DOCTORADO\\pySTMM\\examples\\P04\\P04 Run 12.gdf...\n",
      "GDF file detected\n",
      "Setting channel info structure...\n",
      "Creating raw.info structure...\n",
      "Reading 0 ... 78847  =      0.000 ...   307.996 secs...\n",
      "Extracting EDF parameters from D:\\DESARROLLO_PROYECTO_DOCTORADO\\pySTMM\\examples\\P04\\P04 Run 13.gdf...\n",
      "GDF file detected\n",
      "Setting channel info structure...\n",
      "Creating raw.info structure...\n",
      "Reading 0 ... 77055  =      0.000 ...   300.996 secs...\n"
     ]
    },
    {
     "name": "stderr",
     "output_type": "stream",
     "text": [
      "c:\\python36\\lib\\site-packages\\mne\\io\\edf\\edf.py:1047: DeprecationWarning:\n",
      "\n",
      "The binary mode of fromstring is deprecated, as it behaves surprisingly on unicode inputs. Use frombuffer instead\n",
      "\n",
      "c:\\python36\\lib\\site-packages\\mne\\io\\edf\\edf.py:1047: DeprecationWarning:\n",
      "\n",
      "The binary mode of fromstring is deprecated, as it behaves surprisingly on unicode inputs. Use frombuffer instead\n",
      "\n"
     ]
    },
    {
     "name": "stdout",
     "output_type": "stream",
     "text": [
      "Extracting EDF parameters from D:\\DESARROLLO_PROYECTO_DOCTORADO\\pySTMM\\examples\\P04\\P04 Run 14.gdf...\n",
      "GDF file detected\n",
      "Setting channel info structure...\n",
      "Creating raw.info structure...\n",
      "Reading 0 ... 22015  =      0.000 ...    85.996 secs...\n"
     ]
    },
    {
     "name": "stderr",
     "output_type": "stream",
     "text": [
      "c:\\python36\\lib\\site-packages\\mne\\io\\edf\\edf.py:1047: DeprecationWarning:\n",
      "\n",
      "The binary mode of fromstring is deprecated, as it behaves surprisingly on unicode inputs. Use frombuffer instead\n",
      "\n"
     ]
    },
    {
     "name": "stdout",
     "output_type": "stream",
     "text": [
      "Extracting EDF parameters from D:\\DESARROLLO_PROYECTO_DOCTORADO\\pySTMM\\examples\\P04\\P04 Run 15.gdf...\n",
      "GDF file detected\n",
      "Setting channel info structure...\n",
      "Creating raw.info structure...\n",
      "Reading 0 ... 23295  =      0.000 ...    90.996 secs...\n",
      "Extracting EDF parameters from D:\\DESARROLLO_PROYECTO_DOCTORADO\\pySTMM\\examples\\P04\\P04 Run 2.gdf...\n",
      "GDF file detected\n",
      "Setting channel info structure...\n",
      "Creating raw.info structure...\n",
      "Reading 0 ... 23295  =      0.000 ...    90.996 secs...\n",
      "Extracting EDF parameters from D:\\DESARROLLO_PROYECTO_DOCTORADO\\pySTMM\\examples\\P04\\P04 Run 3.gdf...\n",
      "GDF file detected\n",
      "Setting channel info structure...\n",
      "Creating raw.info structure...\n",
      "Reading 0 ... 76543  =      0.000 ...   298.996 secs...\n"
     ]
    },
    {
     "name": "stderr",
     "output_type": "stream",
     "text": [
      "c:\\python36\\lib\\site-packages\\mne\\io\\edf\\edf.py:1047: DeprecationWarning:\n",
      "\n",
      "The binary mode of fromstring is deprecated, as it behaves surprisingly on unicode inputs. Use frombuffer instead\n",
      "\n",
      "c:\\python36\\lib\\site-packages\\mne\\io\\edf\\edf.py:1047: DeprecationWarning:\n",
      "\n",
      "The binary mode of fromstring is deprecated, as it behaves surprisingly on unicode inputs. Use frombuffer instead\n",
      "\n",
      "c:\\python36\\lib\\site-packages\\mne\\io\\edf\\edf.py:1047: DeprecationWarning:\n",
      "\n",
      "The binary mode of fromstring is deprecated, as it behaves surprisingly on unicode inputs. Use frombuffer instead\n",
      "\n"
     ]
    },
    {
     "name": "stdout",
     "output_type": "stream",
     "text": [
      "Extracting EDF parameters from D:\\DESARROLLO_PROYECTO_DOCTORADO\\pySTMM\\examples\\P04\\P04 Run 4.gdf...\n",
      "GDF file detected\n",
      "Setting channel info structure...\n",
      "Creating raw.info structure...\n",
      "Reading 0 ... 76799  =      0.000 ...   299.996 secs...\n",
      "Extracting EDF parameters from D:\\DESARROLLO_PROYECTO_DOCTORADO\\pySTMM\\examples\\P04\\P04 Run 5.gdf...\n",
      "GDF file detected\n",
      "Setting channel info structure...\n",
      "Creating raw.info structure...\n",
      "Reading 0 ... 76031  =      0.000 ...   296.996 secs...\n"
     ]
    },
    {
     "name": "stderr",
     "output_type": "stream",
     "text": [
      "c:\\python36\\lib\\site-packages\\mne\\io\\edf\\edf.py:1047: DeprecationWarning:\n",
      "\n",
      "The binary mode of fromstring is deprecated, as it behaves surprisingly on unicode inputs. Use frombuffer instead\n",
      "\n",
      "c:\\python36\\lib\\site-packages\\mne\\io\\edf\\edf.py:1047: DeprecationWarning:\n",
      "\n",
      "The binary mode of fromstring is deprecated, as it behaves surprisingly on unicode inputs. Use frombuffer instead\n",
      "\n"
     ]
    },
    {
     "name": "stdout",
     "output_type": "stream",
     "text": [
      "Extracting EDF parameters from D:\\DESARROLLO_PROYECTO_DOCTORADO\\pySTMM\\examples\\P04\\P04 Run 6.gdf...\n",
      "GDF file detected\n",
      "Setting channel info structure...\n",
      "Creating raw.info structure...\n",
      "Reading 0 ... 77055  =      0.000 ...   300.996 secs...\n",
      "Extracting EDF parameters from D:\\DESARROLLO_PROYECTO_DOCTORADO\\pySTMM\\examples\\P04\\P04 Run 7.gdf...\n",
      "GDF file detected\n"
     ]
    },
    {
     "name": "stderr",
     "output_type": "stream",
     "text": [
      "c:\\python36\\lib\\site-packages\\mne\\io\\edf\\edf.py:1047: DeprecationWarning:\n",
      "\n",
      "The binary mode of fromstring is deprecated, as it behaves surprisingly on unicode inputs. Use frombuffer instead\n",
      "\n"
     ]
    },
    {
     "name": "stdout",
     "output_type": "stream",
     "text": [
      "Setting channel info structure...\n",
      "Creating raw.info structure...\n",
      "Reading 0 ... 77823  =      0.000 ...   303.996 secs...\n"
     ]
    },
    {
     "name": "stderr",
     "output_type": "stream",
     "text": [
      "c:\\python36\\lib\\site-packages\\mne\\io\\edf\\edf.py:1047: DeprecationWarning:\n",
      "\n",
      "The binary mode of fromstring is deprecated, as it behaves surprisingly on unicode inputs. Use frombuffer instead\n",
      "\n"
     ]
    },
    {
     "name": "stdout",
     "output_type": "stream",
     "text": [
      "Extracting EDF parameters from D:\\DESARROLLO_PROYECTO_DOCTORADO\\pySTMM\\examples\\P04\\P04 Run 8.gdf...\n",
      "GDF file detected\n",
      "Setting channel info structure...\n",
      "Creating raw.info structure...\n",
      "Reading 0 ... 22015  =      0.000 ...    85.996 secs...\n",
      "Extracting EDF parameters from D:\\DESARROLLO_PROYECTO_DOCTORADO\\pySTMM\\examples\\P04\\P04 Run 9.gdf...\n",
      "GDF file detected\n",
      "Setting channel info structure...\n",
      "Creating raw.info structure...\n",
      "Reading 0 ... 23295  =      0.000 ...    90.996 secs...\n"
     ]
    },
    {
     "name": "stderr",
     "output_type": "stream",
     "text": [
      "c:\\python36\\lib\\site-packages\\mne\\io\\edf\\edf.py:1047: DeprecationWarning:\n",
      "\n",
      "The binary mode of fromstring is deprecated, as it behaves surprisingly on unicode inputs. Use frombuffer instead\n",
      "\n",
      "c:\\python36\\lib\\site-packages\\mne\\io\\edf\\edf.py:1047: DeprecationWarning:\n",
      "\n",
      "The binary mode of fromstring is deprecated, as it behaves surprisingly on unicode inputs. Use frombuffer instead\n",
      "\n"
     ]
    },
    {
     "name": "stdout",
     "output_type": "stream",
     "text": [
      "Extracting EDF parameters from D:\\DESARROLLO_PROYECTO_DOCTORADO\\pySTMM\\examples\\P04\\P04 Run 1.gdf...\n",
      "GDF file detected\n",
      "Setting channel info structure...\n",
      "Creating raw.info structure...\n",
      "Used Annotations descriptions: ['33536', '768', '785']\n",
      "Extracting EDF parameters from D:\\DESARROLLO_PROYECTO_DOCTORADO\\pySTMM\\examples\\P04\\P04 Run 2.gdf...\n",
      "GDF file detected\n",
      "Setting channel info structure...\n",
      "Creating raw.info structure...\n",
      "Used Annotations descriptions: ['33536', '33554', '768', '785', '786']\n"
     ]
    },
    {
     "name": "stderr",
     "output_type": "stream",
     "text": [
      "c:\\python36\\lib\\site-packages\\mne\\io\\edf\\edf.py:1047: DeprecationWarning:\n",
      "\n",
      "The binary mode of fromstring is deprecated, as it behaves surprisingly on unicode inputs. Use frombuffer instead\n",
      "\n",
      "c:\\python36\\lib\\site-packages\\mne\\io\\edf\\edf.py:1047: DeprecationWarning:\n",
      "\n",
      "The binary mode of fromstring is deprecated, as it behaves surprisingly on unicode inputs. Use frombuffer instead\n",
      "\n"
     ]
    },
    {
     "name": "stdout",
     "output_type": "stream",
     "text": [
      "Extracting EDF parameters from D:\\DESARROLLO_PROYECTO_DOCTORADO\\pySTMM\\examples\\P04\\P04 Run 3.gdf...\n",
      "GDF file detected\n",
      "Setting channel info structure...\n",
      "Creating raw.info structure...\n"
     ]
    },
    {
     "name": "stderr",
     "output_type": "stream",
     "text": [
      "c:\\python36\\lib\\site-packages\\mne\\io\\edf\\edf.py:1047: DeprecationWarning:\n",
      "\n",
      "The binary mode of fromstring is deprecated, as it behaves surprisingly on unicode inputs. Use frombuffer instead\n",
      "\n"
     ]
    },
    {
     "name": "stdout",
     "output_type": "stream",
     "text": [
      "Used Annotations descriptions: ['33536', '33544', '33545', '33547', '33554', '33693', '33694', '768', '776', '777', '779', '785', '786', '925', '926']\n",
      "Extracting EDF parameters from D:\\DESARROLLO_PROYECTO_DOCTORADO\\pySTMM\\examples\\P04\\P04 Run 4.gdf...\n",
      "GDF file detected\n",
      "Setting channel info structure...\n",
      "Creating raw.info structure...\n",
      "Used Annotations descriptions: ['33536', '33544', '33545', '33547', '33554', '33693', '33694', '768', '776', '777', '779', '785', '786', '925', '926']\n"
     ]
    },
    {
     "name": "stderr",
     "output_type": "stream",
     "text": [
      "c:\\python36\\lib\\site-packages\\mne\\io\\edf\\edf.py:1047: DeprecationWarning:\n",
      "\n",
      "The binary mode of fromstring is deprecated, as it behaves surprisingly on unicode inputs. Use frombuffer instead\n",
      "\n"
     ]
    },
    {
     "name": "stdout",
     "output_type": "stream",
     "text": [
      "Extracting EDF parameters from D:\\DESARROLLO_PROYECTO_DOCTORADO\\pySTMM\\examples\\P04\\P04 Run 5.gdf...\n",
      "GDF file detected\n",
      "Setting channel info structure...\n",
      "Creating raw.info structure...\n",
      "Used Annotations descriptions: ['33536', '33544', '33545', '33547', '33554', '33693', '33694', '768', '776', '777', '779', '785', '786', '925', '926']\n"
     ]
    },
    {
     "name": "stderr",
     "output_type": "stream",
     "text": [
      "c:\\python36\\lib\\site-packages\\mne\\io\\edf\\edf.py:1047: DeprecationWarning:\n",
      "\n",
      "The binary mode of fromstring is deprecated, as it behaves surprisingly on unicode inputs. Use frombuffer instead\n",
      "\n"
     ]
    },
    {
     "name": "stdout",
     "output_type": "stream",
     "text": [
      "Extracting EDF parameters from D:\\DESARROLLO_PROYECTO_DOCTORADO\\pySTMM\\examples\\P04\\P04 Run 6.gdf...\n",
      "GDF file detected\n",
      "Setting channel info structure...\n",
      "Creating raw.info structure...\n"
     ]
    },
    {
     "name": "stderr",
     "output_type": "stream",
     "text": [
      "c:\\python36\\lib\\site-packages\\mne\\io\\edf\\edf.py:1047: DeprecationWarning:\n",
      "\n",
      "The binary mode of fromstring is deprecated, as it behaves surprisingly on unicode inputs. Use frombuffer instead\n",
      "\n"
     ]
    },
    {
     "name": "stdout",
     "output_type": "stream",
     "text": [
      "Used Annotations descriptions: ['33536', '33544', '33545', '33547', '33554', '33693', '33694', '768', '776', '777', '779', '785', '786', '925', '926']\n",
      "Extracting EDF parameters from D:\\DESARROLLO_PROYECTO_DOCTORADO\\pySTMM\\examples\\P04\\P04 Run 7.gdf...\n",
      "GDF file detected\n",
      "Setting channel info structure...\n",
      "Creating raw.info structure...\n",
      "Used Annotations descriptions: ['33536', '33544', '33545', '33547', '33554', '33693', '33694', '768', '776', '777', '779', '785', '786', '925', '926']\n"
     ]
    },
    {
     "name": "stderr",
     "output_type": "stream",
     "text": [
      "c:\\python36\\lib\\site-packages\\mne\\io\\edf\\edf.py:1047: DeprecationWarning:\n",
      "\n",
      "The binary mode of fromstring is deprecated, as it behaves surprisingly on unicode inputs. Use frombuffer instead\n",
      "\n"
     ]
    },
    {
     "name": "stdout",
     "output_type": "stream",
     "text": [
      "Extracting EDF parameters from D:\\DESARROLLO_PROYECTO_DOCTORADO\\pySTMM\\examples\\P04\\P04 Run 8.gdf...\n",
      "GDF file detected\n",
      "Setting channel info structure...\n",
      "Creating raw.info structure...\n",
      "Used Annotations descriptions: ['33536', '768', '785']\n",
      "Extracting EDF parameters from D:\\DESARROLLO_PROYECTO_DOCTORADO\\pySTMM\\examples\\P04\\P04 Run 9.gdf...\n",
      "GDF file detected\n",
      "Setting channel info structure...\n",
      "Creating raw.info structure...\n"
     ]
    },
    {
     "name": "stderr",
     "output_type": "stream",
     "text": [
      "c:\\python36\\lib\\site-packages\\mne\\io\\edf\\edf.py:1047: DeprecationWarning:\n",
      "\n",
      "The binary mode of fromstring is deprecated, as it behaves surprisingly on unicode inputs. Use frombuffer instead\n",
      "\n",
      "c:\\python36\\lib\\site-packages\\mne\\io\\edf\\edf.py:1047: DeprecationWarning:\n",
      "\n",
      "The binary mode of fromstring is deprecated, as it behaves surprisingly on unicode inputs. Use frombuffer instead\n",
      "\n"
     ]
    },
    {
     "name": "stdout",
     "output_type": "stream",
     "text": [
      "Used Annotations descriptions: ['33536', '33554', '768', '785', '786']\n",
      "Extracting EDF parameters from D:\\DESARROLLO_PROYECTO_DOCTORADO\\pySTMM\\examples\\P04\\P04 Run 10.gdf...\n",
      "GDF file detected\n",
      "Setting channel info structure...\n",
      "Creating raw.info structure...\n"
     ]
    },
    {
     "name": "stderr",
     "output_type": "stream",
     "text": [
      "c:\\python36\\lib\\site-packages\\mne\\io\\edf\\edf.py:1047: DeprecationWarning:\n",
      "\n",
      "The binary mode of fromstring is deprecated, as it behaves surprisingly on unicode inputs. Use frombuffer instead\n",
      "\n"
     ]
    },
    {
     "name": "stdout",
     "output_type": "stream",
     "text": [
      "Used Annotations descriptions: ['33536', '33544', '33545', '33547', '33554', '33693', '33694', '768', '776', '777', '779', '785', '786', '925', '926']\n",
      "Extracting EDF parameters from D:\\DESARROLLO_PROYECTO_DOCTORADO\\pySTMM\\examples\\P04\\P04 Run 11.gdf...\n",
      "GDF file detected\n",
      "Setting channel info structure...\n",
      "Creating raw.info structure...\n"
     ]
    },
    {
     "name": "stderr",
     "output_type": "stream",
     "text": [
      "c:\\python36\\lib\\site-packages\\mne\\io\\edf\\edf.py:1047: DeprecationWarning:\n",
      "\n",
      "The binary mode of fromstring is deprecated, as it behaves surprisingly on unicode inputs. Use frombuffer instead\n",
      "\n"
     ]
    },
    {
     "name": "stdout",
     "output_type": "stream",
     "text": [
      "Used Annotations descriptions: ['33536', '33544', '33545', '33547', '33554', '33693', '33694', '768', '776', '777', '779', '785', '786', '925', '926']\n",
      "Extracting EDF parameters from D:\\DESARROLLO_PROYECTO_DOCTORADO\\pySTMM\\examples\\P04\\P04 Run 12.gdf...\n",
      "GDF file detected\n",
      "Setting channel info structure...\n",
      "Creating raw.info structure...\n"
     ]
    },
    {
     "name": "stderr",
     "output_type": "stream",
     "text": [
      "c:\\python36\\lib\\site-packages\\mne\\io\\edf\\edf.py:1047: DeprecationWarning:\n",
      "\n",
      "The binary mode of fromstring is deprecated, as it behaves surprisingly on unicode inputs. Use frombuffer instead\n",
      "\n"
     ]
    },
    {
     "name": "stdout",
     "output_type": "stream",
     "text": [
      "Used Annotations descriptions: ['33536', '33544', '33545', '33547', '33554', '33693', '33694', '768', '776', '777', '779', '785', '786', '925', '926']\n",
      "Extracting EDF parameters from D:\\DESARROLLO_PROYECTO_DOCTORADO\\pySTMM\\examples\\P04\\P04 Run 13.gdf...\n",
      "GDF file detected\n",
      "Setting channel info structure...\n",
      "Creating raw.info structure...\n"
     ]
    },
    {
     "name": "stderr",
     "output_type": "stream",
     "text": [
      "c:\\python36\\lib\\site-packages\\mne\\io\\edf\\edf.py:1047: DeprecationWarning:\n",
      "\n",
      "The binary mode of fromstring is deprecated, as it behaves surprisingly on unicode inputs. Use frombuffer instead\n",
      "\n"
     ]
    },
    {
     "name": "stdout",
     "output_type": "stream",
     "text": [
      "Used Annotations descriptions: ['33536', '33544', '33545', '33547', '33554', '33693', '33694', '768', '776', '777', '779', '785', '786', '925', '926']\n",
      "Extracting EDF parameters from D:\\DESARROLLO_PROYECTO_DOCTORADO\\pySTMM\\examples\\P04\\P04 Run 14.gdf...\n",
      "GDF file detected\n",
      "Setting channel info structure...\n",
      "Creating raw.info structure...\n",
      "Used Annotations descriptions: ['33536', '768', '785']\n",
      "Extracting EDF parameters from D:\\DESARROLLO_PROYECTO_DOCTORADO\\pySTMM\\examples\\P04\\P04 Run 15.gdf...\n",
      "GDF file detected\n",
      "Setting channel info structure...\n",
      "Creating raw.info structure...\n"
     ]
    },
    {
     "name": "stderr",
     "output_type": "stream",
     "text": [
      "c:\\python36\\lib\\site-packages\\mne\\io\\edf\\edf.py:1047: DeprecationWarning:\n",
      "\n",
      "The binary mode of fromstring is deprecated, as it behaves surprisingly on unicode inputs. Use frombuffer instead\n",
      "\n",
      "c:\\python36\\lib\\site-packages\\mne\\io\\edf\\edf.py:1047: DeprecationWarning:\n",
      "\n",
      "The binary mode of fromstring is deprecated, as it behaves surprisingly on unicode inputs. Use frombuffer instead\n",
      "\n"
     ]
    },
    {
     "name": "stdout",
     "output_type": "stream",
     "text": [
      "Used Annotations descriptions: ['33536', '33554', '768', '785', '786']\n",
      "Report on REST:\n",
      "Total samples = 69129\n",
      "Sampling frequency (Hz) = 256\n",
      "Signal duration (s) = 270.04\n",
      "Signal duration (min) = 4.50\n",
      "Total trial start events = 3\n",
      "Indexes (sample) = [2560, 25603, 48646]\n",
      "Times (s) = [10.0, 100.01171875, 190.0234375]\n",
      "Duration between consecutive ones (s) = [90.01171875, 90.01171875]\n",
      "[10.5, 13.0, 15.5, 18.0, 20.5, 23.0, 25.5, 28.0, 30.5, 33.0, 35.5, 38.0, 40.5, 43.0, 45.5, 48.0, 50.5, 53.0, 55.5, 58.0, 60.5, 63.0, 65.5, 68.0, 100.51171875, 103.01171875, 105.51171875, 108.01171875, 110.51171875, 113.01171875, 115.51171875, 118.01171875, 120.51171875, 123.01171875, 125.51171875, 128.01171875, 130.51171875, 133.01171875, 135.51171875, 138.01171875, 140.51171875, 143.01171875, 145.51171875, 148.01171875, 150.51171875, 153.01171875, 155.51171875, 158.01171875, 190.5234375, 193.0234375, 195.5234375, 198.0234375, 200.5234375, 203.0234375, 205.5234375, 208.0234375, 210.5234375, 213.0234375, 215.5234375, 218.0234375, 220.5234375, 223.0234375, 225.5234375, 228.0234375, 230.5234375, 233.0234375, 235.5234375, 238.0234375, 240.5234375, 243.0234375, 245.5234375, 248.0234375]\n",
      "[15.50390625, 18.00390625, 20.50390625, 23.00390625, 25.50390625, 28.00390625, 30.50390625, 33.00390625, 35.50390625, 38.00390625, 40.50390625, 43.00390625, 45.50390625, 48.00390625, 50.50390625, 53.00390625, 55.50390625, 58.00390625, 60.50390625, 63.00390625, 65.50390625, 68.00390625, 70.50390625, 73.00390625, 105.515625, 108.015625, 110.515625, 113.015625, 115.515625, 118.015625, 120.515625, 123.015625, 125.515625, 128.015625, 130.515625, 133.015625, 135.515625, 138.015625, 140.515625, 143.015625, 145.515625, 148.015625, 150.515625, 153.015625, 155.515625, 158.015625, 160.515625, 163.015625, 195.52734375, 198.02734375, 200.52734375, 203.02734375, 205.52734375, 208.02734375, 210.52734375, 213.02734375, 215.52734375, 218.02734375, 220.52734375, 223.02734375, 225.52734375, 228.02734375, 230.52734375, 233.02734375, 235.52734375, 238.02734375, 240.52734375, 243.02734375, 245.52734375, 248.02734375, 250.52734375, 253.02734375]\n",
      "Report on: HandOpenClassCue\n",
      "Total samples = 694262\n",
      "Sampling frequency (Hz) = 256\n",
      "Signal duration (s) = 2711.96\n",
      "Signal duration (min) = 45.20\n",
      "Total HandOpenClassCue events = 72\n",
      "Indexes (sample) = [21023, 22592, 25864, 40223, 41878, 45467, 49034, 54248, 109591, 121946, 123874, 129077, 134204, 138020, 145550, 149119, 170851, 176164, 181736, 190250, 195622, 201094, 204615, 209982, 235586, 248353, 268149, 277089, 285889, 294964, 298398, 300290, 318395, 320090, 327421, 336568, 349147, 365415, 367457, 369250, 390484, 392439, 415896, 439249, 442841, 446479, 448502, 453908, 473132, 476793, 491664, 495045, 509241, 515024, 518914, 531551, 541702, 547042, 558226, 576882, 578701, 605915, 611637, 613414, 623837, 643109, 645080, 650643, 654446, 664814, 677577, 688461]\n",
      "Times (s) = [82.12109375, 88.25, 101.03125, 157.12109375, 163.5859375, 177.60546875, 191.5390625, 211.90625, 428.08984375, 476.3515625, 483.8828125, 504.20703125, 524.234375, 539.140625, 568.5546875, 582.49609375, 667.38671875, 688.140625, 709.90625, 743.1640625, 764.1484375, 785.5234375, 799.27734375, 820.2421875, 920.2578125, 970.12890625, 1047.45703125, 1082.37890625, 1116.75390625, 1152.203125, 1165.6171875, 1173.0078125, 1243.73046875, 1250.3515625, 1278.98828125, 1314.71875, 1363.85546875, 1427.40234375, 1435.37890625, 1442.3828125, 1525.328125, 1532.96484375, 1624.59375, 1715.81640625, 1729.84765625, 1744.05859375, 1751.9609375, 1773.078125, 1848.171875, 1862.47265625, 1920.5625, 1933.76953125, 1989.22265625, 2011.8125, 2027.0078125, 2076.37109375, 2116.0234375, 2136.8828125, 2180.5703125, 2253.4453125, 2260.55078125, 2366.85546875, 2389.20703125, 2396.1484375, 2436.86328125, 2512.14453125, 2519.84375, 2541.57421875, 2556.4296875, 2596.9296875, 2646.78515625, 2689.30078125]\n",
      "Duration between consecutive ones (s) = [6.12890625, 12.78125, 56.08984375, 6.46484375, 14.01953125, 13.93359375, 20.3671875, 216.18359375, 48.26171875, 7.53125, 20.32421875, 20.02734375, 14.90625, 29.4140625, 13.94140625, 84.890625, 20.75390625, 21.765625, 33.2578125, 20.984375, 21.375, 13.75390625, 20.96484375, 100.015625, 49.87109375, 77.328125, 34.921875, 34.375, 35.44921875, 13.4140625, 7.390625, 70.72265625, 6.62109375, 28.63671875, 35.73046875, 49.13671875, 63.546875, 7.9765625, 7.00390625, 82.9453125, 7.63671875, 91.62890625, 91.22265625, 14.03125, 14.2109375, 7.90234375, 21.1171875, 75.09375, 14.30078125, 58.08984375, 13.20703125, 55.453125, 22.58984375, 15.1953125, 49.36328125, 39.65234375, 20.859375, 43.6875, 72.875, 7.10546875, 106.3046875, 22.3515625, 6.94140625, 40.71484375, 75.28125, 7.69921875, 21.73046875, 14.85546875, 40.5, 49.85546875, 42.515625]\n",
      "[80.12109375, 86.25, 99.03125, 155.12109375, 161.5859375, 175.60546875, 189.5390625, 209.90625, 426.08984375, 474.3515625, 481.8828125, 502.20703125, 522.234375, 537.140625, 566.5546875, 580.49609375, 665.38671875, 686.140625, 707.90625, 741.1640625, 762.1484375, 783.5234375, 797.27734375, 818.2421875, 918.2578125, 968.12890625, 1045.45703125, 1080.37890625, 1114.75390625, 1150.203125, 1163.6171875, 1171.0078125, 1241.73046875, 1248.3515625, 1276.98828125, 1312.71875, 1361.85546875, 1425.40234375, 1433.37890625, 1440.3828125, 1523.328125, 1530.96484375, 1622.59375, 1713.81640625, 1727.84765625, 1742.05859375, 1749.9609375, 1771.078125, 1846.171875, 1860.47265625, 1918.5625, 1931.76953125, 1987.22265625, 2009.8125, 2025.0078125, 2074.37109375, 2114.0234375, 2134.8828125, 2178.5703125, 2251.4453125, 2258.55078125, 2364.85546875, 2387.20703125, 2394.1484375, 2434.86328125, 2510.14453125, 2517.84375, 2539.57421875, 2554.4296875, 2594.9296875, 2644.78515625, 2687.30078125]\n",
      "[85.125, 91.25390625, 104.03515625, 160.125, 166.58984375, 180.609375, 194.54296875, 214.91015625, 431.09375, 479.35546875, 486.88671875, 507.2109375, 527.23828125, 542.14453125, 571.55859375, 585.5, 670.390625, 691.14453125, 712.91015625, 746.16796875, 767.15234375, 788.52734375, 802.28125, 823.24609375, 923.26171875, 973.1328125, 1050.4609375, 1085.3828125, 1119.7578125, 1155.20703125, 1168.62109375, 1176.01171875, 1246.734375, 1253.35546875, 1281.9921875, 1317.72265625, 1366.859375, 1430.40625, 1438.3828125, 1445.38671875, 1528.33203125, 1535.96875, 1627.59765625, 1718.8203125, 1732.8515625, 1747.0625, 1754.96484375, 1776.08203125, 1851.17578125, 1865.4765625, 1923.56640625, 1936.7734375, 1992.2265625, 2014.81640625, 2030.01171875, 2079.375, 2119.02734375, 2139.88671875, 2183.57421875, 2256.44921875, 2263.5546875, 2369.859375, 2392.2109375, 2399.15234375, 2439.8671875, 2515.1484375, 2522.84765625, 2544.578125, 2559.43359375, 2599.93359375, 2649.7890625, 2692.3046875]\n",
      "Report on: PalmarGraspClassCue\n",
      "Total samples = 694262\n",
      "Sampling frequency (Hz) = 256\n",
      "Signal duration (s) = 2711.96\n",
      "Signal duration (min) = 45.20\n",
      "Total PalmarGraspClassCue events = 72\n",
      "Indexes (sample) = [3072, 8805, 13765, 19246, 24186, 27649, 56253, 72591, 81562, 94061, 101228, 104534, 113135, 125747, 127477, 139748, 159826, 165810, 174555, 177904, 186736, 191939, 213321, 218153, 233712, 239475, 249915, 261298, 266361, 287569, 289400, 291444, 309101, 310883, 316670, 321952, 323899, 341805, 354653, 363594, 388849, 399732, 405079, 419810, 433655, 435533, 444443, 455869, 464576, 469655, 480639, 501994, 503597, 513145, 520949, 534742, 545250, 552554, 554327, 569000, 585851, 591379, 595308, 604368, 620490, 622142, 649058, 658018, 661549, 663191, 672109, 684891]\n",
      "Times (s) = [12.0, 34.39453125, 53.76953125, 75.1796875, 94.4765625, 108.00390625, 219.73828125, 283.55859375, 318.6015625, 367.42578125, 395.421875, 408.3359375, 441.93359375, 491.19921875, 497.95703125, 545.890625, 624.3203125, 647.6953125, 681.85546875, 694.9375, 729.4375, 749.76171875, 833.28515625, 852.16015625, 912.9375, 935.44921875, 976.23046875, 1020.6953125, 1040.47265625, 1123.31640625, 1130.46875, 1138.453125, 1207.42578125, 1214.38671875, 1236.9921875, 1257.625, 1265.23046875, 1335.17578125, 1385.36328125, 1420.2890625, 1518.94140625, 1561.453125, 1582.33984375, 1639.8828125, 1693.96484375, 1701.30078125, 1736.10546875, 1780.73828125, 1814.75, 1834.58984375, 1877.49609375, 1960.9140625, 1967.17578125, 2004.47265625, 2034.95703125, 2088.8359375, 2129.8828125, 2158.4140625, 2165.33984375, 2222.65625, 2288.48046875, 2310.07421875, 2325.421875, 2360.8125, 2423.7890625, 2430.2421875, 2535.3828125, 2570.3828125, 2584.17578125, 2590.58984375, 2625.42578125, 2675.35546875]\n",
      "Duration between consecutive ones (s) = [22.39453125, 19.375, 21.41015625, 19.296875, 13.52734375, 111.734375, 63.8203125, 35.04296875, 48.82421875, 27.99609375, 12.9140625, 33.59765625, 49.265625, 6.7578125, 47.93359375, 78.4296875, 23.375, 34.16015625, 13.08203125, 34.5, 20.32421875, 83.5234375, 18.875, 60.77734375, 22.51171875, 40.78125, 44.46484375, 19.77734375, 82.84375, 7.15234375, 7.984375, 68.97265625, 6.9609375, 22.60546875, 20.6328125, 7.60546875, 69.9453125, 50.1875, 34.92578125, 98.65234375, 42.51171875, 20.88671875, 57.54296875, 54.08203125, 7.3359375, 34.8046875, 44.6328125, 34.01171875, 19.83984375, 42.90625, 83.41796875, 6.26171875, 37.296875, 30.484375, 53.87890625, 41.046875, 28.53125, 6.92578125, 57.31640625, 65.82421875, 21.59375, 15.34765625, 35.390625, 62.9765625, 6.453125, 105.140625, 35.0, 13.79296875, 6.4140625, 34.8359375, 49.9296875]\n",
      "[10.0, 32.39453125, 51.76953125, 73.1796875, 92.4765625, 106.00390625, 217.73828125, 281.55859375, 316.6015625, 365.42578125, 393.421875, 406.3359375, 439.93359375, 489.19921875, 495.95703125, 543.890625, 622.3203125, 645.6953125, 679.85546875, 692.9375, 727.4375, 747.76171875, 831.28515625, 850.16015625, 910.9375, 933.44921875, 974.23046875, 1018.6953125, 1038.47265625, 1121.31640625, 1128.46875, 1136.453125, 1205.42578125, 1212.38671875, 1234.9921875, 1255.625, 1263.23046875, 1333.17578125, 1383.36328125, 1418.2890625, 1516.94140625, 1559.453125, 1580.33984375, 1637.8828125, 1691.96484375, 1699.30078125, 1734.10546875, 1778.73828125, 1812.75, 1832.58984375, 1875.49609375, 1958.9140625, 1965.17578125, 2002.47265625, 2032.95703125, 2086.8359375, 2127.8828125, 2156.4140625, 2163.33984375, 2220.65625, 2286.48046875, 2308.07421875, 2323.421875, 2358.8125, 2421.7890625, 2428.2421875, 2533.3828125, 2568.3828125, 2582.17578125, 2588.58984375, 2623.42578125, 2673.35546875]\n",
      "[15.00390625, 37.3984375, 56.7734375, 78.18359375, 97.48046875, 111.0078125, 222.7421875, 286.5625, 321.60546875, 370.4296875, 398.42578125, 411.33984375, 444.9375, 494.203125, 500.9609375, 548.89453125, 627.32421875, 650.69921875, 684.859375, 697.94140625, 732.44140625, 752.765625, 836.2890625, 855.1640625, 915.94140625, 938.453125, 979.234375, 1023.69921875, 1043.4765625, 1126.3203125, 1133.47265625, 1141.45703125, 1210.4296875, 1217.390625, 1239.99609375, 1260.62890625, 1268.234375, 1338.1796875, 1388.3671875, 1423.29296875, 1521.9453125, 1564.45703125, 1585.34375, 1642.88671875, 1696.96875, 1704.3046875, 1739.109375, 1783.7421875, 1817.75390625, 1837.59375, 1880.5, 1963.91796875, 1970.1796875, 2007.4765625, 2037.9609375, 2091.83984375, 2132.88671875, 2161.41796875, 2168.34375, 2225.66015625, 2291.484375, 2313.078125, 2328.42578125, 2363.81640625, 2426.79296875, 2433.24609375, 2538.38671875, 2573.38671875, 2587.1796875, 2593.59375, 2628.4296875, 2678.359375]\n"
     ]
    },
    {
     "name": "stdout",
     "output_type": "stream",
     "text": [
      "Report on: LateralGraspClassCue\n",
      "Total samples = 694262\n",
      "Sampling frequency (Hz) = 256\n",
      "Signal duration (s) = 2711.96\n",
      "Signal duration (min) = 45.20\n",
      "Total LateralGraspClassCue events = 72\n",
      "Indexes (sample) = [5091, 6832, 11900, 17697, 34989, 50803, 52538, 66816, 90629, 92202, 95915, 107979, 111328, 141564, 143560, 147123, 156262, 169203, 172608, 183417, 188689, 202678, 208019, 211729, 241477, 244880, 259500, 262896, 269905, 271679, 273547, 280632, 325773, 333084, 338411, 340182, 352877, 357827, 374881, 378040, 386889, 403462, 414303, 421692, 425034, 428905, 437339, 450375, 467806, 471482, 478696, 482614, 488065, 500320, 528030, 529879, 548598, 550533, 560027, 571030, 574915, 587622, 589567, 593422, 625455, 634401, 647048, 656436, 666754, 675783, 683081, 686683]\n",
      "Times (s) = [19.88671875, 26.6875, 46.484375, 69.12890625, 136.67578125, 198.44921875, 205.2265625, 261.0, 354.01953125, 360.1640625, 374.66796875, 421.79296875, 434.875, 552.984375, 560.78125, 574.69921875, 610.3984375, 660.94921875, 674.25, 716.47265625, 737.06640625, 791.7109375, 812.57421875, 827.06640625, 943.26953125, 956.5625, 1013.671875, 1026.9375, 1054.31640625, 1061.24609375, 1068.54296875, 1096.21875, 1272.55078125, 1301.109375, 1321.91796875, 1328.8359375, 1378.42578125, 1397.76171875, 1464.37890625, 1476.71875, 1511.28515625, 1576.0234375, 1618.37109375, 1647.234375, 1660.2890625, 1675.41015625, 1708.35546875, 1759.27734375, 1827.3671875, 1841.7265625, 1869.90625, 1885.2109375, 1906.50390625, 1954.375, 2062.6171875, 2069.83984375, 2142.9609375, 2150.51953125, 2187.60546875, 2230.5859375, 2245.76171875, 2295.3984375, 2302.99609375, 2318.0546875, 2443.18359375, 2478.12890625, 2527.53125, 2564.203125, 2604.5078125, 2639.77734375, 2668.28515625, 2682.35546875]\n",
      "Duration between consecutive ones (s) = [6.80078125, 19.796875, 22.64453125, 67.546875, 61.7734375, 6.77734375, 55.7734375, 93.01953125, 6.14453125, 14.50390625, 47.125, 13.08203125, 118.109375, 7.796875, 13.91796875, 35.69921875, 50.55078125, 13.30078125, 42.22265625, 20.59375, 54.64453125, 20.86328125, 14.4921875, 116.203125, 13.29296875, 57.109375, 13.265625, 27.37890625, 6.9296875, 7.296875, 27.67578125, 176.33203125, 28.55859375, 20.80859375, 6.91796875, 49.58984375, 19.3359375, 66.6171875, 12.33984375, 34.56640625, 64.73828125, 42.34765625, 28.86328125, 13.0546875, 15.12109375, 32.9453125, 50.921875, 68.08984375, 14.359375, 28.1796875, 15.3046875, 21.29296875, 47.87109375, 108.2421875, 7.22265625, 73.12109375, 7.55859375, 37.0859375, 42.98046875, 15.17578125, 49.63671875, 7.59765625, 15.05859375, 125.12890625, 34.9453125, 49.40234375, 36.671875, 40.3046875, 35.26953125, 28.5078125, 14.0703125]\n",
      "[17.88671875, 24.6875, 44.484375, 67.12890625, 134.67578125, 196.44921875, 203.2265625, 259.0, 352.01953125, 358.1640625, 372.66796875, 419.79296875, 432.875, 550.984375, 558.78125, 572.69921875, 608.3984375, 658.94921875, 672.25, 714.47265625, 735.06640625, 789.7109375, 810.57421875, 825.06640625, 941.26953125, 954.5625, 1011.671875, 1024.9375, 1052.31640625, 1059.24609375, 1066.54296875, 1094.21875, 1270.55078125, 1299.109375, 1319.91796875, 1326.8359375, 1376.42578125, 1395.76171875, 1462.37890625, 1474.71875, 1509.28515625, 1574.0234375, 1616.37109375, 1645.234375, 1658.2890625, 1673.41015625, 1706.35546875, 1757.27734375, 1825.3671875, 1839.7265625, 1867.90625, 1883.2109375, 1904.50390625, 1952.375, 2060.6171875, 2067.83984375, 2140.9609375, 2148.51953125, 2185.60546875, 2228.5859375, 2243.76171875, 2293.3984375, 2300.99609375, 2316.0546875, 2441.18359375, 2476.12890625, 2525.53125, 2562.203125, 2602.5078125, 2637.77734375, 2666.28515625, 2680.35546875]\n",
      "[22.890625, 29.69140625, 49.48828125, 72.1328125, 139.6796875, 201.453125, 208.23046875, 264.00390625, 357.0234375, 363.16796875, 377.671875, 424.796875, 437.87890625, 555.98828125, 563.78515625, 577.703125, 613.40234375, 663.953125, 677.25390625, 719.4765625, 740.0703125, 794.71484375, 815.578125, 830.0703125, 946.2734375, 959.56640625, 1016.67578125, 1029.94140625, 1057.3203125, 1064.25, 1071.546875, 1099.22265625, 1275.5546875, 1304.11328125, 1324.921875, 1331.83984375, 1381.4296875, 1400.765625, 1467.3828125, 1479.72265625, 1514.2890625, 1579.02734375, 1621.375, 1650.23828125, 1663.29296875, 1678.4140625, 1711.359375, 1762.28125, 1830.37109375, 1844.73046875, 1872.91015625, 1888.21484375, 1909.5078125, 1957.37890625, 2065.62109375, 2072.84375, 2145.96484375, 2153.5234375, 2190.609375, 2233.58984375, 2248.765625, 2298.40234375, 2306.0, 2321.05859375, 2446.1875, 2481.1328125, 2530.53515625, 2567.20703125, 2607.51171875, 2642.78125, 2671.2890625, 2685.359375]\n",
      "maxIter  5\n",
      "ovr 10.0 10.0 5 0.0001 l2 True 0.0001 squared_hinge 100000\n",
      "1 / 5\n"
     ]
    },
    {
     "name": "stderr",
     "output_type": "stream",
     "text": [
      "c:\\python36\\lib\\site-packages\\sklearn\\svm\\base.py:929: ConvergenceWarning:\n",
      "\n",
      "Liblinear failed to converge, increase the number of iterations.\n",
      "\n",
      "c:\\python36\\lib\\site-packages\\sklearn\\svm\\base.py:929: ConvergenceWarning:\n",
      "\n",
      "Liblinear failed to converge, increase the number of iterations.\n",
      "\n"
     ]
    },
    {
     "name": "stdout",
     "output_type": "stream",
     "text": [
      "2 / 5\n"
     ]
    },
    {
     "name": "stderr",
     "output_type": "stream",
     "text": [
      "c:\\python36\\lib\\site-packages\\sklearn\\svm\\base.py:929: ConvergenceWarning:\n",
      "\n",
      "Liblinear failed to converge, increase the number of iterations.\n",
      "\n",
      "c:\\python36\\lib\\site-packages\\sklearn\\svm\\base.py:929: ConvergenceWarning:\n",
      "\n",
      "Liblinear failed to converge, increase the number of iterations.\n",
      "\n"
     ]
    },
    {
     "name": "stdout",
     "output_type": "stream",
     "text": [
      "3 / 5\n"
     ]
    },
    {
     "name": "stderr",
     "output_type": "stream",
     "text": [
      "c:\\python36\\lib\\site-packages\\sklearn\\svm\\base.py:929: ConvergenceWarning:\n",
      "\n",
      "Liblinear failed to converge, increase the number of iterations.\n",
      "\n",
      "c:\\python36\\lib\\site-packages\\sklearn\\svm\\base.py:929: ConvergenceWarning:\n",
      "\n",
      "Liblinear failed to converge, increase the number of iterations.\n",
      "\n"
     ]
    },
    {
     "name": "stdout",
     "output_type": "stream",
     "text": [
      "4 / 5\n"
     ]
    },
    {
     "name": "stderr",
     "output_type": "stream",
     "text": [
      "c:\\python36\\lib\\site-packages\\sklearn\\svm\\base.py:929: ConvergenceWarning:\n",
      "\n",
      "Liblinear failed to converge, increase the number of iterations.\n",
      "\n",
      "c:\\python36\\lib\\site-packages\\sklearn\\svm\\base.py:929: ConvergenceWarning:\n",
      "\n",
      "Liblinear failed to converge, increase the number of iterations.\n",
      "\n"
     ]
    },
    {
     "name": "stdout",
     "output_type": "stream",
     "text": [
      "5 / 5\n"
     ]
    },
    {
     "name": "stderr",
     "output_type": "stream",
     "text": [
      "c:\\python36\\lib\\site-packages\\sklearn\\svm\\base.py:929: ConvergenceWarning:\n",
      "\n",
      "Liblinear failed to converge, increase the number of iterations.\n",
      "\n",
      "c:\\python36\\lib\\site-packages\\sklearn\\svm\\base.py:929: ConvergenceWarning:\n",
      "\n",
      "Liblinear failed to converge, increase the number of iterations.\n",
      "\n",
      "c:\\python36\\lib\\site-packages\\sklearn\\linear_model\\logistic.py:432: FutureWarning:\n",
      "\n",
      "Default solver will be changed to 'lbfgs' in 0.22. Specify a solver to silence this warning.\n",
      "\n"
     ]
    },
    {
     "name": "stdout",
     "output_type": "stream",
     "text": [
      "1 / 5\n"
     ]
    },
    {
     "name": "stderr",
     "output_type": "stream",
     "text": [
      "c:\\python36\\lib\\site-packages\\sklearn\\svm\\base.py:929: ConvergenceWarning:\n",
      "\n",
      "Liblinear failed to converge, increase the number of iterations.\n",
      "\n",
      "c:\\python36\\lib\\site-packages\\sklearn\\svm\\base.py:929: ConvergenceWarning:\n",
      "\n",
      "Liblinear failed to converge, increase the number of iterations.\n",
      "\n"
     ]
    },
    {
     "name": "stdout",
     "output_type": "stream",
     "text": [
      "2 / 5\n"
     ]
    },
    {
     "name": "stderr",
     "output_type": "stream",
     "text": [
      "c:\\python36\\lib\\site-packages\\sklearn\\svm\\base.py:929: ConvergenceWarning:\n",
      "\n",
      "Liblinear failed to converge, increase the number of iterations.\n",
      "\n",
      "c:\\python36\\lib\\site-packages\\sklearn\\svm\\base.py:929: ConvergenceWarning:\n",
      "\n",
      "Liblinear failed to converge, increase the number of iterations.\n",
      "\n"
     ]
    },
    {
     "name": "stdout",
     "output_type": "stream",
     "text": [
      "3 / 5\n"
     ]
    },
    {
     "name": "stderr",
     "output_type": "stream",
     "text": [
      "c:\\python36\\lib\\site-packages\\sklearn\\svm\\base.py:929: ConvergenceWarning:\n",
      "\n",
      "Liblinear failed to converge, increase the number of iterations.\n",
      "\n",
      "c:\\python36\\lib\\site-packages\\sklearn\\svm\\base.py:929: ConvergenceWarning:\n",
      "\n",
      "Liblinear failed to converge, increase the number of iterations.\n",
      "\n"
     ]
    },
    {
     "name": "stdout",
     "output_type": "stream",
     "text": [
      "4 / 5\n"
     ]
    },
    {
     "name": "stderr",
     "output_type": "stream",
     "text": [
      "c:\\python36\\lib\\site-packages\\sklearn\\svm\\base.py:929: ConvergenceWarning:\n",
      "\n",
      "Liblinear failed to converge, increase the number of iterations.\n",
      "\n",
      "c:\\python36\\lib\\site-packages\\sklearn\\svm\\base.py:929: ConvergenceWarning:\n",
      "\n",
      "Liblinear failed to converge, increase the number of iterations.\n",
      "\n"
     ]
    },
    {
     "name": "stdout",
     "output_type": "stream",
     "text": [
      "5 / 5\n"
     ]
    },
    {
     "name": "stderr",
     "output_type": "stream",
     "text": [
      "c:\\python36\\lib\\site-packages\\sklearn\\svm\\base.py:929: ConvergenceWarning:\n",
      "\n",
      "Liblinear failed to converge, increase the number of iterations.\n",
      "\n",
      "c:\\python36\\lib\\site-packages\\sklearn\\svm\\base.py:929: ConvergenceWarning:\n",
      "\n",
      "Liblinear failed to converge, increase the number of iterations.\n",
      "\n",
      "c:\\python36\\lib\\site-packages\\sklearn\\linear_model\\logistic.py:432: FutureWarning:\n",
      "\n",
      "Default solver will be changed to 'lbfgs' in 0.22. Specify a solver to silence this warning.\n",
      "\n"
     ]
    },
    {
     "name": "stdout",
     "output_type": "stream",
     "text": [
      "1 / 5\n"
     ]
    },
    {
     "name": "stderr",
     "output_type": "stream",
     "text": [
      "c:\\python36\\lib\\site-packages\\sklearn\\svm\\base.py:929: ConvergenceWarning:\n",
      "\n",
      "Liblinear failed to converge, increase the number of iterations.\n",
      "\n",
      "c:\\python36\\lib\\site-packages\\sklearn\\svm\\base.py:929: ConvergenceWarning:\n",
      "\n",
      "Liblinear failed to converge, increase the number of iterations.\n",
      "\n"
     ]
    },
    {
     "name": "stdout",
     "output_type": "stream",
     "text": [
      "2 / 5\n"
     ]
    },
    {
     "name": "stderr",
     "output_type": "stream",
     "text": [
      "c:\\python36\\lib\\site-packages\\sklearn\\svm\\base.py:929: ConvergenceWarning:\n",
      "\n",
      "Liblinear failed to converge, increase the number of iterations.\n",
      "\n",
      "c:\\python36\\lib\\site-packages\\sklearn\\svm\\base.py:929: ConvergenceWarning:\n",
      "\n",
      "Liblinear failed to converge, increase the number of iterations.\n",
      "\n"
     ]
    },
    {
     "name": "stdout",
     "output_type": "stream",
     "text": [
      "3 / 5\n"
     ]
    },
    {
     "name": "stderr",
     "output_type": "stream",
     "text": [
      "c:\\python36\\lib\\site-packages\\sklearn\\svm\\base.py:929: ConvergenceWarning:\n",
      "\n",
      "Liblinear failed to converge, increase the number of iterations.\n",
      "\n",
      "c:\\python36\\lib\\site-packages\\sklearn\\svm\\base.py:929: ConvergenceWarning:\n",
      "\n",
      "Liblinear failed to converge, increase the number of iterations.\n",
      "\n"
     ]
    },
    {
     "name": "stdout",
     "output_type": "stream",
     "text": [
      "4 / 5\n"
     ]
    },
    {
     "name": "stderr",
     "output_type": "stream",
     "text": [
      "c:\\python36\\lib\\site-packages\\sklearn\\svm\\base.py:929: ConvergenceWarning:\n",
      "\n",
      "Liblinear failed to converge, increase the number of iterations.\n",
      "\n",
      "c:\\python36\\lib\\site-packages\\sklearn\\svm\\base.py:929: ConvergenceWarning:\n",
      "\n",
      "Liblinear failed to converge, increase the number of iterations.\n",
      "\n"
     ]
    },
    {
     "name": "stdout",
     "output_type": "stream",
     "text": [
      "5 / 5\n"
     ]
    },
    {
     "name": "stderr",
     "output_type": "stream",
     "text": [
      "c:\\python36\\lib\\site-packages\\sklearn\\svm\\base.py:929: ConvergenceWarning:\n",
      "\n",
      "Liblinear failed to converge, increase the number of iterations.\n",
      "\n",
      "c:\\python36\\lib\\site-packages\\sklearn\\svm\\base.py:929: ConvergenceWarning:\n",
      "\n",
      "Liblinear failed to converge, increase the number of iterations.\n",
      "\n",
      "c:\\python36\\lib\\site-packages\\sklearn\\linear_model\\logistic.py:432: FutureWarning:\n",
      "\n",
      "Default solver will be changed to 'lbfgs' in 0.22. Specify a solver to silence this warning.\n",
      "\n"
     ]
    },
    {
     "name": "stdout",
     "output_type": "stream",
     "text": [
      "1 / 5\n"
     ]
    },
    {
     "name": "stderr",
     "output_type": "stream",
     "text": [
      "c:\\python36\\lib\\site-packages\\sklearn\\svm\\base.py:929: ConvergenceWarning:\n",
      "\n",
      "Liblinear failed to converge, increase the number of iterations.\n",
      "\n",
      "c:\\python36\\lib\\site-packages\\sklearn\\svm\\base.py:929: ConvergenceWarning:\n",
      "\n",
      "Liblinear failed to converge, increase the number of iterations.\n",
      "\n"
     ]
    },
    {
     "name": "stdout",
     "output_type": "stream",
     "text": [
      "2 / 5\n"
     ]
    },
    {
     "name": "stderr",
     "output_type": "stream",
     "text": [
      "c:\\python36\\lib\\site-packages\\sklearn\\svm\\base.py:929: ConvergenceWarning:\n",
      "\n",
      "Liblinear failed to converge, increase the number of iterations.\n",
      "\n",
      "c:\\python36\\lib\\site-packages\\sklearn\\svm\\base.py:929: ConvergenceWarning:\n",
      "\n",
      "Liblinear failed to converge, increase the number of iterations.\n",
      "\n"
     ]
    },
    {
     "name": "stdout",
     "output_type": "stream",
     "text": [
      "3 / 5\n"
     ]
    },
    {
     "name": "stderr",
     "output_type": "stream",
     "text": [
      "c:\\python36\\lib\\site-packages\\sklearn\\svm\\base.py:929: ConvergenceWarning:\n",
      "\n",
      "Liblinear failed to converge, increase the number of iterations.\n",
      "\n",
      "c:\\python36\\lib\\site-packages\\sklearn\\svm\\base.py:929: ConvergenceWarning:\n",
      "\n",
      "Liblinear failed to converge, increase the number of iterations.\n",
      "\n"
     ]
    },
    {
     "name": "stdout",
     "output_type": "stream",
     "text": [
      "4 / 5\n"
     ]
    },
    {
     "name": "stderr",
     "output_type": "stream",
     "text": [
      "c:\\python36\\lib\\site-packages\\sklearn\\svm\\base.py:929: ConvergenceWarning:\n",
      "\n",
      "Liblinear failed to converge, increase the number of iterations.\n",
      "\n",
      "c:\\python36\\lib\\site-packages\\sklearn\\svm\\base.py:929: ConvergenceWarning:\n",
      "\n",
      "Liblinear failed to converge, increase the number of iterations.\n",
      "\n"
     ]
    },
    {
     "name": "stdout",
     "output_type": "stream",
     "text": [
      "5 / 5\n"
     ]
    },
    {
     "name": "stderr",
     "output_type": "stream",
     "text": [
      "c:\\python36\\lib\\site-packages\\sklearn\\svm\\base.py:929: ConvergenceWarning:\n",
      "\n",
      "Liblinear failed to converge, increase the number of iterations.\n",
      "\n",
      "c:\\python36\\lib\\site-packages\\sklearn\\svm\\base.py:929: ConvergenceWarning:\n",
      "\n",
      "Liblinear failed to converge, increase the number of iterations.\n",
      "\n",
      "c:\\python36\\lib\\site-packages\\sklearn\\linear_model\\logistic.py:432: FutureWarning:\n",
      "\n",
      "Default solver will be changed to 'lbfgs' in 0.22. Specify a solver to silence this warning.\n",
      "\n"
     ]
    },
    {
     "name": "stdout",
     "output_type": "stream",
     "text": [
      "------------------------------------------------------------------------------------------------\n",
      "REPORT\n",
      "P04\n",
      "              precision    recall  f1-score   support\n",
      "\n",
      "        Rest       0.71      0.55      0.62        22\n",
      "    HandOpen       0.29      0.19      0.23        21\n",
      " PalmarGrasp       0.30      0.50      0.37        22\n",
      "LateralGrasp       0.37      0.32      0.34        22\n",
      "\n",
      "    accuracy                           0.39        87\n",
      "   macro avg       0.41      0.39      0.39        87\n",
      "weighted avg       0.42      0.39      0.39        87\n",
      "\n",
      "              precision    recall  f1-score   support\n",
      "\n",
      "        Rest       0.76      0.44      0.56        50\n",
      "    HandOpen       0.69      0.67      0.68        51\n",
      " PalmarGrasp       0.47      0.80      0.59        50\n",
      "LateralGrasp       0.79      0.60      0.68        50\n",
      "\n",
      "    accuracy                           0.63       201\n",
      "   macro avg       0.68      0.63      0.63       201\n",
      "weighted avg       0.68      0.63      0.63       201\n",
      "\n",
      "------------------------------------------------------------------------------------------------\n",
      "Extracting EDF parameters from D:\\DESARROLLO_PROYECTO_DOCTORADO\\pySTMM\\examples\\P05\\P05 Run 1.gdf...\n",
      "GDF file detected\n",
      "Setting channel info structure...\n",
      "Creating raw.info structure...\n",
      "Reading 0 ... 22015  =      0.000 ...    85.996 secs...\n",
      "Extracting EDF parameters from D:\\DESARROLLO_PROYECTO_DOCTORADO\\pySTMM\\examples\\P05\\P05 Run 10.gdf...\n",
      "GDF file detected\n",
      "Setting channel info structure...\n",
      "Creating raw.info structure...\n",
      "Reading 0 ... 77055  =      0.000 ...   300.996 secs...\n",
      "Extracting EDF parameters from D:\\DESARROLLO_PROYECTO_DOCTORADO\\pySTMM\\examples\\P05\\P05 Run 11.gdf...\n",
      "GDF file detected\n",
      "Setting channel info structure...\n",
      "Creating raw.info structure...\n",
      "Reading 0 ... 77823  =      0.000 ...   303.996 secs...\n"
     ]
    },
    {
     "name": "stderr",
     "output_type": "stream",
     "text": [
      "c:\\python36\\lib\\site-packages\\mne\\io\\edf\\edf.py:1047: DeprecationWarning:\n",
      "\n",
      "The binary mode of fromstring is deprecated, as it behaves surprisingly on unicode inputs. Use frombuffer instead\n",
      "\n",
      "c:\\python36\\lib\\site-packages\\mne\\io\\edf\\edf.py:1047: DeprecationWarning:\n",
      "\n",
      "The binary mode of fromstring is deprecated, as it behaves surprisingly on unicode inputs. Use frombuffer instead\n",
      "\n",
      "c:\\python36\\lib\\site-packages\\mne\\io\\edf\\edf.py:1047: DeprecationWarning:\n",
      "\n",
      "The binary mode of fromstring is deprecated, as it behaves surprisingly on unicode inputs. Use frombuffer instead\n",
      "\n"
     ]
    },
    {
     "name": "stdout",
     "output_type": "stream",
     "text": [
      "Extracting EDF parameters from D:\\DESARROLLO_PROYECTO_DOCTORADO\\pySTMM\\examples\\P05\\P05 Run 12.gdf...\n",
      "GDF file detected\n",
      "Setting channel info structure...\n",
      "Creating raw.info structure...\n",
      "Reading 0 ... 77311  =      0.000 ...   301.996 secs...\n",
      "Extracting EDF parameters from D:\\DESARROLLO_PROYECTO_DOCTORADO\\pySTMM\\examples\\P05\\P05 Run 13.gdf...\n",
      "GDF file detected\n"
     ]
    },
    {
     "name": "stderr",
     "output_type": "stream",
     "text": [
      "c:\\python36\\lib\\site-packages\\mne\\io\\edf\\edf.py:1047: DeprecationWarning:\n",
      "\n",
      "The binary mode of fromstring is deprecated, as it behaves surprisingly on unicode inputs. Use frombuffer instead\n",
      "\n"
     ]
    },
    {
     "name": "stdout",
     "output_type": "stream",
     "text": [
      "Setting channel info structure...\n",
      "Creating raw.info structure...\n",
      "Reading 0 ... 78847  =      0.000 ...   307.996 secs...\n"
     ]
    },
    {
     "name": "stderr",
     "output_type": "stream",
     "text": [
      "c:\\python36\\lib\\site-packages\\mne\\io\\edf\\edf.py:1047: DeprecationWarning:\n",
      "\n",
      "The binary mode of fromstring is deprecated, as it behaves surprisingly on unicode inputs. Use frombuffer instead\n",
      "\n"
     ]
    },
    {
     "name": "stdout",
     "output_type": "stream",
     "text": [
      "Extracting EDF parameters from D:\\DESARROLLO_PROYECTO_DOCTORADO\\pySTMM\\examples\\P05\\P05 Run 14.gdf...\n",
      "GDF file detected\n",
      "Setting channel info structure...\n",
      "Creating raw.info structure...\n",
      "Reading 0 ... 22015  =      0.000 ...    85.996 secs...\n",
      "Extracting EDF parameters from D:\\DESARROLLO_PROYECTO_DOCTORADO\\pySTMM\\examples\\P05\\P05 Run 15.gdf...\n",
      "GDF file detected\n",
      "Setting channel info structure...\n",
      "Creating raw.info structure...\n",
      "Reading 0 ... 23295  =      0.000 ...    90.996 secs...\n",
      "Extracting EDF parameters from D:\\DESARROLLO_PROYECTO_DOCTORADO\\pySTMM\\examples\\P05\\P05 Run 2.gdf...\n",
      "GDF file detected\n",
      "Setting channel info structure...\n",
      "Creating raw.info structure...\n",
      "Reading 0 ... 23295  =      0.000 ...    90.996 secs...\n",
      "Extracting EDF parameters from D:\\DESARROLLO_PROYECTO_DOCTORADO\\pySTMM\\examples\\P05\\P05 Run 3.gdf...\n",
      "GDF file detected\n",
      "Setting channel info structure...\n",
      "Creating raw.info structure...\n",
      "Reading 0 ... 76543  =      0.000 ...   298.996 secs...\n"
     ]
    },
    {
     "name": "stderr",
     "output_type": "stream",
     "text": [
      "c:\\python36\\lib\\site-packages\\mne\\io\\edf\\edf.py:1047: DeprecationWarning:\n",
      "\n",
      "The binary mode of fromstring is deprecated, as it behaves surprisingly on unicode inputs. Use frombuffer instead\n",
      "\n",
      "c:\\python36\\lib\\site-packages\\mne\\io\\edf\\edf.py:1047: DeprecationWarning:\n",
      "\n",
      "The binary mode of fromstring is deprecated, as it behaves surprisingly on unicode inputs. Use frombuffer instead\n",
      "\n",
      "c:\\python36\\lib\\site-packages\\mne\\io\\edf\\edf.py:1047: DeprecationWarning:\n",
      "\n",
      "The binary mode of fromstring is deprecated, as it behaves surprisingly on unicode inputs. Use frombuffer instead\n",
      "\n",
      "c:\\python36\\lib\\site-packages\\mne\\io\\edf\\edf.py:1047: DeprecationWarning:\n",
      "\n",
      "The binary mode of fromstring is deprecated, as it behaves surprisingly on unicode inputs. Use frombuffer instead\n",
      "\n"
     ]
    },
    {
     "name": "stdout",
     "output_type": "stream",
     "text": [
      "Extracting EDF parameters from D:\\DESARROLLO_PROYECTO_DOCTORADO\\pySTMM\\examples\\P05\\P05 Run 4.gdf...\n",
      "GDF file detected\n",
      "Setting channel info structure...\n",
      "Creating raw.info structure...\n",
      "Reading 0 ... 76799  =      0.000 ...   299.996 secs...\n",
      "Extracting EDF parameters from D:\\DESARROLLO_PROYECTO_DOCTORADO\\pySTMM\\examples\\P05\\P05 Run 5.gdf...\n",
      "GDF file detected\n",
      "Setting channel info structure...\n",
      "Creating raw.info structure...\n",
      "Reading 0 ... 76031  =      0.000 ...   296.996 secs...\n",
      "Extracting EDF parameters from D:\\DESARROLLO_PROYECTO_DOCTORADO\\pySTMM\\examples\\P05\\P05 Run 6.gdf...\n"
     ]
    },
    {
     "name": "stderr",
     "output_type": "stream",
     "text": [
      "c:\\python36\\lib\\site-packages\\mne\\io\\edf\\edf.py:1047: DeprecationWarning:\n",
      "\n",
      "The binary mode of fromstring is deprecated, as it behaves surprisingly on unicode inputs. Use frombuffer instead\n",
      "\n",
      "c:\\python36\\lib\\site-packages\\mne\\io\\edf\\edf.py:1047: DeprecationWarning:\n",
      "\n",
      "The binary mode of fromstring is deprecated, as it behaves surprisingly on unicode inputs. Use frombuffer instead\n",
      "\n"
     ]
    },
    {
     "name": "stdout",
     "output_type": "stream",
     "text": [
      "GDF file detected\n",
      "Setting channel info structure...\n",
      "Creating raw.info structure...\n",
      "Reading 0 ... 77055  =      0.000 ...   300.996 secs...\n",
      "Extracting EDF parameters from D:\\DESARROLLO_PROYECTO_DOCTORADO\\pySTMM\\examples\\P05\\P05 Run 7.gdf...\n",
      "GDF file detected\n",
      "Setting channel info structure...\n",
      "Creating raw.info structure...\n",
      "Reading 0 ... 77823  =      0.000 ...   303.996 secs...\n"
     ]
    },
    {
     "name": "stderr",
     "output_type": "stream",
     "text": [
      "c:\\python36\\lib\\site-packages\\mne\\io\\edf\\edf.py:1047: DeprecationWarning:\n",
      "\n",
      "The binary mode of fromstring is deprecated, as it behaves surprisingly on unicode inputs. Use frombuffer instead\n",
      "\n",
      "c:\\python36\\lib\\site-packages\\mne\\io\\edf\\edf.py:1047: DeprecationWarning:\n",
      "\n",
      "The binary mode of fromstring is deprecated, as it behaves surprisingly on unicode inputs. Use frombuffer instead\n",
      "\n"
     ]
    },
    {
     "name": "stdout",
     "output_type": "stream",
     "text": [
      "Extracting EDF parameters from D:\\DESARROLLO_PROYECTO_DOCTORADO\\pySTMM\\examples\\P05\\P05 Run 8.gdf...\n",
      "GDF file detected\n",
      "Setting channel info structure...\n",
      "Creating raw.info structure...\n",
      "Reading 0 ... 22015  =      0.000 ...    85.996 secs...\n"
     ]
    },
    {
     "name": "stderr",
     "output_type": "stream",
     "text": [
      "c:\\python36\\lib\\site-packages\\mne\\io\\edf\\edf.py:1047: DeprecationWarning:\n",
      "\n",
      "The binary mode of fromstring is deprecated, as it behaves surprisingly on unicode inputs. Use frombuffer instead\n",
      "\n"
     ]
    },
    {
     "name": "stdout",
     "output_type": "stream",
     "text": [
      "Extracting EDF parameters from D:\\DESARROLLO_PROYECTO_DOCTORADO\\pySTMM\\examples\\P05\\P05 Run 9.gdf...\n",
      "GDF file detected\n",
      "Setting channel info structure...\n",
      "Creating raw.info structure...\n",
      "Reading 0 ... 23295  =      0.000 ...    90.996 secs...\n"
     ]
    },
    {
     "name": "stderr",
     "output_type": "stream",
     "text": [
      "c:\\python36\\lib\\site-packages\\mne\\io\\edf\\edf.py:1047: DeprecationWarning:\n",
      "\n",
      "The binary mode of fromstring is deprecated, as it behaves surprisingly on unicode inputs. Use frombuffer instead\n",
      "\n"
     ]
    },
    {
     "name": "stdout",
     "output_type": "stream",
     "text": [
      "Extracting EDF parameters from D:\\DESARROLLO_PROYECTO_DOCTORADO\\pySTMM\\examples\\P05\\P05 Run 1.gdf...\n",
      "GDF file detected\n",
      "Setting channel info structure...\n",
      "Creating raw.info structure...\n",
      "Used Annotations descriptions: ['33536', '768', '785']\n",
      "Extracting EDF parameters from D:\\DESARROLLO_PROYECTO_DOCTORADO\\pySTMM\\examples\\P05\\P05 Run 2.gdf...\n",
      "GDF file detected\n",
      "Setting channel info structure...\n",
      "Creating raw.info structure...\n"
     ]
    },
    {
     "name": "stderr",
     "output_type": "stream",
     "text": [
      "c:\\python36\\lib\\site-packages\\mne\\io\\edf\\edf.py:1047: DeprecationWarning:\n",
      "\n",
      "The binary mode of fromstring is deprecated, as it behaves surprisingly on unicode inputs. Use frombuffer instead\n",
      "\n",
      "c:\\python36\\lib\\site-packages\\mne\\io\\edf\\edf.py:1047: DeprecationWarning:\n",
      "\n",
      "The binary mode of fromstring is deprecated, as it behaves surprisingly on unicode inputs. Use frombuffer instead\n",
      "\n"
     ]
    },
    {
     "name": "stdout",
     "output_type": "stream",
     "text": [
      "Used Annotations descriptions: ['33536', '33554', '768', '785', '786']\n",
      "Extracting EDF parameters from D:\\DESARROLLO_PROYECTO_DOCTORADO\\pySTMM\\examples\\P05\\P05 Run 3.gdf...\n",
      "GDF file detected\n",
      "Setting channel info structure...\n",
      "Creating raw.info structure...\n",
      "Used Annotations descriptions: ['33536', '33544', '33545', '33547', '33554', '33693', '33694', '768', '776', '777', '779', '785', '786', '925', '926']\n"
     ]
    },
    {
     "name": "stderr",
     "output_type": "stream",
     "text": [
      "c:\\python36\\lib\\site-packages\\mne\\io\\edf\\edf.py:1047: DeprecationWarning:\n",
      "\n",
      "The binary mode of fromstring is deprecated, as it behaves surprisingly on unicode inputs. Use frombuffer instead\n",
      "\n"
     ]
    },
    {
     "name": "stdout",
     "output_type": "stream",
     "text": [
      "Extracting EDF parameters from D:\\DESARROLLO_PROYECTO_DOCTORADO\\pySTMM\\examples\\P05\\P05 Run 4.gdf...\n",
      "GDF file detected\n",
      "Setting channel info structure...\n",
      "Creating raw.info structure...\n",
      "Used Annotations descriptions: ['33536', '33544', '33545', '33547', '33554', '33693', '33694', '768', '776', '777', '779', '785', '786', '925', '926']\n"
     ]
    },
    {
     "name": "stderr",
     "output_type": "stream",
     "text": [
      "c:\\python36\\lib\\site-packages\\mne\\io\\edf\\edf.py:1047: DeprecationWarning:\n",
      "\n",
      "The binary mode of fromstring is deprecated, as it behaves surprisingly on unicode inputs. Use frombuffer instead\n",
      "\n"
     ]
    },
    {
     "name": "stdout",
     "output_type": "stream",
     "text": [
      "Extracting EDF parameters from D:\\DESARROLLO_PROYECTO_DOCTORADO\\pySTMM\\examples\\P05\\P05 Run 5.gdf...\n",
      "GDF file detected\n",
      "Setting channel info structure...\n",
      "Creating raw.info structure...\n",
      "Used Annotations descriptions: ['33536', '33544', '33545', '33547', '33554', '33693', '33694', '768', '776', '777', '779', '785', '786', '925', '926']\n"
     ]
    },
    {
     "name": "stderr",
     "output_type": "stream",
     "text": [
      "c:\\python36\\lib\\site-packages\\mne\\io\\edf\\edf.py:1047: DeprecationWarning:\n",
      "\n",
      "The binary mode of fromstring is deprecated, as it behaves surprisingly on unicode inputs. Use frombuffer instead\n",
      "\n"
     ]
    },
    {
     "name": "stdout",
     "output_type": "stream",
     "text": [
      "Extracting EDF parameters from D:\\DESARROLLO_PROYECTO_DOCTORADO\\pySTMM\\examples\\P05\\P05 Run 6.gdf...\n",
      "GDF file detected\n",
      "Setting channel info structure...\n",
      "Creating raw.info structure...\n"
     ]
    },
    {
     "name": "stderr",
     "output_type": "stream",
     "text": [
      "c:\\python36\\lib\\site-packages\\mne\\io\\edf\\edf.py:1047: DeprecationWarning:\n",
      "\n",
      "The binary mode of fromstring is deprecated, as it behaves surprisingly on unicode inputs. Use frombuffer instead\n",
      "\n"
     ]
    },
    {
     "name": "stdout",
     "output_type": "stream",
     "text": [
      "Used Annotations descriptions: ['33536', '33544', '33545', '33547', '33554', '33693', '33694', '768', '776', '777', '779', '785', '786', '925', '926']\n",
      "Extracting EDF parameters from D:\\DESARROLLO_PROYECTO_DOCTORADO\\pySTMM\\examples\\P05\\P05 Run 7.gdf...\n",
      "GDF file detected\n",
      "Setting channel info structure...\n",
      "Creating raw.info structure...\n",
      "Used Annotations descriptions: ['33536', '33544', '33545', '33547', '33554', '33693', '33694', '768', '776', '777', '779', '785', '786', '925', '926']\n"
     ]
    },
    {
     "name": "stderr",
     "output_type": "stream",
     "text": [
      "c:\\python36\\lib\\site-packages\\mne\\io\\edf\\edf.py:1047: DeprecationWarning:\n",
      "\n",
      "The binary mode of fromstring is deprecated, as it behaves surprisingly on unicode inputs. Use frombuffer instead\n",
      "\n"
     ]
    },
    {
     "name": "stdout",
     "output_type": "stream",
     "text": [
      "Extracting EDF parameters from D:\\DESARROLLO_PROYECTO_DOCTORADO\\pySTMM\\examples\\P05\\P05 Run 8.gdf...\n",
      "GDF file detected\n",
      "Setting channel info structure...\n",
      "Creating raw.info structure...\n",
      "Used Annotations descriptions: ['33536', '768', '785']\n",
      "Extracting EDF parameters from D:\\DESARROLLO_PROYECTO_DOCTORADO\\pySTMM\\examples\\P05\\P05 Run 9.gdf...\n",
      "GDF file detected\n",
      "Setting channel info structure...\n",
      "Creating raw.info structure...\n",
      "Used Annotations descriptions: ['33536', '33554', '768', '785', '786']\n"
     ]
    },
    {
     "name": "stderr",
     "output_type": "stream",
     "text": [
      "c:\\python36\\lib\\site-packages\\mne\\io\\edf\\edf.py:1047: DeprecationWarning:\n",
      "\n",
      "The binary mode of fromstring is deprecated, as it behaves surprisingly on unicode inputs. Use frombuffer instead\n",
      "\n",
      "c:\\python36\\lib\\site-packages\\mne\\io\\edf\\edf.py:1047: DeprecationWarning:\n",
      "\n",
      "The binary mode of fromstring is deprecated, as it behaves surprisingly on unicode inputs. Use frombuffer instead\n",
      "\n"
     ]
    },
    {
     "name": "stdout",
     "output_type": "stream",
     "text": [
      "Extracting EDF parameters from D:\\DESARROLLO_PROYECTO_DOCTORADO\\pySTMM\\examples\\P05\\P05 Run 10.gdf...\n",
      "GDF file detected\n",
      "Setting channel info structure...\n",
      "Creating raw.info structure...\n",
      "Used Annotations descriptions: ['33536', '33544', '33545', '33547', '33554', '33693', '33694', '768', '776', '777', '779', '785', '786', '925', '926']\n"
     ]
    },
    {
     "name": "stderr",
     "output_type": "stream",
     "text": [
      "c:\\python36\\lib\\site-packages\\mne\\io\\edf\\edf.py:1047: DeprecationWarning:\n",
      "\n",
      "The binary mode of fromstring is deprecated, as it behaves surprisingly on unicode inputs. Use frombuffer instead\n",
      "\n"
     ]
    },
    {
     "name": "stdout",
     "output_type": "stream",
     "text": [
      "Extracting EDF parameters from D:\\DESARROLLO_PROYECTO_DOCTORADO\\pySTMM\\examples\\P05\\P05 Run 11.gdf...\n",
      "GDF file detected\n",
      "Setting channel info structure...\n",
      "Creating raw.info structure...\n",
      "Used Annotations descriptions: ['33536', '33544', '33545', '33547', '33554', '33693', '33694', '768', '776', '777', '779', '785', '786', '925', '926']\n"
     ]
    },
    {
     "name": "stderr",
     "output_type": "stream",
     "text": [
      "c:\\python36\\lib\\site-packages\\mne\\io\\edf\\edf.py:1047: DeprecationWarning:\n",
      "\n",
      "The binary mode of fromstring is deprecated, as it behaves surprisingly on unicode inputs. Use frombuffer instead\n",
      "\n"
     ]
    },
    {
     "name": "stdout",
     "output_type": "stream",
     "text": [
      "Extracting EDF parameters from D:\\DESARROLLO_PROYECTO_DOCTORADO\\pySTMM\\examples\\P05\\P05 Run 12.gdf...\n",
      "GDF file detected\n",
      "Setting channel info structure...\n",
      "Creating raw.info structure...\n",
      "Used Annotations descriptions: ['33536', '33544', '33545', '33547', '33554', '33693', '33694', '768', '776', '777', '779', '785', '786', '925', '926']\n"
     ]
    },
    {
     "name": "stderr",
     "output_type": "stream",
     "text": [
      "c:\\python36\\lib\\site-packages\\mne\\io\\edf\\edf.py:1047: DeprecationWarning:\n",
      "\n",
      "The binary mode of fromstring is deprecated, as it behaves surprisingly on unicode inputs. Use frombuffer instead\n",
      "\n"
     ]
    },
    {
     "name": "stdout",
     "output_type": "stream",
     "text": [
      "Extracting EDF parameters from D:\\DESARROLLO_PROYECTO_DOCTORADO\\pySTMM\\examples\\P05\\P05 Run 13.gdf...\n",
      "GDF file detected\n",
      "Setting channel info structure...\n",
      "Creating raw.info structure...\n"
     ]
    },
    {
     "name": "stderr",
     "output_type": "stream",
     "text": [
      "c:\\python36\\lib\\site-packages\\mne\\io\\edf\\edf.py:1047: DeprecationWarning:\n",
      "\n",
      "The binary mode of fromstring is deprecated, as it behaves surprisingly on unicode inputs. Use frombuffer instead\n",
      "\n"
     ]
    },
    {
     "name": "stdout",
     "output_type": "stream",
     "text": [
      "Used Annotations descriptions: ['33536', '33544', '33545', '33547', '33554', '33693', '33694', '768', '776', '777', '779', '785', '786', '925', '926']\n",
      "Extracting EDF parameters from D:\\DESARROLLO_PROYECTO_DOCTORADO\\pySTMM\\examples\\P05\\P05 Run 14.gdf...\n",
      "GDF file detected\n",
      "Setting channel info structure...\n",
      "Creating raw.info structure...\n",
      "Used Annotations descriptions: ['33536', '768', '785']\n",
      "Extracting EDF parameters from D:\\DESARROLLO_PROYECTO_DOCTORADO\\pySTMM\\examples\\P05\\P05 Run 15.gdf...\n",
      "GDF file detected\n",
      "Setting channel info structure...\n",
      "Creating raw.info structure...\n",
      "Used Annotations descriptions: ['33536', '33554', '768', '785', '786']\n"
     ]
    },
    {
     "name": "stderr",
     "output_type": "stream",
     "text": [
      "c:\\python36\\lib\\site-packages\\mne\\io\\edf\\edf.py:1047: DeprecationWarning:\n",
      "\n",
      "The binary mode of fromstring is deprecated, as it behaves surprisingly on unicode inputs. Use frombuffer instead\n",
      "\n",
      "c:\\python36\\lib\\site-packages\\mne\\io\\edf\\edf.py:1047: DeprecationWarning:\n",
      "\n",
      "The binary mode of fromstring is deprecated, as it behaves surprisingly on unicode inputs. Use frombuffer instead\n",
      "\n"
     ]
    },
    {
     "name": "stdout",
     "output_type": "stream",
     "text": [
      "Report on REST:\n",
      "Total samples = 69129\n",
      "Sampling frequency (Hz) = 256\n",
      "Signal duration (s) = 270.04\n",
      "Signal duration (min) = 4.50\n",
      "Total trial start events = 3\n",
      "Indexes (sample) = [2560, 25603, 48646]\n",
      "Times (s) = [10.0, 100.01171875, 190.0234375]\n",
      "Duration between consecutive ones (s) = [90.01171875, 90.01171875]\n",
      "[10.5, 13.0, 15.5, 18.0, 20.5, 23.0, 25.5, 28.0, 30.5, 33.0, 35.5, 38.0, 40.5, 43.0, 45.5, 48.0, 50.5, 53.0, 55.5, 58.0, 60.5, 63.0, 65.5, 68.0, 100.51171875, 103.01171875, 105.51171875, 108.01171875, 110.51171875, 113.01171875, 115.51171875, 118.01171875, 120.51171875, 123.01171875, 125.51171875, 128.01171875, 130.51171875, 133.01171875, 135.51171875, 138.01171875, 140.51171875, 143.01171875, 145.51171875, 148.01171875, 150.51171875, 153.01171875, 155.51171875, 158.01171875, 190.5234375, 193.0234375, 195.5234375, 198.0234375, 200.5234375, 203.0234375, 205.5234375, 208.0234375, 210.5234375, 213.0234375, 215.5234375, 218.0234375, 220.5234375, 223.0234375, 225.5234375, 228.0234375, 230.5234375, 233.0234375, 235.5234375, 238.0234375, 240.5234375, 243.0234375, 245.5234375, 248.0234375]\n",
      "[15.50390625, 18.00390625, 20.50390625, 23.00390625, 25.50390625, 28.00390625, 30.50390625, 33.00390625, 35.50390625, 38.00390625, 40.50390625, 43.00390625, 45.50390625, 48.00390625, 50.50390625, 53.00390625, 55.50390625, 58.00390625, 60.50390625, 63.00390625, 65.50390625, 68.00390625, 70.50390625, 73.00390625, 105.515625, 108.015625, 110.515625, 113.015625, 115.515625, 118.015625, 120.515625, 123.015625, 125.515625, 128.015625, 130.515625, 133.015625, 135.515625, 138.015625, 140.515625, 143.015625, 145.515625, 148.015625, 150.515625, 153.015625, 155.515625, 158.015625, 160.515625, 163.015625, 195.52734375, 198.02734375, 200.52734375, 203.02734375, 205.52734375, 208.02734375, 210.52734375, 213.02734375, 215.52734375, 218.02734375, 220.52734375, 223.02734375, 225.52734375, 228.02734375, 230.52734375, 233.02734375, 235.52734375, 238.02734375, 240.52734375, 243.02734375, 245.52734375, 248.02734375, 250.52734375, 253.02734375]\n",
      "Report on: HandOpenClassCue\n",
      "Total samples = 694323\n",
      "Sampling frequency (Hz) = 256\n",
      "Signal duration (s) = 2712.20\n",
      "Signal duration (min) = 45.20\n",
      "Total HandOpenClassCue events = 72\n",
      "Indexes (sample) = [21023, 22592, 25864, 40223, 41878, 45467, 49034, 54248, 109591, 121946, 123874, 129077, 134204, 138020, 145550, 149119, 170851, 176164, 181736, 190250, 195622, 201094, 204615, 209982, 235586, 248353, 268149, 277089, 285889, 294964, 298398, 300290, 318395, 320090, 327421, 336568, 349147, 365415, 367457, 369250, 398615, 409243, 420176, 434298, 438373, 440409, 445495, 452991, 467389, 469344, 492801, 516154, 519746, 523384, 525407, 530813, 550037, 553698, 568569, 571950, 586146, 591929, 595819, 608456, 618607, 623947, 635131, 653787, 655606, 682820, 688542, 690319]\n",
      "Times (s) = [82.12109375, 88.25, 101.03125, 157.12109375, 163.5859375, 177.60546875, 191.5390625, 211.90625, 428.08984375, 476.3515625, 483.8828125, 504.20703125, 524.234375, 539.140625, 568.5546875, 582.49609375, 667.38671875, 688.140625, 709.90625, 743.1640625, 764.1484375, 785.5234375, 799.27734375, 820.2421875, 920.2578125, 970.12890625, 1047.45703125, 1082.37890625, 1116.75390625, 1152.203125, 1165.6171875, 1173.0078125, 1243.73046875, 1250.3515625, 1278.98828125, 1314.71875, 1363.85546875, 1427.40234375, 1435.37890625, 1442.3828125, 1557.08984375, 1598.60546875, 1641.3125, 1696.4765625, 1712.39453125, 1720.34765625, 1740.21484375, 1769.49609375, 1825.73828125, 1833.375, 1925.00390625, 2016.2265625, 2030.2578125, 2044.46875, 2052.37109375, 2073.48828125, 2148.58203125, 2162.8828125, 2220.97265625, 2234.1796875, 2289.6328125, 2312.22265625, 2327.41796875, 2376.78125, 2416.43359375, 2437.29296875, 2480.98046875, 2553.85546875, 2560.9609375, 2667.265625, 2689.6171875, 2696.55859375]\n",
      "Duration between consecutive ones (s) = [6.12890625, 12.78125, 56.08984375, 6.46484375, 14.01953125, 13.93359375, 20.3671875, 216.18359375, 48.26171875, 7.53125, 20.32421875, 20.02734375, 14.90625, 29.4140625, 13.94140625, 84.890625, 20.75390625, 21.765625, 33.2578125, 20.984375, 21.375, 13.75390625, 20.96484375, 100.015625, 49.87109375, 77.328125, 34.921875, 34.375, 35.44921875, 13.4140625, 7.390625, 70.72265625, 6.62109375, 28.63671875, 35.73046875, 49.13671875, 63.546875, 7.9765625, 7.00390625, 114.70703125, 41.515625, 42.70703125, 55.1640625, 15.91796875, 7.953125, 19.8671875, 29.28125, 56.2421875, 7.63671875, 91.62890625, 91.22265625, 14.03125, 14.2109375, 7.90234375, 21.1171875, 75.09375, 14.30078125, 58.08984375, 13.20703125, 55.453125, 22.58984375, 15.1953125, 49.36328125, 39.65234375, 20.859375, 43.6875, 72.875, 7.10546875, 106.3046875, 22.3515625, 6.94140625]\n",
      "[80.12109375, 86.25, 99.03125, 155.12109375, 161.5859375, 175.60546875, 189.5390625, 209.90625, 426.08984375, 474.3515625, 481.8828125, 502.20703125, 522.234375, 537.140625, 566.5546875, 580.49609375, 665.38671875, 686.140625, 707.90625, 741.1640625, 762.1484375, 783.5234375, 797.27734375, 818.2421875, 918.2578125, 968.12890625, 1045.45703125, 1080.37890625, 1114.75390625, 1150.203125, 1163.6171875, 1171.0078125, 1241.73046875, 1248.3515625, 1276.98828125, 1312.71875, 1361.85546875, 1425.40234375, 1433.37890625, 1440.3828125, 1555.08984375, 1596.60546875, 1639.3125, 1694.4765625, 1710.39453125, 1718.34765625, 1738.21484375, 1767.49609375, 1823.73828125, 1831.375, 1923.00390625, 2014.2265625, 2028.2578125, 2042.46875, 2050.37109375, 2071.48828125, 2146.58203125, 2160.8828125, 2218.97265625, 2232.1796875, 2287.6328125, 2310.22265625, 2325.41796875, 2374.78125, 2414.43359375, 2435.29296875, 2478.98046875, 2551.85546875, 2558.9609375, 2665.265625, 2687.6171875, 2694.55859375]\n",
      "[85.125, 91.25390625, 104.03515625, 160.125, 166.58984375, 180.609375, 194.54296875, 214.91015625, 431.09375, 479.35546875, 486.88671875, 507.2109375, 527.23828125, 542.14453125, 571.55859375, 585.5, 670.390625, 691.14453125, 712.91015625, 746.16796875, 767.15234375, 788.52734375, 802.28125, 823.24609375, 923.26171875, 973.1328125, 1050.4609375, 1085.3828125, 1119.7578125, 1155.20703125, 1168.62109375, 1176.01171875, 1246.734375, 1253.35546875, 1281.9921875, 1317.72265625, 1366.859375, 1430.40625, 1438.3828125, 1445.38671875, 1560.09375, 1601.609375, 1644.31640625, 1699.48046875, 1715.3984375, 1723.3515625, 1743.21875, 1772.5, 1828.7421875, 1836.37890625, 1928.0078125, 2019.23046875, 2033.26171875, 2047.47265625, 2055.375, 2076.4921875, 2151.5859375, 2165.88671875, 2223.9765625, 2237.18359375, 2292.63671875, 2315.2265625, 2330.421875, 2379.78515625, 2419.4375, 2440.296875, 2483.984375, 2556.859375, 2563.96484375, 2670.26953125, 2692.62109375, 2699.5625]\n",
      "Report on: PalmarGraspClassCue\n",
      "Total samples = 694323\n",
      "Sampling frequency (Hz) = 256\n",
      "Signal duration (s) = 2712.20\n",
      "Signal duration (min) = 45.20\n",
      "Total PalmarGraspClassCue events = 72\n",
      "Indexes (sample) = [3072, 8805, 13765, 19246, 24186, 27649, 56253, 72591, 81562, 94061, 101228, 104534, 113135, 125747, 127477, 139748, 159826, 165810, 174555, 177904, 186736, 191939, 213321, 218153, 233712, 239475, 249915, 261298, 266361, 287569, 289400, 291444, 309101, 310883, 316670, 321952, 323899, 341805, 354653, 363594, 395257, 407340, 411186, 418620, 421832, 423831, 430935, 432727, 465754, 476637, 481984, 496715, 510560, 512438, 521348, 532774, 541481, 546560, 557544, 578899, 580502, 590050, 597854, 611647, 622155, 629459, 631232, 645905, 662756, 668284, 672213, 681273]\n",
      "Times (s) = [12.0, 34.39453125, 53.76953125, 75.1796875, 94.4765625, 108.00390625, 219.73828125, 283.55859375, 318.6015625, 367.42578125, 395.421875, 408.3359375, 441.93359375, 491.19921875, 497.95703125, 545.890625, 624.3203125, 647.6953125, 681.85546875, 694.9375, 729.4375, 749.76171875, 833.28515625, 852.16015625, 912.9375, 935.44921875, 976.23046875, 1020.6953125, 1040.47265625, 1123.31640625, 1130.46875, 1138.453125, 1207.42578125, 1214.38671875, 1236.9921875, 1257.625, 1265.23046875, 1335.17578125, 1385.36328125, 1420.2890625, 1543.97265625, 1591.171875, 1606.1953125, 1635.234375, 1647.78125, 1655.58984375, 1683.33984375, 1690.33984375, 1819.3515625, 1861.86328125, 1882.75, 1940.29296875, 1994.375, 2001.7109375, 2036.515625, 2081.1484375, 2115.16015625, 2135.0, 2177.90625, 2261.32421875, 2267.5859375, 2304.8828125, 2335.3671875, 2389.24609375, 2430.29296875, 2458.82421875, 2465.75, 2523.06640625, 2588.890625, 2610.484375, 2625.83203125, 2661.22265625]\n",
      "Duration between consecutive ones (s) = [22.39453125, 19.375, 21.41015625, 19.296875, 13.52734375, 111.734375, 63.8203125, 35.04296875, 48.82421875, 27.99609375, 12.9140625, 33.59765625, 49.265625, 6.7578125, 47.93359375, 78.4296875, 23.375, 34.16015625, 13.08203125, 34.5, 20.32421875, 83.5234375, 18.875, 60.77734375, 22.51171875, 40.78125, 44.46484375, 19.77734375, 82.84375, 7.15234375, 7.984375, 68.97265625, 6.9609375, 22.60546875, 20.6328125, 7.60546875, 69.9453125, 50.1875, 34.92578125, 123.68359375, 47.19921875, 15.0234375, 29.0390625, 12.546875, 7.80859375, 27.75, 7.0, 129.01171875, 42.51171875, 20.88671875, 57.54296875, 54.08203125, 7.3359375, 34.8046875, 44.6328125, 34.01171875, 19.83984375, 42.90625, 83.41796875, 6.26171875, 37.296875, 30.484375, 53.87890625, 41.046875, 28.53125, 6.92578125, 57.31640625, 65.82421875, 21.59375, 15.34765625, 35.390625]\n",
      "[10.0, 32.39453125, 51.76953125, 73.1796875, 92.4765625, 106.00390625, 217.73828125, 281.55859375, 316.6015625, 365.42578125, 393.421875, 406.3359375, 439.93359375, 489.19921875, 495.95703125, 543.890625, 622.3203125, 645.6953125, 679.85546875, 692.9375, 727.4375, 747.76171875, 831.28515625, 850.16015625, 910.9375, 933.44921875, 974.23046875, 1018.6953125, 1038.47265625, 1121.31640625, 1128.46875, 1136.453125, 1205.42578125, 1212.38671875, 1234.9921875, 1255.625, 1263.23046875, 1333.17578125, 1383.36328125, 1418.2890625, 1541.97265625, 1589.171875, 1604.1953125, 1633.234375, 1645.78125, 1653.58984375, 1681.33984375, 1688.33984375, 1817.3515625, 1859.86328125, 1880.75, 1938.29296875, 1992.375, 1999.7109375, 2034.515625, 2079.1484375, 2113.16015625, 2133.0, 2175.90625, 2259.32421875, 2265.5859375, 2302.8828125, 2333.3671875, 2387.24609375, 2428.29296875, 2456.82421875, 2463.75, 2521.06640625, 2586.890625, 2608.484375, 2623.83203125, 2659.22265625]\n",
      "[15.00390625, 37.3984375, 56.7734375, 78.18359375, 97.48046875, 111.0078125, 222.7421875, 286.5625, 321.60546875, 370.4296875, 398.42578125, 411.33984375, 444.9375, 494.203125, 500.9609375, 548.89453125, 627.32421875, 650.69921875, 684.859375, 697.94140625, 732.44140625, 752.765625, 836.2890625, 855.1640625, 915.94140625, 938.453125, 979.234375, 1023.69921875, 1043.4765625, 1126.3203125, 1133.47265625, 1141.45703125, 1210.4296875, 1217.390625, 1239.99609375, 1260.62890625, 1268.234375, 1338.1796875, 1388.3671875, 1423.29296875, 1546.9765625, 1594.17578125, 1609.19921875, 1638.23828125, 1650.78515625, 1658.59375, 1686.34375, 1693.34375, 1822.35546875, 1864.8671875, 1885.75390625, 1943.296875, 1997.37890625, 2004.71484375, 2039.51953125, 2084.15234375, 2118.1640625, 2138.00390625, 2180.91015625, 2264.328125, 2270.58984375, 2307.88671875, 2338.37109375, 2392.25, 2433.296875, 2461.828125, 2468.75390625, 2526.0703125, 2591.89453125, 2613.48828125, 2628.8359375, 2664.2265625]\n"
     ]
    },
    {
     "name": "stdout",
     "output_type": "stream",
     "text": [
      "Report on: LateralGraspClassCue\n",
      "Total samples = 694323\n",
      "Sampling frequency (Hz) = 256\n",
      "Signal duration (s) = 2712.20\n",
      "Signal duration (min) = 45.20\n",
      "Total LateralGraspClassCue events = 72\n",
      "Indexes (sample) = [5091, 6832, 11900, 17697, 34989, 50803, 52538, 66816, 90629, 92202, 95915, 107979, 111328, 141564, 143560, 147123, 156262, 169203, 172608, 183417, 188689, 202678, 208019, 211729, 241477, 244880, 259500, 262896, 269905, 271679, 273547, 280632, 325773, 333084, 338411, 340182, 352877, 357827, 374881, 378040, 391844, 400424, 402082, 425772, 427521, 436342, 447506, 454927, 463794, 480367, 491208, 498597, 501939, 505810, 514244, 527280, 544711, 548387, 555601, 559519, 564970, 577225, 604935, 606784, 625503, 627438, 636932, 647935, 651820, 664527, 666472, 670327]\n",
      "Times (s) = [19.88671875, 26.6875, 46.484375, 69.12890625, 136.67578125, 198.44921875, 205.2265625, 261.0, 354.01953125, 360.1640625, 374.66796875, 421.79296875, 434.875, 552.984375, 560.78125, 574.69921875, 610.3984375, 660.94921875, 674.25, 716.47265625, 737.06640625, 791.7109375, 812.57421875, 827.06640625, 943.26953125, 956.5625, 1013.671875, 1026.9375, 1054.31640625, 1061.24609375, 1068.54296875, 1096.21875, 1272.55078125, 1301.109375, 1321.91796875, 1328.8359375, 1378.42578125, 1397.76171875, 1464.37890625, 1476.71875, 1530.640625, 1564.15625, 1570.6328125, 1663.171875, 1670.00390625, 1704.4609375, 1748.0703125, 1777.05859375, 1811.6953125, 1876.43359375, 1918.78125, 1947.64453125, 1960.69921875, 1975.8203125, 2008.765625, 2059.6875, 2127.77734375, 2142.13671875, 2170.31640625, 2185.62109375, 2206.9140625, 2254.78515625, 2363.02734375, 2370.25, 2443.37109375, 2450.9296875, 2488.015625, 2530.99609375, 2546.171875, 2595.80859375, 2603.40625, 2618.46484375]\n",
      "Duration between consecutive ones (s) = [6.80078125, 19.796875, 22.64453125, 67.546875, 61.7734375, 6.77734375, 55.7734375, 93.01953125, 6.14453125, 14.50390625, 47.125, 13.08203125, 118.109375, 7.796875, 13.91796875, 35.69921875, 50.55078125, 13.30078125, 42.22265625, 20.59375, 54.64453125, 20.86328125, 14.4921875, 116.203125, 13.29296875, 57.109375, 13.265625, 27.37890625, 6.9296875, 7.296875, 27.67578125, 176.33203125, 28.55859375, 20.80859375, 6.91796875, 49.58984375, 19.3359375, 66.6171875, 12.33984375, 53.921875, 33.515625, 6.4765625, 92.5390625, 6.83203125, 34.45703125, 43.609375, 28.98828125, 34.63671875, 64.73828125, 42.34765625, 28.86328125, 13.0546875, 15.12109375, 32.9453125, 50.921875, 68.08984375, 14.359375, 28.1796875, 15.3046875, 21.29296875, 47.87109375, 108.2421875, 7.22265625, 73.12109375, 7.55859375, 37.0859375, 42.98046875, 15.17578125, 49.63671875, 7.59765625, 15.05859375]\n",
      "[17.88671875, 24.6875, 44.484375, 67.12890625, 134.67578125, 196.44921875, 203.2265625, 259.0, 352.01953125, 358.1640625, 372.66796875, 419.79296875, 432.875, 550.984375, 558.78125, 572.69921875, 608.3984375, 658.94921875, 672.25, 714.47265625, 735.06640625, 789.7109375, 810.57421875, 825.06640625, 941.26953125, 954.5625, 1011.671875, 1024.9375, 1052.31640625, 1059.24609375, 1066.54296875, 1094.21875, 1270.55078125, 1299.109375, 1319.91796875, 1326.8359375, 1376.42578125, 1395.76171875, 1462.37890625, 1474.71875, 1528.640625, 1562.15625, 1568.6328125, 1661.171875, 1668.00390625, 1702.4609375, 1746.0703125, 1775.05859375, 1809.6953125, 1874.43359375, 1916.78125, 1945.64453125, 1958.69921875, 1973.8203125, 2006.765625, 2057.6875, 2125.77734375, 2140.13671875, 2168.31640625, 2183.62109375, 2204.9140625, 2252.78515625, 2361.02734375, 2368.25, 2441.37109375, 2448.9296875, 2486.015625, 2528.99609375, 2544.171875, 2593.80859375, 2601.40625, 2616.46484375]\n",
      "[22.890625, 29.69140625, 49.48828125, 72.1328125, 139.6796875, 201.453125, 208.23046875, 264.00390625, 357.0234375, 363.16796875, 377.671875, 424.796875, 437.87890625, 555.98828125, 563.78515625, 577.703125, 613.40234375, 663.953125, 677.25390625, 719.4765625, 740.0703125, 794.71484375, 815.578125, 830.0703125, 946.2734375, 959.56640625, 1016.67578125, 1029.94140625, 1057.3203125, 1064.25, 1071.546875, 1099.22265625, 1275.5546875, 1304.11328125, 1324.921875, 1331.83984375, 1381.4296875, 1400.765625, 1467.3828125, 1479.72265625, 1533.64453125, 1567.16015625, 1573.63671875, 1666.17578125, 1673.0078125, 1707.46484375, 1751.07421875, 1780.0625, 1814.69921875, 1879.4375, 1921.78515625, 1950.6484375, 1963.703125, 1978.82421875, 2011.76953125, 2062.69140625, 2130.78125, 2145.140625, 2173.3203125, 2188.625, 2209.91796875, 2257.7890625, 2366.03125, 2373.25390625, 2446.375, 2453.93359375, 2491.01953125, 2534.0, 2549.17578125, 2598.8125, 2606.41015625, 2621.46875]\n",
      "maxIter  5\n",
      "ovr 10.0 10.0 5 0.0001 l2 True 0.0001 squared_hinge 100000\n",
      "1 / 5\n",
      "2 / 5\n",
      "3 / 5\n",
      "4 / 5\n",
      "5 / 5\n",
      "1 / 5\n"
     ]
    },
    {
     "name": "stderr",
     "output_type": "stream",
     "text": [
      "c:\\python36\\lib\\site-packages\\sklearn\\linear_model\\logistic.py:432: FutureWarning:\n",
      "\n",
      "Default solver will be changed to 'lbfgs' in 0.22. Specify a solver to silence this warning.\n",
      "\n",
      "c:\\python36\\lib\\site-packages\\sklearn\\svm\\base.py:929: ConvergenceWarning:\n",
      "\n",
      "Liblinear failed to converge, increase the number of iterations.\n",
      "\n"
     ]
    },
    {
     "name": "stdout",
     "output_type": "stream",
     "text": [
      "2 / 5\n"
     ]
    },
    {
     "name": "stderr",
     "output_type": "stream",
     "text": [
      "c:\\python36\\lib\\site-packages\\sklearn\\svm\\base.py:929: ConvergenceWarning:\n",
      "\n",
      "Liblinear failed to converge, increase the number of iterations.\n",
      "\n"
     ]
    },
    {
     "name": "stdout",
     "output_type": "stream",
     "text": [
      "3 / 5\n"
     ]
    },
    {
     "name": "stderr",
     "output_type": "stream",
     "text": [
      "c:\\python36\\lib\\site-packages\\sklearn\\svm\\base.py:929: ConvergenceWarning:\n",
      "\n",
      "Liblinear failed to converge, increase the number of iterations.\n",
      "\n",
      "c:\\python36\\lib\\site-packages\\sklearn\\svm\\base.py:929: ConvergenceWarning:\n",
      "\n",
      "Liblinear failed to converge, increase the number of iterations.\n",
      "\n"
     ]
    },
    {
     "name": "stdout",
     "output_type": "stream",
     "text": [
      "4 / 5\n"
     ]
    },
    {
     "name": "stderr",
     "output_type": "stream",
     "text": [
      "c:\\python36\\lib\\site-packages\\sklearn\\svm\\base.py:929: ConvergenceWarning:\n",
      "\n",
      "Liblinear failed to converge, increase the number of iterations.\n",
      "\n",
      "c:\\python36\\lib\\site-packages\\sklearn\\svm\\base.py:929: ConvergenceWarning:\n",
      "\n",
      "Liblinear failed to converge, increase the number of iterations.\n",
      "\n"
     ]
    },
    {
     "name": "stdout",
     "output_type": "stream",
     "text": [
      "5 / 5\n"
     ]
    },
    {
     "name": "stderr",
     "output_type": "stream",
     "text": [
      "c:\\python36\\lib\\site-packages\\sklearn\\svm\\base.py:929: ConvergenceWarning:\n",
      "\n",
      "Liblinear failed to converge, increase the number of iterations.\n",
      "\n",
      "c:\\python36\\lib\\site-packages\\sklearn\\svm\\base.py:929: ConvergenceWarning:\n",
      "\n",
      "Liblinear failed to converge, increase the number of iterations.\n",
      "\n",
      "c:\\python36\\lib\\site-packages\\sklearn\\linear_model\\logistic.py:432: FutureWarning:\n",
      "\n",
      "Default solver will be changed to 'lbfgs' in 0.22. Specify a solver to silence this warning.\n",
      "\n"
     ]
    },
    {
     "name": "stdout",
     "output_type": "stream",
     "text": [
      "1 / 5\n"
     ]
    },
    {
     "name": "stderr",
     "output_type": "stream",
     "text": [
      "c:\\python36\\lib\\site-packages\\sklearn\\svm\\base.py:929: ConvergenceWarning:\n",
      "\n",
      "Liblinear failed to converge, increase the number of iterations.\n",
      "\n"
     ]
    },
    {
     "name": "stdout",
     "output_type": "stream",
     "text": [
      "2 / 5\n"
     ]
    },
    {
     "name": "stderr",
     "output_type": "stream",
     "text": [
      "c:\\python36\\lib\\site-packages\\sklearn\\svm\\base.py:929: ConvergenceWarning:\n",
      "\n",
      "Liblinear failed to converge, increase the number of iterations.\n",
      "\n"
     ]
    },
    {
     "name": "stdout",
     "output_type": "stream",
     "text": [
      "3 / 5\n"
     ]
    },
    {
     "name": "stderr",
     "output_type": "stream",
     "text": [
      "c:\\python36\\lib\\site-packages\\sklearn\\svm\\base.py:929: ConvergenceWarning:\n",
      "\n",
      "Liblinear failed to converge, increase the number of iterations.\n",
      "\n",
      "c:\\python36\\lib\\site-packages\\sklearn\\svm\\base.py:929: ConvergenceWarning:\n",
      "\n",
      "Liblinear failed to converge, increase the number of iterations.\n",
      "\n"
     ]
    },
    {
     "name": "stdout",
     "output_type": "stream",
     "text": [
      "4 / 5\n"
     ]
    },
    {
     "name": "stderr",
     "output_type": "stream",
     "text": [
      "c:\\python36\\lib\\site-packages\\sklearn\\svm\\base.py:929: ConvergenceWarning:\n",
      "\n",
      "Liblinear failed to converge, increase the number of iterations.\n",
      "\n",
      "c:\\python36\\lib\\site-packages\\sklearn\\svm\\base.py:929: ConvergenceWarning:\n",
      "\n",
      "Liblinear failed to converge, increase the number of iterations.\n",
      "\n"
     ]
    },
    {
     "name": "stdout",
     "output_type": "stream",
     "text": [
      "5 / 5\n"
     ]
    },
    {
     "name": "stderr",
     "output_type": "stream",
     "text": [
      "c:\\python36\\lib\\site-packages\\sklearn\\svm\\base.py:929: ConvergenceWarning:\n",
      "\n",
      "Liblinear failed to converge, increase the number of iterations.\n",
      "\n",
      "c:\\python36\\lib\\site-packages\\sklearn\\svm\\base.py:929: ConvergenceWarning:\n",
      "\n",
      "Liblinear failed to converge, increase the number of iterations.\n",
      "\n",
      "c:\\python36\\lib\\site-packages\\sklearn\\linear_model\\logistic.py:432: FutureWarning:\n",
      "\n",
      "Default solver will be changed to 'lbfgs' in 0.22. Specify a solver to silence this warning.\n",
      "\n"
     ]
    },
    {
     "name": "stdout",
     "output_type": "stream",
     "text": [
      "1 / 5\n"
     ]
    },
    {
     "name": "stderr",
     "output_type": "stream",
     "text": [
      "c:\\python36\\lib\\site-packages\\sklearn\\svm\\base.py:929: ConvergenceWarning:\n",
      "\n",
      "Liblinear failed to converge, increase the number of iterations.\n",
      "\n"
     ]
    },
    {
     "name": "stdout",
     "output_type": "stream",
     "text": [
      "2 / 5\n"
     ]
    },
    {
     "name": "stderr",
     "output_type": "stream",
     "text": [
      "c:\\python36\\lib\\site-packages\\sklearn\\svm\\base.py:929: ConvergenceWarning:\n",
      "\n",
      "Liblinear failed to converge, increase the number of iterations.\n",
      "\n"
     ]
    },
    {
     "name": "stdout",
     "output_type": "stream",
     "text": [
      "3 / 5\n"
     ]
    },
    {
     "name": "stderr",
     "output_type": "stream",
     "text": [
      "c:\\python36\\lib\\site-packages\\sklearn\\svm\\base.py:929: ConvergenceWarning:\n",
      "\n",
      "Liblinear failed to converge, increase the number of iterations.\n",
      "\n",
      "c:\\python36\\lib\\site-packages\\sklearn\\svm\\base.py:929: ConvergenceWarning:\n",
      "\n",
      "Liblinear failed to converge, increase the number of iterations.\n",
      "\n"
     ]
    },
    {
     "name": "stdout",
     "output_type": "stream",
     "text": [
      "4 / 5\n"
     ]
    },
    {
     "name": "stderr",
     "output_type": "stream",
     "text": [
      "c:\\python36\\lib\\site-packages\\sklearn\\svm\\base.py:929: ConvergenceWarning:\n",
      "\n",
      "Liblinear failed to converge, increase the number of iterations.\n",
      "\n",
      "c:\\python36\\lib\\site-packages\\sklearn\\svm\\base.py:929: ConvergenceWarning:\n",
      "\n",
      "Liblinear failed to converge, increase the number of iterations.\n",
      "\n"
     ]
    },
    {
     "name": "stdout",
     "output_type": "stream",
     "text": [
      "5 / 5\n"
     ]
    },
    {
     "name": "stderr",
     "output_type": "stream",
     "text": [
      "c:\\python36\\lib\\site-packages\\sklearn\\svm\\base.py:929: ConvergenceWarning:\n",
      "\n",
      "Liblinear failed to converge, increase the number of iterations.\n",
      "\n",
      "c:\\python36\\lib\\site-packages\\sklearn\\svm\\base.py:929: ConvergenceWarning:\n",
      "\n",
      "Liblinear failed to converge, increase the number of iterations.\n",
      "\n",
      "c:\\python36\\lib\\site-packages\\sklearn\\linear_model\\logistic.py:432: FutureWarning:\n",
      "\n",
      "Default solver will be changed to 'lbfgs' in 0.22. Specify a solver to silence this warning.\n",
      "\n"
     ]
    },
    {
     "name": "stdout",
     "output_type": "stream",
     "text": [
      "------------------------------------------------------------------------------------------------\n",
      "REPORT\n",
      "P05\n",
      "              precision    recall  f1-score   support\n",
      "\n",
      "        Rest       0.82      0.41      0.55        22\n",
      "    HandOpen       0.26      0.33      0.29        21\n",
      " PalmarGrasp       0.29      0.32      0.30        22\n",
      "LateralGrasp       0.28      0.32      0.30        22\n",
      "\n",
      "    accuracy                           0.34        87\n",
      "   macro avg       0.41      0.34      0.36        87\n",
      "weighted avg       0.41      0.34      0.36        87\n",
      "\n",
      "              precision    recall  f1-score   support\n",
      "\n",
      "        Rest       0.91      0.78      0.84        50\n",
      "    HandOpen       0.33      0.25      0.29        51\n",
      " PalmarGrasp       0.41      0.42      0.42        50\n",
      "LateralGrasp       0.39      0.52      0.44        50\n",
      "\n",
      "    accuracy                           0.49       201\n",
      "   macro avg       0.51      0.49      0.50       201\n",
      "weighted avg       0.51      0.49      0.50       201\n",
      "\n",
      "------------------------------------------------------------------------------------------------\n",
      "Extracting EDF parameters from D:\\DESARROLLO_PROYECTO_DOCTORADO\\pySTMM\\examples\\P06\\P06 Run 1.gdf...\n",
      "GDF file detected\n",
      "Setting channel info structure...\n",
      "Creating raw.info structure...\n",
      "Reading 0 ... 22015  =      0.000 ...    85.996 secs...\n",
      "Extracting EDF parameters from D:\\DESARROLLO_PROYECTO_DOCTORADO\\pySTMM\\examples\\P06\\P06 Run 10.gdf...\n",
      "GDF file detected\n",
      "Setting channel info structure...\n",
      "Creating raw.info structure...\n",
      "Reading 0 ... 76287  =      0.000 ...   297.996 secs...\n",
      "Extracting EDF parameters from D:\\DESARROLLO_PROYECTO_DOCTORADO\\pySTMM\\examples\\P06\\P06 Run 11.gdf...\n",
      "GDF file detected\n",
      "Setting channel info structure...\n",
      "Creating raw.info structure...\n",
      "Reading 0 ... 76799  =      0.000 ...   299.996 secs...\n"
     ]
    },
    {
     "name": "stderr",
     "output_type": "stream",
     "text": [
      "c:\\python36\\lib\\site-packages\\mne\\io\\edf\\edf.py:1047: DeprecationWarning:\n",
      "\n",
      "The binary mode of fromstring is deprecated, as it behaves surprisingly on unicode inputs. Use frombuffer instead\n",
      "\n",
      "c:\\python36\\lib\\site-packages\\mne\\io\\edf\\edf.py:1047: DeprecationWarning:\n",
      "\n",
      "The binary mode of fromstring is deprecated, as it behaves surprisingly on unicode inputs. Use frombuffer instead\n",
      "\n",
      "c:\\python36\\lib\\site-packages\\mne\\io\\edf\\edf.py:1047: DeprecationWarning:\n",
      "\n",
      "The binary mode of fromstring is deprecated, as it behaves surprisingly on unicode inputs. Use frombuffer instead\n",
      "\n"
     ]
    },
    {
     "name": "stdout",
     "output_type": "stream",
     "text": [
      "Extracting EDF parameters from D:\\DESARROLLO_PROYECTO_DOCTORADO\\pySTMM\\examples\\P06\\P06 Run 12.gdf...\n",
      "GDF file detected\n",
      "Setting channel info structure...\n",
      "Creating raw.info structure...\n",
      "Reading 0 ... 76799  =      0.000 ...   299.996 secs...\n",
      "Extracting EDF parameters from D:\\DESARROLLO_PROYECTO_DOCTORADO\\pySTMM\\examples\\P06\\P06 Run 13.gdf...\n",
      "GDF file detected\n",
      "Setting channel info structure...\n",
      "Creating raw.info structure...\n",
      "Reading 0 ... 76287  =      0.000 ...   297.996 secs...\n"
     ]
    },
    {
     "name": "stderr",
     "output_type": "stream",
     "text": [
      "c:\\python36\\lib\\site-packages\\mne\\io\\edf\\edf.py:1047: DeprecationWarning:\n",
      "\n",
      "The binary mode of fromstring is deprecated, as it behaves surprisingly on unicode inputs. Use frombuffer instead\n",
      "\n",
      "c:\\python36\\lib\\site-packages\\mne\\io\\edf\\edf.py:1047: DeprecationWarning:\n",
      "\n",
      "The binary mode of fromstring is deprecated, as it behaves surprisingly on unicode inputs. Use frombuffer instead\n",
      "\n"
     ]
    },
    {
     "name": "stdout",
     "output_type": "stream",
     "text": [
      "Extracting EDF parameters from D:\\DESARROLLO_PROYECTO_DOCTORADO\\pySTMM\\examples\\P06\\P06 Run 14.gdf...\n",
      "GDF file detected\n",
      "Setting channel info structure...\n",
      "Creating raw.info structure...\n",
      "Reading 0 ... 22015  =      0.000 ...    85.996 secs...\n",
      "Extracting EDF parameters from D:\\DESARROLLO_PROYECTO_DOCTORADO\\pySTMM\\examples\\P06\\P06 Run 15.gdf...\n",
      "GDF file detected\n",
      "Setting channel info structure...\n",
      "Creating raw.info structure...\n",
      "Reading 0 ... 23295  =      0.000 ...    90.996 secs...\n",
      "Extracting EDF parameters from D:\\DESARROLLO_PROYECTO_DOCTORADO\\pySTMM\\examples\\P06\\P06 Run 2.gdf...\n",
      "GDF file detected\n",
      "Setting channel info structure...\n",
      "Creating raw.info structure...\n",
      "Reading 0 ... 23295  =      0.000 ...    90.996 secs...\n",
      "Extracting EDF parameters from D:\\DESARROLLO_PROYECTO_DOCTORADO\\pySTMM\\examples\\P06\\P06 Run 3.gdf...\n",
      "GDF file detected\n",
      "Setting channel info structure...\n",
      "Creating raw.info structure...\n",
      "Reading 0 ... 77055  =      0.000 ...   300.996 secs...\n"
     ]
    },
    {
     "name": "stderr",
     "output_type": "stream",
     "text": [
      "c:\\python36\\lib\\site-packages\\mne\\io\\edf\\edf.py:1047: DeprecationWarning:\n",
      "\n",
      "The binary mode of fromstring is deprecated, as it behaves surprisingly on unicode inputs. Use frombuffer instead\n",
      "\n",
      "c:\\python36\\lib\\site-packages\\mne\\io\\edf\\edf.py:1047: DeprecationWarning:\n",
      "\n",
      "The binary mode of fromstring is deprecated, as it behaves surprisingly on unicode inputs. Use frombuffer instead\n",
      "\n",
      "c:\\python36\\lib\\site-packages\\mne\\io\\edf\\edf.py:1047: DeprecationWarning:\n",
      "\n",
      "The binary mode of fromstring is deprecated, as it behaves surprisingly on unicode inputs. Use frombuffer instead\n",
      "\n",
      "c:\\python36\\lib\\site-packages\\mne\\io\\edf\\edf.py:1047: DeprecationWarning:\n",
      "\n",
      "The binary mode of fromstring is deprecated, as it behaves surprisingly on unicode inputs. Use frombuffer instead\n",
      "\n"
     ]
    },
    {
     "name": "stdout",
     "output_type": "stream",
     "text": [
      "Extracting EDF parameters from D:\\DESARROLLO_PROYECTO_DOCTORADO\\pySTMM\\examples\\P06\\P06 Run 4.gdf...\n",
      "GDF file detected\n",
      "Setting channel info structure...\n",
      "Creating raw.info structure...\n",
      "Reading 0 ... 77055  =      0.000 ...   300.996 secs...\n",
      "Extracting EDF parameters from D:\\DESARROLLO_PROYECTO_DOCTORADO\\pySTMM\\examples\\P06\\P06 Run 5.gdf...\n",
      "GDF file detected\n"
     ]
    },
    {
     "name": "stderr",
     "output_type": "stream",
     "text": [
      "c:\\python36\\lib\\site-packages\\mne\\io\\edf\\edf.py:1047: DeprecationWarning:\n",
      "\n",
      "The binary mode of fromstring is deprecated, as it behaves surprisingly on unicode inputs. Use frombuffer instead\n",
      "\n"
     ]
    },
    {
     "name": "stdout",
     "output_type": "stream",
     "text": [
      "Setting channel info structure...\n",
      "Creating raw.info structure...\n",
      "Reading 0 ... 76287  =      0.000 ...   297.996 secs...\n",
      "Extracting EDF parameters from D:\\DESARROLLO_PROYECTO_DOCTORADO\\pySTMM\\examples\\P06\\P06 Run 6.gdf...\n",
      "GDF file detected\n",
      "Setting channel info structure...\n",
      "Creating raw.info structure...\n",
      "Reading 0 ... 78335  =      0.000 ...   305.996 secs...\n",
      "Extracting EDF parameters from D:\\DESARROLLO_PROYECTO_DOCTORADO\\pySTMM\\examples\\P06\\P06 Run 7.gdf...\n"
     ]
    },
    {
     "name": "stderr",
     "output_type": "stream",
     "text": [
      "c:\\python36\\lib\\site-packages\\mne\\io\\edf\\edf.py:1047: DeprecationWarning:\n",
      "\n",
      "The binary mode of fromstring is deprecated, as it behaves surprisingly on unicode inputs. Use frombuffer instead\n",
      "\n",
      "c:\\python36\\lib\\site-packages\\mne\\io\\edf\\edf.py:1047: DeprecationWarning:\n",
      "\n",
      "The binary mode of fromstring is deprecated, as it behaves surprisingly on unicode inputs. Use frombuffer instead\n",
      "\n"
     ]
    },
    {
     "name": "stdout",
     "output_type": "stream",
     "text": [
      "GDF file detected\n",
      "Setting channel info structure...\n",
      "Creating raw.info structure...\n",
      "Reading 0 ... 76799  =      0.000 ...   299.996 secs...\n",
      "Extracting EDF parameters from D:\\DESARROLLO_PROYECTO_DOCTORADO\\pySTMM\\examples\\P06\\P06 Run 8.gdf...\n",
      "GDF file detected\n",
      "Setting channel info structure...\n",
      "Creating raw.info structure...\n",
      "Reading 0 ... 22015  =      0.000 ...    85.996 secs...\n",
      "Extracting EDF parameters from D:\\DESARROLLO_PROYECTO_DOCTORADO\\pySTMM\\examples\\P06\\P06 Run 9.gdf...\n",
      "GDF file detected\n",
      "Setting channel info structure...\n",
      "Creating raw.info structure...\n",
      "Reading 0 ... 23295  =      0.000 ...    90.996 secs...\n"
     ]
    },
    {
     "name": "stderr",
     "output_type": "stream",
     "text": [
      "c:\\python36\\lib\\site-packages\\mne\\io\\edf\\edf.py:1047: DeprecationWarning:\n",
      "\n",
      "The binary mode of fromstring is deprecated, as it behaves surprisingly on unicode inputs. Use frombuffer instead\n",
      "\n",
      "c:\\python36\\lib\\site-packages\\mne\\io\\edf\\edf.py:1047: DeprecationWarning:\n",
      "\n",
      "The binary mode of fromstring is deprecated, as it behaves surprisingly on unicode inputs. Use frombuffer instead\n",
      "\n",
      "c:\\python36\\lib\\site-packages\\mne\\io\\edf\\edf.py:1047: DeprecationWarning:\n",
      "\n",
      "The binary mode of fromstring is deprecated, as it behaves surprisingly on unicode inputs. Use frombuffer instead\n",
      "\n"
     ]
    },
    {
     "name": "stdout",
     "output_type": "stream",
     "text": [
      "Extracting EDF parameters from D:\\DESARROLLO_PROYECTO_DOCTORADO\\pySTMM\\examples\\P06\\P06 Run 1.gdf...\n",
      "GDF file detected\n",
      "Setting channel info structure...\n",
      "Creating raw.info structure...\n"
     ]
    },
    {
     "name": "stderr",
     "output_type": "stream",
     "text": [
      "c:\\python36\\lib\\site-packages\\mne\\io\\edf\\edf.py:1047: DeprecationWarning:\n",
      "\n",
      "The binary mode of fromstring is deprecated, as it behaves surprisingly on unicode inputs. Use frombuffer instead\n",
      "\n"
     ]
    },
    {
     "name": "stdout",
     "output_type": "stream",
     "text": [
      "Used Annotations descriptions: ['33536', '768', '785']\n",
      "Extracting EDF parameters from D:\\DESARROLLO_PROYECTO_DOCTORADO\\pySTMM\\examples\\P06\\P06 Run 2.gdf...\n",
      "GDF file detected\n",
      "Setting channel info structure...\n",
      "Creating raw.info structure...\n",
      "Used Annotations descriptions: ['33536', '33554', '768', '785', '786']\n",
      "Extracting EDF parameters from D:\\DESARROLLO_PROYECTO_DOCTORADO\\pySTMM\\examples\\P06\\P06 Run 3.gdf...\n",
      "GDF file detected\n",
      "Setting channel info structure...\n",
      "Creating raw.info structure...\n"
     ]
    },
    {
     "name": "stderr",
     "output_type": "stream",
     "text": [
      "c:\\python36\\lib\\site-packages\\mne\\io\\edf\\edf.py:1047: DeprecationWarning:\n",
      "\n",
      "The binary mode of fromstring is deprecated, as it behaves surprisingly on unicode inputs. Use frombuffer instead\n",
      "\n",
      "c:\\python36\\lib\\site-packages\\mne\\io\\edf\\edf.py:1047: DeprecationWarning:\n",
      "\n",
      "The binary mode of fromstring is deprecated, as it behaves surprisingly on unicode inputs. Use frombuffer instead\n",
      "\n"
     ]
    },
    {
     "name": "stdout",
     "output_type": "stream",
     "text": [
      "Used Annotations descriptions: ['33536', '33544', '33545', '33547', '33554', '33693', '33694', '768', '776', '777', '779', '785', '786', '925', '926']\n",
      "Extracting EDF parameters from D:\\DESARROLLO_PROYECTO_DOCTORADO\\pySTMM\\examples\\P06\\P06 Run 4.gdf...\n",
      "GDF file detected\n",
      "Setting channel info structure...\n",
      "Creating raw.info structure...\n"
     ]
    },
    {
     "name": "stderr",
     "output_type": "stream",
     "text": [
      "c:\\python36\\lib\\site-packages\\mne\\io\\edf\\edf.py:1047: DeprecationWarning:\n",
      "\n",
      "The binary mode of fromstring is deprecated, as it behaves surprisingly on unicode inputs. Use frombuffer instead\n",
      "\n"
     ]
    },
    {
     "name": "stdout",
     "output_type": "stream",
     "text": [
      "Used Annotations descriptions: ['33536', '33544', '33545', '33547', '33554', '33693', '33694', '768', '776', '777', '779', '785', '786', '925', '926']\n",
      "Extracting EDF parameters from D:\\DESARROLLO_PROYECTO_DOCTORADO\\pySTMM\\examples\\P06\\P06 Run 5.gdf...\n",
      "GDF file detected\n",
      "Setting channel info structure...\n",
      "Creating raw.info structure...\n",
      "Used Annotations descriptions: ['33536', '33544', '33545', '33547', '33554', '33693', '33694', '768', '776', '777', '779', '785', '786', '925', '926']\n"
     ]
    },
    {
     "name": "stderr",
     "output_type": "stream",
     "text": [
      "c:\\python36\\lib\\site-packages\\mne\\io\\edf\\edf.py:1047: DeprecationWarning:\n",
      "\n",
      "The binary mode of fromstring is deprecated, as it behaves surprisingly on unicode inputs. Use frombuffer instead\n",
      "\n"
     ]
    },
    {
     "name": "stdout",
     "output_type": "stream",
     "text": [
      "Extracting EDF parameters from D:\\DESARROLLO_PROYECTO_DOCTORADO\\pySTMM\\examples\\P06\\P06 Run 6.gdf...\n",
      "GDF file detected\n",
      "Setting channel info structure...\n",
      "Creating raw.info structure...\n",
      "Used Annotations descriptions: ['33536', '33544', '33545', '33547', '33554', '33693', '33694', '768', '776', '777', '779', '785', '786', '925', '926']\n"
     ]
    },
    {
     "name": "stderr",
     "output_type": "stream",
     "text": [
      "c:\\python36\\lib\\site-packages\\mne\\io\\edf\\edf.py:1047: DeprecationWarning:\n",
      "\n",
      "The binary mode of fromstring is deprecated, as it behaves surprisingly on unicode inputs. Use frombuffer instead\n",
      "\n"
     ]
    },
    {
     "name": "stdout",
     "output_type": "stream",
     "text": [
      "Extracting EDF parameters from D:\\DESARROLLO_PROYECTO_DOCTORADO\\pySTMM\\examples\\P06\\P06 Run 7.gdf...\n",
      "GDF file detected\n",
      "Setting channel info structure...\n",
      "Creating raw.info structure...\n"
     ]
    },
    {
     "name": "stderr",
     "output_type": "stream",
     "text": [
      "c:\\python36\\lib\\site-packages\\mne\\io\\edf\\edf.py:1047: DeprecationWarning:\n",
      "\n",
      "The binary mode of fromstring is deprecated, as it behaves surprisingly on unicode inputs. Use frombuffer instead\n",
      "\n"
     ]
    },
    {
     "name": "stdout",
     "output_type": "stream",
     "text": [
      "Used Annotations descriptions: ['33536', '33544', '33545', '33547', '33554', '33693', '33694', '768', '776', '777', '779', '785', '786', '925', '926']\n",
      "Extracting EDF parameters from D:\\DESARROLLO_PROYECTO_DOCTORADO\\pySTMM\\examples\\P06\\P06 Run 8.gdf...\n",
      "GDF file detected\n",
      "Setting channel info structure...\n",
      "Creating raw.info structure...\n",
      "Used Annotations descriptions: ['33536', '768', '785']\n",
      "Extracting EDF parameters from D:\\DESARROLLO_PROYECTO_DOCTORADO\\pySTMM\\examples\\P06\\P06 Run 9.gdf...\n",
      "GDF file detected\n",
      "Setting channel info structure...\n",
      "Creating raw.info structure...\n",
      "Used Annotations descriptions: ['33536', '33554', '768', '785', '786']\n"
     ]
    },
    {
     "name": "stderr",
     "output_type": "stream",
     "text": [
      "c:\\python36\\lib\\site-packages\\mne\\io\\edf\\edf.py:1047: DeprecationWarning:\n",
      "\n",
      "The binary mode of fromstring is deprecated, as it behaves surprisingly on unicode inputs. Use frombuffer instead\n",
      "\n",
      "c:\\python36\\lib\\site-packages\\mne\\io\\edf\\edf.py:1047: DeprecationWarning:\n",
      "\n",
      "The binary mode of fromstring is deprecated, as it behaves surprisingly on unicode inputs. Use frombuffer instead\n",
      "\n"
     ]
    },
    {
     "name": "stdout",
     "output_type": "stream",
     "text": [
      "Extracting EDF parameters from D:\\DESARROLLO_PROYECTO_DOCTORADO\\pySTMM\\examples\\P06\\P06 Run 10.gdf...\n",
      "GDF file detected\n",
      "Setting channel info structure...\n",
      "Creating raw.info structure...\n",
      "Used Annotations descriptions: ['33536', '33544', '33545', '33547', '33554', '33693', '33694', '768', '776', '777', '779', '785', '786', '925', '926']\n"
     ]
    },
    {
     "name": "stderr",
     "output_type": "stream",
     "text": [
      "c:\\python36\\lib\\site-packages\\mne\\io\\edf\\edf.py:1047: DeprecationWarning:\n",
      "\n",
      "The binary mode of fromstring is deprecated, as it behaves surprisingly on unicode inputs. Use frombuffer instead\n",
      "\n"
     ]
    },
    {
     "name": "stdout",
     "output_type": "stream",
     "text": [
      "Extracting EDF parameters from D:\\DESARROLLO_PROYECTO_DOCTORADO\\pySTMM\\examples\\P06\\P06 Run 11.gdf...\n",
      "GDF file detected\n",
      "Setting channel info structure...\n",
      "Creating raw.info structure...\n",
      "Used Annotations descriptions: ['33536', '33544', '33545', '33547', '33554', '33693', '33694', '768', '776', '777', '779', '785', '786', '925', '926']\n"
     ]
    },
    {
     "name": "stderr",
     "output_type": "stream",
     "text": [
      "c:\\python36\\lib\\site-packages\\mne\\io\\edf\\edf.py:1047: DeprecationWarning:\n",
      "\n",
      "The binary mode of fromstring is deprecated, as it behaves surprisingly on unicode inputs. Use frombuffer instead\n",
      "\n"
     ]
    },
    {
     "name": "stdout",
     "output_type": "stream",
     "text": [
      "Extracting EDF parameters from D:\\DESARROLLO_PROYECTO_DOCTORADO\\pySTMM\\examples\\P06\\P06 Run 12.gdf...\n",
      "GDF file detected\n",
      "Setting channel info structure...\n",
      "Creating raw.info structure...\n"
     ]
    },
    {
     "name": "stderr",
     "output_type": "stream",
     "text": [
      "c:\\python36\\lib\\site-packages\\mne\\io\\edf\\edf.py:1047: DeprecationWarning:\n",
      "\n",
      "The binary mode of fromstring is deprecated, as it behaves surprisingly on unicode inputs. Use frombuffer instead\n",
      "\n"
     ]
    },
    {
     "name": "stdout",
     "output_type": "stream",
     "text": [
      "Used Annotations descriptions: ['33536', '33544', '33545', '33547', '33554', '33693', '33694', '768', '776', '777', '779', '785', '786', '925', '926']\n",
      "Extracting EDF parameters from D:\\DESARROLLO_PROYECTO_DOCTORADO\\pySTMM\\examples\\P06\\P06 Run 13.gdf...\n",
      "GDF file detected\n",
      "Setting channel info structure...\n",
      "Creating raw.info structure...\n",
      "Used Annotations descriptions: ['33536', '33544', '33545', '33547', '33554', '33693', '33694', '768', '776', '777', '779', '785', '786', '925', '926']\n"
     ]
    },
    {
     "name": "stderr",
     "output_type": "stream",
     "text": [
      "c:\\python36\\lib\\site-packages\\mne\\io\\edf\\edf.py:1047: DeprecationWarning:\n",
      "\n",
      "The binary mode of fromstring is deprecated, as it behaves surprisingly on unicode inputs. Use frombuffer instead\n",
      "\n"
     ]
    },
    {
     "name": "stdout",
     "output_type": "stream",
     "text": [
      "Extracting EDF parameters from D:\\DESARROLLO_PROYECTO_DOCTORADO\\pySTMM\\examples\\P06\\P06 Run 14.gdf...\n",
      "GDF file detected\n",
      "Setting channel info structure...\n",
      "Creating raw.info structure...\n",
      "Used Annotations descriptions: ['33536', '768', '785']\n",
      "Extracting EDF parameters from D:\\DESARROLLO_PROYECTO_DOCTORADO\\pySTMM\\examples\\P06\\P06 Run 15.gdf...\n",
      "GDF file detected\n",
      "Setting channel info structure...\n",
      "Creating raw.info structure...\n",
      "Used Annotations descriptions: ['33536', '33554', '768', '785', '786']\n"
     ]
    },
    {
     "name": "stderr",
     "output_type": "stream",
     "text": [
      "c:\\python36\\lib\\site-packages\\mne\\io\\edf\\edf.py:1047: DeprecationWarning:\n",
      "\n",
      "The binary mode of fromstring is deprecated, as it behaves surprisingly on unicode inputs. Use frombuffer instead\n",
      "\n",
      "c:\\python36\\lib\\site-packages\\mne\\io\\edf\\edf.py:1047: DeprecationWarning:\n",
      "\n",
      "The binary mode of fromstring is deprecated, as it behaves surprisingly on unicode inputs. Use frombuffer instead\n",
      "\n"
     ]
    },
    {
     "name": "stdout",
     "output_type": "stream",
     "text": [
      "Report on REST:\n",
      "Total samples = 69129\n",
      "Sampling frequency (Hz) = 256\n",
      "Signal duration (s) = 270.04\n",
      "Signal duration (min) = 4.50\n",
      "Total trial start events = 3\n",
      "Indexes (sample) = [2560, 25603, 48646]\n",
      "Times (s) = [10.0, 100.01171875, 190.0234375]\n",
      "Duration between consecutive ones (s) = [90.01171875, 90.01171875]\n",
      "[10.5, 13.0, 15.5, 18.0, 20.5, 23.0, 25.5, 28.0, 30.5, 33.0, 35.5, 38.0, 40.5, 43.0, 45.5, 48.0, 50.5, 53.0, 55.5, 58.0, 60.5, 63.0, 65.5, 68.0, 100.51171875, 103.01171875, 105.51171875, 108.01171875, 110.51171875, 113.01171875, 115.51171875, 118.01171875, 120.51171875, 123.01171875, 125.51171875, 128.01171875, 130.51171875, 133.01171875, 135.51171875, 138.01171875, 140.51171875, 143.01171875, 145.51171875, 148.01171875, 150.51171875, 153.01171875, 155.51171875, 158.01171875, 190.5234375, 193.0234375, 195.5234375, 198.0234375, 200.5234375, 203.0234375, 205.5234375, 208.0234375, 210.5234375, 213.0234375, 215.5234375, 218.0234375, 220.5234375, 223.0234375, 225.5234375, 228.0234375, 230.5234375, 233.0234375, 235.5234375, 238.0234375, 240.5234375, 243.0234375, 245.5234375, 248.0234375]\n",
      "[15.50390625, 18.00390625, 20.50390625, 23.00390625, 25.50390625, 28.00390625, 30.50390625, 33.00390625, 35.50390625, 38.00390625, 40.50390625, 43.00390625, 45.50390625, 48.00390625, 50.50390625, 53.00390625, 55.50390625, 58.00390625, 60.50390625, 63.00390625, 65.50390625, 68.00390625, 70.50390625, 73.00390625, 105.515625, 108.015625, 110.515625, 113.015625, 115.515625, 118.015625, 120.515625, 123.015625, 125.515625, 128.015625, 130.515625, 133.015625, 135.515625, 138.015625, 140.515625, 143.015625, 145.515625, 148.015625, 150.515625, 153.015625, 155.515625, 158.015625, 160.515625, 163.015625, 195.52734375, 198.02734375, 200.52734375, 203.02734375, 205.52734375, 208.02734375, 210.52734375, 213.02734375, 215.52734375, 218.02734375, 220.52734375, 223.02734375, 225.52734375, 228.02734375, 230.52734375, 233.02734375, 235.52734375, 238.02734375, 240.52734375, 243.02734375, 245.52734375, 248.02734375, 250.52734375, 253.02734375]\n",
      "Report on: HandOpenClassCue\n",
      "Total samples = 690899\n",
      "Sampling frequency (Hz) = 256\n",
      "Signal duration (s) = 2698.82\n",
      "Signal duration (min) = 44.98\n",
      "Total HandOpenClassCue events = 72\n",
      "Indexes (sample) = [3072, 4952, 19662, 24849, 26520, 41441, 45109, 61168, 81801, 87220, 95795, 99452, 119899, 125448, 130737, 139656, 162671, 189275, 198256, 209056, 212729, 214345, 223214, 226355, 236930, 238837, 242645, 253397, 256972, 279173, 282888, 290259, 318528, 320083, 323924, 340872, 357923, 359702, 375533, 379333, 392085, 397708, 404786, 415056, 422230, 426047, 427993, 436475, 474841, 478143, 488453, 501175, 508655, 513929, 523182, 532468, 546982, 551906, 555602, 568518, 574069, 579467, 588209, 589902, 617902, 623184, 626888, 643208, 648944, 659521, 673081, 676355]\n",
      "Times (s) = [12.0, 19.34375, 76.8046875, 97.06640625, 103.59375, 161.87890625, 176.20703125, 238.9375, 319.53515625, 340.703125, 374.19921875, 388.484375, 468.35546875, 490.03125, 510.69140625, 545.53125, 635.43359375, 739.35546875, 774.4375, 816.625, 830.97265625, 837.28515625, 871.9296875, 884.19921875, 925.5078125, 932.95703125, 947.83203125, 989.83203125, 1003.796875, 1090.51953125, 1105.03125, 1133.82421875, 1244.25, 1250.32421875, 1265.328125, 1331.53125, 1398.13671875, 1405.0859375, 1466.92578125, 1481.76953125, 1531.58203125, 1553.546875, 1581.1953125, 1621.3125, 1649.3359375, 1664.24609375, 1671.84765625, 1704.98046875, 1854.84765625, 1867.74609375, 1908.01953125, 1957.71484375, 1986.93359375, 2007.53515625, 2043.6796875, 2079.953125, 2136.6484375, 2155.8828125, 2170.3203125, 2220.7734375, 2242.45703125, 2263.54296875, 2297.69140625, 2304.3046875, 2413.6796875, 2434.3125, 2448.78125, 2512.53125, 2534.9375, 2576.25390625, 2629.22265625, 2642.01171875]\n",
      "Duration between consecutive ones (s) = [7.34375, 57.4609375, 20.26171875, 6.52734375, 58.28515625, 14.328125, 62.73046875, 80.59765625, 21.16796875, 33.49609375, 14.28515625, 79.87109375, 21.67578125, 20.66015625, 34.83984375, 89.90234375, 103.921875, 35.08203125, 42.1875, 14.34765625, 6.3125, 34.64453125, 12.26953125, 41.30859375, 7.44921875, 14.875, 42.0, 13.96484375, 86.72265625, 14.51171875, 28.79296875, 110.42578125, 6.07421875, 15.00390625, 66.203125, 66.60546875, 6.94921875, 61.83984375, 14.84375, 49.8125, 21.96484375, 27.6484375, 40.1171875, 28.0234375, 14.91015625, 7.6015625, 33.1328125, 149.8671875, 12.8984375, 40.2734375, 49.6953125, 29.21875, 20.6015625, 36.14453125, 36.2734375, 56.6953125, 19.234375, 14.4375, 50.453125, 21.68359375, 21.0859375, 34.1484375, 6.61328125, 109.375, 20.6328125, 14.46875, 63.75, 22.40625, 41.31640625, 52.96875, 12.7890625]\n",
      "[10.0, 17.34375, 74.8046875, 95.06640625, 101.59375, 159.87890625, 174.20703125, 236.9375, 317.53515625, 338.703125, 372.19921875, 386.484375, 466.35546875, 488.03125, 508.69140625, 543.53125, 633.43359375, 737.35546875, 772.4375, 814.625, 828.97265625, 835.28515625, 869.9296875, 882.19921875, 923.5078125, 930.95703125, 945.83203125, 987.83203125, 1001.796875, 1088.51953125, 1103.03125, 1131.82421875, 1242.25, 1248.32421875, 1263.328125, 1329.53125, 1396.13671875, 1403.0859375, 1464.92578125, 1479.76953125, 1529.58203125, 1551.546875, 1579.1953125, 1619.3125, 1647.3359375, 1662.24609375, 1669.84765625, 1702.98046875, 1852.84765625, 1865.74609375, 1906.01953125, 1955.71484375, 1984.93359375, 2005.53515625, 2041.6796875, 2077.953125, 2134.6484375, 2153.8828125, 2168.3203125, 2218.7734375, 2240.45703125, 2261.54296875, 2295.69140625, 2302.3046875, 2411.6796875, 2432.3125, 2446.78125, 2510.53125, 2532.9375, 2574.25390625, 2627.22265625, 2640.01171875]\n",
      "[15.00390625, 22.34765625, 79.80859375, 100.0703125, 106.59765625, 164.8828125, 179.2109375, 241.94140625, 322.5390625, 343.70703125, 377.203125, 391.48828125, 471.359375, 493.03515625, 513.6953125, 548.53515625, 638.4375, 742.359375, 777.44140625, 819.62890625, 833.9765625, 840.2890625, 874.93359375, 887.203125, 928.51171875, 935.9609375, 950.8359375, 992.8359375, 1006.80078125, 1093.5234375, 1108.03515625, 1136.828125, 1247.25390625, 1253.328125, 1268.33203125, 1334.53515625, 1401.140625, 1408.08984375, 1469.9296875, 1484.7734375, 1534.5859375, 1556.55078125, 1584.19921875, 1624.31640625, 1652.33984375, 1667.25, 1674.8515625, 1707.984375, 1857.8515625, 1870.75, 1911.0234375, 1960.71875, 1989.9375, 2010.5390625, 2046.68359375, 2082.95703125, 2139.65234375, 2158.88671875, 2173.32421875, 2223.77734375, 2245.4609375, 2266.546875, 2300.6953125, 2307.30859375, 2416.68359375, 2437.31640625, 2451.78515625, 2515.53515625, 2537.94140625, 2579.2578125, 2632.2265625, 2645.015625]\n",
      "Report on: PalmarGraspClassCue\n",
      "Total samples = 690899\n",
      "Sampling frequency (Hz) = 256\n",
      "Signal duration (s) = 2698.82\n",
      "Signal duration (min) = 44.98\n",
      "Total PalmarGraspClassCue events = 72\n",
      "Indexes (sample) = [10308, 23308, 32589, 38129, 39695, 55667, 64402, 66237, 80118, 90885, 94102, 101451, 103484, 108935, 112241, 141451, 160698, 174935, 180642, 203715, 210724, 216137, 217780, 221338, 251448, 260959, 270327, 273953, 291885, 299147, 301122, 302830, 314934, 322101, 325693, 332446, 342587, 344527, 368499, 381142, 388310, 395807, 408152, 432991, 445395, 449055, 455920, 457490, 471559, 473233, 484998, 490256, 506811, 512277, 521210, 530447, 550182, 570345, 577708, 584864, 591793, 593662, 597156, 606085, 624975, 632224, 634169, 635837, 639810, 650817, 664522, 687272]\n",
      "Times (s) = [40.265625, 91.046875, 127.30078125, 148.94140625, 155.05859375, 217.44921875, 251.5703125, 258.73828125, 312.9609375, 355.01953125, 367.5859375, 396.29296875, 404.234375, 425.52734375, 438.44140625, 552.54296875, 627.7265625, 683.33984375, 705.6328125, 795.76171875, 823.140625, 844.28515625, 850.703125, 864.6015625, 982.21875, 1019.37109375, 1055.96484375, 1070.12890625, 1140.17578125, 1168.54296875, 1176.2578125, 1182.9296875, 1230.2109375, 1258.20703125, 1272.23828125, 1298.6171875, 1338.23046875, 1345.80859375, 1439.44921875, 1488.8359375, 1516.8359375, 1546.12109375, 1594.34375, 1691.37109375, 1739.82421875, 1754.12109375, 1780.9375, 1787.0703125, 1842.02734375, 1848.56640625, 1894.5234375, 1915.0625, 1979.73046875, 2001.08203125, 2035.9765625, 2072.05859375, 2149.1484375, 2227.91015625, 2256.671875, 2284.625, 2311.69140625, 2318.9921875, 2332.640625, 2367.51953125, 2441.30859375, 2469.625, 2477.22265625, 2483.73828125, 2499.2578125, 2542.25390625, 2595.7890625, 2684.65625]\n",
      "Duration between consecutive ones (s) = [50.78125, 36.25390625, 21.640625, 6.1171875, 62.390625, 34.12109375, 7.16796875, 54.22265625, 42.05859375, 12.56640625, 28.70703125, 7.94140625, 21.29296875, 12.9140625, 114.1015625, 75.18359375, 55.61328125, 22.29296875, 90.12890625, 27.37890625, 21.14453125, 6.41796875, 13.8984375, 117.6171875, 37.15234375, 36.59375, 14.1640625, 70.046875, 28.3671875, 7.71484375, 6.671875, 47.28125, 27.99609375, 14.03125, 26.37890625, 39.61328125, 7.578125, 93.640625, 49.38671875, 28.0, 29.28515625, 48.22265625, 97.02734375, 48.453125, 14.296875, 26.81640625, 6.1328125, 54.95703125, 6.5390625, 45.95703125, 20.5390625, 64.66796875, 21.3515625, 34.89453125, 36.08203125, 77.08984375, 78.76171875, 28.76171875, 27.953125, 27.06640625, 7.30078125, 13.6484375, 34.87890625, 73.7890625, 28.31640625, 7.59765625, 6.515625, 15.51953125, 42.99609375, 53.53515625, 88.8671875]\n",
      "[38.265625, 89.046875, 125.30078125, 146.94140625, 153.05859375, 215.44921875, 249.5703125, 256.73828125, 310.9609375, 353.01953125, 365.5859375, 394.29296875, 402.234375, 423.52734375, 436.44140625, 550.54296875, 625.7265625, 681.33984375, 703.6328125, 793.76171875, 821.140625, 842.28515625, 848.703125, 862.6015625, 980.21875, 1017.37109375, 1053.96484375, 1068.12890625, 1138.17578125, 1166.54296875, 1174.2578125, 1180.9296875, 1228.2109375, 1256.20703125, 1270.23828125, 1296.6171875, 1336.23046875, 1343.80859375, 1437.44921875, 1486.8359375, 1514.8359375, 1544.12109375, 1592.34375, 1689.37109375, 1737.82421875, 1752.12109375, 1778.9375, 1785.0703125, 1840.02734375, 1846.56640625, 1892.5234375, 1913.0625, 1977.73046875, 1999.08203125, 2033.9765625, 2070.05859375, 2147.1484375, 2225.91015625, 2254.671875, 2282.625, 2309.69140625, 2316.9921875, 2330.640625, 2365.51953125, 2439.30859375, 2467.625, 2475.22265625, 2481.73828125, 2497.2578125, 2540.25390625, 2593.7890625, 2682.65625]\n",
      "[43.26953125, 94.05078125, 130.3046875, 151.9453125, 158.0625, 220.453125, 254.57421875, 261.7421875, 315.96484375, 358.0234375, 370.58984375, 399.296875, 407.23828125, 428.53125, 441.4453125, 555.546875, 630.73046875, 686.34375, 708.63671875, 798.765625, 826.14453125, 847.2890625, 853.70703125, 867.60546875, 985.22265625, 1022.375, 1058.96875, 1073.1328125, 1143.1796875, 1171.546875, 1179.26171875, 1185.93359375, 1233.21484375, 1261.2109375, 1275.2421875, 1301.62109375, 1341.234375, 1348.8125, 1442.453125, 1491.83984375, 1519.83984375, 1549.125, 1597.34765625, 1694.375, 1742.828125, 1757.125, 1783.94140625, 1790.07421875, 1845.03125, 1851.5703125, 1897.52734375, 1918.06640625, 1982.734375, 2004.0859375, 2038.98046875, 2075.0625, 2152.15234375, 2230.9140625, 2259.67578125, 2287.62890625, 2314.6953125, 2321.99609375, 2335.64453125, 2370.5234375, 2444.3125, 2472.62890625, 2480.2265625, 2486.7421875, 2502.26171875, 2545.2578125, 2598.79296875, 2687.66015625]\n"
     ]
    },
    {
     "name": "stdout",
     "output_type": "stream",
     "text": [
      "Report on: LateralGraspClassCue\n",
      "Total samples = 690899\n",
      "Sampling frequency (Hz) = 256\n",
      "Signal duration (s) = 2698.82\n",
      "Signal duration (min) = 44.98\n",
      "Total LateralGraspClassCue events = 72\n",
      "Indexes (sample) = [6679, 8686, 12318, 15691, 46956, 52305, 53866, 62732, 92448, 97612, 105083, 107127, 117957, 121672, 128941, 136036, 166364, 171524, 176918, 178933, 182351, 185661, 196337, 201882, 249638, 262828, 264742, 268585, 284522, 288331, 293835, 295405, 311517, 313234, 316747, 334190, 346433, 363285, 364846, 370167, 393912, 399664, 406567, 409992, 420306, 429841, 447180, 452248, 466167, 468042, 491852, 502825, 504808, 519431, 525108, 534436, 543000, 544984, 566518, 576000, 595443, 601003, 602806, 610919, 619814, 657823, 662973, 666302, 667995, 674794, 680411, 685457]\n",
      "Times (s) = [26.08984375, 33.9296875, 48.1171875, 61.29296875, 183.421875, 204.31640625, 210.4140625, 245.046875, 361.125, 381.296875, 410.48046875, 418.46484375, 460.76953125, 475.28125, 503.67578125, 531.390625, 649.859375, 670.015625, 691.0859375, 698.95703125, 712.30859375, 725.23828125, 766.94140625, 788.6015625, 975.1484375, 1026.671875, 1034.1484375, 1049.16015625, 1111.4140625, 1126.29296875, 1147.79296875, 1153.92578125, 1216.86328125, 1223.5703125, 1237.29296875, 1305.4296875, 1353.25390625, 1419.08203125, 1425.1796875, 1445.96484375, 1538.71875, 1561.1875, 1588.15234375, 1601.53125, 1641.8203125, 1679.06640625, 1746.796875, 1766.59375, 1820.96484375, 1828.2890625, 1921.296875, 1964.16015625, 1971.90625, 2029.02734375, 2051.203125, 2087.640625, 2121.09375, 2128.84375, 2212.9609375, 2250.0, 2325.94921875, 2347.66796875, 2354.7109375, 2386.40234375, 2421.1484375, 2569.62109375, 2589.73828125, 2602.7421875, 2609.35546875, 2635.9140625, 2657.85546875, 2677.56640625]\n",
      "Duration between consecutive ones (s) = [7.83984375, 14.1875, 13.17578125, 122.12890625, 20.89453125, 6.09765625, 34.6328125, 116.078125, 20.171875, 29.18359375, 7.984375, 42.3046875, 14.51171875, 28.39453125, 27.71484375, 118.46875, 20.15625, 21.0703125, 7.87109375, 13.3515625, 12.9296875, 41.703125, 21.66015625, 186.546875, 51.5234375, 7.4765625, 15.01171875, 62.25390625, 14.87890625, 21.5, 6.1328125, 62.9375, 6.70703125, 13.72265625, 68.13671875, 47.82421875, 65.828125, 6.09765625, 20.78515625, 92.75390625, 22.46875, 26.96484375, 13.37890625, 40.2890625, 37.24609375, 67.73046875, 19.796875, 54.37109375, 7.32421875, 93.0078125, 42.86328125, 7.74609375, 57.12109375, 22.17578125, 36.4375, 33.453125, 7.75, 84.1171875, 37.0390625, 75.94921875, 21.71875, 7.04296875, 31.69140625, 34.74609375, 148.47265625, 20.1171875, 13.00390625, 6.61328125, 26.55859375, 21.94140625, 19.7109375]\n",
      "[24.08984375, 31.9296875, 46.1171875, 59.29296875, 181.421875, 202.31640625, 208.4140625, 243.046875, 359.125, 379.296875, 408.48046875, 416.46484375, 458.76953125, 473.28125, 501.67578125, 529.390625, 647.859375, 668.015625, 689.0859375, 696.95703125, 710.30859375, 723.23828125, 764.94140625, 786.6015625, 973.1484375, 1024.671875, 1032.1484375, 1047.16015625, 1109.4140625, 1124.29296875, 1145.79296875, 1151.92578125, 1214.86328125, 1221.5703125, 1235.29296875, 1303.4296875, 1351.25390625, 1417.08203125, 1423.1796875, 1443.96484375, 1536.71875, 1559.1875, 1586.15234375, 1599.53125, 1639.8203125, 1677.06640625, 1744.796875, 1764.59375, 1818.96484375, 1826.2890625, 1919.296875, 1962.16015625, 1969.90625, 2027.02734375, 2049.203125, 2085.640625, 2119.09375, 2126.84375, 2210.9609375, 2248.0, 2323.94921875, 2345.66796875, 2352.7109375, 2384.40234375, 2419.1484375, 2567.62109375, 2587.73828125, 2600.7421875, 2607.35546875, 2633.9140625, 2655.85546875, 2675.56640625]\n",
      "[29.09375, 36.93359375, 51.12109375, 64.296875, 186.42578125, 207.3203125, 213.41796875, 248.05078125, 364.12890625, 384.30078125, 413.484375, 421.46875, 463.7734375, 478.28515625, 506.6796875, 534.39453125, 652.86328125, 673.01953125, 694.08984375, 701.9609375, 715.3125, 728.2421875, 769.9453125, 791.60546875, 978.15234375, 1029.67578125, 1037.15234375, 1052.1640625, 1114.41796875, 1129.296875, 1150.796875, 1156.9296875, 1219.8671875, 1226.57421875, 1240.296875, 1308.43359375, 1356.2578125, 1422.0859375, 1428.18359375, 1448.96875, 1541.72265625, 1564.19140625, 1591.15625, 1604.53515625, 1644.82421875, 1682.0703125, 1749.80078125, 1769.59765625, 1823.96875, 1831.29296875, 1924.30078125, 1967.1640625, 1974.91015625, 2032.03125, 2054.20703125, 2090.64453125, 2124.09765625, 2131.84765625, 2215.96484375, 2253.00390625, 2328.953125, 2350.671875, 2357.71484375, 2389.40625, 2424.15234375, 2572.625, 2592.7421875, 2605.74609375, 2612.359375, 2638.91796875, 2660.859375, 2680.5703125]\n",
      "maxIter  5\n",
      "ovr 10.0 10.0 5 0.0001 l2 True 0.0001 squared_hinge 100000\n",
      "1 / 5\n"
     ]
    },
    {
     "name": "stderr",
     "output_type": "stream",
     "text": [
      "c:\\python36\\lib\\site-packages\\sklearn\\svm\\base.py:929: ConvergenceWarning:\n",
      "\n",
      "Liblinear failed to converge, increase the number of iterations.\n",
      "\n"
     ]
    },
    {
     "name": "stdout",
     "output_type": "stream",
     "text": [
      "2 / 5\n"
     ]
    },
    {
     "name": "stderr",
     "output_type": "stream",
     "text": [
      "c:\\python36\\lib\\site-packages\\sklearn\\svm\\base.py:929: ConvergenceWarning:\n",
      "\n",
      "Liblinear failed to converge, increase the number of iterations.\n",
      "\n"
     ]
    },
    {
     "name": "stdout",
     "output_type": "stream",
     "text": [
      "3 / 5\n"
     ]
    },
    {
     "name": "stderr",
     "output_type": "stream",
     "text": [
      "c:\\python36\\lib\\site-packages\\sklearn\\svm\\base.py:929: ConvergenceWarning:\n",
      "\n",
      "Liblinear failed to converge, increase the number of iterations.\n",
      "\n"
     ]
    },
    {
     "name": "stdout",
     "output_type": "stream",
     "text": [
      "4 / 5\n"
     ]
    },
    {
     "name": "stderr",
     "output_type": "stream",
     "text": [
      "c:\\python36\\lib\\site-packages\\sklearn\\svm\\base.py:929: ConvergenceWarning:\n",
      "\n",
      "Liblinear failed to converge, increase the number of iterations.\n",
      "\n"
     ]
    },
    {
     "name": "stdout",
     "output_type": "stream",
     "text": [
      "5 / 5\n"
     ]
    },
    {
     "name": "stderr",
     "output_type": "stream",
     "text": [
      "c:\\python36\\lib\\site-packages\\sklearn\\svm\\base.py:929: ConvergenceWarning:\n",
      "\n",
      "Liblinear failed to converge, increase the number of iterations.\n",
      "\n",
      "c:\\python36\\lib\\site-packages\\sklearn\\linear_model\\logistic.py:432: FutureWarning:\n",
      "\n",
      "Default solver will be changed to 'lbfgs' in 0.22. Specify a solver to silence this warning.\n",
      "\n"
     ]
    },
    {
     "name": "stdout",
     "output_type": "stream",
     "text": [
      "1 / 5\n"
     ]
    },
    {
     "name": "stderr",
     "output_type": "stream",
     "text": [
      "c:\\python36\\lib\\site-packages\\sklearn\\svm\\base.py:929: ConvergenceWarning:\n",
      "\n",
      "Liblinear failed to converge, increase the number of iterations.\n",
      "\n",
      "c:\\python36\\lib\\site-packages\\sklearn\\svm\\base.py:929: ConvergenceWarning:\n",
      "\n",
      "Liblinear failed to converge, increase the number of iterations.\n",
      "\n"
     ]
    },
    {
     "name": "stdout",
     "output_type": "stream",
     "text": [
      "2 / 5\n"
     ]
    },
    {
     "name": "stderr",
     "output_type": "stream",
     "text": [
      "c:\\python36\\lib\\site-packages\\sklearn\\svm\\base.py:929: ConvergenceWarning:\n",
      "\n",
      "Liblinear failed to converge, increase the number of iterations.\n",
      "\n",
      "c:\\python36\\lib\\site-packages\\sklearn\\svm\\base.py:929: ConvergenceWarning:\n",
      "\n",
      "Liblinear failed to converge, increase the number of iterations.\n",
      "\n"
     ]
    },
    {
     "name": "stdout",
     "output_type": "stream",
     "text": [
      "3 / 5\n"
     ]
    },
    {
     "name": "stderr",
     "output_type": "stream",
     "text": [
      "c:\\python36\\lib\\site-packages\\sklearn\\svm\\base.py:929: ConvergenceWarning:\n",
      "\n",
      "Liblinear failed to converge, increase the number of iterations.\n",
      "\n",
      "c:\\python36\\lib\\site-packages\\sklearn\\svm\\base.py:929: ConvergenceWarning:\n",
      "\n",
      "Liblinear failed to converge, increase the number of iterations.\n",
      "\n"
     ]
    },
    {
     "name": "stdout",
     "output_type": "stream",
     "text": [
      "4 / 5\n"
     ]
    },
    {
     "name": "stderr",
     "output_type": "stream",
     "text": [
      "c:\\python36\\lib\\site-packages\\sklearn\\svm\\base.py:929: ConvergenceWarning:\n",
      "\n",
      "Liblinear failed to converge, increase the number of iterations.\n",
      "\n",
      "c:\\python36\\lib\\site-packages\\sklearn\\svm\\base.py:929: ConvergenceWarning:\n",
      "\n",
      "Liblinear failed to converge, increase the number of iterations.\n",
      "\n"
     ]
    },
    {
     "name": "stdout",
     "output_type": "stream",
     "text": [
      "5 / 5\n"
     ]
    },
    {
     "name": "stderr",
     "output_type": "stream",
     "text": [
      "c:\\python36\\lib\\site-packages\\sklearn\\svm\\base.py:929: ConvergenceWarning:\n",
      "\n",
      "Liblinear failed to converge, increase the number of iterations.\n",
      "\n",
      "c:\\python36\\lib\\site-packages\\sklearn\\svm\\base.py:929: ConvergenceWarning:\n",
      "\n",
      "Liblinear failed to converge, increase the number of iterations.\n",
      "\n",
      "c:\\python36\\lib\\site-packages\\sklearn\\linear_model\\logistic.py:432: FutureWarning:\n",
      "\n",
      "Default solver will be changed to 'lbfgs' in 0.22. Specify a solver to silence this warning.\n",
      "\n"
     ]
    },
    {
     "name": "stdout",
     "output_type": "stream",
     "text": [
      "1 / 5\n"
     ]
    },
    {
     "name": "stderr",
     "output_type": "stream",
     "text": [
      "c:\\python36\\lib\\site-packages\\sklearn\\svm\\base.py:929: ConvergenceWarning:\n",
      "\n",
      "Liblinear failed to converge, increase the number of iterations.\n",
      "\n",
      "c:\\python36\\lib\\site-packages\\sklearn\\svm\\base.py:929: ConvergenceWarning:\n",
      "\n",
      "Liblinear failed to converge, increase the number of iterations.\n",
      "\n"
     ]
    },
    {
     "name": "stdout",
     "output_type": "stream",
     "text": [
      "2 / 5\n"
     ]
    },
    {
     "name": "stderr",
     "output_type": "stream",
     "text": [
      "c:\\python36\\lib\\site-packages\\sklearn\\svm\\base.py:929: ConvergenceWarning:\n",
      "\n",
      "Liblinear failed to converge, increase the number of iterations.\n",
      "\n",
      "c:\\python36\\lib\\site-packages\\sklearn\\svm\\base.py:929: ConvergenceWarning:\n",
      "\n",
      "Liblinear failed to converge, increase the number of iterations.\n",
      "\n"
     ]
    },
    {
     "name": "stdout",
     "output_type": "stream",
     "text": [
      "3 / 5\n"
     ]
    },
    {
     "name": "stderr",
     "output_type": "stream",
     "text": [
      "c:\\python36\\lib\\site-packages\\sklearn\\svm\\base.py:929: ConvergenceWarning:\n",
      "\n",
      "Liblinear failed to converge, increase the number of iterations.\n",
      "\n",
      "c:\\python36\\lib\\site-packages\\sklearn\\svm\\base.py:929: ConvergenceWarning:\n",
      "\n",
      "Liblinear failed to converge, increase the number of iterations.\n",
      "\n"
     ]
    },
    {
     "name": "stdout",
     "output_type": "stream",
     "text": [
      "4 / 5\n"
     ]
    },
    {
     "name": "stderr",
     "output_type": "stream",
     "text": [
      "c:\\python36\\lib\\site-packages\\sklearn\\svm\\base.py:929: ConvergenceWarning:\n",
      "\n",
      "Liblinear failed to converge, increase the number of iterations.\n",
      "\n",
      "c:\\python36\\lib\\site-packages\\sklearn\\svm\\base.py:929: ConvergenceWarning:\n",
      "\n",
      "Liblinear failed to converge, increase the number of iterations.\n",
      "\n"
     ]
    },
    {
     "name": "stdout",
     "output_type": "stream",
     "text": [
      "5 / 5\n"
     ]
    },
    {
     "name": "stderr",
     "output_type": "stream",
     "text": [
      "c:\\python36\\lib\\site-packages\\sklearn\\svm\\base.py:929: ConvergenceWarning:\n",
      "\n",
      "Liblinear failed to converge, increase the number of iterations.\n",
      "\n",
      "c:\\python36\\lib\\site-packages\\sklearn\\svm\\base.py:929: ConvergenceWarning:\n",
      "\n",
      "Liblinear failed to converge, increase the number of iterations.\n",
      "\n",
      "c:\\python36\\lib\\site-packages\\sklearn\\linear_model\\logistic.py:432: FutureWarning:\n",
      "\n",
      "Default solver will be changed to 'lbfgs' in 0.22. Specify a solver to silence this warning.\n",
      "\n"
     ]
    },
    {
     "name": "stdout",
     "output_type": "stream",
     "text": [
      "1 / 5\n"
     ]
    },
    {
     "name": "stderr",
     "output_type": "stream",
     "text": [
      "c:\\python36\\lib\\site-packages\\sklearn\\svm\\base.py:929: ConvergenceWarning:\n",
      "\n",
      "Liblinear failed to converge, increase the number of iterations.\n",
      "\n",
      "c:\\python36\\lib\\site-packages\\sklearn\\svm\\base.py:929: ConvergenceWarning:\n",
      "\n",
      "Liblinear failed to converge, increase the number of iterations.\n",
      "\n"
     ]
    },
    {
     "name": "stdout",
     "output_type": "stream",
     "text": [
      "2 / 5\n"
     ]
    },
    {
     "name": "stderr",
     "output_type": "stream",
     "text": [
      "c:\\python36\\lib\\site-packages\\sklearn\\svm\\base.py:929: ConvergenceWarning:\n",
      "\n",
      "Liblinear failed to converge, increase the number of iterations.\n",
      "\n",
      "c:\\python36\\lib\\site-packages\\sklearn\\svm\\base.py:929: ConvergenceWarning:\n",
      "\n",
      "Liblinear failed to converge, increase the number of iterations.\n",
      "\n"
     ]
    },
    {
     "name": "stdout",
     "output_type": "stream",
     "text": [
      "3 / 5\n"
     ]
    },
    {
     "name": "stderr",
     "output_type": "stream",
     "text": [
      "c:\\python36\\lib\\site-packages\\sklearn\\svm\\base.py:929: ConvergenceWarning:\n",
      "\n",
      "Liblinear failed to converge, increase the number of iterations.\n",
      "\n",
      "c:\\python36\\lib\\site-packages\\sklearn\\svm\\base.py:929: ConvergenceWarning:\n",
      "\n",
      "Liblinear failed to converge, increase the number of iterations.\n",
      "\n"
     ]
    },
    {
     "name": "stdout",
     "output_type": "stream",
     "text": [
      "4 / 5\n"
     ]
    },
    {
     "name": "stderr",
     "output_type": "stream",
     "text": [
      "c:\\python36\\lib\\site-packages\\sklearn\\svm\\base.py:929: ConvergenceWarning:\n",
      "\n",
      "Liblinear failed to converge, increase the number of iterations.\n",
      "\n",
      "c:\\python36\\lib\\site-packages\\sklearn\\svm\\base.py:929: ConvergenceWarning:\n",
      "\n",
      "Liblinear failed to converge, increase the number of iterations.\n",
      "\n"
     ]
    },
    {
     "name": "stdout",
     "output_type": "stream",
     "text": [
      "5 / 5\n"
     ]
    },
    {
     "name": "stderr",
     "output_type": "stream",
     "text": [
      "c:\\python36\\lib\\site-packages\\sklearn\\svm\\base.py:929: ConvergenceWarning:\n",
      "\n",
      "Liblinear failed to converge, increase the number of iterations.\n",
      "\n",
      "c:\\python36\\lib\\site-packages\\sklearn\\svm\\base.py:929: ConvergenceWarning:\n",
      "\n",
      "Liblinear failed to converge, increase the number of iterations.\n",
      "\n",
      "c:\\python36\\lib\\site-packages\\sklearn\\linear_model\\logistic.py:432: FutureWarning:\n",
      "\n",
      "Default solver will be changed to 'lbfgs' in 0.22. Specify a solver to silence this warning.\n",
      "\n"
     ]
    },
    {
     "name": "stdout",
     "output_type": "stream",
     "text": [
      "------------------------------------------------------------------------------------------------\n",
      "REPORT\n",
      "P06\n",
      "              precision    recall  f1-score   support\n",
      "\n",
      "        Rest       0.53      0.41      0.46        22\n",
      "    HandOpen       0.08      0.10      0.09        21\n",
      " PalmarGrasp       0.17      0.14      0.15        22\n",
      "LateralGrasp       0.19      0.23      0.20        22\n",
      "\n",
      "    accuracy                           0.22        87\n",
      "   macro avg       0.24      0.22      0.23        87\n",
      "weighted avg       0.24      0.22      0.23        87\n",
      "\n",
      "              precision    recall  f1-score   support\n",
      "\n",
      "        Rest       0.78      0.62      0.69        50\n",
      "    HandOpen       0.50      0.45      0.47        51\n",
      " PalmarGrasp       0.39      0.42      0.40        50\n",
      "LateralGrasp       0.43      0.52      0.47        50\n",
      "\n",
      "    accuracy                           0.50       201\n",
      "   macro avg       0.52      0.50      0.51       201\n",
      "weighted avg       0.52      0.50      0.51       201\n",
      "\n",
      "------------------------------------------------------------------------------------------------\n",
      "Extracting EDF parameters from D:\\DESARROLLO_PROYECTO_DOCTORADO\\pySTMM\\examples\\P07\\P07 Run 1.gdf...\n",
      "GDF file detected\n",
      "Setting channel info structure...\n",
      "Creating raw.info structure...\n",
      "Reading 0 ... 22015  =      0.000 ...    85.996 secs...\n",
      "Extracting EDF parameters from D:\\DESARROLLO_PROYECTO_DOCTORADO\\pySTMM\\examples\\P07\\P07 Run 10.gdf...\n",
      "GDF file detected\n",
      "Setting channel info structure...\n",
      "Creating raw.info structure...\n",
      "Reading 0 ... 77823  =      0.000 ...   303.996 secs...\n",
      "Extracting EDF parameters from D:\\DESARROLLO_PROYECTO_DOCTORADO\\pySTMM\\examples\\P07\\P07 Run 11.gdf...\n",
      "GDF file detected\n",
      "Setting channel info structure...\n",
      "Creating raw.info structure...\n",
      "Reading 0 ... 77055  =      0.000 ...   300.996 secs...\n"
     ]
    },
    {
     "name": "stderr",
     "output_type": "stream",
     "text": [
      "c:\\python36\\lib\\site-packages\\mne\\io\\edf\\edf.py:1047: DeprecationWarning:\n",
      "\n",
      "The binary mode of fromstring is deprecated, as it behaves surprisingly on unicode inputs. Use frombuffer instead\n",
      "\n",
      "c:\\python36\\lib\\site-packages\\mne\\io\\edf\\edf.py:1047: DeprecationWarning:\n",
      "\n",
      "The binary mode of fromstring is deprecated, as it behaves surprisingly on unicode inputs. Use frombuffer instead\n",
      "\n",
      "c:\\python36\\lib\\site-packages\\mne\\io\\edf\\edf.py:1047: DeprecationWarning:\n",
      "\n",
      "The binary mode of fromstring is deprecated, as it behaves surprisingly on unicode inputs. Use frombuffer instead\n",
      "\n"
     ]
    },
    {
     "name": "stdout",
     "output_type": "stream",
     "text": [
      "Extracting EDF parameters from D:\\DESARROLLO_PROYECTO_DOCTORADO\\pySTMM\\examples\\P07\\P07 Run 12.gdf...\n",
      "GDF file detected\n",
      "Setting channel info structure...\n",
      "Creating raw.info structure...\n",
      "Reading 0 ... 77823  =      0.000 ...   303.996 secs...\n",
      "Extracting EDF parameters from D:\\DESARROLLO_PROYECTO_DOCTORADO\\pySTMM\\examples\\P07\\P07 Run 13.gdf...\n",
      "GDF file detected\n",
      "Setting channel info structure...\n",
      "Creating raw.info structure...\n",
      "Reading 0 ... 77311  =      0.000 ...   301.996 secs...\n"
     ]
    },
    {
     "name": "stderr",
     "output_type": "stream",
     "text": [
      "c:\\python36\\lib\\site-packages\\mne\\io\\edf\\edf.py:1047: DeprecationWarning:\n",
      "\n",
      "The binary mode of fromstring is deprecated, as it behaves surprisingly on unicode inputs. Use frombuffer instead\n",
      "\n",
      "c:\\python36\\lib\\site-packages\\mne\\io\\edf\\edf.py:1047: DeprecationWarning:\n",
      "\n",
      "The binary mode of fromstring is deprecated, as it behaves surprisingly on unicode inputs. Use frombuffer instead\n",
      "\n"
     ]
    },
    {
     "name": "stdout",
     "output_type": "stream",
     "text": [
      "Extracting EDF parameters from D:\\DESARROLLO_PROYECTO_DOCTORADO\\pySTMM\\examples\\P07\\P07 Run 14.gdf...\n",
      "GDF file detected\n",
      "Setting channel info structure...\n",
      "Creating raw.info structure...\n",
      "Reading 0 ... 22015  =      0.000 ...    85.996 secs...\n",
      "Extracting EDF parameters from D:\\DESARROLLO_PROYECTO_DOCTORADO\\pySTMM\\examples\\P07\\P07 Run 15.gdf...\n",
      "GDF file detected\n",
      "Setting channel info structure...\n",
      "Creating raw.info structure...\n",
      "Reading 0 ... 23295  =      0.000 ...    90.996 secs...\n",
      "Extracting EDF parameters from D:\\DESARROLLO_PROYECTO_DOCTORADO\\pySTMM\\examples\\P07\\P07 Run 2.gdf...\n",
      "GDF file detected\n",
      "Setting channel info structure...\n",
      "Creating raw.info structure...\n",
      "Reading 0 ... 23295  =      0.000 ...    90.996 secs...\n",
      "Extracting EDF parameters from D:\\DESARROLLO_PROYECTO_DOCTORADO\\pySTMM\\examples\\P07\\P07 Run 3.gdf...\n",
      "GDF file detected\n",
      "Setting channel info structure...\n",
      "Creating raw.info structure...\n",
      "Reading 0 ... 75519  =      0.000 ...   294.996 secs...\n"
     ]
    },
    {
     "name": "stderr",
     "output_type": "stream",
     "text": [
      "c:\\python36\\lib\\site-packages\\mne\\io\\edf\\edf.py:1047: DeprecationWarning:\n",
      "\n",
      "The binary mode of fromstring is deprecated, as it behaves surprisingly on unicode inputs. Use frombuffer instead\n",
      "\n",
      "c:\\python36\\lib\\site-packages\\mne\\io\\edf\\edf.py:1047: DeprecationWarning:\n",
      "\n",
      "The binary mode of fromstring is deprecated, as it behaves surprisingly on unicode inputs. Use frombuffer instead\n",
      "\n",
      "c:\\python36\\lib\\site-packages\\mne\\io\\edf\\edf.py:1047: DeprecationWarning:\n",
      "\n",
      "The binary mode of fromstring is deprecated, as it behaves surprisingly on unicode inputs. Use frombuffer instead\n",
      "\n",
      "c:\\python36\\lib\\site-packages\\mne\\io\\edf\\edf.py:1047: DeprecationWarning:\n",
      "\n",
      "The binary mode of fromstring is deprecated, as it behaves surprisingly on unicode inputs. Use frombuffer instead\n",
      "\n"
     ]
    },
    {
     "name": "stdout",
     "output_type": "stream",
     "text": [
      "Extracting EDF parameters from D:\\DESARROLLO_PROYECTO_DOCTORADO\\pySTMM\\examples\\P07\\P07 Run 4.gdf...\n",
      "GDF file detected\n",
      "Setting channel info structure...\n",
      "Creating raw.info structure...\n",
      "Reading 0 ... 76543  =      0.000 ...   298.996 secs...\n",
      "Extracting EDF parameters from D:\\DESARROLLO_PROYECTO_DOCTORADO\\pySTMM\\examples\\P07\\P07 Run 5.gdf...\n",
      "GDF file detected\n",
      "Setting channel info structure...\n",
      "Creating raw.info structure...\n",
      "Reading 0 ... 76799  =      0.000 ...   299.996 secs...\n"
     ]
    },
    {
     "name": "stderr",
     "output_type": "stream",
     "text": [
      "c:\\python36\\lib\\site-packages\\mne\\io\\edf\\edf.py:1047: DeprecationWarning:\n",
      "\n",
      "The binary mode of fromstring is deprecated, as it behaves surprisingly on unicode inputs. Use frombuffer instead\n",
      "\n",
      "c:\\python36\\lib\\site-packages\\mne\\io\\edf\\edf.py:1047: DeprecationWarning:\n",
      "\n",
      "The binary mode of fromstring is deprecated, as it behaves surprisingly on unicode inputs. Use frombuffer instead\n",
      "\n"
     ]
    },
    {
     "name": "stdout",
     "output_type": "stream",
     "text": [
      "Extracting EDF parameters from D:\\DESARROLLO_PROYECTO_DOCTORADO\\pySTMM\\examples\\P07\\P07 Run 6.gdf...\n",
      "GDF file detected\n",
      "Setting channel info structure...\n",
      "Creating raw.info structure...\n",
      "Reading 0 ... 76031  =      0.000 ...   296.996 secs...\n",
      "Extracting EDF parameters from D:\\DESARROLLO_PROYECTO_DOCTORADO\\pySTMM\\examples\\P07\\P07 Run 7.gdf...\n",
      "GDF file detected\n",
      "Setting channel info structure...\n",
      "Creating raw.info structure...\n",
      "Reading 0 ... 77055  =      0.000 ...   300.996 secs...\n"
     ]
    },
    {
     "name": "stderr",
     "output_type": "stream",
     "text": [
      "c:\\python36\\lib\\site-packages\\mne\\io\\edf\\edf.py:1047: DeprecationWarning:\n",
      "\n",
      "The binary mode of fromstring is deprecated, as it behaves surprisingly on unicode inputs. Use frombuffer instead\n",
      "\n",
      "c:\\python36\\lib\\site-packages\\mne\\io\\edf\\edf.py:1047: DeprecationWarning:\n",
      "\n",
      "The binary mode of fromstring is deprecated, as it behaves surprisingly on unicode inputs. Use frombuffer instead\n",
      "\n"
     ]
    },
    {
     "name": "stdout",
     "output_type": "stream",
     "text": [
      "Extracting EDF parameters from D:\\DESARROLLO_PROYECTO_DOCTORADO\\pySTMM\\examples\\P07\\P07 Run 8.gdf...\n",
      "GDF file detected\n",
      "Setting channel info structure...\n",
      "Creating raw.info structure...\n",
      "Reading 0 ... 22015  =      0.000 ...    85.996 secs...\n",
      "Extracting EDF parameters from D:\\DESARROLLO_PROYECTO_DOCTORADO\\pySTMM\\examples\\P07\\P07 Run 9.gdf...\n",
      "GDF file detected\n",
      "Setting channel info structure...\n",
      "Creating raw.info structure...\n",
      "Reading 0 ... 23295  =      0.000 ...    90.996 secs...\n"
     ]
    },
    {
     "name": "stderr",
     "output_type": "stream",
     "text": [
      "c:\\python36\\lib\\site-packages\\mne\\io\\edf\\edf.py:1047: DeprecationWarning:\n",
      "\n",
      "The binary mode of fromstring is deprecated, as it behaves surprisingly on unicode inputs. Use frombuffer instead\n",
      "\n",
      "c:\\python36\\lib\\site-packages\\mne\\io\\edf\\edf.py:1047: DeprecationWarning:\n",
      "\n",
      "The binary mode of fromstring is deprecated, as it behaves surprisingly on unicode inputs. Use frombuffer instead\n",
      "\n"
     ]
    },
    {
     "name": "stdout",
     "output_type": "stream",
     "text": [
      "Extracting EDF parameters from D:\\DESARROLLO_PROYECTO_DOCTORADO\\pySTMM\\examples\\P07\\P07 Run 1.gdf...\n",
      "GDF file detected\n",
      "Setting channel info structure...\n",
      "Creating raw.info structure...\n",
      "Used Annotations descriptions: ['33536', '768', '785']\n",
      "Extracting EDF parameters from D:\\DESARROLLO_PROYECTO_DOCTORADO\\pySTMM\\examples\\P07\\P07 Run 2.gdf...\n",
      "GDF file detected\n",
      "Setting channel info structure...\n",
      "Creating raw.info structure...\n",
      "Used Annotations descriptions: ['33536', '33554', '768', '785', '786']\n"
     ]
    },
    {
     "name": "stderr",
     "output_type": "stream",
     "text": [
      "c:\\python36\\lib\\site-packages\\mne\\io\\edf\\edf.py:1047: DeprecationWarning:\n",
      "\n",
      "The binary mode of fromstring is deprecated, as it behaves surprisingly on unicode inputs. Use frombuffer instead\n",
      "\n",
      "c:\\python36\\lib\\site-packages\\mne\\io\\edf\\edf.py:1047: DeprecationWarning:\n",
      "\n",
      "The binary mode of fromstring is deprecated, as it behaves surprisingly on unicode inputs. Use frombuffer instead\n",
      "\n"
     ]
    },
    {
     "name": "stdout",
     "output_type": "stream",
     "text": [
      "Extracting EDF parameters from D:\\DESARROLLO_PROYECTO_DOCTORADO\\pySTMM\\examples\\P07\\P07 Run 3.gdf...\n",
      "GDF file detected\n",
      "Setting channel info structure...\n",
      "Creating raw.info structure...\n",
      "Used Annotations descriptions: ['33536', '33544', '33545', '33547', '33554', '33693', '33694', '768', '776', '777', '779', '785', '786', '925', '926']\n"
     ]
    },
    {
     "name": "stderr",
     "output_type": "stream",
     "text": [
      "c:\\python36\\lib\\site-packages\\mne\\io\\edf\\edf.py:1047: DeprecationWarning:\n",
      "\n",
      "The binary mode of fromstring is deprecated, as it behaves surprisingly on unicode inputs. Use frombuffer instead\n",
      "\n"
     ]
    },
    {
     "name": "stdout",
     "output_type": "stream",
     "text": [
      "Extracting EDF parameters from D:\\DESARROLLO_PROYECTO_DOCTORADO\\pySTMM\\examples\\P07\\P07 Run 4.gdf...\n",
      "GDF file detected\n",
      "Setting channel info structure...\n",
      "Creating raw.info structure...\n",
      "Used Annotations descriptions: ['33536', '33544', '33545', '33547', '33554', '33693', '33694', '768', '776', '777', '779', '785', '786', '925', '926']\n"
     ]
    },
    {
     "name": "stderr",
     "output_type": "stream",
     "text": [
      "c:\\python36\\lib\\site-packages\\mne\\io\\edf\\edf.py:1047: DeprecationWarning:\n",
      "\n",
      "The binary mode of fromstring is deprecated, as it behaves surprisingly on unicode inputs. Use frombuffer instead\n",
      "\n"
     ]
    },
    {
     "name": "stdout",
     "output_type": "stream",
     "text": [
      "Extracting EDF parameters from D:\\DESARROLLO_PROYECTO_DOCTORADO\\pySTMM\\examples\\P07\\P07 Run 5.gdf...\n",
      "GDF file detected\n",
      "Setting channel info structure...\n",
      "Creating raw.info structure...\n"
     ]
    },
    {
     "name": "stderr",
     "output_type": "stream",
     "text": [
      "c:\\python36\\lib\\site-packages\\mne\\io\\edf\\edf.py:1047: DeprecationWarning:\n",
      "\n",
      "The binary mode of fromstring is deprecated, as it behaves surprisingly on unicode inputs. Use frombuffer instead\n",
      "\n"
     ]
    },
    {
     "name": "stdout",
     "output_type": "stream",
     "text": [
      "Used Annotations descriptions: ['33536', '33544', '33545', '33547', '33554', '33693', '33694', '768', '776', '777', '779', '785', '786', '925', '926']\n",
      "Extracting EDF parameters from D:\\DESARROLLO_PROYECTO_DOCTORADO\\pySTMM\\examples\\P07\\P07 Run 6.gdf...\n",
      "GDF file detected\n",
      "Setting channel info structure...\n",
      "Creating raw.info structure...\n",
      "Used Annotations descriptions: ['33536', '33544', '33545', '33547', '33554', '33693', '33694', '768', '776', '777', '779', '785', '786', '925', '926']\n"
     ]
    },
    {
     "name": "stderr",
     "output_type": "stream",
     "text": [
      "c:\\python36\\lib\\site-packages\\mne\\io\\edf\\edf.py:1047: DeprecationWarning:\n",
      "\n",
      "The binary mode of fromstring is deprecated, as it behaves surprisingly on unicode inputs. Use frombuffer instead\n",
      "\n"
     ]
    },
    {
     "name": "stdout",
     "output_type": "stream",
     "text": [
      "Extracting EDF parameters from D:\\DESARROLLO_PROYECTO_DOCTORADO\\pySTMM\\examples\\P07\\P07 Run 7.gdf...\n",
      "GDF file detected\n",
      "Setting channel info structure...\n",
      "Creating raw.info structure...\n",
      "Used Annotations descriptions: ['33536', '33544', '33545', '33547', '33554', '33693', '33694', '768', '776', '777', '779', '785', '786', '925', '926']\n"
     ]
    },
    {
     "name": "stderr",
     "output_type": "stream",
     "text": [
      "c:\\python36\\lib\\site-packages\\mne\\io\\edf\\edf.py:1047: DeprecationWarning:\n",
      "\n",
      "The binary mode of fromstring is deprecated, as it behaves surprisingly on unicode inputs. Use frombuffer instead\n",
      "\n"
     ]
    },
    {
     "name": "stdout",
     "output_type": "stream",
     "text": [
      "Extracting EDF parameters from D:\\DESARROLLO_PROYECTO_DOCTORADO\\pySTMM\\examples\\P07\\P07 Run 8.gdf...\n",
      "GDF file detected\n",
      "Setting channel info structure...\n",
      "Creating raw.info structure...\n",
      "Used Annotations descriptions: ['33536', '768', '785']\n",
      "Extracting EDF parameters from D:\\DESARROLLO_PROYECTO_DOCTORADO\\pySTMM\\examples\\P07\\P07 Run 9.gdf...\n",
      "GDF file detected\n",
      "Setting channel info structure...\n",
      "Creating raw.info structure...\n"
     ]
    },
    {
     "name": "stderr",
     "output_type": "stream",
     "text": [
      "c:\\python36\\lib\\site-packages\\mne\\io\\edf\\edf.py:1047: DeprecationWarning:\n",
      "\n",
      "The binary mode of fromstring is deprecated, as it behaves surprisingly on unicode inputs. Use frombuffer instead\n",
      "\n",
      "c:\\python36\\lib\\site-packages\\mne\\io\\edf\\edf.py:1047: DeprecationWarning:\n",
      "\n",
      "The binary mode of fromstring is deprecated, as it behaves surprisingly on unicode inputs. Use frombuffer instead\n",
      "\n"
     ]
    },
    {
     "name": "stdout",
     "output_type": "stream",
     "text": [
      "Used Annotations descriptions: ['33536', '33554', '768', '785', '786']\n",
      "Extracting EDF parameters from D:\\DESARROLLO_PROYECTO_DOCTORADO\\pySTMM\\examples\\P07\\P07 Run 10.gdf...\n",
      "GDF file detected\n",
      "Setting channel info structure...\n",
      "Creating raw.info structure...\n",
      "Used Annotations descriptions: ['33536', '33544', '33545', '33547', '33554', '33693', '33694', '768', '776', '777', '779', '785', '786', '925', '926']\n"
     ]
    },
    {
     "name": "stderr",
     "output_type": "stream",
     "text": [
      "c:\\python36\\lib\\site-packages\\mne\\io\\edf\\edf.py:1047: DeprecationWarning:\n",
      "\n",
      "The binary mode of fromstring is deprecated, as it behaves surprisingly on unicode inputs. Use frombuffer instead\n",
      "\n"
     ]
    },
    {
     "name": "stdout",
     "output_type": "stream",
     "text": [
      "Extracting EDF parameters from D:\\DESARROLLO_PROYECTO_DOCTORADO\\pySTMM\\examples\\P07\\P07 Run 11.gdf...\n",
      "GDF file detected\n",
      "Setting channel info structure...\n",
      "Creating raw.info structure...\n",
      "Used Annotations descriptions: ['33536', '33544', '33545', '33547', '33554', '33693', '33694', '768', '776', '777', '779', '785', '786', '925', '926']\n"
     ]
    },
    {
     "name": "stderr",
     "output_type": "stream",
     "text": [
      "c:\\python36\\lib\\site-packages\\mne\\io\\edf\\edf.py:1047: DeprecationWarning:\n",
      "\n",
      "The binary mode of fromstring is deprecated, as it behaves surprisingly on unicode inputs. Use frombuffer instead\n",
      "\n"
     ]
    },
    {
     "name": "stdout",
     "output_type": "stream",
     "text": [
      "Extracting EDF parameters from D:\\DESARROLLO_PROYECTO_DOCTORADO\\pySTMM\\examples\\P07\\P07 Run 12.gdf...\n",
      "GDF file detected\n",
      "Setting channel info structure...\n",
      "Creating raw.info structure...\n",
      "Used Annotations descriptions: ['33536', '33544', '33545', '33547', '33554', '33693', '33694', '768', '776', '777', '779', '785', '786', '925', '926']\n"
     ]
    },
    {
     "name": "stderr",
     "output_type": "stream",
     "text": [
      "c:\\python36\\lib\\site-packages\\mne\\io\\edf\\edf.py:1047: DeprecationWarning:\n",
      "\n",
      "The binary mode of fromstring is deprecated, as it behaves surprisingly on unicode inputs. Use frombuffer instead\n",
      "\n"
     ]
    },
    {
     "name": "stdout",
     "output_type": "stream",
     "text": [
      "Extracting EDF parameters from D:\\DESARROLLO_PROYECTO_DOCTORADO\\pySTMM\\examples\\P07\\P07 Run 13.gdf...\n",
      "GDF file detected\n",
      "Setting channel info structure...\n",
      "Creating raw.info structure...\n",
      "Used Annotations descriptions: ['33536', '33544', '33545', '33547', '33554', '33693', '33694', '768', '776', '777', '779', '785', '786', '925', '926']\n"
     ]
    },
    {
     "name": "stderr",
     "output_type": "stream",
     "text": [
      "c:\\python36\\lib\\site-packages\\mne\\io\\edf\\edf.py:1047: DeprecationWarning:\n",
      "\n",
      "The binary mode of fromstring is deprecated, as it behaves surprisingly on unicode inputs. Use frombuffer instead\n",
      "\n"
     ]
    },
    {
     "name": "stdout",
     "output_type": "stream",
     "text": [
      "Extracting EDF parameters from D:\\DESARROLLO_PROYECTO_DOCTORADO\\pySTMM\\examples\\P07\\P07 Run 14.gdf...\n",
      "GDF file detected\n",
      "Setting channel info structure...\n",
      "Creating raw.info structure...\n",
      "Used Annotations descriptions: ['33536', '768', '785']\n",
      "Extracting EDF parameters from D:\\DESARROLLO_PROYECTO_DOCTORADO\\pySTMM\\examples\\P07\\P07 Run 15.gdf...\n",
      "GDF file detected\n",
      "Setting channel info structure...\n",
      "Creating raw.info structure...\n",
      "Used Annotations descriptions: ['33536', '33554', '768', '785', '786']\n"
     ]
    },
    {
     "name": "stderr",
     "output_type": "stream",
     "text": [
      "c:\\python36\\lib\\site-packages\\mne\\io\\edf\\edf.py:1047: DeprecationWarning:\n",
      "\n",
      "The binary mode of fromstring is deprecated, as it behaves surprisingly on unicode inputs. Use frombuffer instead\n",
      "\n",
      "c:\\python36\\lib\\site-packages\\mne\\io\\edf\\edf.py:1047: DeprecationWarning:\n",
      "\n",
      "The binary mode of fromstring is deprecated, as it behaves surprisingly on unicode inputs. Use frombuffer instead\n",
      "\n"
     ]
    },
    {
     "name": "stdout",
     "output_type": "stream",
     "text": [
      "Report on REST:\n",
      "Total samples = 69129\n",
      "Sampling frequency (Hz) = 256\n",
      "Signal duration (s) = 270.04\n",
      "Signal duration (min) = 4.50\n",
      "Total trial start events = 3\n",
      "Indexes (sample) = [2560, 25603, 48646]\n",
      "Times (s) = [10.0, 100.01171875, 190.0234375]\n",
      "Duration between consecutive ones (s) = [90.01171875, 90.01171875]\n",
      "[10.5, 13.0, 15.5, 18.0, 20.5, 23.0, 25.5, 28.0, 30.5, 33.0, 35.5, 38.0, 40.5, 43.0, 45.5, 48.0, 50.5, 53.0, 55.5, 58.0, 60.5, 63.0, 65.5, 68.0, 100.51171875, 103.01171875, 105.51171875, 108.01171875, 110.51171875, 113.01171875, 115.51171875, 118.01171875, 120.51171875, 123.01171875, 125.51171875, 128.01171875, 130.51171875, 133.01171875, 135.51171875, 138.01171875, 140.51171875, 143.01171875, 145.51171875, 148.01171875, 150.51171875, 153.01171875, 155.51171875, 158.01171875, 190.5234375, 193.0234375, 195.5234375, 198.0234375, 200.5234375, 203.0234375, 205.5234375, 208.0234375, 210.5234375, 213.0234375, 215.5234375, 218.0234375, 220.5234375, 223.0234375, 225.5234375, 228.0234375, 230.5234375, 233.0234375, 235.5234375, 238.0234375, 240.5234375, 243.0234375, 245.5234375, 248.0234375]\n",
      "[15.50390625, 18.00390625, 20.50390625, 23.00390625, 25.50390625, 28.00390625, 30.50390625, 33.00390625, 35.50390625, 38.00390625, 40.50390625, 43.00390625, 45.50390625, 48.00390625, 50.50390625, 53.00390625, 55.50390625, 58.00390625, 60.50390625, 63.00390625, 65.50390625, 68.00390625, 70.50390625, 73.00390625, 105.515625, 108.015625, 110.515625, 113.015625, 115.515625, 118.015625, 120.515625, 123.015625, 125.515625, 128.015625, 130.515625, 133.015625, 135.515625, 138.015625, 140.515625, 143.015625, 145.515625, 148.015625, 150.515625, 153.015625, 155.515625, 158.015625, 160.515625, 163.015625, 195.52734375, 198.02734375, 200.52734375, 203.02734375, 205.52734375, 208.02734375, 210.52734375, 213.02734375, 215.52734375, 218.02734375, 220.52734375, 223.02734375, 225.52734375, 228.02734375, 230.52734375, 233.02734375, 235.52734375, 238.02734375, 240.52734375, 243.02734375, 245.52734375, 248.02734375, 250.52734375, 253.02734375]\n",
      "Report on: HandOpenClassCue\n",
      "Total samples = 691044\n",
      "Sampling frequency (Hz) = 256\n",
      "Signal duration (s) = 2699.39\n",
      "Signal duration (min) = 44.99\n",
      "Total HandOpenClassCue events = 72\n",
      "Indexes (sample) = [4921, 22479, 43603, 48658, 50450, 54233, 56175, 71533, 96532, 98101, 101373, 115732, 117387, 120976, 124543, 129757, 185100, 197455, 199383, 204586, 209713, 213529, 221059, 224628, 246360, 251673, 257245, 265759, 271131, 276603, 280124, 285491, 311095, 323862, 343658, 352598, 361398, 370473, 373907, 375799, 393904, 395599, 402930, 412077, 424656, 440924, 442966, 444759, 474124, 484752, 495685, 509807, 513882, 515918, 521004, 528500, 542898, 544853, 568310, 591663, 595255, 598893, 600916, 606322, 625546, 629207, 644078, 647459, 661655, 667438, 671328, 683965]\n",
      "Times (s) = [19.22265625, 87.80859375, 170.32421875, 190.0703125, 197.0703125, 211.84765625, 219.43359375, 279.42578125, 377.078125, 383.20703125, 395.98828125, 452.078125, 458.54296875, 472.5625, 486.49609375, 506.86328125, 723.046875, 771.30859375, 778.83984375, 799.1640625, 819.19140625, 834.09765625, 863.51171875, 877.453125, 962.34375, 983.09765625, 1004.86328125, 1038.12109375, 1059.10546875, 1080.48046875, 1094.234375, 1115.19921875, 1215.21484375, 1265.0859375, 1342.4140625, 1377.3359375, 1411.7109375, 1447.16015625, 1460.57421875, 1467.96484375, 1538.6875, 1545.30859375, 1573.9453125, 1609.67578125, 1658.8125, 1722.359375, 1730.3359375, 1737.33984375, 1852.046875, 1893.5625, 1936.26953125, 1991.43359375, 2007.3515625, 2015.3046875, 2035.171875, 2064.453125, 2120.6953125, 2128.33203125, 2219.9609375, 2311.18359375, 2325.21484375, 2339.42578125, 2347.328125, 2368.4453125, 2443.5390625, 2457.83984375, 2515.9296875, 2529.13671875, 2584.58984375, 2607.1796875, 2622.375, 2671.73828125]\n",
      "Duration between consecutive ones (s) = [68.5859375, 82.515625, 19.74609375, 7.0, 14.77734375, 7.5859375, 59.9921875, 97.65234375, 6.12890625, 12.78125, 56.08984375, 6.46484375, 14.01953125, 13.93359375, 20.3671875, 216.18359375, 48.26171875, 7.53125, 20.32421875, 20.02734375, 14.90625, 29.4140625, 13.94140625, 84.890625, 20.75390625, 21.765625, 33.2578125, 20.984375, 21.375, 13.75390625, 20.96484375, 100.015625, 49.87109375, 77.328125, 34.921875, 34.375, 35.44921875, 13.4140625, 7.390625, 70.72265625, 6.62109375, 28.63671875, 35.73046875, 49.13671875, 63.546875, 7.9765625, 7.00390625, 114.70703125, 41.515625, 42.70703125, 55.1640625, 15.91796875, 7.953125, 19.8671875, 29.28125, 56.2421875, 7.63671875, 91.62890625, 91.22265625, 14.03125, 14.2109375, 7.90234375, 21.1171875, 75.09375, 14.30078125, 58.08984375, 13.20703125, 55.453125, 22.58984375, 15.1953125, 49.36328125]\n",
      "[17.22265625, 85.80859375, 168.32421875, 188.0703125, 195.0703125, 209.84765625, 217.43359375, 277.42578125, 375.078125, 381.20703125, 393.98828125, 450.078125, 456.54296875, 470.5625, 484.49609375, 504.86328125, 721.046875, 769.30859375, 776.83984375, 797.1640625, 817.19140625, 832.09765625, 861.51171875, 875.453125, 960.34375, 981.09765625, 1002.86328125, 1036.12109375, 1057.10546875, 1078.48046875, 1092.234375, 1113.19921875, 1213.21484375, 1263.0859375, 1340.4140625, 1375.3359375, 1409.7109375, 1445.16015625, 1458.57421875, 1465.96484375, 1536.6875, 1543.30859375, 1571.9453125, 1607.67578125, 1656.8125, 1720.359375, 1728.3359375, 1735.33984375, 1850.046875, 1891.5625, 1934.26953125, 1989.43359375, 2005.3515625, 2013.3046875, 2033.171875, 2062.453125, 2118.6953125, 2126.33203125, 2217.9609375, 2309.18359375, 2323.21484375, 2337.42578125, 2345.328125, 2366.4453125, 2441.5390625, 2455.83984375, 2513.9296875, 2527.13671875, 2582.58984375, 2605.1796875, 2620.375, 2669.73828125]\n",
      "[22.2265625, 90.8125, 173.328125, 193.07421875, 200.07421875, 214.8515625, 222.4375, 282.4296875, 380.08203125, 386.2109375, 398.9921875, 455.08203125, 461.546875, 475.56640625, 489.5, 509.8671875, 726.05078125, 774.3125, 781.84375, 802.16796875, 822.1953125, 837.1015625, 866.515625, 880.45703125, 965.34765625, 986.1015625, 1007.8671875, 1041.125, 1062.109375, 1083.484375, 1097.23828125, 1118.203125, 1218.21875, 1268.08984375, 1345.41796875, 1380.33984375, 1414.71484375, 1450.1640625, 1463.578125, 1470.96875, 1541.69140625, 1548.3125, 1576.94921875, 1612.6796875, 1661.81640625, 1725.36328125, 1733.33984375, 1740.34375, 1855.05078125, 1896.56640625, 1939.2734375, 1994.4375, 2010.35546875, 2018.30859375, 2038.17578125, 2067.45703125, 2123.69921875, 2131.3359375, 2222.96484375, 2314.1875, 2328.21875, 2342.4296875, 2350.33203125, 2371.44921875, 2446.54296875, 2460.84375, 2518.93359375, 2532.140625, 2587.59375, 2610.18359375, 2625.37890625, 2674.7421875]\n",
      "Report on: PalmarGraspClassCue\n",
      "Total samples = 691044\n",
      "Sampling frequency (Hz) = 256\n",
      "Signal duration (s) = 2699.39\n",
      "Signal duration (min) = 44.99\n",
      "Total PalmarGraspClassCue events = 72\n",
      "Indexes (sample) = [12348, 14235, 27539, 34798, 38215, 57730, 59516, 67881, 78581, 84314, 89274, 94755, 99695, 103158, 131762, 148100, 157071, 169570, 176737, 180043, 188644, 201256, 202986, 215257, 235335, 241319, 250064, 253413, 262245, 267448, 288830, 293662, 309221, 314984, 325424, 336807, 341870, 363078, 364909, 366953, 384610, 386392, 392179, 397461, 399408, 417314, 430162, 439103, 470766, 482849, 486695, 494129, 497341, 499340, 506444, 508236, 541263, 552146, 557493, 572224, 586069, 587947, 596857, 608283, 616990, 622069, 633053, 654408, 656011, 665559, 673363, 687156]\n",
      "Times (s) = [48.234375, 55.60546875, 107.57421875, 135.9296875, 149.27734375, 225.5078125, 232.484375, 265.16015625, 306.95703125, 329.3515625, 348.7265625, 370.13671875, 389.43359375, 402.9609375, 514.6953125, 578.515625, 613.55859375, 662.3828125, 690.37890625, 703.29296875, 736.890625, 786.15625, 792.9140625, 840.84765625, 919.27734375, 942.65234375, 976.8125, 989.89453125, 1024.39453125, 1044.71875, 1128.2421875, 1147.1171875, 1207.89453125, 1230.40625, 1271.1875, 1315.65234375, 1335.4296875, 1418.2734375, 1425.42578125, 1433.41015625, 1502.3828125, 1509.34375, 1531.94921875, 1552.58203125, 1560.1875, 1630.1328125, 1680.3203125, 1715.24609375, 1838.9296875, 1886.12890625, 1901.15234375, 1930.19140625, 1942.73828125, 1950.546875, 1978.296875, 1985.296875, 2114.30859375, 2156.8203125, 2177.70703125, 2235.25, 2289.33203125, 2296.66796875, 2331.47265625, 2376.10546875, 2410.1171875, 2429.95703125, 2472.86328125, 2556.28125, 2562.54296875, 2599.83984375, 2630.32421875, 2684.203125]\n",
      "Duration between consecutive ones (s) = [7.37109375, 51.96875, 28.35546875, 13.34765625, 76.23046875, 6.9765625, 32.67578125, 41.796875, 22.39453125, 19.375, 21.41015625, 19.296875, 13.52734375, 111.734375, 63.8203125, 35.04296875, 48.82421875, 27.99609375, 12.9140625, 33.59765625, 49.265625, 6.7578125, 47.93359375, 78.4296875, 23.375, 34.16015625, 13.08203125, 34.5, 20.32421875, 83.5234375, 18.875, 60.77734375, 22.51171875, 40.78125, 44.46484375, 19.77734375, 82.84375, 7.15234375, 7.984375, 68.97265625, 6.9609375, 22.60546875, 20.6328125, 7.60546875, 69.9453125, 50.1875, 34.92578125, 123.68359375, 47.19921875, 15.0234375, 29.0390625, 12.546875, 7.80859375, 27.75, 7.0, 129.01171875, 42.51171875, 20.88671875, 57.54296875, 54.08203125, 7.3359375, 34.8046875, 44.6328125, 34.01171875, 19.83984375, 42.90625, 83.41796875, 6.26171875, 37.296875, 30.484375, 53.87890625]\n",
      "[46.234375, 53.60546875, 105.57421875, 133.9296875, 147.27734375, 223.5078125, 230.484375, 263.16015625, 304.95703125, 327.3515625, 346.7265625, 368.13671875, 387.43359375, 400.9609375, 512.6953125, 576.515625, 611.55859375, 660.3828125, 688.37890625, 701.29296875, 734.890625, 784.15625, 790.9140625, 838.84765625, 917.27734375, 940.65234375, 974.8125, 987.89453125, 1022.39453125, 1042.71875, 1126.2421875, 1145.1171875, 1205.89453125, 1228.40625, 1269.1875, 1313.65234375, 1333.4296875, 1416.2734375, 1423.42578125, 1431.41015625, 1500.3828125, 1507.34375, 1529.94921875, 1550.58203125, 1558.1875, 1628.1328125, 1678.3203125, 1713.24609375, 1836.9296875, 1884.12890625, 1899.15234375, 1928.19140625, 1940.73828125, 1948.546875, 1976.296875, 1983.296875, 2112.30859375, 2154.8203125, 2175.70703125, 2233.25, 2287.33203125, 2294.66796875, 2329.47265625, 2374.10546875, 2408.1171875, 2427.95703125, 2470.86328125, 2554.28125, 2560.54296875, 2597.83984375, 2628.32421875, 2682.203125]\n",
      "[51.23828125, 58.609375, 110.578125, 138.93359375, 152.28125, 228.51171875, 235.48828125, 268.1640625, 309.9609375, 332.35546875, 351.73046875, 373.140625, 392.4375, 405.96484375, 517.69921875, 581.51953125, 616.5625, 665.38671875, 693.3828125, 706.296875, 739.89453125, 789.16015625, 795.91796875, 843.8515625, 922.28125, 945.65625, 979.81640625, 992.8984375, 1027.3984375, 1047.72265625, 1131.24609375, 1150.12109375, 1210.8984375, 1233.41015625, 1274.19140625, 1318.65625, 1338.43359375, 1421.27734375, 1428.4296875, 1436.4140625, 1505.38671875, 1512.34765625, 1534.953125, 1555.5859375, 1563.19140625, 1633.13671875, 1683.32421875, 1718.25, 1841.93359375, 1889.1328125, 1904.15625, 1933.1953125, 1945.7421875, 1953.55078125, 1981.30078125, 1988.30078125, 2117.3125, 2159.82421875, 2180.7109375, 2238.25390625, 2292.3359375, 2299.671875, 2334.4765625, 2379.109375, 2413.12109375, 2432.9609375, 2475.8671875, 2559.28515625, 2565.546875, 2602.84375, 2633.328125, 2687.20703125]\n"
     ]
    },
    {
     "name": "stdout",
     "output_type": "stream",
     "text": [
      "Report on: LateralGraspClassCue\n",
      "Total samples = 691044\n",
      "Sampling frequency (Hz) = 256\n",
      "Signal duration (s) = 2699.39\n",
      "Signal duration (min) = 44.99\n",
      "Total LateralGraspClassCue events = 72\n",
      "Indexes (sample) = [8943, 17585, 24019, 29582, 32903, 46994, 61145, 64521, 80600, 82341, 87409, 93206, 110498, 126312, 128047, 142325, 166138, 167711, 171424, 183488, 186837, 217073, 219069, 222632, 231771, 244712, 248117, 258926, 264198, 278187, 283528, 287238, 316986, 320389, 335009, 338405, 345414, 347188, 349056, 356141, 401282, 408593, 413920, 415691, 428386, 433336, 450390, 453549, 467353, 475933, 477591, 501281, 503030, 511851, 523015, 530436, 539303, 555876, 566717, 574106, 577448, 581319, 589753, 602789, 620220, 623896, 631110, 635028, 640479, 652734, 680444, 682293]\n",
      "Times (s) = [34.93359375, 68.69140625, 93.82421875, 115.5546875, 128.52734375, 183.5703125, 238.84765625, 252.03515625, 314.84375, 321.64453125, 341.44140625, 364.0859375, 431.6328125, 493.40625, 500.18359375, 555.95703125, 648.9765625, 655.12109375, 669.625, 716.75, 729.83203125, 847.94140625, 855.73828125, 869.65625, 905.35546875, 955.90625, 969.20703125, 1011.4296875, 1032.0234375, 1086.66796875, 1107.53125, 1122.0234375, 1238.2265625, 1251.51953125, 1308.62890625, 1321.89453125, 1349.2734375, 1356.203125, 1363.5, 1391.17578125, 1567.5078125, 1596.06640625, 1616.875, 1623.79296875, 1673.3828125, 1692.71875, 1759.3359375, 1771.67578125, 1825.59765625, 1859.11328125, 1865.58984375, 1958.12890625, 1964.9609375, 1999.41796875, 2043.02734375, 2072.015625, 2106.65234375, 2171.390625, 2213.73828125, 2242.6015625, 2255.65625, 2270.77734375, 2303.72265625, 2354.64453125, 2422.734375, 2437.09375, 2465.2734375, 2480.578125, 2501.87109375, 2549.7421875, 2657.984375, 2665.20703125]\n",
      "Duration between consecutive ones (s) = [33.7578125, 25.1328125, 21.73046875, 12.97265625, 55.04296875, 55.27734375, 13.1875, 62.80859375, 6.80078125, 19.796875, 22.64453125, 67.546875, 61.7734375, 6.77734375, 55.7734375, 93.01953125, 6.14453125, 14.50390625, 47.125, 13.08203125, 118.109375, 7.796875, 13.91796875, 35.69921875, 50.55078125, 13.30078125, 42.22265625, 20.59375, 54.64453125, 20.86328125, 14.4921875, 116.203125, 13.29296875, 57.109375, 13.265625, 27.37890625, 6.9296875, 7.296875, 27.67578125, 176.33203125, 28.55859375, 20.80859375, 6.91796875, 49.58984375, 19.3359375, 66.6171875, 12.33984375, 53.921875, 33.515625, 6.4765625, 92.5390625, 6.83203125, 34.45703125, 43.609375, 28.98828125, 34.63671875, 64.73828125, 42.34765625, 28.86328125, 13.0546875, 15.12109375, 32.9453125, 50.921875, 68.08984375, 14.359375, 28.1796875, 15.3046875, 21.29296875, 47.87109375, 108.2421875, 7.22265625]\n",
      "[32.93359375, 66.69140625, 91.82421875, 113.5546875, 126.52734375, 181.5703125, 236.84765625, 250.03515625, 312.84375, 319.64453125, 339.44140625, 362.0859375, 429.6328125, 491.40625, 498.18359375, 553.95703125, 646.9765625, 653.12109375, 667.625, 714.75, 727.83203125, 845.94140625, 853.73828125, 867.65625, 903.35546875, 953.90625, 967.20703125, 1009.4296875, 1030.0234375, 1084.66796875, 1105.53125, 1120.0234375, 1236.2265625, 1249.51953125, 1306.62890625, 1319.89453125, 1347.2734375, 1354.203125, 1361.5, 1389.17578125, 1565.5078125, 1594.06640625, 1614.875, 1621.79296875, 1671.3828125, 1690.71875, 1757.3359375, 1769.67578125, 1823.59765625, 1857.11328125, 1863.58984375, 1956.12890625, 1962.9609375, 1997.41796875, 2041.02734375, 2070.015625, 2104.65234375, 2169.390625, 2211.73828125, 2240.6015625, 2253.65625, 2268.77734375, 2301.72265625, 2352.64453125, 2420.734375, 2435.09375, 2463.2734375, 2478.578125, 2499.87109375, 2547.7421875, 2655.984375, 2663.20703125]\n",
      "[37.9375, 71.6953125, 96.828125, 118.55859375, 131.53125, 186.57421875, 241.8515625, 255.0390625, 317.84765625, 324.6484375, 344.4453125, 367.08984375, 434.63671875, 496.41015625, 503.1875, 558.9609375, 651.98046875, 658.125, 672.62890625, 719.75390625, 732.8359375, 850.9453125, 858.7421875, 872.66015625, 908.359375, 958.91015625, 972.2109375, 1014.43359375, 1035.02734375, 1089.671875, 1110.53515625, 1125.02734375, 1241.23046875, 1254.5234375, 1311.6328125, 1324.8984375, 1352.27734375, 1359.20703125, 1366.50390625, 1394.1796875, 1570.51171875, 1599.0703125, 1619.87890625, 1626.796875, 1676.38671875, 1695.72265625, 1762.33984375, 1774.6796875, 1828.6015625, 1862.1171875, 1868.59375, 1961.1328125, 1967.96484375, 2002.421875, 2046.03125, 2075.01953125, 2109.65625, 2174.39453125, 2216.7421875, 2245.60546875, 2258.66015625, 2273.78125, 2306.7265625, 2357.6484375, 2425.73828125, 2440.09765625, 2468.27734375, 2483.58203125, 2504.875, 2552.74609375, 2660.98828125, 2668.2109375]\n",
      "maxIter  5\n",
      "ovr 10.0 10.0 5 0.0001 l2 True 0.0001 squared_hinge 100000\n",
      "1 / 5\n",
      "2 / 5\n",
      "3 / 5\n",
      "4 / 5\n",
      "5 / 5\n"
     ]
    },
    {
     "name": "stderr",
     "output_type": "stream",
     "text": [
      "c:\\python36\\lib\\site-packages\\sklearn\\linear_model\\logistic.py:432: FutureWarning:\n",
      "\n",
      "Default solver will be changed to 'lbfgs' in 0.22. Specify a solver to silence this warning.\n",
      "\n"
     ]
    },
    {
     "name": "stdout",
     "output_type": "stream",
     "text": [
      "1 / 5\n"
     ]
    },
    {
     "name": "stderr",
     "output_type": "stream",
     "text": [
      "c:\\python36\\lib\\site-packages\\sklearn\\svm\\base.py:929: ConvergenceWarning:\n",
      "\n",
      "Liblinear failed to converge, increase the number of iterations.\n",
      "\n",
      "c:\\python36\\lib\\site-packages\\sklearn\\svm\\base.py:929: ConvergenceWarning:\n",
      "\n",
      "Liblinear failed to converge, increase the number of iterations.\n",
      "\n"
     ]
    },
    {
     "name": "stdout",
     "output_type": "stream",
     "text": [
      "2 / 5\n"
     ]
    },
    {
     "name": "stderr",
     "output_type": "stream",
     "text": [
      "c:\\python36\\lib\\site-packages\\sklearn\\svm\\base.py:929: ConvergenceWarning:\n",
      "\n",
      "Liblinear failed to converge, increase the number of iterations.\n",
      "\n",
      "c:\\python36\\lib\\site-packages\\sklearn\\svm\\base.py:929: ConvergenceWarning:\n",
      "\n",
      "Liblinear failed to converge, increase the number of iterations.\n",
      "\n"
     ]
    },
    {
     "name": "stdout",
     "output_type": "stream",
     "text": [
      "3 / 5\n"
     ]
    },
    {
     "name": "stderr",
     "output_type": "stream",
     "text": [
      "c:\\python36\\lib\\site-packages\\sklearn\\svm\\base.py:929: ConvergenceWarning:\n",
      "\n",
      "Liblinear failed to converge, increase the number of iterations.\n",
      "\n",
      "c:\\python36\\lib\\site-packages\\sklearn\\svm\\base.py:929: ConvergenceWarning:\n",
      "\n",
      "Liblinear failed to converge, increase the number of iterations.\n",
      "\n"
     ]
    },
    {
     "name": "stdout",
     "output_type": "stream",
     "text": [
      "4 / 5\n"
     ]
    },
    {
     "name": "stderr",
     "output_type": "stream",
     "text": [
      "c:\\python36\\lib\\site-packages\\sklearn\\svm\\base.py:929: ConvergenceWarning:\n",
      "\n",
      "Liblinear failed to converge, increase the number of iterations.\n",
      "\n",
      "c:\\python36\\lib\\site-packages\\sklearn\\svm\\base.py:929: ConvergenceWarning:\n",
      "\n",
      "Liblinear failed to converge, increase the number of iterations.\n",
      "\n"
     ]
    },
    {
     "name": "stdout",
     "output_type": "stream",
     "text": [
      "5 / 5\n"
     ]
    },
    {
     "name": "stderr",
     "output_type": "stream",
     "text": [
      "c:\\python36\\lib\\site-packages\\sklearn\\svm\\base.py:929: ConvergenceWarning:\n",
      "\n",
      "Liblinear failed to converge, increase the number of iterations.\n",
      "\n",
      "c:\\python36\\lib\\site-packages\\sklearn\\svm\\base.py:929: ConvergenceWarning:\n",
      "\n",
      "Liblinear failed to converge, increase the number of iterations.\n",
      "\n",
      "c:\\python36\\lib\\site-packages\\sklearn\\linear_model\\logistic.py:432: FutureWarning:\n",
      "\n",
      "Default solver will be changed to 'lbfgs' in 0.22. Specify a solver to silence this warning.\n",
      "\n"
     ]
    },
    {
     "name": "stdout",
     "output_type": "stream",
     "text": [
      "1 / 5\n"
     ]
    },
    {
     "name": "stderr",
     "output_type": "stream",
     "text": [
      "c:\\python36\\lib\\site-packages\\sklearn\\svm\\base.py:929: ConvergenceWarning:\n",
      "\n",
      "Liblinear failed to converge, increase the number of iterations.\n",
      "\n",
      "c:\\python36\\lib\\site-packages\\sklearn\\svm\\base.py:929: ConvergenceWarning:\n",
      "\n",
      "Liblinear failed to converge, increase the number of iterations.\n",
      "\n"
     ]
    },
    {
     "name": "stdout",
     "output_type": "stream",
     "text": [
      "2 / 5\n"
     ]
    },
    {
     "name": "stderr",
     "output_type": "stream",
     "text": [
      "c:\\python36\\lib\\site-packages\\sklearn\\svm\\base.py:929: ConvergenceWarning:\n",
      "\n",
      "Liblinear failed to converge, increase the number of iterations.\n",
      "\n",
      "c:\\python36\\lib\\site-packages\\sklearn\\svm\\base.py:929: ConvergenceWarning:\n",
      "\n",
      "Liblinear failed to converge, increase the number of iterations.\n",
      "\n"
     ]
    },
    {
     "name": "stdout",
     "output_type": "stream",
     "text": [
      "3 / 5\n"
     ]
    },
    {
     "name": "stderr",
     "output_type": "stream",
     "text": [
      "c:\\python36\\lib\\site-packages\\sklearn\\svm\\base.py:929: ConvergenceWarning:\n",
      "\n",
      "Liblinear failed to converge, increase the number of iterations.\n",
      "\n",
      "c:\\python36\\lib\\site-packages\\sklearn\\svm\\base.py:929: ConvergenceWarning:\n",
      "\n",
      "Liblinear failed to converge, increase the number of iterations.\n",
      "\n"
     ]
    },
    {
     "name": "stdout",
     "output_type": "stream",
     "text": [
      "4 / 5\n"
     ]
    },
    {
     "name": "stderr",
     "output_type": "stream",
     "text": [
      "c:\\python36\\lib\\site-packages\\sklearn\\svm\\base.py:929: ConvergenceWarning:\n",
      "\n",
      "Liblinear failed to converge, increase the number of iterations.\n",
      "\n",
      "c:\\python36\\lib\\site-packages\\sklearn\\svm\\base.py:929: ConvergenceWarning:\n",
      "\n",
      "Liblinear failed to converge, increase the number of iterations.\n",
      "\n"
     ]
    },
    {
     "name": "stdout",
     "output_type": "stream",
     "text": [
      "5 / 5\n"
     ]
    },
    {
     "name": "stderr",
     "output_type": "stream",
     "text": [
      "c:\\python36\\lib\\site-packages\\sklearn\\svm\\base.py:929: ConvergenceWarning:\n",
      "\n",
      "Liblinear failed to converge, increase the number of iterations.\n",
      "\n",
      "c:\\python36\\lib\\site-packages\\sklearn\\svm\\base.py:929: ConvergenceWarning:\n",
      "\n",
      "Liblinear failed to converge, increase the number of iterations.\n",
      "\n",
      "c:\\python36\\lib\\site-packages\\sklearn\\linear_model\\logistic.py:432: FutureWarning:\n",
      "\n",
      "Default solver will be changed to 'lbfgs' in 0.22. Specify a solver to silence this warning.\n",
      "\n"
     ]
    },
    {
     "name": "stdout",
     "output_type": "stream",
     "text": [
      "1 / 5\n"
     ]
    },
    {
     "name": "stderr",
     "output_type": "stream",
     "text": [
      "c:\\python36\\lib\\site-packages\\sklearn\\svm\\base.py:929: ConvergenceWarning:\n",
      "\n",
      "Liblinear failed to converge, increase the number of iterations.\n",
      "\n"
     ]
    },
    {
     "name": "stdout",
     "output_type": "stream",
     "text": [
      "2 / 5\n"
     ]
    },
    {
     "name": "stderr",
     "output_type": "stream",
     "text": [
      "c:\\python36\\lib\\site-packages\\sklearn\\svm\\base.py:929: ConvergenceWarning:\n",
      "\n",
      "Liblinear failed to converge, increase the number of iterations.\n",
      "\n",
      "c:\\python36\\lib\\site-packages\\sklearn\\svm\\base.py:929: ConvergenceWarning:\n",
      "\n",
      "Liblinear failed to converge, increase the number of iterations.\n",
      "\n"
     ]
    },
    {
     "name": "stdout",
     "output_type": "stream",
     "text": [
      "3 / 5\n"
     ]
    },
    {
     "name": "stderr",
     "output_type": "stream",
     "text": [
      "c:\\python36\\lib\\site-packages\\sklearn\\svm\\base.py:929: ConvergenceWarning:\n",
      "\n",
      "Liblinear failed to converge, increase the number of iterations.\n",
      "\n",
      "c:\\python36\\lib\\site-packages\\sklearn\\svm\\base.py:929: ConvergenceWarning:\n",
      "\n",
      "Liblinear failed to converge, increase the number of iterations.\n",
      "\n"
     ]
    },
    {
     "name": "stdout",
     "output_type": "stream",
     "text": [
      "4 / 5\n"
     ]
    },
    {
     "name": "stderr",
     "output_type": "stream",
     "text": [
      "c:\\python36\\lib\\site-packages\\sklearn\\svm\\base.py:929: ConvergenceWarning:\n",
      "\n",
      "Liblinear failed to converge, increase the number of iterations.\n",
      "\n",
      "c:\\python36\\lib\\site-packages\\sklearn\\svm\\base.py:929: ConvergenceWarning:\n",
      "\n",
      "Liblinear failed to converge, increase the number of iterations.\n",
      "\n"
     ]
    },
    {
     "name": "stdout",
     "output_type": "stream",
     "text": [
      "5 / 5\n"
     ]
    },
    {
     "name": "stderr",
     "output_type": "stream",
     "text": [
      "c:\\python36\\lib\\site-packages\\sklearn\\svm\\base.py:929: ConvergenceWarning:\n",
      "\n",
      "Liblinear failed to converge, increase the number of iterations.\n",
      "\n",
      "c:\\python36\\lib\\site-packages\\sklearn\\svm\\base.py:929: ConvergenceWarning:\n",
      "\n",
      "Liblinear failed to converge, increase the number of iterations.\n",
      "\n",
      "c:\\python36\\lib\\site-packages\\sklearn\\linear_model\\logistic.py:432: FutureWarning:\n",
      "\n",
      "Default solver will be changed to 'lbfgs' in 0.22. Specify a solver to silence this warning.\n",
      "\n"
     ]
    },
    {
     "name": "stdout",
     "output_type": "stream",
     "text": [
      "------------------------------------------------------------------------------------------------\n",
      "REPORT\n",
      "P07\n",
      "              precision    recall  f1-score   support\n",
      "\n",
      "        Rest       0.50      0.18      0.27        22\n",
      "    HandOpen       0.29      0.33      0.31        21\n",
      " PalmarGrasp       0.27      0.14      0.18        22\n",
      "LateralGrasp       0.30      0.59      0.39        22\n",
      "\n",
      "    accuracy                           0.31        87\n",
      "   macro avg       0.34      0.31      0.29        87\n",
      "weighted avg       0.34      0.31      0.29        87\n",
      "\n",
      "              precision    recall  f1-score   support\n",
      "\n",
      "        Rest       0.81      0.26      0.39        50\n",
      "    HandOpen       0.31      0.37      0.34        51\n",
      " PalmarGrasp       0.50      0.42      0.46        50\n",
      "LateralGrasp       0.30      0.50      0.38        50\n",
      "\n",
      "    accuracy                           0.39       201\n",
      "   macro avg       0.48      0.39      0.39       201\n",
      "weighted avg       0.48      0.39      0.39       201\n",
      "\n",
      "------------------------------------------------------------------------------------------------\n",
      "Extracting EDF parameters from D:\\DESARROLLO_PROYECTO_DOCTORADO\\pySTMM\\examples\\P08\\P08 Run 1.gdf...\n",
      "GDF file detected\n",
      "Setting channel info structure...\n",
      "Creating raw.info structure...\n",
      "Reading 0 ... 22015  =      0.000 ...    85.996 secs...\n",
      "Extracting EDF parameters from D:\\DESARROLLO_PROYECTO_DOCTORADO\\pySTMM\\examples\\P08\\P08 Run 10.gdf...\n",
      "GDF file detected\n"
     ]
    },
    {
     "name": "stderr",
     "output_type": "stream",
     "text": [
      "c:\\python36\\lib\\site-packages\\mne\\io\\edf\\edf.py:1047: DeprecationWarning:\n",
      "\n",
      "The binary mode of fromstring is deprecated, as it behaves surprisingly on unicode inputs. Use frombuffer instead\n",
      "\n"
     ]
    },
    {
     "name": "stdout",
     "output_type": "stream",
     "text": [
      "Setting channel info structure...\n",
      "Creating raw.info structure...\n",
      "Reading 0 ... 77055  =      0.000 ...   300.996 secs...\n"
     ]
    },
    {
     "name": "stderr",
     "output_type": "stream",
     "text": [
      "c:\\python36\\lib\\site-packages\\mne\\io\\edf\\edf.py:1047: DeprecationWarning:\n",
      "\n",
      "The binary mode of fromstring is deprecated, as it behaves surprisingly on unicode inputs. Use frombuffer instead\n",
      "\n"
     ]
    },
    {
     "name": "stdout",
     "output_type": "stream",
     "text": [
      "Extracting EDF parameters from D:\\DESARROLLO_PROYECTO_DOCTORADO\\pySTMM\\examples\\P08\\P08 Run 11.gdf...\n",
      "GDF file detected\n",
      "Setting channel info structure...\n",
      "Creating raw.info structure...\n",
      "Reading 0 ... 77823  =      0.000 ...   303.996 secs...\n",
      "Extracting EDF parameters from D:\\DESARROLLO_PROYECTO_DOCTORADO\\pySTMM\\examples\\P08\\P08 Run 12.gdf...\n",
      "GDF file detected\n",
      "Setting channel info structure...\n",
      "Creating raw.info structure...\n",
      "Reading 0 ... 77311  =      0.000 ...   301.996 secs...\n"
     ]
    },
    {
     "name": "stderr",
     "output_type": "stream",
     "text": [
      "c:\\python36\\lib\\site-packages\\mne\\io\\edf\\edf.py:1047: DeprecationWarning:\n",
      "\n",
      "The binary mode of fromstring is deprecated, as it behaves surprisingly on unicode inputs. Use frombuffer instead\n",
      "\n",
      "c:\\python36\\lib\\site-packages\\mne\\io\\edf\\edf.py:1047: DeprecationWarning:\n",
      "\n",
      "The binary mode of fromstring is deprecated, as it behaves surprisingly on unicode inputs. Use frombuffer instead\n",
      "\n"
     ]
    },
    {
     "name": "stdout",
     "output_type": "stream",
     "text": [
      "Extracting EDF parameters from D:\\DESARROLLO_PROYECTO_DOCTORADO\\pySTMM\\examples\\P08\\P08 Run 13.gdf...\n",
      "GDF file detected\n",
      "Setting channel info structure...\n",
      "Creating raw.info structure...\n",
      "Reading 0 ... 78847  =      0.000 ...   307.996 secs...\n",
      "Extracting EDF parameters from D:\\DESARROLLO_PROYECTO_DOCTORADO\\pySTMM\\examples\\P08\\P08 Run 14.gdf...\n",
      "GDF file detected\n",
      "Setting channel info structure...\n",
      "Creating raw.info structure...\n",
      "Reading 0 ... 22015  =      0.000 ...    85.996 secs...\n",
      "Extracting EDF parameters from D:\\DESARROLLO_PROYECTO_DOCTORADO\\pySTMM\\examples\\P08\\P08 Run 15.gdf...\n",
      "GDF file detected\n",
      "Setting channel info structure...\n",
      "Creating raw.info structure...\n",
      "Reading 0 ... 23295  =      0.000 ...    90.996 secs...\n"
     ]
    },
    {
     "name": "stderr",
     "output_type": "stream",
     "text": [
      "c:\\python36\\lib\\site-packages\\mne\\io\\edf\\edf.py:1047: DeprecationWarning:\n",
      "\n",
      "The binary mode of fromstring is deprecated, as it behaves surprisingly on unicode inputs. Use frombuffer instead\n",
      "\n",
      "c:\\python36\\lib\\site-packages\\mne\\io\\edf\\edf.py:1047: DeprecationWarning:\n",
      "\n",
      "The binary mode of fromstring is deprecated, as it behaves surprisingly on unicode inputs. Use frombuffer instead\n",
      "\n",
      "c:\\python36\\lib\\site-packages\\mne\\io\\edf\\edf.py:1047: DeprecationWarning:\n",
      "\n",
      "The binary mode of fromstring is deprecated, as it behaves surprisingly on unicode inputs. Use frombuffer instead\n",
      "\n"
     ]
    },
    {
     "name": "stdout",
     "output_type": "stream",
     "text": [
      "Extracting EDF parameters from D:\\DESARROLLO_PROYECTO_DOCTORADO\\pySTMM\\examples\\P08\\P08 Run 2.gdf...\n",
      "GDF file detected\n",
      "Setting channel info structure...\n",
      "Creating raw.info structure...\n",
      "Reading 0 ... 23295  =      0.000 ...    90.996 secs...\n",
      "Extracting EDF parameters from D:\\DESARROLLO_PROYECTO_DOCTORADO\\pySTMM\\examples\\P08\\P08 Run 3.gdf...\n",
      "GDF file detected\n",
      "Setting channel info structure...\n",
      "Creating raw.info structure...\n",
      "Reading 0 ... 76543  =      0.000 ...   298.996 secs...\n",
      "Extracting EDF parameters from D:\\DESARROLLO_PROYECTO_DOCTORADO\\pySTMM\\examples\\P08\\P08 Run 4.gdf...\n",
      "GDF file detected\n",
      "Setting channel info structure...\n",
      "Creating raw.info structure...\n",
      "Reading 0 ... 76799  =      0.000 ...   299.996 secs...\n"
     ]
    },
    {
     "name": "stderr",
     "output_type": "stream",
     "text": [
      "c:\\python36\\lib\\site-packages\\mne\\io\\edf\\edf.py:1047: DeprecationWarning:\n",
      "\n",
      "The binary mode of fromstring is deprecated, as it behaves surprisingly on unicode inputs. Use frombuffer instead\n",
      "\n",
      "c:\\python36\\lib\\site-packages\\mne\\io\\edf\\edf.py:1047: DeprecationWarning:\n",
      "\n",
      "The binary mode of fromstring is deprecated, as it behaves surprisingly on unicode inputs. Use frombuffer instead\n",
      "\n",
      "c:\\python36\\lib\\site-packages\\mne\\io\\edf\\edf.py:1047: DeprecationWarning:\n",
      "\n",
      "The binary mode of fromstring is deprecated, as it behaves surprisingly on unicode inputs. Use frombuffer instead\n",
      "\n"
     ]
    },
    {
     "name": "stdout",
     "output_type": "stream",
     "text": [
      "Extracting EDF parameters from D:\\DESARROLLO_PROYECTO_DOCTORADO\\pySTMM\\examples\\P08\\P08 Run 5.gdf...\n",
      "GDF file detected\n",
      "Setting channel info structure...\n",
      "Creating raw.info structure...\n",
      "Reading 0 ... 76031  =      0.000 ...   296.996 secs...\n",
      "Extracting EDF parameters from D:\\DESARROLLO_PROYECTO_DOCTORADO\\pySTMM\\examples\\P08\\P08 Run 6.gdf...\n",
      "GDF file detected\n"
     ]
    },
    {
     "name": "stderr",
     "output_type": "stream",
     "text": [
      "c:\\python36\\lib\\site-packages\\mne\\io\\edf\\edf.py:1047: DeprecationWarning:\n",
      "\n",
      "The binary mode of fromstring is deprecated, as it behaves surprisingly on unicode inputs. Use frombuffer instead\n",
      "\n"
     ]
    },
    {
     "name": "stdout",
     "output_type": "stream",
     "text": [
      "Setting channel info structure...\n",
      "Creating raw.info structure...\n",
      "Reading 0 ... 77055  =      0.000 ...   300.996 secs...\n",
      "Extracting EDF parameters from D:\\DESARROLLO_PROYECTO_DOCTORADO\\pySTMM\\examples\\P08\\P08 Run 7.gdf...\n",
      "GDF file detected\n",
      "Setting channel info structure...\n",
      "Creating raw.info structure...\n",
      "Reading 0 ... 77823  =      0.000 ...   303.996 secs...\n"
     ]
    },
    {
     "name": "stderr",
     "output_type": "stream",
     "text": [
      "c:\\python36\\lib\\site-packages\\mne\\io\\edf\\edf.py:1047: DeprecationWarning:\n",
      "\n",
      "The binary mode of fromstring is deprecated, as it behaves surprisingly on unicode inputs. Use frombuffer instead\n",
      "\n",
      "c:\\python36\\lib\\site-packages\\mne\\io\\edf\\edf.py:1047: DeprecationWarning:\n",
      "\n",
      "The binary mode of fromstring is deprecated, as it behaves surprisingly on unicode inputs. Use frombuffer instead\n",
      "\n"
     ]
    },
    {
     "name": "stdout",
     "output_type": "stream",
     "text": [
      "Extracting EDF parameters from D:\\DESARROLLO_PROYECTO_DOCTORADO\\pySTMM\\examples\\P08\\P08 Run 8.gdf...\n",
      "GDF file detected\n",
      "Setting channel info structure...\n",
      "Creating raw.info structure...\n",
      "Reading 0 ... 22015  =      0.000 ...    85.996 secs...\n",
      "Extracting EDF parameters from D:\\DESARROLLO_PROYECTO_DOCTORADO\\pySTMM\\examples\\P08\\P08 Run 9.gdf...\n",
      "GDF file detected\n",
      "Setting channel info structure...\n",
      "Creating raw.info structure...\n",
      "Reading 0 ... 23295  =      0.000 ...    90.996 secs...\n"
     ]
    },
    {
     "name": "stderr",
     "output_type": "stream",
     "text": [
      "c:\\python36\\lib\\site-packages\\mne\\io\\edf\\edf.py:1047: DeprecationWarning:\n",
      "\n",
      "The binary mode of fromstring is deprecated, as it behaves surprisingly on unicode inputs. Use frombuffer instead\n",
      "\n",
      "c:\\python36\\lib\\site-packages\\mne\\io\\edf\\edf.py:1047: DeprecationWarning:\n",
      "\n",
      "The binary mode of fromstring is deprecated, as it behaves surprisingly on unicode inputs. Use frombuffer instead\n",
      "\n"
     ]
    },
    {
     "name": "stdout",
     "output_type": "stream",
     "text": [
      "Extracting EDF parameters from D:\\DESARROLLO_PROYECTO_DOCTORADO\\pySTMM\\examples\\P08\\P08 Run 1.gdf...\n",
      "GDF file detected\n",
      "Setting channel info structure...\n",
      "Creating raw.info structure...\n"
     ]
    },
    {
     "name": "stderr",
     "output_type": "stream",
     "text": [
      "c:\\python36\\lib\\site-packages\\mne\\io\\edf\\edf.py:1047: DeprecationWarning:\n",
      "\n",
      "The binary mode of fromstring is deprecated, as it behaves surprisingly on unicode inputs. Use frombuffer instead\n",
      "\n"
     ]
    },
    {
     "name": "stdout",
     "output_type": "stream",
     "text": [
      "Used Annotations descriptions: ['33536', '768', '785']\n",
      "Extracting EDF parameters from D:\\DESARROLLO_PROYECTO_DOCTORADO\\pySTMM\\examples\\P08\\P08 Run 2.gdf...\n",
      "GDF file detected\n",
      "Setting channel info structure...\n",
      "Creating raw.info structure...\n",
      "Used Annotations descriptions: ['33536', '33554', '768', '785', '786']\n",
      "Extracting EDF parameters from D:\\DESARROLLO_PROYECTO_DOCTORADO\\pySTMM\\examples\\P08\\P08 Run 3.gdf...\n",
      "GDF file detected\n",
      "Setting channel info structure...\n",
      "Creating raw.info structure...\n"
     ]
    },
    {
     "name": "stderr",
     "output_type": "stream",
     "text": [
      "c:\\python36\\lib\\site-packages\\mne\\io\\edf\\edf.py:1047: DeprecationWarning:\n",
      "\n",
      "The binary mode of fromstring is deprecated, as it behaves surprisingly on unicode inputs. Use frombuffer instead\n",
      "\n",
      "c:\\python36\\lib\\site-packages\\mne\\io\\edf\\edf.py:1047: DeprecationWarning:\n",
      "\n",
      "The binary mode of fromstring is deprecated, as it behaves surprisingly on unicode inputs. Use frombuffer instead\n",
      "\n"
     ]
    },
    {
     "name": "stdout",
     "output_type": "stream",
     "text": [
      "Used Annotations descriptions: ['33536', '33544', '33545', '33547', '33554', '33693', '33694', '768', '776', '777', '779', '785', '786', '925', '926']\n",
      "Extracting EDF parameters from D:\\DESARROLLO_PROYECTO_DOCTORADO\\pySTMM\\examples\\P08\\P08 Run 4.gdf...\n",
      "GDF file detected\n",
      "Setting channel info structure...\n",
      "Creating raw.info structure...\n"
     ]
    },
    {
     "name": "stderr",
     "output_type": "stream",
     "text": [
      "c:\\python36\\lib\\site-packages\\mne\\io\\edf\\edf.py:1047: DeprecationWarning:\n",
      "\n",
      "The binary mode of fromstring is deprecated, as it behaves surprisingly on unicode inputs. Use frombuffer instead\n",
      "\n"
     ]
    },
    {
     "name": "stdout",
     "output_type": "stream",
     "text": [
      "Used Annotations descriptions: ['33536', '33544', '33545', '33547', '33554', '33693', '33694', '768', '776', '777', '779', '785', '786', '925', '926']\n",
      "Extracting EDF parameters from D:\\DESARROLLO_PROYECTO_DOCTORADO\\pySTMM\\examples\\P08\\P08 Run 5.gdf...\n",
      "GDF file detected\n",
      "Setting channel info structure...\n",
      "Creating raw.info structure...\n"
     ]
    },
    {
     "name": "stderr",
     "output_type": "stream",
     "text": [
      "c:\\python36\\lib\\site-packages\\mne\\io\\edf\\edf.py:1047: DeprecationWarning:\n",
      "\n",
      "The binary mode of fromstring is deprecated, as it behaves surprisingly on unicode inputs. Use frombuffer instead\n",
      "\n"
     ]
    },
    {
     "name": "stdout",
     "output_type": "stream",
     "text": [
      "Used Annotations descriptions: ['33536', '33544', '33545', '33547', '33554', '33693', '33694', '768', '776', '777', '779', '785', '786', '925', '926']\n",
      "Extracting EDF parameters from D:\\DESARROLLO_PROYECTO_DOCTORADO\\pySTMM\\examples\\P08\\P08 Run 6.gdf...\n",
      "GDF file detected\n",
      "Setting channel info structure...\n",
      "Creating raw.info structure...\n",
      "Used Annotations descriptions: ['33536', '33544', '33545', '33547', '33554', '33693', '33694', '768', '776', '777', '779', '785', '786', '925', '926']\n"
     ]
    },
    {
     "name": "stderr",
     "output_type": "stream",
     "text": [
      "c:\\python36\\lib\\site-packages\\mne\\io\\edf\\edf.py:1047: DeprecationWarning:\n",
      "\n",
      "The binary mode of fromstring is deprecated, as it behaves surprisingly on unicode inputs. Use frombuffer instead\n",
      "\n"
     ]
    },
    {
     "name": "stdout",
     "output_type": "stream",
     "text": [
      "Extracting EDF parameters from D:\\DESARROLLO_PROYECTO_DOCTORADO\\pySTMM\\examples\\P08\\P08 Run 7.gdf...\n",
      "GDF file detected\n",
      "Setting channel info structure...\n",
      "Creating raw.info structure...\n"
     ]
    },
    {
     "name": "stderr",
     "output_type": "stream",
     "text": [
      "c:\\python36\\lib\\site-packages\\mne\\io\\edf\\edf.py:1047: DeprecationWarning:\n",
      "\n",
      "The binary mode of fromstring is deprecated, as it behaves surprisingly on unicode inputs. Use frombuffer instead\n",
      "\n"
     ]
    },
    {
     "name": "stdout",
     "output_type": "stream",
     "text": [
      "Used Annotations descriptions: ['33536', '33544', '33545', '33547', '33554', '33693', '33694', '768', '776', '777', '779', '785', '786', '925', '926']\n",
      "Extracting EDF parameters from D:\\DESARROLLO_PROYECTO_DOCTORADO\\pySTMM\\examples\\P08\\P08 Run 8.gdf...\n",
      "GDF file detected\n",
      "Setting channel info structure...\n",
      "Creating raw.info structure...\n",
      "Used Annotations descriptions: ['33536', '768', '785']\n",
      "Extracting EDF parameters from D:\\DESARROLLO_PROYECTO_DOCTORADO\\pySTMM\\examples\\P08\\P08 Run 9.gdf...\n",
      "GDF file detected\n",
      "Setting channel info structure...\n",
      "Creating raw.info structure...\n"
     ]
    },
    {
     "name": "stderr",
     "output_type": "stream",
     "text": [
      "c:\\python36\\lib\\site-packages\\mne\\io\\edf\\edf.py:1047: DeprecationWarning:\n",
      "\n",
      "The binary mode of fromstring is deprecated, as it behaves surprisingly on unicode inputs. Use frombuffer instead\n",
      "\n",
      "c:\\python36\\lib\\site-packages\\mne\\io\\edf\\edf.py:1047: DeprecationWarning:\n",
      "\n",
      "The binary mode of fromstring is deprecated, as it behaves surprisingly on unicode inputs. Use frombuffer instead\n",
      "\n"
     ]
    },
    {
     "name": "stdout",
     "output_type": "stream",
     "text": [
      "Used Annotations descriptions: ['33536', '33554', '768', '785', '786']\n",
      "Extracting EDF parameters from D:\\DESARROLLO_PROYECTO_DOCTORADO\\pySTMM\\examples\\P08\\P08 Run 10.gdf...\n",
      "GDF file detected\n",
      "Setting channel info structure...\n",
      "Creating raw.info structure...\n"
     ]
    },
    {
     "name": "stderr",
     "output_type": "stream",
     "text": [
      "c:\\python36\\lib\\site-packages\\mne\\io\\edf\\edf.py:1047: DeprecationWarning:\n",
      "\n",
      "The binary mode of fromstring is deprecated, as it behaves surprisingly on unicode inputs. Use frombuffer instead\n",
      "\n"
     ]
    },
    {
     "name": "stdout",
     "output_type": "stream",
     "text": [
      "Used Annotations descriptions: ['33536', '33544', '33545', '33547', '33554', '33693', '33694', '768', '776', '777', '779', '785', '786', '925', '926']\n",
      "Extracting EDF parameters from D:\\DESARROLLO_PROYECTO_DOCTORADO\\pySTMM\\examples\\P08\\P08 Run 11.gdf...\n",
      "GDF file detected\n",
      "Setting channel info structure...\n",
      "Creating raw.info structure...\n"
     ]
    },
    {
     "name": "stderr",
     "output_type": "stream",
     "text": [
      "c:\\python36\\lib\\site-packages\\mne\\io\\edf\\edf.py:1047: DeprecationWarning:\n",
      "\n",
      "The binary mode of fromstring is deprecated, as it behaves surprisingly on unicode inputs. Use frombuffer instead\n",
      "\n"
     ]
    },
    {
     "name": "stdout",
     "output_type": "stream",
     "text": [
      "Used Annotations descriptions: ['33536', '33544', '33545', '33547', '33554', '33693', '33694', '768', '776', '777', '779', '785', '786', '925', '926']\n",
      "Extracting EDF parameters from D:\\DESARROLLO_PROYECTO_DOCTORADO\\pySTMM\\examples\\P08\\P08 Run 12.gdf...\n",
      "GDF file detected\n",
      "Setting channel info structure...\n",
      "Creating raw.info structure...\n"
     ]
    },
    {
     "name": "stderr",
     "output_type": "stream",
     "text": [
      "c:\\python36\\lib\\site-packages\\mne\\io\\edf\\edf.py:1047: DeprecationWarning:\n",
      "\n",
      "The binary mode of fromstring is deprecated, as it behaves surprisingly on unicode inputs. Use frombuffer instead\n",
      "\n"
     ]
    },
    {
     "name": "stdout",
     "output_type": "stream",
     "text": [
      "Used Annotations descriptions: ['33536', '33544', '33545', '33547', '33554', '33693', '33694', '768', '776', '777', '779', '785', '786', '925', '926']\n",
      "Extracting EDF parameters from D:\\DESARROLLO_PROYECTO_DOCTORADO\\pySTMM\\examples\\P08\\P08 Run 13.gdf...\n",
      "GDF file detected\n",
      "Setting channel info structure...\n",
      "Creating raw.info structure...\n"
     ]
    },
    {
     "name": "stderr",
     "output_type": "stream",
     "text": [
      "c:\\python36\\lib\\site-packages\\mne\\io\\edf\\edf.py:1047: DeprecationWarning:\n",
      "\n",
      "The binary mode of fromstring is deprecated, as it behaves surprisingly on unicode inputs. Use frombuffer instead\n",
      "\n"
     ]
    },
    {
     "name": "stdout",
     "output_type": "stream",
     "text": [
      "Used Annotations descriptions: ['33536', '33544', '33545', '33547', '33554', '33693', '33694', '768', '776', '777', '779', '785', '786', '925', '926']\n",
      "Extracting EDF parameters from D:\\DESARROLLO_PROYECTO_DOCTORADO\\pySTMM\\examples\\P08\\P08 Run 14.gdf...\n",
      "GDF file detected\n",
      "Setting channel info structure...\n",
      "Creating raw.info structure...\n",
      "Used Annotations descriptions: ['33536', '768', '785']\n",
      "Extracting EDF parameters from D:\\DESARROLLO_PROYECTO_DOCTORADO\\pySTMM\\examples\\P08\\P08 Run 15.gdf...\n",
      "GDF file detected\n",
      "Setting channel info structure...\n",
      "Creating raw.info structure...\n"
     ]
    },
    {
     "name": "stderr",
     "output_type": "stream",
     "text": [
      "c:\\python36\\lib\\site-packages\\mne\\io\\edf\\edf.py:1047: DeprecationWarning:\n",
      "\n",
      "The binary mode of fromstring is deprecated, as it behaves surprisingly on unicode inputs. Use frombuffer instead\n",
      "\n",
      "c:\\python36\\lib\\site-packages\\mne\\io\\edf\\edf.py:1047: DeprecationWarning:\n",
      "\n",
      "The binary mode of fromstring is deprecated, as it behaves surprisingly on unicode inputs. Use frombuffer instead\n",
      "\n"
     ]
    },
    {
     "name": "stdout",
     "output_type": "stream",
     "text": [
      "Used Annotations descriptions: ['33536', '33554', '768', '785', '786']\n",
      "Report on REST:\n",
      "Total samples = 69129\n",
      "Sampling frequency (Hz) = 256\n",
      "Signal duration (s) = 270.04\n",
      "Signal duration (min) = 4.50\n",
      "Total trial start events = 3\n",
      "Indexes (sample) = [2560, 25603, 48646]\n",
      "Times (s) = [10.0, 100.01171875, 190.0234375]\n",
      "Duration between consecutive ones (s) = [90.01171875, 90.01171875]\n",
      "[10.5, 13.0, 15.5, 18.0, 20.5, 23.0, 25.5, 28.0, 30.5, 33.0, 35.5, 38.0, 40.5, 43.0, 45.5, 48.0, 50.5, 53.0, 55.5, 58.0, 60.5, 63.0, 65.5, 68.0, 100.51171875, 103.01171875, 105.51171875, 108.01171875, 110.51171875, 113.01171875, 115.51171875, 118.01171875, 120.51171875, 123.01171875, 125.51171875, 128.01171875, 130.51171875, 133.01171875, 135.51171875, 138.01171875, 140.51171875, 143.01171875, 145.51171875, 148.01171875, 150.51171875, 153.01171875, 155.51171875, 158.01171875, 190.5234375, 193.0234375, 195.5234375, 198.0234375, 200.5234375, 203.0234375, 205.5234375, 208.0234375, 210.5234375, 213.0234375, 215.5234375, 218.0234375, 220.5234375, 223.0234375, 225.5234375, 228.0234375, 230.5234375, 233.0234375, 235.5234375, 238.0234375, 240.5234375, 243.0234375, 245.5234375, 248.0234375]\n",
      "[15.50390625, 18.00390625, 20.50390625, 23.00390625, 25.50390625, 28.00390625, 30.50390625, 33.00390625, 35.50390625, 38.00390625, 40.50390625, 43.00390625, 45.50390625, 48.00390625, 50.50390625, 53.00390625, 55.50390625, 58.00390625, 60.50390625, 63.00390625, 65.50390625, 68.00390625, 70.50390625, 73.00390625, 105.515625, 108.015625, 110.515625, 113.015625, 115.515625, 118.015625, 120.515625, 123.015625, 125.515625, 128.015625, 130.515625, 133.015625, 135.515625, 138.015625, 140.515625, 143.015625, 145.515625, 148.015625, 150.515625, 153.015625, 155.515625, 158.015625, 160.515625, 163.015625, 195.52734375, 198.02734375, 200.52734375, 203.02734375, 205.52734375, 208.02734375, 210.52734375, 213.02734375, 215.52734375, 218.02734375, 220.52734375, 223.02734375, 225.52734375, 228.02734375, 230.52734375, 233.02734375, 235.52734375, 238.02734375, 240.52734375, 243.02734375, 245.52734375, 248.02734375, 250.52734375, 253.02734375]\n",
      "Report on: HandOpenClassCue\n",
      "Total samples = 694323\n",
      "Sampling frequency (Hz) = 256\n",
      "Signal duration (s) = 2712.20\n",
      "Signal duration (min) = 45.20\n",
      "Total HandOpenClassCue events = 72\n",
      "Indexes (sample) = [21023, 22592, 25864, 40223, 41878, 45467, 49034, 54248, 109591, 121946, 123874, 129077, 134204, 138020, 145550, 149119, 170851, 176164, 181736, 190250, 195622, 201094, 204615, 209982, 235586, 248353, 268149, 277089, 285889, 294964, 298398, 300290, 318395, 320090, 327421, 336568, 349147, 365415, 367457, 369250, 398615, 409243, 420176, 434298, 438373, 440409, 445495, 452991, 467389, 469344, 492801, 516154, 519746, 523384, 525407, 530813, 550037, 553698, 568569, 571950, 586146, 591929, 595819, 608456, 618607, 623947, 635131, 653787, 655606, 682820, 688542, 690319]\n",
      "Times (s) = [82.12109375, 88.25, 101.03125, 157.12109375, 163.5859375, 177.60546875, 191.5390625, 211.90625, 428.08984375, 476.3515625, 483.8828125, 504.20703125, 524.234375, 539.140625, 568.5546875, 582.49609375, 667.38671875, 688.140625, 709.90625, 743.1640625, 764.1484375, 785.5234375, 799.27734375, 820.2421875, 920.2578125, 970.12890625, 1047.45703125, 1082.37890625, 1116.75390625, 1152.203125, 1165.6171875, 1173.0078125, 1243.73046875, 1250.3515625, 1278.98828125, 1314.71875, 1363.85546875, 1427.40234375, 1435.37890625, 1442.3828125, 1557.08984375, 1598.60546875, 1641.3125, 1696.4765625, 1712.39453125, 1720.34765625, 1740.21484375, 1769.49609375, 1825.73828125, 1833.375, 1925.00390625, 2016.2265625, 2030.2578125, 2044.46875, 2052.37109375, 2073.48828125, 2148.58203125, 2162.8828125, 2220.97265625, 2234.1796875, 2289.6328125, 2312.22265625, 2327.41796875, 2376.78125, 2416.43359375, 2437.29296875, 2480.98046875, 2553.85546875, 2560.9609375, 2667.265625, 2689.6171875, 2696.55859375]\n",
      "Duration between consecutive ones (s) = [6.12890625, 12.78125, 56.08984375, 6.46484375, 14.01953125, 13.93359375, 20.3671875, 216.18359375, 48.26171875, 7.53125, 20.32421875, 20.02734375, 14.90625, 29.4140625, 13.94140625, 84.890625, 20.75390625, 21.765625, 33.2578125, 20.984375, 21.375, 13.75390625, 20.96484375, 100.015625, 49.87109375, 77.328125, 34.921875, 34.375, 35.44921875, 13.4140625, 7.390625, 70.72265625, 6.62109375, 28.63671875, 35.73046875, 49.13671875, 63.546875, 7.9765625, 7.00390625, 114.70703125, 41.515625, 42.70703125, 55.1640625, 15.91796875, 7.953125, 19.8671875, 29.28125, 56.2421875, 7.63671875, 91.62890625, 91.22265625, 14.03125, 14.2109375, 7.90234375, 21.1171875, 75.09375, 14.30078125, 58.08984375, 13.20703125, 55.453125, 22.58984375, 15.1953125, 49.36328125, 39.65234375, 20.859375, 43.6875, 72.875, 7.10546875, 106.3046875, 22.3515625, 6.94140625]\n",
      "[80.12109375, 86.25, 99.03125, 155.12109375, 161.5859375, 175.60546875, 189.5390625, 209.90625, 426.08984375, 474.3515625, 481.8828125, 502.20703125, 522.234375, 537.140625, 566.5546875, 580.49609375, 665.38671875, 686.140625, 707.90625, 741.1640625, 762.1484375, 783.5234375, 797.27734375, 818.2421875, 918.2578125, 968.12890625, 1045.45703125, 1080.37890625, 1114.75390625, 1150.203125, 1163.6171875, 1171.0078125, 1241.73046875, 1248.3515625, 1276.98828125, 1312.71875, 1361.85546875, 1425.40234375, 1433.37890625, 1440.3828125, 1555.08984375, 1596.60546875, 1639.3125, 1694.4765625, 1710.39453125, 1718.34765625, 1738.21484375, 1767.49609375, 1823.73828125, 1831.375, 1923.00390625, 2014.2265625, 2028.2578125, 2042.46875, 2050.37109375, 2071.48828125, 2146.58203125, 2160.8828125, 2218.97265625, 2232.1796875, 2287.6328125, 2310.22265625, 2325.41796875, 2374.78125, 2414.43359375, 2435.29296875, 2478.98046875, 2551.85546875, 2558.9609375, 2665.265625, 2687.6171875, 2694.55859375]\n",
      "[85.125, 91.25390625, 104.03515625, 160.125, 166.58984375, 180.609375, 194.54296875, 214.91015625, 431.09375, 479.35546875, 486.88671875, 507.2109375, 527.23828125, 542.14453125, 571.55859375, 585.5, 670.390625, 691.14453125, 712.91015625, 746.16796875, 767.15234375, 788.52734375, 802.28125, 823.24609375, 923.26171875, 973.1328125, 1050.4609375, 1085.3828125, 1119.7578125, 1155.20703125, 1168.62109375, 1176.01171875, 1246.734375, 1253.35546875, 1281.9921875, 1317.72265625, 1366.859375, 1430.40625, 1438.3828125, 1445.38671875, 1560.09375, 1601.609375, 1644.31640625, 1699.48046875, 1715.3984375, 1723.3515625, 1743.21875, 1772.5, 1828.7421875, 1836.37890625, 1928.0078125, 2019.23046875, 2033.26171875, 2047.47265625, 2055.375, 2076.4921875, 2151.5859375, 2165.88671875, 2223.9765625, 2237.18359375, 2292.63671875, 2315.2265625, 2330.421875, 2379.78515625, 2419.4375, 2440.296875, 2483.984375, 2556.859375, 2563.96484375, 2670.26953125, 2692.62109375, 2699.5625]\n",
      "Report on: PalmarGraspClassCue\n",
      "Total samples = 694323\n",
      "Sampling frequency (Hz) = 256\n",
      "Signal duration (s) = 2712.20\n",
      "Signal duration (min) = 45.20\n",
      "Total PalmarGraspClassCue events = 72\n",
      "Indexes (sample) = [3072, 8805, 13765, 19246, 24186, 27649, 56253, 72591, 81562, 94061, 101228, 104534, 113135, 125747, 127477, 139748, 159826, 165810, 174555, 177904, 186736, 191939, 213321, 218153, 233712, 239475, 249915, 261298, 266361, 287569, 289400, 291444, 309101, 310883, 316670, 321952, 323899, 341805, 354653, 363594, 395257, 407340, 411186, 418620, 421832, 423831, 430935, 432727, 465754, 476637, 481984, 496715, 510560, 512438, 521348, 532774, 541481, 546560, 557544, 578899, 580502, 590050, 597854, 611647, 622155, 629459, 631232, 645905, 662756, 668284, 672213, 681273]\n",
      "Times (s) = [12.0, 34.39453125, 53.76953125, 75.1796875, 94.4765625, 108.00390625, 219.73828125, 283.55859375, 318.6015625, 367.42578125, 395.421875, 408.3359375, 441.93359375, 491.19921875, 497.95703125, 545.890625, 624.3203125, 647.6953125, 681.85546875, 694.9375, 729.4375, 749.76171875, 833.28515625, 852.16015625, 912.9375, 935.44921875, 976.23046875, 1020.6953125, 1040.47265625, 1123.31640625, 1130.46875, 1138.453125, 1207.42578125, 1214.38671875, 1236.9921875, 1257.625, 1265.23046875, 1335.17578125, 1385.36328125, 1420.2890625, 1543.97265625, 1591.171875, 1606.1953125, 1635.234375, 1647.78125, 1655.58984375, 1683.33984375, 1690.33984375, 1819.3515625, 1861.86328125, 1882.75, 1940.29296875, 1994.375, 2001.7109375, 2036.515625, 2081.1484375, 2115.16015625, 2135.0, 2177.90625, 2261.32421875, 2267.5859375, 2304.8828125, 2335.3671875, 2389.24609375, 2430.29296875, 2458.82421875, 2465.75, 2523.06640625, 2588.890625, 2610.484375, 2625.83203125, 2661.22265625]\n",
      "Duration between consecutive ones (s) = [22.39453125, 19.375, 21.41015625, 19.296875, 13.52734375, 111.734375, 63.8203125, 35.04296875, 48.82421875, 27.99609375, 12.9140625, 33.59765625, 49.265625, 6.7578125, 47.93359375, 78.4296875, 23.375, 34.16015625, 13.08203125, 34.5, 20.32421875, 83.5234375, 18.875, 60.77734375, 22.51171875, 40.78125, 44.46484375, 19.77734375, 82.84375, 7.15234375, 7.984375, 68.97265625, 6.9609375, 22.60546875, 20.6328125, 7.60546875, 69.9453125, 50.1875, 34.92578125, 123.68359375, 47.19921875, 15.0234375, 29.0390625, 12.546875, 7.80859375, 27.75, 7.0, 129.01171875, 42.51171875, 20.88671875, 57.54296875, 54.08203125, 7.3359375, 34.8046875, 44.6328125, 34.01171875, 19.83984375, 42.90625, 83.41796875, 6.26171875, 37.296875, 30.484375, 53.87890625, 41.046875, 28.53125, 6.92578125, 57.31640625, 65.82421875, 21.59375, 15.34765625, 35.390625]\n",
      "[10.0, 32.39453125, 51.76953125, 73.1796875, 92.4765625, 106.00390625, 217.73828125, 281.55859375, 316.6015625, 365.42578125, 393.421875, 406.3359375, 439.93359375, 489.19921875, 495.95703125, 543.890625, 622.3203125, 645.6953125, 679.85546875, 692.9375, 727.4375, 747.76171875, 831.28515625, 850.16015625, 910.9375, 933.44921875, 974.23046875, 1018.6953125, 1038.47265625, 1121.31640625, 1128.46875, 1136.453125, 1205.42578125, 1212.38671875, 1234.9921875, 1255.625, 1263.23046875, 1333.17578125, 1383.36328125, 1418.2890625, 1541.97265625, 1589.171875, 1604.1953125, 1633.234375, 1645.78125, 1653.58984375, 1681.33984375, 1688.33984375, 1817.3515625, 1859.86328125, 1880.75, 1938.29296875, 1992.375, 1999.7109375, 2034.515625, 2079.1484375, 2113.16015625, 2133.0, 2175.90625, 2259.32421875, 2265.5859375, 2302.8828125, 2333.3671875, 2387.24609375, 2428.29296875, 2456.82421875, 2463.75, 2521.06640625, 2586.890625, 2608.484375, 2623.83203125, 2659.22265625]\n",
      "[15.00390625, 37.3984375, 56.7734375, 78.18359375, 97.48046875, 111.0078125, 222.7421875, 286.5625, 321.60546875, 370.4296875, 398.42578125, 411.33984375, 444.9375, 494.203125, 500.9609375, 548.89453125, 627.32421875, 650.69921875, 684.859375, 697.94140625, 732.44140625, 752.765625, 836.2890625, 855.1640625, 915.94140625, 938.453125, 979.234375, 1023.69921875, 1043.4765625, 1126.3203125, 1133.47265625, 1141.45703125, 1210.4296875, 1217.390625, 1239.99609375, 1260.62890625, 1268.234375, 1338.1796875, 1388.3671875, 1423.29296875, 1546.9765625, 1594.17578125, 1609.19921875, 1638.23828125, 1650.78515625, 1658.59375, 1686.34375, 1693.34375, 1822.35546875, 1864.8671875, 1885.75390625, 1943.296875, 1997.37890625, 2004.71484375, 2039.51953125, 2084.15234375, 2118.1640625, 2138.00390625, 2180.91015625, 2264.328125, 2270.58984375, 2307.88671875, 2338.37109375, 2392.25, 2433.296875, 2461.828125, 2468.75390625, 2526.0703125, 2591.89453125, 2613.48828125, 2628.8359375, 2664.2265625]\n"
     ]
    },
    {
     "name": "stdout",
     "output_type": "stream",
     "text": [
      "Report on: LateralGraspClassCue\n",
      "Total samples = 694323\n",
      "Sampling frequency (Hz) = 256\n",
      "Signal duration (s) = 2712.20\n",
      "Signal duration (min) = 45.20\n",
      "Total LateralGraspClassCue events = 72\n",
      "Indexes (sample) = [5091, 6832, 11900, 17697, 34989, 50803, 52538, 66816, 90629, 92202, 95915, 107979, 111328, 141564, 143560, 147123, 156262, 169203, 172608, 183417, 188689, 202678, 208019, 211729, 241477, 244880, 259500, 262896, 269905, 271679, 273547, 280632, 325773, 333084, 338411, 340182, 352877, 357827, 374881, 378040, 391844, 400424, 402082, 425772, 427521, 436342, 447506, 454927, 463794, 480367, 491208, 498597, 501939, 505810, 514244, 527280, 544711, 548387, 555601, 559519, 564970, 577225, 604935, 606784, 625503, 627438, 636932, 647935, 651820, 664527, 666472, 670327]\n",
      "Times (s) = [19.88671875, 26.6875, 46.484375, 69.12890625, 136.67578125, 198.44921875, 205.2265625, 261.0, 354.01953125, 360.1640625, 374.66796875, 421.79296875, 434.875, 552.984375, 560.78125, 574.69921875, 610.3984375, 660.94921875, 674.25, 716.47265625, 737.06640625, 791.7109375, 812.57421875, 827.06640625, 943.26953125, 956.5625, 1013.671875, 1026.9375, 1054.31640625, 1061.24609375, 1068.54296875, 1096.21875, 1272.55078125, 1301.109375, 1321.91796875, 1328.8359375, 1378.42578125, 1397.76171875, 1464.37890625, 1476.71875, 1530.640625, 1564.15625, 1570.6328125, 1663.171875, 1670.00390625, 1704.4609375, 1748.0703125, 1777.05859375, 1811.6953125, 1876.43359375, 1918.78125, 1947.64453125, 1960.69921875, 1975.8203125, 2008.765625, 2059.6875, 2127.77734375, 2142.13671875, 2170.31640625, 2185.62109375, 2206.9140625, 2254.78515625, 2363.02734375, 2370.25, 2443.37109375, 2450.9296875, 2488.015625, 2530.99609375, 2546.171875, 2595.80859375, 2603.40625, 2618.46484375]\n",
      "Duration between consecutive ones (s) = [6.80078125, 19.796875, 22.64453125, 67.546875, 61.7734375, 6.77734375, 55.7734375, 93.01953125, 6.14453125, 14.50390625, 47.125, 13.08203125, 118.109375, 7.796875, 13.91796875, 35.69921875, 50.55078125, 13.30078125, 42.22265625, 20.59375, 54.64453125, 20.86328125, 14.4921875, 116.203125, 13.29296875, 57.109375, 13.265625, 27.37890625, 6.9296875, 7.296875, 27.67578125, 176.33203125, 28.55859375, 20.80859375, 6.91796875, 49.58984375, 19.3359375, 66.6171875, 12.33984375, 53.921875, 33.515625, 6.4765625, 92.5390625, 6.83203125, 34.45703125, 43.609375, 28.98828125, 34.63671875, 64.73828125, 42.34765625, 28.86328125, 13.0546875, 15.12109375, 32.9453125, 50.921875, 68.08984375, 14.359375, 28.1796875, 15.3046875, 21.29296875, 47.87109375, 108.2421875, 7.22265625, 73.12109375, 7.55859375, 37.0859375, 42.98046875, 15.17578125, 49.63671875, 7.59765625, 15.05859375]\n",
      "[17.88671875, 24.6875, 44.484375, 67.12890625, 134.67578125, 196.44921875, 203.2265625, 259.0, 352.01953125, 358.1640625, 372.66796875, 419.79296875, 432.875, 550.984375, 558.78125, 572.69921875, 608.3984375, 658.94921875, 672.25, 714.47265625, 735.06640625, 789.7109375, 810.57421875, 825.06640625, 941.26953125, 954.5625, 1011.671875, 1024.9375, 1052.31640625, 1059.24609375, 1066.54296875, 1094.21875, 1270.55078125, 1299.109375, 1319.91796875, 1326.8359375, 1376.42578125, 1395.76171875, 1462.37890625, 1474.71875, 1528.640625, 1562.15625, 1568.6328125, 1661.171875, 1668.00390625, 1702.4609375, 1746.0703125, 1775.05859375, 1809.6953125, 1874.43359375, 1916.78125, 1945.64453125, 1958.69921875, 1973.8203125, 2006.765625, 2057.6875, 2125.77734375, 2140.13671875, 2168.31640625, 2183.62109375, 2204.9140625, 2252.78515625, 2361.02734375, 2368.25, 2441.37109375, 2448.9296875, 2486.015625, 2528.99609375, 2544.171875, 2593.80859375, 2601.40625, 2616.46484375]\n",
      "[22.890625, 29.69140625, 49.48828125, 72.1328125, 139.6796875, 201.453125, 208.23046875, 264.00390625, 357.0234375, 363.16796875, 377.671875, 424.796875, 437.87890625, 555.98828125, 563.78515625, 577.703125, 613.40234375, 663.953125, 677.25390625, 719.4765625, 740.0703125, 794.71484375, 815.578125, 830.0703125, 946.2734375, 959.56640625, 1016.67578125, 1029.94140625, 1057.3203125, 1064.25, 1071.546875, 1099.22265625, 1275.5546875, 1304.11328125, 1324.921875, 1331.83984375, 1381.4296875, 1400.765625, 1467.3828125, 1479.72265625, 1533.64453125, 1567.16015625, 1573.63671875, 1666.17578125, 1673.0078125, 1707.46484375, 1751.07421875, 1780.0625, 1814.69921875, 1879.4375, 1921.78515625, 1950.6484375, 1963.703125, 1978.82421875, 2011.76953125, 2062.69140625, 2130.78125, 2145.140625, 2173.3203125, 2188.625, 2209.91796875, 2257.7890625, 2366.03125, 2373.25390625, 2446.375, 2453.93359375, 2491.01953125, 2534.0, 2549.17578125, 2598.8125, 2606.41015625, 2621.46875]\n",
      "maxIter  5\n",
      "ovr 10.0 10.0 5 0.0001 l2 True 0.0001 squared_hinge 100000\n",
      "1 / 5\n"
     ]
    },
    {
     "name": "stderr",
     "output_type": "stream",
     "text": [
      "c:\\python36\\lib\\site-packages\\sklearn\\svm\\base.py:929: ConvergenceWarning:\n",
      "\n",
      "Liblinear failed to converge, increase the number of iterations.\n",
      "\n"
     ]
    },
    {
     "name": "stdout",
     "output_type": "stream",
     "text": [
      "2 / 5\n"
     ]
    },
    {
     "name": "stderr",
     "output_type": "stream",
     "text": [
      "c:\\python36\\lib\\site-packages\\sklearn\\svm\\base.py:929: ConvergenceWarning:\n",
      "\n",
      "Liblinear failed to converge, increase the number of iterations.\n",
      "\n"
     ]
    },
    {
     "name": "stdout",
     "output_type": "stream",
     "text": [
      "3 / 5\n"
     ]
    },
    {
     "name": "stderr",
     "output_type": "stream",
     "text": [
      "c:\\python36\\lib\\site-packages\\sklearn\\svm\\base.py:929: ConvergenceWarning:\n",
      "\n",
      "Liblinear failed to converge, increase the number of iterations.\n",
      "\n"
     ]
    },
    {
     "name": "stdout",
     "output_type": "stream",
     "text": [
      "4 / 5\n"
     ]
    },
    {
     "name": "stderr",
     "output_type": "stream",
     "text": [
      "c:\\python36\\lib\\site-packages\\sklearn\\svm\\base.py:929: ConvergenceWarning:\n",
      "\n",
      "Liblinear failed to converge, increase the number of iterations.\n",
      "\n"
     ]
    },
    {
     "name": "stdout",
     "output_type": "stream",
     "text": [
      "5 / 5\n"
     ]
    },
    {
     "name": "stderr",
     "output_type": "stream",
     "text": [
      "c:\\python36\\lib\\site-packages\\sklearn\\svm\\base.py:929: ConvergenceWarning:\n",
      "\n",
      "Liblinear failed to converge, increase the number of iterations.\n",
      "\n",
      "c:\\python36\\lib\\site-packages\\sklearn\\linear_model\\logistic.py:432: FutureWarning:\n",
      "\n",
      "Default solver will be changed to 'lbfgs' in 0.22. Specify a solver to silence this warning.\n",
      "\n"
     ]
    },
    {
     "name": "stdout",
     "output_type": "stream",
     "text": [
      "1 / 5\n"
     ]
    },
    {
     "name": "stderr",
     "output_type": "stream",
     "text": [
      "c:\\python36\\lib\\site-packages\\sklearn\\svm\\base.py:929: ConvergenceWarning:\n",
      "\n",
      "Liblinear failed to converge, increase the number of iterations.\n",
      "\n"
     ]
    },
    {
     "name": "stdout",
     "output_type": "stream",
     "text": [
      "2 / 5\n"
     ]
    },
    {
     "name": "stderr",
     "output_type": "stream",
     "text": [
      "c:\\python36\\lib\\site-packages\\sklearn\\svm\\base.py:929: ConvergenceWarning:\n",
      "\n",
      "Liblinear failed to converge, increase the number of iterations.\n",
      "\n"
     ]
    },
    {
     "name": "stdout",
     "output_type": "stream",
     "text": [
      "3 / 5\n"
     ]
    },
    {
     "name": "stderr",
     "output_type": "stream",
     "text": [
      "c:\\python36\\lib\\site-packages\\sklearn\\svm\\base.py:929: ConvergenceWarning:\n",
      "\n",
      "Liblinear failed to converge, increase the number of iterations.\n",
      "\n"
     ]
    },
    {
     "name": "stdout",
     "output_type": "stream",
     "text": [
      "4 / 5\n"
     ]
    },
    {
     "name": "stderr",
     "output_type": "stream",
     "text": [
      "c:\\python36\\lib\\site-packages\\sklearn\\svm\\base.py:929: ConvergenceWarning:\n",
      "\n",
      "Liblinear failed to converge, increase the number of iterations.\n",
      "\n"
     ]
    },
    {
     "name": "stdout",
     "output_type": "stream",
     "text": [
      "5 / 5\n"
     ]
    },
    {
     "name": "stderr",
     "output_type": "stream",
     "text": [
      "c:\\python36\\lib\\site-packages\\sklearn\\svm\\base.py:929: ConvergenceWarning:\n",
      "\n",
      "Liblinear failed to converge, increase the number of iterations.\n",
      "\n",
      "c:\\python36\\lib\\site-packages\\sklearn\\linear_model\\logistic.py:432: FutureWarning:\n",
      "\n",
      "Default solver will be changed to 'lbfgs' in 0.22. Specify a solver to silence this warning.\n",
      "\n"
     ]
    },
    {
     "name": "stdout",
     "output_type": "stream",
     "text": [
      "1 / 5\n"
     ]
    },
    {
     "name": "stderr",
     "output_type": "stream",
     "text": [
      "c:\\python36\\lib\\site-packages\\sklearn\\svm\\base.py:929: ConvergenceWarning:\n",
      "\n",
      "Liblinear failed to converge, increase the number of iterations.\n",
      "\n"
     ]
    },
    {
     "name": "stdout",
     "output_type": "stream",
     "text": [
      "2 / 5\n"
     ]
    },
    {
     "name": "stderr",
     "output_type": "stream",
     "text": [
      "c:\\python36\\lib\\site-packages\\sklearn\\svm\\base.py:929: ConvergenceWarning:\n",
      "\n",
      "Liblinear failed to converge, increase the number of iterations.\n",
      "\n"
     ]
    },
    {
     "name": "stdout",
     "output_type": "stream",
     "text": [
      "3 / 5\n"
     ]
    },
    {
     "name": "stderr",
     "output_type": "stream",
     "text": [
      "c:\\python36\\lib\\site-packages\\sklearn\\svm\\base.py:929: ConvergenceWarning:\n",
      "\n",
      "Liblinear failed to converge, increase the number of iterations.\n",
      "\n"
     ]
    },
    {
     "name": "stdout",
     "output_type": "stream",
     "text": [
      "4 / 5\n"
     ]
    },
    {
     "name": "stderr",
     "output_type": "stream",
     "text": [
      "c:\\python36\\lib\\site-packages\\sklearn\\svm\\base.py:929: ConvergenceWarning:\n",
      "\n",
      "Liblinear failed to converge, increase the number of iterations.\n",
      "\n"
     ]
    },
    {
     "name": "stdout",
     "output_type": "stream",
     "text": [
      "5 / 5\n"
     ]
    },
    {
     "name": "stderr",
     "output_type": "stream",
     "text": [
      "c:\\python36\\lib\\site-packages\\sklearn\\svm\\base.py:929: ConvergenceWarning:\n",
      "\n",
      "Liblinear failed to converge, increase the number of iterations.\n",
      "\n",
      "c:\\python36\\lib\\site-packages\\sklearn\\linear_model\\logistic.py:432: FutureWarning:\n",
      "\n",
      "Default solver will be changed to 'lbfgs' in 0.22. Specify a solver to silence this warning.\n",
      "\n"
     ]
    },
    {
     "name": "stdout",
     "output_type": "stream",
     "text": [
      "1 / 5\n"
     ]
    },
    {
     "name": "stderr",
     "output_type": "stream",
     "text": [
      "c:\\python36\\lib\\site-packages\\sklearn\\svm\\base.py:929: ConvergenceWarning:\n",
      "\n",
      "Liblinear failed to converge, increase the number of iterations.\n",
      "\n"
     ]
    },
    {
     "name": "stdout",
     "output_type": "stream",
     "text": [
      "2 / 5\n"
     ]
    },
    {
     "name": "stderr",
     "output_type": "stream",
     "text": [
      "c:\\python36\\lib\\site-packages\\sklearn\\svm\\base.py:929: ConvergenceWarning:\n",
      "\n",
      "Liblinear failed to converge, increase the number of iterations.\n",
      "\n"
     ]
    },
    {
     "name": "stdout",
     "output_type": "stream",
     "text": [
      "3 / 5\n"
     ]
    },
    {
     "name": "stderr",
     "output_type": "stream",
     "text": [
      "c:\\python36\\lib\\site-packages\\sklearn\\svm\\base.py:929: ConvergenceWarning:\n",
      "\n",
      "Liblinear failed to converge, increase the number of iterations.\n",
      "\n"
     ]
    },
    {
     "name": "stdout",
     "output_type": "stream",
     "text": [
      "4 / 5\n"
     ]
    },
    {
     "name": "stderr",
     "output_type": "stream",
     "text": [
      "c:\\python36\\lib\\site-packages\\sklearn\\svm\\base.py:929: ConvergenceWarning:\n",
      "\n",
      "Liblinear failed to converge, increase the number of iterations.\n",
      "\n"
     ]
    },
    {
     "name": "stdout",
     "output_type": "stream",
     "text": [
      "5 / 5\n"
     ]
    },
    {
     "name": "stderr",
     "output_type": "stream",
     "text": [
      "c:\\python36\\lib\\site-packages\\sklearn\\svm\\base.py:929: ConvergenceWarning:\n",
      "\n",
      "Liblinear failed to converge, increase the number of iterations.\n",
      "\n",
      "c:\\python36\\lib\\site-packages\\sklearn\\linear_model\\logistic.py:432: FutureWarning:\n",
      "\n",
      "Default solver will be changed to 'lbfgs' in 0.22. Specify a solver to silence this warning.\n",
      "\n"
     ]
    },
    {
     "name": "stdout",
     "output_type": "stream",
     "text": [
      "------------------------------------------------------------------------------------------------\n",
      "REPORT\n",
      "P08\n",
      "              precision    recall  f1-score   support\n",
      "\n",
      "        Rest       0.70      0.86      0.78        22\n",
      "    HandOpen       0.45      0.43      0.44        21\n",
      " PalmarGrasp       0.42      0.36      0.39        22\n",
      "LateralGrasp       0.52      0.50      0.51        22\n",
      "\n",
      "    accuracy                           0.54        87\n",
      "   macro avg       0.52      0.54      0.53        87\n",
      "weighted avg       0.53      0.54      0.53        87\n",
      "\n",
      "              precision    recall  f1-score   support\n",
      "\n",
      "        Rest       0.92      0.96      0.94        50\n",
      "    HandOpen       0.60      0.71      0.65        51\n",
      " PalmarGrasp       0.71      0.58      0.64        50\n",
      "LateralGrasp       0.69      0.66      0.67        50\n",
      "\n",
      "    accuracy                           0.73       201\n",
      "   macro avg       0.73      0.73      0.73       201\n",
      "weighted avg       0.73      0.73      0.72       201\n",
      "\n",
      "------------------------------------------------------------------------------------------------\n",
      "Extracting EDF parameters from D:\\DESARROLLO_PROYECTO_DOCTORADO\\pySTMM\\examples\\P09\\P09 Run 1.gdf...\n",
      "GDF file detected\n",
      "Setting channel info structure...\n",
      "Creating raw.info structure...\n",
      "Reading 0 ... 22015  =      0.000 ...    85.996 secs...\n",
      "Extracting EDF parameters from D:\\DESARROLLO_PROYECTO_DOCTORADO\\pySTMM\\examples\\P09\\P09 Run 10.gdf...\n",
      "GDF file detected\n",
      "Setting channel info structure...\n",
      "Creating raw.info structure...\n",
      "Reading 0 ... 77823  =      0.000 ...   303.996 secs...\n",
      "Extracting EDF parameters from D:\\DESARROLLO_PROYECTO_DOCTORADO\\pySTMM\\examples\\P09\\P09 Run 11.gdf...\n",
      "GDF file detected\n",
      "Setting channel info structure...\n",
      "Creating raw.info structure...\n",
      "Reading 0 ... 77311  =      0.000 ...   301.996 secs...\n"
     ]
    },
    {
     "name": "stderr",
     "output_type": "stream",
     "text": [
      "c:\\python36\\lib\\site-packages\\mne\\io\\edf\\edf.py:1047: DeprecationWarning:\n",
      "\n",
      "The binary mode of fromstring is deprecated, as it behaves surprisingly on unicode inputs. Use frombuffer instead\n",
      "\n",
      "c:\\python36\\lib\\site-packages\\mne\\io\\edf\\edf.py:1047: DeprecationWarning:\n",
      "\n",
      "The binary mode of fromstring is deprecated, as it behaves surprisingly on unicode inputs. Use frombuffer instead\n",
      "\n",
      "c:\\python36\\lib\\site-packages\\mne\\io\\edf\\edf.py:1047: DeprecationWarning:\n",
      "\n",
      "The binary mode of fromstring is deprecated, as it behaves surprisingly on unicode inputs. Use frombuffer instead\n",
      "\n"
     ]
    },
    {
     "name": "stdout",
     "output_type": "stream",
     "text": [
      "Extracting EDF parameters from D:\\DESARROLLO_PROYECTO_DOCTORADO\\pySTMM\\examples\\P09\\P09 Run 12.gdf...\n",
      "GDF file detected\n",
      "Setting channel info structure...\n",
      "Creating raw.info structure...\n",
      "Reading 0 ... 78847  =      0.000 ...   307.996 secs...\n",
      "Extracting EDF parameters from D:\\DESARROLLO_PROYECTO_DOCTORADO\\pySTMM\\examples\\P09\\P09 Run 13.gdf...\n",
      "GDF file detected\n"
     ]
    },
    {
     "name": "stderr",
     "output_type": "stream",
     "text": [
      "c:\\python36\\lib\\site-packages\\mne\\io\\edf\\edf.py:1047: DeprecationWarning:\n",
      "\n",
      "The binary mode of fromstring is deprecated, as it behaves surprisingly on unicode inputs. Use frombuffer instead\n",
      "\n"
     ]
    },
    {
     "name": "stdout",
     "output_type": "stream",
     "text": [
      "Setting channel info structure...\n",
      "Creating raw.info structure...\n",
      "Reading 0 ... 77055  =      0.000 ...   300.996 secs...\n"
     ]
    },
    {
     "name": "stderr",
     "output_type": "stream",
     "text": [
      "c:\\python36\\lib\\site-packages\\mne\\io\\edf\\edf.py:1047: DeprecationWarning:\n",
      "\n",
      "The binary mode of fromstring is deprecated, as it behaves surprisingly on unicode inputs. Use frombuffer instead\n",
      "\n"
     ]
    },
    {
     "name": "stdout",
     "output_type": "stream",
     "text": [
      "Extracting EDF parameters from D:\\DESARROLLO_PROYECTO_DOCTORADO\\pySTMM\\examples\\P09\\P09 Run 14.gdf...\n",
      "GDF file detected\n",
      "Setting channel info structure...\n",
      "Creating raw.info structure...\n",
      "Reading 0 ... 22015  =      0.000 ...    85.996 secs...\n",
      "Extracting EDF parameters from D:\\DESARROLLO_PROYECTO_DOCTORADO\\pySTMM\\examples\\P09\\P09 Run 15.gdf...\n",
      "GDF file detected\n",
      "Setting channel info structure...\n",
      "Creating raw.info structure...\n",
      "Reading 0 ... 23295  =      0.000 ...    90.996 secs...\n",
      "Extracting EDF parameters from D:\\DESARROLLO_PROYECTO_DOCTORADO\\pySTMM\\examples\\P09\\P09 Run 2.gdf...\n",
      "GDF file detected\n",
      "Setting channel info structure...\n",
      "Creating raw.info structure...\n",
      "Reading 0 ... 23295  =      0.000 ...    90.996 secs...\n",
      "Extracting EDF parameters from D:\\DESARROLLO_PROYECTO_DOCTORADO\\pySTMM\\examples\\P09\\P09 Run 3.gdf...\n",
      "GDF file detected\n",
      "Setting channel info structure...\n",
      "Creating raw.info structure...\n",
      "Reading 0 ... 76799  =      0.000 ...   299.996 secs...\n"
     ]
    },
    {
     "name": "stderr",
     "output_type": "stream",
     "text": [
      "c:\\python36\\lib\\site-packages\\mne\\io\\edf\\edf.py:1047: DeprecationWarning:\n",
      "\n",
      "The binary mode of fromstring is deprecated, as it behaves surprisingly on unicode inputs. Use frombuffer instead\n",
      "\n",
      "c:\\python36\\lib\\site-packages\\mne\\io\\edf\\edf.py:1047: DeprecationWarning:\n",
      "\n",
      "The binary mode of fromstring is deprecated, as it behaves surprisingly on unicode inputs. Use frombuffer instead\n",
      "\n",
      "c:\\python36\\lib\\site-packages\\mne\\io\\edf\\edf.py:1047: DeprecationWarning:\n",
      "\n",
      "The binary mode of fromstring is deprecated, as it behaves surprisingly on unicode inputs. Use frombuffer instead\n",
      "\n",
      "c:\\python36\\lib\\site-packages\\mne\\io\\edf\\edf.py:1047: DeprecationWarning:\n",
      "\n",
      "The binary mode of fromstring is deprecated, as it behaves surprisingly on unicode inputs. Use frombuffer instead\n",
      "\n"
     ]
    },
    {
     "name": "stdout",
     "output_type": "stream",
     "text": [
      "Extracting EDF parameters from D:\\DESARROLLO_PROYECTO_DOCTORADO\\pySTMM\\examples\\P09\\P09 Run 4.gdf...\n",
      "GDF file detected\n",
      "Setting channel info structure...\n",
      "Creating raw.info structure...\n",
      "Reading 0 ... 76031  =      0.000 ...   296.996 secs...\n",
      "Extracting EDF parameters from D:\\DESARROLLO_PROYECTO_DOCTORADO\\pySTMM\\examples\\P09\\P09 Run 5.gdf...\n",
      "GDF file detected\n",
      "Setting channel info structure...\n",
      "Creating raw.info structure...\n",
      "Reading 0 ... 77055  =      0.000 ...   300.996 secs...\n"
     ]
    },
    {
     "name": "stderr",
     "output_type": "stream",
     "text": [
      "c:\\python36\\lib\\site-packages\\mne\\io\\edf\\edf.py:1047: DeprecationWarning:\n",
      "\n",
      "The binary mode of fromstring is deprecated, as it behaves surprisingly on unicode inputs. Use frombuffer instead\n",
      "\n",
      "c:\\python36\\lib\\site-packages\\mne\\io\\edf\\edf.py:1047: DeprecationWarning:\n",
      "\n",
      "The binary mode of fromstring is deprecated, as it behaves surprisingly on unicode inputs. Use frombuffer instead\n",
      "\n"
     ]
    },
    {
     "name": "stdout",
     "output_type": "stream",
     "text": [
      "Extracting EDF parameters from D:\\DESARROLLO_PROYECTO_DOCTORADO\\pySTMM\\examples\\P09\\P09 Run 6.gdf...\n",
      "GDF file detected\n",
      "Setting channel info structure...\n",
      "Creating raw.info structure...\n",
      "Reading 0 ... 77823  =      0.000 ...   303.996 secs...\n",
      "Extracting EDF parameters from D:\\DESARROLLO_PROYECTO_DOCTORADO\\pySTMM\\examples\\P09\\P09 Run 7.gdf...\n",
      "GDF file detected\n",
      "Setting channel info structure...\n",
      "Creating raw.info structure...\n",
      "Reading 0 ... 77055  =      0.000 ...   300.996 secs...\n"
     ]
    },
    {
     "name": "stderr",
     "output_type": "stream",
     "text": [
      "c:\\python36\\lib\\site-packages\\mne\\io\\edf\\edf.py:1047: DeprecationWarning:\n",
      "\n",
      "The binary mode of fromstring is deprecated, as it behaves surprisingly on unicode inputs. Use frombuffer instead\n",
      "\n",
      "c:\\python36\\lib\\site-packages\\mne\\io\\edf\\edf.py:1047: DeprecationWarning:\n",
      "\n",
      "The binary mode of fromstring is deprecated, as it behaves surprisingly on unicode inputs. Use frombuffer instead\n",
      "\n"
     ]
    },
    {
     "name": "stdout",
     "output_type": "stream",
     "text": [
      "Extracting EDF parameters from D:\\DESARROLLO_PROYECTO_DOCTORADO\\pySTMM\\examples\\P09\\P09 Run 8.gdf...\n",
      "GDF file detected\n",
      "Setting channel info structure...\n",
      "Creating raw.info structure...\n",
      "Reading 0 ... 22015  =      0.000 ...    85.996 secs...\n",
      "Extracting EDF parameters from D:\\DESARROLLO_PROYECTO_DOCTORADO\\pySTMM\\examples\\P09\\P09 Run 9.gdf...\n",
      "GDF file detected\n",
      "Setting channel info structure...\n",
      "Creating raw.info structure...\n",
      "Reading 0 ... 23295  =      0.000 ...    90.996 secs...\n"
     ]
    },
    {
     "name": "stderr",
     "output_type": "stream",
     "text": [
      "c:\\python36\\lib\\site-packages\\mne\\io\\edf\\edf.py:1047: DeprecationWarning:\n",
      "\n",
      "The binary mode of fromstring is deprecated, as it behaves surprisingly on unicode inputs. Use frombuffer instead\n",
      "\n",
      "c:\\python36\\lib\\site-packages\\mne\\io\\edf\\edf.py:1047: DeprecationWarning:\n",
      "\n",
      "The binary mode of fromstring is deprecated, as it behaves surprisingly on unicode inputs. Use frombuffer instead\n",
      "\n"
     ]
    },
    {
     "name": "stdout",
     "output_type": "stream",
     "text": [
      "Extracting EDF parameters from D:\\DESARROLLO_PROYECTO_DOCTORADO\\pySTMM\\examples\\P09\\P09 Run 1.gdf...\n",
      "GDF file detected\n",
      "Setting channel info structure...\n",
      "Creating raw.info structure...\n",
      "Used Annotations descriptions: ['33536', '768', '785']\n",
      "Extracting EDF parameters from D:\\DESARROLLO_PROYECTO_DOCTORADO\\pySTMM\\examples\\P09\\P09 Run 2.gdf...\n",
      "GDF file detected\n",
      "Setting channel info structure...\n",
      "Creating raw.info structure...\n",
      "Used Annotations descriptions: ['33536', '33554', '768', '785', '786']\n"
     ]
    },
    {
     "name": "stderr",
     "output_type": "stream",
     "text": [
      "c:\\python36\\lib\\site-packages\\mne\\io\\edf\\edf.py:1047: DeprecationWarning:\n",
      "\n",
      "The binary mode of fromstring is deprecated, as it behaves surprisingly on unicode inputs. Use frombuffer instead\n",
      "\n",
      "c:\\python36\\lib\\site-packages\\mne\\io\\edf\\edf.py:1047: DeprecationWarning:\n",
      "\n",
      "The binary mode of fromstring is deprecated, as it behaves surprisingly on unicode inputs. Use frombuffer instead\n",
      "\n"
     ]
    },
    {
     "name": "stdout",
     "output_type": "stream",
     "text": [
      "Extracting EDF parameters from D:\\DESARROLLO_PROYECTO_DOCTORADO\\pySTMM\\examples\\P09\\P09 Run 3.gdf...\n",
      "GDF file detected\n",
      "Setting channel info structure...\n",
      "Creating raw.info structure...\n",
      "Used Annotations descriptions: ['33536', '33544', '33545', '33547', '33554', '33693', '33694', '768', '776', '777', '779', '785', '786', '925', '926']\n"
     ]
    },
    {
     "name": "stderr",
     "output_type": "stream",
     "text": [
      "c:\\python36\\lib\\site-packages\\mne\\io\\edf\\edf.py:1047: DeprecationWarning:\n",
      "\n",
      "The binary mode of fromstring is deprecated, as it behaves surprisingly on unicode inputs. Use frombuffer instead\n",
      "\n"
     ]
    },
    {
     "name": "stdout",
     "output_type": "stream",
     "text": [
      "Extracting EDF parameters from D:\\DESARROLLO_PROYECTO_DOCTORADO\\pySTMM\\examples\\P09\\P09 Run 4.gdf...\n",
      "GDF file detected\n",
      "Setting channel info structure...\n",
      "Creating raw.info structure...\n"
     ]
    },
    {
     "name": "stderr",
     "output_type": "stream",
     "text": [
      "c:\\python36\\lib\\site-packages\\mne\\io\\edf\\edf.py:1047: DeprecationWarning:\n",
      "\n",
      "The binary mode of fromstring is deprecated, as it behaves surprisingly on unicode inputs. Use frombuffer instead\n",
      "\n"
     ]
    },
    {
     "name": "stdout",
     "output_type": "stream",
     "text": [
      "Used Annotations descriptions: ['33536', '33544', '33545', '33547', '33554', '33693', '33694', '768', '776', '777', '779', '785', '786', '925', '926']\n",
      "Extracting EDF parameters from D:\\DESARROLLO_PROYECTO_DOCTORADO\\pySTMM\\examples\\P09\\P09 Run 5.gdf...\n",
      "GDF file detected\n",
      "Setting channel info structure...\n",
      "Creating raw.info structure...\n",
      "Used Annotations descriptions: ['33536', '33544', '33545', '33547', '33554', '33693', '33694', '768', '776', '777', '779', '785', '786', '925', '926']\n"
     ]
    },
    {
     "name": "stderr",
     "output_type": "stream",
     "text": [
      "c:\\python36\\lib\\site-packages\\mne\\io\\edf\\edf.py:1047: DeprecationWarning:\n",
      "\n",
      "The binary mode of fromstring is deprecated, as it behaves surprisingly on unicode inputs. Use frombuffer instead\n",
      "\n"
     ]
    },
    {
     "name": "stdout",
     "output_type": "stream",
     "text": [
      "Extracting EDF parameters from D:\\DESARROLLO_PROYECTO_DOCTORADO\\pySTMM\\examples\\P09\\P09 Run 6.gdf...\n",
      "GDF file detected\n",
      "Setting channel info structure...\n",
      "Creating raw.info structure...\n",
      "Used Annotations descriptions: ['33536', '33544', '33545', '33547', '33554', '33693', '33694', '768', '776', '777', '779', '785', '786', '925', '926']\n"
     ]
    },
    {
     "name": "stderr",
     "output_type": "stream",
     "text": [
      "c:\\python36\\lib\\site-packages\\mne\\io\\edf\\edf.py:1047: DeprecationWarning:\n",
      "\n",
      "The binary mode of fromstring is deprecated, as it behaves surprisingly on unicode inputs. Use frombuffer instead\n",
      "\n"
     ]
    },
    {
     "name": "stdout",
     "output_type": "stream",
     "text": [
      "Extracting EDF parameters from D:\\DESARROLLO_PROYECTO_DOCTORADO\\pySTMM\\examples\\P09\\P09 Run 7.gdf...\n",
      "GDF file detected\n",
      "Setting channel info structure...\n",
      "Creating raw.info structure...\n",
      "Used Annotations descriptions: ['33536', '33544', '33545', '33547', '33554', '33693', '33694', '768', '776', '777', '779', '785', '786', '925', '926']\n"
     ]
    },
    {
     "name": "stderr",
     "output_type": "stream",
     "text": [
      "c:\\python36\\lib\\site-packages\\mne\\io\\edf\\edf.py:1047: DeprecationWarning:\n",
      "\n",
      "The binary mode of fromstring is deprecated, as it behaves surprisingly on unicode inputs. Use frombuffer instead\n",
      "\n"
     ]
    },
    {
     "name": "stdout",
     "output_type": "stream",
     "text": [
      "Extracting EDF parameters from D:\\DESARROLLO_PROYECTO_DOCTORADO\\pySTMM\\examples\\P09\\P09 Run 8.gdf...\n",
      "GDF file detected\n",
      "Setting channel info structure...\n",
      "Creating raw.info structure...\n",
      "Used Annotations descriptions: ['33536', '768', '785']\n",
      "Extracting EDF parameters from D:\\DESARROLLO_PROYECTO_DOCTORADO\\pySTMM\\examples\\P09\\P09 Run 9.gdf...\n",
      "GDF file detected\n",
      "Setting channel info structure...\n",
      "Creating raw.info structure...\n",
      "Used Annotations descriptions: ['33536', '33554', '768', '785', '786']\n"
     ]
    },
    {
     "name": "stderr",
     "output_type": "stream",
     "text": [
      "c:\\python36\\lib\\site-packages\\mne\\io\\edf\\edf.py:1047: DeprecationWarning:\n",
      "\n",
      "The binary mode of fromstring is deprecated, as it behaves surprisingly on unicode inputs. Use frombuffer instead\n",
      "\n",
      "c:\\python36\\lib\\site-packages\\mne\\io\\edf\\edf.py:1047: DeprecationWarning:\n",
      "\n",
      "The binary mode of fromstring is deprecated, as it behaves surprisingly on unicode inputs. Use frombuffer instead\n",
      "\n"
     ]
    },
    {
     "name": "stdout",
     "output_type": "stream",
     "text": [
      "Extracting EDF parameters from D:\\DESARROLLO_PROYECTO_DOCTORADO\\pySTMM\\examples\\P09\\P09 Run 10.gdf...\n",
      "GDF file detected\n",
      "Setting channel info structure...\n",
      "Creating raw.info structure...\n",
      "Used Annotations descriptions: ['33536', '33544', '33545', '33547', '33554', '33693', '33694', '768', '776', '777', '779', '785', '786', '925', '926']\n"
     ]
    },
    {
     "name": "stderr",
     "output_type": "stream",
     "text": [
      "c:\\python36\\lib\\site-packages\\mne\\io\\edf\\edf.py:1047: DeprecationWarning:\n",
      "\n",
      "The binary mode of fromstring is deprecated, as it behaves surprisingly on unicode inputs. Use frombuffer instead\n",
      "\n"
     ]
    },
    {
     "name": "stdout",
     "output_type": "stream",
     "text": [
      "Extracting EDF parameters from D:\\DESARROLLO_PROYECTO_DOCTORADO\\pySTMM\\examples\\P09\\P09 Run 11.gdf...\n",
      "GDF file detected\n",
      "Setting channel info structure...\n",
      "Creating raw.info structure...\n"
     ]
    },
    {
     "name": "stderr",
     "output_type": "stream",
     "text": [
      "c:\\python36\\lib\\site-packages\\mne\\io\\edf\\edf.py:1047: DeprecationWarning:\n",
      "\n",
      "The binary mode of fromstring is deprecated, as it behaves surprisingly on unicode inputs. Use frombuffer instead\n",
      "\n"
     ]
    },
    {
     "name": "stdout",
     "output_type": "stream",
     "text": [
      "Used Annotations descriptions: ['33536', '33544', '33545', '33547', '33554', '33693', '33694', '768', '776', '777', '779', '785', '786', '925', '926']\n",
      "Extracting EDF parameters from D:\\DESARROLLO_PROYECTO_DOCTORADO\\pySTMM\\examples\\P09\\P09 Run 12.gdf...\n",
      "GDF file detected\n",
      "Setting channel info structure...\n",
      "Creating raw.info structure...\n"
     ]
    },
    {
     "name": "stderr",
     "output_type": "stream",
     "text": [
      "c:\\python36\\lib\\site-packages\\mne\\io\\edf\\edf.py:1047: DeprecationWarning:\n",
      "\n",
      "The binary mode of fromstring is deprecated, as it behaves surprisingly on unicode inputs. Use frombuffer instead\n",
      "\n"
     ]
    },
    {
     "name": "stdout",
     "output_type": "stream",
     "text": [
      "Used Annotations descriptions: ['33536', '33544', '33545', '33547', '33554', '33693', '33694', '768', '776', '777', '779', '785', '786', '925', '926']\n",
      "Extracting EDF parameters from D:\\DESARROLLO_PROYECTO_DOCTORADO\\pySTMM\\examples\\P09\\P09 Run 13.gdf...\n",
      "GDF file detected\n",
      "Setting channel info structure...\n",
      "Creating raw.info structure...\n",
      "Used Annotations descriptions: ['33536', '33544', '33545', '33547', '33554', '33693', '33694', '768', '776', '777', '779', '785', '786', '925', '926']\n"
     ]
    },
    {
     "name": "stderr",
     "output_type": "stream",
     "text": [
      "c:\\python36\\lib\\site-packages\\mne\\io\\edf\\edf.py:1047: DeprecationWarning:\n",
      "\n",
      "The binary mode of fromstring is deprecated, as it behaves surprisingly on unicode inputs. Use frombuffer instead\n",
      "\n"
     ]
    },
    {
     "name": "stdout",
     "output_type": "stream",
     "text": [
      "Extracting EDF parameters from D:\\DESARROLLO_PROYECTO_DOCTORADO\\pySTMM\\examples\\P09\\P09 Run 14.gdf...\n",
      "GDF file detected\n",
      "Setting channel info structure...\n",
      "Creating raw.info structure...\n",
      "Used Annotations descriptions: ['33536', '768', '785']\n",
      "Extracting EDF parameters from D:\\DESARROLLO_PROYECTO_DOCTORADO\\pySTMM\\examples\\P09\\P09 Run 15.gdf...\n",
      "GDF file detected\n",
      "Setting channel info structure...\n",
      "Creating raw.info structure...\n"
     ]
    },
    {
     "name": "stderr",
     "output_type": "stream",
     "text": [
      "c:\\python36\\lib\\site-packages\\mne\\io\\edf\\edf.py:1047: DeprecationWarning:\n",
      "\n",
      "The binary mode of fromstring is deprecated, as it behaves surprisingly on unicode inputs. Use frombuffer instead\n",
      "\n",
      "c:\\python36\\lib\\site-packages\\mne\\io\\edf\\edf.py:1047: DeprecationWarning:\n",
      "\n",
      "The binary mode of fromstring is deprecated, as it behaves surprisingly on unicode inputs. Use frombuffer instead\n",
      "\n"
     ]
    },
    {
     "name": "stdout",
     "output_type": "stream",
     "text": [
      "Used Annotations descriptions: ['33536', '33554', '768', '785', '786']\n",
      "Report on REST:\n",
      "Total samples = 69129\n",
      "Sampling frequency (Hz) = 256\n",
      "Signal duration (s) = 270.04\n",
      "Signal duration (min) = 4.50\n",
      "Total trial start events = 3\n",
      "Indexes (sample) = [2560, 25603, 48646]\n",
      "Times (s) = [10.0, 100.01171875, 190.0234375]\n",
      "Duration between consecutive ones (s) = [90.01171875, 90.01171875]\n",
      "[10.5, 13.0, 15.5, 18.0, 20.5, 23.0, 25.5, 28.0, 30.5, 33.0, 35.5, 38.0, 40.5, 43.0, 45.5, 48.0, 50.5, 53.0, 55.5, 58.0, 60.5, 63.0, 65.5, 68.0, 100.51171875, 103.01171875, 105.51171875, 108.01171875, 110.51171875, 113.01171875, 115.51171875, 118.01171875, 120.51171875, 123.01171875, 125.51171875, 128.01171875, 130.51171875, 133.01171875, 135.51171875, 138.01171875, 140.51171875, 143.01171875, 145.51171875, 148.01171875, 150.51171875, 153.01171875, 155.51171875, 158.01171875, 190.5234375, 193.0234375, 195.5234375, 198.0234375, 200.5234375, 203.0234375, 205.5234375, 208.0234375, 210.5234375, 213.0234375, 215.5234375, 218.0234375, 220.5234375, 223.0234375, 225.5234375, 228.0234375, 230.5234375, 233.0234375, 235.5234375, 238.0234375, 240.5234375, 243.0234375, 245.5234375, 248.0234375]\n",
      "[15.50390625, 18.00390625, 20.50390625, 23.00390625, 25.50390625, 28.00390625, 30.50390625, 33.00390625, 35.50390625, 38.00390625, 40.50390625, 43.00390625, 45.50390625, 48.00390625, 50.50390625, 53.00390625, 55.50390625, 58.00390625, 60.50390625, 63.00390625, 65.50390625, 68.00390625, 70.50390625, 73.00390625, 105.515625, 108.015625, 110.515625, 113.015625, 115.515625, 118.015625, 120.515625, 123.015625, 125.515625, 128.015625, 130.515625, 133.015625, 135.515625, 138.015625, 140.515625, 143.015625, 145.515625, 148.015625, 150.515625, 153.015625, 155.515625, 158.015625, 160.515625, 163.015625, 195.52734375, 198.02734375, 200.52734375, 203.02734375, 205.52734375, 208.02734375, 210.52734375, 213.02734375, 215.52734375, 218.02734375, 220.52734375, 223.02734375, 225.52734375, 228.02734375, 230.52734375, 233.02734375, 235.52734375, 238.02734375, 240.52734375, 243.02734375, 245.52734375, 248.02734375, 250.52734375, 253.02734375]\n",
      "Report on: HandOpenClassCue\n",
      "Total samples = 694708\n",
      "Sampling frequency (Hz) = 256\n",
      "Signal duration (s) = 2713.70\n",
      "Signal duration (min) = 45.23\n",
      "Total HandOpenClassCue events = 72\n",
      "Indexes (sample) = [33132, 45487, 47415, 52618, 57745, 61561, 69091, 72660, 94392, 99705, 105277, 113791, 119163, 124635, 128156, 133523, 159127, 171894, 191690, 200630, 209430, 218505, 221939, 223831, 241936, 243631, 250962, 260109, 272688, 288956, 290998, 292791, 322156, 332784, 343717, 357839, 361914, 363950, 369036, 376532, 390930, 392885, 416342, 439695, 443287, 446925, 448948, 454354, 473578, 477239, 492110, 495491, 509687, 515470, 519360, 531997, 542148, 547488, 558672, 577328, 579147, 606361, 612083, 613860, 624283, 643555, 645526, 651089, 654892, 665260, 678023, 688907]\n",
      "Times (s) = [129.421875, 177.68359375, 185.21484375, 205.5390625, 225.56640625, 240.47265625, 269.88671875, 283.828125, 368.71875, 389.47265625, 411.23828125, 444.49609375, 465.48046875, 486.85546875, 500.609375, 521.57421875, 621.58984375, 671.4609375, 748.7890625, 783.7109375, 818.0859375, 853.53515625, 866.94921875, 874.33984375, 945.0625, 951.68359375, 980.3203125, 1016.05078125, 1065.1875, 1128.734375, 1136.7109375, 1143.71484375, 1258.421875, 1299.9375, 1342.64453125, 1397.80859375, 1413.7265625, 1421.6796875, 1441.546875, 1470.828125, 1527.0703125, 1534.70703125, 1626.3359375, 1717.55859375, 1731.58984375, 1745.80078125, 1753.703125, 1774.8203125, 1849.9140625, 1864.21484375, 1922.3046875, 1935.51171875, 1990.96484375, 2013.5546875, 2028.75, 2078.11328125, 2117.765625, 2138.625, 2182.3125, 2255.1875, 2262.29296875, 2368.59765625, 2390.94921875, 2397.890625, 2438.60546875, 2513.88671875, 2521.5859375, 2543.31640625, 2558.171875, 2598.671875, 2648.52734375, 2691.04296875]\n",
      "Duration between consecutive ones (s) = [48.26171875, 7.53125, 20.32421875, 20.02734375, 14.90625, 29.4140625, 13.94140625, 84.890625, 20.75390625, 21.765625, 33.2578125, 20.984375, 21.375, 13.75390625, 20.96484375, 100.015625, 49.87109375, 77.328125, 34.921875, 34.375, 35.44921875, 13.4140625, 7.390625, 70.72265625, 6.62109375, 28.63671875, 35.73046875, 49.13671875, 63.546875, 7.9765625, 7.00390625, 114.70703125, 41.515625, 42.70703125, 55.1640625, 15.91796875, 7.953125, 19.8671875, 29.28125, 56.2421875, 7.63671875, 91.62890625, 91.22265625, 14.03125, 14.2109375, 7.90234375, 21.1171875, 75.09375, 14.30078125, 58.08984375, 13.20703125, 55.453125, 22.58984375, 15.1953125, 49.36328125, 39.65234375, 20.859375, 43.6875, 72.875, 7.10546875, 106.3046875, 22.3515625, 6.94140625, 40.71484375, 75.28125, 7.69921875, 21.73046875, 14.85546875, 40.5, 49.85546875, 42.515625]\n",
      "[127.421875, 175.68359375, 183.21484375, 203.5390625, 223.56640625, 238.47265625, 267.88671875, 281.828125, 366.71875, 387.47265625, 409.23828125, 442.49609375, 463.48046875, 484.85546875, 498.609375, 519.57421875, 619.58984375, 669.4609375, 746.7890625, 781.7109375, 816.0859375, 851.53515625, 864.94921875, 872.33984375, 943.0625, 949.68359375, 978.3203125, 1014.05078125, 1063.1875, 1126.734375, 1134.7109375, 1141.71484375, 1256.421875, 1297.9375, 1340.64453125, 1395.80859375, 1411.7265625, 1419.6796875, 1439.546875, 1468.828125, 1525.0703125, 1532.70703125, 1624.3359375, 1715.55859375, 1729.58984375, 1743.80078125, 1751.703125, 1772.8203125, 1847.9140625, 1862.21484375, 1920.3046875, 1933.51171875, 1988.96484375, 2011.5546875, 2026.75, 2076.11328125, 2115.765625, 2136.625, 2180.3125, 2253.1875, 2260.29296875, 2366.59765625, 2388.94921875, 2395.890625, 2436.60546875, 2511.88671875, 2519.5859375, 2541.31640625, 2556.171875, 2596.671875, 2646.52734375, 2689.04296875]\n",
      "[132.42578125, 180.6875, 188.21875, 208.54296875, 228.5703125, 243.4765625, 272.890625, 286.83203125, 371.72265625, 392.4765625, 414.2421875, 447.5, 468.484375, 489.859375, 503.61328125, 524.578125, 624.59375, 674.46484375, 751.79296875, 786.71484375, 821.08984375, 856.5390625, 869.953125, 877.34375, 948.06640625, 954.6875, 983.32421875, 1019.0546875, 1068.19140625, 1131.73828125, 1139.71484375, 1146.71875, 1261.42578125, 1302.94140625, 1345.6484375, 1400.8125, 1416.73046875, 1424.68359375, 1444.55078125, 1473.83203125, 1530.07421875, 1537.7109375, 1629.33984375, 1720.5625, 1734.59375, 1748.8046875, 1756.70703125, 1777.82421875, 1852.91796875, 1867.21875, 1925.30859375, 1938.515625, 1993.96875, 2016.55859375, 2031.75390625, 2081.1171875, 2120.76953125, 2141.62890625, 2185.31640625, 2258.19140625, 2265.296875, 2371.6015625, 2393.953125, 2400.89453125, 2441.609375, 2516.890625, 2524.58984375, 2546.3203125, 2561.17578125, 2601.67578125, 2651.53125, 2694.046875]\n",
      "Report on: PalmarGraspClassCue\n",
      "Total samples = 694708\n",
      "Sampling frequency (Hz) = 256\n",
      "Signal duration (s) = 2713.70\n",
      "Signal duration (min) = 45.23\n",
      "Total PalmarGraspClassCue events = 72\n",
      "Indexes (sample) = [5103, 17602, 24769, 28075, 36676, 49288, 51018, 63289, 83367, 89351, 98096, 101445, 110277, 115480, 136862, 141694, 157253, 163016, 173456, 184839, 189902, 211110, 212941, 214985, 232642, 234424, 240211, 245493, 247440, 265346, 278194, 287135, 318798, 330881, 334727, 342161, 345373, 347372, 354476, 356268, 389295, 400178, 405525, 420256, 434101, 435979, 444889, 456315, 465022, 470101, 481085, 502440, 504043, 513591, 521395, 535188, 545696, 553000, 554773, 569446, 586297, 591825, 595754, 604814, 620936, 622588, 649504, 658464, 661995, 663637, 672555, 685337]\n",
      "Times (s) = [19.93359375, 68.7578125, 96.75390625, 109.66796875, 143.265625, 192.53125, 199.2890625, 247.22265625, 325.65234375, 349.02734375, 383.1875, 396.26953125, 430.76953125, 451.09375, 534.6171875, 553.4921875, 614.26953125, 636.78125, 677.5625, 722.02734375, 741.8046875, 824.6484375, 831.80078125, 839.78515625, 908.7578125, 915.71875, 938.32421875, 958.95703125, 966.5625, 1036.5078125, 1086.6953125, 1121.62109375, 1245.3046875, 1292.50390625, 1307.52734375, 1336.56640625, 1349.11328125, 1356.921875, 1384.671875, 1391.671875, 1520.68359375, 1563.1953125, 1584.08203125, 1641.625, 1695.70703125, 1703.04296875, 1737.84765625, 1782.48046875, 1816.4921875, 1836.33203125, 1879.23828125, 1962.65625, 1968.91796875, 2006.21484375, 2036.69921875, 2090.578125, 2131.625, 2160.15625, 2167.08203125, 2224.3984375, 2290.22265625, 2311.81640625, 2327.1640625, 2362.5546875, 2425.53125, 2431.984375, 2537.125, 2572.125, 2585.91796875, 2592.33203125, 2627.16796875, 2677.09765625]\n",
      "Duration between consecutive ones (s) = [48.82421875, 27.99609375, 12.9140625, 33.59765625, 49.265625, 6.7578125, 47.93359375, 78.4296875, 23.375, 34.16015625, 13.08203125, 34.5, 20.32421875, 83.5234375, 18.875, 60.77734375, 22.51171875, 40.78125, 44.46484375, 19.77734375, 82.84375, 7.15234375, 7.984375, 68.97265625, 6.9609375, 22.60546875, 20.6328125, 7.60546875, 69.9453125, 50.1875, 34.92578125, 123.68359375, 47.19921875, 15.0234375, 29.0390625, 12.546875, 7.80859375, 27.75, 7.0, 129.01171875, 42.51171875, 20.88671875, 57.54296875, 54.08203125, 7.3359375, 34.8046875, 44.6328125, 34.01171875, 19.83984375, 42.90625, 83.41796875, 6.26171875, 37.296875, 30.484375, 53.87890625, 41.046875, 28.53125, 6.92578125, 57.31640625, 65.82421875, 21.59375, 15.34765625, 35.390625, 62.9765625, 6.453125, 105.140625, 35.0, 13.79296875, 6.4140625, 34.8359375, 49.9296875]\n",
      "[17.93359375, 66.7578125, 94.75390625, 107.66796875, 141.265625, 190.53125, 197.2890625, 245.22265625, 323.65234375, 347.02734375, 381.1875, 394.26953125, 428.76953125, 449.09375, 532.6171875, 551.4921875, 612.26953125, 634.78125, 675.5625, 720.02734375, 739.8046875, 822.6484375, 829.80078125, 837.78515625, 906.7578125, 913.71875, 936.32421875, 956.95703125, 964.5625, 1034.5078125, 1084.6953125, 1119.62109375, 1243.3046875, 1290.50390625, 1305.52734375, 1334.56640625, 1347.11328125, 1354.921875, 1382.671875, 1389.671875, 1518.68359375, 1561.1953125, 1582.08203125, 1639.625, 1693.70703125, 1701.04296875, 1735.84765625, 1780.48046875, 1814.4921875, 1834.33203125, 1877.23828125, 1960.65625, 1966.91796875, 2004.21484375, 2034.69921875, 2088.578125, 2129.625, 2158.15625, 2165.08203125, 2222.3984375, 2288.22265625, 2309.81640625, 2325.1640625, 2360.5546875, 2423.53125, 2429.984375, 2535.125, 2570.125, 2583.91796875, 2590.33203125, 2625.16796875, 2675.09765625]\n",
      "[22.9375, 71.76171875, 99.7578125, 112.671875, 146.26953125, 195.53515625, 202.29296875, 250.2265625, 328.65625, 352.03125, 386.19140625, 399.2734375, 433.7734375, 454.09765625, 537.62109375, 556.49609375, 617.2734375, 639.78515625, 680.56640625, 725.03125, 744.80859375, 827.65234375, 834.8046875, 842.7890625, 911.76171875, 918.72265625, 941.328125, 961.9609375, 969.56640625, 1039.51171875, 1089.69921875, 1124.625, 1248.30859375, 1295.5078125, 1310.53125, 1339.5703125, 1352.1171875, 1359.92578125, 1387.67578125, 1394.67578125, 1523.6875, 1566.19921875, 1587.0859375, 1644.62890625, 1698.7109375, 1706.046875, 1740.8515625, 1785.484375, 1819.49609375, 1839.3359375, 1882.2421875, 1965.66015625, 1971.921875, 2009.21875, 2039.703125, 2093.58203125, 2134.62890625, 2163.16015625, 2170.0859375, 2227.40234375, 2293.2265625, 2314.8203125, 2330.16796875, 2365.55859375, 2428.53515625, 2434.98828125, 2540.12890625, 2575.12890625, 2588.921875, 2595.3359375, 2630.171875, 2680.1015625]\n"
     ]
    },
    {
     "name": "stdout",
     "output_type": "stream",
     "text": [
      "Report on: LateralGraspClassCue\n",
      "Total samples = 694708\n",
      "Sampling frequency (Hz) = 256\n",
      "Signal duration (s) = 2713.70\n",
      "Signal duration (min) = 45.23\n",
      "Total LateralGraspClassCue events = 72\n",
      "Indexes (sample) = [14170, 15743, 19456, 31520, 34869, 65105, 67101, 70664, 79803, 92744, 96149, 106958, 112230, 126219, 131560, 135270, 165018, 168421, 183041, 186437, 193446, 195220, 197088, 204173, 249314, 256625, 261952, 263723, 276418, 281368, 298422, 301581, 315385, 323965, 325623, 349313, 351062, 359883, 371047, 378468, 387335, 403908, 414749, 422138, 425480, 429351, 437785, 450821, 468252, 471928, 479142, 483060, 488511, 500766, 528476, 530325, 549044, 550979, 560473, 571476, 575361, 588068, 590013, 593868, 625901, 634847, 647494, 656882, 667200, 676229, 683527, 687129]\n",
      "Times (s) = [55.3515625, 61.49609375, 76.0, 123.125, 136.20703125, 254.31640625, 262.11328125, 276.03125, 311.73046875, 362.28125, 375.58203125, 417.8046875, 438.3984375, 493.04296875, 513.90625, 528.3984375, 644.6015625, 657.89453125, 715.00390625, 728.26953125, 755.6484375, 762.578125, 769.875, 797.55078125, 973.8828125, 1002.44140625, 1023.25, 1030.16796875, 1079.7578125, 1099.09375, 1165.7109375, 1178.05078125, 1231.97265625, 1265.48828125, 1271.96484375, 1364.50390625, 1371.3359375, 1405.79296875, 1449.40234375, 1478.390625, 1513.02734375, 1577.765625, 1620.11328125, 1648.9765625, 1662.03125, 1677.15234375, 1710.09765625, 1761.01953125, 1829.109375, 1843.46875, 1871.6484375, 1886.953125, 1908.24609375, 1956.1171875, 2064.359375, 2071.58203125, 2144.703125, 2152.26171875, 2189.34765625, 2232.328125, 2247.50390625, 2297.140625, 2304.73828125, 2319.796875, 2444.92578125, 2479.87109375, 2529.2734375, 2565.9453125, 2606.25, 2641.51953125, 2670.02734375, 2684.09765625]\n",
      "Duration between consecutive ones (s) = [6.14453125, 14.50390625, 47.125, 13.08203125, 118.109375, 7.796875, 13.91796875, 35.69921875, 50.55078125, 13.30078125, 42.22265625, 20.59375, 54.64453125, 20.86328125, 14.4921875, 116.203125, 13.29296875, 57.109375, 13.265625, 27.37890625, 6.9296875, 7.296875, 27.67578125, 176.33203125, 28.55859375, 20.80859375, 6.91796875, 49.58984375, 19.3359375, 66.6171875, 12.33984375, 53.921875, 33.515625, 6.4765625, 92.5390625, 6.83203125, 34.45703125, 43.609375, 28.98828125, 34.63671875, 64.73828125, 42.34765625, 28.86328125, 13.0546875, 15.12109375, 32.9453125, 50.921875, 68.08984375, 14.359375, 28.1796875, 15.3046875, 21.29296875, 47.87109375, 108.2421875, 7.22265625, 73.12109375, 7.55859375, 37.0859375, 42.98046875, 15.17578125, 49.63671875, 7.59765625, 15.05859375, 125.12890625, 34.9453125, 49.40234375, 36.671875, 40.3046875, 35.26953125, 28.5078125, 14.0703125]\n",
      "[53.3515625, 59.49609375, 74.0, 121.125, 134.20703125, 252.31640625, 260.11328125, 274.03125, 309.73046875, 360.28125, 373.58203125, 415.8046875, 436.3984375, 491.04296875, 511.90625, 526.3984375, 642.6015625, 655.89453125, 713.00390625, 726.26953125, 753.6484375, 760.578125, 767.875, 795.55078125, 971.8828125, 1000.44140625, 1021.25, 1028.16796875, 1077.7578125, 1097.09375, 1163.7109375, 1176.05078125, 1229.97265625, 1263.48828125, 1269.96484375, 1362.50390625, 1369.3359375, 1403.79296875, 1447.40234375, 1476.390625, 1511.02734375, 1575.765625, 1618.11328125, 1646.9765625, 1660.03125, 1675.15234375, 1708.09765625, 1759.01953125, 1827.109375, 1841.46875, 1869.6484375, 1884.953125, 1906.24609375, 1954.1171875, 2062.359375, 2069.58203125, 2142.703125, 2150.26171875, 2187.34765625, 2230.328125, 2245.50390625, 2295.140625, 2302.73828125, 2317.796875, 2442.92578125, 2477.87109375, 2527.2734375, 2563.9453125, 2604.25, 2639.51953125, 2668.02734375, 2682.09765625]\n",
      "[58.35546875, 64.5, 79.00390625, 126.12890625, 139.2109375, 257.3203125, 265.1171875, 279.03515625, 314.734375, 365.28515625, 378.5859375, 420.80859375, 441.40234375, 496.046875, 516.91015625, 531.40234375, 647.60546875, 660.8984375, 718.0078125, 731.2734375, 758.65234375, 765.58203125, 772.87890625, 800.5546875, 976.88671875, 1005.4453125, 1026.25390625, 1033.171875, 1082.76171875, 1102.09765625, 1168.71484375, 1181.0546875, 1234.9765625, 1268.4921875, 1274.96875, 1367.5078125, 1374.33984375, 1408.796875, 1452.40625, 1481.39453125, 1516.03125, 1580.76953125, 1623.1171875, 1651.98046875, 1665.03515625, 1680.15625, 1713.1015625, 1764.0234375, 1832.11328125, 1846.47265625, 1874.65234375, 1889.95703125, 1911.25, 1959.12109375, 2067.36328125, 2074.5859375, 2147.70703125, 2155.265625, 2192.3515625, 2235.33203125, 2250.5078125, 2300.14453125, 2307.7421875, 2322.80078125, 2447.9296875, 2482.875, 2532.27734375, 2568.94921875, 2609.25390625, 2644.5234375, 2673.03125, 2687.1015625]\n",
      "maxIter  5\n",
      "ovr 10.0 10.0 5 0.0001 l2 True 0.0001 squared_hinge 100000\n",
      "1 / 5\n",
      "2 / 5\n",
      "3 / 5\n",
      "4 / 5\n"
     ]
    },
    {
     "name": "stderr",
     "output_type": "stream",
     "text": [
      "c:\\python36\\lib\\site-packages\\sklearn\\svm\\base.py:929: ConvergenceWarning:\n",
      "\n",
      "Liblinear failed to converge, increase the number of iterations.\n",
      "\n"
     ]
    },
    {
     "name": "stdout",
     "output_type": "stream",
     "text": [
      "5 / 5\n"
     ]
    },
    {
     "name": "stderr",
     "output_type": "stream",
     "text": [
      "c:\\python36\\lib\\site-packages\\sklearn\\svm\\base.py:929: ConvergenceWarning:\n",
      "\n",
      "Liblinear failed to converge, increase the number of iterations.\n",
      "\n",
      "c:\\python36\\lib\\site-packages\\sklearn\\linear_model\\logistic.py:432: FutureWarning:\n",
      "\n",
      "Default solver will be changed to 'lbfgs' in 0.22. Specify a solver to silence this warning.\n",
      "\n"
     ]
    },
    {
     "name": "stdout",
     "output_type": "stream",
     "text": [
      "1 / 5\n"
     ]
    },
    {
     "name": "stderr",
     "output_type": "stream",
     "text": [
      "c:\\python36\\lib\\site-packages\\sklearn\\svm\\base.py:929: ConvergenceWarning:\n",
      "\n",
      "Liblinear failed to converge, increase the number of iterations.\n",
      "\n"
     ]
    },
    {
     "name": "stdout",
     "output_type": "stream",
     "text": [
      "2 / 5\n"
     ]
    },
    {
     "name": "stderr",
     "output_type": "stream",
     "text": [
      "c:\\python36\\lib\\site-packages\\sklearn\\svm\\base.py:929: ConvergenceWarning:\n",
      "\n",
      "Liblinear failed to converge, increase the number of iterations.\n",
      "\n"
     ]
    },
    {
     "name": "stdout",
     "output_type": "stream",
     "text": [
      "3 / 5\n"
     ]
    },
    {
     "name": "stderr",
     "output_type": "stream",
     "text": [
      "c:\\python36\\lib\\site-packages\\sklearn\\svm\\base.py:929: ConvergenceWarning:\n",
      "\n",
      "Liblinear failed to converge, increase the number of iterations.\n",
      "\n",
      "c:\\python36\\lib\\site-packages\\sklearn\\svm\\base.py:929: ConvergenceWarning:\n",
      "\n",
      "Liblinear failed to converge, increase the number of iterations.\n",
      "\n"
     ]
    },
    {
     "name": "stdout",
     "output_type": "stream",
     "text": [
      "4 / 5\n"
     ]
    },
    {
     "name": "stderr",
     "output_type": "stream",
     "text": [
      "c:\\python36\\lib\\site-packages\\sklearn\\svm\\base.py:929: ConvergenceWarning:\n",
      "\n",
      "Liblinear failed to converge, increase the number of iterations.\n",
      "\n",
      "c:\\python36\\lib\\site-packages\\sklearn\\svm\\base.py:929: ConvergenceWarning:\n",
      "\n",
      "Liblinear failed to converge, increase the number of iterations.\n",
      "\n"
     ]
    },
    {
     "name": "stdout",
     "output_type": "stream",
     "text": [
      "5 / 5\n"
     ]
    },
    {
     "name": "stderr",
     "output_type": "stream",
     "text": [
      "c:\\python36\\lib\\site-packages\\sklearn\\svm\\base.py:929: ConvergenceWarning:\n",
      "\n",
      "Liblinear failed to converge, increase the number of iterations.\n",
      "\n",
      "c:\\python36\\lib\\site-packages\\sklearn\\svm\\base.py:929: ConvergenceWarning:\n",
      "\n",
      "Liblinear failed to converge, increase the number of iterations.\n",
      "\n",
      "c:\\python36\\lib\\site-packages\\sklearn\\linear_model\\logistic.py:432: FutureWarning:\n",
      "\n",
      "Default solver will be changed to 'lbfgs' in 0.22. Specify a solver to silence this warning.\n",
      "\n"
     ]
    },
    {
     "name": "stdout",
     "output_type": "stream",
     "text": [
      "1 / 5\n"
     ]
    },
    {
     "name": "stderr",
     "output_type": "stream",
     "text": [
      "c:\\python36\\lib\\site-packages\\sklearn\\svm\\base.py:929: ConvergenceWarning:\n",
      "\n",
      "Liblinear failed to converge, increase the number of iterations.\n",
      "\n"
     ]
    },
    {
     "name": "stdout",
     "output_type": "stream",
     "text": [
      "2 / 5\n"
     ]
    },
    {
     "name": "stderr",
     "output_type": "stream",
     "text": [
      "c:\\python36\\lib\\site-packages\\sklearn\\svm\\base.py:929: ConvergenceWarning:\n",
      "\n",
      "Liblinear failed to converge, increase the number of iterations.\n",
      "\n"
     ]
    },
    {
     "name": "stdout",
     "output_type": "stream",
     "text": [
      "3 / 5\n"
     ]
    },
    {
     "name": "stderr",
     "output_type": "stream",
     "text": [
      "c:\\python36\\lib\\site-packages\\sklearn\\svm\\base.py:929: ConvergenceWarning:\n",
      "\n",
      "Liblinear failed to converge, increase the number of iterations.\n",
      "\n"
     ]
    },
    {
     "name": "stdout",
     "output_type": "stream",
     "text": [
      "4 / 5\n"
     ]
    },
    {
     "name": "stderr",
     "output_type": "stream",
     "text": [
      "c:\\python36\\lib\\site-packages\\sklearn\\svm\\base.py:929: ConvergenceWarning:\n",
      "\n",
      "Liblinear failed to converge, increase the number of iterations.\n",
      "\n",
      "c:\\python36\\lib\\site-packages\\sklearn\\svm\\base.py:929: ConvergenceWarning:\n",
      "\n",
      "Liblinear failed to converge, increase the number of iterations.\n",
      "\n"
     ]
    },
    {
     "name": "stdout",
     "output_type": "stream",
     "text": [
      "5 / 5\n"
     ]
    },
    {
     "name": "stderr",
     "output_type": "stream",
     "text": [
      "c:\\python36\\lib\\site-packages\\sklearn\\svm\\base.py:929: ConvergenceWarning:\n",
      "\n",
      "Liblinear failed to converge, increase the number of iterations.\n",
      "\n",
      "c:\\python36\\lib\\site-packages\\sklearn\\svm\\base.py:929: ConvergenceWarning:\n",
      "\n",
      "Liblinear failed to converge, increase the number of iterations.\n",
      "\n",
      "c:\\python36\\lib\\site-packages\\sklearn\\linear_model\\logistic.py:432: FutureWarning:\n",
      "\n",
      "Default solver will be changed to 'lbfgs' in 0.22. Specify a solver to silence this warning.\n",
      "\n"
     ]
    },
    {
     "name": "stdout",
     "output_type": "stream",
     "text": [
      "1 / 5\n"
     ]
    },
    {
     "name": "stderr",
     "output_type": "stream",
     "text": [
      "c:\\python36\\lib\\site-packages\\sklearn\\svm\\base.py:929: ConvergenceWarning:\n",
      "\n",
      "Liblinear failed to converge, increase the number of iterations.\n",
      "\n"
     ]
    },
    {
     "name": "stdout",
     "output_type": "stream",
     "text": [
      "2 / 5\n"
     ]
    },
    {
     "name": "stderr",
     "output_type": "stream",
     "text": [
      "c:\\python36\\lib\\site-packages\\sklearn\\svm\\base.py:929: ConvergenceWarning:\n",
      "\n",
      "Liblinear failed to converge, increase the number of iterations.\n",
      "\n"
     ]
    },
    {
     "name": "stdout",
     "output_type": "stream",
     "text": [
      "3 / 5\n"
     ]
    },
    {
     "name": "stderr",
     "output_type": "stream",
     "text": [
      "c:\\python36\\lib\\site-packages\\sklearn\\svm\\base.py:929: ConvergenceWarning:\n",
      "\n",
      "Liblinear failed to converge, increase the number of iterations.\n",
      "\n"
     ]
    },
    {
     "name": "stdout",
     "output_type": "stream",
     "text": [
      "4 / 5\n"
     ]
    },
    {
     "name": "stderr",
     "output_type": "stream",
     "text": [
      "c:\\python36\\lib\\site-packages\\sklearn\\svm\\base.py:929: ConvergenceWarning:\n",
      "\n",
      "Liblinear failed to converge, increase the number of iterations.\n",
      "\n",
      "c:\\python36\\lib\\site-packages\\sklearn\\svm\\base.py:929: ConvergenceWarning:\n",
      "\n",
      "Liblinear failed to converge, increase the number of iterations.\n",
      "\n"
     ]
    },
    {
     "name": "stdout",
     "output_type": "stream",
     "text": [
      "5 / 5\n"
     ]
    },
    {
     "name": "stderr",
     "output_type": "stream",
     "text": [
      "c:\\python36\\lib\\site-packages\\sklearn\\svm\\base.py:929: ConvergenceWarning:\n",
      "\n",
      "Liblinear failed to converge, increase the number of iterations.\n",
      "\n",
      "c:\\python36\\lib\\site-packages\\sklearn\\svm\\base.py:929: ConvergenceWarning:\n",
      "\n",
      "Liblinear failed to converge, increase the number of iterations.\n",
      "\n",
      "c:\\python36\\lib\\site-packages\\sklearn\\linear_model\\logistic.py:432: FutureWarning:\n",
      "\n",
      "Default solver will be changed to 'lbfgs' in 0.22. Specify a solver to silence this warning.\n",
      "\n"
     ]
    },
    {
     "name": "stdout",
     "output_type": "stream",
     "text": [
      "------------------------------------------------------------------------------------------------\n",
      "REPORT\n",
      "P09\n",
      "              precision    recall  f1-score   support\n",
      "\n",
      "        Rest       0.45      0.23      0.30        22\n",
      "    HandOpen       0.21      0.14      0.17        21\n",
      " PalmarGrasp       0.28      0.32      0.30        22\n",
      "LateralGrasp       0.38      0.64      0.47        22\n",
      "\n",
      "    accuracy                           0.33        87\n",
      "   macro avg       0.33      0.33      0.31        87\n",
      "weighted avg       0.33      0.33      0.31        87\n",
      "\n",
      "              precision    recall  f1-score   support\n",
      "\n",
      "        Rest       0.88      0.42      0.57        50\n",
      "    HandOpen       0.44      0.41      0.42        51\n",
      " PalmarGrasp       0.64      0.58      0.61        50\n",
      "LateralGrasp       0.32      0.54      0.40        50\n",
      "\n",
      "    accuracy                           0.49       201\n",
      "   macro avg       0.57      0.49      0.50       201\n",
      "weighted avg       0.57      0.49      0.50       201\n",
      "\n",
      "------------------------------------------------------------------------------------------------\n",
      "Extracting EDF parameters from D:\\DESARROLLO_PROYECTO_DOCTORADO\\pySTMM\\examples\\P10\\P10 Run 1.gdf...\n",
      "GDF file detected\n",
      "Setting channel info structure...\n",
      "Creating raw.info structure...\n",
      "Reading 0 ... 22015  =      0.000 ...    85.996 secs...\n",
      "Extracting EDF parameters from D:\\DESARROLLO_PROYECTO_DOCTORADO\\pySTMM\\examples\\P10\\P10 Run 10.gdf...\n",
      "GDF file detected\n",
      "Setting channel info structure...\n",
      "Creating raw.info structure...\n",
      "Reading 0 ... 77055  =      0.000 ...   300.996 secs...\n",
      "Extracting EDF parameters from D:\\DESARROLLO_PROYECTO_DOCTORADO\\pySTMM\\examples\\P10\\P10 Run 11.gdf...\n",
      "GDF file detected\n",
      "Setting channel info structure...\n",
      "Creating raw.info structure...\n",
      "Reading 0 ... 78847  =      0.000 ...   307.996 secs...\n"
     ]
    },
    {
     "name": "stderr",
     "output_type": "stream",
     "text": [
      "c:\\python36\\lib\\site-packages\\mne\\io\\edf\\edf.py:1047: DeprecationWarning:\n",
      "\n",
      "The binary mode of fromstring is deprecated, as it behaves surprisingly on unicode inputs. Use frombuffer instead\n",
      "\n",
      "c:\\python36\\lib\\site-packages\\mne\\io\\edf\\edf.py:1047: DeprecationWarning:\n",
      "\n",
      "The binary mode of fromstring is deprecated, as it behaves surprisingly on unicode inputs. Use frombuffer instead\n",
      "\n",
      "c:\\python36\\lib\\site-packages\\mne\\io\\edf\\edf.py:1047: DeprecationWarning:\n",
      "\n",
      "The binary mode of fromstring is deprecated, as it behaves surprisingly on unicode inputs. Use frombuffer instead\n",
      "\n"
     ]
    },
    {
     "name": "stdout",
     "output_type": "stream",
     "text": [
      "Extracting EDF parameters from D:\\DESARROLLO_PROYECTO_DOCTORADO\\pySTMM\\examples\\P10\\P10 Run 12.gdf...\n",
      "GDF file detected\n",
      "Setting channel info structure...\n",
      "Creating raw.info structure...\n",
      "Reading 0 ... 77055  =      0.000 ...   300.996 secs...\n"
     ]
    },
    {
     "name": "stderr",
     "output_type": "stream",
     "text": [
      "c:\\python36\\lib\\site-packages\\mne\\io\\edf\\edf.py:1047: DeprecationWarning:\n",
      "\n",
      "The binary mode of fromstring is deprecated, as it behaves surprisingly on unicode inputs. Use frombuffer instead\n",
      "\n"
     ]
    },
    {
     "name": "stdout",
     "output_type": "stream",
     "text": [
      "Extracting EDF parameters from D:\\DESARROLLO_PROYECTO_DOCTORADO\\pySTMM\\examples\\P10\\P10 Run 13.gdf...\n",
      "GDF file detected\n",
      "Setting channel info structure...\n",
      "Creating raw.info structure...\n",
      "Reading 0 ... 77055  =      0.000 ...   300.996 secs...\n",
      "Extracting EDF parameters from D:\\DESARROLLO_PROYECTO_DOCTORADO\\pySTMM\\examples\\P10\\P10 Run 14.gdf...\n",
      "GDF file detected\n",
      "Setting channel info structure...\n",
      "Creating raw.info structure...\n",
      "Reading 0 ... 22015  =      0.000 ...    85.996 secs...\n",
      "Extracting EDF parameters from D:\\DESARROLLO_PROYECTO_DOCTORADO\\pySTMM\\examples\\P10\\P10 Run 15.gdf...\n",
      "GDF file detected\n",
      "Setting channel info structure...\n",
      "Creating raw.info structure...\n",
      "Reading 0 ... 23295  =      0.000 ...    90.996 secs...\n",
      "Extracting EDF parameters from D:\\DESARROLLO_PROYECTO_DOCTORADO\\pySTMM\\examples\\P10\\P10 Run 2.gdf...\n",
      "GDF file detected\n"
     ]
    },
    {
     "name": "stderr",
     "output_type": "stream",
     "text": [
      "c:\\python36\\lib\\site-packages\\mne\\io\\edf\\edf.py:1047: DeprecationWarning:\n",
      "\n",
      "The binary mode of fromstring is deprecated, as it behaves surprisingly on unicode inputs. Use frombuffer instead\n",
      "\n",
      "c:\\python36\\lib\\site-packages\\mne\\io\\edf\\edf.py:1047: DeprecationWarning:\n",
      "\n",
      "The binary mode of fromstring is deprecated, as it behaves surprisingly on unicode inputs. Use frombuffer instead\n",
      "\n",
      "c:\\python36\\lib\\site-packages\\mne\\io\\edf\\edf.py:1047: DeprecationWarning:\n",
      "\n",
      "The binary mode of fromstring is deprecated, as it behaves surprisingly on unicode inputs. Use frombuffer instead\n",
      "\n"
     ]
    },
    {
     "name": "stdout",
     "output_type": "stream",
     "text": [
      "Setting channel info structure...\n",
      "Creating raw.info structure...\n",
      "Reading 0 ... 23295  =      0.000 ...    90.996 secs...\n",
      "Extracting EDF parameters from D:\\DESARROLLO_PROYECTO_DOCTORADO\\pySTMM\\examples\\P10\\P10 Run 3.gdf...\n",
      "GDF file detected\n",
      "Setting channel info structure...\n",
      "Creating raw.info structure...\n",
      "Reading 0 ... 76031  =      0.000 ...   296.996 secs...\n",
      "Extracting EDF parameters from D:\\DESARROLLO_PROYECTO_DOCTORADO\\pySTMM\\examples\\P10\\P10 Run 4.gdf...\n",
      "GDF file detected\n",
      "Setting channel info structure...\n",
      "Creating raw.info structure...\n",
      "Reading 0 ... 77055  =      0.000 ...   300.996 secs...\n"
     ]
    },
    {
     "name": "stderr",
     "output_type": "stream",
     "text": [
      "c:\\python36\\lib\\site-packages\\mne\\io\\edf\\edf.py:1047: DeprecationWarning:\n",
      "\n",
      "The binary mode of fromstring is deprecated, as it behaves surprisingly on unicode inputs. Use frombuffer instead\n",
      "\n",
      "c:\\python36\\lib\\site-packages\\mne\\io\\edf\\edf.py:1047: DeprecationWarning:\n",
      "\n",
      "The binary mode of fromstring is deprecated, as it behaves surprisingly on unicode inputs. Use frombuffer instead\n",
      "\n",
      "c:\\python36\\lib\\site-packages\\mne\\io\\edf\\edf.py:1047: DeprecationWarning:\n",
      "\n",
      "The binary mode of fromstring is deprecated, as it behaves surprisingly on unicode inputs. Use frombuffer instead\n",
      "\n"
     ]
    },
    {
     "name": "stdout",
     "output_type": "stream",
     "text": [
      "Extracting EDF parameters from D:\\DESARROLLO_PROYECTO_DOCTORADO\\pySTMM\\examples\\P10\\P10 Run 5.gdf...\n",
      "GDF file detected\n",
      "Setting channel info structure...\n",
      "Creating raw.info structure...\n",
      "Reading 0 ... 78079  =      0.000 ...   304.996 secs...\n"
     ]
    },
    {
     "name": "stderr",
     "output_type": "stream",
     "text": [
      "c:\\python36\\lib\\site-packages\\mne\\io\\edf\\edf.py:1047: DeprecationWarning:\n",
      "\n",
      "The binary mode of fromstring is deprecated, as it behaves surprisingly on unicode inputs. Use frombuffer instead\n",
      "\n"
     ]
    },
    {
     "name": "stdout",
     "output_type": "stream",
     "text": [
      "Extracting EDF parameters from D:\\DESARROLLO_PROYECTO_DOCTORADO\\pySTMM\\examples\\P10\\P10 Run 6.gdf...\n",
      "GDF file detected\n",
      "Setting channel info structure...\n",
      "Creating raw.info structure...\n",
      "Reading 0 ... 76799  =      0.000 ...   299.996 secs...\n",
      "Extracting EDF parameters from D:\\DESARROLLO_PROYECTO_DOCTORADO\\pySTMM\\examples\\P10\\P10 Run 7.gdf...\n",
      "GDF file detected\n",
      "Setting channel info structure...\n",
      "Creating raw.info structure...\n",
      "Reading 0 ... 77567  =      0.000 ...   302.996 secs...\n"
     ]
    },
    {
     "name": "stderr",
     "output_type": "stream",
     "text": [
      "c:\\python36\\lib\\site-packages\\mne\\io\\edf\\edf.py:1047: DeprecationWarning:\n",
      "\n",
      "The binary mode of fromstring is deprecated, as it behaves surprisingly on unicode inputs. Use frombuffer instead\n",
      "\n",
      "c:\\python36\\lib\\site-packages\\mne\\io\\edf\\edf.py:1047: DeprecationWarning:\n",
      "\n",
      "The binary mode of fromstring is deprecated, as it behaves surprisingly on unicode inputs. Use frombuffer instead\n",
      "\n"
     ]
    },
    {
     "name": "stdout",
     "output_type": "stream",
     "text": [
      "Extracting EDF parameters from D:\\DESARROLLO_PROYECTO_DOCTORADO\\pySTMM\\examples\\P10\\P10 Run 8.gdf...\n",
      "GDF file detected\n",
      "Setting channel info structure...\n",
      "Creating raw.info structure...\n",
      "Reading 0 ... 22015  =      0.000 ...    85.996 secs...\n",
      "Extracting EDF parameters from D:\\DESARROLLO_PROYECTO_DOCTORADO\\pySTMM\\examples\\P10\\P10 Run 9.gdf...\n",
      "GDF file detected\n",
      "Setting channel info structure...\n",
      "Creating raw.info structure...\n",
      "Reading 0 ... 23295  =      0.000 ...    90.996 secs...\n"
     ]
    },
    {
     "name": "stderr",
     "output_type": "stream",
     "text": [
      "c:\\python36\\lib\\site-packages\\mne\\io\\edf\\edf.py:1047: DeprecationWarning:\n",
      "\n",
      "The binary mode of fromstring is deprecated, as it behaves surprisingly on unicode inputs. Use frombuffer instead\n",
      "\n",
      "c:\\python36\\lib\\site-packages\\mne\\io\\edf\\edf.py:1047: DeprecationWarning:\n",
      "\n",
      "The binary mode of fromstring is deprecated, as it behaves surprisingly on unicode inputs. Use frombuffer instead\n",
      "\n"
     ]
    },
    {
     "name": "stdout",
     "output_type": "stream",
     "text": [
      "Extracting EDF parameters from D:\\DESARROLLO_PROYECTO_DOCTORADO\\pySTMM\\examples\\P10\\P10 Run 1.gdf...\n",
      "GDF file detected\n",
      "Setting channel info structure...\n",
      "Creating raw.info structure...\n",
      "Used Annotations descriptions: ['33536', '768', '785']\n",
      "Extracting EDF parameters from D:\\DESARROLLO_PROYECTO_DOCTORADO\\pySTMM\\examples\\P10\\P10 Run 2.gdf...\n",
      "GDF file detected\n",
      "Setting channel info structure...\n",
      "Creating raw.info structure...\n",
      "Used Annotations descriptions: ['33536', '33554', '768', '785', '786']\n"
     ]
    },
    {
     "name": "stderr",
     "output_type": "stream",
     "text": [
      "c:\\python36\\lib\\site-packages\\mne\\io\\edf\\edf.py:1047: DeprecationWarning:\n",
      "\n",
      "The binary mode of fromstring is deprecated, as it behaves surprisingly on unicode inputs. Use frombuffer instead\n",
      "\n",
      "c:\\python36\\lib\\site-packages\\mne\\io\\edf\\edf.py:1047: DeprecationWarning:\n",
      "\n",
      "The binary mode of fromstring is deprecated, as it behaves surprisingly on unicode inputs. Use frombuffer instead\n",
      "\n"
     ]
    },
    {
     "name": "stdout",
     "output_type": "stream",
     "text": [
      "Extracting EDF parameters from D:\\DESARROLLO_PROYECTO_DOCTORADO\\pySTMM\\examples\\P10\\P10 Run 3.gdf...\n",
      "GDF file detected\n",
      "Setting channel info structure...\n",
      "Creating raw.info structure...\n"
     ]
    },
    {
     "name": "stderr",
     "output_type": "stream",
     "text": [
      "c:\\python36\\lib\\site-packages\\mne\\io\\edf\\edf.py:1047: DeprecationWarning:\n",
      "\n",
      "The binary mode of fromstring is deprecated, as it behaves surprisingly on unicode inputs. Use frombuffer instead\n",
      "\n"
     ]
    },
    {
     "name": "stdout",
     "output_type": "stream",
     "text": [
      "Used Annotations descriptions: ['33536', '33544', '33545', '33547', '33554', '33693', '33694', '768', '776', '777', '779', '785', '786', '925', '926']\n",
      "Extracting EDF parameters from D:\\DESARROLLO_PROYECTO_DOCTORADO\\pySTMM\\examples\\P10\\P10 Run 4.gdf...\n",
      "GDF file detected\n",
      "Setting channel info structure...\n",
      "Creating raw.info structure...\n",
      "Used Annotations descriptions: ['33536', '33544', '33545', '33547', '33554', '33693', '33694', '768', '776', '777', '779', '785', '786', '925', '926']\n"
     ]
    },
    {
     "name": "stderr",
     "output_type": "stream",
     "text": [
      "c:\\python36\\lib\\site-packages\\mne\\io\\edf\\edf.py:1047: DeprecationWarning:\n",
      "\n",
      "The binary mode of fromstring is deprecated, as it behaves surprisingly on unicode inputs. Use frombuffer instead\n",
      "\n"
     ]
    },
    {
     "name": "stdout",
     "output_type": "stream",
     "text": [
      "Extracting EDF parameters from D:\\DESARROLLO_PROYECTO_DOCTORADO\\pySTMM\\examples\\P10\\P10 Run 5.gdf...\n",
      "GDF file detected\n",
      "Setting channel info structure...\n",
      "Creating raw.info structure...\n",
      "Used Annotations descriptions: ['33536', '33544', '33545', '33547', '33554', '33693', '33694', '768', '776', '777', '779', '785', '786', '925', '926']\n"
     ]
    },
    {
     "name": "stderr",
     "output_type": "stream",
     "text": [
      "c:\\python36\\lib\\site-packages\\mne\\io\\edf\\edf.py:1047: DeprecationWarning:\n",
      "\n",
      "The binary mode of fromstring is deprecated, as it behaves surprisingly on unicode inputs. Use frombuffer instead\n",
      "\n"
     ]
    },
    {
     "name": "stdout",
     "output_type": "stream",
     "text": [
      "Extracting EDF parameters from D:\\DESARROLLO_PROYECTO_DOCTORADO\\pySTMM\\examples\\P10\\P10 Run 6.gdf...\n",
      "GDF file detected\n",
      "Setting channel info structure...\n",
      "Creating raw.info structure...\n",
      "Used Annotations descriptions: ['33536', '33544', '33545', '33547', '33554', '33693', '33694', '768', '776', '777', '779', '785', '786', '925', '926']\n"
     ]
    },
    {
     "name": "stderr",
     "output_type": "stream",
     "text": [
      "c:\\python36\\lib\\site-packages\\mne\\io\\edf\\edf.py:1047: DeprecationWarning:\n",
      "\n",
      "The binary mode of fromstring is deprecated, as it behaves surprisingly on unicode inputs. Use frombuffer instead\n",
      "\n"
     ]
    },
    {
     "name": "stdout",
     "output_type": "stream",
     "text": [
      "Extracting EDF parameters from D:\\DESARROLLO_PROYECTO_DOCTORADO\\pySTMM\\examples\\P10\\P10 Run 7.gdf...\n",
      "GDF file detected\n",
      "Setting channel info structure...\n",
      "Creating raw.info structure...\n",
      "Used Annotations descriptions: ['33536', '33544', '33545', '33547', '33554', '33693', '33694', '768', '776', '777', '779', '785', '786', '925', '926']\n"
     ]
    },
    {
     "name": "stderr",
     "output_type": "stream",
     "text": [
      "c:\\python36\\lib\\site-packages\\mne\\io\\edf\\edf.py:1047: DeprecationWarning:\n",
      "\n",
      "The binary mode of fromstring is deprecated, as it behaves surprisingly on unicode inputs. Use frombuffer instead\n",
      "\n"
     ]
    },
    {
     "name": "stdout",
     "output_type": "stream",
     "text": [
      "Extracting EDF parameters from D:\\DESARROLLO_PROYECTO_DOCTORADO\\pySTMM\\examples\\P10\\P10 Run 8.gdf...\n",
      "GDF file detected\n",
      "Setting channel info structure...\n",
      "Creating raw.info structure...\n",
      "Used Annotations descriptions: ['33536', '768', '785']\n",
      "Extracting EDF parameters from D:\\DESARROLLO_PROYECTO_DOCTORADO\\pySTMM\\examples\\P10\\P10 Run 9.gdf...\n",
      "GDF file detected\n",
      "Setting channel info structure...\n",
      "Creating raw.info structure...\n",
      "Used Annotations descriptions: ['33536', '33554', '768', '785', '786']\n"
     ]
    },
    {
     "name": "stderr",
     "output_type": "stream",
     "text": [
      "c:\\python36\\lib\\site-packages\\mne\\io\\edf\\edf.py:1047: DeprecationWarning:\n",
      "\n",
      "The binary mode of fromstring is deprecated, as it behaves surprisingly on unicode inputs. Use frombuffer instead\n",
      "\n",
      "c:\\python36\\lib\\site-packages\\mne\\io\\edf\\edf.py:1047: DeprecationWarning:\n",
      "\n",
      "The binary mode of fromstring is deprecated, as it behaves surprisingly on unicode inputs. Use frombuffer instead\n",
      "\n"
     ]
    },
    {
     "name": "stdout",
     "output_type": "stream",
     "text": [
      "Extracting EDF parameters from D:\\DESARROLLO_PROYECTO_DOCTORADO\\pySTMM\\examples\\P10\\P10 Run 10.gdf...\n",
      "GDF file detected\n",
      "Setting channel info structure...\n",
      "Creating raw.info structure...\n",
      "Used Annotations descriptions: ['33536', '33544', '33545', '33547', '33554', '33693', '33694', '768', '776', '777', '779', '785', '786', '925', '926']\n"
     ]
    },
    {
     "name": "stderr",
     "output_type": "stream",
     "text": [
      "c:\\python36\\lib\\site-packages\\mne\\io\\edf\\edf.py:1047: DeprecationWarning:\n",
      "\n",
      "The binary mode of fromstring is deprecated, as it behaves surprisingly on unicode inputs. Use frombuffer instead\n",
      "\n"
     ]
    },
    {
     "name": "stdout",
     "output_type": "stream",
     "text": [
      "Extracting EDF parameters from D:\\DESARROLLO_PROYECTO_DOCTORADO\\pySTMM\\examples\\P10\\P10 Run 11.gdf...\n",
      "GDF file detected\n",
      "Setting channel info structure...\n",
      "Creating raw.info structure...\n",
      "Used Annotations descriptions: ['33536', '33544', '33545', '33547', '33554', '33693', '33694', '768', '776', '777', '779', '785', '786', '925', '926']"
     ]
    },
    {
     "name": "stderr",
     "output_type": "stream",
     "text": [
      "c:\\python36\\lib\\site-packages\\mne\\io\\edf\\edf.py:1047: DeprecationWarning:\n",
      "\n",
      "The binary mode of fromstring is deprecated, as it behaves surprisingly on unicode inputs. Use frombuffer instead\n",
      "\n"
     ]
    },
    {
     "name": "stdout",
     "output_type": "stream",
     "text": [
      "\n",
      "Extracting EDF parameters from D:\\DESARROLLO_PROYECTO_DOCTORADO\\pySTMM\\examples\\P10\\P10 Run 12.gdf...\n",
      "GDF file detected\n",
      "Setting channel info structure...\n",
      "Creating raw.info structure...\n",
      "Used Annotations descriptions: ['33536', '33544', '33545', '33547', '33554', '33693', '33694', '768', '776', '777', '779', '785', '786', '925', '926']\n"
     ]
    },
    {
     "name": "stderr",
     "output_type": "stream",
     "text": [
      "c:\\python36\\lib\\site-packages\\mne\\io\\edf\\edf.py:1047: DeprecationWarning:\n",
      "\n",
      "The binary mode of fromstring is deprecated, as it behaves surprisingly on unicode inputs. Use frombuffer instead\n",
      "\n"
     ]
    },
    {
     "name": "stdout",
     "output_type": "stream",
     "text": [
      "Extracting EDF parameters from D:\\DESARROLLO_PROYECTO_DOCTORADO\\pySTMM\\examples\\P10\\P10 Run 13.gdf...\n",
      "GDF file detected\n",
      "Setting channel info structure...\n",
      "Creating raw.info structure...\n"
     ]
    },
    {
     "name": "stderr",
     "output_type": "stream",
     "text": [
      "c:\\python36\\lib\\site-packages\\mne\\io\\edf\\edf.py:1047: DeprecationWarning:\n",
      "\n",
      "The binary mode of fromstring is deprecated, as it behaves surprisingly on unicode inputs. Use frombuffer instead\n",
      "\n"
     ]
    },
    {
     "name": "stdout",
     "output_type": "stream",
     "text": [
      "Used Annotations descriptions: ['33536', '33544', '33545', '33547', '33554', '33693', '33694', '768', '776', '777', '779', '785', '786', '925', '926']\n",
      "Extracting EDF parameters from D:\\DESARROLLO_PROYECTO_DOCTORADO\\pySTMM\\examples\\P10\\P10 Run 14.gdf...\n",
      "GDF file detected\n",
      "Setting channel info structure...\n",
      "Creating raw.info structure...\n",
      "Used Annotations descriptions: ['33536', '768', '785']\n",
      "Extracting EDF parameters from D:\\DESARROLLO_PROYECTO_DOCTORADO\\pySTMM\\examples\\P10\\P10 Run 15.gdf...\n",
      "GDF file detected\n",
      "Setting channel info structure...\n",
      "Creating raw.info structure...\n"
     ]
    },
    {
     "name": "stderr",
     "output_type": "stream",
     "text": [
      "c:\\python36\\lib\\site-packages\\mne\\io\\edf\\edf.py:1047: DeprecationWarning:\n",
      "\n",
      "The binary mode of fromstring is deprecated, as it behaves surprisingly on unicode inputs. Use frombuffer instead\n",
      "\n",
      "c:\\python36\\lib\\site-packages\\mne\\io\\edf\\edf.py:1047: DeprecationWarning:\n",
      "\n",
      "The binary mode of fromstring is deprecated, as it behaves surprisingly on unicode inputs. Use frombuffer instead\n",
      "\n"
     ]
    },
    {
     "name": "stdout",
     "output_type": "stream",
     "text": [
      "Used Annotations descriptions: ['33536', '33554', '768', '785', '786']\n",
      "Report on REST:\n",
      "Total samples = 69129\n",
      "Sampling frequency (Hz) = 256\n",
      "Signal duration (s) = 270.04\n",
      "Signal duration (min) = 4.50\n",
      "Total trial start events = 3\n",
      "Indexes (sample) = [2560, 25603, 48646]\n",
      "Times (s) = [10.0, 100.01171875, 190.0234375]\n",
      "Duration between consecutive ones (s) = [90.01171875, 90.01171875]\n",
      "[10.5, 13.0, 15.5, 18.0, 20.5, 23.0, 25.5, 28.0, 30.5, 33.0, 35.5, 38.0, 40.5, 43.0, 45.5, 48.0, 50.5, 53.0, 55.5, 58.0, 60.5, 63.0, 65.5, 68.0, 100.51171875, 103.01171875, 105.51171875, 108.01171875, 110.51171875, 113.01171875, 115.51171875, 118.01171875, 120.51171875, 123.01171875, 125.51171875, 128.01171875, 130.51171875, 133.01171875, 135.51171875, 138.01171875, 140.51171875, 143.01171875, 145.51171875, 148.01171875, 150.51171875, 153.01171875, 155.51171875, 158.01171875, 190.5234375, 193.0234375, 195.5234375, 198.0234375, 200.5234375, 203.0234375, 205.5234375, 208.0234375, 210.5234375, 213.0234375, 215.5234375, 218.0234375, 220.5234375, 223.0234375, 225.5234375, 228.0234375, 230.5234375, 233.0234375, 235.5234375, 238.0234375, 240.5234375, 243.0234375, 245.5234375, 248.0234375]\n",
      "[15.50390625, 18.00390625, 20.50390625, 23.00390625, 25.50390625, 28.00390625, 30.50390625, 33.00390625, 35.50390625, 38.00390625, 40.50390625, 43.00390625, 45.50390625, 48.00390625, 50.50390625, 53.00390625, 55.50390625, 58.00390625, 60.50390625, 63.00390625, 65.50390625, 68.00390625, 70.50390625, 73.00390625, 105.515625, 108.015625, 110.515625, 113.015625, 115.515625, 118.015625, 120.515625, 123.015625, 125.515625, 128.015625, 130.515625, 133.015625, 135.515625, 138.015625, 140.515625, 143.015625, 145.515625, 148.015625, 150.515625, 153.015625, 155.515625, 158.015625, 160.515625, 163.015625, 195.52734375, 198.02734375, 200.52734375, 203.02734375, 205.52734375, 208.02734375, 210.52734375, 213.02734375, 215.52734375, 218.02734375, 220.52734375, 223.02734375, 225.52734375, 228.02734375, 230.52734375, 233.02734375, 235.52734375, 238.02734375, 240.52734375, 243.02734375, 245.52734375, 248.02734375, 250.52734375, 253.02734375]\n",
      "Report on: HandOpenClassCue\n",
      "Total samples = 694656\n",
      "Sampling frequency (Hz) = 256\n",
      "Signal duration (s) = 2713.50\n",
      "Signal duration (min) = 45.23\n",
      "Total HandOpenClassCue events = 72\n",
      "Indexes (sample) = [3072, 4956, 6765, 14504, 26598, 53309, 65261, 70684, 79033, 93664, 102532, 122331, 127474, 129416, 132851, 145492, 168928, 172737, 185406, 194327, 203491, 214253, 216295, 221694, 233972, 235546, 247272, 250739, 259843, 279592, 296163, 298099, 312307, 319754, 334000, 336044, 337679, 339721, 341314, 362757, 388074, 389800, 394879, 396706, 409769, 425544, 442088, 451331, 479619, 490741, 492648, 494292, 496322, 500207, 505982, 511143, 545749, 547401, 552426, 563289, 584883, 588450, 590073, 613720, 634981, 638419, 640342, 654707, 662259, 667573, 675840, 688724]\n",
      "Times (s) = [12.0, 19.359375, 26.42578125, 56.65625, 103.8984375, 208.23828125, 254.92578125, 276.109375, 308.72265625, 365.875, 400.515625, 477.85546875, 497.9453125, 505.53125, 518.94921875, 568.328125, 659.875, 674.75390625, 724.2421875, 759.08984375, 794.88671875, 836.92578125, 844.90234375, 865.9921875, 913.953125, 920.1015625, 965.90625, 979.44921875, 1015.01171875, 1092.15625, 1156.88671875, 1164.44921875, 1219.94921875, 1249.0390625, 1304.6875, 1312.671875, 1319.05859375, 1327.03515625, 1333.2578125, 1417.01953125, 1515.9140625, 1522.65625, 1542.49609375, 1549.6328125, 1600.66015625, 1662.28125, 1726.90625, 1763.01171875, 1873.51171875, 1916.95703125, 1924.40625, 1930.828125, 1938.7578125, 1953.93359375, 1976.4921875, 1996.65234375, 2131.83203125, 2138.28515625, 2157.9140625, 2200.34765625, 2284.69921875, 2298.6328125, 2304.97265625, 2397.34375, 2480.39453125, 2493.82421875, 2501.3359375, 2557.44921875, 2586.94921875, 2607.70703125, 2640.0, 2690.328125]\n",
      "Duration between consecutive ones (s) = [7.359375, 7.06640625, 30.23046875, 47.2421875, 104.33984375, 46.6875, 21.18359375, 32.61328125, 57.15234375, 34.640625, 77.33984375, 20.08984375, 7.5859375, 13.41796875, 49.37890625, 91.546875, 14.87890625, 49.48828125, 34.84765625, 35.796875, 42.0390625, 7.9765625, 21.08984375, 47.9609375, 6.1484375, 45.8046875, 13.54296875, 35.5625, 77.14453125, 64.73046875, 7.5625, 55.5, 29.08984375, 55.6484375, 7.984375, 6.38671875, 7.9765625, 6.22265625, 83.76171875, 98.89453125, 6.7421875, 19.83984375, 7.13671875, 51.02734375, 61.62109375, 64.625, 36.10546875, 110.5, 43.4453125, 7.44921875, 6.421875, 7.9296875, 15.17578125, 22.55859375, 20.16015625, 135.1796875, 6.453125, 19.62890625, 42.43359375, 84.3515625, 13.93359375, 6.33984375, 92.37109375, 83.05078125, 13.4296875, 7.51171875, 56.11328125, 29.5, 20.7578125, 32.29296875, 50.328125]\n",
      "[10.0, 17.359375, 24.42578125, 54.65625, 101.8984375, 206.23828125, 252.92578125, 274.109375, 306.72265625, 363.875, 398.515625, 475.85546875, 495.9453125, 503.53125, 516.94921875, 566.328125, 657.875, 672.75390625, 722.2421875, 757.08984375, 792.88671875, 834.92578125, 842.90234375, 863.9921875, 911.953125, 918.1015625, 963.90625, 977.44921875, 1013.01171875, 1090.15625, 1154.88671875, 1162.44921875, 1217.94921875, 1247.0390625, 1302.6875, 1310.671875, 1317.05859375, 1325.03515625, 1331.2578125, 1415.01953125, 1513.9140625, 1520.65625, 1540.49609375, 1547.6328125, 1598.66015625, 1660.28125, 1724.90625, 1761.01171875, 1871.51171875, 1914.95703125, 1922.40625, 1928.828125, 1936.7578125, 1951.93359375, 1974.4921875, 1994.65234375, 2129.83203125, 2136.28515625, 2155.9140625, 2198.34765625, 2282.69921875, 2296.6328125, 2302.97265625, 2395.34375, 2478.39453125, 2491.82421875, 2499.3359375, 2555.44921875, 2584.94921875, 2605.70703125, 2638.0, 2688.328125]\n",
      "[15.00390625, 22.36328125, 29.4296875, 59.66015625, 106.90234375, 211.2421875, 257.9296875, 279.11328125, 311.7265625, 368.87890625, 403.51953125, 480.859375, 500.94921875, 508.53515625, 521.953125, 571.33203125, 662.87890625, 677.7578125, 727.24609375, 762.09375, 797.890625, 839.9296875, 847.90625, 868.99609375, 916.95703125, 923.10546875, 968.91015625, 982.453125, 1018.015625, 1095.16015625, 1159.890625, 1167.453125, 1222.953125, 1252.04296875, 1307.69140625, 1315.67578125, 1322.0625, 1330.0390625, 1336.26171875, 1420.0234375, 1518.91796875, 1525.66015625, 1545.5, 1552.63671875, 1603.6640625, 1665.28515625, 1729.91015625, 1766.015625, 1876.515625, 1919.9609375, 1927.41015625, 1933.83203125, 1941.76171875, 1956.9375, 1979.49609375, 1999.65625, 2134.8359375, 2141.2890625, 2160.91796875, 2203.3515625, 2287.703125, 2301.63671875, 2307.9765625, 2400.34765625, 2483.3984375, 2496.828125, 2504.33984375, 2560.453125, 2589.953125, 2610.7109375, 2643.00390625, 2693.33203125]\n",
      "Report on: PalmarGraspClassCue\n",
      "Total samples = 694656\n",
      "Sampling frequency (Hz) = 256\n",
      "Signal duration (s) = 2713.50\n",
      "Signal duration (min) = 45.23\n",
      "Total PalmarGraspClassCue events = 72\n",
      "Indexes (sample) = [8520, 24858, 44316, 47845, 51372, 54882, 58676, 72262, 95465, 106238, 120463, 125873, 131107, 138184, 147182, 149074, 155928, 157939, 177857, 183582, 196011, 199971, 210575, 220036, 243914, 249081, 265427, 277953, 287030, 290647, 294152, 301648, 314267, 315902, 330497, 347110, 354323, 368259, 375793, 381287, 403920, 423703, 427218, 428821, 432617, 440248, 453254, 456775, 470542, 477846, 481548, 485319, 498311, 503993, 509527, 514859, 554288, 556226, 574317, 575902, 577725, 586808, 593784, 610150, 631583, 649262, 652992, 660460, 669441, 681682, 683265, 690706]\n",
      "Times (s) = [33.28125, 97.1015625, 173.109375, 186.89453125, 200.671875, 214.3828125, 229.203125, 282.2734375, 372.91015625, 414.9921875, 470.55859375, 491.69140625, 512.13671875, 539.78125, 574.9296875, 582.3203125, 609.09375, 616.94921875, 694.75390625, 717.1171875, 765.66796875, 781.13671875, 822.55859375, 859.515625, 952.7890625, 972.97265625, 1036.82421875, 1085.75390625, 1121.2109375, 1135.33984375, 1149.03125, 1178.3125, 1227.60546875, 1233.9921875, 1291.00390625, 1355.8984375, 1384.07421875, 1438.51171875, 1467.94140625, 1489.40234375, 1577.8125, 1655.08984375, 1668.8203125, 1675.08203125, 1689.91015625, 1719.71875, 1770.5234375, 1784.27734375, 1838.0546875, 1866.5859375, 1881.046875, 1895.77734375, 1946.52734375, 1968.72265625, 1990.33984375, 2011.16796875, 2165.1875, 2172.7578125, 2243.42578125, 2249.6171875, 2256.73828125, 2292.21875, 2319.46875, 2383.3984375, 2467.12109375, 2536.1796875, 2550.75, 2579.921875, 2615.00390625, 2662.8203125, 2669.00390625, 2698.0703125]\n",
      "Duration between consecutive ones (s) = [63.8203125, 76.0078125, 13.78515625, 13.77734375, 13.7109375, 14.8203125, 53.0703125, 90.63671875, 42.08203125, 55.56640625, 21.1328125, 20.4453125, 27.64453125, 35.1484375, 7.390625, 26.7734375, 7.85546875, 77.8046875, 22.36328125, 48.55078125, 15.46875, 41.421875, 36.95703125, 93.2734375, 20.18359375, 63.8515625, 48.9296875, 35.45703125, 14.12890625, 13.69140625, 29.28125, 49.29296875, 6.38671875, 57.01171875, 64.89453125, 28.17578125, 54.4375, 29.4296875, 21.4609375, 88.41015625, 77.27734375, 13.73046875, 6.26171875, 14.828125, 29.80859375, 50.8046875, 13.75390625, 53.77734375, 28.53125, 14.4609375, 14.73046875, 50.75, 22.1953125, 21.6171875, 20.828125, 154.01953125, 7.5703125, 70.66796875, 6.19140625, 7.12109375, 35.48046875, 27.25, 63.9296875, 83.72265625, 69.05859375, 14.5703125, 29.171875, 35.08203125, 47.81640625, 6.18359375, 29.06640625]\n",
      "[31.28125, 95.1015625, 171.109375, 184.89453125, 198.671875, 212.3828125, 227.203125, 280.2734375, 370.91015625, 412.9921875, 468.55859375, 489.69140625, 510.13671875, 537.78125, 572.9296875, 580.3203125, 607.09375, 614.94921875, 692.75390625, 715.1171875, 763.66796875, 779.13671875, 820.55859375, 857.515625, 950.7890625, 970.97265625, 1034.82421875, 1083.75390625, 1119.2109375, 1133.33984375, 1147.03125, 1176.3125, 1225.60546875, 1231.9921875, 1289.00390625, 1353.8984375, 1382.07421875, 1436.51171875, 1465.94140625, 1487.40234375, 1575.8125, 1653.08984375, 1666.8203125, 1673.08203125, 1687.91015625, 1717.71875, 1768.5234375, 1782.27734375, 1836.0546875, 1864.5859375, 1879.046875, 1893.77734375, 1944.52734375, 1966.72265625, 1988.33984375, 2009.16796875, 2163.1875, 2170.7578125, 2241.42578125, 2247.6171875, 2254.73828125, 2290.21875, 2317.46875, 2381.3984375, 2465.12109375, 2534.1796875, 2548.75, 2577.921875, 2613.00390625, 2660.8203125, 2667.00390625, 2696.0703125]\n",
      "[36.28515625, 100.10546875, 176.11328125, 189.8984375, 203.67578125, 217.38671875, 232.20703125, 285.27734375, 375.9140625, 417.99609375, 473.5625, 494.6953125, 515.140625, 542.78515625, 577.93359375, 585.32421875, 612.09765625, 619.953125, 697.7578125, 720.12109375, 768.671875, 784.140625, 825.5625, 862.51953125, 955.79296875, 975.9765625, 1039.828125, 1088.7578125, 1124.21484375, 1138.34375, 1152.03515625, 1181.31640625, 1230.609375, 1236.99609375, 1294.0078125, 1358.90234375, 1387.078125, 1441.515625, 1470.9453125, 1492.40625, 1580.81640625, 1658.09375, 1671.82421875, 1678.0859375, 1692.9140625, 1722.72265625, 1773.52734375, 1787.28125, 1841.05859375, 1869.58984375, 1884.05078125, 1898.78125, 1949.53125, 1971.7265625, 1993.34375, 2014.171875, 2168.19140625, 2175.76171875, 2246.4296875, 2252.62109375, 2259.7421875, 2295.22265625, 2322.47265625, 2386.40234375, 2470.125, 2539.18359375, 2553.75390625, 2582.92578125, 2618.0078125, 2665.82421875, 2672.0078125, 2701.07421875]\n"
     ]
    },
    {
     "name": "stdout",
     "output_type": "stream",
     "text": [
      "Report on: LateralGraspClassCue\n",
      "Total samples = 694656\n",
      "Sampling frequency (Hz) = 256\n",
      "Signal duration (s) = 2713.50\n",
      "Signal duration (min) = 45.23\n",
      "Total LateralGraspClassCue events = 72\n",
      "Indexes (sample) = [10548, 17897, 32111, 35430, 37383, 49788, 56713, 66847, 80876, 84370, 97137, 108284, 111680, 116933, 118689, 142005, 163478, 165508, 170790, 181922, 201715, 206665, 218088, 225293, 238840, 254083, 255997, 267277, 268833, 270489, 272488, 282955, 310593, 328880, 343262, 348881, 350452, 352315, 360951, 371897, 391429, 393030, 418663, 420269, 430833, 438369, 446173, 449563, 465088, 466994, 472334, 486937, 502174, 520600, 526187, 534920, 549096, 557982, 561603, 565178, 568368, 581695, 595347, 608340, 622353, 624271, 629672, 647223, 651075, 663913, 672592, 674284]\n",
      "Times (s) = [41.203125, 69.91015625, 125.43359375, 138.3984375, 146.02734375, 194.484375, 221.53515625, 261.12109375, 315.921875, 329.5703125, 379.44140625, 422.984375, 436.25, 456.76953125, 463.62890625, 554.70703125, 638.5859375, 646.515625, 667.1484375, 710.6328125, 787.94921875, 807.28515625, 851.90625, 880.05078125, 932.96875, 992.51171875, 999.98828125, 1044.05078125, 1050.12890625, 1056.59765625, 1064.40625, 1105.29296875, 1213.25390625, 1284.6875, 1340.8671875, 1362.81640625, 1368.953125, 1376.23046875, 1409.96484375, 1452.72265625, 1529.01953125, 1535.2734375, 1635.40234375, 1641.67578125, 1682.94140625, 1712.37890625, 1742.86328125, 1756.10546875, 1816.75, 1824.1953125, 1845.0546875, 1902.09765625, 1961.6171875, 2033.59375, 2055.41796875, 2089.53125, 2144.90625, 2179.6171875, 2193.76171875, 2207.7265625, 2220.1875, 2272.24609375, 2325.57421875, 2376.328125, 2431.06640625, 2438.55859375, 2459.65625, 2528.21484375, 2543.26171875, 2593.41015625, 2627.3125, 2633.921875]\n",
      "Duration between consecutive ones (s) = [28.70703125, 55.5234375, 12.96484375, 7.62890625, 48.45703125, 27.05078125, 39.5859375, 54.80078125, 13.6484375, 49.87109375, 43.54296875, 13.265625, 20.51953125, 6.859375, 91.078125, 83.87890625, 7.9296875, 20.6328125, 43.484375, 77.31640625, 19.3359375, 44.62109375, 28.14453125, 52.91796875, 59.54296875, 7.4765625, 44.0625, 6.078125, 6.46875, 7.80859375, 40.88671875, 107.9609375, 71.43359375, 56.1796875, 21.94921875, 6.13671875, 7.27734375, 33.734375, 42.7578125, 76.296875, 6.25390625, 100.12890625, 6.2734375, 41.265625, 29.4375, 30.484375, 13.2421875, 60.64453125, 7.4453125, 20.859375, 57.04296875, 59.51953125, 71.9765625, 21.82421875, 34.11328125, 55.375, 34.7109375, 14.14453125, 13.96484375, 12.4609375, 52.05859375, 53.328125, 50.75390625, 54.73828125, 7.4921875, 21.09765625, 68.55859375, 15.046875, 50.1484375, 33.90234375, 6.609375]\n",
      "[39.203125, 67.91015625, 123.43359375, 136.3984375, 144.02734375, 192.484375, 219.53515625, 259.12109375, 313.921875, 327.5703125, 377.44140625, 420.984375, 434.25, 454.76953125, 461.62890625, 552.70703125, 636.5859375, 644.515625, 665.1484375, 708.6328125, 785.94921875, 805.28515625, 849.90625, 878.05078125, 930.96875, 990.51171875, 997.98828125, 1042.05078125, 1048.12890625, 1054.59765625, 1062.40625, 1103.29296875, 1211.25390625, 1282.6875, 1338.8671875, 1360.81640625, 1366.953125, 1374.23046875, 1407.96484375, 1450.72265625, 1527.01953125, 1533.2734375, 1633.40234375, 1639.67578125, 1680.94140625, 1710.37890625, 1740.86328125, 1754.10546875, 1814.75, 1822.1953125, 1843.0546875, 1900.09765625, 1959.6171875, 2031.59375, 2053.41796875, 2087.53125, 2142.90625, 2177.6171875, 2191.76171875, 2205.7265625, 2218.1875, 2270.24609375, 2323.57421875, 2374.328125, 2429.06640625, 2436.55859375, 2457.65625, 2526.21484375, 2541.26171875, 2591.41015625, 2625.3125, 2631.921875]\n",
      "[44.20703125, 72.9140625, 128.4375, 141.40234375, 149.03125, 197.48828125, 224.5390625, 264.125, 318.92578125, 332.57421875, 382.4453125, 425.98828125, 439.25390625, 459.7734375, 466.6328125, 557.7109375, 641.58984375, 649.51953125, 670.15234375, 713.63671875, 790.953125, 810.2890625, 854.91015625, 883.0546875, 935.97265625, 995.515625, 1002.9921875, 1047.0546875, 1053.1328125, 1059.6015625, 1067.41015625, 1108.296875, 1216.2578125, 1287.69140625, 1343.87109375, 1365.8203125, 1371.95703125, 1379.234375, 1412.96875, 1455.7265625, 1532.0234375, 1538.27734375, 1638.40625, 1644.6796875, 1685.9453125, 1715.3828125, 1745.8671875, 1759.109375, 1819.75390625, 1827.19921875, 1848.05859375, 1905.1015625, 1964.62109375, 2036.59765625, 2058.421875, 2092.53515625, 2147.91015625, 2182.62109375, 2196.765625, 2210.73046875, 2223.19140625, 2275.25, 2328.578125, 2379.33203125, 2434.0703125, 2441.5625, 2462.66015625, 2531.21875, 2546.265625, 2596.4140625, 2630.31640625, 2636.92578125]\n",
      "maxIter  5\n",
      "ovr 10.0 10.0 5 0.0001 l2 True 0.0001 squared_hinge 100000\n",
      "1 / 5\n",
      "2 / 5\n",
      "3 / 5\n",
      "4 / 5\n",
      "5 / 5\n"
     ]
    },
    {
     "name": "stderr",
     "output_type": "stream",
     "text": [
      "c:\\python36\\lib\\site-packages\\sklearn\\linear_model\\logistic.py:432: FutureWarning:\n",
      "\n",
      "Default solver will be changed to 'lbfgs' in 0.22. Specify a solver to silence this warning.\n",
      "\n"
     ]
    },
    {
     "name": "stdout",
     "output_type": "stream",
     "text": [
      "1 / 5\n"
     ]
    },
    {
     "name": "stderr",
     "output_type": "stream",
     "text": [
      "c:\\python36\\lib\\site-packages\\sklearn\\svm\\base.py:929: ConvergenceWarning:\n",
      "\n",
      "Liblinear failed to converge, increase the number of iterations.\n",
      "\n"
     ]
    },
    {
     "name": "stdout",
     "output_type": "stream",
     "text": [
      "2 / 5\n"
     ]
    },
    {
     "name": "stderr",
     "output_type": "stream",
     "text": [
      "c:\\python36\\lib\\site-packages\\sklearn\\svm\\base.py:929: ConvergenceWarning:\n",
      "\n",
      "Liblinear failed to converge, increase the number of iterations.\n",
      "\n",
      "c:\\python36\\lib\\site-packages\\sklearn\\svm\\base.py:929: ConvergenceWarning:\n",
      "\n",
      "Liblinear failed to converge, increase the number of iterations.\n",
      "\n"
     ]
    },
    {
     "name": "stdout",
     "output_type": "stream",
     "text": [
      "3 / 5\n"
     ]
    },
    {
     "name": "stderr",
     "output_type": "stream",
     "text": [
      "c:\\python36\\lib\\site-packages\\sklearn\\svm\\base.py:929: ConvergenceWarning:\n",
      "\n",
      "Liblinear failed to converge, increase the number of iterations.\n",
      "\n",
      "c:\\python36\\lib\\site-packages\\sklearn\\svm\\base.py:929: ConvergenceWarning:\n",
      "\n",
      "Liblinear failed to converge, increase the number of iterations.\n",
      "\n"
     ]
    },
    {
     "name": "stdout",
     "output_type": "stream",
     "text": [
      "4 / 5\n"
     ]
    },
    {
     "name": "stderr",
     "output_type": "stream",
     "text": [
      "c:\\python36\\lib\\site-packages\\sklearn\\svm\\base.py:929: ConvergenceWarning:\n",
      "\n",
      "Liblinear failed to converge, increase the number of iterations.\n",
      "\n",
      "c:\\python36\\lib\\site-packages\\sklearn\\svm\\base.py:929: ConvergenceWarning:\n",
      "\n",
      "Liblinear failed to converge, increase the number of iterations.\n",
      "\n"
     ]
    },
    {
     "name": "stdout",
     "output_type": "stream",
     "text": [
      "5 / 5\n"
     ]
    },
    {
     "name": "stderr",
     "output_type": "stream",
     "text": [
      "c:\\python36\\lib\\site-packages\\sklearn\\svm\\base.py:929: ConvergenceWarning:\n",
      "\n",
      "Liblinear failed to converge, increase the number of iterations.\n",
      "\n",
      "c:\\python36\\lib\\site-packages\\sklearn\\svm\\base.py:929: ConvergenceWarning:\n",
      "\n",
      "Liblinear failed to converge, increase the number of iterations.\n",
      "\n",
      "c:\\python36\\lib\\site-packages\\sklearn\\linear_model\\logistic.py:432: FutureWarning:\n",
      "\n",
      "Default solver will be changed to 'lbfgs' in 0.22. Specify a solver to silence this warning.\n",
      "\n"
     ]
    },
    {
     "name": "stdout",
     "output_type": "stream",
     "text": [
      "1 / 5\n"
     ]
    },
    {
     "name": "stderr",
     "output_type": "stream",
     "text": [
      "c:\\python36\\lib\\site-packages\\sklearn\\svm\\base.py:929: ConvergenceWarning:\n",
      "\n",
      "Liblinear failed to converge, increase the number of iterations.\n",
      "\n"
     ]
    },
    {
     "name": "stdout",
     "output_type": "stream",
     "text": [
      "2 / 5\n"
     ]
    },
    {
     "name": "stderr",
     "output_type": "stream",
     "text": [
      "c:\\python36\\lib\\site-packages\\sklearn\\svm\\base.py:929: ConvergenceWarning:\n",
      "\n",
      "Liblinear failed to converge, increase the number of iterations.\n",
      "\n",
      "c:\\python36\\lib\\site-packages\\sklearn\\svm\\base.py:929: ConvergenceWarning:\n",
      "\n",
      "Liblinear failed to converge, increase the number of iterations.\n",
      "\n"
     ]
    },
    {
     "name": "stdout",
     "output_type": "stream",
     "text": [
      "3 / 5\n"
     ]
    },
    {
     "name": "stderr",
     "output_type": "stream",
     "text": [
      "c:\\python36\\lib\\site-packages\\sklearn\\svm\\base.py:929: ConvergenceWarning:\n",
      "\n",
      "Liblinear failed to converge, increase the number of iterations.\n",
      "\n",
      "c:\\python36\\lib\\site-packages\\sklearn\\svm\\base.py:929: ConvergenceWarning:\n",
      "\n",
      "Liblinear failed to converge, increase the number of iterations.\n",
      "\n"
     ]
    },
    {
     "name": "stdout",
     "output_type": "stream",
     "text": [
      "4 / 5\n"
     ]
    },
    {
     "name": "stderr",
     "output_type": "stream",
     "text": [
      "c:\\python36\\lib\\site-packages\\sklearn\\svm\\base.py:929: ConvergenceWarning:\n",
      "\n",
      "Liblinear failed to converge, increase the number of iterations.\n",
      "\n",
      "c:\\python36\\lib\\site-packages\\sklearn\\svm\\base.py:929: ConvergenceWarning:\n",
      "\n",
      "Liblinear failed to converge, increase the number of iterations.\n",
      "\n"
     ]
    },
    {
     "name": "stdout",
     "output_type": "stream",
     "text": [
      "5 / 5\n"
     ]
    },
    {
     "name": "stderr",
     "output_type": "stream",
     "text": [
      "c:\\python36\\lib\\site-packages\\sklearn\\svm\\base.py:929: ConvergenceWarning:\n",
      "\n",
      "Liblinear failed to converge, increase the number of iterations.\n",
      "\n",
      "c:\\python36\\lib\\site-packages\\sklearn\\svm\\base.py:929: ConvergenceWarning:\n",
      "\n",
      "Liblinear failed to converge, increase the number of iterations.\n",
      "\n",
      "c:\\python36\\lib\\site-packages\\sklearn\\linear_model\\logistic.py:432: FutureWarning:\n",
      "\n",
      "Default solver will be changed to 'lbfgs' in 0.22. Specify a solver to silence this warning.\n",
      "\n"
     ]
    },
    {
     "name": "stdout",
     "output_type": "stream",
     "text": [
      "1 / 5\n"
     ]
    },
    {
     "name": "stderr",
     "output_type": "stream",
     "text": [
      "c:\\python36\\lib\\site-packages\\sklearn\\svm\\base.py:929: ConvergenceWarning:\n",
      "\n",
      "Liblinear failed to converge, increase the number of iterations.\n",
      "\n"
     ]
    },
    {
     "name": "stdout",
     "output_type": "stream",
     "text": [
      "2 / 5\n"
     ]
    },
    {
     "name": "stderr",
     "output_type": "stream",
     "text": [
      "c:\\python36\\lib\\site-packages\\sklearn\\svm\\base.py:929: ConvergenceWarning:\n",
      "\n",
      "Liblinear failed to converge, increase the number of iterations.\n",
      "\n",
      "c:\\python36\\lib\\site-packages\\sklearn\\svm\\base.py:929: ConvergenceWarning:\n",
      "\n",
      "Liblinear failed to converge, increase the number of iterations.\n",
      "\n"
     ]
    },
    {
     "name": "stdout",
     "output_type": "stream",
     "text": [
      "3 / 5\n"
     ]
    },
    {
     "name": "stderr",
     "output_type": "stream",
     "text": [
      "c:\\python36\\lib\\site-packages\\sklearn\\svm\\base.py:929: ConvergenceWarning:\n",
      "\n",
      "Liblinear failed to converge, increase the number of iterations.\n",
      "\n",
      "c:\\python36\\lib\\site-packages\\sklearn\\svm\\base.py:929: ConvergenceWarning:\n",
      "\n",
      "Liblinear failed to converge, increase the number of iterations.\n",
      "\n"
     ]
    },
    {
     "name": "stdout",
     "output_type": "stream",
     "text": [
      "4 / 5\n"
     ]
    },
    {
     "name": "stderr",
     "output_type": "stream",
     "text": [
      "c:\\python36\\lib\\site-packages\\sklearn\\svm\\base.py:929: ConvergenceWarning:\n",
      "\n",
      "Liblinear failed to converge, increase the number of iterations.\n",
      "\n",
      "c:\\python36\\lib\\site-packages\\sklearn\\svm\\base.py:929: ConvergenceWarning:\n",
      "\n",
      "Liblinear failed to converge, increase the number of iterations.\n",
      "\n"
     ]
    },
    {
     "name": "stdout",
     "output_type": "stream",
     "text": [
      "5 / 5\n"
     ]
    },
    {
     "name": "stderr",
     "output_type": "stream",
     "text": [
      "c:\\python36\\lib\\site-packages\\sklearn\\svm\\base.py:929: ConvergenceWarning:\n",
      "\n",
      "Liblinear failed to converge, increase the number of iterations.\n",
      "\n"
     ]
    },
    {
     "name": "stdout",
     "output_type": "stream",
     "text": [
      "------------------------------------------------------------------------------------------------\n",
      "REPORT\n",
      "P10\n",
      "              precision    recall  f1-score   support\n",
      "\n",
      "        Rest       0.24      0.27      0.26        22\n",
      "    HandOpen       0.13      0.10      0.11        21\n",
      " PalmarGrasp       0.38      0.27      0.32        22\n",
      "LateralGrasp       0.23      0.32      0.26        22\n",
      "\n",
      "    accuracy                           0.24        87\n",
      "   macro avg       0.24      0.24      0.24        87\n",
      "weighted avg       0.24      0.24      0.24        87\n",
      "\n",
      "              precision    recall  f1-score   support\n",
      "\n",
      "        Rest       0.78      0.56      0.65        50\n",
      "    HandOpen       0.57      0.45      0.51        51\n",
      " PalmarGrasp       0.53      0.54      0.53        50\n",
      "LateralGrasp       0.43      0.64      0.52        50\n",
      "\n",
      "    accuracy                           0.55       201\n",
      "   macro avg       0.58      0.55      0.55       201\n",
      "weighted avg       0.58      0.55      0.55       201\n",
      "\n",
      "------------------------------------------------------------------------------------------------\n"
     ]
    },
    {
     "name": "stderr",
     "output_type": "stream",
     "text": [
      "c:\\python36\\lib\\site-packages\\sklearn\\svm\\base.py:929: ConvergenceWarning:\n",
      "\n",
      "Liblinear failed to converge, increase the number of iterations.\n",
      "\n",
      "c:\\python36\\lib\\site-packages\\sklearn\\linear_model\\logistic.py:432: FutureWarning:\n",
      "\n",
      "Default solver will be changed to 'lbfgs' in 0.22. Specify a solver to silence this warning.\n",
      "\n"
     ]
    }
   ],
   "source": [
    "typeRun = 'AttemptedMovement'\n",
    "typeRest = 'Rest'\n",
    "eeg_channels = ['AFz', 'F3', 'F1', 'Fz', 'F2', 'F4', 'FFC5h', 'FFC3h', 'FFC1h', 'FFC2h', \n",
    "                'FFC4h', 'FFC6h', 'FC5', 'FC3', 'FC1', 'FCz', 'FC2', 'FC4', 'FC6', 'FCC5h', \n",
    "                'FCC3h', 'FCC1h', 'FCC2h', 'FCC4h', 'FCC6h', 'C5', 'C3', 'C1', 'Cz', 'C2', \n",
    "                'C4', 'C6', 'CCP5h', 'CCP3h', 'CCP1h', 'CCP2h', 'CCP4h', 'CCP6h', 'CP5', \n",
    "                'CP3', 'CP1', 'CPz', 'CP2', 'CP4', 'CP6', 'CPP5h', 'CPP3h', 'CPP1h', 'CPP2h', \n",
    "                'CPP4h', 'CPP6h', 'P5', 'P3', 'P1', 'Pz', 'P2', 'P4', 'P6', 'PPO1h', 'PPO2h', 'POz']\n",
    "\n",
    "\n",
    "\n",
    "movementTypes = ['SupinationClassCue','PronationClassCue','HandOpenClassCue', 'PalmarGraspClassCue','LateralGraspClassCue']\n",
    "movementTypes_of_interest = movementTypes[2:]\n",
    "\n",
    "target_names  = ['Rest'] +[val for val in movementTypes_of_interest]\n",
    "target_names = [val.replace('ClassCue','') for val in target_names]\n",
    "maincols = ['Run','TypeRun','TrialStart','Beep','FixationCross']\n",
    "\n",
    "eeg_channels_of_interest = ['AFz', 'F3', 'F1', 'Fz', 'F2', 'F4', 'FFC5h', 'FFC3h', 'FFC1h', 'FFC2h', \n",
    "                'FFC4h', 'FFC6h', 'FC5', 'FC3', 'FC1', 'FCz', 'FC2', 'FC4', 'FC6', 'FCC5h', \n",
    "                'FCC3h', 'FCC1h', 'FCC2h', 'FCC4h', 'FCC6h', 'C5', 'C3', 'C1', 'Cz', 'C2', \n",
    "                'C4', 'C6', 'CCP5h', 'CCP3h', 'CCP1h', 'CCP2h', 'CCP4h', 'CCP6h', 'CP5', \n",
    "                'CP3', 'CP1', 'CPz', 'CP2', 'CP4', 'CP6', 'CPP5h', 'CPP3h', 'CPP1h', 'CPP2h', \n",
    "                'CPP4h', 'CPP6h', 'P5', 'P3', 'P1', 'Pz', 'P2', 'P4', 'P6', 'PPO1h', 'PPO2h', 'POz']\n",
    "\n",
    "\n",
    "\n",
    "colors = ['red','green', 'blue', 'indigo','yellow','gray']\n",
    "lowcut = 8\n",
    "highcut = 24\n",
    "butter_order = 4\n",
    "tmin = -2.0\n",
    "tmax = 3.0\n",
    "bootstrapiterations = 100\n",
    "confidenceinterval = .95\n",
    "channel = 'C2'\n",
    "Users = ['P01','P02','P03','P04','P05','P06','P07','P08','P09','P10']\n",
    "\n",
    "listclf = []\n",
    "\n",
    "dataResult = []\n",
    "\n",
    "for indexuser in range(len(Users)):\n",
    "    df, sfreq, raw_mne = getDFData(URL='http://bnci-horizon-2020.eu/database/data-sets/001-2019/', User=Users[indexuser])\n",
    "    sfreq = sfreq[0]\n",
    "\n",
    "    dfFiltered = df[maincols+movementTypes_of_interest+eeg_channels_of_interest]\n",
    "    dfFiltered = CARFiltering(dfFiltered, eeg_channels_of_interest)\n",
    "    #dfFiltered = BANDPassFiltering(dfFiltered,eeg_channels_of_interest,lowcut,highcut, sfreq, 5)\n",
    "\n",
    "    #### **1. ¿How many \"Trial Start\" events do Runs of type Rest are in the data and what is the temporal distance between cosecutive \"Trial Start\" events?**\n",
    "\n",
    "    listEPOCHSALL = []\n",
    "    listLABELSALL = []\n",
    "\n",
    "    ### Analysis\n",
    "    # Filter by TypeRun equal to Rest\n",
    "    dfRest = dfFiltered[dfFiltered['TypeRun']=='Rest']\n",
    "    dfRest.reset_index(inplace=True)\n",
    "    #Signal rest\n",
    "    signalRest = dfRest['TrialStart'].values.tolist()\n",
    "    #Retrieve indexes where signal equals 1\n",
    "    indexesOnes = [i for i,val in enumerate(signalRest) if val == 1]\n",
    "    timesOnes = [val/(sfreq) for val in indexesOnes]\n",
    "    consecutiveOnes = [timesOnes[i+1]-timesOnes[i] for i,val in enumerate(timesOnes) if i+1 < len(timesOnes)]\n",
    "\n",
    "    ### Report\n",
    "    print('Report on REST:')\n",
    "    print('Total samples = %d'%(len(signalRest)))\n",
    "    print('Sampling frequency (Hz) = %d'%(sfreq))\n",
    "    print('Signal duration (s) = %.2f'%(len(signalRest)/sfreq))\n",
    "    print('Signal duration (min) = %.2f'%(len(signalRest)/(60.0*sfreq)))\n",
    "    print('Total trial start events = '+str(len(indexesOnes)))\n",
    "    print('Indexes (sample) = '+str(indexesOnes))\n",
    "    print('Times (s) = '+str(timesOnes))\n",
    "    print('Duration between consecutive ones (s) = '+str(consecutiveOnes))\n",
    "\n",
    "    #### **2. What are 72 epochs associated with REST?**\n",
    "    #R:/ From every \"Trial Start\" event we can slide window of duration: tmax - tmin.\n",
    "\n",
    "    #Estimating start and end for every epoch\n",
    "    totalEpochs = 72\n",
    "    epochsPerOnes = round(totalEpochs/len(indexesOnes))\n",
    "    starts = []\n",
    "    ends = []\n",
    "    startstimes = []\n",
    "    endstimes = []\n",
    "    offset = 0.5*sfreq # One half second\n",
    "    totalSamples = round(1 + ((tmax - tmin)*sfreq))\n",
    "    steps = round(0.5*totalSamples) #10% of advancing (90% traslaping)\n",
    "\n",
    "    for starIndexOnes in indexesOnes:\n",
    "        for i in range(epochsPerOnes):\n",
    "            start = round(starIndexOnes+offset+(i*steps))\n",
    "            starts.append(start)\n",
    "            ends.append(start+totalSamples)\n",
    "\n",
    "    #Transforming from sample to time\n",
    "    startstimes = [val/(sfreq) for val in starts]\n",
    "    endstimes = [val/(sfreq) for val in ends]\n",
    "\n",
    "    #Print and check\n",
    "    print(startstimes)\n",
    "    print(endstimes)\n",
    "\n",
    "    epochsRest = []\n",
    "    labelsRest = []\n",
    "    for start,end in zip(starts,ends):\n",
    "        epoch = dfRest.loc[start:end,eeg_channels_of_interest].values.T\n",
    "        epoch_multitaper = np.zeros(epoch.shape)\n",
    "        for chann in range(epoch.shape[0]):\n",
    "            r = multitaper_espectral(y=epoch[chann,:], fs=sfreq, NW=2.5,k=4)\n",
    "            epoch_multitaper[chann,:] = r\n",
    "        epoch_multitaper = np.cov(epoch_multitaper)\n",
    "        epochsRest.append(epoch_multitaper.copy())\n",
    "        labelsRest.append(0)\n",
    "    epochsRest = np.stack(epochsRest,axis=0)\n",
    "    labelsRest = np.array(labelsRest)\n",
    "\n",
    "    epochsRest.shape, labelsRest.shape\n",
    "    listEPOCHSALL.append(epochsRest.copy())\n",
    "    listLABELSALL.append(labelsRest.copy())\n",
    "\n",
    "\n",
    "    #### **3. ¿How many epochs for -Lateral Grasp- are in the data and which are those epochs?**\n",
    "    ### Analysis\n",
    "    for it, mov in enumerate(movementTypes_of_interest):\n",
    "        dfLG = dfFiltered[dfFiltered['TypeRun']=='AttemptedMovement']\n",
    "        dfLG.reset_index(inplace=True)\n",
    "        #Signal rest\n",
    "        signalLG = dfLG[mov].values.tolist()\n",
    "        #Retrieve indexes where signal equals 1\n",
    "        indexesOnes = [i for i,val in enumerate(signalLG) if val == 1]\n",
    "        timesOnes = [val/(sfreq) for val in indexesOnes]\n",
    "        consecutiveOnes = [timesOnes[i+1]-timesOnes[i] for i,val in enumerate(timesOnes) if i+1 < len(timesOnes)]\n",
    "\n",
    "        ### Report\n",
    "        print('Report on:', mov)\n",
    "        print('Total samples = %d'%(len(signalLG)))\n",
    "        print('Sampling frequency (Hz) = %d'%(sfreq))\n",
    "        print('Signal duration (s) = %.2f'%(len(signalLG)/sfreq))\n",
    "        print('Signal duration (min) = %.2f'%(len(signalLG)/(60.0*sfreq)))\n",
    "        print('Total '+mov+' events = '+str(len(indexesOnes)))\n",
    "        print('Indexes (sample) = '+str(indexesOnes))\n",
    "        print('Times (s) = '+str(timesOnes))\n",
    "        print('Duration between consecutive ones (s) = '+str(consecutiveOnes))\n",
    "\n",
    "        #Estimating start and end for every epoch\n",
    "        totalSamples = round(1 + ((tmax - tmin)*sfreq))\n",
    "        starts = []\n",
    "        ends = []\n",
    "        startstimes = []\n",
    "        endstimes = []\n",
    "\n",
    "        for starIndexOnes in indexesOnes:\n",
    "            start = starIndexOnes + sfreq*tmin\n",
    "            starts.append(start)\n",
    "            ends.append(start+totalSamples)\n",
    "\n",
    "        #Transforming from sample to time\n",
    "        startstimes = [val/(sfreq) for val in starts]\n",
    "        endstimes = [val/(sfreq) for val in ends]\n",
    "\n",
    "        #Print and check\n",
    "        print(startstimes)\n",
    "        print(endstimes)\n",
    "\n",
    "        epochsLG = []\n",
    "        labelsLG = []\n",
    "        for start,end in zip(starts,ends):\n",
    "            epoch = dfLG.loc[start:end,eeg_channels_of_interest].values.T\n",
    "            epoch_multitaper = np.zeros(epoch.shape)\n",
    "            for chann in range(epoch.shape[0]):\n",
    "                r = multitaper_espectral(y=epoch[chann,:], fs=sfreq, NW=2.5,k=4)\n",
    "                epoch_multitaper[chann,:] = r\n",
    "            epoch_multitaper = np.cov(epoch_multitaper)\n",
    "            #print('COV')\n",
    "            #print(epoch.shape)\n",
    "            epochsLG.append(epoch_multitaper.copy())\n",
    "            labelsLG.append(it+1)\n",
    "        epochsLG = np.stack(epochsLG,axis=0)\n",
    "        labelsLG = np.array(labelsLG)\n",
    "\n",
    "        epochsLG.shape, labelsLG.shape\n",
    "        listEPOCHSALL.append(epochsLG.copy())\n",
    "        listLABELSALL.append(labelsLG.copy())\n",
    "\n",
    "    X = np.concatenate(listEPOCHSALL, axis=0)\n",
    "    y = np.concatenate(listLABELSALL)\n",
    "    X.shape, y.shape, y\n",
    "\n",
    "    X_train, X_test, y_train, y_test = train_test_split(X, y, test_size=0.3, stratify=y, random_state=42)\n",
    "\n",
    "    clf_multi = pystmm.classifier.STMM(typemulticlassifier='ovr',C1=10.0, C2=10.0, maxIter=5, tolSTM=1e-4, penalty = 'l2', dual = True, tol=1e-4,loss = 'squared_hinge', maxIterSVM=100000)\n",
    "\n",
    "    clf_multi.fit(X_train, y_train)\n",
    "\n",
    "    y_pred = clf_multi.predict(X_test)\n",
    "    y_pred_train = clf_multi.predict(X_train)\n",
    "    \n",
    "    resulttrain = [Users[indexuser], 'Train','Precision']+[round(val,2) for val in precision_score(y_train, y_pred_train, average=None).tolist()]\n",
    "    dataResult.append(resulttrain)\n",
    "    resulttrain = [Users[indexuser], 'Train','Recall']+[round(val,2) for val in recall_score(y_train, y_pred_train, average=None).tolist()]\n",
    "    dataResult.append(resulttrain)\n",
    "    resulttrain = [Users[indexuser], 'Train','F1-score']+[round(val,2) for val in f1_score(y_train, y_pred_train, average=None).tolist()]\n",
    "    dataResult.append(resulttrain)\n",
    "    resulttrain = [Users[indexuser], 'Train','Support']+[len(y_train[y_train==cla]) for cla in range(len(target_names))]\n",
    "    dataResult.append(resulttrain)\n",
    "    resulttrain = [Users[indexuser], 'Train','Total-samples']+[len(y_train)]*len(target_names)\n",
    "    dataResult.append(resulttrain)\n",
    "    acc = round(accuracy_score(y_train, y_pred_train),2)\n",
    "    resulttrain = [Users[indexuser], 'Train','Accuracy']+[acc]*len(target_names)\n",
    "    dataResult.append(resulttrain)\n",
    "    chl = round(getChanceLevel(c=len(target_names),n=len(y_train),alpha=0.05),2)\n",
    "    resulttrain = [Users[indexuser], 'Train','Chance-Level']+[chl]*len(target_names)\n",
    "    dataResult.append(resulttrain)\n",
    "\n",
    "    \n",
    "    resulttest = [Users[indexuser], 'Test','Precision']+[round(val,2) for val in precision_score(y_test, y_pred, average=None).tolist()]\n",
    "    dataResult.append(resulttest)\n",
    "    resulttest = [Users[indexuser], 'Test','Recall']+[round(val,2) for val in recall_score(y_test, y_pred, average=None).tolist()]\n",
    "    dataResult.append(resulttest)\n",
    "    resulttest = [Users[indexuser], 'Test','F1-score']+[round(val,2) for val in f1_score(y_test, y_pred, average=None).tolist()]\n",
    "    dataResult.append(resulttest)\n",
    "    resulttest = [Users[indexuser], 'Test','Support']+[len(y_test[y_test==cla]) for cla in range(len(target_names))]\n",
    "    dataResult.append(resulttest)\n",
    "    resulttest = [Users[indexuser], 'Test','Total-Samples']+[len(y_test)]*len(target_names)\n",
    "    dataResult.append(resulttest)\n",
    "    acc = round(accuracy_score(y_test, y_pred),2)\n",
    "    resulttest = [Users[indexuser], 'Test','Accuracy']+[acc]*len(target_names)\n",
    "    dataResult.append(resulttest)\n",
    "    chl = round(getChanceLevel(c=len(target_names),n=len(y_test),alpha=0.05),2)\n",
    "    resulttest = [Users[indexuser], 'Test','Chance-Level']+[chl]*len(target_names)\n",
    "    dataResult.append(resulttest)\n",
    "\n",
    "    \n",
    "    print('------------------------------------------------------------------------------------------------')\n",
    "    print('REPORT')\n",
    "    print(Users[indexuser])\n",
    "    print(classification_report(y_test, y_pred, target_names=target_names))\n",
    "    print(classification_report(y_train, y_pred_train, target_names=target_names))\n",
    "    print('------------------------------------------------------------------------------------------------')\n",
    "    \n",
    "    listclf.append(clf_multi)"
   ]
  },
  {
   "cell_type": "code",
   "execution_count": 104,
   "metadata": {},
   "outputs": [
    {
     "data": {
      "text/plain": [
       "(288, 61, 61)"
      ]
     },
     "execution_count": 104,
     "metadata": {},
     "output_type": "execute_result"
    }
   ],
   "source": [
    "X.shape"
   ]
  },
  {
   "cell_type": "code",
   "execution_count": 90,
   "metadata": {},
   "outputs": [],
   "source": [
    "epoch_multitaper = np.zeros(epoch.shape)\n",
    "for chann in range(epoch.shape[0]):\n",
    "    r = multitaper_espectral(y=epoch[chann,:], fs=sfreq, NW=2.5,k=4)\n",
    "    epoch_multitaper[chann,:] = r"
   ]
  },
  {
   "cell_type": "code",
   "execution_count": 101,
   "metadata": {},
   "outputs": [
    {
     "data": {
      "text/html": [
       "<div>\n",
       "<style scoped>\n",
       "    .dataframe tbody tr th:only-of-type {\n",
       "        vertical-align: middle;\n",
       "    }\n",
       "\n",
       "    .dataframe tbody tr th {\n",
       "        vertical-align: top;\n",
       "    }\n",
       "\n",
       "    .dataframe thead th {\n",
       "        text-align: right;\n",
       "    }\n",
       "</style>\n",
       "<table border=\"1\" class=\"dataframe\">\n",
       "  <thead>\n",
       "    <tr style=\"text-align: right;\">\n",
       "      <th></th>\n",
       "      <th>User</th>\n",
       "      <th>Data</th>\n",
       "      <th>Metric</th>\n",
       "      <th>Rest</th>\n",
       "      <th>HandOpen</th>\n",
       "      <th>PalmarGrasp</th>\n",
       "      <th>LateralGrasp</th>\n",
       "    </tr>\n",
       "  </thead>\n",
       "  <tbody>\n",
       "    <tr>\n",
       "      <th>126</th>\n",
       "      <td>P10</td>\n",
       "      <td>Train</td>\n",
       "      <td>Precision</td>\n",
       "      <td>0.98</td>\n",
       "      <td>0.94</td>\n",
       "      <td>0.96</td>\n",
       "      <td>0.98</td>\n",
       "    </tr>\n",
       "    <tr>\n",
       "      <th>127</th>\n",
       "      <td>P10</td>\n",
       "      <td>Train</td>\n",
       "      <td>Recall</td>\n",
       "      <td>1.00</td>\n",
       "      <td>0.96</td>\n",
       "      <td>0.94</td>\n",
       "      <td>0.96</td>\n",
       "    </tr>\n",
       "    <tr>\n",
       "      <th>128</th>\n",
       "      <td>P10</td>\n",
       "      <td>Train</td>\n",
       "      <td>F1-score</td>\n",
       "      <td>0.99</td>\n",
       "      <td>0.95</td>\n",
       "      <td>0.95</td>\n",
       "      <td>0.97</td>\n",
       "    </tr>\n",
       "    <tr>\n",
       "      <th>129</th>\n",
       "      <td>P10</td>\n",
       "      <td>Train</td>\n",
       "      <td>Support</td>\n",
       "      <td>50.00</td>\n",
       "      <td>51.00</td>\n",
       "      <td>50.00</td>\n",
       "      <td>50.00</td>\n",
       "    </tr>\n",
       "    <tr>\n",
       "      <th>130</th>\n",
       "      <td>P10</td>\n",
       "      <td>Train</td>\n",
       "      <td>Total-samples</td>\n",
       "      <td>201.00</td>\n",
       "      <td>201.00</td>\n",
       "      <td>201.00</td>\n",
       "      <td>201.00</td>\n",
       "    </tr>\n",
       "    <tr>\n",
       "      <th>131</th>\n",
       "      <td>P10</td>\n",
       "      <td>Train</td>\n",
       "      <td>Accuracy</td>\n",
       "      <td>0.97</td>\n",
       "      <td>0.97</td>\n",
       "      <td>0.97</td>\n",
       "      <td>0.97</td>\n",
       "    </tr>\n",
       "    <tr>\n",
       "      <th>132</th>\n",
       "      <td>P10</td>\n",
       "      <td>Train</td>\n",
       "      <td>Chance-Level</td>\n",
       "      <td>0.30</td>\n",
       "      <td>0.30</td>\n",
       "      <td>0.30</td>\n",
       "      <td>0.30</td>\n",
       "    </tr>\n",
       "    <tr>\n",
       "      <th>133</th>\n",
       "      <td>P10</td>\n",
       "      <td>Test</td>\n",
       "      <td>Precision</td>\n",
       "      <td>0.67</td>\n",
       "      <td>0.35</td>\n",
       "      <td>0.44</td>\n",
       "      <td>0.38</td>\n",
       "    </tr>\n",
       "    <tr>\n",
       "      <th>134</th>\n",
       "      <td>P10</td>\n",
       "      <td>Test</td>\n",
       "      <td>Recall</td>\n",
       "      <td>0.73</td>\n",
       "      <td>0.38</td>\n",
       "      <td>0.32</td>\n",
       "      <td>0.41</td>\n",
       "    </tr>\n",
       "    <tr>\n",
       "      <th>135</th>\n",
       "      <td>P10</td>\n",
       "      <td>Test</td>\n",
       "      <td>F1-score</td>\n",
       "      <td>0.70</td>\n",
       "      <td>0.36</td>\n",
       "      <td>0.37</td>\n",
       "      <td>0.39</td>\n",
       "    </tr>\n",
       "    <tr>\n",
       "      <th>136</th>\n",
       "      <td>P10</td>\n",
       "      <td>Test</td>\n",
       "      <td>Support</td>\n",
       "      <td>22.00</td>\n",
       "      <td>21.00</td>\n",
       "      <td>22.00</td>\n",
       "      <td>22.00</td>\n",
       "    </tr>\n",
       "    <tr>\n",
       "      <th>137</th>\n",
       "      <td>P10</td>\n",
       "      <td>Test</td>\n",
       "      <td>Total-Samples</td>\n",
       "      <td>87.00</td>\n",
       "      <td>87.00</td>\n",
       "      <td>87.00</td>\n",
       "      <td>87.00</td>\n",
       "    </tr>\n",
       "    <tr>\n",
       "      <th>138</th>\n",
       "      <td>P10</td>\n",
       "      <td>Test</td>\n",
       "      <td>Accuracy</td>\n",
       "      <td>0.46</td>\n",
       "      <td>0.46</td>\n",
       "      <td>0.46</td>\n",
       "      <td>0.46</td>\n",
       "    </tr>\n",
       "    <tr>\n",
       "      <th>139</th>\n",
       "      <td>P10</td>\n",
       "      <td>Test</td>\n",
       "      <td>Chance-Level</td>\n",
       "      <td>0.33</td>\n",
       "      <td>0.33</td>\n",
       "      <td>0.33</td>\n",
       "      <td>0.33</td>\n",
       "    </tr>\n",
       "  </tbody>\n",
       "</table>\n",
       "</div>"
      ],
      "text/plain": [
       "    User   Data         Metric    Rest  HandOpen  PalmarGrasp  LateralGrasp\n",
       "126  P10  Train      Precision    0.98      0.94         0.96          0.98\n",
       "127  P10  Train         Recall    1.00      0.96         0.94          0.96\n",
       "128  P10  Train       F1-score    0.99      0.95         0.95          0.97\n",
       "129  P10  Train        Support   50.00     51.00        50.00         50.00\n",
       "130  P10  Train  Total-samples  201.00    201.00       201.00        201.00\n",
       "131  P10  Train       Accuracy    0.97      0.97         0.97          0.97\n",
       "132  P10  Train   Chance-Level    0.30      0.30         0.30          0.30\n",
       "133  P10   Test      Precision    0.67      0.35         0.44          0.38\n",
       "134  P10   Test         Recall    0.73      0.38         0.32          0.41\n",
       "135  P10   Test       F1-score    0.70      0.36         0.37          0.39\n",
       "136  P10   Test        Support   22.00     21.00        22.00         22.00\n",
       "137  P10   Test  Total-Samples   87.00     87.00        87.00         87.00\n",
       "138  P10   Test       Accuracy    0.46      0.46         0.46          0.46\n",
       "139  P10   Test   Chance-Level    0.33      0.33         0.33          0.33"
      ]
     },
     "execution_count": 101,
     "metadata": {},
     "output_type": "execute_result"
    }
   ],
   "source": [
    "dfResult = pd.DataFrame(data=dataResult, columns=['User','Data','Metric']+target_names)\n",
    "dfResult[dfResult['User']=='P10'].head(15)"
   ]
  },
  {
   "cell_type": "code",
   "execution_count": 102,
   "metadata": {},
   "outputs": [],
   "source": [
    "dfResultFreq"
   ]
  },
  {
   "cell_type": "code",
   "execution_count": 71,
   "metadata": {},
   "outputs": [],
   "source": [
    "dfResultTemp"
   ]
  },
  {
   "cell_type": "code",
   "execution_count": 70,
   "metadata": {},
   "outputs": [],
   "source": [
    "dfResultCov"
   ]
  },
  {
   "cell_type": "code",
   "execution_count": 68,
   "metadata": {},
   "outputs": [],
   "source": [
    "from sklearn.svm import SVC\n",
    "from sklearn.model_selection import StratifiedKFold\n",
    "from sklearn.model_selection import permutation_test_score\n",
    "from sklearn.datasets import load_iris\n",
    "\n",
    "iris = load_iris()\n",
    "X = iris.data\n",
    "y = iris.target\n",
    "n_uncorrelated_features = 2200\n",
    "rng = np.random.RandomState(seed=0)\n",
    "# Use same number of samples as in iris and 2200 features\n",
    "X_rand = rng.normal(size=(X.shape[0], n_uncorrelated_features))\n",
    "\n",
    "clf = SVC(kernel='linear', random_state=7)\n",
    "cv = StratifiedKFold(2, shuffle=True, random_state=0)\n",
    "\n",
    "score_iris, perm_scores_iris, pvalue_iris = permutation_test_score(\n",
    "    clf, X, y, scoring=\"accuracy\", cv=cv, n_permutations=1000)\n",
    "\n",
    "score_rand, perm_scores_rand, pvalue_rand = permutation_test_score(\n",
    "    clf, X_rand, y, scoring=\"accuracy\", cv=cv, n_permutations=1000)"
   ]
  },
  {
   "cell_type": "code",
   "execution_count": 69,
   "metadata": {},
   "outputs": [
    {
     "data": {
      "image/png": "[encoded data removed]",
      "text/plain": [
       "<Figure size 432x288 with 1 Axes>"
      ]
     },
     "metadata": {
      "needs_background": "light"
     },
     "output_type": "display_data"
    }
   ],
   "source": [
    "import matplotlib.pyplot as plt\n",
    "\n",
    "fig, ax = plt.subplots()\n",
    "\n",
    "ax.hist(perm_scores_iris, bins=20, density=True)\n",
    "ax.axvline(score_iris, ls='--', color='r')\n",
    "score_label = (f\"Score on original\\ndata: {score_iris:.2f}\\n\"\n",
    "               f\"(p-value: {pvalue_iris:.3f})\")\n",
    "ax.text(0.7, 260, score_label, fontsize=12)\n",
    "ax.set_xlabel(\"Accuracy score\")\n",
    "_ = ax.set_ylabel(\"Probability\")"
   ]
  },
  {
   "cell_type": "code",
   "execution_count": 11,
   "metadata": {
    "id": "kgxAQJS49l9p"
   },
   "outputs": [],
   "source": [
    "cv = ShuffleSplit(10, test_size=0.2, random_state=42)\n",
    "cv_split = cv.split(X)"
   ]
  },
  {
   "cell_type": "code",
   "execution_count": 73,
   "metadata": {
    "colab": {
     "base_uri": "https://localhost:8080/"
    },
    "id": "9XKuW8_E9szP",
    "outputId": "309da67d-ec51-4f10-b43f-229c528173c9"
   },
   "outputs": [
    {
     "name": "stdout",
     "output_type": "stream",
     "text": [
      "maxIter  30\n",
      "ovr 1.0 1.0 30 0.0001 l2 True 0.0001 squared_hinge 100000\n",
      "1 / 30\n",
      "2 / 30\n"
     ]
    },
    {
     "name": "stderr",
     "output_type": "stream",
     "text": [
      "c:\\python36\\lib\\site-packages\\sklearn\\svm\\base.py:929: ConvergenceWarning:\n",
      "\n",
      "Liblinear failed to converge, increase the number of iterations.\n",
      "\n"
     ]
    },
    {
     "name": "stdout",
     "output_type": "stream",
     "text": [
      "3 / 30\n"
     ]
    },
    {
     "name": "stderr",
     "output_type": "stream",
     "text": [
      "c:\\python36\\lib\\site-packages\\sklearn\\svm\\base.py:929: ConvergenceWarning:\n",
      "\n",
      "Liblinear failed to converge, increase the number of iterations.\n",
      "\n"
     ]
    },
    {
     "name": "stdout",
     "output_type": "stream",
     "text": [
      "4 / 30\n"
     ]
    },
    {
     "name": "stderr",
     "output_type": "stream",
     "text": [
      "c:\\python36\\lib\\site-packages\\sklearn\\svm\\base.py:929: ConvergenceWarning:\n",
      "\n",
      "Liblinear failed to converge, increase the number of iterations.\n",
      "\n"
     ]
    },
    {
     "name": "stdout",
     "output_type": "stream",
     "text": [
      "5 / 30\n"
     ]
    },
    {
     "name": "stderr",
     "output_type": "stream",
     "text": [
      "c:\\python36\\lib\\site-packages\\sklearn\\svm\\base.py:929: ConvergenceWarning:\n",
      "\n",
      "Liblinear failed to converge, increase the number of iterations.\n",
      "\n"
     ]
    },
    {
     "name": "stdout",
     "output_type": "stream",
     "text": [
      "6 / 30\n"
     ]
    },
    {
     "name": "stderr",
     "output_type": "stream",
     "text": [
      "c:\\python36\\lib\\site-packages\\sklearn\\svm\\base.py:929: ConvergenceWarning:\n",
      "\n",
      "Liblinear failed to converge, increase the number of iterations.\n",
      "\n"
     ]
    },
    {
     "name": "stdout",
     "output_type": "stream",
     "text": [
      "7 / 30\n"
     ]
    },
    {
     "name": "stderr",
     "output_type": "stream",
     "text": [
      "c:\\python36\\lib\\site-packages\\sklearn\\svm\\base.py:929: ConvergenceWarning:\n",
      "\n",
      "Liblinear failed to converge, increase the number of iterations.\n",
      "\n"
     ]
    },
    {
     "name": "stdout",
     "output_type": "stream",
     "text": [
      "8 / 30\n"
     ]
    },
    {
     "name": "stderr",
     "output_type": "stream",
     "text": [
      "c:\\python36\\lib\\site-packages\\sklearn\\svm\\base.py:929: ConvergenceWarning:\n",
      "\n",
      "Liblinear failed to converge, increase the number of iterations.\n",
      "\n"
     ]
    },
    {
     "name": "stdout",
     "output_type": "stream",
     "text": [
      "9 / 30\n"
     ]
    },
    {
     "name": "stderr",
     "output_type": "stream",
     "text": [
      "c:\\python36\\lib\\site-packages\\sklearn\\svm\\base.py:929: ConvergenceWarning:\n",
      "\n",
      "Liblinear failed to converge, increase the number of iterations.\n",
      "\n"
     ]
    },
    {
     "name": "stdout",
     "output_type": "stream",
     "text": [
      "10 / 30\n"
     ]
    },
    {
     "name": "stderr",
     "output_type": "stream",
     "text": [
      "c:\\python36\\lib\\site-packages\\sklearn\\svm\\base.py:929: ConvergenceWarning:\n",
      "\n",
      "Liblinear failed to converge, increase the number of iterations.\n",
      "\n"
     ]
    },
    {
     "name": "stdout",
     "output_type": "stream",
     "text": [
      "11 / 30\n"
     ]
    },
    {
     "name": "stderr",
     "output_type": "stream",
     "text": [
      "c:\\python36\\lib\\site-packages\\sklearn\\svm\\base.py:929: ConvergenceWarning:\n",
      "\n",
      "Liblinear failed to converge, increase the number of iterations.\n",
      "\n"
     ]
    },
    {
     "name": "stdout",
     "output_type": "stream",
     "text": [
      "12 / 30\n"
     ]
    },
    {
     "name": "stderr",
     "output_type": "stream",
     "text": [
      "c:\\python36\\lib\\site-packages\\sklearn\\svm\\base.py:929: ConvergenceWarning:\n",
      "\n",
      "Liblinear failed to converge, increase the number of iterations.\n",
      "\n"
     ]
    },
    {
     "name": "stdout",
     "output_type": "stream",
     "text": [
      "13 / 30\n"
     ]
    },
    {
     "name": "stderr",
     "output_type": "stream",
     "text": [
      "c:\\python36\\lib\\site-packages\\sklearn\\svm\\base.py:929: ConvergenceWarning:\n",
      "\n",
      "Liblinear failed to converge, increase the number of iterations.\n",
      "\n"
     ]
    },
    {
     "name": "stdout",
     "output_type": "stream",
     "text": [
      "14 / 30\n"
     ]
    },
    {
     "name": "stderr",
     "output_type": "stream",
     "text": [
      "c:\\python36\\lib\\site-packages\\sklearn\\svm\\base.py:929: ConvergenceWarning:\n",
      "\n",
      "Liblinear failed to converge, increase the number of iterations.\n",
      "\n"
     ]
    },
    {
     "name": "stdout",
     "output_type": "stream",
     "text": [
      "15 / 30\n"
     ]
    },
    {
     "name": "stderr",
     "output_type": "stream",
     "text": [
      "c:\\python36\\lib\\site-packages\\sklearn\\svm\\base.py:929: ConvergenceWarning:\n",
      "\n",
      "Liblinear failed to converge, increase the number of iterations.\n",
      "\n"
     ]
    },
    {
     "name": "stdout",
     "output_type": "stream",
     "text": [
      "16 / 30\n"
     ]
    },
    {
     "name": "stderr",
     "output_type": "stream",
     "text": [
      "c:\\python36\\lib\\site-packages\\sklearn\\svm\\base.py:929: ConvergenceWarning:\n",
      "\n",
      "Liblinear failed to converge, increase the number of iterations.\n",
      "\n"
     ]
    },
    {
     "name": "stdout",
     "output_type": "stream",
     "text": [
      "17 / 30\n"
     ]
    },
    {
     "name": "stderr",
     "output_type": "stream",
     "text": [
      "c:\\python36\\lib\\site-packages\\sklearn\\svm\\base.py:929: ConvergenceWarning:\n",
      "\n",
      "Liblinear failed to converge, increase the number of iterations.\n",
      "\n"
     ]
    },
    {
     "name": "stdout",
     "output_type": "stream",
     "text": [
      "18 / 30\n"
     ]
    },
    {
     "name": "stderr",
     "output_type": "stream",
     "text": [
      "c:\\python36\\lib\\site-packages\\sklearn\\svm\\base.py:929: ConvergenceWarning:\n",
      "\n",
      "Liblinear failed to converge, increase the number of iterations.\n",
      "\n"
     ]
    },
    {
     "name": "stdout",
     "output_type": "stream",
     "text": [
      "19 / 30\n"
     ]
    },
    {
     "name": "stderr",
     "output_type": "stream",
     "text": [
      "c:\\python36\\lib\\site-packages\\sklearn\\svm\\base.py:929: ConvergenceWarning:\n",
      "\n",
      "Liblinear failed to converge, increase the number of iterations.\n",
      "\n"
     ]
    },
    {
     "name": "stdout",
     "output_type": "stream",
     "text": [
      "20 / 30\n"
     ]
    },
    {
     "name": "stderr",
     "output_type": "stream",
     "text": [
      "c:\\python36\\lib\\site-packages\\sklearn\\svm\\base.py:929: ConvergenceWarning:\n",
      "\n",
      "Liblinear failed to converge, increase the number of iterations.\n",
      "\n"
     ]
    },
    {
     "name": "stdout",
     "output_type": "stream",
     "text": [
      "21 / 30\n"
     ]
    },
    {
     "name": "stderr",
     "output_type": "stream",
     "text": [
      "c:\\python36\\lib\\site-packages\\sklearn\\svm\\base.py:929: ConvergenceWarning:\n",
      "\n",
      "Liblinear failed to converge, increase the number of iterations.\n",
      "\n"
     ]
    },
    {
     "name": "stdout",
     "output_type": "stream",
     "text": [
      "22 / 30\n"
     ]
    },
    {
     "name": "stderr",
     "output_type": "stream",
     "text": [
      "c:\\python36\\lib\\site-packages\\sklearn\\svm\\base.py:929: ConvergenceWarning:\n",
      "\n",
      "Liblinear failed to converge, increase the number of iterations.\n",
      "\n"
     ]
    },
    {
     "name": "stdout",
     "output_type": "stream",
     "text": [
      "23 / 30\n"
     ]
    },
    {
     "name": "stderr",
     "output_type": "stream",
     "text": [
      "c:\\python36\\lib\\site-packages\\sklearn\\svm\\base.py:929: ConvergenceWarning:\n",
      "\n",
      "Liblinear failed to converge, increase the number of iterations.\n",
      "\n"
     ]
    },
    {
     "name": "stdout",
     "output_type": "stream",
     "text": [
      "24 / 30\n"
     ]
    },
    {
     "name": "stderr",
     "output_type": "stream",
     "text": [
      "c:\\python36\\lib\\site-packages\\sklearn\\svm\\base.py:929: ConvergenceWarning:\n",
      "\n",
      "Liblinear failed to converge, increase the number of iterations.\n",
      "\n"
     ]
    },
    {
     "name": "stdout",
     "output_type": "stream",
     "text": [
      "25 / 30\n"
     ]
    },
    {
     "name": "stderr",
     "output_type": "stream",
     "text": [
      "c:\\python36\\lib\\site-packages\\sklearn\\svm\\base.py:929: ConvergenceWarning:\n",
      "\n",
      "Liblinear failed to converge, increase the number of iterations.\n",
      "\n"
     ]
    },
    {
     "name": "stdout",
     "output_type": "stream",
     "text": [
      "26 / 30\n"
     ]
    },
    {
     "name": "stderr",
     "output_type": "stream",
     "text": [
      "c:\\python36\\lib\\site-packages\\sklearn\\svm\\base.py:929: ConvergenceWarning:\n",
      "\n",
      "Liblinear failed to converge, increase the number of iterations.\n",
      "\n"
     ]
    },
    {
     "name": "stdout",
     "output_type": "stream",
     "text": [
      "27 / 30\n"
     ]
    },
    {
     "name": "stderr",
     "output_type": "stream",
     "text": [
      "c:\\python36\\lib\\site-packages\\sklearn\\svm\\base.py:929: ConvergenceWarning:\n",
      "\n",
      "Liblinear failed to converge, increase the number of iterations.\n",
      "\n"
     ]
    },
    {
     "name": "stdout",
     "output_type": "stream",
     "text": [
      "28 / 30\n"
     ]
    },
    {
     "name": "stderr",
     "output_type": "stream",
     "text": [
      "c:\\python36\\lib\\site-packages\\sklearn\\svm\\base.py:929: ConvergenceWarning:\n",
      "\n",
      "Liblinear failed to converge, increase the number of iterations.\n",
      "\n"
     ]
    },
    {
     "name": "stdout",
     "output_type": "stream",
     "text": [
      "29 / 30\n"
     ]
    },
    {
     "name": "stderr",
     "output_type": "stream",
     "text": [
      "c:\\python36\\lib\\site-packages\\sklearn\\svm\\base.py:929: ConvergenceWarning:\n",
      "\n",
      "Liblinear failed to converge, increase the number of iterations.\n",
      "\n"
     ]
    },
    {
     "name": "stdout",
     "output_type": "stream",
     "text": [
      "30 / 30\n"
     ]
    },
    {
     "name": "stderr",
     "output_type": "stream",
     "text": [
      "c:\\python36\\lib\\site-packages\\sklearn\\svm\\base.py:929: ConvergenceWarning:\n",
      "\n",
      "Liblinear failed to converge, increase the number of iterations.\n",
      "\n",
      "c:\\python36\\lib\\site-packages\\sklearn\\linear_model\\logistic.py:432: FutureWarning:\n",
      "\n",
      "Default solver will be changed to 'lbfgs' in 0.22. Specify a solver to silence this warning.\n",
      "\n"
     ]
    },
    {
     "name": "stdout",
     "output_type": "stream",
     "text": [
      "1 / 30\n",
      "2 / 30\n"
     ]
    },
    {
     "name": "stderr",
     "output_type": "stream",
     "text": [
      "c:\\python36\\lib\\site-packages\\sklearn\\svm\\base.py:929: ConvergenceWarning:\n",
      "\n",
      "Liblinear failed to converge, increase the number of iterations.\n",
      "\n"
     ]
    },
    {
     "name": "stdout",
     "output_type": "stream",
     "text": [
      "3 / 30\n"
     ]
    },
    {
     "name": "stderr",
     "output_type": "stream",
     "text": [
      "c:\\python36\\lib\\site-packages\\sklearn\\svm\\base.py:929: ConvergenceWarning:\n",
      "\n",
      "Liblinear failed to converge, increase the number of iterations.\n",
      "\n"
     ]
    },
    {
     "name": "stdout",
     "output_type": "stream",
     "text": [
      "4 / 30\n",
      "5 / 30\n",
      "6 / 30\n",
      "7 / 30\n"
     ]
    },
    {
     "name": "stderr",
     "output_type": "stream",
     "text": [
      "c:\\python36\\lib\\site-packages\\sklearn\\svm\\base.py:929: ConvergenceWarning:\n",
      "\n",
      "Liblinear failed to converge, increase the number of iterations.\n",
      "\n"
     ]
    },
    {
     "name": "stdout",
     "output_type": "stream",
     "text": [
      "8 / 30\n",
      "9 / 30\n"
     ]
    },
    {
     "name": "stderr",
     "output_type": "stream",
     "text": [
      "c:\\python36\\lib\\site-packages\\sklearn\\svm\\base.py:929: ConvergenceWarning:\n",
      "\n",
      "Liblinear failed to converge, increase the number of iterations.\n",
      "\n"
     ]
    },
    {
     "name": "stdout",
     "output_type": "stream",
     "text": [
      "10 / 30\n",
      "11 / 30\n",
      "12 / 30\n"
     ]
    },
    {
     "name": "stderr",
     "output_type": "stream",
     "text": [
      "c:\\python36\\lib\\site-packages\\sklearn\\svm\\base.py:929: ConvergenceWarning:\n",
      "\n",
      "Liblinear failed to converge, increase the number of iterations.\n",
      "\n"
     ]
    },
    {
     "name": "stdout",
     "output_type": "stream",
     "text": [
      "13 / 30\n"
     ]
    },
    {
     "name": "stderr",
     "output_type": "stream",
     "text": [
      "c:\\python36\\lib\\site-packages\\sklearn\\svm\\base.py:929: ConvergenceWarning:\n",
      "\n",
      "Liblinear failed to converge, increase the number of iterations.\n",
      "\n"
     ]
    },
    {
     "name": "stdout",
     "output_type": "stream",
     "text": [
      "14 / 30\n"
     ]
    },
    {
     "name": "stderr",
     "output_type": "stream",
     "text": [
      "c:\\python36\\lib\\site-packages\\sklearn\\svm\\base.py:929: ConvergenceWarning:\n",
      "\n",
      "Liblinear failed to converge, increase the number of iterations.\n",
      "\n"
     ]
    },
    {
     "name": "stdout",
     "output_type": "stream",
     "text": [
      "15 / 30\n"
     ]
    },
    {
     "name": "stderr",
     "output_type": "stream",
     "text": [
      "c:\\python36\\lib\\site-packages\\sklearn\\svm\\base.py:929: ConvergenceWarning:\n",
      "\n",
      "Liblinear failed to converge, increase the number of iterations.\n",
      "\n"
     ]
    },
    {
     "name": "stdout",
     "output_type": "stream",
     "text": [
      "16 / 30\n"
     ]
    },
    {
     "name": "stderr",
     "output_type": "stream",
     "text": [
      "c:\\python36\\lib\\site-packages\\sklearn\\svm\\base.py:929: ConvergenceWarning:\n",
      "\n",
      "Liblinear failed to converge, increase the number of iterations.\n",
      "\n"
     ]
    },
    {
     "name": "stdout",
     "output_type": "stream",
     "text": [
      "17 / 30\n"
     ]
    },
    {
     "name": "stderr",
     "output_type": "stream",
     "text": [
      "c:\\python36\\lib\\site-packages\\sklearn\\svm\\base.py:929: ConvergenceWarning:\n",
      "\n",
      "Liblinear failed to converge, increase the number of iterations.\n",
      "\n"
     ]
    },
    {
     "name": "stdout",
     "output_type": "stream",
     "text": [
      "18 / 30\n"
     ]
    },
    {
     "name": "stderr",
     "output_type": "stream",
     "text": [
      "c:\\python36\\lib\\site-packages\\sklearn\\svm\\base.py:929: ConvergenceWarning:\n",
      "\n",
      "Liblinear failed to converge, increase the number of iterations.\n",
      "\n"
     ]
    },
    {
     "name": "stdout",
     "output_type": "stream",
     "text": [
      "19 / 30\n"
     ]
    },
    {
     "name": "stderr",
     "output_type": "stream",
     "text": [
      "c:\\python36\\lib\\site-packages\\sklearn\\svm\\base.py:929: ConvergenceWarning:\n",
      "\n",
      "Liblinear failed to converge, increase the number of iterations.\n",
      "\n"
     ]
    },
    {
     "name": "stdout",
     "output_type": "stream",
     "text": [
      "20 / 30\n"
     ]
    },
    {
     "name": "stderr",
     "output_type": "stream",
     "text": [
      "c:\\python36\\lib\\site-packages\\sklearn\\svm\\base.py:929: ConvergenceWarning:\n",
      "\n",
      "Liblinear failed to converge, increase the number of iterations.\n",
      "\n"
     ]
    },
    {
     "name": "stdout",
     "output_type": "stream",
     "text": [
      "21 / 30\n"
     ]
    },
    {
     "name": "stderr",
     "output_type": "stream",
     "text": [
      "c:\\python36\\lib\\site-packages\\sklearn\\svm\\base.py:929: ConvergenceWarning:\n",
      "\n",
      "Liblinear failed to converge, increase the number of iterations.\n",
      "\n"
     ]
    },
    {
     "name": "stdout",
     "output_type": "stream",
     "text": [
      "22 / 30\n"
     ]
    },
    {
     "name": "stderr",
     "output_type": "stream",
     "text": [
      "c:\\python36\\lib\\site-packages\\sklearn\\svm\\base.py:929: ConvergenceWarning:\n",
      "\n",
      "Liblinear failed to converge, increase the number of iterations.\n",
      "\n"
     ]
    },
    {
     "name": "stdout",
     "output_type": "stream",
     "text": [
      "23 / 30\n"
     ]
    },
    {
     "name": "stderr",
     "output_type": "stream",
     "text": [
      "c:\\python36\\lib\\site-packages\\sklearn\\svm\\base.py:929: ConvergenceWarning:\n",
      "\n",
      "Liblinear failed to converge, increase the number of iterations.\n",
      "\n"
     ]
    },
    {
     "name": "stdout",
     "output_type": "stream",
     "text": [
      "24 / 30\n"
     ]
    },
    {
     "name": "stderr",
     "output_type": "stream",
     "text": [
      "c:\\python36\\lib\\site-packages\\sklearn\\svm\\base.py:929: ConvergenceWarning:\n",
      "\n",
      "Liblinear failed to converge, increase the number of iterations.\n",
      "\n"
     ]
    },
    {
     "name": "stdout",
     "output_type": "stream",
     "text": [
      "25 / 30\n"
     ]
    },
    {
     "name": "stderr",
     "output_type": "stream",
     "text": [
      "c:\\python36\\lib\\site-packages\\sklearn\\svm\\base.py:929: ConvergenceWarning:\n",
      "\n",
      "Liblinear failed to converge, increase the number of iterations.\n",
      "\n"
     ]
    },
    {
     "name": "stdout",
     "output_type": "stream",
     "text": [
      "26 / 30\n"
     ]
    },
    {
     "ename": "KeyboardInterrupt",
     "evalue": "",
     "output_type": "error",
     "traceback": [
      "\u001b[1;31m---------------------------------------------------------------------------\u001b[0m",
      "\u001b[1;31mKeyboardInterrupt\u001b[0m                         Traceback (most recent call last)",
      "\u001b[1;32m<ipython-input-73-9a9a632f2f53>\u001b[0m in \u001b[0;36m<module>\u001b[1;34m()\u001b[0m\n\u001b[1;32m----> 1\u001b[1;33m \u001b[0mscores\u001b[0m \u001b[1;33m=\u001b[0m \u001b[0mcross_val_score\u001b[0m\u001b[1;33m(\u001b[0m\u001b[0mclf_multi\u001b[0m\u001b[1;33m,\u001b[0m \u001b[0mX\u001b[0m\u001b[1;33m,\u001b[0m \u001b[0my\u001b[0m\u001b[1;33m,\u001b[0m \u001b[0mcv\u001b[0m\u001b[1;33m=\u001b[0m\u001b[0mcv\u001b[0m\u001b[1;33m,\u001b[0m \u001b[0mn_jobs\u001b[0m\u001b[1;33m=\u001b[0m\u001b[1;36m1\u001b[0m\u001b[1;33m)\u001b[0m\u001b[1;33m\u001b[0m\u001b[0m\n\u001b[0m\u001b[0;32m      2\u001b[0m \u001b[0mprint\u001b[0m\u001b[1;33m(\u001b[0m\u001b[0mscores\u001b[0m\u001b[1;33m)\u001b[0m\u001b[1;33m\u001b[0m\u001b[0m\n",
      "\u001b[1;32mc:\\python36\\lib\\site-packages\\sklearn\\model_selection\\_validation.py\u001b[0m in \u001b[0;36mcross_val_score\u001b[1;34m(estimator, X, y, groups, scoring, cv, n_jobs, verbose, fit_params, pre_dispatch, error_score)\u001b[0m\n\u001b[0;32m    389\u001b[0m                                 \u001b[0mfit_params\u001b[0m\u001b[1;33m=\u001b[0m\u001b[0mfit_params\u001b[0m\u001b[1;33m,\u001b[0m\u001b[1;33m\u001b[0m\u001b[0m\n\u001b[0;32m    390\u001b[0m                                 \u001b[0mpre_dispatch\u001b[0m\u001b[1;33m=\u001b[0m\u001b[0mpre_dispatch\u001b[0m\u001b[1;33m,\u001b[0m\u001b[1;33m\u001b[0m\u001b[0m\n\u001b[1;32m--> 391\u001b[1;33m                                 error_score=error_score)\n\u001b[0m\u001b[0;32m    392\u001b[0m     \u001b[1;32mreturn\u001b[0m \u001b[0mcv_results\u001b[0m\u001b[1;33m[\u001b[0m\u001b[1;34m'test_score'\u001b[0m\u001b[1;33m]\u001b[0m\u001b[1;33m\u001b[0m\u001b[0m\n\u001b[0;32m    393\u001b[0m \u001b[1;33m\u001b[0m\u001b[0m\n",
      "\u001b[1;32mc:\\python36\\lib\\site-packages\\sklearn\\model_selection\\_validation.py\u001b[0m in \u001b[0;36mcross_validate\u001b[1;34m(estimator, X, y, groups, scoring, cv, n_jobs, verbose, fit_params, pre_dispatch, return_train_score, return_estimator, error_score)\u001b[0m\n\u001b[0;32m    230\u001b[0m             \u001b[0mreturn_times\u001b[0m\u001b[1;33m=\u001b[0m\u001b[1;32mTrue\u001b[0m\u001b[1;33m,\u001b[0m \u001b[0mreturn_estimator\u001b[0m\u001b[1;33m=\u001b[0m\u001b[0mreturn_estimator\u001b[0m\u001b[1;33m,\u001b[0m\u001b[1;33m\u001b[0m\u001b[0m\n\u001b[0;32m    231\u001b[0m             error_score=error_score)\n\u001b[1;32m--> 232\u001b[1;33m         for train, test in cv.split(X, y, groups))\n\u001b[0m\u001b[0;32m    233\u001b[0m \u001b[1;33m\u001b[0m\u001b[0m\n\u001b[0;32m    234\u001b[0m     \u001b[0mzipped_scores\u001b[0m \u001b[1;33m=\u001b[0m \u001b[0mlist\u001b[0m\u001b[1;33m(\u001b[0m\u001b[0mzip\u001b[0m\u001b[1;33m(\u001b[0m\u001b[1;33m*\u001b[0m\u001b[0mscores\u001b[0m\u001b[1;33m)\u001b[0m\u001b[1;33m)\u001b[0m\u001b[1;33m\u001b[0m\u001b[0m\n",
      "\u001b[1;32mc:\\python36\\lib\\site-packages\\joblib\\parallel.py\u001b[0m in \u001b[0;36m__call__\u001b[1;34m(self, iterable)\u001b[0m\n\u001b[0;32m    777\u001b[0m             \u001b[1;31m# was dispatched. In particular this covers the edge\u001b[0m\u001b[1;33m\u001b[0m\u001b[1;33m\u001b[0m\u001b[0m\n\u001b[0;32m    778\u001b[0m             \u001b[1;31m# case of Parallel used with an exhausted iterator.\u001b[0m\u001b[1;33m\u001b[0m\u001b[1;33m\u001b[0m\u001b[0m\n\u001b[1;32m--> 779\u001b[1;33m             \u001b[1;32mwhile\u001b[0m \u001b[0mself\u001b[0m\u001b[1;33m.\u001b[0m\u001b[0mdispatch_one_batch\u001b[0m\u001b[1;33m(\u001b[0m\u001b[0miterator\u001b[0m\u001b[1;33m)\u001b[0m\u001b[1;33m:\u001b[0m\u001b[1;33m\u001b[0m\u001b[0m\n\u001b[0m\u001b[0;32m    780\u001b[0m                 \u001b[0mself\u001b[0m\u001b[1;33m.\u001b[0m\u001b[0m_iterating\u001b[0m \u001b[1;33m=\u001b[0m \u001b[1;32mTrue\u001b[0m\u001b[1;33m\u001b[0m\u001b[0m\n\u001b[0;32m    781\u001b[0m             \u001b[1;32melse\u001b[0m\u001b[1;33m:\u001b[0m\u001b[1;33m\u001b[0m\u001b[0m\n",
      "\u001b[1;32mc:\\python36\\lib\\site-packages\\joblib\\parallel.py\u001b[0m in \u001b[0;36mdispatch_one_batch\u001b[1;34m(self, iterator)\u001b[0m\n\u001b[0;32m    623\u001b[0m                 \u001b[1;32mreturn\u001b[0m \u001b[1;32mFalse\u001b[0m\u001b[1;33m\u001b[0m\u001b[0m\n\u001b[0;32m    624\u001b[0m             \u001b[1;32melse\u001b[0m\u001b[1;33m:\u001b[0m\u001b[1;33m\u001b[0m\u001b[0m\n\u001b[1;32m--> 625\u001b[1;33m                 \u001b[0mself\u001b[0m\u001b[1;33m.\u001b[0m\u001b[0m_dispatch\u001b[0m\u001b[1;33m(\u001b[0m\u001b[0mtasks\u001b[0m\u001b[1;33m)\u001b[0m\u001b[1;33m\u001b[0m\u001b[0m\n\u001b[0m\u001b[0;32m    626\u001b[0m                 \u001b[1;32mreturn\u001b[0m \u001b[1;32mTrue\u001b[0m\u001b[1;33m\u001b[0m\u001b[0m\n\u001b[0;32m    627\u001b[0m \u001b[1;33m\u001b[0m\u001b[0m\n",
      "\u001b[1;32mc:\\python36\\lib\\site-packages\\joblib\\parallel.py\u001b[0m in \u001b[0;36m_dispatch\u001b[1;34m(self, batch)\u001b[0m\n\u001b[0;32m    586\u001b[0m         \u001b[0mdispatch_timestamp\u001b[0m \u001b[1;33m=\u001b[0m \u001b[0mtime\u001b[0m\u001b[1;33m.\u001b[0m\u001b[0mtime\u001b[0m\u001b[1;33m(\u001b[0m\u001b[1;33m)\u001b[0m\u001b[1;33m\u001b[0m\u001b[0m\n\u001b[0;32m    587\u001b[0m         \u001b[0mcb\u001b[0m \u001b[1;33m=\u001b[0m \u001b[0mBatchCompletionCallBack\u001b[0m\u001b[1;33m(\u001b[0m\u001b[0mdispatch_timestamp\u001b[0m\u001b[1;33m,\u001b[0m \u001b[0mlen\u001b[0m\u001b[1;33m(\u001b[0m\u001b[0mbatch\u001b[0m\u001b[1;33m)\u001b[0m\u001b[1;33m,\u001b[0m \u001b[0mself\u001b[0m\u001b[1;33m)\u001b[0m\u001b[1;33m\u001b[0m\u001b[0m\n\u001b[1;32m--> 588\u001b[1;33m         \u001b[0mjob\u001b[0m \u001b[1;33m=\u001b[0m \u001b[0mself\u001b[0m\u001b[1;33m.\u001b[0m\u001b[0m_backend\u001b[0m\u001b[1;33m.\u001b[0m\u001b[0mapply_async\u001b[0m\u001b[1;33m(\u001b[0m\u001b[0mbatch\u001b[0m\u001b[1;33m,\u001b[0m \u001b[0mcallback\u001b[0m\u001b[1;33m=\u001b[0m\u001b[0mcb\u001b[0m\u001b[1;33m)\u001b[0m\u001b[1;33m\u001b[0m\u001b[0m\n\u001b[0m\u001b[0;32m    589\u001b[0m         \u001b[0mself\u001b[0m\u001b[1;33m.\u001b[0m\u001b[0m_jobs\u001b[0m\u001b[1;33m.\u001b[0m\u001b[0mappend\u001b[0m\u001b[1;33m(\u001b[0m\u001b[0mjob\u001b[0m\u001b[1;33m)\u001b[0m\u001b[1;33m\u001b[0m\u001b[0m\n\u001b[0;32m    590\u001b[0m \u001b[1;33m\u001b[0m\u001b[0m\n",
      "\u001b[1;32mc:\\python36\\lib\\site-packages\\joblib\\_parallel_backends.py\u001b[0m in \u001b[0;36mapply_async\u001b[1;34m(self, func, callback)\u001b[0m\n\u001b[0;32m    109\u001b[0m     \u001b[1;32mdef\u001b[0m \u001b[0mapply_async\u001b[0m\u001b[1;33m(\u001b[0m\u001b[0mself\u001b[0m\u001b[1;33m,\u001b[0m \u001b[0mfunc\u001b[0m\u001b[1;33m,\u001b[0m \u001b[0mcallback\u001b[0m\u001b[1;33m=\u001b[0m\u001b[1;32mNone\u001b[0m\u001b[1;33m)\u001b[0m\u001b[1;33m:\u001b[0m\u001b[1;33m\u001b[0m\u001b[0m\n\u001b[0;32m    110\u001b[0m         \u001b[1;34m\"\"\"Schedule a func to be run\"\"\"\u001b[0m\u001b[1;33m\u001b[0m\u001b[0m\n\u001b[1;32m--> 111\u001b[1;33m         \u001b[0mresult\u001b[0m \u001b[1;33m=\u001b[0m \u001b[0mImmediateResult\u001b[0m\u001b[1;33m(\u001b[0m\u001b[0mfunc\u001b[0m\u001b[1;33m)\u001b[0m\u001b[1;33m\u001b[0m\u001b[0m\n\u001b[0m\u001b[0;32m    112\u001b[0m         \u001b[1;32mif\u001b[0m \u001b[0mcallback\u001b[0m\u001b[1;33m:\u001b[0m\u001b[1;33m\u001b[0m\u001b[0m\n\u001b[0;32m    113\u001b[0m             \u001b[0mcallback\u001b[0m\u001b[1;33m(\u001b[0m\u001b[0mresult\u001b[0m\u001b[1;33m)\u001b[0m\u001b[1;33m\u001b[0m\u001b[0m\n",
      "\u001b[1;32mc:\\python36\\lib\\site-packages\\joblib\\_parallel_backends.py\u001b[0m in \u001b[0;36m__init__\u001b[1;34m(self, batch)\u001b[0m\n\u001b[0;32m    330\u001b[0m         \u001b[1;31m# Don't delay the application, to avoid keeping the input\u001b[0m\u001b[1;33m\u001b[0m\u001b[1;33m\u001b[0m\u001b[0m\n\u001b[0;32m    331\u001b[0m         \u001b[1;31m# arguments in memory\u001b[0m\u001b[1;33m\u001b[0m\u001b[1;33m\u001b[0m\u001b[0m\n\u001b[1;32m--> 332\u001b[1;33m         \u001b[0mself\u001b[0m\u001b[1;33m.\u001b[0m\u001b[0mresults\u001b[0m \u001b[1;33m=\u001b[0m \u001b[0mbatch\u001b[0m\u001b[1;33m(\u001b[0m\u001b[1;33m)\u001b[0m\u001b[1;33m\u001b[0m\u001b[0m\n\u001b[0m\u001b[0;32m    333\u001b[0m \u001b[1;33m\u001b[0m\u001b[0m\n\u001b[0;32m    334\u001b[0m     \u001b[1;32mdef\u001b[0m \u001b[0mget\u001b[0m\u001b[1;33m(\u001b[0m\u001b[0mself\u001b[0m\u001b[1;33m)\u001b[0m\u001b[1;33m:\u001b[0m\u001b[1;33m\u001b[0m\u001b[0m\n",
      "\u001b[1;32mc:\\python36\\lib\\site-packages\\joblib\\parallel.py\u001b[0m in \u001b[0;36m__call__\u001b[1;34m(self)\u001b[0m\n\u001b[0;32m    129\u001b[0m \u001b[1;33m\u001b[0m\u001b[0m\n\u001b[0;32m    130\u001b[0m     \u001b[1;32mdef\u001b[0m \u001b[0m__call__\u001b[0m\u001b[1;33m(\u001b[0m\u001b[0mself\u001b[0m\u001b[1;33m)\u001b[0m\u001b[1;33m:\u001b[0m\u001b[1;33m\u001b[0m\u001b[0m\n\u001b[1;32m--> 131\u001b[1;33m         \u001b[1;32mreturn\u001b[0m \u001b[1;33m[\u001b[0m\u001b[0mfunc\u001b[0m\u001b[1;33m(\u001b[0m\u001b[1;33m*\u001b[0m\u001b[0margs\u001b[0m\u001b[1;33m,\u001b[0m \u001b[1;33m**\u001b[0m\u001b[0mkwargs\u001b[0m\u001b[1;33m)\u001b[0m \u001b[1;32mfor\u001b[0m \u001b[0mfunc\u001b[0m\u001b[1;33m,\u001b[0m \u001b[0margs\u001b[0m\u001b[1;33m,\u001b[0m \u001b[0mkwargs\u001b[0m \u001b[1;32min\u001b[0m \u001b[0mself\u001b[0m\u001b[1;33m.\u001b[0m\u001b[0mitems\u001b[0m\u001b[1;33m]\u001b[0m\u001b[1;33m\u001b[0m\u001b[0m\n\u001b[0m\u001b[0;32m    132\u001b[0m \u001b[1;33m\u001b[0m\u001b[0m\n\u001b[0;32m    133\u001b[0m     \u001b[1;32mdef\u001b[0m \u001b[0m__len__\u001b[0m\u001b[1;33m(\u001b[0m\u001b[0mself\u001b[0m\u001b[1;33m)\u001b[0m\u001b[1;33m:\u001b[0m\u001b[1;33m\u001b[0m\u001b[0m\n",
      "\u001b[1;32mc:\\python36\\lib\\site-packages\\joblib\\parallel.py\u001b[0m in \u001b[0;36m<listcomp>\u001b[1;34m(.0)\u001b[0m\n\u001b[0;32m    129\u001b[0m \u001b[1;33m\u001b[0m\u001b[0m\n\u001b[0;32m    130\u001b[0m     \u001b[1;32mdef\u001b[0m \u001b[0m__call__\u001b[0m\u001b[1;33m(\u001b[0m\u001b[0mself\u001b[0m\u001b[1;33m)\u001b[0m\u001b[1;33m:\u001b[0m\u001b[1;33m\u001b[0m\u001b[0m\n\u001b[1;32m--> 131\u001b[1;33m         \u001b[1;32mreturn\u001b[0m \u001b[1;33m[\u001b[0m\u001b[0mfunc\u001b[0m\u001b[1;33m(\u001b[0m\u001b[1;33m*\u001b[0m\u001b[0margs\u001b[0m\u001b[1;33m,\u001b[0m \u001b[1;33m**\u001b[0m\u001b[0mkwargs\u001b[0m\u001b[1;33m)\u001b[0m \u001b[1;32mfor\u001b[0m \u001b[0mfunc\u001b[0m\u001b[1;33m,\u001b[0m \u001b[0margs\u001b[0m\u001b[1;33m,\u001b[0m \u001b[0mkwargs\u001b[0m \u001b[1;32min\u001b[0m \u001b[0mself\u001b[0m\u001b[1;33m.\u001b[0m\u001b[0mitems\u001b[0m\u001b[1;33m]\u001b[0m\u001b[1;33m\u001b[0m\u001b[0m\n\u001b[0m\u001b[0;32m    132\u001b[0m \u001b[1;33m\u001b[0m\u001b[0m\n\u001b[0;32m    133\u001b[0m     \u001b[1;32mdef\u001b[0m \u001b[0m__len__\u001b[0m\u001b[1;33m(\u001b[0m\u001b[0mself\u001b[0m\u001b[1;33m)\u001b[0m\u001b[1;33m:\u001b[0m\u001b[1;33m\u001b[0m\u001b[0m\n",
      "\u001b[1;32mc:\\python36\\lib\\site-packages\\sklearn\\model_selection\\_validation.py\u001b[0m in \u001b[0;36m_fit_and_score\u001b[1;34m(estimator, X, y, scorer, train, test, verbose, parameters, fit_params, return_train_score, return_parameters, return_n_test_samples, return_times, return_estimator, error_score)\u001b[0m\n\u001b[0;32m    514\u001b[0m             \u001b[0mestimator\u001b[0m\u001b[1;33m.\u001b[0m\u001b[0mfit\u001b[0m\u001b[1;33m(\u001b[0m\u001b[0mX_train\u001b[0m\u001b[1;33m,\u001b[0m \u001b[1;33m**\u001b[0m\u001b[0mfit_params\u001b[0m\u001b[1;33m)\u001b[0m\u001b[1;33m\u001b[0m\u001b[0m\n\u001b[0;32m    515\u001b[0m         \u001b[1;32melse\u001b[0m\u001b[1;33m:\u001b[0m\u001b[1;33m\u001b[0m\u001b[0m\n\u001b[1;32m--> 516\u001b[1;33m             \u001b[0mestimator\u001b[0m\u001b[1;33m.\u001b[0m\u001b[0mfit\u001b[0m\u001b[1;33m(\u001b[0m\u001b[0mX_train\u001b[0m\u001b[1;33m,\u001b[0m \u001b[0my_train\u001b[0m\u001b[1;33m,\u001b[0m \u001b[1;33m**\u001b[0m\u001b[0mfit_params\u001b[0m\u001b[1;33m)\u001b[0m\u001b[1;33m\u001b[0m\u001b[0m\n\u001b[0m\u001b[0;32m    517\u001b[0m \u001b[1;33m\u001b[0m\u001b[0m\n\u001b[0;32m    518\u001b[0m     \u001b[1;32mexcept\u001b[0m \u001b[0mException\u001b[0m \u001b[1;32mas\u001b[0m \u001b[0me\u001b[0m\u001b[1;33m:\u001b[0m\u001b[1;33m\u001b[0m\u001b[0m\n",
      "\u001b[1;32mc:\\python36\\lib\\site-packages\\pystmm-0.1.0-py3.6.egg\\pystmm\\classifier.py\u001b[0m in \u001b[0;36mfit\u001b[1;34m(self, X, y, sample_weight)\u001b[0m\n\u001b[0;32m    521\u001b[0m \u001b[1;33m\u001b[0m\u001b[0m\n\u001b[0;32m    522\u001b[0m     \u001b[1;32mdef\u001b[0m \u001b[0mfit\u001b[0m\u001b[1;33m(\u001b[0m\u001b[0mself\u001b[0m\u001b[1;33m,\u001b[0m \u001b[0mX\u001b[0m\u001b[1;33m,\u001b[0m \u001b[0my\u001b[0m\u001b[1;33m,\u001b[0m \u001b[0msample_weight\u001b[0m\u001b[1;33m=\u001b[0m\u001b[1;32mNone\u001b[0m\u001b[1;33m)\u001b[0m\u001b[1;33m:\u001b[0m\u001b[1;33m\u001b[0m\u001b[0m\n\u001b[1;32m--> 523\u001b[1;33m         \u001b[0mself\u001b[0m\u001b[1;33m.\u001b[0m\u001b[0mclf\u001b[0m\u001b[1;33m.\u001b[0m\u001b[0mfit\u001b[0m\u001b[1;33m(\u001b[0m\u001b[0mX\u001b[0m\u001b[1;33m,\u001b[0m \u001b[0my\u001b[0m\u001b[1;33m)\u001b[0m\u001b[1;33m\u001b[0m\u001b[0m\n\u001b[0m\u001b[0;32m    524\u001b[0m         \u001b[1;32mreturn\u001b[0m \u001b[0mself\u001b[0m\u001b[1;33m\u001b[0m\u001b[0m\n\u001b[0;32m    525\u001b[0m \u001b[1;33m\u001b[0m\u001b[0m\n",
      "\u001b[1;32mc:\\python36\\lib\\site-packages\\sklearn\\multiclass.py\u001b[0m in \u001b[0;36mfit\u001b[1;34m(self, X, y)\u001b[0m\n\u001b[0;32m    214\u001b[0m                 \u001b[1;34m\"not %s\"\u001b[0m \u001b[1;33m%\u001b[0m \u001b[0mself\u001b[0m\u001b[1;33m.\u001b[0m\u001b[0mlabel_binarizer_\u001b[0m\u001b[1;33m.\u001b[0m\u001b[0mclasses_\u001b[0m\u001b[1;33m[\u001b[0m\u001b[0mi\u001b[0m\u001b[1;33m]\u001b[0m\u001b[1;33m,\u001b[0m\u001b[1;33m\u001b[0m\u001b[0m\n\u001b[0;32m    215\u001b[0m                 self.label_binarizer_.classes_[i]])\n\u001b[1;32m--> 216\u001b[1;33m             for i, column in enumerate(columns))\n\u001b[0m\u001b[0;32m    217\u001b[0m \u001b[1;33m\u001b[0m\u001b[0m\n\u001b[0;32m    218\u001b[0m         \u001b[1;32mreturn\u001b[0m \u001b[0mself\u001b[0m\u001b[1;33m\u001b[0m\u001b[0m\n",
      "\u001b[1;32mc:\\python36\\lib\\site-packages\\joblib\\parallel.py\u001b[0m in \u001b[0;36m__call__\u001b[1;34m(self, iterable)\u001b[0m\n\u001b[0;32m    777\u001b[0m             \u001b[1;31m# was dispatched. In particular this covers the edge\u001b[0m\u001b[1;33m\u001b[0m\u001b[1;33m\u001b[0m\u001b[0m\n\u001b[0;32m    778\u001b[0m             \u001b[1;31m# case of Parallel used with an exhausted iterator.\u001b[0m\u001b[1;33m\u001b[0m\u001b[1;33m\u001b[0m\u001b[0m\n\u001b[1;32m--> 779\u001b[1;33m             \u001b[1;32mwhile\u001b[0m \u001b[0mself\u001b[0m\u001b[1;33m.\u001b[0m\u001b[0mdispatch_one_batch\u001b[0m\u001b[1;33m(\u001b[0m\u001b[0miterator\u001b[0m\u001b[1;33m)\u001b[0m\u001b[1;33m:\u001b[0m\u001b[1;33m\u001b[0m\u001b[0m\n\u001b[0m\u001b[0;32m    780\u001b[0m                 \u001b[0mself\u001b[0m\u001b[1;33m.\u001b[0m\u001b[0m_iterating\u001b[0m \u001b[1;33m=\u001b[0m \u001b[1;32mTrue\u001b[0m\u001b[1;33m\u001b[0m\u001b[0m\n\u001b[0;32m    781\u001b[0m             \u001b[1;32melse\u001b[0m\u001b[1;33m:\u001b[0m\u001b[1;33m\u001b[0m\u001b[0m\n",
      "\u001b[1;32mc:\\python36\\lib\\site-packages\\joblib\\parallel.py\u001b[0m in \u001b[0;36mdispatch_one_batch\u001b[1;34m(self, iterator)\u001b[0m\n\u001b[0;32m    623\u001b[0m                 \u001b[1;32mreturn\u001b[0m \u001b[1;32mFalse\u001b[0m\u001b[1;33m\u001b[0m\u001b[0m\n\u001b[0;32m    624\u001b[0m             \u001b[1;32melse\u001b[0m\u001b[1;33m:\u001b[0m\u001b[1;33m\u001b[0m\u001b[0m\n\u001b[1;32m--> 625\u001b[1;33m                 \u001b[0mself\u001b[0m\u001b[1;33m.\u001b[0m\u001b[0m_dispatch\u001b[0m\u001b[1;33m(\u001b[0m\u001b[0mtasks\u001b[0m\u001b[1;33m)\u001b[0m\u001b[1;33m\u001b[0m\u001b[0m\n\u001b[0m\u001b[0;32m    626\u001b[0m                 \u001b[1;32mreturn\u001b[0m \u001b[1;32mTrue\u001b[0m\u001b[1;33m\u001b[0m\u001b[0m\n\u001b[0;32m    627\u001b[0m \u001b[1;33m\u001b[0m\u001b[0m\n",
      "\u001b[1;32mc:\\python36\\lib\\site-packages\\joblib\\parallel.py\u001b[0m in \u001b[0;36m_dispatch\u001b[1;34m(self, batch)\u001b[0m\n\u001b[0;32m    586\u001b[0m         \u001b[0mdispatch_timestamp\u001b[0m \u001b[1;33m=\u001b[0m \u001b[0mtime\u001b[0m\u001b[1;33m.\u001b[0m\u001b[0mtime\u001b[0m\u001b[1;33m(\u001b[0m\u001b[1;33m)\u001b[0m\u001b[1;33m\u001b[0m\u001b[0m\n\u001b[0;32m    587\u001b[0m         \u001b[0mcb\u001b[0m \u001b[1;33m=\u001b[0m \u001b[0mBatchCompletionCallBack\u001b[0m\u001b[1;33m(\u001b[0m\u001b[0mdispatch_timestamp\u001b[0m\u001b[1;33m,\u001b[0m \u001b[0mlen\u001b[0m\u001b[1;33m(\u001b[0m\u001b[0mbatch\u001b[0m\u001b[1;33m)\u001b[0m\u001b[1;33m,\u001b[0m \u001b[0mself\u001b[0m\u001b[1;33m)\u001b[0m\u001b[1;33m\u001b[0m\u001b[0m\n\u001b[1;32m--> 588\u001b[1;33m         \u001b[0mjob\u001b[0m \u001b[1;33m=\u001b[0m \u001b[0mself\u001b[0m\u001b[1;33m.\u001b[0m\u001b[0m_backend\u001b[0m\u001b[1;33m.\u001b[0m\u001b[0mapply_async\u001b[0m\u001b[1;33m(\u001b[0m\u001b[0mbatch\u001b[0m\u001b[1;33m,\u001b[0m \u001b[0mcallback\u001b[0m\u001b[1;33m=\u001b[0m\u001b[0mcb\u001b[0m\u001b[1;33m)\u001b[0m\u001b[1;33m\u001b[0m\u001b[0m\n\u001b[0m\u001b[0;32m    589\u001b[0m         \u001b[0mself\u001b[0m\u001b[1;33m.\u001b[0m\u001b[0m_jobs\u001b[0m\u001b[1;33m.\u001b[0m\u001b[0mappend\u001b[0m\u001b[1;33m(\u001b[0m\u001b[0mjob\u001b[0m\u001b[1;33m)\u001b[0m\u001b[1;33m\u001b[0m\u001b[0m\n\u001b[0;32m    590\u001b[0m \u001b[1;33m\u001b[0m\u001b[0m\n",
      "\u001b[1;32mc:\\python36\\lib\\site-packages\\joblib\\_parallel_backends.py\u001b[0m in \u001b[0;36mapply_async\u001b[1;34m(self, func, callback)\u001b[0m\n\u001b[0;32m    109\u001b[0m     \u001b[1;32mdef\u001b[0m \u001b[0mapply_async\u001b[0m\u001b[1;33m(\u001b[0m\u001b[0mself\u001b[0m\u001b[1;33m,\u001b[0m \u001b[0mfunc\u001b[0m\u001b[1;33m,\u001b[0m \u001b[0mcallback\u001b[0m\u001b[1;33m=\u001b[0m\u001b[1;32mNone\u001b[0m\u001b[1;33m)\u001b[0m\u001b[1;33m:\u001b[0m\u001b[1;33m\u001b[0m\u001b[0m\n\u001b[0;32m    110\u001b[0m         \u001b[1;34m\"\"\"Schedule a func to be run\"\"\"\u001b[0m\u001b[1;33m\u001b[0m\u001b[0m\n\u001b[1;32m--> 111\u001b[1;33m         \u001b[0mresult\u001b[0m \u001b[1;33m=\u001b[0m \u001b[0mImmediateResult\u001b[0m\u001b[1;33m(\u001b[0m\u001b[0mfunc\u001b[0m\u001b[1;33m)\u001b[0m\u001b[1;33m\u001b[0m\u001b[0m\n\u001b[0m\u001b[0;32m    112\u001b[0m         \u001b[1;32mif\u001b[0m \u001b[0mcallback\u001b[0m\u001b[1;33m:\u001b[0m\u001b[1;33m\u001b[0m\u001b[0m\n\u001b[0;32m    113\u001b[0m             \u001b[0mcallback\u001b[0m\u001b[1;33m(\u001b[0m\u001b[0mresult\u001b[0m\u001b[1;33m)\u001b[0m\u001b[1;33m\u001b[0m\u001b[0m\n",
      "\u001b[1;32mc:\\python36\\lib\\site-packages\\joblib\\_parallel_backends.py\u001b[0m in \u001b[0;36m__init__\u001b[1;34m(self, batch)\u001b[0m\n\u001b[0;32m    330\u001b[0m         \u001b[1;31m# Don't delay the application, to avoid keeping the input\u001b[0m\u001b[1;33m\u001b[0m\u001b[1;33m\u001b[0m\u001b[0m\n\u001b[0;32m    331\u001b[0m         \u001b[1;31m# arguments in memory\u001b[0m\u001b[1;33m\u001b[0m\u001b[1;33m\u001b[0m\u001b[0m\n\u001b[1;32m--> 332\u001b[1;33m         \u001b[0mself\u001b[0m\u001b[1;33m.\u001b[0m\u001b[0mresults\u001b[0m \u001b[1;33m=\u001b[0m \u001b[0mbatch\u001b[0m\u001b[1;33m(\u001b[0m\u001b[1;33m)\u001b[0m\u001b[1;33m\u001b[0m\u001b[0m\n\u001b[0m\u001b[0;32m    333\u001b[0m \u001b[1;33m\u001b[0m\u001b[0m\n\u001b[0;32m    334\u001b[0m     \u001b[1;32mdef\u001b[0m \u001b[0mget\u001b[0m\u001b[1;33m(\u001b[0m\u001b[0mself\u001b[0m\u001b[1;33m)\u001b[0m\u001b[1;33m:\u001b[0m\u001b[1;33m\u001b[0m\u001b[0m\n",
      "\u001b[1;32mc:\\python36\\lib\\site-packages\\joblib\\parallel.py\u001b[0m in \u001b[0;36m__call__\u001b[1;34m(self)\u001b[0m\n\u001b[0;32m    129\u001b[0m \u001b[1;33m\u001b[0m\u001b[0m\n\u001b[0;32m    130\u001b[0m     \u001b[1;32mdef\u001b[0m \u001b[0m__call__\u001b[0m\u001b[1;33m(\u001b[0m\u001b[0mself\u001b[0m\u001b[1;33m)\u001b[0m\u001b[1;33m:\u001b[0m\u001b[1;33m\u001b[0m\u001b[0m\n\u001b[1;32m--> 131\u001b[1;33m         \u001b[1;32mreturn\u001b[0m \u001b[1;33m[\u001b[0m\u001b[0mfunc\u001b[0m\u001b[1;33m(\u001b[0m\u001b[1;33m*\u001b[0m\u001b[0margs\u001b[0m\u001b[1;33m,\u001b[0m \u001b[1;33m**\u001b[0m\u001b[0mkwargs\u001b[0m\u001b[1;33m)\u001b[0m \u001b[1;32mfor\u001b[0m \u001b[0mfunc\u001b[0m\u001b[1;33m,\u001b[0m \u001b[0margs\u001b[0m\u001b[1;33m,\u001b[0m \u001b[0mkwargs\u001b[0m \u001b[1;32min\u001b[0m \u001b[0mself\u001b[0m\u001b[1;33m.\u001b[0m\u001b[0mitems\u001b[0m\u001b[1;33m]\u001b[0m\u001b[1;33m\u001b[0m\u001b[0m\n\u001b[0m\u001b[0;32m    132\u001b[0m \u001b[1;33m\u001b[0m\u001b[0m\n\u001b[0;32m    133\u001b[0m     \u001b[1;32mdef\u001b[0m \u001b[0m__len__\u001b[0m\u001b[1;33m(\u001b[0m\u001b[0mself\u001b[0m\u001b[1;33m)\u001b[0m\u001b[1;33m:\u001b[0m\u001b[1;33m\u001b[0m\u001b[0m\n",
      "\u001b[1;32mc:\\python36\\lib\\site-packages\\joblib\\parallel.py\u001b[0m in \u001b[0;36m<listcomp>\u001b[1;34m(.0)\u001b[0m\n\u001b[0;32m    129\u001b[0m \u001b[1;33m\u001b[0m\u001b[0m\n\u001b[0;32m    130\u001b[0m     \u001b[1;32mdef\u001b[0m \u001b[0m__call__\u001b[0m\u001b[1;33m(\u001b[0m\u001b[0mself\u001b[0m\u001b[1;33m)\u001b[0m\u001b[1;33m:\u001b[0m\u001b[1;33m\u001b[0m\u001b[0m\n\u001b[1;32m--> 131\u001b[1;33m         \u001b[1;32mreturn\u001b[0m \u001b[1;33m[\u001b[0m\u001b[0mfunc\u001b[0m\u001b[1;33m(\u001b[0m\u001b[1;33m*\u001b[0m\u001b[0margs\u001b[0m\u001b[1;33m,\u001b[0m \u001b[1;33m**\u001b[0m\u001b[0mkwargs\u001b[0m\u001b[1;33m)\u001b[0m \u001b[1;32mfor\u001b[0m \u001b[0mfunc\u001b[0m\u001b[1;33m,\u001b[0m \u001b[0margs\u001b[0m\u001b[1;33m,\u001b[0m \u001b[0mkwargs\u001b[0m \u001b[1;32min\u001b[0m \u001b[0mself\u001b[0m\u001b[1;33m.\u001b[0m\u001b[0mitems\u001b[0m\u001b[1;33m]\u001b[0m\u001b[1;33m\u001b[0m\u001b[0m\n\u001b[0m\u001b[0;32m    132\u001b[0m \u001b[1;33m\u001b[0m\u001b[0m\n\u001b[0;32m    133\u001b[0m     \u001b[1;32mdef\u001b[0m \u001b[0m__len__\u001b[0m\u001b[1;33m(\u001b[0m\u001b[0mself\u001b[0m\u001b[1;33m)\u001b[0m\u001b[1;33m:\u001b[0m\u001b[1;33m\u001b[0m\u001b[0m\n",
      "\u001b[1;32mc:\\python36\\lib\\site-packages\\sklearn\\multiclass.py\u001b[0m in \u001b[0;36m_fit_binary\u001b[1;34m(estimator, X, y, classes)\u001b[0m\n\u001b[0;32m     78\u001b[0m     \u001b[1;32melse\u001b[0m\u001b[1;33m:\u001b[0m\u001b[1;33m\u001b[0m\u001b[0m\n\u001b[0;32m     79\u001b[0m         \u001b[0mestimator\u001b[0m \u001b[1;33m=\u001b[0m \u001b[0mclone\u001b[0m\u001b[1;33m(\u001b[0m\u001b[0mestimator\u001b[0m\u001b[1;33m)\u001b[0m\u001b[1;33m\u001b[0m\u001b[0m\n\u001b[1;32m---> 80\u001b[1;33m         \u001b[0mestimator\u001b[0m\u001b[1;33m.\u001b[0m\u001b[0mfit\u001b[0m\u001b[1;33m(\u001b[0m\u001b[0mX\u001b[0m\u001b[1;33m,\u001b[0m \u001b[0my\u001b[0m\u001b[1;33m)\u001b[0m\u001b[1;33m\u001b[0m\u001b[0m\n\u001b[0m\u001b[0;32m     81\u001b[0m     \u001b[1;32mreturn\u001b[0m \u001b[0mestimator\u001b[0m\u001b[1;33m\u001b[0m\u001b[0m\n\u001b[0;32m     82\u001b[0m \u001b[1;33m\u001b[0m\u001b[0m\n",
      "\u001b[1;32mc:\\python36\\lib\\site-packages\\pystmm-0.1.0-py3.6.egg\\pystmm\\classifier.py\u001b[0m in \u001b[0;36mfit\u001b[1;34m(self, X, y)\u001b[0m\n\u001b[0;32m    371\u001b[0m \u001b[1;33m\u001b[0m\u001b[0m\n\u001b[0;32m    372\u001b[0m           \u001b[0mclf1\u001b[0m \u001b[1;33m=\u001b[0m \u001b[0mLinearSVC\u001b[0m\u001b[1;33m(\u001b[0m\u001b[0mC\u001b[0m\u001b[1;33m=\u001b[0m\u001b[0mself\u001b[0m\u001b[1;33m.\u001b[0m\u001b[0mC1\u001b[0m\u001b[1;33m,\u001b[0m \u001b[0mdual\u001b[0m\u001b[1;33m=\u001b[0m\u001b[0mself\u001b[0m\u001b[1;33m.\u001b[0m\u001b[0mdual\u001b[0m\u001b[1;33m,\u001b[0m \u001b[0mpenalty\u001b[0m\u001b[1;33m=\u001b[0m\u001b[0mself\u001b[0m\u001b[1;33m.\u001b[0m\u001b[0mpenalty\u001b[0m\u001b[1;33m,\u001b[0m \u001b[0mloss\u001b[0m\u001b[1;33m=\u001b[0m\u001b[0mself\u001b[0m\u001b[1;33m.\u001b[0m\u001b[0mloss\u001b[0m\u001b[1;33m,\u001b[0m \u001b[0mtol\u001b[0m\u001b[1;33m=\u001b[0m\u001b[0mself\u001b[0m\u001b[1;33m.\u001b[0m\u001b[0mtol\u001b[0m\u001b[1;33m,\u001b[0m \u001b[0mmax_iter\u001b[0m\u001b[1;33m=\u001b[0m\u001b[0mself\u001b[0m\u001b[1;33m.\u001b[0m\u001b[0mmaxIterSVM\u001b[0m\u001b[1;33m)\u001b[0m\u001b[1;33m\u001b[0m\u001b[0m\n\u001b[1;32m--> 373\u001b[1;33m           \u001b[0mclf1\u001b[0m\u001b[1;33m.\u001b[0m\u001b[0mfit\u001b[0m\u001b[1;33m(\u001b[0m\u001b[0mX_t\u001b[0m\u001b[1;33m,\u001b[0m \u001b[0my\u001b[0m\u001b[1;33m)\u001b[0m\u001b[1;33m\u001b[0m\u001b[0m\n\u001b[0m\u001b[0;32m    374\u001b[0m           \u001b[0mcoef_\u001b[0m \u001b[1;33m=\u001b[0m \u001b[0mclf1\u001b[0m\u001b[1;33m.\u001b[0m\u001b[0mcoef_\u001b[0m\u001b[1;33m\u001b[0m\u001b[0m\n\u001b[0;32m    375\u001b[0m           \u001b[0mintercept_\u001b[0m \u001b[1;33m=\u001b[0m \u001b[0mclf1\u001b[0m\u001b[1;33m.\u001b[0m\u001b[0mintercept_\u001b[0m\u001b[1;33m\u001b[0m\u001b[0m\n",
      "\u001b[1;32mc:\\python36\\lib\\site-packages\\sklearn\\svm\\classes.py\u001b[0m in \u001b[0;36mfit\u001b[1;34m(self, X, y, sample_weight)\u001b[0m\n\u001b[0;32m    235\u001b[0m             \u001b[0mself\u001b[0m\u001b[1;33m.\u001b[0m\u001b[0mclass_weight\u001b[0m\u001b[1;33m,\u001b[0m \u001b[0mself\u001b[0m\u001b[1;33m.\u001b[0m\u001b[0mpenalty\u001b[0m\u001b[1;33m,\u001b[0m \u001b[0mself\u001b[0m\u001b[1;33m.\u001b[0m\u001b[0mdual\u001b[0m\u001b[1;33m,\u001b[0m \u001b[0mself\u001b[0m\u001b[1;33m.\u001b[0m\u001b[0mverbose\u001b[0m\u001b[1;33m,\u001b[0m\u001b[1;33m\u001b[0m\u001b[0m\n\u001b[0;32m    236\u001b[0m             \u001b[0mself\u001b[0m\u001b[1;33m.\u001b[0m\u001b[0mmax_iter\u001b[0m\u001b[1;33m,\u001b[0m \u001b[0mself\u001b[0m\u001b[1;33m.\u001b[0m\u001b[0mtol\u001b[0m\u001b[1;33m,\u001b[0m \u001b[0mself\u001b[0m\u001b[1;33m.\u001b[0m\u001b[0mrandom_state\u001b[0m\u001b[1;33m,\u001b[0m \u001b[0mself\u001b[0m\u001b[1;33m.\u001b[0m\u001b[0mmulti_class\u001b[0m\u001b[1;33m,\u001b[0m\u001b[1;33m\u001b[0m\u001b[0m\n\u001b[1;32m--> 237\u001b[1;33m             self.loss, sample_weight=sample_weight)\n\u001b[0m\u001b[0;32m    238\u001b[0m \u001b[1;33m\u001b[0m\u001b[0m\n\u001b[0;32m    239\u001b[0m         \u001b[1;32mif\u001b[0m \u001b[0mself\u001b[0m\u001b[1;33m.\u001b[0m\u001b[0mmulti_class\u001b[0m \u001b[1;33m==\u001b[0m \u001b[1;34m\"crammer_singer\"\u001b[0m \u001b[1;32mand\u001b[0m \u001b[0mlen\u001b[0m\u001b[1;33m(\u001b[0m\u001b[0mself\u001b[0m\u001b[1;33m.\u001b[0m\u001b[0mclasses_\u001b[0m\u001b[1;33m)\u001b[0m \u001b[1;33m==\u001b[0m \u001b[1;36m2\u001b[0m\u001b[1;33m:\u001b[0m\u001b[1;33m\u001b[0m\u001b[0m\n",
      "\u001b[1;32mc:\\python36\\lib\\site-packages\\sklearn\\svm\\base.py\u001b[0m in \u001b[0;36m_fit_liblinear\u001b[1;34m(X, y, C, fit_intercept, intercept_scaling, class_weight, penalty, dual, verbose, max_iter, tol, random_state, multi_class, loss, epsilon, sample_weight)\u001b[0m\n\u001b[0;32m    919\u001b[0m         \u001b[0mX\u001b[0m\u001b[1;33m,\u001b[0m \u001b[0my_ind\u001b[0m\u001b[1;33m,\u001b[0m \u001b[0msp\u001b[0m\u001b[1;33m.\u001b[0m\u001b[0misspmatrix\u001b[0m\u001b[1;33m(\u001b[0m\u001b[0mX\u001b[0m\u001b[1;33m)\u001b[0m\u001b[1;33m,\u001b[0m \u001b[0msolver_type\u001b[0m\u001b[1;33m,\u001b[0m \u001b[0mtol\u001b[0m\u001b[1;33m,\u001b[0m \u001b[0mbias\u001b[0m\u001b[1;33m,\u001b[0m \u001b[0mC\u001b[0m\u001b[1;33m,\u001b[0m\u001b[1;33m\u001b[0m\u001b[0m\n\u001b[0;32m    920\u001b[0m         \u001b[0mclass_weight_\u001b[0m\u001b[1;33m,\u001b[0m \u001b[0mmax_iter\u001b[0m\u001b[1;33m,\u001b[0m \u001b[0mrnd\u001b[0m\u001b[1;33m.\u001b[0m\u001b[0mrandint\u001b[0m\u001b[1;33m(\u001b[0m\u001b[0mnp\u001b[0m\u001b[1;33m.\u001b[0m\u001b[0miinfo\u001b[0m\u001b[1;33m(\u001b[0m\u001b[1;34m'i'\u001b[0m\u001b[1;33m)\u001b[0m\u001b[1;33m.\u001b[0m\u001b[0mmax\u001b[0m\u001b[1;33m)\u001b[0m\u001b[1;33m,\u001b[0m\u001b[1;33m\u001b[0m\u001b[0m\n\u001b[1;32m--> 921\u001b[1;33m         epsilon, sample_weight)\n\u001b[0m\u001b[0;32m    922\u001b[0m     \u001b[1;31m# Regarding rnd.randint(..) in the above signature:\u001b[0m\u001b[1;33m\u001b[0m\u001b[1;33m\u001b[0m\u001b[0m\n\u001b[0;32m    923\u001b[0m     \u001b[1;31m# seed for srand in range [0..INT_MAX); due to limitations in Numpy\u001b[0m\u001b[1;33m\u001b[0m\u001b[1;33m\u001b[0m\u001b[0m\n",
      "\u001b[1;31mKeyboardInterrupt\u001b[0m: "
     ]
    }
   ],
   "source": [
    "scores = cross_val_score(clf_multi, X, y, cv=cv, n_jobs=1)\n",
    "print(scores)"
   ]
  },
  {
   "cell_type": "code",
   "execution_count": 37,
   "metadata": {},
   "outputs": [
    {
     "data": {
      "text/plain": [
       "(0.5522727272727274, 0.07541209101380482)"
      ]
     },
     "execution_count": 37,
     "metadata": {},
     "output_type": "execute_result"
    }
   ],
   "source": [
    "np.mean(scores), np.std(scores)"
   ]
  },
  {
   "cell_type": "code",
   "execution_count": 33,
   "metadata": {
    "colab": {
     "base_uri": "https://localhost:8080/"
    },
    "id": "C8orgy_RwM8Y",
    "outputId": "6b89618a-abf4-46b7-f2b3-b6f56810f16d"
   },
   "outputs": [
    {
     "name": "stdout",
     "output_type": "stream",
     "text": [
      "172 44\n",
      "172 44\n",
      "172 44\n",
      "172 44\n",
      "172 44\n",
      "172 44\n",
      "172 44\n",
      "172 44\n",
      "172 44\n",
      "172 44\n"
     ]
    }
   ],
   "source": [
    "for i,j in cv_split:\n",
    "    print(len(i),len(j))"
   ]
  },
  {
   "cell_type": "code",
   "execution_count": 34,
   "metadata": {
    "id": "fGLnnfNnvhZm"
   },
   "outputs": [],
   "source": []
  },
  {
   "cell_type": "code",
   "execution_count": 84,
   "metadata": {
    "colab": {
     "base_uri": "https://localhost:8080/"
    },
    "id": "QrKtTxGkvw6-",
    "outputId": "2fe4a860-2260-4fb2-c312-732f5fc6bf62"
   },
   "outputs": [],
   "source": [
    "from spectrum import *\n",
    "from scipy import fft\n",
    "N=500\n",
    "dt=2*10**-3\n",
    "# Creating a signal with 2 sinus waves.\n",
    "x = np.linspace(0.0, N*dt, N)\n",
    "y = np.sin(50.0 * 2.0*np.pi*x) + 0.5*np.sin(80.0 * 2.0*np.pi*x)\n",
    "\n",
    "# classical FFT\n",
    "yf = fft(y)\n",
    "xf = np.linspace(0.0, 1.0/(2.0*dt), N//2)\n",
    "\n",
    "# The multitapered method\n",
    "NW=2.5\n",
    "k=4\n",
    "[tapers, eigen] = dpss(N, NW, k)\n",
    "Sk_complex, weights, eigenvalues=pmtm(y, e=eigen, v=tapers, NFFT=N, show=False)\n",
    "\n",
    "Sk = abs(Sk_complex)**2\n",
    "Sk = np.mean(Sk * np.transpose(weights), axis=0) * dt"
   ]
  },
  {
   "cell_type": "code",
   "execution_count": 85,
   "metadata": {},
   "outputs": [
    {
     "data": {
      "text/plain": [
       "((500,), (500,))"
      ]
     },
     "execution_count": 85,
     "metadata": {},
     "output_type": "execute_result"
    }
   ],
   "source": [
    "x.shape, Sk.shape"
   ]
  }
 ],
 "metadata": {
  "colab": {
   "collapsed_sections": [],
   "name": "Single Trial EEG Classification using STM.ipynb",
   "provenance": []
  },
  "kernelspec": {
   "display_name": "Python 3",
   "language": "python",
   "name": "python3"
  },
  "language_info": {
   "codemirror_mode": {
    "name": "ipython",
    "version": 3
   },
   "file_extension": ".py",
   "mimetype": "text/x-python",
   "name": "python",
   "nbconvert_exporter": "python",
   "pygments_lexer": "ipython3",
   "version": "3.6.3"
  }
 },
 "nbformat": 4,
 "nbformat_minor": 1
}
